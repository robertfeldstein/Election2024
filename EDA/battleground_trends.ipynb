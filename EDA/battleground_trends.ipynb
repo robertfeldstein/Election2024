{
 "cells": [
  {
   "cell_type": "code",
   "execution_count": 1,
   "metadata": {},
   "outputs": [],
   "source": [
    "import pandas as pd\n",
    "import numpy as np\n",
    "import matplotlib.pyplot as plt\n",
    "import plotly.express as px\n",
    "import warnings\n",
    "warnings.simplefilter(action='ignore', category=FutureWarning)\n",
    "import time"
   ]
  },
  {
   "cell_type": "markdown",
   "metadata": {},
   "source": [
    "## Swing States\n",
    "\n",
    "- Pennsylvania\n",
    "- Michigan\n",
    "- Wisconsin\n",
    "- Georgia\n",
    "- Arizona\n",
    "- North Carolina\n",
    "- Nevada"
   ]
  },
  {
   "cell_type": "code",
   "execution_count": 2,
   "metadata": {},
   "outputs": [
    {
     "data": {
      "text/html": [
       "<div>\n",
       "<style scoped>\n",
       "    .dataframe tbody tr th:only-of-type {\n",
       "        vertical-align: middle;\n",
       "    }\n",
       "\n",
       "    .dataframe tbody tr th {\n",
       "        vertical-align: top;\n",
       "    }\n",
       "\n",
       "    .dataframe thead th {\n",
       "        text-align: right;\n",
       "    }\n",
       "</style>\n",
       "<table border=\"1\" class=\"dataframe\">\n",
       "  <thead>\n",
       "    <tr style=\"text-align: right;\">\n",
       "      <th></th>\n",
       "      <th>poll_id</th>\n",
       "      <th>pollster_id</th>\n",
       "      <th>pollster</th>\n",
       "      <th>sponsor_ids</th>\n",
       "      <th>sponsors</th>\n",
       "      <th>display_name</th>\n",
       "      <th>pollster_rating_id</th>\n",
       "      <th>pollster_rating_name</th>\n",
       "      <th>numeric_grade</th>\n",
       "      <th>pollscore</th>\n",
       "      <th>methodology</th>\n",
       "      <th>transparency_score</th>\n",
       "      <th>state</th>\n",
       "      <th>start_date</th>\n",
       "      <th>end_date</th>\n",
       "      <th>sponsor_candidate_id</th>\n",
       "      <th>sponsor_candidate</th>\n",
       "      <th>sponsor_candidate_party</th>\n",
       "      <th>endorsed_candidate_id</th>\n",
       "      <th>endorsed_candidate_name</th>\n",
       "      <th>endorsed_candidate_party</th>\n",
       "      <th>question_id</th>\n",
       "      <th>sample_size</th>\n",
       "      <th>population</th>\n",
       "      <th>subpopulation</th>\n",
       "      <th>population_full</th>\n",
       "      <th>tracking</th>\n",
       "      <th>created_at</th>\n",
       "      <th>notes</th>\n",
       "      <th>url</th>\n",
       "      <th>source</th>\n",
       "      <th>internal</th>\n",
       "      <th>partisan</th>\n",
       "      <th>race_id</th>\n",
       "      <th>cycle</th>\n",
       "      <th>office_type</th>\n",
       "      <th>seat_number</th>\n",
       "      <th>seat_name</th>\n",
       "      <th>election_date</th>\n",
       "      <th>stage</th>\n",
       "      <th>nationwide_batch</th>\n",
       "      <th>ranked_choice_reallocated</th>\n",
       "      <th>ranked_choice_round</th>\n",
       "      <th>party</th>\n",
       "      <th>answer</th>\n",
       "      <th>candidate_id</th>\n",
       "      <th>candidate_name</th>\n",
       "      <th>pct</th>\n",
       "    </tr>\n",
       "  </thead>\n",
       "  <tbody>\n",
       "    <tr>\n",
       "      <th>0</th>\n",
       "      <td>86717</td>\n",
       "      <td>568</td>\n",
       "      <td>YouGov</td>\n",
       "      <td>352</td>\n",
       "      <td>Economist</td>\n",
       "      <td>YouGov</td>\n",
       "      <td>391</td>\n",
       "      <td>YouGov</td>\n",
       "      <td>2.9</td>\n",
       "      <td>-1.1</td>\n",
       "      <td>Online Panel</td>\n",
       "      <td>9.0</td>\n",
       "      <td>NaN</td>\n",
       "      <td>4/21/24</td>\n",
       "      <td>4/23/24</td>\n",
       "      <td>NaN</td>\n",
       "      <td>NaN</td>\n",
       "      <td>NaN</td>\n",
       "      <td>NaN</td>\n",
       "      <td>NaN</td>\n",
       "      <td>NaN</td>\n",
       "      <td>197224</td>\n",
       "      <td>1470.0</td>\n",
       "      <td>rv</td>\n",
       "      <td>NaN</td>\n",
       "      <td>rv</td>\n",
       "      <td>NaN</td>\n",
       "      <td>4/24/24 11:10</td>\n",
       "      <td>NaN</td>\n",
       "      <td>https://d3nkl3psvxxpe9.cloudfront.net/document...</td>\n",
       "      <td>NaN</td>\n",
       "      <td>NaN</td>\n",
       "      <td>NaN</td>\n",
       "      <td>8914</td>\n",
       "      <td>2024</td>\n",
       "      <td>U.S. President</td>\n",
       "      <td>0</td>\n",
       "      <td>NaN</td>\n",
       "      <td>11/5/24</td>\n",
       "      <td>general</td>\n",
       "      <td>False</td>\n",
       "      <td>False</td>\n",
       "      <td>NaN</td>\n",
       "      <td>DEM</td>\n",
       "      <td>Biden</td>\n",
       "      <td>19368</td>\n",
       "      <td>Joe Biden</td>\n",
       "      <td>43.0</td>\n",
       "    </tr>\n",
       "    <tr>\n",
       "      <th>1</th>\n",
       "      <td>86717</td>\n",
       "      <td>568</td>\n",
       "      <td>YouGov</td>\n",
       "      <td>352</td>\n",
       "      <td>Economist</td>\n",
       "      <td>YouGov</td>\n",
       "      <td>391</td>\n",
       "      <td>YouGov</td>\n",
       "      <td>2.9</td>\n",
       "      <td>-1.1</td>\n",
       "      <td>Online Panel</td>\n",
       "      <td>9.0</td>\n",
       "      <td>NaN</td>\n",
       "      <td>4/21/24</td>\n",
       "      <td>4/23/24</td>\n",
       "      <td>NaN</td>\n",
       "      <td>NaN</td>\n",
       "      <td>NaN</td>\n",
       "      <td>NaN</td>\n",
       "      <td>NaN</td>\n",
       "      <td>NaN</td>\n",
       "      <td>197224</td>\n",
       "      <td>1470.0</td>\n",
       "      <td>rv</td>\n",
       "      <td>NaN</td>\n",
       "      <td>rv</td>\n",
       "      <td>NaN</td>\n",
       "      <td>4/24/24 11:10</td>\n",
       "      <td>NaN</td>\n",
       "      <td>https://d3nkl3psvxxpe9.cloudfront.net/document...</td>\n",
       "      <td>NaN</td>\n",
       "      <td>NaN</td>\n",
       "      <td>NaN</td>\n",
       "      <td>8914</td>\n",
       "      <td>2024</td>\n",
       "      <td>U.S. President</td>\n",
       "      <td>0</td>\n",
       "      <td>NaN</td>\n",
       "      <td>11/5/24</td>\n",
       "      <td>general</td>\n",
       "      <td>False</td>\n",
       "      <td>False</td>\n",
       "      <td>NaN</td>\n",
       "      <td>REP</td>\n",
       "      <td>Trump</td>\n",
       "      <td>16651</td>\n",
       "      <td>Donald Trump</td>\n",
       "      <td>43.0</td>\n",
       "    </tr>\n",
       "    <tr>\n",
       "      <th>2</th>\n",
       "      <td>86717</td>\n",
       "      <td>568</td>\n",
       "      <td>YouGov</td>\n",
       "      <td>352</td>\n",
       "      <td>Economist</td>\n",
       "      <td>YouGov</td>\n",
       "      <td>391</td>\n",
       "      <td>YouGov</td>\n",
       "      <td>2.9</td>\n",
       "      <td>-1.1</td>\n",
       "      <td>Online Panel</td>\n",
       "      <td>9.0</td>\n",
       "      <td>NaN</td>\n",
       "      <td>4/21/24</td>\n",
       "      <td>4/23/24</td>\n",
       "      <td>NaN</td>\n",
       "      <td>NaN</td>\n",
       "      <td>NaN</td>\n",
       "      <td>NaN</td>\n",
       "      <td>NaN</td>\n",
       "      <td>NaN</td>\n",
       "      <td>197224</td>\n",
       "      <td>1470.0</td>\n",
       "      <td>rv</td>\n",
       "      <td>NaN</td>\n",
       "      <td>rv</td>\n",
       "      <td>NaN</td>\n",
       "      <td>4/24/24 11:10</td>\n",
       "      <td>NaN</td>\n",
       "      <td>https://d3nkl3psvxxpe9.cloudfront.net/document...</td>\n",
       "      <td>NaN</td>\n",
       "      <td>NaN</td>\n",
       "      <td>NaN</td>\n",
       "      <td>8914</td>\n",
       "      <td>2024</td>\n",
       "      <td>U.S. President</td>\n",
       "      <td>0</td>\n",
       "      <td>NaN</td>\n",
       "      <td>11/5/24</td>\n",
       "      <td>general</td>\n",
       "      <td>False</td>\n",
       "      <td>False</td>\n",
       "      <td>NaN</td>\n",
       "      <td>IND</td>\n",
       "      <td>Kennedy</td>\n",
       "      <td>31042</td>\n",
       "      <td>Robert F. Kennedy</td>\n",
       "      <td>3.0</td>\n",
       "    </tr>\n",
       "    <tr>\n",
       "      <th>3</th>\n",
       "      <td>86717</td>\n",
       "      <td>568</td>\n",
       "      <td>YouGov</td>\n",
       "      <td>352</td>\n",
       "      <td>Economist</td>\n",
       "      <td>YouGov</td>\n",
       "      <td>391</td>\n",
       "      <td>YouGov</td>\n",
       "      <td>2.9</td>\n",
       "      <td>-1.1</td>\n",
       "      <td>Online Panel</td>\n",
       "      <td>9.0</td>\n",
       "      <td>NaN</td>\n",
       "      <td>4/21/24</td>\n",
       "      <td>4/23/24</td>\n",
       "      <td>NaN</td>\n",
       "      <td>NaN</td>\n",
       "      <td>NaN</td>\n",
       "      <td>NaN</td>\n",
       "      <td>NaN</td>\n",
       "      <td>NaN</td>\n",
       "      <td>197224</td>\n",
       "      <td>1470.0</td>\n",
       "      <td>rv</td>\n",
       "      <td>NaN</td>\n",
       "      <td>rv</td>\n",
       "      <td>NaN</td>\n",
       "      <td>4/24/24 11:10</td>\n",
       "      <td>NaN</td>\n",
       "      <td>https://d3nkl3psvxxpe9.cloudfront.net/document...</td>\n",
       "      <td>NaN</td>\n",
       "      <td>NaN</td>\n",
       "      <td>NaN</td>\n",
       "      <td>8914</td>\n",
       "      <td>2024</td>\n",
       "      <td>U.S. President</td>\n",
       "      <td>0</td>\n",
       "      <td>NaN</td>\n",
       "      <td>11/5/24</td>\n",
       "      <td>general</td>\n",
       "      <td>False</td>\n",
       "      <td>False</td>\n",
       "      <td>NaN</td>\n",
       "      <td>IND</td>\n",
       "      <td>West</td>\n",
       "      <td>31097</td>\n",
       "      <td>Cornel West</td>\n",
       "      <td>0.0</td>\n",
       "    </tr>\n",
       "    <tr>\n",
       "      <th>4</th>\n",
       "      <td>86717</td>\n",
       "      <td>568</td>\n",
       "      <td>YouGov</td>\n",
       "      <td>352</td>\n",
       "      <td>Economist</td>\n",
       "      <td>YouGov</td>\n",
       "      <td>391</td>\n",
       "      <td>YouGov</td>\n",
       "      <td>2.9</td>\n",
       "      <td>-1.1</td>\n",
       "      <td>Online Panel</td>\n",
       "      <td>9.0</td>\n",
       "      <td>NaN</td>\n",
       "      <td>4/21/24</td>\n",
       "      <td>4/23/24</td>\n",
       "      <td>NaN</td>\n",
       "      <td>NaN</td>\n",
       "      <td>NaN</td>\n",
       "      <td>NaN</td>\n",
       "      <td>NaN</td>\n",
       "      <td>NaN</td>\n",
       "      <td>197224</td>\n",
       "      <td>1470.0</td>\n",
       "      <td>rv</td>\n",
       "      <td>NaN</td>\n",
       "      <td>rv</td>\n",
       "      <td>NaN</td>\n",
       "      <td>4/24/24 11:10</td>\n",
       "      <td>NaN</td>\n",
       "      <td>https://d3nkl3psvxxpe9.cloudfront.net/document...</td>\n",
       "      <td>NaN</td>\n",
       "      <td>NaN</td>\n",
       "      <td>NaN</td>\n",
       "      <td>8914</td>\n",
       "      <td>2024</td>\n",
       "      <td>U.S. President</td>\n",
       "      <td>0</td>\n",
       "      <td>NaN</td>\n",
       "      <td>11/5/24</td>\n",
       "      <td>general</td>\n",
       "      <td>False</td>\n",
       "      <td>False</td>\n",
       "      <td>NaN</td>\n",
       "      <td>GRE</td>\n",
       "      <td>Stein</td>\n",
       "      <td>31116</td>\n",
       "      <td>Jill Stein</td>\n",
       "      <td>0.0</td>\n",
       "    </tr>\n",
       "  </tbody>\n",
       "</table>\n",
       "</div>"
      ],
      "text/plain": [
       "   poll_id  pollster_id pollster sponsor_ids   sponsors display_name  \\\n",
       "0    86717          568   YouGov         352  Economist       YouGov   \n",
       "1    86717          568   YouGov         352  Economist       YouGov   \n",
       "2    86717          568   YouGov         352  Economist       YouGov   \n",
       "3    86717          568   YouGov         352  Economist       YouGov   \n",
       "4    86717          568   YouGov         352  Economist       YouGov   \n",
       "\n",
       "   pollster_rating_id pollster_rating_name  numeric_grade  pollscore  \\\n",
       "0                 391               YouGov            2.9       -1.1   \n",
       "1                 391               YouGov            2.9       -1.1   \n",
       "2                 391               YouGov            2.9       -1.1   \n",
       "3                 391               YouGov            2.9       -1.1   \n",
       "4                 391               YouGov            2.9       -1.1   \n",
       "\n",
       "    methodology  transparency_score state start_date end_date  \\\n",
       "0  Online Panel                 9.0   NaN    4/21/24  4/23/24   \n",
       "1  Online Panel                 9.0   NaN    4/21/24  4/23/24   \n",
       "2  Online Panel                 9.0   NaN    4/21/24  4/23/24   \n",
       "3  Online Panel                 9.0   NaN    4/21/24  4/23/24   \n",
       "4  Online Panel                 9.0   NaN    4/21/24  4/23/24   \n",
       "\n",
       "   sponsor_candidate_id sponsor_candidate sponsor_candidate_party  \\\n",
       "0                   NaN               NaN                     NaN   \n",
       "1                   NaN               NaN                     NaN   \n",
       "2                   NaN               NaN                     NaN   \n",
       "3                   NaN               NaN                     NaN   \n",
       "4                   NaN               NaN                     NaN   \n",
       "\n",
       "   endorsed_candidate_id  endorsed_candidate_name  endorsed_candidate_party  \\\n",
       "0                    NaN                      NaN                       NaN   \n",
       "1                    NaN                      NaN                       NaN   \n",
       "2                    NaN                      NaN                       NaN   \n",
       "3                    NaN                      NaN                       NaN   \n",
       "4                    NaN                      NaN                       NaN   \n",
       "\n",
       "   question_id  sample_size population  subpopulation population_full  \\\n",
       "0       197224       1470.0         rv            NaN              rv   \n",
       "1       197224       1470.0         rv            NaN              rv   \n",
       "2       197224       1470.0         rv            NaN              rv   \n",
       "3       197224       1470.0         rv            NaN              rv   \n",
       "4       197224       1470.0         rv            NaN              rv   \n",
       "\n",
       "  tracking     created_at notes  \\\n",
       "0      NaN  4/24/24 11:10   NaN   \n",
       "1      NaN  4/24/24 11:10   NaN   \n",
       "2      NaN  4/24/24 11:10   NaN   \n",
       "3      NaN  4/24/24 11:10   NaN   \n",
       "4      NaN  4/24/24 11:10   NaN   \n",
       "\n",
       "                                                 url  source internal  \\\n",
       "0  https://d3nkl3psvxxpe9.cloudfront.net/document...     NaN      NaN   \n",
       "1  https://d3nkl3psvxxpe9.cloudfront.net/document...     NaN      NaN   \n",
       "2  https://d3nkl3psvxxpe9.cloudfront.net/document...     NaN      NaN   \n",
       "3  https://d3nkl3psvxxpe9.cloudfront.net/document...     NaN      NaN   \n",
       "4  https://d3nkl3psvxxpe9.cloudfront.net/document...     NaN      NaN   \n",
       "\n",
       "  partisan  race_id  cycle     office_type  seat_number  seat_name  \\\n",
       "0      NaN     8914   2024  U.S. President            0        NaN   \n",
       "1      NaN     8914   2024  U.S. President            0        NaN   \n",
       "2      NaN     8914   2024  U.S. President            0        NaN   \n",
       "3      NaN     8914   2024  U.S. President            0        NaN   \n",
       "4      NaN     8914   2024  U.S. President            0        NaN   \n",
       "\n",
       "  election_date    stage  nationwide_batch  ranked_choice_reallocated  \\\n",
       "0       11/5/24  general             False                      False   \n",
       "1       11/5/24  general             False                      False   \n",
       "2       11/5/24  general             False                      False   \n",
       "3       11/5/24  general             False                      False   \n",
       "4       11/5/24  general             False                      False   \n",
       "\n",
       "   ranked_choice_round party   answer  candidate_id     candidate_name   pct  \n",
       "0                  NaN   DEM    Biden         19368          Joe Biden  43.0  \n",
       "1                  NaN   REP    Trump         16651       Donald Trump  43.0  \n",
       "2                  NaN   IND  Kennedy         31042  Robert F. Kennedy   3.0  \n",
       "3                  NaN   IND     West         31097        Cornel West   0.0  \n",
       "4                  NaN   GRE    Stein         31116         Jill Stein   0.0  "
      ]
     },
     "execution_count": 2,
     "metadata": {},
     "output_type": "execute_result"
    }
   ],
   "source": [
    "# Load the most recent 538 Data\n",
    "\n",
    "df = pd.read_csv(\"https://projects.fivethirtyeight.com/polls/data/president_polls.csv\")\n",
    "pd.set_option(\"display.max_columns\", None)\n",
    "df.head()\n",
    "\n"
   ]
  },
  {
   "cell_type": "code",
   "execution_count": 3,
   "metadata": {},
   "outputs": [
    {
     "data": {
      "text/html": [
       "<div>\n",
       "<style scoped>\n",
       "    .dataframe tbody tr th:only-of-type {\n",
       "        vertical-align: middle;\n",
       "    }\n",
       "\n",
       "    .dataframe tbody tr th {\n",
       "        vertical-align: top;\n",
       "    }\n",
       "\n",
       "    .dataframe thead th {\n",
       "        text-align: right;\n",
       "    }\n",
       "</style>\n",
       "<table border=\"1\" class=\"dataframe\">\n",
       "  <thead>\n",
       "    <tr style=\"text-align: right;\">\n",
       "      <th></th>\n",
       "      <th>poll_id</th>\n",
       "      <th>pollster_id</th>\n",
       "      <th>pollster</th>\n",
       "      <th>sponsor_ids</th>\n",
       "      <th>sponsors</th>\n",
       "      <th>display_name</th>\n",
       "      <th>pollster_rating_id</th>\n",
       "      <th>pollster_rating_name</th>\n",
       "      <th>numeric_grade</th>\n",
       "      <th>pollscore</th>\n",
       "      <th>methodology</th>\n",
       "      <th>transparency_score</th>\n",
       "      <th>state</th>\n",
       "      <th>start_date</th>\n",
       "      <th>end_date</th>\n",
       "      <th>sponsor_candidate_id</th>\n",
       "      <th>sponsor_candidate</th>\n",
       "      <th>sponsor_candidate_party</th>\n",
       "      <th>endorsed_candidate_id</th>\n",
       "      <th>endorsed_candidate_name</th>\n",
       "      <th>endorsed_candidate_party</th>\n",
       "      <th>question_id</th>\n",
       "      <th>sample_size</th>\n",
       "      <th>population</th>\n",
       "      <th>subpopulation</th>\n",
       "      <th>population_full</th>\n",
       "      <th>tracking</th>\n",
       "      <th>created_at</th>\n",
       "      <th>notes</th>\n",
       "      <th>url</th>\n",
       "      <th>source</th>\n",
       "      <th>internal</th>\n",
       "      <th>partisan</th>\n",
       "      <th>race_id</th>\n",
       "      <th>cycle</th>\n",
       "      <th>office_type</th>\n",
       "      <th>seat_number</th>\n",
       "      <th>seat_name</th>\n",
       "      <th>election_date</th>\n",
       "      <th>stage</th>\n",
       "      <th>nationwide_batch</th>\n",
       "      <th>ranked_choice_reallocated</th>\n",
       "      <th>ranked_choice_round</th>\n",
       "      <th>party</th>\n",
       "      <th>answer</th>\n",
       "      <th>candidate_id</th>\n",
       "      <th>candidate_name</th>\n",
       "      <th>pct</th>\n",
       "    </tr>\n",
       "  </thead>\n",
       "  <tbody>\n",
       "    <tr>\n",
       "      <th>16</th>\n",
       "      <td>86734</td>\n",
       "      <td>1714</td>\n",
       "      <td>Kaplan Strategies</td>\n",
       "      <td>NaN</td>\n",
       "      <td>NaN</td>\n",
       "      <td>Kaplan Strategies</td>\n",
       "      <td>124</td>\n",
       "      <td>Kaplan Strategies</td>\n",
       "      <td>2.0</td>\n",
       "      <td>-0.9</td>\n",
       "      <td>Online Panel/Text-to-Web</td>\n",
       "      <td>4.5</td>\n",
       "      <td>Pennsylvania</td>\n",
       "      <td>4/20/24</td>\n",
       "      <td>4/21/24</td>\n",
       "      <td>NaN</td>\n",
       "      <td>NaN</td>\n",
       "      <td>NaN</td>\n",
       "      <td>NaN</td>\n",
       "      <td>NaN</td>\n",
       "      <td>NaN</td>\n",
       "      <td>197394</td>\n",
       "      <td>802.0</td>\n",
       "      <td>rv</td>\n",
       "      <td>NaN</td>\n",
       "      <td>rv</td>\n",
       "      <td>NaN</td>\n",
       "      <td>4/26/24 09:30</td>\n",
       "      <td>NaN</td>\n",
       "      <td>https://kaplanstrategies.com/2024/04/26/1450/</td>\n",
       "      <td>NaN</td>\n",
       "      <td>NaN</td>\n",
       "      <td>NaN</td>\n",
       "      <td>8872</td>\n",
       "      <td>2024</td>\n",
       "      <td>U.S. President</td>\n",
       "      <td>0</td>\n",
       "      <td>NaN</td>\n",
       "      <td>11/5/24</td>\n",
       "      <td>general</td>\n",
       "      <td>False</td>\n",
       "      <td>False</td>\n",
       "      <td>NaN</td>\n",
       "      <td>DEM</td>\n",
       "      <td>Biden</td>\n",
       "      <td>19368</td>\n",
       "      <td>Joe Biden</td>\n",
       "      <td>41.0</td>\n",
       "    </tr>\n",
       "    <tr>\n",
       "      <th>17</th>\n",
       "      <td>86734</td>\n",
       "      <td>1714</td>\n",
       "      <td>Kaplan Strategies</td>\n",
       "      <td>NaN</td>\n",
       "      <td>NaN</td>\n",
       "      <td>Kaplan Strategies</td>\n",
       "      <td>124</td>\n",
       "      <td>Kaplan Strategies</td>\n",
       "      <td>2.0</td>\n",
       "      <td>-0.9</td>\n",
       "      <td>Online Panel/Text-to-Web</td>\n",
       "      <td>4.5</td>\n",
       "      <td>Pennsylvania</td>\n",
       "      <td>4/20/24</td>\n",
       "      <td>4/21/24</td>\n",
       "      <td>NaN</td>\n",
       "      <td>NaN</td>\n",
       "      <td>NaN</td>\n",
       "      <td>NaN</td>\n",
       "      <td>NaN</td>\n",
       "      <td>NaN</td>\n",
       "      <td>197394</td>\n",
       "      <td>802.0</td>\n",
       "      <td>rv</td>\n",
       "      <td>NaN</td>\n",
       "      <td>rv</td>\n",
       "      <td>NaN</td>\n",
       "      <td>4/26/24 09:30</td>\n",
       "      <td>NaN</td>\n",
       "      <td>https://kaplanstrategies.com/2024/04/26/1450/</td>\n",
       "      <td>NaN</td>\n",
       "      <td>NaN</td>\n",
       "      <td>NaN</td>\n",
       "      <td>8872</td>\n",
       "      <td>2024</td>\n",
       "      <td>U.S. President</td>\n",
       "      <td>0</td>\n",
       "      <td>NaN</td>\n",
       "      <td>11/5/24</td>\n",
       "      <td>general</td>\n",
       "      <td>False</td>\n",
       "      <td>False</td>\n",
       "      <td>NaN</td>\n",
       "      <td>REP</td>\n",
       "      <td>Trump</td>\n",
       "      <td>16651</td>\n",
       "      <td>Donald Trump</td>\n",
       "      <td>46.0</td>\n",
       "    </tr>\n",
       "    <tr>\n",
       "      <th>96</th>\n",
       "      <td>86690</td>\n",
       "      <td>1597</td>\n",
       "      <td>Beacon/Shaw</td>\n",
       "      <td>149</td>\n",
       "      <td>FOX News</td>\n",
       "      <td>Beacon Research/Shaw &amp; Company Research</td>\n",
       "      <td>103</td>\n",
       "      <td>Beacon Research/Shaw &amp; Co. Research</td>\n",
       "      <td>2.8</td>\n",
       "      <td>-1.1</td>\n",
       "      <td>Live Phone/Text-to-Web</td>\n",
       "      <td>6.0</td>\n",
       "      <td>Pennsylvania</td>\n",
       "      <td>4/11/24</td>\n",
       "      <td>4/16/24</td>\n",
       "      <td>NaN</td>\n",
       "      <td>NaN</td>\n",
       "      <td>NaN</td>\n",
       "      <td>NaN</td>\n",
       "      <td>NaN</td>\n",
       "      <td>NaN</td>\n",
       "      <td>196934</td>\n",
       "      <td>1141.0</td>\n",
       "      <td>rv</td>\n",
       "      <td>NaN</td>\n",
       "      <td>rv</td>\n",
       "      <td>NaN</td>\n",
       "      <td>4/18/24 20:54</td>\n",
       "      <td>NaN</td>\n",
       "      <td>https://www.foxnews.com/official-polls/fox-new...</td>\n",
       "      <td>NaN</td>\n",
       "      <td>NaN</td>\n",
       "      <td>NaN</td>\n",
       "      <td>8872</td>\n",
       "      <td>2024</td>\n",
       "      <td>U.S. President</td>\n",
       "      <td>0</td>\n",
       "      <td>NaN</td>\n",
       "      <td>11/5/24</td>\n",
       "      <td>general</td>\n",
       "      <td>False</td>\n",
       "      <td>False</td>\n",
       "      <td>NaN</td>\n",
       "      <td>DEM</td>\n",
       "      <td>Biden</td>\n",
       "      <td>19368</td>\n",
       "      <td>Joe Biden</td>\n",
       "      <td>42.0</td>\n",
       "    </tr>\n",
       "    <tr>\n",
       "      <th>97</th>\n",
       "      <td>86690</td>\n",
       "      <td>1597</td>\n",
       "      <td>Beacon/Shaw</td>\n",
       "      <td>149</td>\n",
       "      <td>FOX News</td>\n",
       "      <td>Beacon Research/Shaw &amp; Company Research</td>\n",
       "      <td>103</td>\n",
       "      <td>Beacon Research/Shaw &amp; Co. Research</td>\n",
       "      <td>2.8</td>\n",
       "      <td>-1.1</td>\n",
       "      <td>Live Phone/Text-to-Web</td>\n",
       "      <td>6.0</td>\n",
       "      <td>Pennsylvania</td>\n",
       "      <td>4/11/24</td>\n",
       "      <td>4/16/24</td>\n",
       "      <td>NaN</td>\n",
       "      <td>NaN</td>\n",
       "      <td>NaN</td>\n",
       "      <td>NaN</td>\n",
       "      <td>NaN</td>\n",
       "      <td>NaN</td>\n",
       "      <td>196934</td>\n",
       "      <td>1141.0</td>\n",
       "      <td>rv</td>\n",
       "      <td>NaN</td>\n",
       "      <td>rv</td>\n",
       "      <td>NaN</td>\n",
       "      <td>4/18/24 20:54</td>\n",
       "      <td>NaN</td>\n",
       "      <td>https://www.foxnews.com/official-polls/fox-new...</td>\n",
       "      <td>NaN</td>\n",
       "      <td>NaN</td>\n",
       "      <td>NaN</td>\n",
       "      <td>8872</td>\n",
       "      <td>2024</td>\n",
       "      <td>U.S. President</td>\n",
       "      <td>0</td>\n",
       "      <td>NaN</td>\n",
       "      <td>11/5/24</td>\n",
       "      <td>general</td>\n",
       "      <td>False</td>\n",
       "      <td>False</td>\n",
       "      <td>NaN</td>\n",
       "      <td>REP</td>\n",
       "      <td>Trump</td>\n",
       "      <td>16651</td>\n",
       "      <td>Donald Trump</td>\n",
       "      <td>44.0</td>\n",
       "    </tr>\n",
       "    <tr>\n",
       "      <th>98</th>\n",
       "      <td>86690</td>\n",
       "      <td>1597</td>\n",
       "      <td>Beacon/Shaw</td>\n",
       "      <td>149</td>\n",
       "      <td>FOX News</td>\n",
       "      <td>Beacon Research/Shaw &amp; Company Research</td>\n",
       "      <td>103</td>\n",
       "      <td>Beacon Research/Shaw &amp; Co. Research</td>\n",
       "      <td>2.8</td>\n",
       "      <td>-1.1</td>\n",
       "      <td>Live Phone/Text-to-Web</td>\n",
       "      <td>6.0</td>\n",
       "      <td>Pennsylvania</td>\n",
       "      <td>4/11/24</td>\n",
       "      <td>4/16/24</td>\n",
       "      <td>NaN</td>\n",
       "      <td>NaN</td>\n",
       "      <td>NaN</td>\n",
       "      <td>NaN</td>\n",
       "      <td>NaN</td>\n",
       "      <td>NaN</td>\n",
       "      <td>196934</td>\n",
       "      <td>1141.0</td>\n",
       "      <td>rv</td>\n",
       "      <td>NaN</td>\n",
       "      <td>rv</td>\n",
       "      <td>NaN</td>\n",
       "      <td>4/18/24 20:54</td>\n",
       "      <td>NaN</td>\n",
       "      <td>https://www.foxnews.com/official-polls/fox-new...</td>\n",
       "      <td>NaN</td>\n",
       "      <td>NaN</td>\n",
       "      <td>NaN</td>\n",
       "      <td>8872</td>\n",
       "      <td>2024</td>\n",
       "      <td>U.S. President</td>\n",
       "      <td>0</td>\n",
       "      <td>NaN</td>\n",
       "      <td>11/5/24</td>\n",
       "      <td>general</td>\n",
       "      <td>False</td>\n",
       "      <td>False</td>\n",
       "      <td>NaN</td>\n",
       "      <td>IND</td>\n",
       "      <td>Kennedy</td>\n",
       "      <td>31042</td>\n",
       "      <td>Robert F. Kennedy</td>\n",
       "      <td>8.0</td>\n",
       "    </tr>\n",
       "  </tbody>\n",
       "</table>\n",
       "</div>"
      ],
      "text/plain": [
       "    poll_id  pollster_id           pollster sponsor_ids  sponsors  \\\n",
       "16    86734         1714  Kaplan Strategies         NaN       NaN   \n",
       "17    86734         1714  Kaplan Strategies         NaN       NaN   \n",
       "96    86690         1597        Beacon/Shaw         149  FOX News   \n",
       "97    86690         1597        Beacon/Shaw         149  FOX News   \n",
       "98    86690         1597        Beacon/Shaw         149  FOX News   \n",
       "\n",
       "                               display_name  pollster_rating_id  \\\n",
       "16                        Kaplan Strategies                 124   \n",
       "17                        Kaplan Strategies                 124   \n",
       "96  Beacon Research/Shaw & Company Research                 103   \n",
       "97  Beacon Research/Shaw & Company Research                 103   \n",
       "98  Beacon Research/Shaw & Company Research                 103   \n",
       "\n",
       "                   pollster_rating_name  numeric_grade  pollscore  \\\n",
       "16                    Kaplan Strategies            2.0       -0.9   \n",
       "17                    Kaplan Strategies            2.0       -0.9   \n",
       "96  Beacon Research/Shaw & Co. Research            2.8       -1.1   \n",
       "97  Beacon Research/Shaw & Co. Research            2.8       -1.1   \n",
       "98  Beacon Research/Shaw & Co. Research            2.8       -1.1   \n",
       "\n",
       "                 methodology  transparency_score         state start_date  \\\n",
       "16  Online Panel/Text-to-Web                 4.5  Pennsylvania    4/20/24   \n",
       "17  Online Panel/Text-to-Web                 4.5  Pennsylvania    4/20/24   \n",
       "96    Live Phone/Text-to-Web                 6.0  Pennsylvania    4/11/24   \n",
       "97    Live Phone/Text-to-Web                 6.0  Pennsylvania    4/11/24   \n",
       "98    Live Phone/Text-to-Web                 6.0  Pennsylvania    4/11/24   \n",
       "\n",
       "   end_date  sponsor_candidate_id sponsor_candidate sponsor_candidate_party  \\\n",
       "16  4/21/24                   NaN               NaN                     NaN   \n",
       "17  4/21/24                   NaN               NaN                     NaN   \n",
       "96  4/16/24                   NaN               NaN                     NaN   \n",
       "97  4/16/24                   NaN               NaN                     NaN   \n",
       "98  4/16/24                   NaN               NaN                     NaN   \n",
       "\n",
       "    endorsed_candidate_id  endorsed_candidate_name  endorsed_candidate_party  \\\n",
       "16                    NaN                      NaN                       NaN   \n",
       "17                    NaN                      NaN                       NaN   \n",
       "96                    NaN                      NaN                       NaN   \n",
       "97                    NaN                      NaN                       NaN   \n",
       "98                    NaN                      NaN                       NaN   \n",
       "\n",
       "    question_id  sample_size population  subpopulation population_full  \\\n",
       "16       197394        802.0         rv            NaN              rv   \n",
       "17       197394        802.0         rv            NaN              rv   \n",
       "96       196934       1141.0         rv            NaN              rv   \n",
       "97       196934       1141.0         rv            NaN              rv   \n",
       "98       196934       1141.0         rv            NaN              rv   \n",
       "\n",
       "   tracking     created_at notes  \\\n",
       "16      NaN  4/26/24 09:30   NaN   \n",
       "17      NaN  4/26/24 09:30   NaN   \n",
       "96      NaN  4/18/24 20:54   NaN   \n",
       "97      NaN  4/18/24 20:54   NaN   \n",
       "98      NaN  4/18/24 20:54   NaN   \n",
       "\n",
       "                                                  url  source internal  \\\n",
       "16      https://kaplanstrategies.com/2024/04/26/1450/     NaN      NaN   \n",
       "17      https://kaplanstrategies.com/2024/04/26/1450/     NaN      NaN   \n",
       "96  https://www.foxnews.com/official-polls/fox-new...     NaN      NaN   \n",
       "97  https://www.foxnews.com/official-polls/fox-new...     NaN      NaN   \n",
       "98  https://www.foxnews.com/official-polls/fox-new...     NaN      NaN   \n",
       "\n",
       "   partisan  race_id  cycle     office_type  seat_number  seat_name  \\\n",
       "16      NaN     8872   2024  U.S. President            0        NaN   \n",
       "17      NaN     8872   2024  U.S. President            0        NaN   \n",
       "96      NaN     8872   2024  U.S. President            0        NaN   \n",
       "97      NaN     8872   2024  U.S. President            0        NaN   \n",
       "98      NaN     8872   2024  U.S. President            0        NaN   \n",
       "\n",
       "   election_date    stage  nationwide_batch  ranked_choice_reallocated  \\\n",
       "16       11/5/24  general             False                      False   \n",
       "17       11/5/24  general             False                      False   \n",
       "96       11/5/24  general             False                      False   \n",
       "97       11/5/24  general             False                      False   \n",
       "98       11/5/24  general             False                      False   \n",
       "\n",
       "    ranked_choice_round party   answer  candidate_id     candidate_name   pct  \n",
       "16                  NaN   DEM    Biden         19368          Joe Biden  41.0  \n",
       "17                  NaN   REP    Trump         16651       Donald Trump  46.0  \n",
       "96                  NaN   DEM    Biden         19368          Joe Biden  42.0  \n",
       "97                  NaN   REP    Trump         16651       Donald Trump  44.0  \n",
       "98                  NaN   IND  Kennedy         31042  Robert F. Kennedy   8.0  "
      ]
     },
     "execution_count": 3,
     "metadata": {},
     "output_type": "execute_result"
    }
   ],
   "source": [
    "#Define a function to grab the data by state\n",
    "\n",
    "\n",
    "def get_state_data(state,df):\n",
    "    state_data = df[df['state'] == state]\n",
    "    return state_data.copy()\n",
    "\n",
    "pa = get_state_data('Pennsylvania',df)\n",
    "mi = get_state_data('Michigan',df)\n",
    "wi = get_state_data('Wisconsin',df)\n",
    "ga = get_state_data('Georgia',df)\n",
    "az = get_state_data('Arizona',df)\n",
    "nc = get_state_data('North Carolina',df)\n",
    "nv = get_state_data('Nevada',df)\n",
    "states = [pa,mi,wi,ga,az,nc,nv]\n",
    "\n",
    "pa.head()"
   ]
  },
  {
   "cell_type": "code",
   "execution_count": 4,
   "metadata": {},
   "outputs": [],
   "source": [
    "def get_candidate_data(candidate,df):\n",
    "    candidate_data = df[df['candidate_name'] == candidate]\n",
    "    return candidate_data.copy()\n",
    "\n",
    "biden_states = [get_candidate_data('Joe Biden',state) for state in states]\n",
    "trump_states = [get_candidate_data('Donald Trump',state) for state in states]\n",
    "kennedy_states = [get_candidate_data('Robert F. Kennedy',state) for state in states]\n",
    "\n",
    "biden_pa = biden_states[0]\n",
    "trump_pa = trump_states[0]\n",
    "kennedy_pa = kennedy_states[0]\n"
   ]
  },
  {
   "cell_type": "code",
   "execution_count": 15,
   "metadata": {},
   "outputs": [
    {
     "data": {
      "application/vnd.plotly.v1+json": {
       "config": {
        "plotlyServerURL": "https://plot.ly"
       },
       "data": [
        {
         "hoverinfo": "text+name",
         "hovertemplate": "Date=%{x}<br>Percentage=%{y}<extra></extra>",
         "legendgroup": "",
         "marker": {
          "color": "#636efa",
          "symbol": "circle"
         },
         "mode": "lines+markers",
         "name": "",
         "orientation": "v",
         "showlegend": false,
         "type": "scatter",
         "x": [
          "2024-04-20T00:00:00",
          "2024-04-11T00:00:00",
          "2024-04-11T00:00:00",
          "2024-04-08T00:00:00",
          "2024-04-08T00:00:00",
          "2024-03-20T00:00:00",
          "2024-03-20T00:00:00",
          "2024-03-22T00:00:00",
          "2024-03-17T00:00:00",
          "2024-03-17T00:00:00",
          "2024-03-17T00:00:00",
          "2024-03-12T00:00:00",
          "2024-03-13T00:00:00",
          "2024-03-13T00:00:00",
          "2024-03-14T00:00:00",
          "2024-03-10T00:00:00",
          "2024-03-10T00:00:00",
          "2024-03-08T00:00:00",
          "2024-03-08T00:00:00",
          "2024-03-07T00:00:00",
          "2024-03-07T00:00:00",
          "2024-02-26T00:00:00",
          "2024-02-25T00:00:00",
          "2024-02-25T00:00:00",
          "2024-02-12T00:00:00",
          "2024-02-12T00:00:00",
          "2024-02-14T00:00:00",
          "2024-02-14T00:00:00",
          "2024-02-06T00:00:00",
          "2024-01-17T00:00:00",
          "2024-01-17T00:00:00",
          "2024-01-22T00:00:00",
          "2024-01-17T00:00:00",
          "2024-01-17T00:00:00",
          "2024-01-16T00:00:00",
          "2024-01-16T00:00:00",
          "2024-01-15T00:00:00",
          "2024-01-04T00:00:00",
          "2024-01-04T00:00:00",
          "2023-12-28T00:00:00",
          "2023-12-14T00:00:00",
          "2023-11-20T00:00:00",
          "2023-11-20T00:00:00",
          "2023-11-20T00:00:00",
          "2023-12-03T00:00:00",
          "2023-11-27T00:00:00",
          "2023-11-27T00:00:00",
          "2023-11-27T00:00:00",
          "2023-11-27T00:00:00",
          "2023-11-27T00:00:00",
          "2023-10-30T00:00:00",
          "2023-10-30T00:00:00",
          "2023-10-30T00:00:00",
          "2023-10-30T00:00:00",
          "2023-10-22T00:00:00",
          "2023-10-22T00:00:00",
          "2023-10-22T00:00:00",
          "2023-10-22T00:00:00",
          "2023-10-22T00:00:00",
          "2023-10-22T00:00:00",
          "2023-10-22T00:00:00",
          "2023-10-22T00:00:00",
          "2023-10-11T00:00:00",
          "2023-10-05T00:00:00",
          "2023-10-07T00:00:00",
          "2023-10-07T00:00:00",
          "2023-10-01T00:00:00",
          "2023-09-28T00:00:00",
          "2023-09-19T00:00:00",
          "2023-09-19T00:00:00",
          "2023-09-25T00:00:00",
          "2023-09-14T00:00:00",
          "2023-08-09T00:00:00",
          "2023-06-14T00:00:00",
          "2023-06-22T00:00:00",
          "2023-06-17T00:00:00",
          "2023-06-17T00:00:00",
          "2023-05-02T00:00:00",
          "2023-04-11T00:00:00",
          "2023-04-11T00:00:00",
          "2023-03-27T00:00:00",
          "2023-02-19T00:00:00",
          "2022-11-02T00:00:00",
          "2022-11-02T00:00:00",
          "2022-10-28T00:00:00",
          "2022-09-23T00:00:00",
          "2022-08-31T00:00:00",
          "2022-08-31T00:00:00",
          "2022-08-22T00:00:00",
          "2022-07-22T00:00:00",
          "2022-07-19T00:00:00",
          "2022-02-15T00:00:00",
          "2021-11-11T00:00:00"
         ],
         "xaxis": "x",
         "y": [
          41,
          42,
          48,
          42,
          46,
          48,
          42,
          44,
          38,
          40,
          44,
          45,
          46,
          38,
          41,
          48.2,
          40.2,
          38,
          45,
          47,
          42,
          50,
          40,
          39,
          36,
          43,
          42.9,
          36.8,
          32,
          43,
          42,
          42,
          38,
          48.6,
          40,
          45,
          46.8,
          49,
          41,
          39,
          45,
          42,
          41,
          33,
          40,
          38,
          44,
          37,
          37,
          36,
          44,
          38,
          43.2,
          45.2,
          44,
          44,
          43,
          43,
          38,
          39,
          35,
          36,
          44,
          45,
          43,
          39,
          36.4,
          45,
          44,
          47,
          48,
          47,
          42,
          50,
          46,
          45,
          48,
          48,
          42,
          46,
          36,
          48,
          48,
          46,
          44.2,
          44.9,
          48,
          46,
          41.7,
          41.7,
          42,
          45.1,
          45
         ],
         "yaxis": "y"
        },
        {
         "hoverinfo": "text+name",
         "mode": "lines+markers",
         "name": "Least Squares",
         "type": "scatter",
         "x": [
          "2024-04-20T00:00:00",
          "2024-04-11T00:00:00",
          "2024-04-11T00:00:00",
          "2024-04-08T00:00:00",
          "2024-04-08T00:00:00",
          "2024-03-20T00:00:00",
          "2024-03-20T00:00:00",
          "2024-03-22T00:00:00",
          "2024-03-17T00:00:00",
          "2024-03-17T00:00:00",
          "2024-03-17T00:00:00",
          "2024-03-12T00:00:00",
          "2024-03-13T00:00:00",
          "2024-03-13T00:00:00",
          "2024-03-14T00:00:00",
          "2024-03-10T00:00:00",
          "2024-03-10T00:00:00",
          "2024-03-08T00:00:00",
          "2024-03-08T00:00:00",
          "2024-03-07T00:00:00",
          "2024-03-07T00:00:00",
          "2024-02-26T00:00:00",
          "2024-02-25T00:00:00",
          "2024-02-25T00:00:00",
          "2024-02-12T00:00:00",
          "2024-02-12T00:00:00",
          "2024-02-14T00:00:00",
          "2024-02-14T00:00:00",
          "2024-02-06T00:00:00",
          "2024-01-17T00:00:00",
          "2024-01-17T00:00:00",
          "2024-01-22T00:00:00",
          "2024-01-17T00:00:00",
          "2024-01-17T00:00:00",
          "2024-01-16T00:00:00",
          "2024-01-16T00:00:00",
          "2024-01-15T00:00:00",
          "2024-01-04T00:00:00",
          "2024-01-04T00:00:00",
          "2023-12-28T00:00:00",
          "2023-12-14T00:00:00",
          "2023-11-20T00:00:00",
          "2023-11-20T00:00:00",
          "2023-11-20T00:00:00",
          "2023-12-03T00:00:00",
          "2023-11-27T00:00:00",
          "2023-11-27T00:00:00",
          "2023-11-27T00:00:00",
          "2023-11-27T00:00:00",
          "2023-11-27T00:00:00",
          "2023-10-30T00:00:00",
          "2023-10-30T00:00:00",
          "2023-10-30T00:00:00",
          "2023-10-30T00:00:00",
          "2023-10-22T00:00:00",
          "2023-10-22T00:00:00",
          "2023-10-22T00:00:00",
          "2023-10-22T00:00:00",
          "2023-10-22T00:00:00",
          "2023-10-22T00:00:00",
          "2023-10-22T00:00:00",
          "2023-10-22T00:00:00",
          "2023-10-11T00:00:00",
          "2023-10-05T00:00:00",
          "2023-10-07T00:00:00",
          "2023-10-07T00:00:00",
          "2023-10-01T00:00:00",
          "2023-09-28T00:00:00",
          "2023-09-19T00:00:00",
          "2023-09-19T00:00:00",
          "2023-09-25T00:00:00",
          "2023-09-14T00:00:00",
          "2023-08-09T00:00:00",
          "2023-06-14T00:00:00",
          "2023-06-22T00:00:00",
          "2023-06-17T00:00:00",
          "2023-06-17T00:00:00",
          "2023-05-02T00:00:00",
          "2023-04-11T00:00:00",
          "2023-04-11T00:00:00",
          "2023-03-27T00:00:00",
          "2023-02-19T00:00:00",
          "2022-11-02T00:00:00",
          "2022-11-02T00:00:00",
          "2022-10-28T00:00:00",
          "2022-09-23T00:00:00",
          "2022-08-31T00:00:00",
          "2022-08-31T00:00:00",
          "2022-08-22T00:00:00",
          "2022-07-22T00:00:00",
          "2022-07-19T00:00:00",
          "2022-02-15T00:00:00",
          "2021-11-11T00:00:00"
         ],
         "y": [
          41.453613307534454,
          41.48734120464229,
          41.48944919821153,
          41.52275549660552,
          41.52486349017476,
          41.61803680593516,
          41.61888000336286,
          41.65724548632303,
          41.701513351277065,
          41.70404294356015,
          41.705729338415544,
          41.733976452243354,
          41.7457812162311,
          41.74662441365879,
          41.76180196735732,
          41.80522663488367,
          41.80606983231136,
          41.831787353856086,
          41.833895347425326,
          41.84148412427459,
          41.842327321702285,
          41.8705744355301,
          41.93803022974578,
          41.94013822331502,
          42.03036034807848,
          42.03246834164772,
          42.03794912492775,
          42.03879232235544,
          42.123533663838884,
          42.233992526867056,
          42.23483572429475,
          42.244954093427104,
          42.26392603555026,
          42.264769232977955,
          42.28922195838114,
          42.29132995195038,
          42.29512434037501,
          42.35414816031373,
          42.354991357741426,
          42.394621636843134,
          42.42834953395097,
          42.46334222720035,
          42.46418542462805,
          42.46502862205575,
          42.500442914018976,
          42.530798021416025,
          42.532906014985265,
          42.58687065035781,
          42.58813544649935,
          42.5894002426409,
          42.71545825808144,
          42.71630145550914,
          42.73147900920767,
          42.73232220663536,
          42.786286842007904,
          42.787130039435596,
          42.789659631718685,
          42.790502829146384,
          42.791346026574075,
          42.792189224001774,
          42.793032421429466,
          42.794297217571014,
          42.87650896677137,
          42.955769524974784,
          42.97389826967025,
          42.97474146709795,
          42.99034061951032,
          43.01395014748581,
          43.03207889218127,
          43.03292208960897,
          43.03882447160284,
          43.1096530555293,
          43.22137671469901,
          43.38832980538281,
          43.39676177965977,
          43.425008893487586,
          43.42585209091528,
          43.595756372596014,
          43.68724329350103,
          43.68808649092872,
          43.70326404462725,
          43.82510607292931,
          44.07890849866579,
          44.07975169609349,
          44.09239965750893,
          44.15479626715843,
          44.20454491539249,
          44.20538811282019,
          44.23321362793415,
          44.280432683885124,
          44.28380547359591,
          44.42124665431035,
          44.47436809225519
         ]
        }
       ],
       "layout": {
        "annotations": [
         {
          "showarrow": false,
          "text": "50%",
          "x": 1,
          "xanchor": "right",
          "xref": "x domain",
          "y": 50,
          "yanchor": "bottom",
          "yref": "y"
         }
        ],
        "hovermode": "x unified",
        "legend": {
         "tracegroupgap": 0
        },
        "shapes": [
         {
          "line": {
           "color": "red",
           "dash": "dot"
          },
          "type": "line",
          "x0": 0,
          "x1": 1,
          "xref": "x domain",
          "y0": 50,
          "y1": 50,
          "yref": "y"
         }
        ],
        "template": {
         "data": {
          "bar": [
           {
            "error_x": {
             "color": "#f2f5fa"
            },
            "error_y": {
             "color": "#f2f5fa"
            },
            "marker": {
             "line": {
              "color": "rgb(17,17,17)",
              "width": 0.5
             },
             "pattern": {
              "fillmode": "overlay",
              "size": 10,
              "solidity": 0.2
             }
            },
            "type": "bar"
           }
          ],
          "barpolar": [
           {
            "marker": {
             "line": {
              "color": "rgb(17,17,17)",
              "width": 0.5
             },
             "pattern": {
              "fillmode": "overlay",
              "size": 10,
              "solidity": 0.2
             }
            },
            "type": "barpolar"
           }
          ],
          "carpet": [
           {
            "aaxis": {
             "endlinecolor": "#A2B1C6",
             "gridcolor": "#506784",
             "linecolor": "#506784",
             "minorgridcolor": "#506784",
             "startlinecolor": "#A2B1C6"
            },
            "baxis": {
             "endlinecolor": "#A2B1C6",
             "gridcolor": "#506784",
             "linecolor": "#506784",
             "minorgridcolor": "#506784",
             "startlinecolor": "#A2B1C6"
            },
            "type": "carpet"
           }
          ],
          "choropleth": [
           {
            "colorbar": {
             "outlinewidth": 0,
             "ticks": ""
            },
            "type": "choropleth"
           }
          ],
          "contour": [
           {
            "colorbar": {
             "outlinewidth": 0,
             "ticks": ""
            },
            "colorscale": [
             [
              0,
              "#0d0887"
             ],
             [
              0.1111111111111111,
              "#46039f"
             ],
             [
              0.2222222222222222,
              "#7201a8"
             ],
             [
              0.3333333333333333,
              "#9c179e"
             ],
             [
              0.4444444444444444,
              "#bd3786"
             ],
             [
              0.5555555555555556,
              "#d8576b"
             ],
             [
              0.6666666666666666,
              "#ed7953"
             ],
             [
              0.7777777777777778,
              "#fb9f3a"
             ],
             [
              0.8888888888888888,
              "#fdca26"
             ],
             [
              1,
              "#f0f921"
             ]
            ],
            "type": "contour"
           }
          ],
          "contourcarpet": [
           {
            "colorbar": {
             "outlinewidth": 0,
             "ticks": ""
            },
            "type": "contourcarpet"
           }
          ],
          "heatmap": [
           {
            "colorbar": {
             "outlinewidth": 0,
             "ticks": ""
            },
            "colorscale": [
             [
              0,
              "#0d0887"
             ],
             [
              0.1111111111111111,
              "#46039f"
             ],
             [
              0.2222222222222222,
              "#7201a8"
             ],
             [
              0.3333333333333333,
              "#9c179e"
             ],
             [
              0.4444444444444444,
              "#bd3786"
             ],
             [
              0.5555555555555556,
              "#d8576b"
             ],
             [
              0.6666666666666666,
              "#ed7953"
             ],
             [
              0.7777777777777778,
              "#fb9f3a"
             ],
             [
              0.8888888888888888,
              "#fdca26"
             ],
             [
              1,
              "#f0f921"
             ]
            ],
            "type": "heatmap"
           }
          ],
          "heatmapgl": [
           {
            "colorbar": {
             "outlinewidth": 0,
             "ticks": ""
            },
            "colorscale": [
             [
              0,
              "#0d0887"
             ],
             [
              0.1111111111111111,
              "#46039f"
             ],
             [
              0.2222222222222222,
              "#7201a8"
             ],
             [
              0.3333333333333333,
              "#9c179e"
             ],
             [
              0.4444444444444444,
              "#bd3786"
             ],
             [
              0.5555555555555556,
              "#d8576b"
             ],
             [
              0.6666666666666666,
              "#ed7953"
             ],
             [
              0.7777777777777778,
              "#fb9f3a"
             ],
             [
              0.8888888888888888,
              "#fdca26"
             ],
             [
              1,
              "#f0f921"
             ]
            ],
            "type": "heatmapgl"
           }
          ],
          "histogram": [
           {
            "marker": {
             "pattern": {
              "fillmode": "overlay",
              "size": 10,
              "solidity": 0.2
             }
            },
            "type": "histogram"
           }
          ],
          "histogram2d": [
           {
            "colorbar": {
             "outlinewidth": 0,
             "ticks": ""
            },
            "colorscale": [
             [
              0,
              "#0d0887"
             ],
             [
              0.1111111111111111,
              "#46039f"
             ],
             [
              0.2222222222222222,
              "#7201a8"
             ],
             [
              0.3333333333333333,
              "#9c179e"
             ],
             [
              0.4444444444444444,
              "#bd3786"
             ],
             [
              0.5555555555555556,
              "#d8576b"
             ],
             [
              0.6666666666666666,
              "#ed7953"
             ],
             [
              0.7777777777777778,
              "#fb9f3a"
             ],
             [
              0.8888888888888888,
              "#fdca26"
             ],
             [
              1,
              "#f0f921"
             ]
            ],
            "type": "histogram2d"
           }
          ],
          "histogram2dcontour": [
           {
            "colorbar": {
             "outlinewidth": 0,
             "ticks": ""
            },
            "colorscale": [
             [
              0,
              "#0d0887"
             ],
             [
              0.1111111111111111,
              "#46039f"
             ],
             [
              0.2222222222222222,
              "#7201a8"
             ],
             [
              0.3333333333333333,
              "#9c179e"
             ],
             [
              0.4444444444444444,
              "#bd3786"
             ],
             [
              0.5555555555555556,
              "#d8576b"
             ],
             [
              0.6666666666666666,
              "#ed7953"
             ],
             [
              0.7777777777777778,
              "#fb9f3a"
             ],
             [
              0.8888888888888888,
              "#fdca26"
             ],
             [
              1,
              "#f0f921"
             ]
            ],
            "type": "histogram2dcontour"
           }
          ],
          "mesh3d": [
           {
            "colorbar": {
             "outlinewidth": 0,
             "ticks": ""
            },
            "type": "mesh3d"
           }
          ],
          "parcoords": [
           {
            "line": {
             "colorbar": {
              "outlinewidth": 0,
              "ticks": ""
             }
            },
            "type": "parcoords"
           }
          ],
          "pie": [
           {
            "automargin": true,
            "type": "pie"
           }
          ],
          "scatter": [
           {
            "marker": {
             "line": {
              "color": "#283442"
             }
            },
            "type": "scatter"
           }
          ],
          "scatter3d": [
           {
            "line": {
             "colorbar": {
              "outlinewidth": 0,
              "ticks": ""
             }
            },
            "marker": {
             "colorbar": {
              "outlinewidth": 0,
              "ticks": ""
             }
            },
            "type": "scatter3d"
           }
          ],
          "scattercarpet": [
           {
            "marker": {
             "colorbar": {
              "outlinewidth": 0,
              "ticks": ""
             }
            },
            "type": "scattercarpet"
           }
          ],
          "scattergeo": [
           {
            "marker": {
             "colorbar": {
              "outlinewidth": 0,
              "ticks": ""
             }
            },
            "type": "scattergeo"
           }
          ],
          "scattergl": [
           {
            "marker": {
             "line": {
              "color": "#283442"
             }
            },
            "type": "scattergl"
           }
          ],
          "scattermapbox": [
           {
            "marker": {
             "colorbar": {
              "outlinewidth": 0,
              "ticks": ""
             }
            },
            "type": "scattermapbox"
           }
          ],
          "scatterpolar": [
           {
            "marker": {
             "colorbar": {
              "outlinewidth": 0,
              "ticks": ""
             }
            },
            "type": "scatterpolar"
           }
          ],
          "scatterpolargl": [
           {
            "marker": {
             "colorbar": {
              "outlinewidth": 0,
              "ticks": ""
             }
            },
            "type": "scatterpolargl"
           }
          ],
          "scatterternary": [
           {
            "marker": {
             "colorbar": {
              "outlinewidth": 0,
              "ticks": ""
             }
            },
            "type": "scatterternary"
           }
          ],
          "surface": [
           {
            "colorbar": {
             "outlinewidth": 0,
             "ticks": ""
            },
            "colorscale": [
             [
              0,
              "#0d0887"
             ],
             [
              0.1111111111111111,
              "#46039f"
             ],
             [
              0.2222222222222222,
              "#7201a8"
             ],
             [
              0.3333333333333333,
              "#9c179e"
             ],
             [
              0.4444444444444444,
              "#bd3786"
             ],
             [
              0.5555555555555556,
              "#d8576b"
             ],
             [
              0.6666666666666666,
              "#ed7953"
             ],
             [
              0.7777777777777778,
              "#fb9f3a"
             ],
             [
              0.8888888888888888,
              "#fdca26"
             ],
             [
              1,
              "#f0f921"
             ]
            ],
            "type": "surface"
           }
          ],
          "table": [
           {
            "cells": {
             "fill": {
              "color": "#506784"
             },
             "line": {
              "color": "rgb(17,17,17)"
             }
            },
            "header": {
             "fill": {
              "color": "#2a3f5f"
             },
             "line": {
              "color": "rgb(17,17,17)"
             }
            },
            "type": "table"
           }
          ]
         },
         "layout": {
          "annotationdefaults": {
           "arrowcolor": "#f2f5fa",
           "arrowhead": 0,
           "arrowwidth": 1
          },
          "autotypenumbers": "strict",
          "coloraxis": {
           "colorbar": {
            "outlinewidth": 0,
            "ticks": ""
           }
          },
          "colorscale": {
           "diverging": [
            [
             0,
             "#8e0152"
            ],
            [
             0.1,
             "#c51b7d"
            ],
            [
             0.2,
             "#de77ae"
            ],
            [
             0.3,
             "#f1b6da"
            ],
            [
             0.4,
             "#fde0ef"
            ],
            [
             0.5,
             "#f7f7f7"
            ],
            [
             0.6,
             "#e6f5d0"
            ],
            [
             0.7,
             "#b8e186"
            ],
            [
             0.8,
             "#7fbc41"
            ],
            [
             0.9,
             "#4d9221"
            ],
            [
             1,
             "#276419"
            ]
           ],
           "sequential": [
            [
             0,
             "#0d0887"
            ],
            [
             0.1111111111111111,
             "#46039f"
            ],
            [
             0.2222222222222222,
             "#7201a8"
            ],
            [
             0.3333333333333333,
             "#9c179e"
            ],
            [
             0.4444444444444444,
             "#bd3786"
            ],
            [
             0.5555555555555556,
             "#d8576b"
            ],
            [
             0.6666666666666666,
             "#ed7953"
            ],
            [
             0.7777777777777778,
             "#fb9f3a"
            ],
            [
             0.8888888888888888,
             "#fdca26"
            ],
            [
             1,
             "#f0f921"
            ]
           ],
           "sequentialminus": [
            [
             0,
             "#0d0887"
            ],
            [
             0.1111111111111111,
             "#46039f"
            ],
            [
             0.2222222222222222,
             "#7201a8"
            ],
            [
             0.3333333333333333,
             "#9c179e"
            ],
            [
             0.4444444444444444,
             "#bd3786"
            ],
            [
             0.5555555555555556,
             "#d8576b"
            ],
            [
             0.6666666666666666,
             "#ed7953"
            ],
            [
             0.7777777777777778,
             "#fb9f3a"
            ],
            [
             0.8888888888888888,
             "#fdca26"
            ],
            [
             1,
             "#f0f921"
            ]
           ]
          },
          "colorway": [
           "#636efa",
           "#EF553B",
           "#00cc96",
           "#ab63fa",
           "#FFA15A",
           "#19d3f3",
           "#FF6692",
           "#B6E880",
           "#FF97FF",
           "#FECB52"
          ],
          "font": {
           "color": "#f2f5fa"
          },
          "geo": {
           "bgcolor": "rgb(17,17,17)",
           "lakecolor": "rgb(17,17,17)",
           "landcolor": "rgb(17,17,17)",
           "showlakes": true,
           "showland": true,
           "subunitcolor": "#506784"
          },
          "hoverlabel": {
           "align": "left"
          },
          "hovermode": "closest",
          "mapbox": {
           "style": "dark"
          },
          "paper_bgcolor": "rgb(17,17,17)",
          "plot_bgcolor": "rgb(17,17,17)",
          "polar": {
           "angularaxis": {
            "gridcolor": "#506784",
            "linecolor": "#506784",
            "ticks": ""
           },
           "bgcolor": "rgb(17,17,17)",
           "radialaxis": {
            "gridcolor": "#506784",
            "linecolor": "#506784",
            "ticks": ""
           }
          },
          "scene": {
           "xaxis": {
            "backgroundcolor": "rgb(17,17,17)",
            "gridcolor": "#506784",
            "gridwidth": 2,
            "linecolor": "#506784",
            "showbackground": true,
            "ticks": "",
            "zerolinecolor": "#C8D4E3"
           },
           "yaxis": {
            "backgroundcolor": "rgb(17,17,17)",
            "gridcolor": "#506784",
            "gridwidth": 2,
            "linecolor": "#506784",
            "showbackground": true,
            "ticks": "",
            "zerolinecolor": "#C8D4E3"
           },
           "zaxis": {
            "backgroundcolor": "rgb(17,17,17)",
            "gridcolor": "#506784",
            "gridwidth": 2,
            "linecolor": "#506784",
            "showbackground": true,
            "ticks": "",
            "zerolinecolor": "#C8D4E3"
           }
          },
          "shapedefaults": {
           "line": {
            "color": "#f2f5fa"
           }
          },
          "sliderdefaults": {
           "bgcolor": "#C8D4E3",
           "bordercolor": "rgb(17,17,17)",
           "borderwidth": 1,
           "tickwidth": 0
          },
          "ternary": {
           "aaxis": {
            "gridcolor": "#506784",
            "linecolor": "#506784",
            "ticks": ""
           },
           "baxis": {
            "gridcolor": "#506784",
            "linecolor": "#506784",
            "ticks": ""
           },
           "bgcolor": "rgb(17,17,17)",
           "caxis": {
            "gridcolor": "#506784",
            "linecolor": "#506784",
            "ticks": ""
           }
          },
          "title": {
           "x": 0.05
          },
          "updatemenudefaults": {
           "bgcolor": "#506784",
           "borderwidth": 0
          },
          "xaxis": {
           "automargin": true,
           "gridcolor": "#283442",
           "linecolor": "#506784",
           "ticks": "",
           "title": {
            "standoff": 15
           },
           "zerolinecolor": "#283442",
           "zerolinewidth": 2
          },
          "yaxis": {
           "automargin": true,
           "gridcolor": "#283442",
           "linecolor": "#506784",
           "ticks": "",
           "title": {
            "standoff": 15
           },
           "zerolinecolor": "#283442",
           "zerolinewidth": 2
          }
         }
        },
        "title": {
         "text": "Joe Biden Polling in Pennsylvania"
        },
        "xaxis": {
         "anchor": "y",
         "domain": [
          0,
          1
         ],
         "title": {
          "text": "Date"
         }
        },
        "yaxis": {
         "anchor": "x",
         "domain": [
          0,
          1
         ],
         "title": {
          "text": "Percentage"
         }
        }
       }
      }
     },
     "metadata": {},
     "output_type": "display_data"
    },
    {
     "data": {
      "application/vnd.plotly.v1+json": {
       "config": {
        "plotlyServerURL": "https://plot.ly"
       },
       "data": [
        {
         "hoverinfo": "text+name",
         "hovertemplate": "Date=%{x}<br>Percentage=%{y}<extra></extra>",
         "legendgroup": "",
         "marker": {
          "color": "#636efa",
          "symbol": "circle"
         },
         "mode": "lines+markers",
         "name": "",
         "orientation": "v",
         "showlegend": false,
         "type": "scatter",
         "x": [
          "2024-04-20T00:00:00",
          "2024-04-11T00:00:00",
          "2024-04-11T00:00:00",
          "2024-04-08T00:00:00",
          "2024-04-08T00:00:00",
          "2024-03-20T00:00:00",
          "2024-03-20T00:00:00",
          "2024-03-22T00:00:00",
          "2024-03-17T00:00:00",
          "2024-03-17T00:00:00",
          "2024-03-17T00:00:00",
          "2024-03-12T00:00:00",
          "2024-03-13T00:00:00",
          "2024-03-13T00:00:00",
          "2024-03-14T00:00:00",
          "2024-03-10T00:00:00",
          "2024-03-10T00:00:00",
          "2024-03-08T00:00:00",
          "2024-03-08T00:00:00",
          "2024-03-07T00:00:00",
          "2024-03-07T00:00:00",
          "2024-02-26T00:00:00",
          "2024-02-25T00:00:00",
          "2024-02-12T00:00:00",
          "2024-02-12T00:00:00",
          "2024-02-14T00:00:00",
          "2024-02-14T00:00:00",
          "2024-02-14T00:00:00",
          "2024-02-14T00:00:00",
          "2024-02-06T00:00:00",
          "2024-01-17T00:00:00",
          "2024-01-17T00:00:00",
          "2024-01-22T00:00:00",
          "2024-01-17T00:00:00",
          "2024-01-17T00:00:00",
          "2024-01-16T00:00:00",
          "2024-01-16T00:00:00",
          "2024-01-15T00:00:00",
          "2024-01-04T00:00:00",
          "2024-01-04T00:00:00",
          "2023-12-28T00:00:00",
          "2023-12-14T00:00:00",
          "2023-11-20T00:00:00",
          "2023-11-20T00:00:00",
          "2023-12-03T00:00:00",
          "2023-11-27T00:00:00",
          "2023-11-27T00:00:00",
          "2023-11-27T00:00:00",
          "2023-10-30T00:00:00",
          "2023-10-30T00:00:00",
          "2023-10-30T00:00:00",
          "2023-10-30T00:00:00",
          "2023-10-22T00:00:00",
          "2023-10-22T00:00:00",
          "2023-10-22T00:00:00",
          "2023-10-22T00:00:00",
          "2023-10-22T00:00:00",
          "2023-10-22T00:00:00",
          "2023-10-11T00:00:00",
          "2023-10-05T00:00:00",
          "2023-10-07T00:00:00",
          "2023-10-07T00:00:00",
          "2023-10-01T00:00:00",
          "2023-09-28T00:00:00",
          "2023-09-19T00:00:00",
          "2023-09-25T00:00:00",
          "2023-09-14T00:00:00",
          "2023-08-09T00:00:00",
          "2023-06-14T00:00:00",
          "2023-06-22T00:00:00",
          "2023-06-17T00:00:00",
          "2023-04-11T00:00:00",
          "2023-03-27T00:00:00",
          "2023-02-19T00:00:00",
          "2022-11-02T00:00:00",
          "2022-11-02T00:00:00",
          "2022-10-28T00:00:00",
          "2022-09-23T00:00:00",
          "2022-08-31T00:00:00",
          "2022-08-22T00:00:00",
          "2022-07-22T00:00:00",
          "2022-07-19T00:00:00",
          "2022-02-15T00:00:00",
          "2021-11-11T00:00:00"
         ],
         "xaxis": "x",
         "y": [
          46,
          44,
          48,
          43,
          47,
          38,
          40,
          41,
          41,
          44,
          47,
          49,
          46,
          40,
          44,
          51.8,
          43.7,
          44,
          45,
          49,
          42,
          45,
          39,
          45,
          49,
          45.1,
          41.5,
          49.2,
          48.4,
          40,
          42,
          37,
          48,
          46,
          51.4,
          43,
          48,
          39.3,
          46,
          39,
          40,
          45,
          41,
          37,
          46,
          39,
          46,
          44,
          47,
          41,
          46.4,
          49.1,
          48,
          49,
          47,
          48,
          35,
          36,
          42,
          46,
          42,
          39,
          45.3,
          47,
          45,
          45,
          45,
          40,
          50,
          47,
          45,
          42,
          35,
          41,
          48,
          52,
          44.3,
          45.9,
          43,
          47.2,
          44.3,
          41,
          39.9,
          51
         ],
         "yaxis": "y"
        },
        {
         "hoverinfo": "text+name",
         "mode": "lines+markers",
         "name": "Least Squares",
         "type": "scatter",
         "x": [
          "2024-04-20T00:00:00",
          "2024-04-11T00:00:00",
          "2024-04-11T00:00:00",
          "2024-04-08T00:00:00",
          "2024-04-08T00:00:00",
          "2024-03-20T00:00:00",
          "2024-03-20T00:00:00",
          "2024-03-22T00:00:00",
          "2024-03-17T00:00:00",
          "2024-03-17T00:00:00",
          "2024-03-17T00:00:00",
          "2024-03-12T00:00:00",
          "2024-03-13T00:00:00",
          "2024-03-13T00:00:00",
          "2024-03-14T00:00:00",
          "2024-03-10T00:00:00",
          "2024-03-10T00:00:00",
          "2024-03-08T00:00:00",
          "2024-03-08T00:00:00",
          "2024-03-07T00:00:00",
          "2024-03-07T00:00:00",
          "2024-02-26T00:00:00",
          "2024-02-25T00:00:00",
          "2024-02-12T00:00:00",
          "2024-02-12T00:00:00",
          "2024-02-14T00:00:00",
          "2024-02-14T00:00:00",
          "2024-02-14T00:00:00",
          "2024-02-14T00:00:00",
          "2024-02-06T00:00:00",
          "2024-01-17T00:00:00",
          "2024-01-17T00:00:00",
          "2024-01-22T00:00:00",
          "2024-01-17T00:00:00",
          "2024-01-17T00:00:00",
          "2024-01-16T00:00:00",
          "2024-01-16T00:00:00",
          "2024-01-15T00:00:00",
          "2024-01-04T00:00:00",
          "2024-01-04T00:00:00",
          "2023-12-28T00:00:00",
          "2023-12-14T00:00:00",
          "2023-11-20T00:00:00",
          "2023-11-20T00:00:00",
          "2023-12-03T00:00:00",
          "2023-11-27T00:00:00",
          "2023-11-27T00:00:00",
          "2023-11-27T00:00:00",
          "2023-10-30T00:00:00",
          "2023-10-30T00:00:00",
          "2023-10-30T00:00:00",
          "2023-10-30T00:00:00",
          "2023-10-22T00:00:00",
          "2023-10-22T00:00:00",
          "2023-10-22T00:00:00",
          "2023-10-22T00:00:00",
          "2023-10-22T00:00:00",
          "2023-10-22T00:00:00",
          "2023-10-11T00:00:00",
          "2023-10-05T00:00:00",
          "2023-10-07T00:00:00",
          "2023-10-07T00:00:00",
          "2023-10-01T00:00:00",
          "2023-09-28T00:00:00",
          "2023-09-19T00:00:00",
          "2023-09-25T00:00:00",
          "2023-09-14T00:00:00",
          "2023-08-09T00:00:00",
          "2023-06-14T00:00:00",
          "2023-06-22T00:00:00",
          "2023-06-17T00:00:00",
          "2023-04-11T00:00:00",
          "2023-03-27T00:00:00",
          "2023-02-19T00:00:00",
          "2022-11-02T00:00:00",
          "2022-11-02T00:00:00",
          "2022-10-28T00:00:00",
          "2022-09-23T00:00:00",
          "2022-08-31T00:00:00",
          "2022-08-22T00:00:00",
          "2022-07-22T00:00:00",
          "2022-07-19T00:00:00",
          "2022-02-15T00:00:00",
          "2021-11-11T00:00:00"
         ],
         "y": [
          44.04645367696543,
          44.05099620759859,
          44.05128011576316,
          44.05576586476341,
          44.056049772927985,
          44.068598513802094,
          44.06871207706792,
          44.07387920566315,
          44.07984127711917,
          44.08018196691666,
          44.08040909344832,
          44.08421346285359,
          44.0858033485752,
          44.085916911841025,
          44.08796105062595,
          44.09380955881615,
          44.093923122081975,
          44.097386801689765,
          44.097670709854334,
          44.0986927792468,
          44.09880634251263,
          44.102610711917904,
          44.11169577318423,
          44.12413095079251,
          44.12441485895708,
          44.125153020184975,
          44.1252665834508,
          44.12555049161537,
          44.125664054881206,
          44.13667969166662,
          44.15155647949023,
          44.15167004275606,
          44.15303280194601,
          44.15558797542716,
          44.155701538692995,
          44.15899487340204,
          44.159278781566606,
          44.15978981626284,
          44.16773924487087,
          44.1678528081367,
          44.17319028163067,
          44.177732812263834,
          44.18244568779574,
          44.182786377593224,
          44.18744247149222,
          44.19153074906207,
          44.19181465722664,
          44.1990827062397,
          44.21640110427863,
          44.21651466754446,
          44.21855880632938,
          44.21867236959521,
          44.225940418608275,
          44.2260539818741,
          44.22616754513993,
          44.22628110840576,
          44.2268489247349,
          44.22701926963365,
          44.23809168805198,
          44.248766635039914,
          44.25120824525524,
          44.25132180852107,
          44.25342272893891,
          44.25660250038212,
          44.25915767386328,
          44.25995261672408,
          44.26949193105372,
          44.28453906377607,
          44.30702459041023,
          44.30816022306852,
          44.31207815573963,
          44.34739633141246,
          44.349440470197386,
          44.36585036210969,
          44.40003290512424,
          44.40014646839007,
          44.401849917377504,
          44.41025359904886,
          44.41695383173277,
          44.420814982770956,
          44.427174525657385,
          44.4276287787207,
          44.446139591050844,
          44.45329407679807
         ]
        }
       ],
       "layout": {
        "annotations": [
         {
          "showarrow": false,
          "text": "50%",
          "x": 1,
          "xanchor": "right",
          "xref": "x domain",
          "y": 50,
          "yanchor": "bottom",
          "yref": "y"
         }
        ],
        "hovermode": "x unified",
        "legend": {
         "tracegroupgap": 0
        },
        "shapes": [
         {
          "line": {
           "color": "red",
           "dash": "dot"
          },
          "type": "line",
          "x0": 0,
          "x1": 1,
          "xref": "x domain",
          "y0": 50,
          "y1": 50,
          "yref": "y"
         }
        ],
        "template": {
         "data": {
          "bar": [
           {
            "error_x": {
             "color": "#f2f5fa"
            },
            "error_y": {
             "color": "#f2f5fa"
            },
            "marker": {
             "line": {
              "color": "rgb(17,17,17)",
              "width": 0.5
             },
             "pattern": {
              "fillmode": "overlay",
              "size": 10,
              "solidity": 0.2
             }
            },
            "type": "bar"
           }
          ],
          "barpolar": [
           {
            "marker": {
             "line": {
              "color": "rgb(17,17,17)",
              "width": 0.5
             },
             "pattern": {
              "fillmode": "overlay",
              "size": 10,
              "solidity": 0.2
             }
            },
            "type": "barpolar"
           }
          ],
          "carpet": [
           {
            "aaxis": {
             "endlinecolor": "#A2B1C6",
             "gridcolor": "#506784",
             "linecolor": "#506784",
             "minorgridcolor": "#506784",
             "startlinecolor": "#A2B1C6"
            },
            "baxis": {
             "endlinecolor": "#A2B1C6",
             "gridcolor": "#506784",
             "linecolor": "#506784",
             "minorgridcolor": "#506784",
             "startlinecolor": "#A2B1C6"
            },
            "type": "carpet"
           }
          ],
          "choropleth": [
           {
            "colorbar": {
             "outlinewidth": 0,
             "ticks": ""
            },
            "type": "choropleth"
           }
          ],
          "contour": [
           {
            "colorbar": {
             "outlinewidth": 0,
             "ticks": ""
            },
            "colorscale": [
             [
              0,
              "#0d0887"
             ],
             [
              0.1111111111111111,
              "#46039f"
             ],
             [
              0.2222222222222222,
              "#7201a8"
             ],
             [
              0.3333333333333333,
              "#9c179e"
             ],
             [
              0.4444444444444444,
              "#bd3786"
             ],
             [
              0.5555555555555556,
              "#d8576b"
             ],
             [
              0.6666666666666666,
              "#ed7953"
             ],
             [
              0.7777777777777778,
              "#fb9f3a"
             ],
             [
              0.8888888888888888,
              "#fdca26"
             ],
             [
              1,
              "#f0f921"
             ]
            ],
            "type": "contour"
           }
          ],
          "contourcarpet": [
           {
            "colorbar": {
             "outlinewidth": 0,
             "ticks": ""
            },
            "type": "contourcarpet"
           }
          ],
          "heatmap": [
           {
            "colorbar": {
             "outlinewidth": 0,
             "ticks": ""
            },
            "colorscale": [
             [
              0,
              "#0d0887"
             ],
             [
              0.1111111111111111,
              "#46039f"
             ],
             [
              0.2222222222222222,
              "#7201a8"
             ],
             [
              0.3333333333333333,
              "#9c179e"
             ],
             [
              0.4444444444444444,
              "#bd3786"
             ],
             [
              0.5555555555555556,
              "#d8576b"
             ],
             [
              0.6666666666666666,
              "#ed7953"
             ],
             [
              0.7777777777777778,
              "#fb9f3a"
             ],
             [
              0.8888888888888888,
              "#fdca26"
             ],
             [
              1,
              "#f0f921"
             ]
            ],
            "type": "heatmap"
           }
          ],
          "heatmapgl": [
           {
            "colorbar": {
             "outlinewidth": 0,
             "ticks": ""
            },
            "colorscale": [
             [
              0,
              "#0d0887"
             ],
             [
              0.1111111111111111,
              "#46039f"
             ],
             [
              0.2222222222222222,
              "#7201a8"
             ],
             [
              0.3333333333333333,
              "#9c179e"
             ],
             [
              0.4444444444444444,
              "#bd3786"
             ],
             [
              0.5555555555555556,
              "#d8576b"
             ],
             [
              0.6666666666666666,
              "#ed7953"
             ],
             [
              0.7777777777777778,
              "#fb9f3a"
             ],
             [
              0.8888888888888888,
              "#fdca26"
             ],
             [
              1,
              "#f0f921"
             ]
            ],
            "type": "heatmapgl"
           }
          ],
          "histogram": [
           {
            "marker": {
             "pattern": {
              "fillmode": "overlay",
              "size": 10,
              "solidity": 0.2
             }
            },
            "type": "histogram"
           }
          ],
          "histogram2d": [
           {
            "colorbar": {
             "outlinewidth": 0,
             "ticks": ""
            },
            "colorscale": [
             [
              0,
              "#0d0887"
             ],
             [
              0.1111111111111111,
              "#46039f"
             ],
             [
              0.2222222222222222,
              "#7201a8"
             ],
             [
              0.3333333333333333,
              "#9c179e"
             ],
             [
              0.4444444444444444,
              "#bd3786"
             ],
             [
              0.5555555555555556,
              "#d8576b"
             ],
             [
              0.6666666666666666,
              "#ed7953"
             ],
             [
              0.7777777777777778,
              "#fb9f3a"
             ],
             [
              0.8888888888888888,
              "#fdca26"
             ],
             [
              1,
              "#f0f921"
             ]
            ],
            "type": "histogram2d"
           }
          ],
          "histogram2dcontour": [
           {
            "colorbar": {
             "outlinewidth": 0,
             "ticks": ""
            },
            "colorscale": [
             [
              0,
              "#0d0887"
             ],
             [
              0.1111111111111111,
              "#46039f"
             ],
             [
              0.2222222222222222,
              "#7201a8"
             ],
             [
              0.3333333333333333,
              "#9c179e"
             ],
             [
              0.4444444444444444,
              "#bd3786"
             ],
             [
              0.5555555555555556,
              "#d8576b"
             ],
             [
              0.6666666666666666,
              "#ed7953"
             ],
             [
              0.7777777777777778,
              "#fb9f3a"
             ],
             [
              0.8888888888888888,
              "#fdca26"
             ],
             [
              1,
              "#f0f921"
             ]
            ],
            "type": "histogram2dcontour"
           }
          ],
          "mesh3d": [
           {
            "colorbar": {
             "outlinewidth": 0,
             "ticks": ""
            },
            "type": "mesh3d"
           }
          ],
          "parcoords": [
           {
            "line": {
             "colorbar": {
              "outlinewidth": 0,
              "ticks": ""
             }
            },
            "type": "parcoords"
           }
          ],
          "pie": [
           {
            "automargin": true,
            "type": "pie"
           }
          ],
          "scatter": [
           {
            "marker": {
             "line": {
              "color": "#283442"
             }
            },
            "type": "scatter"
           }
          ],
          "scatter3d": [
           {
            "line": {
             "colorbar": {
              "outlinewidth": 0,
              "ticks": ""
             }
            },
            "marker": {
             "colorbar": {
              "outlinewidth": 0,
              "ticks": ""
             }
            },
            "type": "scatter3d"
           }
          ],
          "scattercarpet": [
           {
            "marker": {
             "colorbar": {
              "outlinewidth": 0,
              "ticks": ""
             }
            },
            "type": "scattercarpet"
           }
          ],
          "scattergeo": [
           {
            "marker": {
             "colorbar": {
              "outlinewidth": 0,
              "ticks": ""
             }
            },
            "type": "scattergeo"
           }
          ],
          "scattergl": [
           {
            "marker": {
             "line": {
              "color": "#283442"
             }
            },
            "type": "scattergl"
           }
          ],
          "scattermapbox": [
           {
            "marker": {
             "colorbar": {
              "outlinewidth": 0,
              "ticks": ""
             }
            },
            "type": "scattermapbox"
           }
          ],
          "scatterpolar": [
           {
            "marker": {
             "colorbar": {
              "outlinewidth": 0,
              "ticks": ""
             }
            },
            "type": "scatterpolar"
           }
          ],
          "scatterpolargl": [
           {
            "marker": {
             "colorbar": {
              "outlinewidth": 0,
              "ticks": ""
             }
            },
            "type": "scatterpolargl"
           }
          ],
          "scatterternary": [
           {
            "marker": {
             "colorbar": {
              "outlinewidth": 0,
              "ticks": ""
             }
            },
            "type": "scatterternary"
           }
          ],
          "surface": [
           {
            "colorbar": {
             "outlinewidth": 0,
             "ticks": ""
            },
            "colorscale": [
             [
              0,
              "#0d0887"
             ],
             [
              0.1111111111111111,
              "#46039f"
             ],
             [
              0.2222222222222222,
              "#7201a8"
             ],
             [
              0.3333333333333333,
              "#9c179e"
             ],
             [
              0.4444444444444444,
              "#bd3786"
             ],
             [
              0.5555555555555556,
              "#d8576b"
             ],
             [
              0.6666666666666666,
              "#ed7953"
             ],
             [
              0.7777777777777778,
              "#fb9f3a"
             ],
             [
              0.8888888888888888,
              "#fdca26"
             ],
             [
              1,
              "#f0f921"
             ]
            ],
            "type": "surface"
           }
          ],
          "table": [
           {
            "cells": {
             "fill": {
              "color": "#506784"
             },
             "line": {
              "color": "rgb(17,17,17)"
             }
            },
            "header": {
             "fill": {
              "color": "#2a3f5f"
             },
             "line": {
              "color": "rgb(17,17,17)"
             }
            },
            "type": "table"
           }
          ]
         },
         "layout": {
          "annotationdefaults": {
           "arrowcolor": "#f2f5fa",
           "arrowhead": 0,
           "arrowwidth": 1
          },
          "autotypenumbers": "strict",
          "coloraxis": {
           "colorbar": {
            "outlinewidth": 0,
            "ticks": ""
           }
          },
          "colorscale": {
           "diverging": [
            [
             0,
             "#8e0152"
            ],
            [
             0.1,
             "#c51b7d"
            ],
            [
             0.2,
             "#de77ae"
            ],
            [
             0.3,
             "#f1b6da"
            ],
            [
             0.4,
             "#fde0ef"
            ],
            [
             0.5,
             "#f7f7f7"
            ],
            [
             0.6,
             "#e6f5d0"
            ],
            [
             0.7,
             "#b8e186"
            ],
            [
             0.8,
             "#7fbc41"
            ],
            [
             0.9,
             "#4d9221"
            ],
            [
             1,
             "#276419"
            ]
           ],
           "sequential": [
            [
             0,
             "#0d0887"
            ],
            [
             0.1111111111111111,
             "#46039f"
            ],
            [
             0.2222222222222222,
             "#7201a8"
            ],
            [
             0.3333333333333333,
             "#9c179e"
            ],
            [
             0.4444444444444444,
             "#bd3786"
            ],
            [
             0.5555555555555556,
             "#d8576b"
            ],
            [
             0.6666666666666666,
             "#ed7953"
            ],
            [
             0.7777777777777778,
             "#fb9f3a"
            ],
            [
             0.8888888888888888,
             "#fdca26"
            ],
            [
             1,
             "#f0f921"
            ]
           ],
           "sequentialminus": [
            [
             0,
             "#0d0887"
            ],
            [
             0.1111111111111111,
             "#46039f"
            ],
            [
             0.2222222222222222,
             "#7201a8"
            ],
            [
             0.3333333333333333,
             "#9c179e"
            ],
            [
             0.4444444444444444,
             "#bd3786"
            ],
            [
             0.5555555555555556,
             "#d8576b"
            ],
            [
             0.6666666666666666,
             "#ed7953"
            ],
            [
             0.7777777777777778,
             "#fb9f3a"
            ],
            [
             0.8888888888888888,
             "#fdca26"
            ],
            [
             1,
             "#f0f921"
            ]
           ]
          },
          "colorway": [
           "#636efa",
           "#EF553B",
           "#00cc96",
           "#ab63fa",
           "#FFA15A",
           "#19d3f3",
           "#FF6692",
           "#B6E880",
           "#FF97FF",
           "#FECB52"
          ],
          "font": {
           "color": "#f2f5fa"
          },
          "geo": {
           "bgcolor": "rgb(17,17,17)",
           "lakecolor": "rgb(17,17,17)",
           "landcolor": "rgb(17,17,17)",
           "showlakes": true,
           "showland": true,
           "subunitcolor": "#506784"
          },
          "hoverlabel": {
           "align": "left"
          },
          "hovermode": "closest",
          "mapbox": {
           "style": "dark"
          },
          "paper_bgcolor": "rgb(17,17,17)",
          "plot_bgcolor": "rgb(17,17,17)",
          "polar": {
           "angularaxis": {
            "gridcolor": "#506784",
            "linecolor": "#506784",
            "ticks": ""
           },
           "bgcolor": "rgb(17,17,17)",
           "radialaxis": {
            "gridcolor": "#506784",
            "linecolor": "#506784",
            "ticks": ""
           }
          },
          "scene": {
           "xaxis": {
            "backgroundcolor": "rgb(17,17,17)",
            "gridcolor": "#506784",
            "gridwidth": 2,
            "linecolor": "#506784",
            "showbackground": true,
            "ticks": "",
            "zerolinecolor": "#C8D4E3"
           },
           "yaxis": {
            "backgroundcolor": "rgb(17,17,17)",
            "gridcolor": "#506784",
            "gridwidth": 2,
            "linecolor": "#506784",
            "showbackground": true,
            "ticks": "",
            "zerolinecolor": "#C8D4E3"
           },
           "zaxis": {
            "backgroundcolor": "rgb(17,17,17)",
            "gridcolor": "#506784",
            "gridwidth": 2,
            "linecolor": "#506784",
            "showbackground": true,
            "ticks": "",
            "zerolinecolor": "#C8D4E3"
           }
          },
          "shapedefaults": {
           "line": {
            "color": "#f2f5fa"
           }
          },
          "sliderdefaults": {
           "bgcolor": "#C8D4E3",
           "bordercolor": "rgb(17,17,17)",
           "borderwidth": 1,
           "tickwidth": 0
          },
          "ternary": {
           "aaxis": {
            "gridcolor": "#506784",
            "linecolor": "#506784",
            "ticks": ""
           },
           "baxis": {
            "gridcolor": "#506784",
            "linecolor": "#506784",
            "ticks": ""
           },
           "bgcolor": "rgb(17,17,17)",
           "caxis": {
            "gridcolor": "#506784",
            "linecolor": "#506784",
            "ticks": ""
           }
          },
          "title": {
           "x": 0.05
          },
          "updatemenudefaults": {
           "bgcolor": "#506784",
           "borderwidth": 0
          },
          "xaxis": {
           "automargin": true,
           "gridcolor": "#283442",
           "linecolor": "#506784",
           "ticks": "",
           "title": {
            "standoff": 15
           },
           "zerolinecolor": "#283442",
           "zerolinewidth": 2
          },
          "yaxis": {
           "automargin": true,
           "gridcolor": "#283442",
           "linecolor": "#506784",
           "ticks": "",
           "title": {
            "standoff": 15
           },
           "zerolinecolor": "#283442",
           "zerolinewidth": 2
          }
         }
        },
        "title": {
         "text": "Donald Trump Polling in Pennsylvania"
        },
        "xaxis": {
         "anchor": "y",
         "domain": [
          0,
          1
         ],
         "title": {
          "text": "Date"
         }
        },
        "yaxis": {
         "anchor": "x",
         "domain": [
          0,
          1
         ],
         "title": {
          "text": "Percentage"
         }
        }
       }
      }
     },
     "metadata": {},
     "output_type": "display_data"
    },
    {
     "data": {
      "application/vnd.plotly.v1+json": {
       "config": {
        "plotlyServerURL": "https://plot.ly"
       },
       "data": [
        {
         "hoverinfo": "text+name",
         "hovertemplate": "Date=%{x}<br>Percentage=%{y}<extra></extra>",
         "legendgroup": "",
         "marker": {
          "color": "#636efa",
          "symbol": "circle"
         },
         "mode": "lines+markers",
         "name": "",
         "orientation": "v",
         "showlegend": false,
         "type": "scatter",
         "x": [
          "2024-04-11T00:00:00",
          "2024-04-08T00:00:00",
          "2024-03-20T00:00:00",
          "2024-03-22T00:00:00",
          "2024-03-17T00:00:00",
          "2024-03-13T00:00:00",
          "2024-03-14T00:00:00",
          "2024-03-10T00:00:00",
          "2024-03-08T00:00:00",
          "2024-03-07T00:00:00",
          "2024-02-25T00:00:00",
          "2024-02-25T00:00:00",
          "2024-02-12T00:00:00",
          "2024-02-14T00:00:00",
          "2024-01-17T00:00:00",
          "2024-01-16T00:00:00",
          "2024-01-04T00:00:00",
          "2023-12-28T00:00:00",
          "2023-11-27T00:00:00",
          "2023-11-27T00:00:00",
          "2023-11-27T00:00:00",
          "2023-11-27T00:00:00",
          "2023-10-30T00:00:00",
          "2023-10-22T00:00:00",
          "2023-10-22T00:00:00",
          "2023-10-07T00:00:00",
          "2023-05-02T00:00:00"
         ],
         "xaxis": "x",
         "y": [
          8,
          8,
          9,
          7,
          7,
          16,
          7,
          5.4,
          7,
          9,
          8,
          13,
          8,
          7.6,
          8,
          7,
          11,
          6,
          9,
          7,
          13,
          18,
          8,
          23,
          21,
          9,
          42
         ],
         "yaxis": "y"
        },
        {
         "hoverinfo": "text+name",
         "mode": "lines+markers",
         "name": "Least Squares",
         "type": "scatter",
         "x": [
          "2024-04-11T00:00:00",
          "2024-04-08T00:00:00",
          "2024-03-20T00:00:00",
          "2024-03-22T00:00:00",
          "2024-03-17T00:00:00",
          "2024-03-13T00:00:00",
          "2024-03-14T00:00:00",
          "2024-03-10T00:00:00",
          "2024-03-08T00:00:00",
          "2024-03-07T00:00:00",
          "2024-02-25T00:00:00",
          "2024-02-25T00:00:00",
          "2024-02-12T00:00:00",
          "2024-02-14T00:00:00",
          "2024-01-17T00:00:00",
          "2024-01-16T00:00:00",
          "2024-01-04T00:00:00",
          "2023-12-28T00:00:00",
          "2023-11-27T00:00:00",
          "2023-11-27T00:00:00",
          "2023-11-27T00:00:00",
          "2023-11-27T00:00:00",
          "2023-10-30T00:00:00",
          "2023-10-22T00:00:00",
          "2023-10-22T00:00:00",
          "2023-10-07T00:00:00",
          "2023-05-02T00:00:00"
         ],
         "y": [
          4.2998214064527644,
          4.642533188267388,
          5.576830783928683,
          5.944021978730065,
          6.372411705998345,
          6.808961237595543,
          6.955837715516097,
          7.3842274427843755,
          7.633101474816424,
          7.73509902892792,
          8.669396624589215,
          8.689796135411513,
          9.554735394276992,
          9.636333437566188,
          11.533487944039997,
          12.059795323255312,
          12.69626006091104,
          13.079770864370264,
          14.39757926349078,
          14.940206251363932,
          14.952445957857314,
          14.964685664350693,
          16.192736215853092,
          16.93527840978478,
          16.947518116278157,
          18.69371624266695,
          24.703412130916245
         ]
        }
       ],
       "layout": {
        "annotations": [
         {
          "showarrow": false,
          "text": "50%",
          "x": 1,
          "xanchor": "right",
          "xref": "x domain",
          "y": 50,
          "yanchor": "bottom",
          "yref": "y"
         }
        ],
        "hovermode": "x unified",
        "legend": {
         "tracegroupgap": 0
        },
        "shapes": [
         {
          "line": {
           "color": "red",
           "dash": "dot"
          },
          "type": "line",
          "x0": 0,
          "x1": 1,
          "xref": "x domain",
          "y0": 50,
          "y1": 50,
          "yref": "y"
         }
        ],
        "template": {
         "data": {
          "bar": [
           {
            "error_x": {
             "color": "#f2f5fa"
            },
            "error_y": {
             "color": "#f2f5fa"
            },
            "marker": {
             "line": {
              "color": "rgb(17,17,17)",
              "width": 0.5
             },
             "pattern": {
              "fillmode": "overlay",
              "size": 10,
              "solidity": 0.2
             }
            },
            "type": "bar"
           }
          ],
          "barpolar": [
           {
            "marker": {
             "line": {
              "color": "rgb(17,17,17)",
              "width": 0.5
             },
             "pattern": {
              "fillmode": "overlay",
              "size": 10,
              "solidity": 0.2
             }
            },
            "type": "barpolar"
           }
          ],
          "carpet": [
           {
            "aaxis": {
             "endlinecolor": "#A2B1C6",
             "gridcolor": "#506784",
             "linecolor": "#506784",
             "minorgridcolor": "#506784",
             "startlinecolor": "#A2B1C6"
            },
            "baxis": {
             "endlinecolor": "#A2B1C6",
             "gridcolor": "#506784",
             "linecolor": "#506784",
             "minorgridcolor": "#506784",
             "startlinecolor": "#A2B1C6"
            },
            "type": "carpet"
           }
          ],
          "choropleth": [
           {
            "colorbar": {
             "outlinewidth": 0,
             "ticks": ""
            },
            "type": "choropleth"
           }
          ],
          "contour": [
           {
            "colorbar": {
             "outlinewidth": 0,
             "ticks": ""
            },
            "colorscale": [
             [
              0,
              "#0d0887"
             ],
             [
              0.1111111111111111,
              "#46039f"
             ],
             [
              0.2222222222222222,
              "#7201a8"
             ],
             [
              0.3333333333333333,
              "#9c179e"
             ],
             [
              0.4444444444444444,
              "#bd3786"
             ],
             [
              0.5555555555555556,
              "#d8576b"
             ],
             [
              0.6666666666666666,
              "#ed7953"
             ],
             [
              0.7777777777777778,
              "#fb9f3a"
             ],
             [
              0.8888888888888888,
              "#fdca26"
             ],
             [
              1,
              "#f0f921"
             ]
            ],
            "type": "contour"
           }
          ],
          "contourcarpet": [
           {
            "colorbar": {
             "outlinewidth": 0,
             "ticks": ""
            },
            "type": "contourcarpet"
           }
          ],
          "heatmap": [
           {
            "colorbar": {
             "outlinewidth": 0,
             "ticks": ""
            },
            "colorscale": [
             [
              0,
              "#0d0887"
             ],
             [
              0.1111111111111111,
              "#46039f"
             ],
             [
              0.2222222222222222,
              "#7201a8"
             ],
             [
              0.3333333333333333,
              "#9c179e"
             ],
             [
              0.4444444444444444,
              "#bd3786"
             ],
             [
              0.5555555555555556,
              "#d8576b"
             ],
             [
              0.6666666666666666,
              "#ed7953"
             ],
             [
              0.7777777777777778,
              "#fb9f3a"
             ],
             [
              0.8888888888888888,
              "#fdca26"
             ],
             [
              1,
              "#f0f921"
             ]
            ],
            "type": "heatmap"
           }
          ],
          "heatmapgl": [
           {
            "colorbar": {
             "outlinewidth": 0,
             "ticks": ""
            },
            "colorscale": [
             [
              0,
              "#0d0887"
             ],
             [
              0.1111111111111111,
              "#46039f"
             ],
             [
              0.2222222222222222,
              "#7201a8"
             ],
             [
              0.3333333333333333,
              "#9c179e"
             ],
             [
              0.4444444444444444,
              "#bd3786"
             ],
             [
              0.5555555555555556,
              "#d8576b"
             ],
             [
              0.6666666666666666,
              "#ed7953"
             ],
             [
              0.7777777777777778,
              "#fb9f3a"
             ],
             [
              0.8888888888888888,
              "#fdca26"
             ],
             [
              1,
              "#f0f921"
             ]
            ],
            "type": "heatmapgl"
           }
          ],
          "histogram": [
           {
            "marker": {
             "pattern": {
              "fillmode": "overlay",
              "size": 10,
              "solidity": 0.2
             }
            },
            "type": "histogram"
           }
          ],
          "histogram2d": [
           {
            "colorbar": {
             "outlinewidth": 0,
             "ticks": ""
            },
            "colorscale": [
             [
              0,
              "#0d0887"
             ],
             [
              0.1111111111111111,
              "#46039f"
             ],
             [
              0.2222222222222222,
              "#7201a8"
             ],
             [
              0.3333333333333333,
              "#9c179e"
             ],
             [
              0.4444444444444444,
              "#bd3786"
             ],
             [
              0.5555555555555556,
              "#d8576b"
             ],
             [
              0.6666666666666666,
              "#ed7953"
             ],
             [
              0.7777777777777778,
              "#fb9f3a"
             ],
             [
              0.8888888888888888,
              "#fdca26"
             ],
             [
              1,
              "#f0f921"
             ]
            ],
            "type": "histogram2d"
           }
          ],
          "histogram2dcontour": [
           {
            "colorbar": {
             "outlinewidth": 0,
             "ticks": ""
            },
            "colorscale": [
             [
              0,
              "#0d0887"
             ],
             [
              0.1111111111111111,
              "#46039f"
             ],
             [
              0.2222222222222222,
              "#7201a8"
             ],
             [
              0.3333333333333333,
              "#9c179e"
             ],
             [
              0.4444444444444444,
              "#bd3786"
             ],
             [
              0.5555555555555556,
              "#d8576b"
             ],
             [
              0.6666666666666666,
              "#ed7953"
             ],
             [
              0.7777777777777778,
              "#fb9f3a"
             ],
             [
              0.8888888888888888,
              "#fdca26"
             ],
             [
              1,
              "#f0f921"
             ]
            ],
            "type": "histogram2dcontour"
           }
          ],
          "mesh3d": [
           {
            "colorbar": {
             "outlinewidth": 0,
             "ticks": ""
            },
            "type": "mesh3d"
           }
          ],
          "parcoords": [
           {
            "line": {
             "colorbar": {
              "outlinewidth": 0,
              "ticks": ""
             }
            },
            "type": "parcoords"
           }
          ],
          "pie": [
           {
            "automargin": true,
            "type": "pie"
           }
          ],
          "scatter": [
           {
            "marker": {
             "line": {
              "color": "#283442"
             }
            },
            "type": "scatter"
           }
          ],
          "scatter3d": [
           {
            "line": {
             "colorbar": {
              "outlinewidth": 0,
              "ticks": ""
             }
            },
            "marker": {
             "colorbar": {
              "outlinewidth": 0,
              "ticks": ""
             }
            },
            "type": "scatter3d"
           }
          ],
          "scattercarpet": [
           {
            "marker": {
             "colorbar": {
              "outlinewidth": 0,
              "ticks": ""
             }
            },
            "type": "scattercarpet"
           }
          ],
          "scattergeo": [
           {
            "marker": {
             "colorbar": {
              "outlinewidth": 0,
              "ticks": ""
             }
            },
            "type": "scattergeo"
           }
          ],
          "scattergl": [
           {
            "marker": {
             "line": {
              "color": "#283442"
             }
            },
            "type": "scattergl"
           }
          ],
          "scattermapbox": [
           {
            "marker": {
             "colorbar": {
              "outlinewidth": 0,
              "ticks": ""
             }
            },
            "type": "scattermapbox"
           }
          ],
          "scatterpolar": [
           {
            "marker": {
             "colorbar": {
              "outlinewidth": 0,
              "ticks": ""
             }
            },
            "type": "scatterpolar"
           }
          ],
          "scatterpolargl": [
           {
            "marker": {
             "colorbar": {
              "outlinewidth": 0,
              "ticks": ""
             }
            },
            "type": "scatterpolargl"
           }
          ],
          "scatterternary": [
           {
            "marker": {
             "colorbar": {
              "outlinewidth": 0,
              "ticks": ""
             }
            },
            "type": "scatterternary"
           }
          ],
          "surface": [
           {
            "colorbar": {
             "outlinewidth": 0,
             "ticks": ""
            },
            "colorscale": [
             [
              0,
              "#0d0887"
             ],
             [
              0.1111111111111111,
              "#46039f"
             ],
             [
              0.2222222222222222,
              "#7201a8"
             ],
             [
              0.3333333333333333,
              "#9c179e"
             ],
             [
              0.4444444444444444,
              "#bd3786"
             ],
             [
              0.5555555555555556,
              "#d8576b"
             ],
             [
              0.6666666666666666,
              "#ed7953"
             ],
             [
              0.7777777777777778,
              "#fb9f3a"
             ],
             [
              0.8888888888888888,
              "#fdca26"
             ],
             [
              1,
              "#f0f921"
             ]
            ],
            "type": "surface"
           }
          ],
          "table": [
           {
            "cells": {
             "fill": {
              "color": "#506784"
             },
             "line": {
              "color": "rgb(17,17,17)"
             }
            },
            "header": {
             "fill": {
              "color": "#2a3f5f"
             },
             "line": {
              "color": "rgb(17,17,17)"
             }
            },
            "type": "table"
           }
          ]
         },
         "layout": {
          "annotationdefaults": {
           "arrowcolor": "#f2f5fa",
           "arrowhead": 0,
           "arrowwidth": 1
          },
          "autotypenumbers": "strict",
          "coloraxis": {
           "colorbar": {
            "outlinewidth": 0,
            "ticks": ""
           }
          },
          "colorscale": {
           "diverging": [
            [
             0,
             "#8e0152"
            ],
            [
             0.1,
             "#c51b7d"
            ],
            [
             0.2,
             "#de77ae"
            ],
            [
             0.3,
             "#f1b6da"
            ],
            [
             0.4,
             "#fde0ef"
            ],
            [
             0.5,
             "#f7f7f7"
            ],
            [
             0.6,
             "#e6f5d0"
            ],
            [
             0.7,
             "#b8e186"
            ],
            [
             0.8,
             "#7fbc41"
            ],
            [
             0.9,
             "#4d9221"
            ],
            [
             1,
             "#276419"
            ]
           ],
           "sequential": [
            [
             0,
             "#0d0887"
            ],
            [
             0.1111111111111111,
             "#46039f"
            ],
            [
             0.2222222222222222,
             "#7201a8"
            ],
            [
             0.3333333333333333,
             "#9c179e"
            ],
            [
             0.4444444444444444,
             "#bd3786"
            ],
            [
             0.5555555555555556,
             "#d8576b"
            ],
            [
             0.6666666666666666,
             "#ed7953"
            ],
            [
             0.7777777777777778,
             "#fb9f3a"
            ],
            [
             0.8888888888888888,
             "#fdca26"
            ],
            [
             1,
             "#f0f921"
            ]
           ],
           "sequentialminus": [
            [
             0,
             "#0d0887"
            ],
            [
             0.1111111111111111,
             "#46039f"
            ],
            [
             0.2222222222222222,
             "#7201a8"
            ],
            [
             0.3333333333333333,
             "#9c179e"
            ],
            [
             0.4444444444444444,
             "#bd3786"
            ],
            [
             0.5555555555555556,
             "#d8576b"
            ],
            [
             0.6666666666666666,
             "#ed7953"
            ],
            [
             0.7777777777777778,
             "#fb9f3a"
            ],
            [
             0.8888888888888888,
             "#fdca26"
            ],
            [
             1,
             "#f0f921"
            ]
           ]
          },
          "colorway": [
           "#636efa",
           "#EF553B",
           "#00cc96",
           "#ab63fa",
           "#FFA15A",
           "#19d3f3",
           "#FF6692",
           "#B6E880",
           "#FF97FF",
           "#FECB52"
          ],
          "font": {
           "color": "#f2f5fa"
          },
          "geo": {
           "bgcolor": "rgb(17,17,17)",
           "lakecolor": "rgb(17,17,17)",
           "landcolor": "rgb(17,17,17)",
           "showlakes": true,
           "showland": true,
           "subunitcolor": "#506784"
          },
          "hoverlabel": {
           "align": "left"
          },
          "hovermode": "closest",
          "mapbox": {
           "style": "dark"
          },
          "paper_bgcolor": "rgb(17,17,17)",
          "plot_bgcolor": "rgb(17,17,17)",
          "polar": {
           "angularaxis": {
            "gridcolor": "#506784",
            "linecolor": "#506784",
            "ticks": ""
           },
           "bgcolor": "rgb(17,17,17)",
           "radialaxis": {
            "gridcolor": "#506784",
            "linecolor": "#506784",
            "ticks": ""
           }
          },
          "scene": {
           "xaxis": {
            "backgroundcolor": "rgb(17,17,17)",
            "gridcolor": "#506784",
            "gridwidth": 2,
            "linecolor": "#506784",
            "showbackground": true,
            "ticks": "",
            "zerolinecolor": "#C8D4E3"
           },
           "yaxis": {
            "backgroundcolor": "rgb(17,17,17)",
            "gridcolor": "#506784",
            "gridwidth": 2,
            "linecolor": "#506784",
            "showbackground": true,
            "ticks": "",
            "zerolinecolor": "#C8D4E3"
           },
           "zaxis": {
            "backgroundcolor": "rgb(17,17,17)",
            "gridcolor": "#506784",
            "gridwidth": 2,
            "linecolor": "#506784",
            "showbackground": true,
            "ticks": "",
            "zerolinecolor": "#C8D4E3"
           }
          },
          "shapedefaults": {
           "line": {
            "color": "#f2f5fa"
           }
          },
          "sliderdefaults": {
           "bgcolor": "#C8D4E3",
           "bordercolor": "rgb(17,17,17)",
           "borderwidth": 1,
           "tickwidth": 0
          },
          "ternary": {
           "aaxis": {
            "gridcolor": "#506784",
            "linecolor": "#506784",
            "ticks": ""
           },
           "baxis": {
            "gridcolor": "#506784",
            "linecolor": "#506784",
            "ticks": ""
           },
           "bgcolor": "rgb(17,17,17)",
           "caxis": {
            "gridcolor": "#506784",
            "linecolor": "#506784",
            "ticks": ""
           }
          },
          "title": {
           "x": 0.05
          },
          "updatemenudefaults": {
           "bgcolor": "#506784",
           "borderwidth": 0
          },
          "xaxis": {
           "automargin": true,
           "gridcolor": "#283442",
           "linecolor": "#506784",
           "ticks": "",
           "title": {
            "standoff": 15
           },
           "zerolinecolor": "#283442",
           "zerolinewidth": 2
          },
          "yaxis": {
           "automargin": true,
           "gridcolor": "#283442",
           "linecolor": "#506784",
           "ticks": "",
           "title": {
            "standoff": 15
           },
           "zerolinecolor": "#283442",
           "zerolinewidth": 2
          }
         }
        },
        "title": {
         "text": "Robert F. Kennedy Polling in Pennsylvania"
        },
        "xaxis": {
         "anchor": "y",
         "domain": [
          0,
          1
         ],
         "title": {
          "text": "Date"
         }
        },
        "yaxis": {
         "anchor": "x",
         "domain": [
          0,
          1
         ],
         "title": {
          "text": "Percentage"
         }
        }
       }
      }
     },
     "metadata": {},
     "output_type": "display_data"
    }
   ],
   "source": [
    "def time_series(df, name, state, x='start_date', y='pct'):\n",
    "    df = df.copy()\n",
    "    df[x] = pd.to_datetime(df[x],format='%m/%d/%y').to_numpy()\n",
    "    fig = px.scatter(df, x=x, y=y, title=f'{name} Polling in {state}', labels={x:'Date', y:'Percentage'}, template='plotly_dark')\n",
    "    #Add least squares line\n",
    "    m, b = np.polyfit(df.index, df[y], 1)\n",
    "    fig.add_scatter(x=df[x], y=m*df.index+b, mode='lines', name='Least Squares')\n",
    "    #Add traceline \n",
    "    fig.update_traces(hoverinfo='text+name', mode='lines+markers',)\n",
    "    fig.update_layout(hovermode=\"x unified\")\n",
    "    #Add horizontal line at 50%\n",
    "    fig.add_hline(y=50, line_dash=\"dot\", line_color=\"red\", annotation_text=\"50%\")\n",
    "    return fig.show()\n",
    "#Make time series plot for Biden in PA\n",
    "time_series(biden_pa, 'Joe Biden', 'Pennsylvania')\n",
    "time_series(trump_pa, 'Donald Trump', 'Pennsylvania')\n",
    "time_series(kennedy_pa, 'Robert F. Kennedy', 'Pennsylvania')"
   ]
  },
  {
   "cell_type": "code",
   "execution_count": 6,
   "metadata": {},
   "outputs": [],
   "source": [
    "#Make a biden time series plot for all states\n",
    "# for i in range(len(states)):\n",
    "#     time_series(biden_states[i], 'Joe Biden', states[i]['state'].iloc[0])\n",
    "\n",
    "# #Make a trump time series plot for all states\n",
    "# for i in range(len(states)):\n",
    "#     time_series(trump_states[i], 'Donald Trump', states[i]['state'].iloc[0])\n",
    "\n",
    "# #Make a kennedy time series plot for all states\n",
    "# for i in range(len(states)):\n",
    "#     time_series(kennedy_states[i], 'Robert F. Kennedy', states[i]['state'].iloc[0])"
   ]
  },
  {
   "cell_type": "code",
   "execution_count": 7,
   "metadata": {},
   "outputs": [
    {
     "data": {
      "application/vnd.plotly.v1+json": {
       "config": {
        "plotlyServerURL": "https://plot.ly"
       },
       "data": [
        {
         "hoverinfo": "text+name",
         "hovertemplate": "start_date=%{x}<br>pct=%{y}<extra></extra>",
         "legendgroup": "",
         "marker": {
          "color": "#636efa",
          "symbol": "circle"
         },
         "mode": "lines+markers",
         "name": "",
         "orientation": "v",
         "showlegend": false,
         "type": "scatter",
         "x": [
          "2024-04-20T00:00:00",
          "2024-04-11T00:00:00",
          "2024-04-11T00:00:00",
          "2024-04-08T00:00:00",
          "2024-04-08T00:00:00",
          "2024-04-08T00:00:00",
          "2024-04-08T00:00:00",
          "2024-03-25T00:00:00",
          "2024-03-25T00:00:00",
          "2024-03-17T00:00:00",
          "2024-03-17T00:00:00",
          "2024-03-17T00:00:00",
          "2024-03-12T00:00:00",
          "2024-03-14T00:00:00",
          "2024-03-14T00:00:00",
          "2024-03-13T00:00:00",
          "2024-03-13T00:00:00",
          "2024-03-14T00:00:00",
          "2024-03-15T00:00:00",
          "2024-03-15T00:00:00",
          "2024-03-08T00:00:00",
          "2024-03-08T00:00:00",
          "2024-03-08T00:00:00",
          "2024-03-08T00:00:00",
          "2024-02-22T00:00:00",
          "2024-02-20T00:00:00",
          "2024-02-20T00:00:00",
          "2024-02-22T00:00:00",
          "2024-02-13T00:00:00",
          "2024-02-12T00:00:00",
          "2024-02-12T00:00:00",
          "2024-02-08T00:00:00",
          "2024-02-08T00:00:00",
          "2024-02-08T00:00:00",
          "2024-02-08T00:00:00",
          "2024-01-17T00:00:00",
          "2024-01-17T00:00:00",
          "2024-01-16T00:00:00",
          "2024-01-16T00:00:00",
          "2024-01-04T00:00:00",
          "2024-01-02T00:00:00",
          "2024-01-02T00:00:00",
          "2024-01-02T00:00:00",
          "2024-01-02T00:00:00",
          "2023-12-28T00:00:00",
          "2023-11-29T00:00:00",
          "2023-11-29T00:00:00",
          "2023-11-29T00:00:00",
          "2023-11-29T00:00:00",
          "2023-11-27T00:00:00",
          "2023-11-27T00:00:00",
          "2023-11-27T00:00:00",
          "2023-11-27T00:00:00",
          "2023-11-27T00:00:00",
          "2023-11-10T00:00:00",
          "2023-11-10T00:00:00",
          "2023-10-30T00:00:00",
          "2023-10-30T00:00:00",
          "2023-10-30T00:00:00",
          "2023-10-30T00:00:00",
          "2023-10-22T00:00:00",
          "2023-10-22T00:00:00",
          "2023-10-22T00:00:00",
          "2023-10-22T00:00:00",
          "2023-10-22T00:00:00",
          "2023-10-22T00:00:00",
          "2023-10-22T00:00:00",
          "2023-10-22T00:00:00",
          "2023-10-05T00:00:00",
          "2023-10-07T00:00:00",
          "2023-10-07T00:00:00",
          "2023-10-02T00:00:00",
          "2023-10-01T00:00:00",
          "2023-09-26T00:00:00",
          "2023-09-07T00:00:00",
          "2023-09-07T00:00:00",
          "2023-08-06T00:00:00",
          "2023-08-01T00:00:00",
          "2023-08-01T00:00:00",
          "2023-07-11T00:00:00",
          "2023-07-11T00:00:00",
          "2023-07-08T00:00:00",
          "2023-07-08T00:00:00",
          "2023-06-14T00:00:00",
          "2023-06-08T00:00:00",
          "2023-06-08T00:00:00",
          "2023-04-17T00:00:00",
          "2023-04-17T00:00:00",
          "2022-12-06T00:00:00",
          "2022-11-30T00:00:00",
          "2022-10-28T00:00:00",
          "2022-10-12T00:00:00",
          "2022-09-15T00:00:00",
          "2022-08-15T00:00:00",
          "2022-02-01T00:00:00",
          "2021-11-11T00:00:00"
         ],
         "xaxis": "x",
         "y": [
          36,
          40,
          46,
          43,
          47,
          36,
          34,
          43.7,
          39.8,
          37,
          40,
          45,
          45,
          49.7,
          40.6,
          42,
          34,
          39,
          44,
          42,
          45,
          36,
          40,
          45,
          43,
          44,
          38.7,
          36,
          41,
          40,
          44,
          45,
          37,
          42,
          35,
          41,
          50.6,
          37,
          42,
          45,
          39,
          29,
          34,
          44,
          37,
          40,
          38,
          42,
          31,
          35,
          42,
          38,
          39,
          37,
          41,
          36,
          43,
          38,
          42.6,
          44.4,
          43,
          46,
          42,
          44,
          35,
          36,
          31,
          34,
          44,
          41,
          38,
          35.1,
          44.1,
          48,
          46,
          48,
          46,
          44.1,
          41.2,
          45,
          44,
          44,
          45,
          50,
          44,
          44,
          43,
          45,
          50,
          47,
          44.4,
          43.7,
          48,
          41.2,
          38.2,
          41
         ],
         "yaxis": "y"
        },
        {
         "hoverinfo": "text+name",
         "mode": "lines+markers",
         "name": "Least Squares",
         "type": "scatter",
         "x": [
          "2024-04-20T00:00:00",
          "2024-04-11T00:00:00",
          "2024-04-11T00:00:00",
          "2024-04-08T00:00:00",
          "2024-04-08T00:00:00",
          "2024-04-08T00:00:00",
          "2024-04-08T00:00:00",
          "2024-03-25T00:00:00",
          "2024-03-25T00:00:00",
          "2024-03-17T00:00:00",
          "2024-03-17T00:00:00",
          "2024-03-17T00:00:00",
          "2024-03-12T00:00:00",
          "2024-03-14T00:00:00",
          "2024-03-14T00:00:00",
          "2024-03-13T00:00:00",
          "2024-03-13T00:00:00",
          "2024-03-14T00:00:00",
          "2024-03-15T00:00:00",
          "2024-03-15T00:00:00",
          "2024-03-08T00:00:00",
          "2024-03-08T00:00:00",
          "2024-03-08T00:00:00",
          "2024-03-08T00:00:00",
          "2024-02-22T00:00:00",
          "2024-02-20T00:00:00",
          "2024-02-20T00:00:00",
          "2024-02-22T00:00:00",
          "2024-02-13T00:00:00",
          "2024-02-12T00:00:00",
          "2024-02-12T00:00:00",
          "2024-02-08T00:00:00",
          "2024-02-08T00:00:00",
          "2024-02-08T00:00:00",
          "2024-02-08T00:00:00",
          "2024-01-17T00:00:00",
          "2024-01-17T00:00:00",
          "2024-01-16T00:00:00",
          "2024-01-16T00:00:00",
          "2024-01-04T00:00:00",
          "2024-01-02T00:00:00",
          "2024-01-02T00:00:00",
          "2024-01-02T00:00:00",
          "2024-01-02T00:00:00",
          "2023-12-28T00:00:00",
          "2023-11-29T00:00:00",
          "2023-11-29T00:00:00",
          "2023-11-29T00:00:00",
          "2023-11-29T00:00:00",
          "2023-11-27T00:00:00",
          "2023-11-27T00:00:00",
          "2023-11-27T00:00:00",
          "2023-11-27T00:00:00",
          "2023-11-27T00:00:00",
          "2023-11-10T00:00:00",
          "2023-11-10T00:00:00",
          "2023-10-30T00:00:00",
          "2023-10-30T00:00:00",
          "2023-10-30T00:00:00",
          "2023-10-30T00:00:00",
          "2023-10-22T00:00:00",
          "2023-10-22T00:00:00",
          "2023-10-22T00:00:00",
          "2023-10-22T00:00:00",
          "2023-10-22T00:00:00",
          "2023-10-22T00:00:00",
          "2023-10-22T00:00:00",
          "2023-10-22T00:00:00",
          "2023-10-05T00:00:00",
          "2023-10-07T00:00:00",
          "2023-10-07T00:00:00",
          "2023-10-02T00:00:00",
          "2023-10-01T00:00:00",
          "2023-09-26T00:00:00",
          "2023-09-07T00:00:00",
          "2023-09-07T00:00:00",
          "2023-08-06T00:00:00",
          "2023-08-01T00:00:00",
          "2023-08-01T00:00:00",
          "2023-07-11T00:00:00",
          "2023-07-11T00:00:00",
          "2023-07-08T00:00:00",
          "2023-07-08T00:00:00",
          "2023-06-14T00:00:00",
          "2023-06-08T00:00:00",
          "2023-06-08T00:00:00",
          "2023-04-17T00:00:00",
          "2023-04-17T00:00:00",
          "2022-12-06T00:00:00",
          "2022-11-30T00:00:00",
          "2022-10-28T00:00:00",
          "2022-10-12T00:00:00",
          "2022-09-15T00:00:00",
          "2022-08-15T00:00:00",
          "2022-02-01T00:00:00",
          "2021-11-11T00:00:00"
         ],
         "y": [
          39.70576486183928,
          39.75153941177403,
          39.75459104843635,
          39.776562832405034,
          39.779614469067354,
          39.81745476368008,
          39.81867541834501,
          39.970646924128395,
          39.97186757879332,
          40.043886204024005,
          40.047548168018785,
          40.04998947734864,
          40.11041188326252,
          40.116515156587155,
          40.11773581125208,
          40.12628039390657,
          40.127501048571496,
          40.14825217787525,
          40.15679676052974,
          40.158017415194664,
          40.23735996841491,
          40.238580623079834,
          40.245904551069394,
          40.248956187731714,
          40.442429952122616,
          40.44487126145247,
          40.446091916117396,
          40.45707780810174,
          40.519331196013006,
          40.52909643333242,
          40.53214806999473,
          40.63529338918105,
          40.63651404384598,
          40.6395656805083,
          40.640786335173225,
          40.872710721509314,
          40.87393137617424,
          40.90383741546495,
          40.90688905212727,
          40.99172455133968,
          41.02712353662256,
          41.02834419128749,
          41.033837137279654,
          41.040550737936755,
          41.065574158567756,
          41.23890712098736,
          41.24012777565229,
          41.24134843031722,
          41.242569084982144,
          41.253554976966484,
          41.256606613628804,
          41.33655949418151,
          41.3383904761789,
          41.34022145817629,
          41.418343356731604,
          41.41956401139653,
          41.52270933058285,
          41.523929985247776,
          41.55444635187094,
          41.55566700653587,
          41.60937581179265,
          41.61059646645758,
          41.61425843045236,
          41.615479085117286,
          41.61669973978221,
          41.61792039444714,
          41.619141049112066,
          41.62097203110945,
          41.87791983807655,
          41.884023111401184,
          41.88524376606611,
          41.91453947802436,
          41.94871780864231,
          41.99937497723677,
          42.14219157303321,
          42.143412227698136,
          42.3057592981334,
          42.34054795608382,
          42.341768610748744,
          42.433928037950714,
          42.43514869261564,
          42.4558998219194,
          42.45712047658433,
          42.50411568118401,
          42.58895118039642,
          42.59017183506135,
          42.913645321266955,
          42.91486597593188,
          43.41350340655449,
          43.4183860252142,
          43.52824494505761,
          43.57462982232483,
          43.63322124624132,
          43.76871391404819,
          44.01162419236863,
          44.078760198939605
         ]
        }
       ],
       "layout": {
        "annotations": [
         {
          "showarrow": false,
          "text": "50%",
          "x": 1,
          "xanchor": "right",
          "xref": "x domain",
          "y": 50,
          "yanchor": "bottom",
          "yref": "y"
         }
        ],
        "hovermode": "x unified",
        "legend": {
         "tracegroupgap": 0
        },
        "shapes": [
         {
          "line": {
           "color": "red",
           "dash": "dot"
          },
          "type": "line",
          "x0": 0,
          "x1": 1,
          "xref": "x domain",
          "y0": 50,
          "y1": 50,
          "yref": "y"
         }
        ],
        "template": {
         "data": {
          "bar": [
           {
            "error_x": {
             "color": "#2a3f5f"
            },
            "error_y": {
             "color": "#2a3f5f"
            },
            "marker": {
             "line": {
              "color": "#E5ECF6",
              "width": 0.5
             },
             "pattern": {
              "fillmode": "overlay",
              "size": 10,
              "solidity": 0.2
             }
            },
            "type": "bar"
           }
          ],
          "barpolar": [
           {
            "marker": {
             "line": {
              "color": "#E5ECF6",
              "width": 0.5
             },
             "pattern": {
              "fillmode": "overlay",
              "size": 10,
              "solidity": 0.2
             }
            },
            "type": "barpolar"
           }
          ],
          "carpet": [
           {
            "aaxis": {
             "endlinecolor": "#2a3f5f",
             "gridcolor": "white",
             "linecolor": "white",
             "minorgridcolor": "white",
             "startlinecolor": "#2a3f5f"
            },
            "baxis": {
             "endlinecolor": "#2a3f5f",
             "gridcolor": "white",
             "linecolor": "white",
             "minorgridcolor": "white",
             "startlinecolor": "#2a3f5f"
            },
            "type": "carpet"
           }
          ],
          "choropleth": [
           {
            "colorbar": {
             "outlinewidth": 0,
             "ticks": ""
            },
            "type": "choropleth"
           }
          ],
          "contour": [
           {
            "colorbar": {
             "outlinewidth": 0,
             "ticks": ""
            },
            "colorscale": [
             [
              0,
              "#0d0887"
             ],
             [
              0.1111111111111111,
              "#46039f"
             ],
             [
              0.2222222222222222,
              "#7201a8"
             ],
             [
              0.3333333333333333,
              "#9c179e"
             ],
             [
              0.4444444444444444,
              "#bd3786"
             ],
             [
              0.5555555555555556,
              "#d8576b"
             ],
             [
              0.6666666666666666,
              "#ed7953"
             ],
             [
              0.7777777777777778,
              "#fb9f3a"
             ],
             [
              0.8888888888888888,
              "#fdca26"
             ],
             [
              1,
              "#f0f921"
             ]
            ],
            "type": "contour"
           }
          ],
          "contourcarpet": [
           {
            "colorbar": {
             "outlinewidth": 0,
             "ticks": ""
            },
            "type": "contourcarpet"
           }
          ],
          "heatmap": [
           {
            "colorbar": {
             "outlinewidth": 0,
             "ticks": ""
            },
            "colorscale": [
             [
              0,
              "#0d0887"
             ],
             [
              0.1111111111111111,
              "#46039f"
             ],
             [
              0.2222222222222222,
              "#7201a8"
             ],
             [
              0.3333333333333333,
              "#9c179e"
             ],
             [
              0.4444444444444444,
              "#bd3786"
             ],
             [
              0.5555555555555556,
              "#d8576b"
             ],
             [
              0.6666666666666666,
              "#ed7953"
             ],
             [
              0.7777777777777778,
              "#fb9f3a"
             ],
             [
              0.8888888888888888,
              "#fdca26"
             ],
             [
              1,
              "#f0f921"
             ]
            ],
            "type": "heatmap"
           }
          ],
          "heatmapgl": [
           {
            "colorbar": {
             "outlinewidth": 0,
             "ticks": ""
            },
            "colorscale": [
             [
              0,
              "#0d0887"
             ],
             [
              0.1111111111111111,
              "#46039f"
             ],
             [
              0.2222222222222222,
              "#7201a8"
             ],
             [
              0.3333333333333333,
              "#9c179e"
             ],
             [
              0.4444444444444444,
              "#bd3786"
             ],
             [
              0.5555555555555556,
              "#d8576b"
             ],
             [
              0.6666666666666666,
              "#ed7953"
             ],
             [
              0.7777777777777778,
              "#fb9f3a"
             ],
             [
              0.8888888888888888,
              "#fdca26"
             ],
             [
              1,
              "#f0f921"
             ]
            ],
            "type": "heatmapgl"
           }
          ],
          "histogram": [
           {
            "marker": {
             "pattern": {
              "fillmode": "overlay",
              "size": 10,
              "solidity": 0.2
             }
            },
            "type": "histogram"
           }
          ],
          "histogram2d": [
           {
            "colorbar": {
             "outlinewidth": 0,
             "ticks": ""
            },
            "colorscale": [
             [
              0,
              "#0d0887"
             ],
             [
              0.1111111111111111,
              "#46039f"
             ],
             [
              0.2222222222222222,
              "#7201a8"
             ],
             [
              0.3333333333333333,
              "#9c179e"
             ],
             [
              0.4444444444444444,
              "#bd3786"
             ],
             [
              0.5555555555555556,
              "#d8576b"
             ],
             [
              0.6666666666666666,
              "#ed7953"
             ],
             [
              0.7777777777777778,
              "#fb9f3a"
             ],
             [
              0.8888888888888888,
              "#fdca26"
             ],
             [
              1,
              "#f0f921"
             ]
            ],
            "type": "histogram2d"
           }
          ],
          "histogram2dcontour": [
           {
            "colorbar": {
             "outlinewidth": 0,
             "ticks": ""
            },
            "colorscale": [
             [
              0,
              "#0d0887"
             ],
             [
              0.1111111111111111,
              "#46039f"
             ],
             [
              0.2222222222222222,
              "#7201a8"
             ],
             [
              0.3333333333333333,
              "#9c179e"
             ],
             [
              0.4444444444444444,
              "#bd3786"
             ],
             [
              0.5555555555555556,
              "#d8576b"
             ],
             [
              0.6666666666666666,
              "#ed7953"
             ],
             [
              0.7777777777777778,
              "#fb9f3a"
             ],
             [
              0.8888888888888888,
              "#fdca26"
             ],
             [
              1,
              "#f0f921"
             ]
            ],
            "type": "histogram2dcontour"
           }
          ],
          "mesh3d": [
           {
            "colorbar": {
             "outlinewidth": 0,
             "ticks": ""
            },
            "type": "mesh3d"
           }
          ],
          "parcoords": [
           {
            "line": {
             "colorbar": {
              "outlinewidth": 0,
              "ticks": ""
             }
            },
            "type": "parcoords"
           }
          ],
          "pie": [
           {
            "automargin": true,
            "type": "pie"
           }
          ],
          "scatter": [
           {
            "fillpattern": {
             "fillmode": "overlay",
             "size": 10,
             "solidity": 0.2
            },
            "type": "scatter"
           }
          ],
          "scatter3d": [
           {
            "line": {
             "colorbar": {
              "outlinewidth": 0,
              "ticks": ""
             }
            },
            "marker": {
             "colorbar": {
              "outlinewidth": 0,
              "ticks": ""
             }
            },
            "type": "scatter3d"
           }
          ],
          "scattercarpet": [
           {
            "marker": {
             "colorbar": {
              "outlinewidth": 0,
              "ticks": ""
             }
            },
            "type": "scattercarpet"
           }
          ],
          "scattergeo": [
           {
            "marker": {
             "colorbar": {
              "outlinewidth": 0,
              "ticks": ""
             }
            },
            "type": "scattergeo"
           }
          ],
          "scattergl": [
           {
            "marker": {
             "colorbar": {
              "outlinewidth": 0,
              "ticks": ""
             }
            },
            "type": "scattergl"
           }
          ],
          "scattermapbox": [
           {
            "marker": {
             "colorbar": {
              "outlinewidth": 0,
              "ticks": ""
             }
            },
            "type": "scattermapbox"
           }
          ],
          "scatterpolar": [
           {
            "marker": {
             "colorbar": {
              "outlinewidth": 0,
              "ticks": ""
             }
            },
            "type": "scatterpolar"
           }
          ],
          "scatterpolargl": [
           {
            "marker": {
             "colorbar": {
              "outlinewidth": 0,
              "ticks": ""
             }
            },
            "type": "scatterpolargl"
           }
          ],
          "scatterternary": [
           {
            "marker": {
             "colorbar": {
              "outlinewidth": 0,
              "ticks": ""
             }
            },
            "type": "scatterternary"
           }
          ],
          "surface": [
           {
            "colorbar": {
             "outlinewidth": 0,
             "ticks": ""
            },
            "colorscale": [
             [
              0,
              "#0d0887"
             ],
             [
              0.1111111111111111,
              "#46039f"
             ],
             [
              0.2222222222222222,
              "#7201a8"
             ],
             [
              0.3333333333333333,
              "#9c179e"
             ],
             [
              0.4444444444444444,
              "#bd3786"
             ],
             [
              0.5555555555555556,
              "#d8576b"
             ],
             [
              0.6666666666666666,
              "#ed7953"
             ],
             [
              0.7777777777777778,
              "#fb9f3a"
             ],
             [
              0.8888888888888888,
              "#fdca26"
             ],
             [
              1,
              "#f0f921"
             ]
            ],
            "type": "surface"
           }
          ],
          "table": [
           {
            "cells": {
             "fill": {
              "color": "#EBF0F8"
             },
             "line": {
              "color": "white"
             }
            },
            "header": {
             "fill": {
              "color": "#C8D4E3"
             },
             "line": {
              "color": "white"
             }
            },
            "type": "table"
           }
          ]
         },
         "layout": {
          "annotationdefaults": {
           "arrowcolor": "#2a3f5f",
           "arrowhead": 0,
           "arrowwidth": 1
          },
          "autotypenumbers": "strict",
          "coloraxis": {
           "colorbar": {
            "outlinewidth": 0,
            "ticks": ""
           }
          },
          "colorscale": {
           "diverging": [
            [
             0,
             "#8e0152"
            ],
            [
             0.1,
             "#c51b7d"
            ],
            [
             0.2,
             "#de77ae"
            ],
            [
             0.3,
             "#f1b6da"
            ],
            [
             0.4,
             "#fde0ef"
            ],
            [
             0.5,
             "#f7f7f7"
            ],
            [
             0.6,
             "#e6f5d0"
            ],
            [
             0.7,
             "#b8e186"
            ],
            [
             0.8,
             "#7fbc41"
            ],
            [
             0.9,
             "#4d9221"
            ],
            [
             1,
             "#276419"
            ]
           ],
           "sequential": [
            [
             0,
             "#0d0887"
            ],
            [
             0.1111111111111111,
             "#46039f"
            ],
            [
             0.2222222222222222,
             "#7201a8"
            ],
            [
             0.3333333333333333,
             "#9c179e"
            ],
            [
             0.4444444444444444,
             "#bd3786"
            ],
            [
             0.5555555555555556,
             "#d8576b"
            ],
            [
             0.6666666666666666,
             "#ed7953"
            ],
            [
             0.7777777777777778,
             "#fb9f3a"
            ],
            [
             0.8888888888888888,
             "#fdca26"
            ],
            [
             1,
             "#f0f921"
            ]
           ],
           "sequentialminus": [
            [
             0,
             "#0d0887"
            ],
            [
             0.1111111111111111,
             "#46039f"
            ],
            [
             0.2222222222222222,
             "#7201a8"
            ],
            [
             0.3333333333333333,
             "#9c179e"
            ],
            [
             0.4444444444444444,
             "#bd3786"
            ],
            [
             0.5555555555555556,
             "#d8576b"
            ],
            [
             0.6666666666666666,
             "#ed7953"
            ],
            [
             0.7777777777777778,
             "#fb9f3a"
            ],
            [
             0.8888888888888888,
             "#fdca26"
            ],
            [
             1,
             "#f0f921"
            ]
           ]
          },
          "colorway": [
           "#636efa",
           "#EF553B",
           "#00cc96",
           "#ab63fa",
           "#FFA15A",
           "#19d3f3",
           "#FF6692",
           "#B6E880",
           "#FF97FF",
           "#FECB52"
          ],
          "font": {
           "color": "#2a3f5f"
          },
          "geo": {
           "bgcolor": "white",
           "lakecolor": "white",
           "landcolor": "#E5ECF6",
           "showlakes": true,
           "showland": true,
           "subunitcolor": "white"
          },
          "hoverlabel": {
           "align": "left"
          },
          "hovermode": "closest",
          "mapbox": {
           "style": "light"
          },
          "paper_bgcolor": "white",
          "plot_bgcolor": "#E5ECF6",
          "polar": {
           "angularaxis": {
            "gridcolor": "white",
            "linecolor": "white",
            "ticks": ""
           },
           "bgcolor": "#E5ECF6",
           "radialaxis": {
            "gridcolor": "white",
            "linecolor": "white",
            "ticks": ""
           }
          },
          "scene": {
           "xaxis": {
            "backgroundcolor": "#E5ECF6",
            "gridcolor": "white",
            "gridwidth": 2,
            "linecolor": "white",
            "showbackground": true,
            "ticks": "",
            "zerolinecolor": "white"
           },
           "yaxis": {
            "backgroundcolor": "#E5ECF6",
            "gridcolor": "white",
            "gridwidth": 2,
            "linecolor": "white",
            "showbackground": true,
            "ticks": "",
            "zerolinecolor": "white"
           },
           "zaxis": {
            "backgroundcolor": "#E5ECF6",
            "gridcolor": "white",
            "gridwidth": 2,
            "linecolor": "white",
            "showbackground": true,
            "ticks": "",
            "zerolinecolor": "white"
           }
          },
          "shapedefaults": {
           "line": {
            "color": "#2a3f5f"
           }
          },
          "ternary": {
           "aaxis": {
            "gridcolor": "white",
            "linecolor": "white",
            "ticks": ""
           },
           "baxis": {
            "gridcolor": "white",
            "linecolor": "white",
            "ticks": ""
           },
           "bgcolor": "#E5ECF6",
           "caxis": {
            "gridcolor": "white",
            "linecolor": "white",
            "ticks": ""
           }
          },
          "title": {
           "x": 0.05
          },
          "xaxis": {
           "automargin": true,
           "gridcolor": "white",
           "linecolor": "white",
           "ticks": "",
           "title": {
            "standoff": 15
           },
           "zerolinecolor": "white",
           "zerolinewidth": 2
          },
          "yaxis": {
           "automargin": true,
           "gridcolor": "white",
           "linecolor": "white",
           "ticks": "",
           "title": {
            "standoff": 15
           },
           "zerolinecolor": "white",
           "zerolinewidth": 2
          }
         }
        },
        "title": {
         "text": "Joe Biden Polling in Michigan"
        },
        "xaxis": {
         "anchor": "y",
         "domain": [
          0,
          1
         ],
         "title": {
          "text": "start_date"
         }
        },
        "yaxis": {
         "anchor": "x",
         "domain": [
          0,
          1
         ],
         "title": {
          "text": "pct"
         }
        }
       }
      }
     },
     "metadata": {},
     "output_type": "display_data"
    }
   ],
   "source": [
    "#Zoom in on Michigan for Biden\n",
    "time_series(biden_states[1], 'Joe Biden', states[1]['state'].iloc[0])"
   ]
  },
  {
   "cell_type": "markdown",
   "metadata": {},
   "source": [
    "## How has the war in Gaza impacted Joe Biden's polling for Michigan?\n",
    "\n",
    "- Michigan has a large Muslim population, which makes a significant proportion of Joe Biden's base."
   ]
  },
  {
   "cell_type": "markdown",
   "metadata": {},
   "source": [
    "## Did RFK Jr's Superbowl Ad Change anything?"
   ]
  },
  {
   "cell_type": "code",
   "execution_count": 8,
   "metadata": {},
   "outputs": [
    {
     "data": {
      "text/html": [
       "<div>\n",
       "<style scoped>\n",
       "    .dataframe tbody tr th:only-of-type {\n",
       "        vertical-align: middle;\n",
       "    }\n",
       "\n",
       "    .dataframe tbody tr th {\n",
       "        vertical-align: top;\n",
       "    }\n",
       "\n",
       "    .dataframe thead th {\n",
       "        text-align: right;\n",
       "    }\n",
       "</style>\n",
       "<table border=\"1\" class=\"dataframe\">\n",
       "  <thead>\n",
       "    <tr style=\"text-align: right;\">\n",
       "      <th></th>\n",
       "      <th>Robert F. Kennedy</th>\n",
       "      <th>Joe Biden</th>\n",
       "      <th>Donald Trump</th>\n",
       "      <th>isPartial</th>\n",
       "    </tr>\n",
       "    <tr>\n",
       "      <th>date</th>\n",
       "      <th></th>\n",
       "      <th></th>\n",
       "      <th></th>\n",
       "      <th></th>\n",
       "    </tr>\n",
       "  </thead>\n",
       "  <tbody>\n",
       "    <tr>\n",
       "      <th>2023-04-23</th>\n",
       "      <td>1</td>\n",
       "      <td>36</td>\n",
       "      <td>24</td>\n",
       "      <td>False</td>\n",
       "    </tr>\n",
       "    <tr>\n",
       "      <th>2023-04-30</th>\n",
       "      <td>0</td>\n",
       "      <td>22</td>\n",
       "      <td>20</td>\n",
       "      <td>False</td>\n",
       "    </tr>\n",
       "    <tr>\n",
       "      <th>2023-05-07</th>\n",
       "      <td>0</td>\n",
       "      <td>20</td>\n",
       "      <td>35</td>\n",
       "      <td>False</td>\n",
       "    </tr>\n",
       "    <tr>\n",
       "      <th>2023-05-14</th>\n",
       "      <td>0</td>\n",
       "      <td>18</td>\n",
       "      <td>18</td>\n",
       "      <td>False</td>\n",
       "    </tr>\n",
       "    <tr>\n",
       "      <th>2023-05-21</th>\n",
       "      <td>0</td>\n",
       "      <td>15</td>\n",
       "      <td>17</td>\n",
       "      <td>False</td>\n",
       "    </tr>\n",
       "  </tbody>\n",
       "</table>\n",
       "</div>"
      ],
      "text/plain": [
       "            Robert F. Kennedy  Joe Biden  Donald Trump  isPartial\n",
       "date                                                             \n",
       "2023-04-23                  1         36            24      False\n",
       "2023-04-30                  0         22            20      False\n",
       "2023-05-07                  0         20            35      False\n",
       "2023-05-14                  0         18            18      False\n",
       "2023-05-21                  0         15            17      False"
      ]
     },
     "execution_count": 8,
     "metadata": {},
     "output_type": "execute_result"
    }
   ],
   "source": [
    "#Look at google trends data\n",
    "\n",
    "from pytrends.request import TrendReq\n",
    "\n",
    "time.sleep(30)\n",
    "\n",
    "pytrends = TrendReq(hl='en-US', tz=360)\n",
    "\n",
    "kw_list = ['Robert F. Kennedy', 'Joe Biden', 'Donald Trump']\n",
    "\n",
    "pytrends.build_payload(kw_list, cat=0, timeframe='today 12-m', geo='', gprop='')\n",
    "\n",
    "interest_over_time_df = pytrends.interest_over_time()\n",
    "interest_over_time_df.head()"
   ]
  },
  {
   "cell_type": "code",
   "execution_count": 9,
   "metadata": {},
   "outputs": [
    {
     "data": {
      "text/plain": [
       "<Axes: xlabel='date'>"
      ]
     },
     "execution_count": 9,
     "metadata": {},
     "output_type": "execute_result"
    },
    {
     "data": {
      "image/png": "[encoded data removed]",
      "text/plain": [
       "<Figure size 640x480 with 1 Axes>"
      ]
     },
     "metadata": {},
     "output_type": "display_data"
    }
   ],
   "source": [
    "interest_over_time_df.plot()"
   ]
  },
  {
   "cell_type": "markdown",
   "metadata": {},
   "source": [
    "## How did the report on Biden's memory change anything?"
   ]
  },
  {
   "cell_type": "code",
   "execution_count": 10,
   "metadata": {},
   "outputs": [],
   "source": [
    "#Again we can look at google trends to see if there was an uptick in search for Joe Biden's age and the special counsel report\n",
    "\n",
    "\n",
    "time.sleep(60)\n",
    "\n",
    "pytrends = TrendReq(hl='en-US', tz=360)\n",
    "\n",
    "kw_list = ['Joe Biden age']\n",
    "\n",
    "pytrends.build_payload(kw_list, cat=0, timeframe='today 12-m', geo='', gprop='')\n",
    "\n",
    "biden_over_time_df = pytrends.interest_over_time()\n",
    "\n",
    "data  = pytrends.related_queries()\n",
    "\n",
    "\n"
   ]
  },
  {
   "cell_type": "code",
   "execution_count": 11,
   "metadata": {},
   "outputs": [
    {
     "data": {
      "text/plain": [
       "<Axes: xlabel='date'>"
      ]
     },
     "execution_count": 11,
     "metadata": {},
     "output_type": "execute_result"
    },
    {
     "data": {
      "image/png": "[encoded data removed]",
      "text/plain": [
       "<Figure size 640x480 with 1 Axes>"
      ]
     },
     "metadata": {},
     "output_type": "display_data"
    }
   ],
   "source": [
    "biden_over_time_df.plot()"
   ]
  },
  {
   "cell_type": "code",
   "execution_count": 12,
   "metadata": {},
   "outputs": [
    {
     "name": "stdout",
     "output_type": "stream",
     "text": [
      "                  query  value\n",
      "0             age trump    100\n",
      "1          donald trump     58\n",
      "2       joe biden young      7\n",
      "3  dianne feinstein age      2\n",
      "4       donal trump age      1\n"
     ]
    },
    {
     "data": {
      "text/html": [
       "<div>\n",
       "<style scoped>\n",
       "    .dataframe tbody tr th:only-of-type {\n",
       "        vertical-align: middle;\n",
       "    }\n",
       "\n",
       "    .dataframe tbody tr th {\n",
       "        vertical-align: top;\n",
       "    }\n",
       "\n",
       "    .dataframe thead th {\n",
       "        text-align: right;\n",
       "    }\n",
       "</style>\n",
       "<table border=\"1\" class=\"dataframe\">\n",
       "  <thead>\n",
       "    <tr style=\"text-align: right;\">\n",
       "      <th></th>\n",
       "      <th>query</th>\n",
       "      <th>value</th>\n",
       "    </tr>\n",
       "  </thead>\n",
       "  <tbody>\n",
       "    <tr>\n",
       "      <th>0</th>\n",
       "      <td>donal trump age</td>\n",
       "      <td>140</td>\n",
       "    </tr>\n",
       "    <tr>\n",
       "      <th>1</th>\n",
       "      <td>dianne feinstein age</td>\n",
       "      <td>100</td>\n",
       "    </tr>\n",
       "    <tr>\n",
       "      <th>2</th>\n",
       "      <td>donald trump</td>\n",
       "      <td>80</td>\n",
       "    </tr>\n",
       "    <tr>\n",
       "      <th>3</th>\n",
       "      <td>age trump</td>\n",
       "      <td>70</td>\n",
       "    </tr>\n",
       "  </tbody>\n",
       "</table>\n",
       "</div>"
      ],
      "text/plain": [
       "                  query  value\n",
       "0       donal trump age    140\n",
       "1  dianne feinstein age    100\n",
       "2          donald trump     80\n",
       "3             age trump     70"
      ]
     },
     "execution_count": 12,
     "metadata": {},
     "output_type": "execute_result"
    }
   ],
   "source": [
    "print(data[\"Joe Biden age\"][\"top\"])\n",
    "data[\"Joe Biden age\"][\"rising\"]"
   ]
  },
  {
   "cell_type": "code",
   "execution_count": null,
   "metadata": {},
   "outputs": [],
   "source": []
  }
 ],
 "metadata": {
  "kernelspec": {
   "display_name": "base",
   "language": "python",
   "name": "python3"
  },
  "language_info": {
   "codemirror_mode": {
    "name": "ipython",
    "version": 3
   },
   "file_extension": ".py",
   "mimetype": "text/x-python",
   "name": "python",
   "nbconvert_exporter": "python",
   "pygments_lexer": "ipython3",
   "version": "3.11.5"
  },
  "orig_nbformat": 4
 },
 "nbformat": 4,
 "nbformat_minor": 2
}
