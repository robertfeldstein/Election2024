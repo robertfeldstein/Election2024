{
 "cells": [
  {
   "cell_type": "code",
   "execution_count": 1,
   "metadata": {},
   "outputs": [],
   "source": [
    "from bs4 import BeautifulSoup\n",
    "import pandas as pd\n",
    "import numpy as np\n",
    "from datetime import datetime\n",
    "import matplotlib.pyplot as plt\n",
    "import seaborn as sns\n",
    "import plotly.express as px\n",
    "import urllib\n",
    "import warnings \n",
    "\n",
    "pd.options.display.max_columns = 999\n",
    "warnings.simplefilter(action='ignore', category=FutureWarning)"
   ]
  },
  {
   "cell_type": "code",
   "execution_count": 2,
   "metadata": {},
   "outputs": [],
   "source": [
    "#Load in the Wikipedia table data\n",
    "url = \"https://en.wikipedia.org/wiki/Nationwide_opinion_polling_for_the_2024_United_States_presidential_election\" \n",
    "\n",
    "html_content = urllib.request.urlopen(url).read()\n",
    "\n",
    "# Parse the HTML content with BeautifulSoup\n",
    "\n",
    "soup = BeautifulSoup(html_content, 'html5lib')\n",
    "table_dat = soup.find_all('table')\n"
   ]
  },
  {
   "cell_type": "code",
   "execution_count": 3,
   "metadata": {},
   "outputs": [
    {
     "data": {
      "text/html": [
       "<div>\n",
       "<style scoped>\n",
       "    .dataframe tbody tr th:only-of-type {\n",
       "        vertical-align: middle;\n",
       "    }\n",
       "\n",
       "    .dataframe tbody tr th {\n",
       "        vertical-align: top;\n",
       "    }\n",
       "\n",
       "    .dataframe thead th {\n",
       "        text-align: right;\n",
       "    }\n",
       "</style>\n",
       "<table border=\"1\" class=\"dataframe\">\n",
       "  <thead>\n",
       "    <tr style=\"text-align: right;\">\n",
       "      <th></th>\n",
       "      <th>Poll source</th>\n",
       "      <th>Date</th>\n",
       "      <th>Samplesize[b]</th>\n",
       "      <th>Marginof error</th>\n",
       "      <th>JoeBidenDemocratic</th>\n",
       "      <th>DonaldTrumpRepublican</th>\n",
       "      <th>Robert F.Kennedy Jr.Independent</th>\n",
       "      <th>Other/Undecided</th>\n",
       "      <th>Year</th>\n",
       "      <th>Month</th>\n",
       "      <th>Day</th>\n",
       "      <th>Spread</th>\n",
       "    </tr>\n",
       "    <tr>\n",
       "      <th>New Date</th>\n",
       "      <th></th>\n",
       "      <th></th>\n",
       "      <th></th>\n",
       "      <th></th>\n",
       "      <th></th>\n",
       "      <th></th>\n",
       "      <th></th>\n",
       "      <th></th>\n",
       "      <th></th>\n",
       "      <th></th>\n",
       "      <th></th>\n",
       "      <th></th>\n",
       "    </tr>\n",
       "  </thead>\n",
       "  <tbody>\n",
       "    <tr>\n",
       "      <th>2024-04-12</th>\n",
       "      <td>Hart Research Associates/Public Opinion Strate...</td>\n",
       "      <td>April 12–16, 2024</td>\n",
       "      <td>1,000 (RV)</td>\n",
       "      <td>± 3.1%</td>\n",
       "      <td>0.44</td>\n",
       "      <td>0.46</td>\n",
       "      <td>0.01</td>\n",
       "      <td>9.000000e-02</td>\n",
       "      <td>2024</td>\n",
       "      <td>April</td>\n",
       "      <td>12</td>\n",
       "      <td>0.02</td>\n",
       "    </tr>\n",
       "    <tr>\n",
       "      <th>2024-03-24</th>\n",
       "      <td>ActiVote</td>\n",
       "      <td>March 24 – April 10, 2024</td>\n",
       "      <td>995 (LV)</td>\n",
       "      <td>± 3.1%</td>\n",
       "      <td>0.41</td>\n",
       "      <td>0.44</td>\n",
       "      <td>0.15</td>\n",
       "      <td>8.326673e-17</td>\n",
       "      <td>2024</td>\n",
       "      <td>March</td>\n",
       "      <td>24</td>\n",
       "      <td>0.03</td>\n",
       "    </tr>\n",
       "    <tr>\n",
       "      <th>2024-03-07</th>\n",
       "      <td>Ipsos</td>\n",
       "      <td>March 7–13, 2024</td>\n",
       "      <td>3,356 (RV)</td>\n",
       "      <td>–</td>\n",
       "      <td>0.43</td>\n",
       "      <td>0.38</td>\n",
       "      <td>0.12</td>\n",
       "      <td>7.000000e-02</td>\n",
       "      <td>2024</td>\n",
       "      <td>March</td>\n",
       "      <td>7</td>\n",
       "      <td>-0.05</td>\n",
       "    </tr>\n",
       "    <tr>\n",
       "      <th>2024-01-03</th>\n",
       "      <td>Reuters/Ipsos</td>\n",
       "      <td>January 3–9, 2024</td>\n",
       "      <td>4,677 (RV)</td>\n",
       "      <td>± 1.5%</td>\n",
       "      <td>0.29</td>\n",
       "      <td>0.30</td>\n",
       "      <td>0.18</td>\n",
       "      <td>2.300000e-01</td>\n",
       "      <td>2024</td>\n",
       "      <td>January</td>\n",
       "      <td>3</td>\n",
       "      <td>0.01</td>\n",
       "    </tr>\n",
       "    <tr>\n",
       "      <th>2023-12-14</th>\n",
       "      <td>Quinnipiac University</td>\n",
       "      <td>December 14–18, 2023</td>\n",
       "      <td>1,647 (RV)</td>\n",
       "      <td>± 2.4%</td>\n",
       "      <td>0.38</td>\n",
       "      <td>0.36</td>\n",
       "      <td>0.22</td>\n",
       "      <td>4.000000e-02</td>\n",
       "      <td>2023</td>\n",
       "      <td>December</td>\n",
       "      <td>14</td>\n",
       "      <td>-0.02</td>\n",
       "    </tr>\n",
       "  </tbody>\n",
       "</table>\n",
       "</div>"
      ],
      "text/plain": [
       "                                                  Poll source  \\\n",
       "New Date                                                        \n",
       "2024-04-12  Hart Research Associates/Public Opinion Strate...   \n",
       "2024-03-24                                           ActiVote   \n",
       "2024-03-07                                              Ipsos   \n",
       "2024-01-03                                      Reuters/Ipsos   \n",
       "2023-12-14                              Quinnipiac University   \n",
       "\n",
       "                                 Date Samplesize[b] Marginof error  \\\n",
       "New Date                                                             \n",
       "2024-04-12          April 12–16, 2024    1,000 (RV)         ± 3.1%   \n",
       "2024-03-24  March 24 – April 10, 2024      995 (LV)         ± 3.1%   \n",
       "2024-03-07           March 7–13, 2024    3,356 (RV)              –   \n",
       "2024-01-03          January 3–9, 2024    4,677 (RV)         ± 1.5%   \n",
       "2023-12-14       December 14–18, 2023    1,647 (RV)         ± 2.4%   \n",
       "\n",
       "            JoeBidenDemocratic  DonaldTrumpRepublican  \\\n",
       "New Date                                                \n",
       "2024-04-12                0.44                   0.46   \n",
       "2024-03-24                0.41                   0.44   \n",
       "2024-03-07                0.43                   0.38   \n",
       "2024-01-03                0.29                   0.30   \n",
       "2023-12-14                0.38                   0.36   \n",
       "\n",
       "            Robert F.Kennedy Jr.Independent  Other/Undecided  Year     Month  \\\n",
       "New Date                                                                       \n",
       "2024-04-12                             0.01     9.000000e-02  2024     April   \n",
       "2024-03-24                             0.15     8.326673e-17  2024     March   \n",
       "2024-03-07                             0.12     7.000000e-02  2024     March   \n",
       "2024-01-03                             0.18     2.300000e-01  2024   January   \n",
       "2023-12-14                             0.22     4.000000e-02  2023  December   \n",
       "\n",
       "           Day  Spread  \n",
       "New Date                \n",
       "2024-04-12  12    0.02  \n",
       "2024-03-24  24    0.03  \n",
       "2024-03-07   7   -0.05  \n",
       "2024-01-03   3    0.01  \n",
       "2023-12-14  14   -0.02  "
      ]
     },
     "execution_count": 3,
     "metadata": {},
     "output_type": "execute_result"
    }
   ],
   "source": [
    "rfk_table = table_dat[13]\n",
    "\n",
    "rfk_table_data = []\n",
    "for row in rfk_table.find_all('tr'):\n",
    "    row_data = [cell.text.strip() for cell in row.find_all(['td','th'])]\n",
    "    rfk_table_data.append(row_data)\n",
    "\n",
    "#Convert table data to a dataframe\n",
    "#We remove the first row since this is RCP summary data that we don't want to use\n",
    "    \n",
    "rfk = pd.DataFrame(rfk_table_data[1:], columns=rfk_table_data[0])\n",
    "\n",
    "rfk[\"Year\"] = rfk[\"Date\"].str.split(\" \").str[-1]\n",
    "rfk[\"Month\"] = rfk[\"Date\"].str.split(\" \").str[0]\n",
    "rfk[\"Day\"] = rfk[\"Date\"].str.split(\" \").str[1].str.split(\"–\").str[0]\n",
    "rfk[\"New Date\"] = rfk[\"Month\"] + \" \" + rfk[\"Day\"] + \", \" + rfk[\"Year\"]\n",
    "rfk[\"New Date\"] = pd.to_datetime(rfk[\"New Date\"],format=\"mixed\")\n",
    "rfk['JoeBidenDemocratic'] = rfk['JoeBidenDemocratic'].str.rstrip('%').astype('float') / 100\n",
    "rfk['DonaldTrumpRepublican'] = rfk['DonaldTrumpRepublican'].str.rstrip('%').astype('float') / 100\n",
    "rfk[\"Robert F.Kennedy Jr.Independent\"] = rfk[\"Robert F.Kennedy Jr.Independent\"].str.rstrip('%').astype('float') / 100\n",
    "rfk[\"Other/Undecided\"] = 1 - rfk[\"JoeBidenDemocratic\"] - rfk[\"DonaldTrumpRepublican\"] - rfk[\"Robert F.Kennedy Jr.Independent\"]\n",
    "rfk.set_index(\"New Date\", inplace=True)\n",
    "rfk.drop(\"2023-10-09\", inplace=True)\n",
    "rfk[\"Spread\"] = rfk[\"DonaldTrumpRepublican\"] - rfk[\"JoeBidenDemocratic\"]\n",
    "rfk.head()"
   ]
  },
  {
   "cell_type": "code",
   "execution_count": 4,
   "metadata": {},
   "outputs": [
    {
     "data": {
      "text/html": [
       "<div>\n",
       "<style scoped>\n",
       "    .dataframe tbody tr th:only-of-type {\n",
       "        vertical-align: middle;\n",
       "    }\n",
       "\n",
       "    .dataframe tbody tr th {\n",
       "        vertical-align: top;\n",
       "    }\n",
       "\n",
       "    .dataframe thead th {\n",
       "        text-align: right;\n",
       "    }\n",
       "</style>\n",
       "<table border=\"1\" class=\"dataframe\">\n",
       "  <thead>\n",
       "    <tr style=\"text-align: right;\">\n",
       "      <th></th>\n",
       "      <th>Poll source</th>\n",
       "      <th>Date</th>\n",
       "      <th>Samplesize[b]</th>\n",
       "      <th>Marginof error</th>\n",
       "      <th>JoeBidenDemocratic</th>\n",
       "      <th>DonaldTrumpRepublican</th>\n",
       "      <th>Other/Undecided</th>\n",
       "      <th>Year</th>\n",
       "      <th>Month</th>\n",
       "      <th>Day</th>\n",
       "      <th>Spread</th>\n",
       "      <th>New Date</th>\n",
       "    </tr>\n",
       "  </thead>\n",
       "  <tbody>\n",
       "    <tr>\n",
       "      <th>0</th>\n",
       "      <td>ActiVote</td>\n",
       "      <td>December 13–19, 2023</td>\n",
       "      <td>841 (LV)</td>\n",
       "      <td>± 3.4%</td>\n",
       "      <td>0.46</td>\n",
       "      <td>0.54</td>\n",
       "      <td>0.00</td>\n",
       "      <td>2023</td>\n",
       "      <td>December</td>\n",
       "      <td>13</td>\n",
       "      <td>0.08</td>\n",
       "      <td>2023-12-13</td>\n",
       "    </tr>\n",
       "    <tr>\n",
       "      <th>1</th>\n",
       "      <td>McLaughlin &amp; Associates</td>\n",
       "      <td>December 13–19, 2023</td>\n",
       "      <td>1,000 (LV)</td>\n",
       "      <td>–</td>\n",
       "      <td>0.44</td>\n",
       "      <td>0.47</td>\n",
       "      <td>0.09</td>\n",
       "      <td>2023</td>\n",
       "      <td>December</td>\n",
       "      <td>13</td>\n",
       "      <td>0.03</td>\n",
       "      <td>2023-12-13</td>\n",
       "    </tr>\n",
       "    <tr>\n",
       "      <th>2</th>\n",
       "      <td>The Economist/YouGov</td>\n",
       "      <td>December 16–18, 2023</td>\n",
       "      <td>1,336 (RV)</td>\n",
       "      <td>± 3.2%</td>\n",
       "      <td>0.43</td>\n",
       "      <td>0.43</td>\n",
       "      <td>0.14</td>\n",
       "      <td>2023</td>\n",
       "      <td>December</td>\n",
       "      <td>16</td>\n",
       "      <td>0.00</td>\n",
       "      <td>2023-12-16</td>\n",
       "    </tr>\n",
       "    <tr>\n",
       "      <th>3</th>\n",
       "      <td>YouGov/Yahoo News</td>\n",
       "      <td>December 14–18, 2023</td>\n",
       "      <td>1,027 (RV)</td>\n",
       "      <td>–</td>\n",
       "      <td>0.44</td>\n",
       "      <td>0.44</td>\n",
       "      <td>0.12</td>\n",
       "      <td>2023</td>\n",
       "      <td>December</td>\n",
       "      <td>14</td>\n",
       "      <td>0.00</td>\n",
       "      <td>2023-12-14</td>\n",
       "    </tr>\n",
       "    <tr>\n",
       "      <th>4</th>\n",
       "      <td>Quinnipiac University</td>\n",
       "      <td>December 14–18, 2023</td>\n",
       "      <td>1,647 (RV)</td>\n",
       "      <td>± 2.4%</td>\n",
       "      <td>0.47</td>\n",
       "      <td>0.46</td>\n",
       "      <td>0.07</td>\n",
       "      <td>2023</td>\n",
       "      <td>December</td>\n",
       "      <td>14</td>\n",
       "      <td>-0.01</td>\n",
       "      <td>2023-12-14</td>\n",
       "    </tr>\n",
       "  </tbody>\n",
       "</table>\n",
       "</div>"
      ],
      "text/plain": [
       "               Poll source                  Date Samplesize[b] Marginof error  \\\n",
       "0                 ActiVote  December 13–19, 2023      841 (LV)         ± 3.4%   \n",
       "1  McLaughlin & Associates  December 13–19, 2023    1,000 (LV)              –   \n",
       "2     The Economist/YouGov  December 16–18, 2023    1,336 (RV)         ± 3.2%   \n",
       "3        YouGov/Yahoo News  December 14–18, 2023    1,027 (RV)              –   \n",
       "4    Quinnipiac University  December 14–18, 2023    1,647 (RV)         ± 2.4%   \n",
       "\n",
       "   JoeBidenDemocratic  DonaldTrumpRepublican  Other/Undecided  Year     Month  \\\n",
       "0                0.46                   0.54             0.00  2023  December   \n",
       "1                0.44                   0.47             0.09  2023  December   \n",
       "2                0.43                   0.43             0.14  2023  December   \n",
       "3                0.44                   0.44             0.12  2023  December   \n",
       "4                0.47                   0.46             0.07  2023  December   \n",
       "\n",
       "  Day  Spread   New Date  \n",
       "0  13    0.08 2023-12-13  \n",
       "1  13    0.03 2023-12-13  \n",
       "2  16    0.00 2023-12-16  \n",
       "3  14    0.00 2023-12-14  \n",
       "4  14   -0.01 2023-12-14  "
      ]
     },
     "execution_count": 4,
     "metadata": {},
     "output_type": "execute_result"
    }
   ],
   "source": [
    "jbdt_table_2023 = table_dat[8]\n",
    "jbdt_table_2024 = table_dat[7]\n",
    "\n",
    "jbdt_table_2023_data = []\n",
    "for row in jbdt_table_2023.find_all('tr'):\n",
    "    row_data = [cell.text.strip() for cell in row.find_all(['td','th'])]\n",
    "    jbdt_table_2023_data.append(row_data)\n",
    "\n",
    "jbdt_table_2024_data = []\n",
    "for row in jbdt_table_2024.find_all('tr'):\n",
    "    row_data = [cell.text.strip() for cell in row.find_all(['td','th'])]\n",
    "    jbdt_table_2024_data.append(row_data)\n",
    "\n",
    "    \n",
    "jbdt_2023 = pd.DataFrame(jbdt_table_2023_data[1:], columns=jbdt_table_2023_data[0])\n",
    "jbdt_2024 = pd.DataFrame(jbdt_table_2024_data[1:], columns=jbdt_table_2024_data[0])\n",
    "jbdt = pd.concat([jbdt_2023, jbdt_2024])\n",
    "jbdt[\"Year\"] = jbdt[\"Date\"].str.split(\" \").str[-1]\n",
    "jbdt[\"Month\"] = jbdt[\"Date\"].str.split(\" \").str[0]\n",
    "jbdt[\"Day\"] = jbdt[\"Date\"].str.split(\" \").str[1].str.split(\"–\").str[0]\n",
    "jbdt['JoeBidenDemocratic'] = jbdt['JoeBidenDemocratic'].str[:2].astype('float') / 100\n",
    "jbdt['DonaldTrumpRepublican'] = jbdt['DonaldTrumpRepublican'].str[:2].astype('float') / 100\n",
    "jbdt[\"Spread\"] = jbdt[\"DonaldTrumpRepublican\"] - jbdt[\"JoeBidenDemocratic\"]\n",
    "jbdt[\"Other/Undecided\"] = 1 - jbdt[\"JoeBidenDemocratic\"] - jbdt[\"DonaldTrumpRepublican\"]\n",
    "jbdt[\"New Date\"] = jbdt[\"Month\"] + \" \" + jbdt[\"Day\"] + \", \" + jbdt[\"Year\"]\n",
    "jbdt[\"New Date\"] = pd.to_datetime(jbdt[\"New Date\"],format=\"mixed\")\n",
    "jbdt.head()"
   ]
  },
  {
   "cell_type": "code",
   "execution_count": 5,
   "metadata": {},
   "outputs": [
    {
     "data": {
      "text/html": [
       "<div>\n",
       "<style scoped>\n",
       "    .dataframe tbody tr th:only-of-type {\n",
       "        vertical-align: middle;\n",
       "    }\n",
       "\n",
       "    .dataframe tbody tr th {\n",
       "        vertical-align: top;\n",
       "    }\n",
       "\n",
       "    .dataframe thead th {\n",
       "        text-align: right;\n",
       "    }\n",
       "</style>\n",
       "<table border=\"1\" class=\"dataframe\">\n",
       "  <thead>\n",
       "    <tr style=\"text-align: right;\">\n",
       "      <th></th>\n",
       "      <th>New Date</th>\n",
       "      <th>Poll source</th>\n",
       "      <th>Date_RFK</th>\n",
       "      <th>Samplesize[b]_RFK</th>\n",
       "      <th>Marginof error_RFK</th>\n",
       "      <th>JoeBidenDemocratic_RFK</th>\n",
       "      <th>DonaldTrumpRepublican_RFK</th>\n",
       "      <th>Robert F.Kennedy Jr.Independent</th>\n",
       "      <th>Other/Undecided_RFK</th>\n",
       "      <th>Year_RFK</th>\n",
       "      <th>Month_RFK</th>\n",
       "      <th>Day_RFK</th>\n",
       "      <th>Spread_RFK</th>\n",
       "      <th>Date_JBDT</th>\n",
       "      <th>Samplesize[b]_JBDT</th>\n",
       "      <th>Marginof error_JBDT</th>\n",
       "      <th>JoeBidenDemocratic_JBDT</th>\n",
       "      <th>DonaldTrumpRepublican_JBDT</th>\n",
       "      <th>Other/Undecided_JBDT</th>\n",
       "      <th>Year_JBDT</th>\n",
       "      <th>Month_JBDT</th>\n",
       "      <th>Day_JBDT</th>\n",
       "      <th>Spread_JBDT</th>\n",
       "    </tr>\n",
       "  </thead>\n",
       "  <tbody>\n",
       "    <tr>\n",
       "      <th>0</th>\n",
       "      <td>2024-03-24</td>\n",
       "      <td>ActiVote</td>\n",
       "      <td>March 24 – April 10, 2024</td>\n",
       "      <td>995 (LV)</td>\n",
       "      <td>± 3.1%</td>\n",
       "      <td>0.41</td>\n",
       "      <td>0.44</td>\n",
       "      <td>0.15</td>\n",
       "      <td>8.326673e-17</td>\n",
       "      <td>2024</td>\n",
       "      <td>March</td>\n",
       "      <td>24</td>\n",
       "      <td>0.03</td>\n",
       "      <td>March 24 – April 10, 2024</td>\n",
       "      <td>995 (LV)</td>\n",
       "      <td>± 3.1%</td>\n",
       "      <td>0.47</td>\n",
       "      <td>0.53</td>\n",
       "      <td>0.00</td>\n",
       "      <td>2024</td>\n",
       "      <td>March</td>\n",
       "      <td>24</td>\n",
       "      <td>0.06</td>\n",
       "    </tr>\n",
       "    <tr>\n",
       "      <th>1</th>\n",
       "      <td>2024-01-03</td>\n",
       "      <td>Reuters/Ipsos</td>\n",
       "      <td>January 3–9, 2024</td>\n",
       "      <td>4,677 (RV)</td>\n",
       "      <td>± 1.5%</td>\n",
       "      <td>0.29</td>\n",
       "      <td>0.30</td>\n",
       "      <td>0.18</td>\n",
       "      <td>2.300000e-01</td>\n",
       "      <td>2024</td>\n",
       "      <td>January</td>\n",
       "      <td>3</td>\n",
       "      <td>0.01</td>\n",
       "      <td>January 3–9, 2024</td>\n",
       "      <td>4,677 (A)</td>\n",
       "      <td>± 1.5%</td>\n",
       "      <td>0.48</td>\n",
       "      <td>0.48</td>\n",
       "      <td>0.04</td>\n",
       "      <td>2024</td>\n",
       "      <td>January</td>\n",
       "      <td>3</td>\n",
       "      <td>0.00</td>\n",
       "    </tr>\n",
       "    <tr>\n",
       "      <th>2</th>\n",
       "      <td>2023-12-14</td>\n",
       "      <td>Quinnipiac University</td>\n",
       "      <td>December 14–18, 2023</td>\n",
       "      <td>1,647 (RV)</td>\n",
       "      <td>± 2.4%</td>\n",
       "      <td>0.38</td>\n",
       "      <td>0.36</td>\n",
       "      <td>0.22</td>\n",
       "      <td>4.000000e-02</td>\n",
       "      <td>2023</td>\n",
       "      <td>December</td>\n",
       "      <td>14</td>\n",
       "      <td>-0.02</td>\n",
       "      <td>December 14–18, 2023</td>\n",
       "      <td>1,647 (RV)</td>\n",
       "      <td>± 2.4%</td>\n",
       "      <td>0.47</td>\n",
       "      <td>0.46</td>\n",
       "      <td>0.07</td>\n",
       "      <td>2023</td>\n",
       "      <td>December</td>\n",
       "      <td>14</td>\n",
       "      <td>-0.01</td>\n",
       "    </tr>\n",
       "    <tr>\n",
       "      <th>3</th>\n",
       "      <td>2023-12-06</td>\n",
       "      <td>Rasmussen Reports</td>\n",
       "      <td>December 6–7 &amp; 10, 2023</td>\n",
       "      <td>892 (LV)</td>\n",
       "      <td>± 3.0%</td>\n",
       "      <td>0.32</td>\n",
       "      <td>0.40</td>\n",
       "      <td>0.16</td>\n",
       "      <td>1.200000e-01</td>\n",
       "      <td>2023</td>\n",
       "      <td>December</td>\n",
       "      <td>6</td>\n",
       "      <td>0.08</td>\n",
       "      <td>December 6–10, 2023</td>\n",
       "      <td>892 (LV)</td>\n",
       "      <td>± 3.0%</td>\n",
       "      <td>0.38</td>\n",
       "      <td>0.48</td>\n",
       "      <td>0.14</td>\n",
       "      <td>2023</td>\n",
       "      <td>December</td>\n",
       "      <td>6</td>\n",
       "      <td>0.10</td>\n",
       "    </tr>\n",
       "    <tr>\n",
       "      <th>4</th>\n",
       "      <td>2023-12-05</td>\n",
       "      <td>Cygnal (R)</td>\n",
       "      <td>December 5–7, 2023</td>\n",
       "      <td>2,000 (LV)</td>\n",
       "      <td>± 2.16%</td>\n",
       "      <td>0.42</td>\n",
       "      <td>0.43</td>\n",
       "      <td>0.09</td>\n",
       "      <td>6.000000e-02</td>\n",
       "      <td>2023</td>\n",
       "      <td>December</td>\n",
       "      <td>5</td>\n",
       "      <td>0.01</td>\n",
       "      <td>December 5–7, 2023</td>\n",
       "      <td>2,000 (LV)</td>\n",
       "      <td>± 2.16%</td>\n",
       "      <td>0.47</td>\n",
       "      <td>0.46</td>\n",
       "      <td>0.07</td>\n",
       "      <td>2023</td>\n",
       "      <td>December</td>\n",
       "      <td>5</td>\n",
       "      <td>-0.01</td>\n",
       "    </tr>\n",
       "  </tbody>\n",
       "</table>\n",
       "</div>"
      ],
      "text/plain": [
       "    New Date            Poll source                   Date_RFK  \\\n",
       "0 2024-03-24               ActiVote  March 24 – April 10, 2024   \n",
       "1 2024-01-03          Reuters/Ipsos          January 3–9, 2024   \n",
       "2 2023-12-14  Quinnipiac University       December 14–18, 2023   \n",
       "3 2023-12-06      Rasmussen Reports    December 6–7 & 10, 2023   \n",
       "4 2023-12-05             Cygnal (R)         December 5–7, 2023   \n",
       "\n",
       "  Samplesize[b]_RFK Marginof error_RFK  JoeBidenDemocratic_RFK  \\\n",
       "0          995 (LV)             ± 3.1%                    0.41   \n",
       "1        4,677 (RV)             ± 1.5%                    0.29   \n",
       "2        1,647 (RV)             ± 2.4%                    0.38   \n",
       "3          892 (LV)             ± 3.0%                    0.32   \n",
       "4        2,000 (LV)            ± 2.16%                    0.42   \n",
       "\n",
       "   DonaldTrumpRepublican_RFK  Robert F.Kennedy Jr.Independent  \\\n",
       "0                       0.44                             0.15   \n",
       "1                       0.30                             0.18   \n",
       "2                       0.36                             0.22   \n",
       "3                       0.40                             0.16   \n",
       "4                       0.43                             0.09   \n",
       "\n",
       "   Other/Undecided_RFK Year_RFK Month_RFK Day_RFK  Spread_RFK  \\\n",
       "0         8.326673e-17     2024     March      24        0.03   \n",
       "1         2.300000e-01     2024   January       3        0.01   \n",
       "2         4.000000e-02     2023  December      14       -0.02   \n",
       "3         1.200000e-01     2023  December       6        0.08   \n",
       "4         6.000000e-02     2023  December       5        0.01   \n",
       "\n",
       "                   Date_JBDT Samplesize[b]_JBDT Marginof error_JBDT  \\\n",
       "0  March 24 – April 10, 2024           995 (LV)              ± 3.1%   \n",
       "1          January 3–9, 2024          4,677 (A)              ± 1.5%   \n",
       "2       December 14–18, 2023         1,647 (RV)              ± 2.4%   \n",
       "3        December 6–10, 2023           892 (LV)              ± 3.0%   \n",
       "4         December 5–7, 2023         2,000 (LV)             ± 2.16%   \n",
       "\n",
       "   JoeBidenDemocratic_JBDT  DonaldTrumpRepublican_JBDT  Other/Undecided_JBDT  \\\n",
       "0                     0.47                        0.53                  0.00   \n",
       "1                     0.48                        0.48                  0.04   \n",
       "2                     0.47                        0.46                  0.07   \n",
       "3                     0.38                        0.48                  0.14   \n",
       "4                     0.47                        0.46                  0.07   \n",
       "\n",
       "  Year_JBDT Month_JBDT Day_JBDT  Spread_JBDT  \n",
       "0      2024      March       24         0.06  \n",
       "1      2024    January        3         0.00  \n",
       "2      2023   December       14        -0.01  \n",
       "3      2023   December        6         0.10  \n",
       "4      2023   December        5        -0.01  "
      ]
     },
     "execution_count": 5,
     "metadata": {},
     "output_type": "execute_result"
    }
   ],
   "source": [
    "# Merge the two dataframes on new data\n",
    "\n",
    "merged = pd.merge(rfk, jbdt, on=[\"New Date\", \"Poll source\"], suffixes=('_RFK', '_JBDT'))\n",
    "merged.head()"
   ]
  },
  {
   "cell_type": "code",
   "execution_count": 6,
   "metadata": {},
   "outputs": [
    {
     "data": {
      "image/png": "[encoded data removed]",
      "text/plain": [
       "<Figure size 1000x600 with 1 Axes>"
      ]
     },
     "metadata": {},
     "output_type": "display_data"
    }
   ],
   "source": [
    "#Scatterplot the two different spreads\n",
    "\n",
    "plt.figure(figsize=(10,6))\n",
    "plt.scatter(merged[\"Spread_JBDT\"],merged[\"Spread_RFK\"])\n",
    "# add trendline\n",
    "\n",
    "p = np.poly1d(np.polyfit(merged[\"Spread_JBDT\"], merged[\"Spread_RFK\"], 1))\n",
    "\n",
    "#plot polynomial line\n",
    "plt.plot(merged[\"Spread_JBDT\"], p(merged[\"Spread_JBDT\"]), color=\"red\")\n",
    "\n",
    "#plot y =x \n",
    "\n",
    "plt.plot(merged[\"Spread_JBDT\"], merged[\"Spread_JBDT\"], color=\"green\")\n",
    "\n",
    "plt.title(\"Spread Comparison\")\n",
    "plt.xlabel(\"JBDT Spread\")\n",
    "plt.ylabel(\"RFK Spread\")\n",
    "plt.show()"
   ]
  },
  {
   "cell_type": "code",
   "execution_count": 7,
   "metadata": {},
   "outputs": [
    {
     "data": {
      "application/vnd.plotly.v1+json": {
       "config": {
        "plotlyServerURL": "https://plot.ly"
       },
       "data": [
        {
         "hovertemplate": "Spread_RFK=%{x}<br>Spread_JBDT=%{y}<extra></extra>",
         "legendgroup": "",
         "marker": {
          "color": "#636efa",
          "symbol": "circle"
         },
         "mode": "markers",
         "name": "",
         "orientation": "v",
         "showlegend": false,
         "type": "scatter",
         "x": [
          0.030000000000000027,
          0.010000000000000009,
          -0.020000000000000018,
          0.08000000000000002,
          0.010000000000000009,
          0.020000000000000018,
          0.010000000000000009,
          0,
          -0.010000000000000009,
          0.06,
          0,
          0.040000000000000036
         ],
         "xaxis": "x",
         "y": [
          0.06000000000000005,
          0,
          -0.009999999999999953,
          0.09999999999999998,
          -0.009999999999999953,
          0.019999999999999962,
          0.019999999999999962,
          0.010000000000000009,
          0,
          0.050000000000000044,
          -0.010000000000000009,
          0.030000000000000027
         ],
         "yaxis": "y"
        },
        {
         "hovertemplate": "<b>OLS trendline</b><br>Spread_JBDT = 1.04574 * Spread_RFK + 0.00162332<br>R<sup>2</sup>=0.808576<br><br>Spread_RFK=%{x}<br>Spread_JBDT=%{y} <b>(trend)</b><extra></extra>",
         "legendgroup": "",
         "marker": {
          "color": "#636efa",
          "symbol": "circle"
         },
         "mode": "lines",
         "name": "",
         "showlegend": false,
         "type": "scatter",
         "x": [
          -0.020000000000000018,
          -0.010000000000000009,
          0,
          0,
          0.010000000000000009,
          0.010000000000000009,
          0.010000000000000009,
          0.020000000000000018,
          0.030000000000000027,
          0.040000000000000036,
          0.06,
          0.08000000000000002
         ],
         "xaxis": "x",
         "y": [
          -0.019291479820627788,
          -0.00883408071748877,
          0.00162331838565025,
          0.00162331838565025,
          0.012080717488789269,
          0.012080717488789269,
          0.012080717488789269,
          0.022538116591928288,
          0.032995515695067305,
          0.04345291479820632,
          0.0643677130044843,
          0.08528251121076234
         ],
         "yaxis": "y"
        }
       ],
       "layout": {
        "legend": {
         "tracegroupgap": 0
        },
        "template": {
         "data": {
          "bar": [
           {
            "error_x": {
             "color": "#2a3f5f"
            },
            "error_y": {
             "color": "#2a3f5f"
            },
            "marker": {
             "line": {
              "color": "#E5ECF6",
              "width": 0.5
             },
             "pattern": {
              "fillmode": "overlay",
              "size": 10,
              "solidity": 0.2
             }
            },
            "type": "bar"
           }
          ],
          "barpolar": [
           {
            "marker": {
             "line": {
              "color": "#E5ECF6",
              "width": 0.5
             },
             "pattern": {
              "fillmode": "overlay",
              "size": 10,
              "solidity": 0.2
             }
            },
            "type": "barpolar"
           }
          ],
          "carpet": [
           {
            "aaxis": {
             "endlinecolor": "#2a3f5f",
             "gridcolor": "white",
             "linecolor": "white",
             "minorgridcolor": "white",
             "startlinecolor": "#2a3f5f"
            },
            "baxis": {
             "endlinecolor": "#2a3f5f",
             "gridcolor": "white",
             "linecolor": "white",
             "minorgridcolor": "white",
             "startlinecolor": "#2a3f5f"
            },
            "type": "carpet"
           }
          ],
          "choropleth": [
           {
            "colorbar": {
             "outlinewidth": 0,
             "ticks": ""
            },
            "type": "choropleth"
           }
          ],
          "contour": [
           {
            "colorbar": {
             "outlinewidth": 0,
             "ticks": ""
            },
            "colorscale": [
             [
              0,
              "#0d0887"
             ],
             [
              0.1111111111111111,
              "#46039f"
             ],
             [
              0.2222222222222222,
              "#7201a8"
             ],
             [
              0.3333333333333333,
              "#9c179e"
             ],
             [
              0.4444444444444444,
              "#bd3786"
             ],
             [
              0.5555555555555556,
              "#d8576b"
             ],
             [
              0.6666666666666666,
              "#ed7953"
             ],
             [
              0.7777777777777778,
              "#fb9f3a"
             ],
             [
              0.8888888888888888,
              "#fdca26"
             ],
             [
              1,
              "#f0f921"
             ]
            ],
            "type": "contour"
           }
          ],
          "contourcarpet": [
           {
            "colorbar": {
             "outlinewidth": 0,
             "ticks": ""
            },
            "type": "contourcarpet"
           }
          ],
          "heatmap": [
           {
            "colorbar": {
             "outlinewidth": 0,
             "ticks": ""
            },
            "colorscale": [
             [
              0,
              "#0d0887"
             ],
             [
              0.1111111111111111,
              "#46039f"
             ],
             [
              0.2222222222222222,
              "#7201a8"
             ],
             [
              0.3333333333333333,
              "#9c179e"
             ],
             [
              0.4444444444444444,
              "#bd3786"
             ],
             [
              0.5555555555555556,
              "#d8576b"
             ],
             [
              0.6666666666666666,
              "#ed7953"
             ],
             [
              0.7777777777777778,
              "#fb9f3a"
             ],
             [
              0.8888888888888888,
              "#fdca26"
             ],
             [
              1,
              "#f0f921"
             ]
            ],
            "type": "heatmap"
           }
          ],
          "heatmapgl": [
           {
            "colorbar": {
             "outlinewidth": 0,
             "ticks": ""
            },
            "colorscale": [
             [
              0,
              "#0d0887"
             ],
             [
              0.1111111111111111,
              "#46039f"
             ],
             [
              0.2222222222222222,
              "#7201a8"
             ],
             [
              0.3333333333333333,
              "#9c179e"
             ],
             [
              0.4444444444444444,
              "#bd3786"
             ],
             [
              0.5555555555555556,
              "#d8576b"
             ],
             [
              0.6666666666666666,
              "#ed7953"
             ],
             [
              0.7777777777777778,
              "#fb9f3a"
             ],
             [
              0.8888888888888888,
              "#fdca26"
             ],
             [
              1,
              "#f0f921"
             ]
            ],
            "type": "heatmapgl"
           }
          ],
          "histogram": [
           {
            "marker": {
             "pattern": {
              "fillmode": "overlay",
              "size": 10,
              "solidity": 0.2
             }
            },
            "type": "histogram"
           }
          ],
          "histogram2d": [
           {
            "colorbar": {
             "outlinewidth": 0,
             "ticks": ""
            },
            "colorscale": [
             [
              0,
              "#0d0887"
             ],
             [
              0.1111111111111111,
              "#46039f"
             ],
             [
              0.2222222222222222,
              "#7201a8"
             ],
             [
              0.3333333333333333,
              "#9c179e"
             ],
             [
              0.4444444444444444,
              "#bd3786"
             ],
             [
              0.5555555555555556,
              "#d8576b"
             ],
             [
              0.6666666666666666,
              "#ed7953"
             ],
             [
              0.7777777777777778,
              "#fb9f3a"
             ],
             [
              0.8888888888888888,
              "#fdca26"
             ],
             [
              1,
              "#f0f921"
             ]
            ],
            "type": "histogram2d"
           }
          ],
          "histogram2dcontour": [
           {
            "colorbar": {
             "outlinewidth": 0,
             "ticks": ""
            },
            "colorscale": [
             [
              0,
              "#0d0887"
             ],
             [
              0.1111111111111111,
              "#46039f"
             ],
             [
              0.2222222222222222,
              "#7201a8"
             ],
             [
              0.3333333333333333,
              "#9c179e"
             ],
             [
              0.4444444444444444,
              "#bd3786"
             ],
             [
              0.5555555555555556,
              "#d8576b"
             ],
             [
              0.6666666666666666,
              "#ed7953"
             ],
             [
              0.7777777777777778,
              "#fb9f3a"
             ],
             [
              0.8888888888888888,
              "#fdca26"
             ],
             [
              1,
              "#f0f921"
             ]
            ],
            "type": "histogram2dcontour"
           }
          ],
          "mesh3d": [
           {
            "colorbar": {
             "outlinewidth": 0,
             "ticks": ""
            },
            "type": "mesh3d"
           }
          ],
          "parcoords": [
           {
            "line": {
             "colorbar": {
              "outlinewidth": 0,
              "ticks": ""
             }
            },
            "type": "parcoords"
           }
          ],
          "pie": [
           {
            "automargin": true,
            "type": "pie"
           }
          ],
          "scatter": [
           {
            "fillpattern": {
             "fillmode": "overlay",
             "size": 10,
             "solidity": 0.2
            },
            "type": "scatter"
           }
          ],
          "scatter3d": [
           {
            "line": {
             "colorbar": {
              "outlinewidth": 0,
              "ticks": ""
             }
            },
            "marker": {
             "colorbar": {
              "outlinewidth": 0,
              "ticks": ""
             }
            },
            "type": "scatter3d"
           }
          ],
          "scattercarpet": [
           {
            "marker": {
             "colorbar": {
              "outlinewidth": 0,
              "ticks": ""
             }
            },
            "type": "scattercarpet"
           }
          ],
          "scattergeo": [
           {
            "marker": {
             "colorbar": {
              "outlinewidth": 0,
              "ticks": ""
             }
            },
            "type": "scattergeo"
           }
          ],
          "scattergl": [
           {
            "marker": {
             "colorbar": {
              "outlinewidth": 0,
              "ticks": ""
             }
            },
            "type": "scattergl"
           }
          ],
          "scattermapbox": [
           {
            "marker": {
             "colorbar": {
              "outlinewidth": 0,
              "ticks": ""
             }
            },
            "type": "scattermapbox"
           }
          ],
          "scatterpolar": [
           {
            "marker": {
             "colorbar": {
              "outlinewidth": 0,
              "ticks": ""
             }
            },
            "type": "scatterpolar"
           }
          ],
          "scatterpolargl": [
           {
            "marker": {
             "colorbar": {
              "outlinewidth": 0,
              "ticks": ""
             }
            },
            "type": "scatterpolargl"
           }
          ],
          "scatterternary": [
           {
            "marker": {
             "colorbar": {
              "outlinewidth": 0,
              "ticks": ""
             }
            },
            "type": "scatterternary"
           }
          ],
          "surface": [
           {
            "colorbar": {
             "outlinewidth": 0,
             "ticks": ""
            },
            "colorscale": [
             [
              0,
              "#0d0887"
             ],
             [
              0.1111111111111111,
              "#46039f"
             ],
             [
              0.2222222222222222,
              "#7201a8"
             ],
             [
              0.3333333333333333,
              "#9c179e"
             ],
             [
              0.4444444444444444,
              "#bd3786"
             ],
             [
              0.5555555555555556,
              "#d8576b"
             ],
             [
              0.6666666666666666,
              "#ed7953"
             ],
             [
              0.7777777777777778,
              "#fb9f3a"
             ],
             [
              0.8888888888888888,
              "#fdca26"
             ],
             [
              1,
              "#f0f921"
             ]
            ],
            "type": "surface"
           }
          ],
          "table": [
           {
            "cells": {
             "fill": {
              "color": "#EBF0F8"
             },
             "line": {
              "color": "white"
             }
            },
            "header": {
             "fill": {
              "color": "#C8D4E3"
             },
             "line": {
              "color": "white"
             }
            },
            "type": "table"
           }
          ]
         },
         "layout": {
          "annotationdefaults": {
           "arrowcolor": "#2a3f5f",
           "arrowhead": 0,
           "arrowwidth": 1
          },
          "autotypenumbers": "strict",
          "coloraxis": {
           "colorbar": {
            "outlinewidth": 0,
            "ticks": ""
           }
          },
          "colorscale": {
           "diverging": [
            [
             0,
             "#8e0152"
            ],
            [
             0.1,
             "#c51b7d"
            ],
            [
             0.2,
             "#de77ae"
            ],
            [
             0.3,
             "#f1b6da"
            ],
            [
             0.4,
             "#fde0ef"
            ],
            [
             0.5,
             "#f7f7f7"
            ],
            [
             0.6,
             "#e6f5d0"
            ],
            [
             0.7,
             "#b8e186"
            ],
            [
             0.8,
             "#7fbc41"
            ],
            [
             0.9,
             "#4d9221"
            ],
            [
             1,
             "#276419"
            ]
           ],
           "sequential": [
            [
             0,
             "#0d0887"
            ],
            [
             0.1111111111111111,
             "#46039f"
            ],
            [
             0.2222222222222222,
             "#7201a8"
            ],
            [
             0.3333333333333333,
             "#9c179e"
            ],
            [
             0.4444444444444444,
             "#bd3786"
            ],
            [
             0.5555555555555556,
             "#d8576b"
            ],
            [
             0.6666666666666666,
             "#ed7953"
            ],
            [
             0.7777777777777778,
             "#fb9f3a"
            ],
            [
             0.8888888888888888,
             "#fdca26"
            ],
            [
             1,
             "#f0f921"
            ]
           ],
           "sequentialminus": [
            [
             0,
             "#0d0887"
            ],
            [
             0.1111111111111111,
             "#46039f"
            ],
            [
             0.2222222222222222,
             "#7201a8"
            ],
            [
             0.3333333333333333,
             "#9c179e"
            ],
            [
             0.4444444444444444,
             "#bd3786"
            ],
            [
             0.5555555555555556,
             "#d8576b"
            ],
            [
             0.6666666666666666,
             "#ed7953"
            ],
            [
             0.7777777777777778,
             "#fb9f3a"
            ],
            [
             0.8888888888888888,
             "#fdca26"
            ],
            [
             1,
             "#f0f921"
            ]
           ]
          },
          "colorway": [
           "#636efa",
           "#EF553B",
           "#00cc96",
           "#ab63fa",
           "#FFA15A",
           "#19d3f3",
           "#FF6692",
           "#B6E880",
           "#FF97FF",
           "#FECB52"
          ],
          "font": {
           "color": "#2a3f5f"
          },
          "geo": {
           "bgcolor": "white",
           "lakecolor": "white",
           "landcolor": "#E5ECF6",
           "showlakes": true,
           "showland": true,
           "subunitcolor": "white"
          },
          "hoverlabel": {
           "align": "left"
          },
          "hovermode": "closest",
          "mapbox": {
           "style": "light"
          },
          "paper_bgcolor": "white",
          "plot_bgcolor": "#E5ECF6",
          "polar": {
           "angularaxis": {
            "gridcolor": "white",
            "linecolor": "white",
            "ticks": ""
           },
           "bgcolor": "#E5ECF6",
           "radialaxis": {
            "gridcolor": "white",
            "linecolor": "white",
            "ticks": ""
           }
          },
          "scene": {
           "xaxis": {
            "backgroundcolor": "#E5ECF6",
            "gridcolor": "white",
            "gridwidth": 2,
            "linecolor": "white",
            "showbackground": true,
            "ticks": "",
            "zerolinecolor": "white"
           },
           "yaxis": {
            "backgroundcolor": "#E5ECF6",
            "gridcolor": "white",
            "gridwidth": 2,
            "linecolor": "white",
            "showbackground": true,
            "ticks": "",
            "zerolinecolor": "white"
           },
           "zaxis": {
            "backgroundcolor": "#E5ECF6",
            "gridcolor": "white",
            "gridwidth": 2,
            "linecolor": "white",
            "showbackground": true,
            "ticks": "",
            "zerolinecolor": "white"
           }
          },
          "shapedefaults": {
           "line": {
            "color": "#2a3f5f"
           }
          },
          "ternary": {
           "aaxis": {
            "gridcolor": "white",
            "linecolor": "white",
            "ticks": ""
           },
           "baxis": {
            "gridcolor": "white",
            "linecolor": "white",
            "ticks": ""
           },
           "bgcolor": "#E5ECF6",
           "caxis": {
            "gridcolor": "white",
            "linecolor": "white",
            "ticks": ""
           }
          },
          "title": {
           "x": 0.05
          },
          "xaxis": {
           "automargin": true,
           "gridcolor": "white",
           "linecolor": "white",
           "ticks": "",
           "title": {
            "standoff": 15
           },
           "zerolinecolor": "white",
           "zerolinewidth": 2
          },
          "yaxis": {
           "automargin": true,
           "gridcolor": "white",
           "linecolor": "white",
           "ticks": "",
           "title": {
            "standoff": 15
           },
           "zerolinecolor": "white",
           "zerolinewidth": 2
          }
         }
        },
        "title": {
         "text": "Spread Comparison"
        },
        "xaxis": {
         "anchor": "y",
         "domain": [
          0,
          1
         ],
         "title": {
          "text": "Spread_RFK"
         }
        },
        "yaxis": {
         "anchor": "x",
         "domain": [
          0,
          1
         ],
         "title": {
          "text": "Spread_JBDT"
         }
        }
       }
      }
     },
     "metadata": {},
     "output_type": "display_data"
    }
   ],
   "source": [
    "#Make the same plot as above but much better looking \n",
    "\n",
    "fig = px.scatter(merged, x=\"Spread_RFK\", y=\"Spread_JBDT\", trendline=\"ols\", title=\"Spread Comparison\")\n",
    "fig.show()\n"
   ]
  },
  {
   "cell_type": "markdown",
   "metadata": {},
   "source": [
    "## Interpreting the Spread Comparison\n",
    "\n",
    "We see that there is a linear relationship between how Joe Biden and Trump perform when RFK Jr is present on the ballot. This intuitively makes sense; if Trump is crushing Biden, he will still be performing well even if RFK Jr is present on the ballot. The reverse is also true.\n",
    "\n",
    "What is interesting is that the slope of this line is less than 1; it is much less than 1. This implies that regardless of who is winning the spread, the poll results are closer when RFK Jr is on the ballot. \n",
    "\n",
    "Why is this the case?"
   ]
  },
  {
   "cell_type": "code",
   "execution_count": 8,
   "metadata": {},
   "outputs": [
    {
     "data": {
      "image/png": "[encoded data removed]",
      "text/plain": [
       "<Figure size 1000x600 with 1 Axes>"
      ]
     },
     "metadata": {},
     "output_type": "display_data"
    }
   ],
   "source": [
    "#Just scatter the RFK percentage with the spread\n",
    "\n",
    "plt.figure(figsize=(10,6))\n",
    "plt.scatter(merged[\"Robert F.Kennedy Jr.Independent\"], merged[\"Spread_RFK\"])\n",
    "plt.title(\"Trump-Biden Spread vs. RFK Percentage\")\n",
    "# add trendline\n",
    "\n",
    "z = np.polyfit(merged[\"Robert F.Kennedy Jr.Independent\"], merged[\"Spread_RFK\"], 1)\n",
    "p = np.poly1d(z)\n",
    "plt.plot(merged[\"Robert F.Kennedy Jr.Independent\"],p(merged[\"Robert F.Kennedy Jr.Independent\"]), color=\"red\")\n",
    "\n",
    "plt.xlabel(\"RFK Percentage\")\n",
    "plt.ylabel(\"Spread\")\n",
    "plt.show()"
   ]
  },
  {
   "cell_type": "code",
   "execution_count": 9,
   "metadata": {},
   "outputs": [
    {
     "data": {
      "application/vnd.plotly.v1+json": {
       "config": {
        "plotlyServerURL": "https://plot.ly"
       },
       "data": [
        {
         "hovertemplate": "Robert F.Kennedy Jr.Independent=%{x}<br>Spread_RFK=%{y}<extra></extra>",
         "legendgroup": "",
         "marker": {
          "color": "#636efa",
          "symbol": "circle"
         },
         "mode": "markers",
         "name": "",
         "orientation": "v",
         "showlegend": false,
         "type": "scatter",
         "x": [
          0.15,
          0.18,
          0.22,
          0.16,
          0.09,
          0.2,
          0.21,
          0.11,
          0.14,
          0.22,
          0.16,
          0.14
         ],
         "xaxis": "x",
         "y": [
          0.030000000000000027,
          0.010000000000000009,
          -0.020000000000000018,
          0.08000000000000002,
          0.010000000000000009,
          0.020000000000000018,
          0.010000000000000009,
          0,
          -0.010000000000000009,
          0.06,
          0,
          0.040000000000000036
         ],
         "yaxis": "y"
        },
        {
         "hovertemplate": "<b>OLS trendline</b><br>Spread_RFK = 0.0583756 * Robert F.Kennedy Jr.Independent + 0.00953469<br>R<sup>2</sup>=0.007225<br><br>Robert F.Kennedy Jr.Independent=%{x}<br>Spread_RFK=%{y} <b>(trend)</b><extra></extra>",
         "legendgroup": "",
         "marker": {
          "color": "#636efa",
          "symbol": "circle"
         },
         "mode": "lines",
         "name": "",
         "showlegend": false,
         "type": "scatter",
         "x": [
          0.09,
          0.11,
          0.14,
          0.14,
          0.15,
          0.16,
          0.16,
          0.18,
          0.2,
          0.21,
          0.22,
          0.22
         ],
         "xaxis": "x",
         "y": [
          0.014788494077834205,
          0.01595600676818953,
          0.017707275803722524,
          0.017707275803722524,
          0.018291032148900186,
          0.01887478849407785,
          0.01887478849407785,
          0.02004230118443318,
          0.021209813874788506,
          0.02179357021996617,
          0.022377326565143834,
          0.022377326565143834
         ],
         "yaxis": "y"
        }
       ],
       "layout": {
        "legend": {
         "tracegroupgap": 0
        },
        "template": {
         "data": {
          "bar": [
           {
            "error_x": {
             "color": "#2a3f5f"
            },
            "error_y": {
             "color": "#2a3f5f"
            },
            "marker": {
             "line": {
              "color": "#E5ECF6",
              "width": 0.5
             },
             "pattern": {
              "fillmode": "overlay",
              "size": 10,
              "solidity": 0.2
             }
            },
            "type": "bar"
           }
          ],
          "barpolar": [
           {
            "marker": {
             "line": {
              "color": "#E5ECF6",
              "width": 0.5
             },
             "pattern": {
              "fillmode": "overlay",
              "size": 10,
              "solidity": 0.2
             }
            },
            "type": "barpolar"
           }
          ],
          "carpet": [
           {
            "aaxis": {
             "endlinecolor": "#2a3f5f",
             "gridcolor": "white",
             "linecolor": "white",
             "minorgridcolor": "white",
             "startlinecolor": "#2a3f5f"
            },
            "baxis": {
             "endlinecolor": "#2a3f5f",
             "gridcolor": "white",
             "linecolor": "white",
             "minorgridcolor": "white",
             "startlinecolor": "#2a3f5f"
            },
            "type": "carpet"
           }
          ],
          "choropleth": [
           {
            "colorbar": {
             "outlinewidth": 0,
             "ticks": ""
            },
            "type": "choropleth"
           }
          ],
          "contour": [
           {
            "colorbar": {
             "outlinewidth": 0,
             "ticks": ""
            },
            "colorscale": [
             [
              0,
              "#0d0887"
             ],
             [
              0.1111111111111111,
              "#46039f"
             ],
             [
              0.2222222222222222,
              "#7201a8"
             ],
             [
              0.3333333333333333,
              "#9c179e"
             ],
             [
              0.4444444444444444,
              "#bd3786"
             ],
             [
              0.5555555555555556,
              "#d8576b"
             ],
             [
              0.6666666666666666,
              "#ed7953"
             ],
             [
              0.7777777777777778,
              "#fb9f3a"
             ],
             [
              0.8888888888888888,
              "#fdca26"
             ],
             [
              1,
              "#f0f921"
             ]
            ],
            "type": "contour"
           }
          ],
          "contourcarpet": [
           {
            "colorbar": {
             "outlinewidth": 0,
             "ticks": ""
            },
            "type": "contourcarpet"
           }
          ],
          "heatmap": [
           {
            "colorbar": {
             "outlinewidth": 0,
             "ticks": ""
            },
            "colorscale": [
             [
              0,
              "#0d0887"
             ],
             [
              0.1111111111111111,
              "#46039f"
             ],
             [
              0.2222222222222222,
              "#7201a8"
             ],
             [
              0.3333333333333333,
              "#9c179e"
             ],
             [
              0.4444444444444444,
              "#bd3786"
             ],
             [
              0.5555555555555556,
              "#d8576b"
             ],
             [
              0.6666666666666666,
              "#ed7953"
             ],
             [
              0.7777777777777778,
              "#fb9f3a"
             ],
             [
              0.8888888888888888,
              "#fdca26"
             ],
             [
              1,
              "#f0f921"
             ]
            ],
            "type": "heatmap"
           }
          ],
          "heatmapgl": [
           {
            "colorbar": {
             "outlinewidth": 0,
             "ticks": ""
            },
            "colorscale": [
             [
              0,
              "#0d0887"
             ],
             [
              0.1111111111111111,
              "#46039f"
             ],
             [
              0.2222222222222222,
              "#7201a8"
             ],
             [
              0.3333333333333333,
              "#9c179e"
             ],
             [
              0.4444444444444444,
              "#bd3786"
             ],
             [
              0.5555555555555556,
              "#d8576b"
             ],
             [
              0.6666666666666666,
              "#ed7953"
             ],
             [
              0.7777777777777778,
              "#fb9f3a"
             ],
             [
              0.8888888888888888,
              "#fdca26"
             ],
             [
              1,
              "#f0f921"
             ]
            ],
            "type": "heatmapgl"
           }
          ],
          "histogram": [
           {
            "marker": {
             "pattern": {
              "fillmode": "overlay",
              "size": 10,
              "solidity": 0.2
             }
            },
            "type": "histogram"
           }
          ],
          "histogram2d": [
           {
            "colorbar": {
             "outlinewidth": 0,
             "ticks": ""
            },
            "colorscale": [
             [
              0,
              "#0d0887"
             ],
             [
              0.1111111111111111,
              "#46039f"
             ],
             [
              0.2222222222222222,
              "#7201a8"
             ],
             [
              0.3333333333333333,
              "#9c179e"
             ],
             [
              0.4444444444444444,
              "#bd3786"
             ],
             [
              0.5555555555555556,
              "#d8576b"
             ],
             [
              0.6666666666666666,
              "#ed7953"
             ],
             [
              0.7777777777777778,
              "#fb9f3a"
             ],
             [
              0.8888888888888888,
              "#fdca26"
             ],
             [
              1,
              "#f0f921"
             ]
            ],
            "type": "histogram2d"
           }
          ],
          "histogram2dcontour": [
           {
            "colorbar": {
             "outlinewidth": 0,
             "ticks": ""
            },
            "colorscale": [
             [
              0,
              "#0d0887"
             ],
             [
              0.1111111111111111,
              "#46039f"
             ],
             [
              0.2222222222222222,
              "#7201a8"
             ],
             [
              0.3333333333333333,
              "#9c179e"
             ],
             [
              0.4444444444444444,
              "#bd3786"
             ],
             [
              0.5555555555555556,
              "#d8576b"
             ],
             [
              0.6666666666666666,
              "#ed7953"
             ],
             [
              0.7777777777777778,
              "#fb9f3a"
             ],
             [
              0.8888888888888888,
              "#fdca26"
             ],
             [
              1,
              "#f0f921"
             ]
            ],
            "type": "histogram2dcontour"
           }
          ],
          "mesh3d": [
           {
            "colorbar": {
             "outlinewidth": 0,
             "ticks": ""
            },
            "type": "mesh3d"
           }
          ],
          "parcoords": [
           {
            "line": {
             "colorbar": {
              "outlinewidth": 0,
              "ticks": ""
             }
            },
            "type": "parcoords"
           }
          ],
          "pie": [
           {
            "automargin": true,
            "type": "pie"
           }
          ],
          "scatter": [
           {
            "fillpattern": {
             "fillmode": "overlay",
             "size": 10,
             "solidity": 0.2
            },
            "type": "scatter"
           }
          ],
          "scatter3d": [
           {
            "line": {
             "colorbar": {
              "outlinewidth": 0,
              "ticks": ""
             }
            },
            "marker": {
             "colorbar": {
              "outlinewidth": 0,
              "ticks": ""
             }
            },
            "type": "scatter3d"
           }
          ],
          "scattercarpet": [
           {
            "marker": {
             "colorbar": {
              "outlinewidth": 0,
              "ticks": ""
             }
            },
            "type": "scattercarpet"
           }
          ],
          "scattergeo": [
           {
            "marker": {
             "colorbar": {
              "outlinewidth": 0,
              "ticks": ""
             }
            },
            "type": "scattergeo"
           }
          ],
          "scattergl": [
           {
            "marker": {
             "colorbar": {
              "outlinewidth": 0,
              "ticks": ""
             }
            },
            "type": "scattergl"
           }
          ],
          "scattermapbox": [
           {
            "marker": {
             "colorbar": {
              "outlinewidth": 0,
              "ticks": ""
             }
            },
            "type": "scattermapbox"
           }
          ],
          "scatterpolar": [
           {
            "marker": {
             "colorbar": {
              "outlinewidth": 0,
              "ticks": ""
             }
            },
            "type": "scatterpolar"
           }
          ],
          "scatterpolargl": [
           {
            "marker": {
             "colorbar": {
              "outlinewidth": 0,
              "ticks": ""
             }
            },
            "type": "scatterpolargl"
           }
          ],
          "scatterternary": [
           {
            "marker": {
             "colorbar": {
              "outlinewidth": 0,
              "ticks": ""
             }
            },
            "type": "scatterternary"
           }
          ],
          "surface": [
           {
            "colorbar": {
             "outlinewidth": 0,
             "ticks": ""
            },
            "colorscale": [
             [
              0,
              "#0d0887"
             ],
             [
              0.1111111111111111,
              "#46039f"
             ],
             [
              0.2222222222222222,
              "#7201a8"
             ],
             [
              0.3333333333333333,
              "#9c179e"
             ],
             [
              0.4444444444444444,
              "#bd3786"
             ],
             [
              0.5555555555555556,
              "#d8576b"
             ],
             [
              0.6666666666666666,
              "#ed7953"
             ],
             [
              0.7777777777777778,
              "#fb9f3a"
             ],
             [
              0.8888888888888888,
              "#fdca26"
             ],
             [
              1,
              "#f0f921"
             ]
            ],
            "type": "surface"
           }
          ],
          "table": [
           {
            "cells": {
             "fill": {
              "color": "#EBF0F8"
             },
             "line": {
              "color": "white"
             }
            },
            "header": {
             "fill": {
              "color": "#C8D4E3"
             },
             "line": {
              "color": "white"
             }
            },
            "type": "table"
           }
          ]
         },
         "layout": {
          "annotationdefaults": {
           "arrowcolor": "#2a3f5f",
           "arrowhead": 0,
           "arrowwidth": 1
          },
          "autotypenumbers": "strict",
          "coloraxis": {
           "colorbar": {
            "outlinewidth": 0,
            "ticks": ""
           }
          },
          "colorscale": {
           "diverging": [
            [
             0,
             "#8e0152"
            ],
            [
             0.1,
             "#c51b7d"
            ],
            [
             0.2,
             "#de77ae"
            ],
            [
             0.3,
             "#f1b6da"
            ],
            [
             0.4,
             "#fde0ef"
            ],
            [
             0.5,
             "#f7f7f7"
            ],
            [
             0.6,
             "#e6f5d0"
            ],
            [
             0.7,
             "#b8e186"
            ],
            [
             0.8,
             "#7fbc41"
            ],
            [
             0.9,
             "#4d9221"
            ],
            [
             1,
             "#276419"
            ]
           ],
           "sequential": [
            [
             0,
             "#0d0887"
            ],
            [
             0.1111111111111111,
             "#46039f"
            ],
            [
             0.2222222222222222,
             "#7201a8"
            ],
            [
             0.3333333333333333,
             "#9c179e"
            ],
            [
             0.4444444444444444,
             "#bd3786"
            ],
            [
             0.5555555555555556,
             "#d8576b"
            ],
            [
             0.6666666666666666,
             "#ed7953"
            ],
            [
             0.7777777777777778,
             "#fb9f3a"
            ],
            [
             0.8888888888888888,
             "#fdca26"
            ],
            [
             1,
             "#f0f921"
            ]
           ],
           "sequentialminus": [
            [
             0,
             "#0d0887"
            ],
            [
             0.1111111111111111,
             "#46039f"
            ],
            [
             0.2222222222222222,
             "#7201a8"
            ],
            [
             0.3333333333333333,
             "#9c179e"
            ],
            [
             0.4444444444444444,
             "#bd3786"
            ],
            [
             0.5555555555555556,
             "#d8576b"
            ],
            [
             0.6666666666666666,
             "#ed7953"
            ],
            [
             0.7777777777777778,
             "#fb9f3a"
            ],
            [
             0.8888888888888888,
             "#fdca26"
            ],
            [
             1,
             "#f0f921"
            ]
           ]
          },
          "colorway": [
           "#636efa",
           "#EF553B",
           "#00cc96",
           "#ab63fa",
           "#FFA15A",
           "#19d3f3",
           "#FF6692",
           "#B6E880",
           "#FF97FF",
           "#FECB52"
          ],
          "font": {
           "color": "#2a3f5f"
          },
          "geo": {
           "bgcolor": "white",
           "lakecolor": "white",
           "landcolor": "#E5ECF6",
           "showlakes": true,
           "showland": true,
           "subunitcolor": "white"
          },
          "hoverlabel": {
           "align": "left"
          },
          "hovermode": "closest",
          "mapbox": {
           "style": "light"
          },
          "paper_bgcolor": "white",
          "plot_bgcolor": "#E5ECF6",
          "polar": {
           "angularaxis": {
            "gridcolor": "white",
            "linecolor": "white",
            "ticks": ""
           },
           "bgcolor": "#E5ECF6",
           "radialaxis": {
            "gridcolor": "white",
            "linecolor": "white",
            "ticks": ""
           }
          },
          "scene": {
           "xaxis": {
            "backgroundcolor": "#E5ECF6",
            "gridcolor": "white",
            "gridwidth": 2,
            "linecolor": "white",
            "showbackground": true,
            "ticks": "",
            "zerolinecolor": "white"
           },
           "yaxis": {
            "backgroundcolor": "#E5ECF6",
            "gridcolor": "white",
            "gridwidth": 2,
            "linecolor": "white",
            "showbackground": true,
            "ticks": "",
            "zerolinecolor": "white"
           },
           "zaxis": {
            "backgroundcolor": "#E5ECF6",
            "gridcolor": "white",
            "gridwidth": 2,
            "linecolor": "white",
            "showbackground": true,
            "ticks": "",
            "zerolinecolor": "white"
           }
          },
          "shapedefaults": {
           "line": {
            "color": "#2a3f5f"
           }
          },
          "ternary": {
           "aaxis": {
            "gridcolor": "white",
            "linecolor": "white",
            "ticks": ""
           },
           "baxis": {
            "gridcolor": "white",
            "linecolor": "white",
            "ticks": ""
           },
           "bgcolor": "#E5ECF6",
           "caxis": {
            "gridcolor": "white",
            "linecolor": "white",
            "ticks": ""
           }
          },
          "title": {
           "x": 0.05
          },
          "xaxis": {
           "automargin": true,
           "gridcolor": "white",
           "linecolor": "white",
           "ticks": "",
           "title": {
            "standoff": 15
           },
           "zerolinecolor": "white",
           "zerolinewidth": 2
          },
          "yaxis": {
           "automargin": true,
           "gridcolor": "white",
           "linecolor": "white",
           "ticks": "",
           "title": {
            "standoff": 15
           },
           "zerolinecolor": "white",
           "zerolinewidth": 2
          }
         }
        },
        "title": {
         "text": "Trump-Biden Spread vs. RFK Percentage"
        },
        "xaxis": {
         "anchor": "y",
         "domain": [
          0,
          1
         ],
         "title": {
          "text": "RFK Percentage"
         }
        },
        "yaxis": {
         "anchor": "x",
         "domain": [
          0,
          1
         ],
         "title": {
          "text": "Trump-Biden Spread"
         }
        }
       }
      }
     },
     "metadata": {},
     "output_type": "display_data"
    }
   ],
   "source": [
    "# Make the same scatter plot but much better looking\n",
    "\n",
    "fig = px.scatter(merged, x=\"Robert F.Kennedy Jr.Independent\", y=\"Spread_RFK\", trendline=\"ols\", title=\"Trump-Biden Spread vs. RFK Percentage\")\n",
    "fig.update_layout(\n",
    "    title=\"Trump-Biden Spread vs. RFK Percentage\",\n",
    "    xaxis_title=\"RFK Percentage\",\n",
    "    yaxis_title=\"Trump-Biden Spread\",\n",
    ")\n",
    "fig.show()"
   ]
  },
  {
   "cell_type": "markdown",
   "metadata": {},
   "source": [
    "## Interpreting RFK's Performance Against The Spread\n",
    "\n",
    "As RFK does better, there is a slight correlation towards Trump. It is unclear if this is actually evidence that RFK jr improves Trump's winning odds, or more of a reflection that Biden is losing popularity in the polls. \n",
    "\n",
    "The slope of the line is only 0.22. Even when RFK JR is performing exceptionally well, neither candidate sees a strong gain. \n",
    "\n",
    "It has been reported that RFK JR pulls relatively equal from both parties, which this line somewhat substantiates. \n",
    "\n",
    "\n",
    "## How does RFK Pull Proportionally from Each Candidate?"
   ]
  },
  {
   "cell_type": "code",
   "execution_count": 10,
   "metadata": {},
   "outputs": [
    {
     "data": {
      "text/html": [
       "<div>\n",
       "<style scoped>\n",
       "    .dataframe tbody tr th:only-of-type {\n",
       "        vertical-align: middle;\n",
       "    }\n",
       "\n",
       "    .dataframe tbody tr th {\n",
       "        vertical-align: top;\n",
       "    }\n",
       "\n",
       "    .dataframe thead th {\n",
       "        text-align: right;\n",
       "    }\n",
       "</style>\n",
       "<table border=\"1\" class=\"dataframe\">\n",
       "  <thead>\n",
       "    <tr style=\"text-align: right;\">\n",
       "      <th></th>\n",
       "      <th>Poll source</th>\n",
       "      <th>Date</th>\n",
       "      <th>Samplesize[b]</th>\n",
       "      <th>Marginof error</th>\n",
       "      <th>JoeBidenDemocratic</th>\n",
       "      <th>DonaldTrumpRepublican</th>\n",
       "      <th>Robert F.Kennedy Jr.Independent</th>\n",
       "      <th>CornelWestIndependent</th>\n",
       "      <th>Other/Undecided</th>\n",
       "      <th>Year</th>\n",
       "      <th>Month</th>\n",
       "      <th>Day</th>\n",
       "      <th>Spread</th>\n",
       "    </tr>\n",
       "    <tr>\n",
       "      <th>New Date</th>\n",
       "      <th></th>\n",
       "      <th></th>\n",
       "      <th></th>\n",
       "      <th></th>\n",
       "      <th></th>\n",
       "      <th></th>\n",
       "      <th></th>\n",
       "      <th></th>\n",
       "      <th></th>\n",
       "      <th></th>\n",
       "      <th></th>\n",
       "      <th></th>\n",
       "      <th></th>\n",
       "    </tr>\n",
       "  </thead>\n",
       "  <tbody>\n",
       "    <tr>\n",
       "      <th>2024-03-29</th>\n",
       "      <td>Big Village</td>\n",
       "      <td>March 29–31, 2024</td>\n",
       "      <td>1,425 (LV)</td>\n",
       "      <td>± 3.4%</td>\n",
       "      <td>0.420</td>\n",
       "      <td>0.400</td>\n",
       "      <td>0.080</td>\n",
       "      <td>0.020</td>\n",
       "      <td>8.000000e-02</td>\n",
       "      <td>2024</td>\n",
       "      <td>March</td>\n",
       "      <td>29</td>\n",
       "      <td>-0.020</td>\n",
       "    </tr>\n",
       "    <tr>\n",
       "      <th>2023-11-29</th>\n",
       "      <td>SSRS/CNN</td>\n",
       "      <td>November 29 – December 6, 2023</td>\n",
       "      <td>1,197 (RV)</td>\n",
       "      <td>± 3.4%</td>\n",
       "      <td>0.310</td>\n",
       "      <td>0.390</td>\n",
       "      <td>0.200</td>\n",
       "      <td>0.060</td>\n",
       "      <td>4.000000e-02</td>\n",
       "      <td>2023</td>\n",
       "      <td>November</td>\n",
       "      <td>29</td>\n",
       "      <td>0.080</td>\n",
       "    </tr>\n",
       "    <tr>\n",
       "      <th>2023-11-22</th>\n",
       "      <td>HarrisX</td>\n",
       "      <td>November 22–28, 2023</td>\n",
       "      <td>4,003 (RV)</td>\n",
       "      <td>–</td>\n",
       "      <td>0.330</td>\n",
       "      <td>0.410</td>\n",
       "      <td>0.130</td>\n",
       "      <td>0.020</td>\n",
       "      <td>1.100000e-01</td>\n",
       "      <td>2023</td>\n",
       "      <td>November</td>\n",
       "      <td>22</td>\n",
       "      <td>0.080</td>\n",
       "    </tr>\n",
       "    <tr>\n",
       "      <th>2023-11-15</th>\n",
       "      <td>HarrisX/The Messenger</td>\n",
       "      <td>November 15–19, 2023</td>\n",
       "      <td>3,017 (LV)</td>\n",
       "      <td>± 1.8%</td>\n",
       "      <td>0.330</td>\n",
       "      <td>0.400</td>\n",
       "      <td>0.140</td>\n",
       "      <td>0.020</td>\n",
       "      <td>1.100000e-01</td>\n",
       "      <td>2023</td>\n",
       "      <td>November</td>\n",
       "      <td>15</td>\n",
       "      <td>0.070</td>\n",
       "    </tr>\n",
       "    <tr>\n",
       "      <th>2023-10-30</th>\n",
       "      <td>Big Village</td>\n",
       "      <td>October 30 – November 5, 2023</td>\n",
       "      <td>1,497 (LV)</td>\n",
       "      <td>± 2.2%</td>\n",
       "      <td>0.371</td>\n",
       "      <td>0.401</td>\n",
       "      <td>0.124</td>\n",
       "      <td>0.017</td>\n",
       "      <td>8.700000e-02</td>\n",
       "      <td>2023</td>\n",
       "      <td>October</td>\n",
       "      <td>30</td>\n",
       "      <td>0.030</td>\n",
       "    </tr>\n",
       "    <tr>\n",
       "      <th>2023-10-27</th>\n",
       "      <td>CNN/SSRS</td>\n",
       "      <td>October 27 – November 2, 2023</td>\n",
       "      <td>1,271 (RV)</td>\n",
       "      <td>± 3.1%</td>\n",
       "      <td>0.350</td>\n",
       "      <td>0.410</td>\n",
       "      <td>0.160</td>\n",
       "      <td>0.040</td>\n",
       "      <td>4.000000e-02</td>\n",
       "      <td>2023</td>\n",
       "      <td>October</td>\n",
       "      <td>27</td>\n",
       "      <td>0.060</td>\n",
       "    </tr>\n",
       "    <tr>\n",
       "      <th>2023-10-30</th>\n",
       "      <td>HarrisX/The Messenger</td>\n",
       "      <td>October 30 – November 1, 2023</td>\n",
       "      <td>2,021 (RV)</td>\n",
       "      <td>± 2.2%</td>\n",
       "      <td>0.360</td>\n",
       "      <td>0.410</td>\n",
       "      <td>0.110</td>\n",
       "      <td>0.020</td>\n",
       "      <td>1.000000e-01</td>\n",
       "      <td>2023</td>\n",
       "      <td>October</td>\n",
       "      <td>30</td>\n",
       "      <td>0.050</td>\n",
       "    </tr>\n",
       "    <tr>\n",
       "      <th>2023-10-26</th>\n",
       "      <td>Quinnipiac University</td>\n",
       "      <td>October 26–30, 2023</td>\n",
       "      <td>1,610 (RV)</td>\n",
       "      <td>± 2.4%</td>\n",
       "      <td>0.360</td>\n",
       "      <td>0.350</td>\n",
       "      <td>0.190</td>\n",
       "      <td>0.060</td>\n",
       "      <td>4.000000e-02</td>\n",
       "      <td>2023</td>\n",
       "      <td>October</td>\n",
       "      <td>26</td>\n",
       "      <td>-0.010</td>\n",
       "    </tr>\n",
       "    <tr>\n",
       "      <th>2023-10-23</th>\n",
       "      <td>McLaughlin and Associates (R)</td>\n",
       "      <td>October 23–26, 2023</td>\n",
       "      <td>449 (LV)</td>\n",
       "      <td>± 3.1%</td>\n",
       "      <td>0.350</td>\n",
       "      <td>0.380</td>\n",
       "      <td>0.120</td>\n",
       "      <td>0.020</td>\n",
       "      <td>1.300000e-01</td>\n",
       "      <td>2023</td>\n",
       "      <td>October</td>\n",
       "      <td>23</td>\n",
       "      <td>0.030</td>\n",
       "    </tr>\n",
       "    <tr>\n",
       "      <th>2023-10-16</th>\n",
       "      <td>Harris X/The Messenger</td>\n",
       "      <td>October 16–23, 2023</td>\n",
       "      <td>3,029 (RV)</td>\n",
       "      <td>± 1.8%</td>\n",
       "      <td>0.350</td>\n",
       "      <td>0.380</td>\n",
       "      <td>0.130</td>\n",
       "      <td>0.020</td>\n",
       "      <td>1.200000e-01</td>\n",
       "      <td>2023</td>\n",
       "      <td>October</td>\n",
       "      <td>16</td>\n",
       "      <td>0.030</td>\n",
       "    </tr>\n",
       "    <tr>\n",
       "      <th>2023-10-17</th>\n",
       "      <td>USA Today/Suffolk University</td>\n",
       "      <td>October 17–20, 2023</td>\n",
       "      <td>1,000 (RV)</td>\n",
       "      <td>±3.1%</td>\n",
       "      <td>0.370</td>\n",
       "      <td>0.370</td>\n",
       "      <td>0.130</td>\n",
       "      <td>0.040</td>\n",
       "      <td>9.000000e-02</td>\n",
       "      <td>2023</td>\n",
       "      <td>October</td>\n",
       "      <td>17</td>\n",
       "      <td>0.000</td>\n",
       "    </tr>\n",
       "    <tr>\n",
       "      <th>2023-10-18</th>\n",
       "      <td>Harvard/Harris X</td>\n",
       "      <td>October 18–19, 2023</td>\n",
       "      <td>2,116 (RV)</td>\n",
       "      <td>±2%</td>\n",
       "      <td>0.310</td>\n",
       "      <td>0.390</td>\n",
       "      <td>0.180</td>\n",
       "      <td>0.030</td>\n",
       "      <td>9.000000e-02</td>\n",
       "      <td>2023</td>\n",
       "      <td>October</td>\n",
       "      <td>18</td>\n",
       "      <td>0.080</td>\n",
       "    </tr>\n",
       "    <tr>\n",
       "      <th>2023-10-13</th>\n",
       "      <td>Zogby Analytics</td>\n",
       "      <td>October 13–15, 2023</td>\n",
       "      <td>869 (LV)</td>\n",
       "      <td>±3.3%</td>\n",
       "      <td>0.412</td>\n",
       "      <td>0.426</td>\n",
       "      <td>0.125</td>\n",
       "      <td>0.037</td>\n",
       "      <td>-2.775558e-17</td>\n",
       "      <td>2023</td>\n",
       "      <td>October</td>\n",
       "      <td>13</td>\n",
       "      <td>0.014</td>\n",
       "    </tr>\n",
       "  </tbody>\n",
       "</table>\n",
       "</div>"
      ],
      "text/plain": [
       "                              Poll source                            Date  \\\n",
       "New Date                                                                    \n",
       "2024-03-29                    Big Village               March 29–31, 2024   \n",
       "2023-11-29                       SSRS/CNN  November 29 – December 6, 2023   \n",
       "2023-11-22                        HarrisX            November 22–28, 2023   \n",
       "2023-11-15          HarrisX/The Messenger            November 15–19, 2023   \n",
       "2023-10-30                    Big Village   October 30 – November 5, 2023   \n",
       "2023-10-27                       CNN/SSRS   October 27 – November 2, 2023   \n",
       "2023-10-30          HarrisX/The Messenger   October 30 – November 1, 2023   \n",
       "2023-10-26          Quinnipiac University             October 26–30, 2023   \n",
       "2023-10-23  McLaughlin and Associates (R)             October 23–26, 2023   \n",
       "2023-10-16         Harris X/The Messenger             October 16–23, 2023   \n",
       "2023-10-17   USA Today/Suffolk University             October 17–20, 2023   \n",
       "2023-10-18               Harvard/Harris X             October 18–19, 2023   \n",
       "2023-10-13                Zogby Analytics             October 13–15, 2023   \n",
       "\n",
       "           Samplesize[b] Marginof error  JoeBidenDemocratic  \\\n",
       "New Date                                                      \n",
       "2024-03-29    1,425 (LV)         ± 3.4%               0.420   \n",
       "2023-11-29    1,197 (RV)         ± 3.4%               0.310   \n",
       "2023-11-22    4,003 (RV)              –               0.330   \n",
       "2023-11-15    3,017 (LV)         ± 1.8%               0.330   \n",
       "2023-10-30    1,497 (LV)         ± 2.2%               0.371   \n",
       "2023-10-27    1,271 (RV)         ± 3.1%               0.350   \n",
       "2023-10-30    2,021 (RV)         ± 2.2%               0.360   \n",
       "2023-10-26    1,610 (RV)         ± 2.4%               0.360   \n",
       "2023-10-23      449 (LV)         ± 3.1%               0.350   \n",
       "2023-10-16    3,029 (RV)         ± 1.8%               0.350   \n",
       "2023-10-17    1,000 (RV)          ±3.1%               0.370   \n",
       "2023-10-18    2,116 (RV)            ±2%               0.310   \n",
       "2023-10-13      869 (LV)          ±3.3%               0.412   \n",
       "\n",
       "            DonaldTrumpRepublican  Robert F.Kennedy Jr.Independent  \\\n",
       "New Date                                                             \n",
       "2024-03-29                  0.400                            0.080   \n",
       "2023-11-29                  0.390                            0.200   \n",
       "2023-11-22                  0.410                            0.130   \n",
       "2023-11-15                  0.400                            0.140   \n",
       "2023-10-30                  0.401                            0.124   \n",
       "2023-10-27                  0.410                            0.160   \n",
       "2023-10-30                  0.410                            0.110   \n",
       "2023-10-26                  0.350                            0.190   \n",
       "2023-10-23                  0.380                            0.120   \n",
       "2023-10-16                  0.380                            0.130   \n",
       "2023-10-17                  0.370                            0.130   \n",
       "2023-10-18                  0.390                            0.180   \n",
       "2023-10-13                  0.426                            0.125   \n",
       "\n",
       "            CornelWestIndependent  Other/Undecided  Year     Month Day  Spread  \n",
       "New Date                                                                        \n",
       "2024-03-29                  0.020     8.000000e-02  2024     March  29  -0.020  \n",
       "2023-11-29                  0.060     4.000000e-02  2023  November  29   0.080  \n",
       "2023-11-22                  0.020     1.100000e-01  2023  November  22   0.080  \n",
       "2023-11-15                  0.020     1.100000e-01  2023  November  15   0.070  \n",
       "2023-10-30                  0.017     8.700000e-02  2023   October  30   0.030  \n",
       "2023-10-27                  0.040     4.000000e-02  2023   October  27   0.060  \n",
       "2023-10-30                  0.020     1.000000e-01  2023   October  30   0.050  \n",
       "2023-10-26                  0.060     4.000000e-02  2023   October  26  -0.010  \n",
       "2023-10-23                  0.020     1.300000e-01  2023   October  23   0.030  \n",
       "2023-10-16                  0.020     1.200000e-01  2023   October  16   0.030  \n",
       "2023-10-17                  0.040     9.000000e-02  2023   October  17   0.000  \n",
       "2023-10-18                  0.030     9.000000e-02  2023   October  18   0.080  \n",
       "2023-10-13                  0.037    -2.775558e-17  2023   October  13   0.014  "
      ]
     },
     "execution_count": 10,
     "metadata": {},
     "output_type": "execute_result"
    }
   ],
   "source": [
    "#Investigate what's going on with undecided voters\n",
    "#How does the undecided percentage relate to the number of candidates on the ballot?\n",
    "\n",
    "cw_table = table_dat[15]\n",
    "\n",
    "cw_table_data = []\n",
    "for row in cw_table.find_all('tr'):\n",
    "    row_data = [cell.text.strip() for cell in row.find_all(['td','th'])]\n",
    "    cw_table_data.append(row_data)\n",
    "\n",
    "#Convert table data to a dataframe\n",
    "#We remove the first row since this is RCP summary data that we don't want to use\n",
    "    \n",
    "cw = pd.DataFrame(cw_table_data[1:], columns=cw_table_data[0])\n",
    "\n",
    "cw[\"Year\"] = cw[\"Date\"].str.split(\" \").str[-1]\n",
    "cw[\"Month\"] = cw[\"Date\"].str.split(\" \").str[0]\n",
    "cw[\"Day\"] = cw[\"Date\"].str.split(\" \").str[1].str.split(\"–\").str[0]\n",
    "cw[\"New Date\"] = cw[\"Month\"] + \" \" + cw[\"Day\"] + \", \" + cw[\"Year\"]\n",
    "cw[\"New Date\"] = pd.to_datetime(cw[\"New Date\"],format=\"mixed\")\n",
    "cw['JoeBidenDemocratic'] = cw['JoeBidenDemocratic'].str.rstrip('%').astype('float') / 100\n",
    "cw['DonaldTrumpRepublican'] = cw['DonaldTrumpRepublican'].str.rstrip('%').astype('float') / 100\n",
    "cw[\"Robert F.Kennedy Jr.Independent\"] = cw[\"Robert F.Kennedy Jr.Independent\"].str.rstrip('%').astype('float') / 100\n",
    "cw[\"CornelWestIndependent\"] = cw[\"CornelWestIndependent\"].str.rstrip('%').astype('float') / 100\n",
    "\n",
    "cw.set_index(\"New Date\", inplace=True)\n",
    "cw.drop([\"2023-10-05\",\"2023-10-09\"], inplace=True)\n",
    "cw[\"Other/Undecided\"] = np.float32(1 - cw[\"JoeBidenDemocratic\"] - cw[\"DonaldTrumpRepublican\"] - cw[\"Robert F.Kennedy Jr.Independent\"] - cw[\"CornelWestIndependent\"])\n",
    "cw[\"Spread\"] = cw[\"DonaldTrumpRepublican\"] - cw[\"JoeBidenDemocratic\"]\n",
    "cw"
   ]
  },
  {
   "cell_type": "code",
   "execution_count": 11,
   "metadata": {},
   "outputs": [
    {
     "name": "stdout",
     "output_type": "stream",
     "text": [
      "Average percentage of undecided voters for Joe Biden and Donald Trump:  0.11336283185840713\n",
      "Average percentage of undecided voters for Joe Biden, Donald Trump, Robert F. Kennedy Jr.:  0.08407407407407406\n",
      "Average percentage of undecided voters for Joe Biden, Donald Trump, RFK Jr, Cornel West :  0.07976924\n"
     ]
    },
    {
     "data": {
      "image/png": "[encoded data removed]",
      "text/plain": [
       "<Figure size 640x480 with 1 Axes>"
      ]
     },
     "metadata": {},
     "output_type": "display_data"
    }
   ],
   "source": [
    "# Calculate the average percentage of undecided voters compared to the number of candidates on the ballot\n",
    "\n",
    "jbdt_avg = jbdt[\"Other/Undecided\"].mean()\n",
    "rfk_avg = rfk[\"Other/Undecided\"].mean()\n",
    "cw_avg = cw[\"Other/Undecided\"].mean()\n",
    "\n",
    "print(\"Average percentage of undecided voters for Joe Biden and Donald Trump: \", jbdt_avg)\n",
    "print(\"Average percentage of undecided voters for Joe Biden, Donald Trump, Robert F. Kennedy Jr.: \", rfk_avg)\n",
    "print(\"Average percentage of undecided voters for Joe Biden, Donald Trump, RFK Jr, Cornel West : \", cw_avg)\n",
    "\n",
    "#Plot the average percentage of undecided voters compared to the number of candidates on the ballot\n",
    "\n",
    "fig, ax = plt.subplots()\n",
    "ax.bar([\"Joe Biden and Donald Trump\", \"JB, DT, RFK\", \"All Four Candidates\"], [jbdt_avg, rfk_avg, cw_avg])\n",
    "ax.set_ylabel(\"Average Percentage of Undecided Voters\")\n",
    "ax.set_title(\"Average Percentage of Undecided Voters Compared to the Number of Candidates on the Ballot\")\n",
    "plt.show()\n",
    "\n",
    "\n"
   ]
  },
  {
   "cell_type": "code",
   "execution_count": 12,
   "metadata": {},
   "outputs": [
    {
     "data": {
      "image/png": "[encoded data removed]",
      "text/plain": [
       "<Figure size 1000x600 with 1 Axes>"
      ]
     },
     "metadata": {},
     "output_type": "display_data"
    }
   ],
   "source": [
    "#Remake the above plot by making a jitter plot of the undecided percentage for each poll\n",
    "\n",
    "import seaborn as sns\n",
    "import matplotlib.pyplot as plt\n",
    "import pandas as pd\n",
    "\n",
    "# Assuming df1, df2, and df3 are your three DataFrames\n",
    "# with an \"Other/Undecided\" column\n",
    "\n",
    "# Combine the datasets into a single DataFrame\n",
    "combined_df = pd.concat([jbdt[\"Other/Undecided\"].reset_index(drop=True),\n",
    "                        rfk[\"Other/Undecided\"].reset_index(drop=True),\n",
    "                        cw[\"Other/Undecided\"].reset_index(drop=True)],\n",
    "                       axis=1, keys=['JB,DT', 'JB,DT,RFK', 'JB,DT,RFK,CW'])\n",
    "\n",
    "# Melt the DataFrame for Seaborn's jitter plot\n",
    "melted_df = combined_df.melt(var_name='Dataset', value_name='Other/Undecided')\n",
    "\n",
    "# Create a jitter plot using Seaborn\n",
    "sns.set(style=\"whitegrid\")\n",
    "plt.figure(figsize=(10, 6))\n",
    "\n",
    "# Adjust the jitter to your preference\n",
    "sns.stripplot(x='Dataset', y='Other/Undecided', data=melted_df, jitter=True, palette=\"Set2\")\n",
    "\n",
    "# Add labels and title\n",
    "plt.xlabel('Dataset')\n",
    "plt.ylabel('Other/Undecided Values')\n",
    "plt.title('Jitter Plot of Other/Undecided Values across Datasets')\n",
    "\n",
    "# Show the plot\n",
    "plt.show()\n",
    "\n"
   ]
  },
  {
   "cell_type": "markdown",
   "metadata": {},
   "source": [
    "## Why are there less undecided voters when we add more candidates to the ballot?\n",
    "\n",
    "The initial argument could be that there do exist independent voters who truly will vote for anyone except for Trump and Biden. \n",
    "\n",
    "But I find it surprising that adding Cornel West lowers the undecided voter count, even by a percentage point. Is there really a percentage of voters who are so educated on Joe Biden, Donald Trump, and RFK Jr that adding a relatively unkown candidate would fit their needs? I am not too sure. \n",
    "\n"
   ]
  },
  {
   "cell_type": "markdown",
   "metadata": {},
   "source": [
    "# Next Steps\n",
    "\n",
    "- We still want to investigate key demographic trends.\n",
    "- We need to find a good dataset for Exit Polls from 2020. \n",
    "- Think of other questions to investigate??"
   ]
  },
  {
   "cell_type": "code",
   "execution_count": 24,
   "metadata": {},
   "outputs": [
    {
     "data": {
      "text/plain": [
       "<Figure size 1200x2400 with 0 Axes>"
      ]
     },
     "metadata": {},
     "output_type": "display_data"
    },
    {
     "data": {
      "image/png": "[encoded data removed]",
      "text/plain": [
       "<Figure size 1200x600 with 1 Axes>"
      ]
     },
     "metadata": {},
     "output_type": "display_data"
    }
   ],
   "source": [
    "#Make categorical data plot of polling companies vs. spread\n",
    "\n",
    "plt.figure(figsize=(12,24))\n",
    "\n",
    "sns.catplot(x=\"Poll source\", y=\"Spread\", data=jbdt, kind=\"box\", height=6, aspect=2)\n",
    "plt.xticks(rotation=90)\n",
    "plt.title(\"Polling Companies vs. Spread\")\n",
    "plt.savefig(\"../figures/company_spread.png\", dpi=300)\n",
    "plt.show()"
   ]
  },
  {
   "cell_type": "code",
   "execution_count": 17,
   "metadata": {},
   "outputs": [
    {
     "data": {
      "text/plain": [
       "<Figure size 640x480 with 0 Axes>"
      ]
     },
     "metadata": {},
     "output_type": "display_data"
    }
   ],
   "source": []
  }
 ],
 "metadata": {
  "kernelspec": {
   "display_name": "base",
   "language": "python",
   "name": "python3"
  },
  "language_info": {
   "codemirror_mode": {
    "name": "ipython",
    "version": 3
   },
   "file_extension": ".py",
   "mimetype": "text/x-python",
   "name": "python",
   "nbconvert_exporter": "python",
   "pygments_lexer": "ipython3",
   "version": "3.11.5"
  },
  "orig_nbformat": 4
 },
 "nbformat": 4,
 "nbformat_minor": 2
}
