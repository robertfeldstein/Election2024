{
 "cells": [
  {
   "cell_type": "code",
   "execution_count": 45,
   "metadata": {},
   "outputs": [],
   "source": [
    "from selenium import webdriver\n",
    "from bs4 import BeautifulSoup\n",
    "import pandas as pd\n",
    "import time\n",
    "import numpy as np\n",
    "from datetime import datetime\n",
    "import matplotlib.pyplot as plt\n",
    "import seaborn as sns"
   ]
  },
  {
   "cell_type": "code",
   "execution_count": 2,
   "metadata": {},
   "outputs": [],
   "source": [
    "base_url = \"https://www.realclearpolling.com/polls/\"\n",
    "sample_url = \"president/republican-primary/2024/national\"\n",
    "sample_url = \"president/general/2024/trump-vs-biden\"\n",
    "url = base_url + sample_url"
   ]
  },
  {
   "cell_type": "code",
   "execution_count": 3,
   "metadata": {},
   "outputs": [],
   "source": [
    "# Create a webdriver instance and get the page source\n",
    "driver = webdriver.Chrome()\n",
    "driver.get(url)\n",
    "\n",
    "# Allow time for dynamic content to load (you may need to adjust the sleep duration)\n",
    "time.sleep(5)\n",
    "\n",
    "# Get the page source after dynamic content has loaded\n",
    "html_content = driver.page_source\n",
    "\n",
    "# Close the webdriver\n",
    "driver.quit()\n",
    "\n",
    "# Parse the HTML content with BeautifulSoup\n",
    "soup = BeautifulSoup(html_content, 'html5lib')\n",
    "\n",
    "# Now you can extract the table data using the same approach as before\n",
    "table = soup.find_all('table')\n",
    "\n",
    "if len(table)==2:\n",
    "    table = table[1]\n",
    "else:\n",
    "    table = table[0]\n",
    "\n",
    "table_data = []\n",
    "for row in table.find_all('tr'):\n",
    "    row_data = [cell.text.strip() for cell in row.find_all(['td','th'])]\n",
    "    table_data.append(row_data)"
   ]
  },
  {
   "cell_type": "code",
   "execution_count": 41,
   "metadata": {},
   "outputs": [
    {
     "data": {
      "text/html": [
       "<div>\n",
       "<style scoped>\n",
       "    .dataframe tbody tr th:only-of-type {\n",
       "        vertical-align: middle;\n",
       "    }\n",
       "\n",
       "    .dataframe tbody tr th {\n",
       "        vertical-align: top;\n",
       "    }\n",
       "\n",
       "    .dataframe thead th {\n",
       "        text-align: right;\n",
       "    }\n",
       "</style>\n",
       "<table border=\"1\" class=\"dataframe\">\n",
       "  <thead>\n",
       "    <tr style=\"text-align: right;\">\n",
       "      <th></th>\n",
       "      <th>pollster</th>\n",
       "      <th>date</th>\n",
       "      <th>sample</th>\n",
       "      <th>moe</th>\n",
       "      <th>Trump (R)</th>\n",
       "      <th>Biden (D)</th>\n",
       "      <th>spread</th>\n",
       "      <th>Difference</th>\n",
       "      <th>Type of Voter</th>\n",
       "      <th>Sample Size</th>\n",
       "      <th>End Date</th>\n",
       "      <th>Poll Month</th>\n",
       "      <th>Year</th>\n",
       "    </tr>\n",
       "  </thead>\n",
       "  <tbody>\n",
       "    <tr>\n",
       "      <th>0</th>\n",
       "      <td>Reuters/Ipsos</td>\n",
       "      <td>1/22 - 1/24</td>\n",
       "      <td>1028 RV</td>\n",
       "      <td>—</td>\n",
       "      <td>43</td>\n",
       "      <td>38</td>\n",
       "      <td>Trump+5</td>\n",
       "      <td>5.0</td>\n",
       "      <td>RV</td>\n",
       "      <td>1028</td>\n",
       "      <td>2024-01-24</td>\n",
       "      <td>1</td>\n",
       "      <td>2024</td>\n",
       "    </tr>\n",
       "    <tr>\n",
       "      <th>1</th>\n",
       "      <td>Economist/YouGov</td>\n",
       "      <td>1/21 - 1/23</td>\n",
       "      <td>1497 RV</td>\n",
       "      <td>2.8</td>\n",
       "      <td>44</td>\n",
       "      <td>43</td>\n",
       "      <td>Trump+1</td>\n",
       "      <td>1.0</td>\n",
       "      <td>RV</td>\n",
       "      <td>1497</td>\n",
       "      <td>2024-01-23</td>\n",
       "      <td>1</td>\n",
       "      <td>2024</td>\n",
       "    </tr>\n",
       "    <tr>\n",
       "      <th>2</th>\n",
       "      <td>The Messenger/HarrisX</td>\n",
       "      <td>1/17 - 1/21</td>\n",
       "      <td>3034 RV</td>\n",
       "      <td>1.8</td>\n",
       "      <td>53</td>\n",
       "      <td>47</td>\n",
       "      <td>Trump+6</td>\n",
       "      <td>6.0</td>\n",
       "      <td>RV</td>\n",
       "      <td>3034</td>\n",
       "      <td>2024-01-21</td>\n",
       "      <td>1</td>\n",
       "      <td>2024</td>\n",
       "    </tr>\n",
       "    <tr>\n",
       "      <th>3</th>\n",
       "      <td>Morning Consult</td>\n",
       "      <td>1/19 - 1/21</td>\n",
       "      <td>6417 RV</td>\n",
       "      <td>1.0</td>\n",
       "      <td>45</td>\n",
       "      <td>40</td>\n",
       "      <td>Trump+5</td>\n",
       "      <td>5.0</td>\n",
       "      <td>RV</td>\n",
       "      <td>6417</td>\n",
       "      <td>2024-01-21</td>\n",
       "      <td>1</td>\n",
       "      <td>2024</td>\n",
       "    </tr>\n",
       "    <tr>\n",
       "      <th>4</th>\n",
       "      <td>Harvard-Harris</td>\n",
       "      <td>1/17 - 1/18</td>\n",
       "      <td>2346 RV</td>\n",
       "      <td>—</td>\n",
       "      <td>53</td>\n",
       "      <td>47</td>\n",
       "      <td>Trump+6</td>\n",
       "      <td>6.0</td>\n",
       "      <td>RV</td>\n",
       "      <td>2346</td>\n",
       "      <td>2024-01-18</td>\n",
       "      <td>1</td>\n",
       "      <td>2024</td>\n",
       "    </tr>\n",
       "    <tr>\n",
       "      <th>...</th>\n",
       "      <td>...</td>\n",
       "      <td>...</td>\n",
       "      <td>...</td>\n",
       "      <td>...</td>\n",
       "      <td>...</td>\n",
       "      <td>...</td>\n",
       "      <td>...</td>\n",
       "      <td>...</td>\n",
       "      <td>...</td>\n",
       "      <td>...</td>\n",
       "      <td>...</td>\n",
       "      <td>...</td>\n",
       "      <td>...</td>\n",
       "    </tr>\n",
       "    <tr>\n",
       "      <th>223</th>\n",
       "      <td>Harvard-Harris</td>\n",
       "      <td>10/26 - 10/28</td>\n",
       "      <td>1578 RV</td>\n",
       "      <td>—</td>\n",
       "      <td>46</td>\n",
       "      <td>45</td>\n",
       "      <td>Trump+1</td>\n",
       "      <td>1.0</td>\n",
       "      <td>RV</td>\n",
       "      <td>1578</td>\n",
       "      <td>2023-10-28</td>\n",
       "      <td>10</td>\n",
       "      <td>2023</td>\n",
       "    </tr>\n",
       "    <tr>\n",
       "      <th>224</th>\n",
       "      <td>Grinnell/Selzer</td>\n",
       "      <td>10/13 - 10/17</td>\n",
       "      <td>745 LV</td>\n",
       "      <td>3.6</td>\n",
       "      <td>40</td>\n",
       "      <td>40</td>\n",
       "      <td>Tie</td>\n",
       "      <td>0.0</td>\n",
       "      <td>LV</td>\n",
       "      <td>745</td>\n",
       "      <td>2023-10-17</td>\n",
       "      <td>10</td>\n",
       "      <td>2023</td>\n",
       "    </tr>\n",
       "    <tr>\n",
       "      <th>225</th>\n",
       "      <td>Rasmussen Reports</td>\n",
       "      <td>9/21 - 9/22</td>\n",
       "      <td>1000 LV</td>\n",
       "      <td>3.0</td>\n",
       "      <td>51</td>\n",
       "      <td>41</td>\n",
       "      <td>Trump+10</td>\n",
       "      <td>10.0</td>\n",
       "      <td>LV</td>\n",
       "      <td>1000</td>\n",
       "      <td>2023-09-22</td>\n",
       "      <td>9</td>\n",
       "      <td>2023</td>\n",
       "    </tr>\n",
       "    <tr>\n",
       "      <th>226</th>\n",
       "      <td>Emerson</td>\n",
       "      <td>8/30 - 9/1</td>\n",
       "      <td>1200 RV</td>\n",
       "      <td>2.7</td>\n",
       "      <td>47</td>\n",
       "      <td>46</td>\n",
       "      <td>Trump+1</td>\n",
       "      <td>1.0</td>\n",
       "      <td>RV</td>\n",
       "      <td>1200</td>\n",
       "      <td>2023-09-01</td>\n",
       "      <td>8</td>\n",
       "      <td>2023</td>\n",
       "    </tr>\n",
       "    <tr>\n",
       "      <th>227</th>\n",
       "      <td>Rasmussen Reports</td>\n",
       "      <td>8/16 - 8/17</td>\n",
       "      <td>1000 LV</td>\n",
       "      <td>3.0</td>\n",
       "      <td>43</td>\n",
       "      <td>37</td>\n",
       "      <td>Trump+6</td>\n",
       "      <td>6.0</td>\n",
       "      <td>LV</td>\n",
       "      <td>1000</td>\n",
       "      <td>2023-08-17</td>\n",
       "      <td>8</td>\n",
       "      <td>2023</td>\n",
       "    </tr>\n",
       "  </tbody>\n",
       "</table>\n",
       "<p>228 rows × 13 columns</p>\n",
       "</div>"
      ],
      "text/plain": [
       "                  pollster           date   sample  moe Trump (R) Biden (D)  \\\n",
       "0            Reuters/Ipsos    1/22 - 1/24  1028 RV    —        43        38   \n",
       "1         Economist/YouGov    1/21 - 1/23  1497 RV  2.8        44        43   \n",
       "2    The Messenger/HarrisX    1/17 - 1/21  3034 RV  1.8        53        47   \n",
       "3          Morning Consult    1/19 - 1/21  6417 RV  1.0        45        40   \n",
       "4           Harvard-Harris    1/17 - 1/18  2346 RV    —        53        47   \n",
       "..                     ...            ...      ...  ...       ...       ...   \n",
       "223         Harvard-Harris  10/26 - 10/28  1578 RV    —        46        45   \n",
       "224        Grinnell/Selzer  10/13 - 10/17   745 LV  3.6        40        40   \n",
       "225      Rasmussen Reports    9/21 - 9/22  1000 LV  3.0        51        41   \n",
       "226                Emerson     8/30 - 9/1  1200 RV  2.7        47        46   \n",
       "227      Rasmussen Reports    8/16 - 8/17  1000 LV  3.0        43        37   \n",
       "\n",
       "       spread  Difference Type of Voter Sample Size   End Date Poll Month  \\\n",
       "0     Trump+5         5.0            RV        1028 2024-01-24          1   \n",
       "1     Trump+1         1.0            RV        1497 2024-01-23          1   \n",
       "2     Trump+6         6.0            RV        3034 2024-01-21          1   \n",
       "3     Trump+5         5.0            RV        6417 2024-01-21          1   \n",
       "4     Trump+6         6.0            RV        2346 2024-01-18          1   \n",
       "..        ...         ...           ...         ...        ...        ...   \n",
       "223   Trump+1         1.0            RV        1578 2023-10-28         10   \n",
       "224       Tie         0.0            LV         745 2023-10-17         10   \n",
       "225  Trump+10        10.0            LV        1000 2023-09-22          9   \n",
       "226   Trump+1         1.0            RV        1200 2023-09-01          8   \n",
       "227   Trump+6         6.0            LV        1000 2023-08-17          8   \n",
       "\n",
       "     Year  \n",
       "0    2024  \n",
       "1    2024  \n",
       "2    2024  \n",
       "3    2024  \n",
       "4    2024  \n",
       "..    ...  \n",
       "223  2023  \n",
       "224  2023  \n",
       "225  2023  \n",
       "226  2023  \n",
       "227  2023  \n",
       "\n",
       "[228 rows x 13 columns]"
      ]
     },
     "execution_count": 41,
     "metadata": {},
     "output_type": "execute_result"
    }
   ],
   "source": [
    "#Convert table data to a dataframe\n",
    "#We remove the first row since this is RCP summary data that we don't want to use\n",
    "\n",
    "current_year = str(datetime.now().year)\n",
    "prev_year = str(datetime.now().year-1)\n",
    "\n",
    "df = pd.DataFrame(table_data[2:], columns=table_data[0])\n",
    "df[\"Difference\"] = df[\"Trump (R)\"].astype(float) - df[\"Biden (D)\"].astype(float)\n",
    "df[\"Type of Voter\"] = df[\"sample\"].str.split(\" \").str[1]\n",
    "df[\"Sample Size\"] = df[\"sample\"].str.split(\" \").str[0]\n",
    "#We need to add the year to the date to make it a datetime object\n",
    "#We need to make sure the year we add is the year the poll was taken, not necessarily the current year\n",
    "df[\"End Date\"] = df[\"date\"].str.split(\"-\").str[1] \n",
    "df[\"Poll Month\"] = df[\"date\"].str.split(\"/\").str[0]\n",
    "first_dec = df[df[\"Poll Month\"]==\"12\"].index[0]\n",
    "df[\"Year\"] = [current_year]*first_dec + [prev_year]*(len(df)-first_dec)\n",
    "df[\"End Date\"] = df[\"End Date\"] + \"/\" + df[\"Year\"]\n",
    "df[\"End Date\"] = pd.to_datetime(df[\"End Date\"], format=\"mixed\")\n",
    "df"
   ]
  },
  {
   "cell_type": "code",
   "execution_count": 57,
   "metadata": {},
   "outputs": [
    {
     "name": "stderr",
     "output_type": "stream",
     "text": [
      "/Users/robbiefeldstein/anaconda3/lib/python3.11/site-packages/_plotly_utils/basevalidators.py:106: FutureWarning:\n",
      "\n",
      "The behavior of DatetimeProperties.to_pydatetime is deprecated, in a future version this will return a Series containing python datetime objects instead of an ndarray. To retain the old behavior, call `np.array` on the result\n",
      "\n",
      "/Users/robbiefeldstein/anaconda3/lib/python3.11/site-packages/_plotly_utils/basevalidators.py:106: FutureWarning:\n",
      "\n",
      "The behavior of DatetimeProperties.to_pydatetime is deprecated, in a future version this will return a Series containing python datetime objects instead of an ndarray. To retain the old behavior, call `np.array` on the result\n",
      "\n",
      "/Users/robbiefeldstein/anaconda3/lib/python3.11/site-packages/_plotly_utils/basevalidators.py:106: FutureWarning:\n",
      "\n",
      "The behavior of DatetimeProperties.to_pydatetime is deprecated, in a future version this will return a Series containing python datetime objects instead of an ndarray. To retain the old behavior, call `np.array` on the result\n",
      "\n",
      "/Users/robbiefeldstein/anaconda3/lib/python3.11/site-packages/_plotly_utils/basevalidators.py:106: FutureWarning:\n",
      "\n",
      "The behavior of DatetimeProperties.to_pydatetime is deprecated, in a future version this will return a Series containing python datetime objects instead of an ndarray. To retain the old behavior, call `np.array` on the result\n",
      "\n",
      "/Users/robbiefeldstein/anaconda3/lib/python3.11/site-packages/_plotly_utils/basevalidators.py:106: FutureWarning:\n",
      "\n",
      "The behavior of DatetimeProperties.to_pydatetime is deprecated, in a future version this will return a Series containing python datetime objects instead of an ndarray. To retain the old behavior, call `np.array` on the result\n",
      "\n"
     ]
    },
    {
     "data": {
      "application/vnd.plotly.v1+json": {
       "config": {
        "plotlyServerURL": "https://plot.ly"
       },
       "data": [
        {
         "customdata": [
          [
           "Reuters/Ipsos",
           "1028"
          ],
          [
           "Economist/YouGov",
           "1497"
          ],
          [
           "The Messenger/HarrisX",
           "3034"
          ],
          [
           "Morning Consult",
           "6417"
          ],
          [
           "Harvard-Harris",
           "2346"
          ],
          [
           "The Messenger/HarrisX",
           "1045"
          ],
          [
           "Economist/YouGov",
           "1472"
          ],
          [
           "Morning Consult",
           "6606"
          ],
          [
           "Economist/YouGov",
           "1417"
          ],
          [
           "Reuters/Ipsos",
           "4677"
          ],
          [
           "Morning Consult",
           "6367"
          ],
          [
           "I&I/TIPP",
           "1247"
          ],
          [
           "Economist/YouGov",
           "1343"
          ],
          [
           "Morning Consult",
           "6816"
          ],
          [
           "Economist/YouGov",
           "1336"
          ],
          [
           "Morning Consult",
           "5618"
          ],
          [
           "Quinnipiac",
           "1647"
          ],
          [
           "Yahoo News",
           "1027"
          ],
          [
           "Harvard-Harris",
           "2034"
          ],
          [
           "FOX News",
           "1007"
          ],
          [
           "Economist/YouGov",
           "1332"
          ],
          [
           "Morning Consult",
           "5840"
          ],
          [
           "NPR/PBS/Marist",
           "1129"
          ],
          [
           "Emerson",
           "1000"
          ],
          [
           "Economist/YouGov",
           "1291"
          ],
          [
           "Wall Street Journal",
           "1500"
          ],
          [
           "The Messenger/HarrisX",
           "2018"
          ],
          [
           "Morning Consult",
           "5855"
          ],
          [
           "I&I/TIPP",
           "1301"
          ],
          [
           "The Messenger/HarrisX",
           "4003"
          ],
          [
           "Economist/YouGov",
           "1323"
          ],
          [
           "Morning Consult",
           "6527"
          ],
          [
           "Emerson",
           "1475"
          ],
          [
           "Morning Consult",
           "5855"
          ],
          [
           "The Messenger/HarrisX",
           "3017"
          ],
          [
           "Harvard-Harris",
           "2851"
          ],
          [
           "Economist/YouGov",
           "1272"
          ],
          [
           "NBC News",
           "1000"
          ],
          [
           "FOX News",
           "1001"
          ],
          [
           "Quinnipiac",
           "1574"
          ],
          [
           "Yahoo News",
           "1058"
          ],
          [
           "Morning Consult",
           "6130"
          ],
          [
           "Marquette",
           "856"
          ],
          [
           "Morning Consult",
           "5000"
          ],
          [
           "I&I/TIPP",
           "1242"
          ],
          [
           "The Messenger/HarrisX",
           "2021"
          ],
          [
           "CNN",
           "1271"
          ],
          [
           "Economist/YouGov",
           "1333"
          ],
          [
           "Quinnipiac",
           "1610"
          ],
          [
           "Morning Consult",
           "5000"
          ],
          [
           "Harvard-Harris",
           "2116"
          ],
          [
           "USA Today/Suffolk",
           "1000"
          ],
          [
           "Morning Consult",
           "5000"
          ],
          [
           "The Messenger/HarrisX",
           "3029"
          ],
          [
           "Emerson",
           "1578"
          ],
          [
           "Yahoo News",
           "1120"
          ],
          [
           "Economist/YouGov",
           "1296"
          ],
          [
           "Morning Consult",
           "5000"
          ],
          [
           "NPR/PBS/Marist",
           "1218"
          ],
          [
           "FOX News",
           "1007"
          ],
          [
           "Morning Consult",
           "5000"
          ],
          [
           "The Messenger/HarrisX",
           "2982"
          ],
          [
           "Morning Consult",
           "5000"
          ],
          [
           "The Messenger/HarrisX",
           "1615"
          ],
          [
           "I&I/TIPP",
           "1262"
          ],
          [
           "New York Post",
           "1169"
          ],
          [
           "NPR/PBS/Marist",
           "1137"
          ],
          [
           "Economist/YouGov",
           "1293"
          ],
          [
           "Morning Consult",
           "6000"
          ],
          [
           "Marquette",
           "781"
          ],
          [
           "ABC News/Wash Post",
           "890"
          ],
          [
           "NBC News",
           "1000"
          ],
          [
           "The Messenger/HarrisX",
           "3015"
          ],
          [
           "Emerson",
           "1125"
          ],
          [
           "Yahoo News",
           "1097"
          ],
          [
           "Morning Consult",
           "6000"
          ],
          [
           "Harvard-Harris",
           "2103"
          ],
          [
           "Economist/YouGov",
           "1334"
          ],
          [
           "FOX News",
           "1012"
          ],
          [
           "Quinnipiac",
           "1726"
          ],
          [
           "The Messenger/HarrisX",
           "3015"
          ],
          [
           "Morning Consult",
           "6000"
          ],
          [
           "CNN",
           "1259"
          ],
          [
           "Wall Street Journal",
           "1500"
          ],
          [
           "Morning Consult",
           "5000"
          ],
          [
           "Economist/YouGov",
           "1303"
          ],
          [
           "Morning Consult",
           "5000"
          ],
          [
           "Emerson",
           "1000"
          ],
          [
           "The Messenger/HarrisX",
           "2013"
          ],
          [
           "New York Post",
           "1551"
          ],
          [
           "Yahoo News",
           "1113"
          ],
          [
           "Morning Consult",
           "6000"
          ],
          [
           "Emerson",
           "1000"
          ],
          [
           "FOX News",
           "1002"
          ],
          [
           "Quinnipiac",
           "1632"
          ],
          [
           "Marist",
           "1100"
          ],
          [
           "Economist/YouGov",
           "1321"
          ],
          [
           "Morning Consult",
           "6000"
          ],
          [
           "Morning Consult",
           "6000"
          ],
          [
           "NY Times/Siena",
           "1329"
          ],
          [
           "Morning Consult",
           "6000"
          ],
          [
           "The Messenger/HarrisX",
           "922"
          ],
          [
           "Economist/YouGov",
           "1306"
          ],
          [
           "Morning Consult",
           "6000"
          ],
          [
           "Harvard-Harris",
           "2068"
          ],
          [
           "Quinnipiac",
           "1809"
          ],
          [
           "Yahoo News",
           "1098"
          ],
          [
           "Morning Consult",
           "6000"
          ],
          [
           "Marquette",
           "788"
          ],
          [
           "Morning Consult",
           "6000"
          ],
          [
           "Economist/YouGov",
           "1296"
          ],
          [
           "The Messenger/HarrisX",
           "915"
          ],
          [
           "Economist/YouGov",
           "1315"
          ],
          [
           "The Messenger/HarrisX",
           "2875"
          ],
          [
           "NBC News",
           "1000"
          ],
          [
           "Emerson",
           "1015"
          ],
          [
           "Yahoo News",
           "1091"
          ],
          [
           "The Messenger/HarrisX",
           "930"
          ],
          [
           "Harvard-Harris",
           "2090"
          ],
          [
           "Economist/YouGov",
           "1303"
          ],
          [
           "Quinnipiac",
           "1735"
          ],
          [
           "Economist/YouGov",
           "1313"
          ],
          [
           "Yahoo News**",
           "1015"
          ],
          [
           "Quinnipiac",
           "1616"
          ],
          [
           "Harvard-Harris",
           "2004"
          ],
          [
           "Economist/YouGov",
           "1302"
          ],
          [
           "Marquette",
           "833"
          ],
          [
           "Yahoo News**",
           "1060"
          ],
          [
           "ABC News/Wash Post",
           "900"
          ],
          [
           "Economist/YouGov",
           "1357"
          ],
          [
           "Emerson",
           "1000"
          ],
          [
           "Harvard-Harris",
           "1845"
          ],
          [
           "Wall Street Journal",
           "1500"
          ],
          [
           "Economist/YouGov",
           "1316"
          ],
          [
           "Yahoo News**",
           "1027"
          ],
          [
           "Economist/YouGov",
           "1322"
          ],
          [
           "Economist/YouGov",
           "1319"
          ],
          [
           "Yahoo News**",
           "729"
          ],
          [
           "Quinnipiac",
           "1600"
          ],
          [
           "Harvard-Harris",
           "2905"
          ],
          [
           "Yahoo News**",
           "1060"
          ],
          [
           "Marquette",
           "863"
          ],
          [
           "Quinnipiac",
           "677"
          ],
          [
           "Yahoo News**",
           "1014"
          ],
          [
           "Emerson",
           "1060"
          ],
          [
           "Susquehanna",
           "800"
          ],
          [
           "Harvard-Harris",
           "1838"
          ],
          [
           "Quinnipiac",
           "1,429"
          ],
          [
           "PPP (D)",
           "1056"
          ],
          [
           "Reuters/Ipsos",
           "944"
          ],
          [
           "Yahoo News**",
           "1063"
          ],
          [
           "ABC News/Wash Post",
           "895"
          ],
          [
           "Emerson",
           "1015"
          ],
          [
           "Harvard-Harris",
           "2050"
          ],
          [
           "Economist/YouGov",
           "1314"
          ],
          [
           "Marquette",
           "790"
          ],
          [
           "Yahoo News**",
           "1028"
          ],
          [
           "Harvard-Harris",
           "1851"
          ],
          [
           "USA Today/Suffolk",
           "1000"
          ],
          [
           "Wall Street Journal",
           "1500"
          ],
          [
           "Emerson",
           "1380"
          ],
          [
           "Harvard-Harris",
           "2212"
          ],
          [
           "Wall Street Journal",
           "1500"
          ],
          [
           "Harvard-Harris",
           "2010"
          ],
          [
           "ABC News/Wash Post",
           "908"
          ],
          [
           "NY Times/Siena",
           "1399"
          ],
          [
           "Harvard-Harris",
           "1885"
          ],
          [
           "Emerson",
           "1000"
          ],
          [
           "Wall Street Journal",
           "1313"
          ],
          [
           "Harvard-Harris",
           "1885"
          ],
          [
           "Emerson",
           "1078"
          ],
          [
           "NY Times/Siena",
           "849"
          ],
          [
           "Harvard-Harris",
           "1308"
          ],
          [
           "Emerson",
           "1271"
          ],
          [
           "Emerson",
           "1148"
          ],
          [
           "Harvard-Harris",
           "1963"
          ],
          [
           "Emerson",
           "1000"
          ],
          [
           "Politico/Morning Consult",
           "2004"
          ],
          [
           "Harvard-Harris",
           "1966"
          ],
          [
           "Harvard-Harris",
           "1990"
          ],
          [
           "Emerson",
           "1023"
          ],
          [
           "Wall Street Journal",
           "1500"
          ],
          [
           "Harvard-Harris",
           "2026"
          ],
          [
           "Emerson",
           "1138"
          ],
          [
           "Politico/Morning Consult",
           "2005"
          ],
          [
           "Harvard-Harris",
           "1815"
          ],
          [
           "InsiderAdvantage",
           "750"
          ],
          [
           "Harvard-Harris",
           "1989"
          ],
          [
           "Wall Street Journal",
           "1500"
          ],
          [
           "USA Today/Suffolk",
           "1000"
          ],
          [
           "Emerson",
           "1000"
          ],
          [
           "Harvard-Harris",
           "1578"
          ],
          [
           "Emerson",
           "1200"
          ]
         ],
         "hovertemplate": "Type of Voter=RV<br>End Date=%{x}<br>Difference=%{y}<br>pollster=%{customdata[0]}<br>Sample Size=%{customdata[1]}<extra></extra>",
         "legendgroup": "RV",
         "marker": {
          "color": "rgb(76,114,176)",
          "symbol": "circle"
         },
         "mode": "markers",
         "name": "RV",
         "orientation": "v",
         "showlegend": true,
         "type": "scatter",
         "x": [
          "2024-01-24T00:00:00",
          "2024-01-23T00:00:00",
          "2024-01-21T00:00:00",
          "2024-01-21T00:00:00",
          "2024-01-18T00:00:00",
          "2024-01-17T00:00:00",
          "2024-01-16T00:00:00",
          "2024-01-15T00:00:00",
          "2024-01-09T00:00:00",
          "2024-01-09T00:00:00",
          "2024-01-07T00:00:00",
          "2024-01-05T00:00:00",
          "2023-01-02T00:00:00",
          "2023-01-01T00:00:00",
          "2023-12-18T00:00:00",
          "2023-12-17T00:00:00",
          "2023-12-18T00:00:00",
          "2023-12-18T00:00:00",
          "2023-12-14T00:00:00",
          "2023-12-13T00:00:00",
          "2023-12-12T00:00:00",
          "2023-12-10T00:00:00",
          "2023-12-07T00:00:00",
          "2023-12-06T00:00:00",
          "2023-12-05T00:00:00",
          "2023-12-04T00:00:00",
          "2023-12-01T00:00:00",
          "2023-12-03T00:00:00",
          "2023-12-01T00:00:00",
          "2023-11-28T00:00:00",
          "2023-11-27T00:00:00",
          "2023-11-26T00:00:00",
          "2023-11-20T00:00:00",
          "2023-11-19T00:00:00",
          "2023-11-19T00:00:00",
          "2023-11-16T00:00:00",
          "2023-11-14T00:00:00",
          "2023-11-14T00:00:00",
          "2023-11-13T00:00:00",
          "2023-11-13T00:00:00",
          "2023-11-13T00:00:00",
          "2023-11-12T00:00:00",
          "2023-11-07T00:00:00",
          "2023-11-05T00:00:00",
          "2023-11-03T00:00:00",
          "2023-11-01T00:00:00",
          "2023-11-02T00:00:00",
          "2023-10-31T00:00:00",
          "2023-10-30T00:00:00",
          "2023-10-29T00:00:00",
          "2023-10-19T00:00:00",
          "2023-10-20T00:00:00",
          "2023-10-22T00:00:00",
          "2023-10-23T00:00:00",
          "2023-10-17T00:00:00",
          "2023-10-16T00:00:00",
          "2023-10-17T00:00:00",
          "2023-10-15T00:00:00",
          "2023-10-11T00:00:00",
          "2023-10-09T00:00:00",
          "2023-10-08T00:00:00",
          "2023-10-07T00:00:00",
          "2023-10-01T00:00:00",
          "2023-09-29T00:00:00",
          "2023-09-29T00:00:00",
          "2023-09-28T00:00:00",
          "2023-09-28T00:00:00",
          "2023-09-26T00:00:00",
          "2023-09-24T00:00:00",
          "2023-09-25T00:00:00",
          "2023-09-20T00:00:00",
          "2023-09-19T00:00:00",
          "2023-09-19T00:00:00",
          "2023-09-18T00:00:00",
          "2023-09-18T00:00:00",
          "2023-09-17T00:00:00",
          "2023-09-14T00:00:00",
          "2023-09-12T00:00:00",
          "2023-09-12T00:00:00",
          "2023-09-11T00:00:00",
          "2023-09-11T00:00:00",
          "2023-09-10T00:00:00",
          "2023-08-31T00:00:00",
          "2023-08-30T00:00:00",
          "2023-09-04T00:00:00",
          "2023-08-29T00:00:00",
          "2023-08-27T00:00:00",
          "2023-08-26T00:00:00",
          "2023-08-26T00:00:00",
          "2023-08-24T00:00:00",
          "2023-08-21T00:00:00",
          "2023-08-20T00:00:00",
          "2023-08-17T00:00:00",
          "2023-08-14T00:00:00",
          "2023-08-14T00:00:00",
          "2023-08-14T00:00:00",
          "2023-08-15T00:00:00",
          "2023-08-13T00:00:00",
          "2023-08-06T00:00:00",
          "2023-07-27T00:00:00",
          "2023-07-30T00:00:00",
          "2023-07-24T00:00:00",
          "2023-07-25T00:00:00",
          "2023-07-23T00:00:00",
          "2023-07-20T00:00:00",
          "2023-07-17T00:00:00",
          "2023-07-17T00:00:00",
          "2023-07-16T00:00:00",
          "2023-07-12T00:00:00",
          "2023-07-09T00:00:00",
          "2023-07-11T00:00:00",
          "2023-07-06T00:00:00",
          "2023-06-27T00:00:00",
          "2023-06-23T00:00:00",
          "2023-06-20T00:00:00",
          "2023-06-20T00:00:00",
          "2023-06-20T00:00:00",
          "2023-06-16T00:00:00",
          "2023-06-15T00:00:00",
          "2023-06-13T00:00:00",
          "2023-06-12T00:00:00",
          "2023-05-31T00:00:00",
          "2023-05-30T00:00:00",
          "2023-05-22T00:00:00",
          "2023-05-18T00:00:00",
          "2023-05-16T00:00:00",
          "2023-05-18T00:00:00",
          "2023-05-08T00:00:00",
          "2023-05-03T00:00:00",
          "2023-05-02T00:00:00",
          "2023-04-25T00:00:00",
          "2023-04-19T00:00:00",
          "2023-04-17T00:00:00",
          "2023-04-18T00:00:00",
          "2023-04-17T00:00:00",
          "2023-04-11T00:00:00",
          "2023-04-04T00:00:00",
          "2023-03-31T00:00:00",
          "2023-03-27T00:00:00",
          "2023-03-23T00:00:00",
          "2023-03-20T00:00:00",
          "2023-03-22T00:00:00",
          "2023-03-13T00:00:00",
          "2023-02-27T00:00:00",
          "2023-02-25T00:00:00",
          "2023-02-26T00:00:00",
          "2023-02-16T00:00:00",
          "2023-02-14T00:00:00",
          "2023-02-11T00:00:00",
          "2023-02-13T00:00:00",
          "2023-02-06T00:00:00",
          "2023-02-01T00:00:00",
          "2023-01-21T00:00:00",
          "2023-01-19T00:00:00",
          "2023-01-17T00:00:00",
          "2023-01-20T00:00:00",
          "2023-01-16T00:00:00",
          "2023-12-15T00:00:00",
          "2023-12-11T00:00:00",
          "2023-12-07T00:00:00",
          "2023-11-19T00:00:00",
          "2023-11-17T00:00:00",
          "2023-10-26T00:00:00",
          "2023-10-13T00:00:00",
          "2023-09-21T00:00:00",
          "2023-09-14T00:00:00",
          "2023-09-08T00:00:00",
          "2023-08-24T00:00:00",
          "2023-08-25T00:00:00",
          "2023-07-28T00:00:00",
          "2023-07-20T00:00:00",
          "2023-07-07T00:00:00",
          "2023-06-29T00:00:00",
          "2023-06-29T00:00:00",
          "2023-05-25T00:00:00",
          "2023-05-19T00:00:00",
          "2023-04-26T00:00:00",
          "2023-04-25T00:00:00",
          "2023-04-21T00:00:00",
          "2023-03-24T00:00:00",
          "2023-03-20T00:00:00",
          "2023-03-07T00:00:00",
          "2023-02-24T00:00:00",
          "2023-02-20T00:00:00",
          "2023-01-23T00:00:00",
          "2023-01-20T00:00:00",
          "2023-12-19T00:00:00",
          "2023-12-02T00:00:00",
          "2023-11-22T00:00:00",
          "2023-11-05T00:00:00",
          "2023-11-04T00:00:00",
          "2023-10-28T00:00:00",
          "2023-09-01T00:00:00"
         ],
         "xaxis": "x",
         "y": [
          5,
          1,
          6,
          5,
          6,
          4,
          -1,
          2,
          0,
          0,
          -1,
          1,
          0,
          1,
          0,
          2,
          -1,
          0,
          4,
          4,
          0,
          2,
          -1,
          4,
          -1,
          4,
          6,
          0,
          2,
          4,
          -2,
          -1,
          4,
          3,
          6,
          6,
          1,
          2,
          4,
          2,
          2,
          1,
          4,
          2,
          -2,
          2,
          4,
          0,
          -1,
          0,
          4,
          0,
          0,
          4,
          2,
          -1,
          -1,
          -2,
          -3,
          -1,
          -1,
          4,
          0,
          3,
          0,
          3,
          -2,
          -5,
          -1,
          3,
          10,
          0,
          5,
          0,
          0,
          0,
          4,
          -1,
          2,
          -1,
          1,
          -2,
          1,
          0,
          -3,
          1,
          -1,
          2,
          -1,
          3,
          -6,
          -2,
          0,
          -3,
          -1,
          -1,
          -1,
          -2,
          -1,
          0,
          -3,
          4,
          -4,
          -2,
          5,
          -5,
          -4,
          -2,
          0,
          -1,
          0,
          0,
          4,
          2,
          -4,
          -1,
          -4,
          2,
          6,
          0,
          -4,
          -3,
          -7,
          -2,
          7,
          2,
          5,
          -2,
          6,
          0,
          -2,
          5,
          -3,
          1,
          -4,
          1,
          2,
          -2,
          -2,
          4,
          -2,
          0,
          -4,
          2,
          4,
          -13,
          5,
          -2,
          -4,
          3,
          -6,
          3,
          3,
          5,
          -4,
          0,
          -6,
          5,
          -7,
          -2,
          -4,
          2,
          0,
          2,
          2,
          -3,
          3,
          -1,
          -6,
          4,
          3,
          -3,
          3,
          5,
          2,
          3,
          1,
          -1,
          2,
          6,
          3,
          0,
          6,
          4,
          -1,
          6,
          8,
          3,
          -1,
          4,
          2,
          1,
          1
         ],
         "yaxis": "y"
        },
        {
         "hovertemplate": "<b>OLS trendline</b><br>Difference = 5.64887e-08 * End Date + -94.8817<br>R<sup>2</sup>=0.023899<br><br>Type of Voter=RV<br>End Date=%{x}<br>Difference=%{y} <b>(trend)</b><extra></extra>",
         "legendgroup": "RV",
         "marker": {
          "color": "rgb(76,114,176)",
          "symbol": "circle"
         },
         "mode": "lines",
         "name": "RV",
         "showlegend": false,
         "type": "scatter",
         "x": [
          "2023-01-01T00:00:00",
          "2023-01-02T00:00:00",
          "2023-01-16T00:00:00",
          "2023-01-17T00:00:00",
          "2023-01-19T00:00:00",
          "2023-01-20T00:00:00",
          "2023-01-20T00:00:00",
          "2023-01-21T00:00:00",
          "2023-01-23T00:00:00",
          "2023-02-01T00:00:00",
          "2023-02-06T00:00:00",
          "2023-02-11T00:00:00",
          "2023-02-13T00:00:00",
          "2023-02-14T00:00:00",
          "2023-02-16T00:00:00",
          "2023-02-20T00:00:00",
          "2023-02-24T00:00:00",
          "2023-02-25T00:00:00",
          "2023-02-26T00:00:00",
          "2023-02-27T00:00:00",
          "2023-03-07T00:00:00",
          "2023-03-13T00:00:00",
          "2023-03-20T00:00:00",
          "2023-03-20T00:00:00",
          "2023-03-22T00:00:00",
          "2023-03-23T00:00:00",
          "2023-03-24T00:00:00",
          "2023-03-27T00:00:00",
          "2023-03-31T00:00:00",
          "2023-04-04T00:00:00",
          "2023-04-11T00:00:00",
          "2023-04-17T00:00:00",
          "2023-04-17T00:00:00",
          "2023-04-18T00:00:00",
          "2023-04-19T00:00:00",
          "2023-04-21T00:00:00",
          "2023-04-25T00:00:00",
          "2023-04-25T00:00:00",
          "2023-04-26T00:00:00",
          "2023-05-02T00:00:00",
          "2023-05-03T00:00:00",
          "2023-05-08T00:00:00",
          "2023-05-16T00:00:00",
          "2023-05-18T00:00:00",
          "2023-05-18T00:00:00",
          "2023-05-19T00:00:00",
          "2023-05-22T00:00:00",
          "2023-05-25T00:00:00",
          "2023-05-30T00:00:00",
          "2023-05-31T00:00:00",
          "2023-06-12T00:00:00",
          "2023-06-13T00:00:00",
          "2023-06-15T00:00:00",
          "2023-06-16T00:00:00",
          "2023-06-20T00:00:00",
          "2023-06-20T00:00:00",
          "2023-06-20T00:00:00",
          "2023-06-23T00:00:00",
          "2023-06-27T00:00:00",
          "2023-06-29T00:00:00",
          "2023-06-29T00:00:00",
          "2023-07-06T00:00:00",
          "2023-07-07T00:00:00",
          "2023-07-09T00:00:00",
          "2023-07-11T00:00:00",
          "2023-07-12T00:00:00",
          "2023-07-16T00:00:00",
          "2023-07-17T00:00:00",
          "2023-07-17T00:00:00",
          "2023-07-20T00:00:00",
          "2023-07-20T00:00:00",
          "2023-07-23T00:00:00",
          "2023-07-24T00:00:00",
          "2023-07-25T00:00:00",
          "2023-07-27T00:00:00",
          "2023-07-28T00:00:00",
          "2023-07-30T00:00:00",
          "2023-08-06T00:00:00",
          "2023-08-13T00:00:00",
          "2023-08-14T00:00:00",
          "2023-08-14T00:00:00",
          "2023-08-14T00:00:00",
          "2023-08-15T00:00:00",
          "2023-08-17T00:00:00",
          "2023-08-20T00:00:00",
          "2023-08-21T00:00:00",
          "2023-08-24T00:00:00",
          "2023-08-24T00:00:00",
          "2023-08-25T00:00:00",
          "2023-08-26T00:00:00",
          "2023-08-26T00:00:00",
          "2023-08-27T00:00:00",
          "2023-08-29T00:00:00",
          "2023-08-30T00:00:00",
          "2023-08-31T00:00:00",
          "2023-09-01T00:00:00",
          "2023-09-04T00:00:00",
          "2023-09-08T00:00:00",
          "2023-09-10T00:00:00",
          "2023-09-11T00:00:00",
          "2023-09-11T00:00:00",
          "2023-09-12T00:00:00",
          "2023-09-12T00:00:00",
          "2023-09-14T00:00:00",
          "2023-09-14T00:00:00",
          "2023-09-17T00:00:00",
          "2023-09-18T00:00:00",
          "2023-09-18T00:00:00",
          "2023-09-19T00:00:00",
          "2023-09-19T00:00:00",
          "2023-09-20T00:00:00",
          "2023-09-21T00:00:00",
          "2023-09-24T00:00:00",
          "2023-09-25T00:00:00",
          "2023-09-26T00:00:00",
          "2023-09-28T00:00:00",
          "2023-09-28T00:00:00",
          "2023-09-29T00:00:00",
          "2023-09-29T00:00:00",
          "2023-10-01T00:00:00",
          "2023-10-07T00:00:00",
          "2023-10-08T00:00:00",
          "2023-10-09T00:00:00",
          "2023-10-11T00:00:00",
          "2023-10-13T00:00:00",
          "2023-10-15T00:00:00",
          "2023-10-16T00:00:00",
          "2023-10-17T00:00:00",
          "2023-10-17T00:00:00",
          "2023-10-19T00:00:00",
          "2023-10-20T00:00:00",
          "2023-10-22T00:00:00",
          "2023-10-23T00:00:00",
          "2023-10-26T00:00:00",
          "2023-10-28T00:00:00",
          "2023-10-29T00:00:00",
          "2023-10-30T00:00:00",
          "2023-10-31T00:00:00",
          "2023-11-01T00:00:00",
          "2023-11-02T00:00:00",
          "2023-11-03T00:00:00",
          "2023-11-04T00:00:00",
          "2023-11-05T00:00:00",
          "2023-11-05T00:00:00",
          "2023-11-07T00:00:00",
          "2023-11-12T00:00:00",
          "2023-11-13T00:00:00",
          "2023-11-13T00:00:00",
          "2023-11-13T00:00:00",
          "2023-11-14T00:00:00",
          "2023-11-14T00:00:00",
          "2023-11-16T00:00:00",
          "2023-11-17T00:00:00",
          "2023-11-19T00:00:00",
          "2023-11-19T00:00:00",
          "2023-11-19T00:00:00",
          "2023-11-20T00:00:00",
          "2023-11-22T00:00:00",
          "2023-11-26T00:00:00",
          "2023-11-27T00:00:00",
          "2023-11-28T00:00:00",
          "2023-12-01T00:00:00",
          "2023-12-01T00:00:00",
          "2023-12-02T00:00:00",
          "2023-12-03T00:00:00",
          "2023-12-04T00:00:00",
          "2023-12-05T00:00:00",
          "2023-12-06T00:00:00",
          "2023-12-07T00:00:00",
          "2023-12-07T00:00:00",
          "2023-12-10T00:00:00",
          "2023-12-11T00:00:00",
          "2023-12-12T00:00:00",
          "2023-12-13T00:00:00",
          "2023-12-14T00:00:00",
          "2023-12-15T00:00:00",
          "2023-12-17T00:00:00",
          "2023-12-18T00:00:00",
          "2023-12-18T00:00:00",
          "2023-12-18T00:00:00",
          "2023-12-19T00:00:00",
          "2024-01-05T00:00:00",
          "2024-01-07T00:00:00",
          "2024-01-09T00:00:00",
          "2024-01-09T00:00:00",
          "2024-01-15T00:00:00",
          "2024-01-16T00:00:00",
          "2024-01-17T00:00:00",
          "2024-01-18T00:00:00",
          "2024-01-21T00:00:00",
          "2024-01-21T00:00:00",
          "2024-01-23T00:00:00",
          "2024-01-24T00:00:00"
         ],
         "xaxis": "x",
         "y": [
          -0.40267847340229046,
          -0.39779785332688117,
          -0.3294691722711515,
          -0.3245885521957423,
          -0.31482731204492376,
          -0.30994669196951447,
          -0.30994669196951447,
          -0.30506607189410523,
          -0.2953048317432867,
          -0.25137925106460335,
          -0.22697615068755703,
          -0.20257305031051073,
          -0.1928118101596922,
          -0.18793119008428294,
          -0.1781699499334644,
          -0.15864746963182738,
          -0.13912498933019032,
          -0.13424436925478106,
          -0.12936374917937182,
          -0.12448312910396254,
          -0.08543816850068846,
          -0.05615444804823289,
          -0.021990107520368063,
          -0.021990107520368063,
          -0.01222886736954954,
          -0.0073482472941402786,
          -0.0024676272187310173,
          0.012174233007496767,
          0.03169671330913381,
          0.051219193610770854,
          0.08538353413863568,
          0.11466725459109126,
          0.11466725459109126,
          0.11954787466650052,
          0.12442849474190977,
          0.13418973489272829,
          0.15371221519436534,
          0.15371221519436534,
          0.1585928352697746,
          0.18787655572223017,
          0.19275717579763943,
          0.21716027617468575,
          0.2562052367779598,
          0.26596647692877834,
          0.26596647692877834,
          0.27084709700418763,
          0.2854889572304154,
          0.30013081745664316,
          0.3245339178336895,
          0.32941453790909875,
          0.38798197881400986,
          0.39286259888941916,
          0.4026238390402377,
          0.4075044591156469,
          0.427026939417284,
          0.427026939417284,
          0.427026939417284,
          0.44166879964351174,
          0.4611912799451488,
          0.47095252009596733,
          0.47095252009596733,
          0.5051168606238322,
          0.5099974806992414,
          0.5197587208500599,
          0.5295199610008785,
          0.5344005810762877,
          0.5539230613779248,
          0.558803681453334,
          0.558803681453334,
          0.5734455416795619,
          0.5734455416795619,
          0.5880874019057896,
          0.5929680219811989,
          0.5978486420566081,
          0.6076098822074266,
          0.6124905022828359,
          0.6222517424336544,
          0.6564160829615192,
          0.6905804234893841,
          0.6954610435647933,
          0.6954610435647933,
          0.6954610435647933,
          0.7003416636402026,
          0.7101029037910211,
          0.724744764017249,
          0.7296253840926582,
          0.7442672443188859,
          0.7442672443188859,
          0.7491478643942953,
          0.7540284844697045,
          0.7540284844697045,
          0.7589091045451137,
          0.7686703446959323,
          0.7735509647713416,
          0.7784315848467508,
          0.78331220492216,
          0.7979540651483878,
          0.8174765454500249,
          0.8272377856008434,
          0.8321184056762526,
          0.8321184056762526,
          0.836999025751662,
          0.836999025751662,
          0.8467602659024804,
          0.8467602659024804,
          0.8614021261287083,
          0.8662827462041175,
          0.8662827462041175,
          0.8711633662795267,
          0.8711633662795267,
          0.876043986354936,
          0.8809246064303453,
          0.895566466656573,
          0.9004470867319824,
          0.9053277068073916,
          0.9150889469582101,
          0.9150889469582101,
          0.9199695670336193,
          0.9199695670336193,
          0.9297308071844379,
          0.9590145276368934,
          0.9638951477123027,
          0.968775767787712,
          0.9785370079385305,
          0.9882982480893491,
          0.9980594882401675,
          1.002940108315577,
          1.0078207283909861,
          1.0078207283909861,
          1.0175819685418046,
          1.0224625886172138,
          1.0322238287680323,
          1.0371044488434416,
          1.0517463090696695,
          1.061507549220488,
          1.0663881692958972,
          1.0712687893713064,
          1.0761494094467157,
          1.081030029522125,
          1.0859106495975341,
          1.0907912696729436,
          1.0956718897483528,
          1.100552509823762,
          1.100552509823762,
          1.1103137499745805,
          1.134716850351627,
          1.1395974704270362,
          1.1395974704270362,
          1.1395974704270362,
          1.1444780905024454,
          1.1444780905024454,
          1.154239330653264,
          1.1591199507286731,
          1.1688811908794916,
          1.1688811908794916,
          1.1688811908794916,
          1.1737618109549008,
          1.1835230511057195,
          1.2030455314073565,
          1.2079261514827657,
          1.212806771558175,
          1.2274486317844029,
          1.2274486317844029,
          1.2323292518598121,
          1.2372098719352214,
          1.2420904920106306,
          1.2469711120860398,
          1.251851732161449,
          1.2567323522368583,
          1.2567323522368583,
          1.2713742124630862,
          1.2762548325384955,
          1.2811354526139047,
          1.286016072689314,
          1.2908966927647232,
          1.2957773128401324,
          1.305538552990951,
          1.3104191730663604,
          1.3104191730663604,
          1.3104191730663604,
          1.3152997931417696,
          1.398270334423727,
          1.4080315745745455,
          1.417792814725364,
          1.417792814725364,
          1.4470765351778196,
          1.4519571552532289,
          1.4568377753286381,
          1.4617183954040474,
          1.476360255630275,
          1.476360255630275,
          1.4861214957810938,
          1.491002115856503
         ],
         "yaxis": "y"
        },
        {
         "customdata": [
          [
           "CBS News",
           "1906"
          ],
          [
           "Rasmussen Reports",
           "968"
          ],
          [
           "USA Today/Suffolk",
           "1000"
          ],
          [
           "NY Times/Siena",
           "1016"
          ],
          [
           "Rasmussen Reports",
           "892"
          ],
          [
           "Rasmussen Reports",
           "987"
          ],
          [
           "CBS News",
           "1759"
          ],
          [
           "Grinnell/Selzer",
           "784"
          ],
          [
           "Reuters/Ipsos",
           "672"
          ],
          [
           "SurveyUSA",
           "2330"
          ],
          [
           "CBS News",
           "2680"
          ],
          [
           "Rasmussen Reports",
           "979"
          ],
          [
           "InsiderAdvantage",
           "850"
          ],
          [
           "Rasmussen Reports",
           "986"
          ],
          [
           "Rasmussen Reports",
           "971"
          ],
          [
           "Rasmussen Reports",
           "900"
          ],
          [
           "Data for Progress (D)**",
           "596"
          ],
          [
           "USA Today/Suffolk",
           "1000"
          ],
          [
           "Emerson",
           "1000"
          ],
          [
           "Rasmussen Reports",
           "1000"
          ],
          [
           "NY Times/Siena",
           "792"
          ],
          [
           "Federalist/Susquehanna",
           "800"
          ],
          [
           "Emerson",
           "1368"
          ],
          [
           "Rasmussen Reports",
           "1000"
          ],
          [
           "Trafalgar Group (R)",
           "1085"
          ],
          [
           "Federalist/Susquehanna",
           "800"
          ],
          [
           "Insider Advantage",
           "750"
          ],
          [
           "Federalist/Susquehanna",
           "800"
          ],
          [
           "Rasmussen Reports",
           "1200"
          ],
          [
           "Grinnell/Selzer",
           "745"
          ],
          [
           "Rasmussen Reports",
           "1000"
          ],
          [
           "Rasmussen Reports",
           "1000"
          ]
         ],
         "hovertemplate": "Type of Voter=LV<br>End Date=%{x}<br>Difference=%{y}<br>pollster=%{customdata[0]}<br>Sample Size=%{customdata[1]}<extra></extra>",
         "legendgroup": "LV",
         "marker": {
          "color": "rgb(221,132,82)",
          "symbol": "circle"
         },
         "mode": "markers",
         "name": "LV",
         "orientation": "v",
         "showlegend": true,
         "type": "scatter",
         "x": [
          "2024-01-12T00:00:00",
          "2024-01-09T00:00:00",
          "2023-12-29T00:00:00",
          "2023-12-14T00:00:00",
          "2023-12-07T00:00:00",
          "2023-11-12T00:00:00",
          "2023-11-02T00:00:00",
          "2023-10-15T00:00:00",
          "2023-10-04T00:00:00",
          "2023-10-03T00:00:00",
          "2023-09-15T00:00:00",
          "2023-09-13T00:00:00",
          "2023-08-01T00:00:00",
          "2023-06-14T00:00:00",
          "2023-04-03T00:00:00",
          "2023-02-12T00:00:00",
          "2023-12-29T00:00:00",
          "2023-10-24T00:00:00",
          "2023-10-19T00:00:00",
          "2023-10-13T00:00:00",
          "2023-10-12T00:00:00",
          "2023-10-11T00:00:00",
          "2023-09-21T00:00:00",
          "2023-07-27T00:00:00",
          "2023-07-14T00:00:00",
          "2023-04-27T00:00:00",
          "2023-04-23T00:00:00",
          "2023-02-09T00:00:00",
          "2023-11-23T00:00:00",
          "2023-10-17T00:00:00",
          "2023-09-22T00:00:00",
          "2023-08-17T00:00:00"
         ],
         "xaxis": "x",
         "y": [
          2,
          8,
          1,
          -2,
          10,
          -4,
          3,
          0,
          -1,
          0,
          1,
          -1,
          -1,
          6,
          7,
          -3,
          -2,
          -4,
          -3,
          4,
          1,
          -4,
          -1,
          6,
          5,
          -2,
          4,
          -3,
          13,
          0,
          10,
          6
         ],
         "yaxis": "y"
        },
        {
         "hovertemplate": "<b>OLS trendline</b><br>Difference = 4.7472e-08 * End Date + -78.6887<br>R<sup>2</sup>=0.006723<br><br>Type of Voter=LV<br>End Date=%{x}<br>Difference=%{y} <b>(trend)</b><extra></extra>",
         "legendgroup": "LV",
         "marker": {
          "color": "rgb(221,132,82)",
          "symbol": "circle"
         },
         "mode": "lines",
         "name": "LV",
         "showlegend": false,
         "type": "scatter",
         "x": [
          "2023-02-09T00:00:00",
          "2023-02-12T00:00:00",
          "2023-04-03T00:00:00",
          "2023-04-23T00:00:00",
          "2023-04-27T00:00:00",
          "2023-06-14T00:00:00",
          "2023-07-14T00:00:00",
          "2023-07-27T00:00:00",
          "2023-08-01T00:00:00",
          "2023-08-17T00:00:00",
          "2023-09-13T00:00:00",
          "2023-09-15T00:00:00",
          "2023-09-21T00:00:00",
          "2023-09-22T00:00:00",
          "2023-10-03T00:00:00",
          "2023-10-04T00:00:00",
          "2023-10-11T00:00:00",
          "2023-10-12T00:00:00",
          "2023-10-13T00:00:00",
          "2023-10-15T00:00:00",
          "2023-10-17T00:00:00",
          "2023-10-19T00:00:00",
          "2023-10-24T00:00:00",
          "2023-11-02T00:00:00",
          "2023-11-12T00:00:00",
          "2023-11-23T00:00:00",
          "2023-12-07T00:00:00",
          "2023-12-14T00:00:00",
          "2023-12-29T00:00:00",
          "2023-12-29T00:00:00",
          "2024-01-09T00:00:00",
          "2024-01-12T00:00:00"
         ],
         "xaxis": "x",
         "y": [
          0.8695707111495848,
          0.8818754442591552,
          1.086954329418662,
          1.1689858834824647,
          1.1853921942952252,
          1.3822679240483517,
          1.5053152551440558,
          1.5586357652855276,
          1.5791436538014783,
          1.6447688970525205,
          1.7555114950386541,
          1.7637146504450343,
          1.7883241166641752,
          1.7924256943673653,
          1.837543049102457,
          1.841644626805647,
          1.8703556707279778,
          1.8744572484311681,
          1.8785588261343582,
          1.8867619815407384,
          1.8949651369471188,
          1.903168292353499,
          1.9236761808694496,
          1.9605903801981608,
          2.001606157230062,
          2.046723511965154,
          2.1041455998098155,
          2.1328566437321466,
          2.1943803092799987,
          2.1943803092799987,
          2.23949766401509,
          2.2518023971246603
         ],
         "yaxis": "y"
        },
        {
         "customdata": [
          [
           "Reuters/Ipsos",
           "1006"
          ]
         ],
         "hovertemplate": "Type of Voter=A<br>End Date=%{x}<br>Difference=%{y}<br>pollster=%{customdata[0]}<br>Sample Size=%{customdata[1]}<extra></extra>",
         "legendgroup": "A",
         "marker": {
          "color": "rgb(196,78,82)",
          "symbol": "circle"
         },
         "mode": "markers",
         "name": "A",
         "orientation": "v",
         "showlegend": true,
         "type": "scatter",
         "x": [
          "2023-11-14T00:00:00"
         ],
         "xaxis": "x",
         "y": [
          2
         ],
         "yaxis": "y"
        },
        {
         "hovertemplate": "Type of Voter=A<extra></extra>",
         "legendgroup": "A",
         "marker": {
          "color": "rgb(196,78,82)",
          "symbol": "circle"
         },
         "mode": "lines",
         "name": "A",
         "showlegend": false,
         "type": "scatter",
         "xaxis": "x",
         "yaxis": "y"
        }
       ],
       "layout": {
        "legend": {
         "title": {
          "text": "Type of Voter"
         },
         "tracegroupgap": 0
        },
        "template": {
         "data": {
          "bar": [
           {
            "error_x": {
             "color": "rgb(36,36,36)"
            },
            "error_y": {
             "color": "rgb(36,36,36)"
            },
            "marker": {
             "line": {
              "color": "rgb(234,234,242)",
              "width": 0.5
             },
             "pattern": {
              "fillmode": "overlay",
              "size": 10,
              "solidity": 0.2
             }
            },
            "type": "bar"
           }
          ],
          "barpolar": [
           {
            "marker": {
             "line": {
              "color": "rgb(234,234,242)",
              "width": 0.5
             },
             "pattern": {
              "fillmode": "overlay",
              "size": 10,
              "solidity": 0.2
             }
            },
            "type": "barpolar"
           }
          ],
          "carpet": [
           {
            "aaxis": {
             "endlinecolor": "rgb(36,36,36)",
             "gridcolor": "white",
             "linecolor": "white",
             "minorgridcolor": "white",
             "startlinecolor": "rgb(36,36,36)"
            },
            "baxis": {
             "endlinecolor": "rgb(36,36,36)",
             "gridcolor": "white",
             "linecolor": "white",
             "minorgridcolor": "white",
             "startlinecolor": "rgb(36,36,36)"
            },
            "type": "carpet"
           }
          ],
          "choropleth": [
           {
            "colorbar": {
             "outlinewidth": 0,
             "tickcolor": "rgb(36,36,36)",
             "ticklen": 8,
             "ticks": "outside",
             "tickwidth": 2
            },
            "type": "choropleth"
           }
          ],
          "contour": [
           {
            "colorbar": {
             "outlinewidth": 0,
             "tickcolor": "rgb(36,36,36)",
             "ticklen": 8,
             "ticks": "outside",
             "tickwidth": 2
            },
            "colorscale": [
             [
              0,
              "rgb(2,4,25)"
             ],
             [
              0.06274509803921569,
              "rgb(24,15,41)"
             ],
             [
              0.12549019607843137,
              "rgb(47,23,57)"
             ],
             [
              0.18823529411764706,
              "rgb(71,28,72)"
             ],
             [
              0.25098039215686274,
              "rgb(97,30,82)"
             ],
             [
              0.3137254901960784,
              "rgb(123,30,89)"
             ],
             [
              0.3764705882352941,
              "rgb(150,27,91)"
             ],
             [
              0.4392156862745098,
              "rgb(177,22,88)"
             ],
             [
              0.5019607843137255,
              "rgb(203,26,79)"
             ],
             [
              0.5647058823529412,
              "rgb(223,47,67)"
             ],
             [
              0.6274509803921569,
              "rgb(236,76,61)"
             ],
             [
              0.6901960784313725,
              "rgb(242,107,73)"
             ],
             [
              0.7529411764705882,
              "rgb(244,135,95)"
             ],
             [
              0.8156862745098039,
              "rgb(245,162,122)"
             ],
             [
              0.8784313725490196,
              "rgb(246,188,153)"
             ],
             [
              0.9411764705882353,
              "rgb(247,212,187)"
             ],
             [
              1,
              "rgb(250,234,220)"
             ]
            ],
            "type": "contour"
           }
          ],
          "contourcarpet": [
           {
            "colorbar": {
             "outlinewidth": 0,
             "tickcolor": "rgb(36,36,36)",
             "ticklen": 8,
             "ticks": "outside",
             "tickwidth": 2
            },
            "type": "contourcarpet"
           }
          ],
          "heatmap": [
           {
            "colorbar": {
             "outlinewidth": 0,
             "tickcolor": "rgb(36,36,36)",
             "ticklen": 8,
             "ticks": "outside",
             "tickwidth": 2
            },
            "colorscale": [
             [
              0,
              "rgb(2,4,25)"
             ],
             [
              0.06274509803921569,
              "rgb(24,15,41)"
             ],
             [
              0.12549019607843137,
              "rgb(47,23,57)"
             ],
             [
              0.18823529411764706,
              "rgb(71,28,72)"
             ],
             [
              0.25098039215686274,
              "rgb(97,30,82)"
             ],
             [
              0.3137254901960784,
              "rgb(123,30,89)"
             ],
             [
              0.3764705882352941,
              "rgb(150,27,91)"
             ],
             [
              0.4392156862745098,
              "rgb(177,22,88)"
             ],
             [
              0.5019607843137255,
              "rgb(203,26,79)"
             ],
             [
              0.5647058823529412,
              "rgb(223,47,67)"
             ],
             [
              0.6274509803921569,
              "rgb(236,76,61)"
             ],
             [
              0.6901960784313725,
              "rgb(242,107,73)"
             ],
             [
              0.7529411764705882,
              "rgb(244,135,95)"
             ],
             [
              0.8156862745098039,
              "rgb(245,162,122)"
             ],
             [
              0.8784313725490196,
              "rgb(246,188,153)"
             ],
             [
              0.9411764705882353,
              "rgb(247,212,187)"
             ],
             [
              1,
              "rgb(250,234,220)"
             ]
            ],
            "type": "heatmap"
           }
          ],
          "heatmapgl": [
           {
            "colorbar": {
             "outlinewidth": 0,
             "tickcolor": "rgb(36,36,36)",
             "ticklen": 8,
             "ticks": "outside",
             "tickwidth": 2
            },
            "colorscale": [
             [
              0,
              "rgb(2,4,25)"
             ],
             [
              0.06274509803921569,
              "rgb(24,15,41)"
             ],
             [
              0.12549019607843137,
              "rgb(47,23,57)"
             ],
             [
              0.18823529411764706,
              "rgb(71,28,72)"
             ],
             [
              0.25098039215686274,
              "rgb(97,30,82)"
             ],
             [
              0.3137254901960784,
              "rgb(123,30,89)"
             ],
             [
              0.3764705882352941,
              "rgb(150,27,91)"
             ],
             [
              0.4392156862745098,
              "rgb(177,22,88)"
             ],
             [
              0.5019607843137255,
              "rgb(203,26,79)"
             ],
             [
              0.5647058823529412,
              "rgb(223,47,67)"
             ],
             [
              0.6274509803921569,
              "rgb(236,76,61)"
             ],
             [
              0.6901960784313725,
              "rgb(242,107,73)"
             ],
             [
              0.7529411764705882,
              "rgb(244,135,95)"
             ],
             [
              0.8156862745098039,
              "rgb(245,162,122)"
             ],
             [
              0.8784313725490196,
              "rgb(246,188,153)"
             ],
             [
              0.9411764705882353,
              "rgb(247,212,187)"
             ],
             [
              1,
              "rgb(250,234,220)"
             ]
            ],
            "type": "heatmapgl"
           }
          ],
          "histogram": [
           {
            "marker": {
             "pattern": {
              "fillmode": "overlay",
              "size": 10,
              "solidity": 0.2
             }
            },
            "type": "histogram"
           }
          ],
          "histogram2d": [
           {
            "colorbar": {
             "outlinewidth": 0,
             "tickcolor": "rgb(36,36,36)",
             "ticklen": 8,
             "ticks": "outside",
             "tickwidth": 2
            },
            "colorscale": [
             [
              0,
              "rgb(2,4,25)"
             ],
             [
              0.06274509803921569,
              "rgb(24,15,41)"
             ],
             [
              0.12549019607843137,
              "rgb(47,23,57)"
             ],
             [
              0.18823529411764706,
              "rgb(71,28,72)"
             ],
             [
              0.25098039215686274,
              "rgb(97,30,82)"
             ],
             [
              0.3137254901960784,
              "rgb(123,30,89)"
             ],
             [
              0.3764705882352941,
              "rgb(150,27,91)"
             ],
             [
              0.4392156862745098,
              "rgb(177,22,88)"
             ],
             [
              0.5019607843137255,
              "rgb(203,26,79)"
             ],
             [
              0.5647058823529412,
              "rgb(223,47,67)"
             ],
             [
              0.6274509803921569,
              "rgb(236,76,61)"
             ],
             [
              0.6901960784313725,
              "rgb(242,107,73)"
             ],
             [
              0.7529411764705882,
              "rgb(244,135,95)"
             ],
             [
              0.8156862745098039,
              "rgb(245,162,122)"
             ],
             [
              0.8784313725490196,
              "rgb(246,188,153)"
             ],
             [
              0.9411764705882353,
              "rgb(247,212,187)"
             ],
             [
              1,
              "rgb(250,234,220)"
             ]
            ],
            "type": "histogram2d"
           }
          ],
          "histogram2dcontour": [
           {
            "colorbar": {
             "outlinewidth": 0,
             "tickcolor": "rgb(36,36,36)",
             "ticklen": 8,
             "ticks": "outside",
             "tickwidth": 2
            },
            "colorscale": [
             [
              0,
              "rgb(2,4,25)"
             ],
             [
              0.06274509803921569,
              "rgb(24,15,41)"
             ],
             [
              0.12549019607843137,
              "rgb(47,23,57)"
             ],
             [
              0.18823529411764706,
              "rgb(71,28,72)"
             ],
             [
              0.25098039215686274,
              "rgb(97,30,82)"
             ],
             [
              0.3137254901960784,
              "rgb(123,30,89)"
             ],
             [
              0.3764705882352941,
              "rgb(150,27,91)"
             ],
             [
              0.4392156862745098,
              "rgb(177,22,88)"
             ],
             [
              0.5019607843137255,
              "rgb(203,26,79)"
             ],
             [
              0.5647058823529412,
              "rgb(223,47,67)"
             ],
             [
              0.6274509803921569,
              "rgb(236,76,61)"
             ],
             [
              0.6901960784313725,
              "rgb(242,107,73)"
             ],
             [
              0.7529411764705882,
              "rgb(244,135,95)"
             ],
             [
              0.8156862745098039,
              "rgb(245,162,122)"
             ],
             [
              0.8784313725490196,
              "rgb(246,188,153)"
             ],
             [
              0.9411764705882353,
              "rgb(247,212,187)"
             ],
             [
              1,
              "rgb(250,234,220)"
             ]
            ],
            "type": "histogram2dcontour"
           }
          ],
          "mesh3d": [
           {
            "colorbar": {
             "outlinewidth": 0,
             "tickcolor": "rgb(36,36,36)",
             "ticklen": 8,
             "ticks": "outside",
             "tickwidth": 2
            },
            "type": "mesh3d"
           }
          ],
          "parcoords": [
           {
            "line": {
             "colorbar": {
              "outlinewidth": 0,
              "tickcolor": "rgb(36,36,36)",
              "ticklen": 8,
              "ticks": "outside",
              "tickwidth": 2
             }
            },
            "type": "parcoords"
           }
          ],
          "pie": [
           {
            "automargin": true,
            "type": "pie"
           }
          ],
          "scatter": [
           {
            "fillpattern": {
             "fillmode": "overlay",
             "size": 10,
             "solidity": 0.2
            },
            "type": "scatter"
           }
          ],
          "scatter3d": [
           {
            "line": {
             "colorbar": {
              "outlinewidth": 0,
              "tickcolor": "rgb(36,36,36)",
              "ticklen": 8,
              "ticks": "outside",
              "tickwidth": 2
             }
            },
            "marker": {
             "colorbar": {
              "outlinewidth": 0,
              "tickcolor": "rgb(36,36,36)",
              "ticklen": 8,
              "ticks": "outside",
              "tickwidth": 2
             }
            },
            "type": "scatter3d"
           }
          ],
          "scattercarpet": [
           {
            "marker": {
             "colorbar": {
              "outlinewidth": 0,
              "tickcolor": "rgb(36,36,36)",
              "ticklen": 8,
              "ticks": "outside",
              "tickwidth": 2
             }
            },
            "type": "scattercarpet"
           }
          ],
          "scattergeo": [
           {
            "marker": {
             "colorbar": {
              "outlinewidth": 0,
              "tickcolor": "rgb(36,36,36)",
              "ticklen": 8,
              "ticks": "outside",
              "tickwidth": 2
             }
            },
            "type": "scattergeo"
           }
          ],
          "scattergl": [
           {
            "marker": {
             "colorbar": {
              "outlinewidth": 0,
              "tickcolor": "rgb(36,36,36)",
              "ticklen": 8,
              "ticks": "outside",
              "tickwidth": 2
             }
            },
            "type": "scattergl"
           }
          ],
          "scattermapbox": [
           {
            "marker": {
             "colorbar": {
              "outlinewidth": 0,
              "tickcolor": "rgb(36,36,36)",
              "ticklen": 8,
              "ticks": "outside",
              "tickwidth": 2
             }
            },
            "type": "scattermapbox"
           }
          ],
          "scatterpolar": [
           {
            "marker": {
             "colorbar": {
              "outlinewidth": 0,
              "tickcolor": "rgb(36,36,36)",
              "ticklen": 8,
              "ticks": "outside",
              "tickwidth": 2
             }
            },
            "type": "scatterpolar"
           }
          ],
          "scatterpolargl": [
           {
            "marker": {
             "colorbar": {
              "outlinewidth": 0,
              "tickcolor": "rgb(36,36,36)",
              "ticklen": 8,
              "ticks": "outside",
              "tickwidth": 2
             }
            },
            "type": "scatterpolargl"
           }
          ],
          "scatterternary": [
           {
            "marker": {
             "colorbar": {
              "outlinewidth": 0,
              "tickcolor": "rgb(36,36,36)",
              "ticklen": 8,
              "ticks": "outside",
              "tickwidth": 2
             }
            },
            "type": "scatterternary"
           }
          ],
          "surface": [
           {
            "colorbar": {
             "outlinewidth": 0,
             "tickcolor": "rgb(36,36,36)",
             "ticklen": 8,
             "ticks": "outside",
             "tickwidth": 2
            },
            "colorscale": [
             [
              0,
              "rgb(2,4,25)"
             ],
             [
              0.06274509803921569,
              "rgb(24,15,41)"
             ],
             [
              0.12549019607843137,
              "rgb(47,23,57)"
             ],
             [
              0.18823529411764706,
              "rgb(71,28,72)"
             ],
             [
              0.25098039215686274,
              "rgb(97,30,82)"
             ],
             [
              0.3137254901960784,
              "rgb(123,30,89)"
             ],
             [
              0.3764705882352941,
              "rgb(150,27,91)"
             ],
             [
              0.4392156862745098,
              "rgb(177,22,88)"
             ],
             [
              0.5019607843137255,
              "rgb(203,26,79)"
             ],
             [
              0.5647058823529412,
              "rgb(223,47,67)"
             ],
             [
              0.6274509803921569,
              "rgb(236,76,61)"
             ],
             [
              0.6901960784313725,
              "rgb(242,107,73)"
             ],
             [
              0.7529411764705882,
              "rgb(244,135,95)"
             ],
             [
              0.8156862745098039,
              "rgb(245,162,122)"
             ],
             [
              0.8784313725490196,
              "rgb(246,188,153)"
             ],
             [
              0.9411764705882353,
              "rgb(247,212,187)"
             ],
             [
              1,
              "rgb(250,234,220)"
             ]
            ],
            "type": "surface"
           }
          ],
          "table": [
           {
            "cells": {
             "fill": {
              "color": "rgb(231,231,240)"
             },
             "line": {
              "color": "white"
             }
            },
            "header": {
             "fill": {
              "color": "rgb(183,183,191)"
             },
             "line": {
              "color": "white"
             }
            },
            "type": "table"
           }
          ]
         },
         "layout": {
          "annotationdefaults": {
           "arrowcolor": "rgb(67,103,167)"
          },
          "autotypenumbers": "strict",
          "coloraxis": {
           "colorbar": {
            "outlinewidth": 0,
            "tickcolor": "rgb(36,36,36)",
            "ticklen": 8,
            "ticks": "outside",
            "tickwidth": 2
           }
          },
          "colorscale": {
           "sequential": [
            [
             0,
             "rgb(2,4,25)"
            ],
            [
             0.06274509803921569,
             "rgb(24,15,41)"
            ],
            [
             0.12549019607843137,
             "rgb(47,23,57)"
            ],
            [
             0.18823529411764706,
             "rgb(71,28,72)"
            ],
            [
             0.25098039215686274,
             "rgb(97,30,82)"
            ],
            [
             0.3137254901960784,
             "rgb(123,30,89)"
            ],
            [
             0.3764705882352941,
             "rgb(150,27,91)"
            ],
            [
             0.4392156862745098,
             "rgb(177,22,88)"
            ],
            [
             0.5019607843137255,
             "rgb(203,26,79)"
            ],
            [
             0.5647058823529412,
             "rgb(223,47,67)"
            ],
            [
             0.6274509803921569,
             "rgb(236,76,61)"
            ],
            [
             0.6901960784313725,
             "rgb(242,107,73)"
            ],
            [
             0.7529411764705882,
             "rgb(244,135,95)"
            ],
            [
             0.8156862745098039,
             "rgb(245,162,122)"
            ],
            [
             0.8784313725490196,
             "rgb(246,188,153)"
            ],
            [
             0.9411764705882353,
             "rgb(247,212,187)"
            ],
            [
             1,
             "rgb(250,234,220)"
            ]
           ],
           "sequentialminus": [
            [
             0,
             "rgb(2,4,25)"
            ],
            [
             0.06274509803921569,
             "rgb(24,15,41)"
            ],
            [
             0.12549019607843137,
             "rgb(47,23,57)"
            ],
            [
             0.18823529411764706,
             "rgb(71,28,72)"
            ],
            [
             0.25098039215686274,
             "rgb(97,30,82)"
            ],
            [
             0.3137254901960784,
             "rgb(123,30,89)"
            ],
            [
             0.3764705882352941,
             "rgb(150,27,91)"
            ],
            [
             0.4392156862745098,
             "rgb(177,22,88)"
            ],
            [
             0.5019607843137255,
             "rgb(203,26,79)"
            ],
            [
             0.5647058823529412,
             "rgb(223,47,67)"
            ],
            [
             0.6274509803921569,
             "rgb(236,76,61)"
            ],
            [
             0.6901960784313725,
             "rgb(242,107,73)"
            ],
            [
             0.7529411764705882,
             "rgb(244,135,95)"
            ],
            [
             0.8156862745098039,
             "rgb(245,162,122)"
            ],
            [
             0.8784313725490196,
             "rgb(246,188,153)"
            ],
            [
             0.9411764705882353,
             "rgb(247,212,187)"
            ],
            [
             1,
             "rgb(250,234,220)"
            ]
           ]
          },
          "colorway": [
           "rgb(76,114,176)",
           "rgb(221,132,82)",
           "rgb(85,168,104)",
           "rgb(196,78,82)",
           "rgb(129,114,179)",
           "rgb(147,120,96)",
           "rgb(218,139,195)",
           "rgb(140,140,140)",
           "rgb(204,185,116)",
           "rgb(100,181,205)"
          ],
          "font": {
           "color": "rgb(36,36,36)"
          },
          "geo": {
           "bgcolor": "white",
           "lakecolor": "white",
           "landcolor": "rgb(234,234,242)",
           "showlakes": true,
           "showland": true,
           "subunitcolor": "white"
          },
          "hoverlabel": {
           "align": "left"
          },
          "hovermode": "closest",
          "paper_bgcolor": "white",
          "plot_bgcolor": "rgb(234,234,242)",
          "polar": {
           "angularaxis": {
            "gridcolor": "white",
            "linecolor": "white",
            "showgrid": true,
            "ticks": ""
           },
           "bgcolor": "rgb(234,234,242)",
           "radialaxis": {
            "gridcolor": "white",
            "linecolor": "white",
            "showgrid": true,
            "ticks": ""
           }
          },
          "scene": {
           "xaxis": {
            "backgroundcolor": "rgb(234,234,242)",
            "gridcolor": "white",
            "gridwidth": 2,
            "linecolor": "white",
            "showbackground": true,
            "showgrid": true,
            "ticks": "",
            "zerolinecolor": "white"
           },
           "yaxis": {
            "backgroundcolor": "rgb(234,234,242)",
            "gridcolor": "white",
            "gridwidth": 2,
            "linecolor": "white",
            "showbackground": true,
            "showgrid": true,
            "ticks": "",
            "zerolinecolor": "white"
           },
           "zaxis": {
            "backgroundcolor": "rgb(234,234,242)",
            "gridcolor": "white",
            "gridwidth": 2,
            "linecolor": "white",
            "showbackground": true,
            "showgrid": true,
            "ticks": "",
            "zerolinecolor": "white"
           }
          },
          "shapedefaults": {
           "fillcolor": "rgb(67,103,167)",
           "line": {
            "width": 0
           },
           "opacity": 0.5
          },
          "ternary": {
           "aaxis": {
            "gridcolor": "white",
            "linecolor": "white",
            "showgrid": true,
            "ticks": ""
           },
           "baxis": {
            "gridcolor": "white",
            "linecolor": "white",
            "showgrid": true,
            "ticks": ""
           },
           "bgcolor": "rgb(234,234,242)",
           "caxis": {
            "gridcolor": "white",
            "linecolor": "white",
            "showgrid": true,
            "ticks": ""
           }
          },
          "xaxis": {
           "automargin": true,
           "gridcolor": "white",
           "linecolor": "white",
           "showgrid": true,
           "ticks": "",
           "title": {
            "standoff": 15
           },
           "zerolinecolor": "white"
          },
          "yaxis": {
           "automargin": true,
           "gridcolor": "white",
           "linecolor": "white",
           "showgrid": true,
           "ticks": "",
           "title": {
            "standoff": 15
           },
           "zerolinecolor": "white"
          }
         }
        },
        "title": {
         "text": "Trump Biden Spread"
        },
        "xaxis": {
         "anchor": "y",
         "domain": [
          0,
          1
         ],
         "title": {
          "text": "End Date"
         }
        },
        "yaxis": {
         "anchor": "x",
         "domain": [
          0,
          1
         ],
         "title": {
          "text": "Difference"
         }
        }
       }
      }
     },
     "metadata": {},
     "output_type": "display_data"
    }
   ],
   "source": [
    "import plotly.express as px\n",
    "import pandas as pd\n",
    "\n",
    "# Assuming df is your DataFrame with time series data\n",
    "# Make sure the DataFrame has a column with datetime values\n",
    "\n",
    "# Create a simple time series chart using plotly express\n",
    "fig = px.scatter(df, x='End Date', y='Difference', trendline= \"ols\", title='Trump Biden Spread',\n",
    "              labels={'value_column': 'Y-axis Label', 'datetime_column': 'X-axis Label'},\n",
    "              color = 'Type of Voter',\n",
    "                hover_data=['pollster', 'Sample Size'],\n",
    "              template='seaborn',  # Choose a template, e.g., 'plotly', 'plotly_dark', 'seaborn', etc.\n",
    "              )\n",
    "fig.show()"
   ]
  },
  {
   "cell_type": "markdown",
   "metadata": {},
   "source": [
    "## LV vs. RVs Time Series Analysis\n",
    "\n",
    "Also adjust for who is taking the poll/bias. Plus recency weighted bias. \n",
    "Predict spread based on LV vs. RV, date, and polling company. Work with ARIMA model, with dummy variables for polling companies.\n",
    "Baseline prediction could be realclear spread at that time. And then we can compare whether the spread is better or worse than our prediction. \n",
    "\n",
    "Look for differences between Joe Biden Voters and Liberal Voters, as well as Trump Voters and Conservative voters. Has anything changed?"
   ]
  },
  {
   "cell_type": "markdown",
   "metadata": {},
   "source": [
    "Difference between overall favorability, and job approval.\n",
    "\n",
    "Compare likely to vote for, vs. past voting."
   ]
  },
  {
   "cell_type": "code",
   "execution_count": 6,
   "metadata": {},
   "outputs": [],
   "source": [
    "#Time Series Modeling (ARIMA)\n",
    "\n",
    "#Spread = Poll Company + Type of Voter + Time + Sample Size?"
   ]
  }
 ],
 "metadata": {
  "kernelspec": {
   "display_name": "base",
   "language": "python",
   "name": "python3"
  },
  "language_info": {
   "codemirror_mode": {
    "name": "ipython",
    "version": 3
   },
   "file_extension": ".py",
   "mimetype": "text/x-python",
   "name": "python",
   "nbconvert_exporter": "python",
   "pygments_lexer": "ipython3",
   "version": "3.11.5"
  },
  "orig_nbformat": 4
 },
 "nbformat": 4,
 "nbformat_minor": 2
}
