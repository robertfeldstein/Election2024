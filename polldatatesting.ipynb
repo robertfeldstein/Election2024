{
 "cells": [
  {
   "cell_type": "code",
   "execution_count": 1,
   "metadata": {},
   "outputs": [],
   "source": [
    "from selenium import webdriver\n",
    "from bs4 import BeautifulSoup\n",
    "import pandas as pd\n",
    "import time\n",
    "import numpy as np\n",
    "from datetime import datetime\n",
    "import matplotlib.pyplot as plt\n",
    "import seaborn as sns\n",
    "import warnings\n",
    "import plotly.express as px\n",
    "\n",
    "# Suppress a specific warning\n",
    "warnings.simplefilter(\"ignore\", category=FutureWarning)"
   ]
  },
  {
   "cell_type": "code",
   "execution_count": 2,
   "metadata": {},
   "outputs": [],
   "source": [
    "base_url = \"https://www.realclearpolling.com/polls/\"\n",
    "sample_url = \"president/republican-primary/2024/national\"\n",
    "sample_url = \"president/general/2024/trump-vs-biden\"\n",
    "url = base_url + sample_url"
   ]
  },
  {
   "cell_type": "code",
   "execution_count": 3,
   "metadata": {},
   "outputs": [],
   "source": [
    "# Create a webdriver instance and get the page source\n",
    "driver = webdriver.Chrome()\n",
    "driver.get(url)\n",
    "\n",
    "# Allow time for dynamic content to load (you may need to adjust the sleep duration)\n",
    "time.sleep(3)\n",
    "\n",
    "# Get the page source after dynamic content has loaded\n",
    "html_content = driver.page_source\n",
    "\n",
    "# Close the webdriver\n",
    "driver.quit()\n",
    "\n",
    "# Parse the HTML content with BeautifulSoup\n",
    "soup = BeautifulSoup(html_content, 'html5lib')\n",
    "\n",
    "# Now you can extract the table data using the same approach as before\n",
    "table = soup.find_all('table')\n",
    "\n",
    "if len(table)==2:\n",
    "    table = table[1]\n",
    "else:\n",
    "    table = table[0]\n",
    "\n",
    "table_data = []\n",
    "for row in table.find_all('tr'):\n",
    "    row_data = [cell.text.strip() for cell in row.find_all(['td','th'])]\n",
    "    table_data.append(row_data)"
   ]
  },
  {
   "cell_type": "code",
   "execution_count": 4,
   "metadata": {},
   "outputs": [
    {
     "data": {
      "text/html": [
       "<div>\n",
       "<style scoped>\n",
       "    .dataframe tbody tr th:only-of-type {\n",
       "        vertical-align: middle;\n",
       "    }\n",
       "\n",
       "    .dataframe tbody tr th {\n",
       "        vertical-align: top;\n",
       "    }\n",
       "\n",
       "    .dataframe thead th {\n",
       "        text-align: right;\n",
       "    }\n",
       "</style>\n",
       "<table border=\"1\" class=\"dataframe\">\n",
       "  <thead>\n",
       "    <tr style=\"text-align: right;\">\n",
       "      <th></th>\n",
       "      <th>pollster</th>\n",
       "      <th>date</th>\n",
       "      <th>sample</th>\n",
       "      <th>moe</th>\n",
       "      <th>Trump (R)</th>\n",
       "      <th>Biden (D)</th>\n",
       "      <th>spread</th>\n",
       "      <th>Difference</th>\n",
       "      <th>Type of Voter</th>\n",
       "      <th>Sample Size</th>\n",
       "      <th>End Date</th>\n",
       "      <th>Poll Month</th>\n",
       "      <th>Year</th>\n",
       "    </tr>\n",
       "  </thead>\n",
       "  <tbody>\n",
       "    <tr>\n",
       "      <th>0</th>\n",
       "      <td>CNN</td>\n",
       "      <td>1/25 - 1/30</td>\n",
       "      <td>1212 RV</td>\n",
       "      <td>3.4</td>\n",
       "      <td>49</td>\n",
       "      <td>45</td>\n",
       "      <td>Trump+4</td>\n",
       "      <td>4.0</td>\n",
       "      <td>RV</td>\n",
       "      <td>1212</td>\n",
       "      <td>2024-01-30</td>\n",
       "      <td>1</td>\n",
       "      <td>2024</td>\n",
       "    </tr>\n",
       "    <tr>\n",
       "      <th>1</th>\n",
       "      <td>Quinnipiac</td>\n",
       "      <td>1/25 - 1/29</td>\n",
       "      <td>1650 RV</td>\n",
       "      <td>2.4</td>\n",
       "      <td>44</td>\n",
       "      <td>50</td>\n",
       "      <td>Biden+6</td>\n",
       "      <td>-6.0</td>\n",
       "      <td>RV</td>\n",
       "      <td>1650</td>\n",
       "      <td>2024-01-29</td>\n",
       "      <td>1</td>\n",
       "      <td>2024</td>\n",
       "    </tr>\n",
       "    <tr>\n",
       "      <th>2</th>\n",
       "      <td>Yahoo News</td>\n",
       "      <td>1/25 - 1/29</td>\n",
       "      <td>1069 RV</td>\n",
       "      <td>—</td>\n",
       "      <td>45</td>\n",
       "      <td>44</td>\n",
       "      <td>Trump+1</td>\n",
       "      <td>1.0</td>\n",
       "      <td>RV</td>\n",
       "      <td>1069</td>\n",
       "      <td>2024-01-29</td>\n",
       "      <td>1</td>\n",
       "      <td>2024</td>\n",
       "    </tr>\n",
       "    <tr>\n",
       "      <th>3</th>\n",
       "      <td>Emerson</td>\n",
       "      <td>1/26 - 1/29</td>\n",
       "      <td>1260 RV</td>\n",
       "      <td>2.7</td>\n",
       "      <td>46</td>\n",
       "      <td>45</td>\n",
       "      <td>Trump+1</td>\n",
       "      <td>1.0</td>\n",
       "      <td>RV</td>\n",
       "      <td>1260</td>\n",
       "      <td>2024-01-29</td>\n",
       "      <td>1</td>\n",
       "      <td>2024</td>\n",
       "    </tr>\n",
       "    <tr>\n",
       "      <th>4</th>\n",
       "      <td>Economist/YouGov</td>\n",
       "      <td>1/28 - 1/30</td>\n",
       "      <td>1486 RV</td>\n",
       "      <td>2.9</td>\n",
       "      <td>42</td>\n",
       "      <td>43</td>\n",
       "      <td>Biden+1</td>\n",
       "      <td>-1.0</td>\n",
       "      <td>RV</td>\n",
       "      <td>1486</td>\n",
       "      <td>2024-01-30</td>\n",
       "      <td>1</td>\n",
       "      <td>2024</td>\n",
       "    </tr>\n",
       "  </tbody>\n",
       "</table>\n",
       "</div>"
      ],
      "text/plain": [
       "           pollster         date   sample  moe Trump (R) Biden (D)   spread  \\\n",
       "0               CNN  1/25 - 1/30  1212 RV  3.4        49        45  Trump+4   \n",
       "1        Quinnipiac  1/25 - 1/29  1650 RV  2.4        44        50  Biden+6   \n",
       "2        Yahoo News  1/25 - 1/29  1069 RV    —        45        44  Trump+1   \n",
       "3           Emerson  1/26 - 1/29  1260 RV  2.7        46        45  Trump+1   \n",
       "4  Economist/YouGov  1/28 - 1/30  1486 RV  2.9        42        43  Biden+1   \n",
       "\n",
       "   Difference Type of Voter Sample Size   End Date  Poll Month  Year  \n",
       "0         4.0            RV        1212 2024-01-30           1  2024  \n",
       "1        -6.0            RV        1650 2024-01-29           1  2024  \n",
       "2         1.0            RV        1069 2024-01-29           1  2024  \n",
       "3         1.0            RV        1260 2024-01-29           1  2024  \n",
       "4        -1.0            RV        1486 2024-01-30           1  2024  "
      ]
     },
     "execution_count": 4,
     "metadata": {},
     "output_type": "execute_result"
    }
   ],
   "source": [
    "#Convert table data to a dataframe\n",
    "#We remove the first row since this is RCP summary data that we don't want to use\n",
    "\n",
    "current_year = str(datetime.now().year)\n",
    "prev_year = str(datetime.now().year-1)\n",
    "\n",
    "\n",
    "df = pd.DataFrame(table_data[2:150], columns=table_data[0])\n",
    "df[\"Difference\"] = df[\"Trump (R)\"].astype(float) - df[\"Biden (D)\"].astype(float)\n",
    "df[\"Type of Voter\"] = df[\"sample\"].str.split(\" \").str[1]\n",
    "df[\"Sample Size\"] = df[\"sample\"].str.split(\" \").str[0]\n",
    "#We need to add the year to the date to make it a datetime object\n",
    "#We need to make sure the year we add is the year the poll was taken, not necessarily the current year\n",
    "df[\"End Date\"] = df[\"date\"].str.split(\"-\").str[1] \n",
    "df[\"Poll Month\"] = df[\"date\"].str.split(\"-\").str[1].str.split(\"/\").str[0]\n",
    "df[\"Poll Month\"] = df[\"Poll Month\"].astype(int)\n",
    "first_dec = df[df[\"Poll Month\"]==12].index[0]\n",
    "df[\"Year\"] = [current_year]*first_dec + [prev_year]*(len(df)-first_dec)\n",
    "df[\"End Date\"] = df[\"End Date\"] + \"/\" + df[\"Year\"]\n",
    "df[\"End Date\"] = np.array(pd.to_datetime(df[\"End Date\"], format=\"mixed\"))\n",
    "df = df[df[\"Type of Voter\"].isin([\"RV\", \"LV\"])]\n",
    "df.head()"
   ]
  },
  {
   "cell_type": "code",
   "execution_count": 5,
   "metadata": {},
   "outputs": [
    {
     "data": {
      "application/vnd.plotly.v1+json": {
       "config": {
        "plotlyServerURL": "https://plot.ly"
       },
       "data": [
        {
         "customdata": [
          [
           "CNN",
           "1212"
          ],
          [
           "Quinnipiac",
           "1650"
          ],
          [
           "Yahoo News",
           "1069"
          ],
          [
           "Emerson",
           "1260"
          ],
          [
           "Economist/YouGov",
           "1486"
          ],
          [
           "Daily Kos/Civiqs",
           "1217"
          ],
          [
           "Morning Consult",
           "6487"
          ],
          [
           "Reuters/Ipsos",
           "1028"
          ],
          [
           "Economist/YouGov",
           "1497"
          ],
          [
           "The Messenger/HarrisX",
           "3034"
          ],
          [
           "Morning Consult",
           "6417"
          ],
          [
           "Harvard-Harris",
           "2346"
          ],
          [
           "The Messenger/HarrisX",
           "1045"
          ],
          [
           "Economist/YouGov",
           "1472"
          ],
          [
           "Morning Consult",
           "6606"
          ],
          [
           "Economist/YouGov",
           "1417"
          ],
          [
           "Reuters/Ipsos",
           "4677"
          ],
          [
           "Morning Consult",
           "6367"
          ],
          [
           "I&I/TIPP",
           "1247"
          ],
          [
           "Economist/YouGov",
           "1343"
          ],
          [
           "Morning Consult",
           "6816"
          ],
          [
           "Economist/YouGov",
           "1336"
          ],
          [
           "Morning Consult",
           "5618"
          ],
          [
           "Quinnipiac",
           "1647"
          ],
          [
           "Yahoo News",
           "1027"
          ],
          [
           "Harvard-Harris",
           "2034"
          ],
          [
           "FOX News",
           "1007"
          ],
          [
           "Economist/YouGov",
           "1332"
          ],
          [
           "Morning Consult",
           "5840"
          ],
          [
           "NPR/PBS/Marist",
           "1129"
          ],
          [
           "Emerson",
           "1000"
          ],
          [
           "Economist/YouGov",
           "1291"
          ],
          [
           "Wall Street Journal",
           "1500"
          ],
          [
           "The Messenger/HarrisX",
           "2018"
          ],
          [
           "Morning Consult",
           "5855"
          ],
          [
           "I&I/TIPP",
           "1301"
          ],
          [
           "The Messenger/HarrisX",
           "4003"
          ],
          [
           "Economist/YouGov",
           "1323"
          ],
          [
           "Morning Consult",
           "6527"
          ],
          [
           "Emerson",
           "1475"
          ],
          [
           "Morning Consult",
           "5855"
          ],
          [
           "The Messenger/HarrisX",
           "3017"
          ],
          [
           "Harvard-Harris",
           "2851"
          ],
          [
           "Economist/YouGov",
           "1272"
          ],
          [
           "NBC News",
           "1000"
          ],
          [
           "FOX News",
           "1001"
          ],
          [
           "Quinnipiac",
           "1574"
          ],
          [
           "Yahoo News",
           "1058"
          ],
          [
           "Morning Consult",
           "6130"
          ],
          [
           "Marquette",
           "856"
          ],
          [
           "Morning Consult",
           "5000"
          ],
          [
           "I&I/TIPP",
           "1242"
          ],
          [
           "The Messenger/HarrisX",
           "2021"
          ],
          [
           "CNN",
           "1271"
          ],
          [
           "Economist/YouGov",
           "1333"
          ],
          [
           "Quinnipiac",
           "1610"
          ],
          [
           "Morning Consult",
           "5000"
          ],
          [
           "Harvard-Harris",
           "2116"
          ],
          [
           "USA Today/Suffolk",
           "1000"
          ],
          [
           "Morning Consult",
           "5000"
          ],
          [
           "The Messenger/HarrisX",
           "3029"
          ],
          [
           "Emerson",
           "1578"
          ],
          [
           "Yahoo News",
           "1120"
          ],
          [
           "Economist/YouGov",
           "1296"
          ],
          [
           "Morning Consult",
           "5000"
          ],
          [
           "NPR/PBS/Marist",
           "1218"
          ],
          [
           "FOX News",
           "1007"
          ],
          [
           "Morning Consult",
           "5000"
          ],
          [
           "The Messenger/HarrisX",
           "2982"
          ],
          [
           "Morning Consult",
           "5000"
          ],
          [
           "The Messenger/HarrisX",
           "1615"
          ],
          [
           "I&I/TIPP",
           "1262"
          ],
          [
           "New York Post",
           "1169"
          ],
          [
           "NPR/PBS/Marist",
           "1137"
          ],
          [
           "Economist/YouGov",
           "1293"
          ],
          [
           "Morning Consult",
           "6000"
          ],
          [
           "Marquette",
           "781"
          ],
          [
           "ABC News/Wash Post",
           "890"
          ],
          [
           "NBC News",
           "1000"
          ],
          [
           "The Messenger/HarrisX",
           "3015"
          ],
          [
           "Emerson",
           "1125"
          ],
          [
           "Yahoo News",
           "1097"
          ],
          [
           "Morning Consult",
           "6000"
          ],
          [
           "Harvard-Harris",
           "2103"
          ],
          [
           "Economist/YouGov",
           "1334"
          ],
          [
           "FOX News",
           "1012"
          ],
          [
           "Quinnipiac",
           "1726"
          ],
          [
           "The Messenger/HarrisX",
           "3015"
          ],
          [
           "Morning Consult",
           "6000"
          ],
          [
           "CNN",
           "1259"
          ],
          [
           "Wall Street Journal",
           "1500"
          ],
          [
           "Morning Consult",
           "5000"
          ],
          [
           "Economist/YouGov",
           "1303"
          ],
          [
           "Morning Consult",
           "5000"
          ],
          [
           "Emerson",
           "1000"
          ],
          [
           "The Messenger/HarrisX",
           "2013"
          ],
          [
           "New York Post",
           "1551"
          ],
          [
           "Yahoo News",
           "1113"
          ],
          [
           "Morning Consult",
           "6000"
          ],
          [
           "Emerson",
           "1000"
          ],
          [
           "FOX News",
           "1002"
          ],
          [
           "Quinnipiac",
           "1632"
          ],
          [
           "Marist",
           "1100"
          ],
          [
           "Economist/YouGov",
           "1321"
          ],
          [
           "Morning Consult",
           "6000"
          ],
          [
           "Morning Consult",
           "6000"
          ],
          [
           "NY Times/Siena",
           "1329"
          ],
          [
           "Morning Consult",
           "6000"
          ],
          [
           "The Messenger/HarrisX",
           "922"
          ],
          [
           "Economist/YouGov",
           "1306"
          ],
          [
           "Morning Consult",
           "6000"
          ],
          [
           "Harvard-Harris",
           "2068"
          ],
          [
           "Quinnipiac",
           "1809"
          ],
          [
           "Yahoo News",
           "1098"
          ],
          [
           "Morning Consult",
           "6000"
          ],
          [
           "Marquette",
           "788"
          ],
          [
           "Morning Consult",
           "6000"
          ],
          [
           "Economist/YouGov",
           "1296"
          ],
          [
           "The Messenger/HarrisX",
           "915"
          ],
          [
           "Economist/YouGov",
           "1315"
          ],
          [
           "The Messenger/HarrisX",
           "2875"
          ],
          [
           "NBC News",
           "1000"
          ],
          [
           "Emerson",
           "1015"
          ],
          [
           "Yahoo News",
           "1091"
          ],
          [
           "The Messenger/HarrisX",
           "930"
          ],
          [
           "Harvard-Harris",
           "2090"
          ],
          [
           "Economist/YouGov",
           "1303"
          ],
          [
           "Quinnipiac",
           "1735"
          ],
          [
           "Economist/YouGov",
           "1313"
          ],
          [
           "Yahoo News**",
           "1015"
          ],
          [
           "Quinnipiac",
           "1616"
          ]
         ],
         "hovertemplate": "Type of Voter=RV<br>End Date=%{x}<br>Difference=%{y}<br>pollster=%{customdata[0]}<br>Sample Size=%{customdata[1]}<extra></extra>",
         "legendgroup": "RV",
         "marker": {
          "color": "rgb(76,114,176)",
          "symbol": "circle"
         },
         "mode": "markers",
         "name": "RV",
         "orientation": "v",
         "showlegend": true,
         "type": "scatter",
         "x": [
          "2024-01-30T00:00:00",
          "2024-01-29T00:00:00",
          "2024-01-29T00:00:00",
          "2024-01-29T00:00:00",
          "2024-01-30T00:00:00",
          "2024-01-30T00:00:00",
          "2024-01-28T00:00:00",
          "2024-01-24T00:00:00",
          "2024-01-23T00:00:00",
          "2024-01-21T00:00:00",
          "2024-01-21T00:00:00",
          "2024-01-18T00:00:00",
          "2024-01-17T00:00:00",
          "2024-01-16T00:00:00",
          "2024-01-15T00:00:00",
          "2024-01-09T00:00:00",
          "2024-01-09T00:00:00",
          "2024-01-07T00:00:00",
          "2024-01-05T00:00:00",
          "2024-01-02T00:00:00",
          "2024-01-01T00:00:00",
          "2023-12-18T00:00:00",
          "2023-12-17T00:00:00",
          "2023-12-18T00:00:00",
          "2023-12-18T00:00:00",
          "2023-12-14T00:00:00",
          "2023-12-13T00:00:00",
          "2023-12-12T00:00:00",
          "2023-12-10T00:00:00",
          "2023-12-07T00:00:00",
          "2023-12-06T00:00:00",
          "2023-12-05T00:00:00",
          "2023-12-04T00:00:00",
          "2023-12-01T00:00:00",
          "2023-12-03T00:00:00",
          "2023-12-01T00:00:00",
          "2023-11-28T00:00:00",
          "2023-11-27T00:00:00",
          "2023-11-26T00:00:00",
          "2023-11-20T00:00:00",
          "2023-11-19T00:00:00",
          "2023-11-19T00:00:00",
          "2023-11-16T00:00:00",
          "2023-11-14T00:00:00",
          "2023-11-14T00:00:00",
          "2023-11-13T00:00:00",
          "2023-11-13T00:00:00",
          "2023-11-13T00:00:00",
          "2023-11-12T00:00:00",
          "2023-11-07T00:00:00",
          "2023-11-05T00:00:00",
          "2023-11-03T00:00:00",
          "2023-11-01T00:00:00",
          "2023-11-02T00:00:00",
          "2023-10-31T00:00:00",
          "2023-10-30T00:00:00",
          "2023-10-29T00:00:00",
          "2023-10-19T00:00:00",
          "2023-10-20T00:00:00",
          "2023-10-22T00:00:00",
          "2023-10-23T00:00:00",
          "2023-10-17T00:00:00",
          "2023-10-16T00:00:00",
          "2023-10-17T00:00:00",
          "2023-10-15T00:00:00",
          "2023-10-11T00:00:00",
          "2023-10-09T00:00:00",
          "2023-10-08T00:00:00",
          "2023-10-07T00:00:00",
          "2023-10-01T00:00:00",
          "2023-09-29T00:00:00",
          "2023-09-29T00:00:00",
          "2023-09-28T00:00:00",
          "2023-09-28T00:00:00",
          "2023-09-26T00:00:00",
          "2023-09-24T00:00:00",
          "2023-09-25T00:00:00",
          "2023-09-20T00:00:00",
          "2023-09-19T00:00:00",
          "2023-09-19T00:00:00",
          "2023-09-18T00:00:00",
          "2023-09-18T00:00:00",
          "2023-09-17T00:00:00",
          "2023-09-14T00:00:00",
          "2023-09-12T00:00:00",
          "2023-09-12T00:00:00",
          "2023-09-11T00:00:00",
          "2023-09-11T00:00:00",
          "2023-09-10T00:00:00",
          "2023-08-31T00:00:00",
          "2023-08-30T00:00:00",
          "2023-09-04T00:00:00",
          "2023-08-29T00:00:00",
          "2023-08-27T00:00:00",
          "2023-08-26T00:00:00",
          "2023-08-26T00:00:00",
          "2023-08-24T00:00:00",
          "2023-08-21T00:00:00",
          "2023-08-20T00:00:00",
          "2023-08-17T00:00:00",
          "2023-08-14T00:00:00",
          "2023-08-14T00:00:00",
          "2023-08-14T00:00:00",
          "2023-08-15T00:00:00",
          "2023-08-13T00:00:00",
          "2023-08-06T00:00:00",
          "2023-07-27T00:00:00",
          "2023-07-30T00:00:00",
          "2023-07-24T00:00:00",
          "2023-07-25T00:00:00",
          "2023-07-23T00:00:00",
          "2023-07-20T00:00:00",
          "2023-07-17T00:00:00",
          "2023-07-17T00:00:00",
          "2023-07-16T00:00:00",
          "2023-07-12T00:00:00",
          "2023-07-09T00:00:00",
          "2023-07-11T00:00:00",
          "2023-07-06T00:00:00",
          "2023-06-27T00:00:00",
          "2023-06-23T00:00:00",
          "2023-06-20T00:00:00",
          "2023-06-20T00:00:00",
          "2023-06-20T00:00:00",
          "2023-06-16T00:00:00",
          "2023-06-15T00:00:00",
          "2023-06-13T00:00:00",
          "2023-06-12T00:00:00",
          "2023-05-31T00:00:00",
          "2023-05-30T00:00:00",
          "2023-05-22T00:00:00"
         ],
         "xaxis": "x",
         "y": [
          4,
          -6,
          1,
          1,
          -1,
          0,
          2,
          5,
          1,
          6,
          5,
          6,
          4,
          -1,
          2,
          0,
          0,
          -1,
          1,
          0,
          1,
          0,
          2,
          -1,
          0,
          4,
          4,
          0,
          2,
          -1,
          4,
          -1,
          4,
          6,
          0,
          2,
          4,
          -2,
          -1,
          4,
          3,
          6,
          6,
          1,
          2,
          4,
          2,
          2,
          1,
          4,
          2,
          -2,
          2,
          4,
          0,
          -1,
          0,
          4,
          0,
          0,
          4,
          2,
          -1,
          -1,
          -2,
          -3,
          -1,
          -1,
          4,
          0,
          3,
          0,
          3,
          -2,
          -5,
          -1,
          3,
          10,
          0,
          5,
          0,
          0,
          0,
          4,
          -1,
          2,
          -1,
          1,
          -2,
          1,
          0,
          -3,
          1,
          -1,
          2,
          -1,
          3,
          -6,
          -2,
          0,
          -3,
          -1,
          -1,
          -1,
          -2,
          -1,
          0,
          -3,
          4,
          -4,
          -2,
          5,
          -5,
          -4,
          -2,
          0,
          -1,
          0,
          0,
          4,
          2,
          -4,
          -1,
          -4,
          2,
          6,
          0,
          -4,
          -3,
          -7,
          -2
         ],
         "yaxis": "y"
        },
        {
         "hovertemplate": "<b>OLS trendline</b><br>Difference = 1.69419e-07 * End Date + -286.862<br>R<sup>2</sup>=0.117894<br><br>Type of Voter=RV<br>End Date=%{x}<br>Difference=%{y} <b>(trend)</b><extra></extra>",
         "legendgroup": "RV",
         "marker": {
          "color": "rgb(76,114,176)",
          "symbol": "circle"
         },
         "mode": "lines",
         "name": "RV",
         "showlegend": false,
         "type": "scatter",
         "x": [
          "2023-05-22T00:00:00",
          "2023-05-30T00:00:00",
          "2023-05-31T00:00:00",
          "2023-06-12T00:00:00",
          "2023-06-13T00:00:00",
          "2023-06-15T00:00:00",
          "2023-06-16T00:00:00",
          "2023-06-20T00:00:00",
          "2023-06-20T00:00:00",
          "2023-06-20T00:00:00",
          "2023-06-23T00:00:00",
          "2023-06-27T00:00:00",
          "2023-07-06T00:00:00",
          "2023-07-09T00:00:00",
          "2023-07-11T00:00:00",
          "2023-07-12T00:00:00",
          "2023-07-16T00:00:00",
          "2023-07-17T00:00:00",
          "2023-07-17T00:00:00",
          "2023-07-20T00:00:00",
          "2023-07-23T00:00:00",
          "2023-07-24T00:00:00",
          "2023-07-25T00:00:00",
          "2023-07-27T00:00:00",
          "2023-07-30T00:00:00",
          "2023-08-06T00:00:00",
          "2023-08-13T00:00:00",
          "2023-08-14T00:00:00",
          "2023-08-14T00:00:00",
          "2023-08-14T00:00:00",
          "2023-08-15T00:00:00",
          "2023-08-17T00:00:00",
          "2023-08-20T00:00:00",
          "2023-08-21T00:00:00",
          "2023-08-24T00:00:00",
          "2023-08-26T00:00:00",
          "2023-08-26T00:00:00",
          "2023-08-27T00:00:00",
          "2023-08-29T00:00:00",
          "2023-08-30T00:00:00",
          "2023-08-31T00:00:00",
          "2023-09-04T00:00:00",
          "2023-09-10T00:00:00",
          "2023-09-11T00:00:00",
          "2023-09-11T00:00:00",
          "2023-09-12T00:00:00",
          "2023-09-12T00:00:00",
          "2023-09-14T00:00:00",
          "2023-09-17T00:00:00",
          "2023-09-18T00:00:00",
          "2023-09-18T00:00:00",
          "2023-09-19T00:00:00",
          "2023-09-19T00:00:00",
          "2023-09-20T00:00:00",
          "2023-09-24T00:00:00",
          "2023-09-25T00:00:00",
          "2023-09-26T00:00:00",
          "2023-09-28T00:00:00",
          "2023-09-28T00:00:00",
          "2023-09-29T00:00:00",
          "2023-09-29T00:00:00",
          "2023-10-01T00:00:00",
          "2023-10-07T00:00:00",
          "2023-10-08T00:00:00",
          "2023-10-09T00:00:00",
          "2023-10-11T00:00:00",
          "2023-10-15T00:00:00",
          "2023-10-16T00:00:00",
          "2023-10-17T00:00:00",
          "2023-10-17T00:00:00",
          "2023-10-19T00:00:00",
          "2023-10-20T00:00:00",
          "2023-10-22T00:00:00",
          "2023-10-23T00:00:00",
          "2023-10-29T00:00:00",
          "2023-10-30T00:00:00",
          "2023-10-31T00:00:00",
          "2023-11-01T00:00:00",
          "2023-11-02T00:00:00",
          "2023-11-03T00:00:00",
          "2023-11-05T00:00:00",
          "2023-11-07T00:00:00",
          "2023-11-12T00:00:00",
          "2023-11-13T00:00:00",
          "2023-11-13T00:00:00",
          "2023-11-13T00:00:00",
          "2023-11-14T00:00:00",
          "2023-11-14T00:00:00",
          "2023-11-16T00:00:00",
          "2023-11-19T00:00:00",
          "2023-11-19T00:00:00",
          "2023-11-20T00:00:00",
          "2023-11-26T00:00:00",
          "2023-11-27T00:00:00",
          "2023-11-28T00:00:00",
          "2023-12-01T00:00:00",
          "2023-12-01T00:00:00",
          "2023-12-03T00:00:00",
          "2023-12-04T00:00:00",
          "2023-12-05T00:00:00",
          "2023-12-06T00:00:00",
          "2023-12-07T00:00:00",
          "2023-12-10T00:00:00",
          "2023-12-12T00:00:00",
          "2023-12-13T00:00:00",
          "2023-12-14T00:00:00",
          "2023-12-17T00:00:00",
          "2023-12-18T00:00:00",
          "2023-12-18T00:00:00",
          "2023-12-18T00:00:00",
          "2024-01-01T00:00:00",
          "2024-01-02T00:00:00",
          "2024-01-05T00:00:00",
          "2024-01-07T00:00:00",
          "2024-01-09T00:00:00",
          "2024-01-09T00:00:00",
          "2024-01-15T00:00:00",
          "2024-01-16T00:00:00",
          "2024-01-17T00:00:00",
          "2024-01-18T00:00:00",
          "2024-01-21T00:00:00",
          "2024-01-21T00:00:00",
          "2024-01-23T00:00:00",
          "2024-01-24T00:00:00",
          "2024-01-28T00:00:00",
          "2024-01-29T00:00:00",
          "2024-01-29T00:00:00",
          "2024-01-29T00:00:00",
          "2024-01-30T00:00:00",
          "2024-01-30T00:00:00",
          "2024-01-30T00:00:00"
         ],
         "xaxis": "x",
         "y": [
          -1.4402070192245493,
          -1.323104809709256,
          -1.3084670335198443,
          -1.1328137192469045,
          -1.118175943057493,
          -1.0889003906786694,
          -1.0742626144892577,
          -1.0157115097316112,
          -1.0157115097316112,
          -1.0157115097316112,
          -0.9717981811633762,
          -0.9132470764057296,
          -0.7815070907010246,
          -0.7375937621327897,
          -0.7083182097539663,
          -0.6936804335645547,
          -0.6351293288069081,
          -0.6204915526174964,
          -0.6204915526174964,
          -0.5765782240492614,
          -0.5326648954810265,
          -0.5180271192916148,
          -0.5033893431022032,
          -0.47411379072337984,
          -0.43020046215514485,
          -0.3277360288292632,
          -0.22527159550338163,
          -0.21063381931397,
          -0.21063381931397,
          -0.21063381931397,
          -0.19599604312455832,
          -0.166720490745735,
          -0.12280716217750003,
          -0.10816938598808837,
          -0.0642560574198534,
          -0.03498050504103008,
          -0.03498050504103008,
          -0.020342728851618416,
          0.0089328235272049,
          0.02357059971661656,
          0.038208375906028214,
          0.09675948066367485,
          0.1845861378001448,
          0.19922391398955647,
          0.19922391398955647,
          0.2138616901789681,
          0.2138616901789681,
          0.24313724255779143,
          0.2870505711260264,
          0.3016883473154381,
          0.3016883473154381,
          0.31632612350484973,
          0.31632612350484973,
          0.3309638996942614,
          0.389515004451908,
          0.40415278064131965,
          0.41879055683073135,
          0.44806610920955464,
          0.44806610920955464,
          0.4627038853989663,
          0.4627038853989663,
          0.49197943777778963,
          0.5798060949142596,
          0.5944438711036713,
          0.6090816472930829,
          0.6383571996719062,
          0.6969083044295529,
          0.7115460806189645,
          0.7261838568083762,
          0.7261838568083762,
          0.7554594091871994,
          0.7700971853766111,
          0.7993727377554345,
          0.8140105139448461,
          0.9018371710813161,
          0.9164749472707278,
          0.9311127234601394,
          0.945750499649551,
          0.9603882758389627,
          0.9750260520283743,
          1.0043016044071977,
          1.033577156786021,
          1.1067660377330792,
          1.1214038139224909,
          1.1214038139224909,
          1.1214038139224909,
          1.1360415901119025,
          1.1360415901119025,
          1.1653171424907258,
          1.209230471058961,
          1.209230471058961,
          1.2238682472483726,
          1.3116949043848425,
          1.3263326805742541,
          1.3409704567636658,
          1.3848837853319007,
          1.3848837853319007,
          1.4141593377107242,
          1.4287971139001359,
          1.4434348900895475,
          1.4580726662789592,
          1.4727104424683708,
          1.5166237710366057,
          1.545899323415429,
          1.5605370996048407,
          1.5751748757942523,
          1.6190882043624872,
          1.6337259805518989,
          1.6337259805518989,
          1.6337259805518989,
          1.8386548472036621,
          1.8532926233930738,
          1.897205951961309,
          1.9264815043401322,
          1.9557570567189555,
          1.9557570567189555,
          2.0435837138554254,
          2.0582214900448372,
          2.0728592662342487,
          2.0874970424236605,
          2.1314103709918952,
          2.1314103709918952,
          2.1606859233707185,
          2.1753236995601304,
          2.233874804317777,
          2.248512580507189,
          2.248512580507189,
          2.248512580507189,
          2.2631503566966003,
          2.2631503566966003,
          2.2631503566966003
         ],
         "yaxis": "y"
        },
        {
         "customdata": [
          [
           "CBS News",
           "1906"
          ],
          [
           "Rasmussen Reports",
           "968"
          ],
          [
           "USA Today/Suffolk",
           "1000"
          ],
          [
           "NY Times/Siena",
           "1016"
          ],
          [
           "Rasmussen Reports",
           "892"
          ],
          [
           "Rasmussen Reports",
           "987"
          ],
          [
           "CBS News",
           "1759"
          ],
          [
           "Grinnell/Selzer",
           "784"
          ],
          [
           "Reuters/Ipsos",
           "672"
          ],
          [
           "SurveyUSA",
           "2330"
          ],
          [
           "CBS News",
           "2680"
          ],
          [
           "Rasmussen Reports",
           "979"
          ],
          [
           "InsiderAdvantage",
           "850"
          ],
          [
           "Rasmussen Reports",
           "986"
          ]
         ],
         "hovertemplate": "Type of Voter=LV<br>End Date=%{x}<br>Difference=%{y}<br>pollster=%{customdata[0]}<br>Sample Size=%{customdata[1]}<extra></extra>",
         "legendgroup": "LV",
         "marker": {
          "color": "rgb(221,132,82)",
          "symbol": "circle"
         },
         "mode": "markers",
         "name": "LV",
         "orientation": "v",
         "showlegend": true,
         "type": "scatter",
         "x": [
          "2024-01-12T00:00:00",
          "2024-01-09T00:00:00",
          "2023-12-29T00:00:00",
          "2023-12-14T00:00:00",
          "2023-12-07T00:00:00",
          "2023-11-12T00:00:00",
          "2023-11-02T00:00:00",
          "2023-10-15T00:00:00",
          "2023-10-04T00:00:00",
          "2023-10-03T00:00:00",
          "2023-09-15T00:00:00",
          "2023-09-13T00:00:00",
          "2023-08-01T00:00:00",
          "2023-06-14T00:00:00"
         ],
         "xaxis": "x",
         "y": [
          2,
          8,
          1,
          -2,
          10,
          -4,
          3,
          0,
          -1,
          0,
          1,
          -1,
          -1,
          6
         ],
         "yaxis": "y"
        },
        {
         "hovertemplate": "<b>OLS trendline</b><br>Difference = 1.0246e-07 * End Date + -172.417<br>R<sup>2</sup>=0.019365<br><br>Type of Voter=LV<br>End Date=%{x}<br>Difference=%{y} <b>(trend)</b><extra></extra>",
         "legendgroup": "LV",
         "marker": {
          "color": "rgb(221,132,82)",
          "symbol": "circle"
         },
         "mode": "lines",
         "name": "LV",
         "showlegend": false,
         "type": "scatter",
         "x": [
          "2023-06-14T00:00:00",
          "2023-08-01T00:00:00",
          "2023-09-13T00:00:00",
          "2023-09-15T00:00:00",
          "2023-10-03T00:00:00",
          "2023-10-04T00:00:00",
          "2023-10-15T00:00:00",
          "2023-11-02T00:00:00",
          "2023-11-12T00:00:00",
          "2023-12-07T00:00:00",
          "2023-12-14T00:00:00",
          "2023-12-29T00:00:00",
          "2024-01-09T00:00:00",
          "2024-01-12T00:00:00"
         ],
         "xaxis": "x",
         "y": [
          0.40289192783795835,
          0.8278143436890788,
          1.2084740078890408,
          1.2261791085495042,
          1.3855250144936744,
          1.394377564823906,
          1.4917556184564544,
          1.6511015244006246,
          1.7396270277029415,
          1.9609407859587333,
          2.022908638270355,
          2.1556968932238303,
          2.253074946856379,
          2.2796325978470735
         ],
         "yaxis": "y"
        }
       ],
       "layout": {
        "height": 600,
        "legend": {
         "title": {
          "text": "Type of Voter"
         },
         "tracegroupgap": 0
        },
        "template": {
         "data": {
          "bar": [
           {
            "error_x": {
             "color": "rgb(36,36,36)"
            },
            "error_y": {
             "color": "rgb(36,36,36)"
            },
            "marker": {
             "line": {
              "color": "rgb(234,234,242)",
              "width": 0.5
             },
             "pattern": {
              "fillmode": "overlay",
              "size": 10,
              "solidity": 0.2
             }
            },
            "type": "bar"
           }
          ],
          "barpolar": [
           {
            "marker": {
             "line": {
              "color": "rgb(234,234,242)",
              "width": 0.5
             },
             "pattern": {
              "fillmode": "overlay",
              "size": 10,
              "solidity": 0.2
             }
            },
            "type": "barpolar"
           }
          ],
          "carpet": [
           {
            "aaxis": {
             "endlinecolor": "rgb(36,36,36)",
             "gridcolor": "white",
             "linecolor": "white",
             "minorgridcolor": "white",
             "startlinecolor": "rgb(36,36,36)"
            },
            "baxis": {
             "endlinecolor": "rgb(36,36,36)",
             "gridcolor": "white",
             "linecolor": "white",
             "minorgridcolor": "white",
             "startlinecolor": "rgb(36,36,36)"
            },
            "type": "carpet"
           }
          ],
          "choropleth": [
           {
            "colorbar": {
             "outlinewidth": 0,
             "tickcolor": "rgb(36,36,36)",
             "ticklen": 8,
             "ticks": "outside",
             "tickwidth": 2
            },
            "type": "choropleth"
           }
          ],
          "contour": [
           {
            "colorbar": {
             "outlinewidth": 0,
             "tickcolor": "rgb(36,36,36)",
             "ticklen": 8,
             "ticks": "outside",
             "tickwidth": 2
            },
            "colorscale": [
             [
              0,
              "rgb(2,4,25)"
             ],
             [
              0.06274509803921569,
              "rgb(24,15,41)"
             ],
             [
              0.12549019607843137,
              "rgb(47,23,57)"
             ],
             [
              0.18823529411764706,
              "rgb(71,28,72)"
             ],
             [
              0.25098039215686274,
              "rgb(97,30,82)"
             ],
             [
              0.3137254901960784,
              "rgb(123,30,89)"
             ],
             [
              0.3764705882352941,
              "rgb(150,27,91)"
             ],
             [
              0.4392156862745098,
              "rgb(177,22,88)"
             ],
             [
              0.5019607843137255,
              "rgb(203,26,79)"
             ],
             [
              0.5647058823529412,
              "rgb(223,47,67)"
             ],
             [
              0.6274509803921569,
              "rgb(236,76,61)"
             ],
             [
              0.6901960784313725,
              "rgb(242,107,73)"
             ],
             [
              0.7529411764705882,
              "rgb(244,135,95)"
             ],
             [
              0.8156862745098039,
              "rgb(245,162,122)"
             ],
             [
              0.8784313725490196,
              "rgb(246,188,153)"
             ],
             [
              0.9411764705882353,
              "rgb(247,212,187)"
             ],
             [
              1,
              "rgb(250,234,220)"
             ]
            ],
            "type": "contour"
           }
          ],
          "contourcarpet": [
           {
            "colorbar": {
             "outlinewidth": 0,
             "tickcolor": "rgb(36,36,36)",
             "ticklen": 8,
             "ticks": "outside",
             "tickwidth": 2
            },
            "type": "contourcarpet"
           }
          ],
          "heatmap": [
           {
            "colorbar": {
             "outlinewidth": 0,
             "tickcolor": "rgb(36,36,36)",
             "ticklen": 8,
             "ticks": "outside",
             "tickwidth": 2
            },
            "colorscale": [
             [
              0,
              "rgb(2,4,25)"
             ],
             [
              0.06274509803921569,
              "rgb(24,15,41)"
             ],
             [
              0.12549019607843137,
              "rgb(47,23,57)"
             ],
             [
              0.18823529411764706,
              "rgb(71,28,72)"
             ],
             [
              0.25098039215686274,
              "rgb(97,30,82)"
             ],
             [
              0.3137254901960784,
              "rgb(123,30,89)"
             ],
             [
              0.3764705882352941,
              "rgb(150,27,91)"
             ],
             [
              0.4392156862745098,
              "rgb(177,22,88)"
             ],
             [
              0.5019607843137255,
              "rgb(203,26,79)"
             ],
             [
              0.5647058823529412,
              "rgb(223,47,67)"
             ],
             [
              0.6274509803921569,
              "rgb(236,76,61)"
             ],
             [
              0.6901960784313725,
              "rgb(242,107,73)"
             ],
             [
              0.7529411764705882,
              "rgb(244,135,95)"
             ],
             [
              0.8156862745098039,
              "rgb(245,162,122)"
             ],
             [
              0.8784313725490196,
              "rgb(246,188,153)"
             ],
             [
              0.9411764705882353,
              "rgb(247,212,187)"
             ],
             [
              1,
              "rgb(250,234,220)"
             ]
            ],
            "type": "heatmap"
           }
          ],
          "heatmapgl": [
           {
            "colorbar": {
             "outlinewidth": 0,
             "tickcolor": "rgb(36,36,36)",
             "ticklen": 8,
             "ticks": "outside",
             "tickwidth": 2
            },
            "colorscale": [
             [
              0,
              "rgb(2,4,25)"
             ],
             [
              0.06274509803921569,
              "rgb(24,15,41)"
             ],
             [
              0.12549019607843137,
              "rgb(47,23,57)"
             ],
             [
              0.18823529411764706,
              "rgb(71,28,72)"
             ],
             [
              0.25098039215686274,
              "rgb(97,30,82)"
             ],
             [
              0.3137254901960784,
              "rgb(123,30,89)"
             ],
             [
              0.3764705882352941,
              "rgb(150,27,91)"
             ],
             [
              0.4392156862745098,
              "rgb(177,22,88)"
             ],
             [
              0.5019607843137255,
              "rgb(203,26,79)"
             ],
             [
              0.5647058823529412,
              "rgb(223,47,67)"
             ],
             [
              0.6274509803921569,
              "rgb(236,76,61)"
             ],
             [
              0.6901960784313725,
              "rgb(242,107,73)"
             ],
             [
              0.7529411764705882,
              "rgb(244,135,95)"
             ],
             [
              0.8156862745098039,
              "rgb(245,162,122)"
             ],
             [
              0.8784313725490196,
              "rgb(246,188,153)"
             ],
             [
              0.9411764705882353,
              "rgb(247,212,187)"
             ],
             [
              1,
              "rgb(250,234,220)"
             ]
            ],
            "type": "heatmapgl"
           }
          ],
          "histogram": [
           {
            "marker": {
             "pattern": {
              "fillmode": "overlay",
              "size": 10,
              "solidity": 0.2
             }
            },
            "type": "histogram"
           }
          ],
          "histogram2d": [
           {
            "colorbar": {
             "outlinewidth": 0,
             "tickcolor": "rgb(36,36,36)",
             "ticklen": 8,
             "ticks": "outside",
             "tickwidth": 2
            },
            "colorscale": [
             [
              0,
              "rgb(2,4,25)"
             ],
             [
              0.06274509803921569,
              "rgb(24,15,41)"
             ],
             [
              0.12549019607843137,
              "rgb(47,23,57)"
             ],
             [
              0.18823529411764706,
              "rgb(71,28,72)"
             ],
             [
              0.25098039215686274,
              "rgb(97,30,82)"
             ],
             [
              0.3137254901960784,
              "rgb(123,30,89)"
             ],
             [
              0.3764705882352941,
              "rgb(150,27,91)"
             ],
             [
              0.4392156862745098,
              "rgb(177,22,88)"
             ],
             [
              0.5019607843137255,
              "rgb(203,26,79)"
             ],
             [
              0.5647058823529412,
              "rgb(223,47,67)"
             ],
             [
              0.6274509803921569,
              "rgb(236,76,61)"
             ],
             [
              0.6901960784313725,
              "rgb(242,107,73)"
             ],
             [
              0.7529411764705882,
              "rgb(244,135,95)"
             ],
             [
              0.8156862745098039,
              "rgb(245,162,122)"
             ],
             [
              0.8784313725490196,
              "rgb(246,188,153)"
             ],
             [
              0.9411764705882353,
              "rgb(247,212,187)"
             ],
             [
              1,
              "rgb(250,234,220)"
             ]
            ],
            "type": "histogram2d"
           }
          ],
          "histogram2dcontour": [
           {
            "colorbar": {
             "outlinewidth": 0,
             "tickcolor": "rgb(36,36,36)",
             "ticklen": 8,
             "ticks": "outside",
             "tickwidth": 2
            },
            "colorscale": [
             [
              0,
              "rgb(2,4,25)"
             ],
             [
              0.06274509803921569,
              "rgb(24,15,41)"
             ],
             [
              0.12549019607843137,
              "rgb(47,23,57)"
             ],
             [
              0.18823529411764706,
              "rgb(71,28,72)"
             ],
             [
              0.25098039215686274,
              "rgb(97,30,82)"
             ],
             [
              0.3137254901960784,
              "rgb(123,30,89)"
             ],
             [
              0.3764705882352941,
              "rgb(150,27,91)"
             ],
             [
              0.4392156862745098,
              "rgb(177,22,88)"
             ],
             [
              0.5019607843137255,
              "rgb(203,26,79)"
             ],
             [
              0.5647058823529412,
              "rgb(223,47,67)"
             ],
             [
              0.6274509803921569,
              "rgb(236,76,61)"
             ],
             [
              0.6901960784313725,
              "rgb(242,107,73)"
             ],
             [
              0.7529411764705882,
              "rgb(244,135,95)"
             ],
             [
              0.8156862745098039,
              "rgb(245,162,122)"
             ],
             [
              0.8784313725490196,
              "rgb(246,188,153)"
             ],
             [
              0.9411764705882353,
              "rgb(247,212,187)"
             ],
             [
              1,
              "rgb(250,234,220)"
             ]
            ],
            "type": "histogram2dcontour"
           }
          ],
          "mesh3d": [
           {
            "colorbar": {
             "outlinewidth": 0,
             "tickcolor": "rgb(36,36,36)",
             "ticklen": 8,
             "ticks": "outside",
             "tickwidth": 2
            },
            "type": "mesh3d"
           }
          ],
          "parcoords": [
           {
            "line": {
             "colorbar": {
              "outlinewidth": 0,
              "tickcolor": "rgb(36,36,36)",
              "ticklen": 8,
              "ticks": "outside",
              "tickwidth": 2
             }
            },
            "type": "parcoords"
           }
          ],
          "pie": [
           {
            "automargin": true,
            "type": "pie"
           }
          ],
          "scatter": [
           {
            "fillpattern": {
             "fillmode": "overlay",
             "size": 10,
             "solidity": 0.2
            },
            "type": "scatter"
           }
          ],
          "scatter3d": [
           {
            "line": {
             "colorbar": {
              "outlinewidth": 0,
              "tickcolor": "rgb(36,36,36)",
              "ticklen": 8,
              "ticks": "outside",
              "tickwidth": 2
             }
            },
            "marker": {
             "colorbar": {
              "outlinewidth": 0,
              "tickcolor": "rgb(36,36,36)",
              "ticklen": 8,
              "ticks": "outside",
              "tickwidth": 2
             }
            },
            "type": "scatter3d"
           }
          ],
          "scattercarpet": [
           {
            "marker": {
             "colorbar": {
              "outlinewidth": 0,
              "tickcolor": "rgb(36,36,36)",
              "ticklen": 8,
              "ticks": "outside",
              "tickwidth": 2
             }
            },
            "type": "scattercarpet"
           }
          ],
          "scattergeo": [
           {
            "marker": {
             "colorbar": {
              "outlinewidth": 0,
              "tickcolor": "rgb(36,36,36)",
              "ticklen": 8,
              "ticks": "outside",
              "tickwidth": 2
             }
            },
            "type": "scattergeo"
           }
          ],
          "scattergl": [
           {
            "marker": {
             "colorbar": {
              "outlinewidth": 0,
              "tickcolor": "rgb(36,36,36)",
              "ticklen": 8,
              "ticks": "outside",
              "tickwidth": 2
             }
            },
            "type": "scattergl"
           }
          ],
          "scattermapbox": [
           {
            "marker": {
             "colorbar": {
              "outlinewidth": 0,
              "tickcolor": "rgb(36,36,36)",
              "ticklen": 8,
              "ticks": "outside",
              "tickwidth": 2
             }
            },
            "type": "scattermapbox"
           }
          ],
          "scatterpolar": [
           {
            "marker": {
             "colorbar": {
              "outlinewidth": 0,
              "tickcolor": "rgb(36,36,36)",
              "ticklen": 8,
              "ticks": "outside",
              "tickwidth": 2
             }
            },
            "type": "scatterpolar"
           }
          ],
          "scatterpolargl": [
           {
            "marker": {
             "colorbar": {
              "outlinewidth": 0,
              "tickcolor": "rgb(36,36,36)",
              "ticklen": 8,
              "ticks": "outside",
              "tickwidth": 2
             }
            },
            "type": "scatterpolargl"
           }
          ],
          "scatterternary": [
           {
            "marker": {
             "colorbar": {
              "outlinewidth": 0,
              "tickcolor": "rgb(36,36,36)",
              "ticklen": 8,
              "ticks": "outside",
              "tickwidth": 2
             }
            },
            "type": "scatterternary"
           }
          ],
          "surface": [
           {
            "colorbar": {
             "outlinewidth": 0,
             "tickcolor": "rgb(36,36,36)",
             "ticklen": 8,
             "ticks": "outside",
             "tickwidth": 2
            },
            "colorscale": [
             [
              0,
              "rgb(2,4,25)"
             ],
             [
              0.06274509803921569,
              "rgb(24,15,41)"
             ],
             [
              0.12549019607843137,
              "rgb(47,23,57)"
             ],
             [
              0.18823529411764706,
              "rgb(71,28,72)"
             ],
             [
              0.25098039215686274,
              "rgb(97,30,82)"
             ],
             [
              0.3137254901960784,
              "rgb(123,30,89)"
             ],
             [
              0.3764705882352941,
              "rgb(150,27,91)"
             ],
             [
              0.4392156862745098,
              "rgb(177,22,88)"
             ],
             [
              0.5019607843137255,
              "rgb(203,26,79)"
             ],
             [
              0.5647058823529412,
              "rgb(223,47,67)"
             ],
             [
              0.6274509803921569,
              "rgb(236,76,61)"
             ],
             [
              0.6901960784313725,
              "rgb(242,107,73)"
             ],
             [
              0.7529411764705882,
              "rgb(244,135,95)"
             ],
             [
              0.8156862745098039,
              "rgb(245,162,122)"
             ],
             [
              0.8784313725490196,
              "rgb(246,188,153)"
             ],
             [
              0.9411764705882353,
              "rgb(247,212,187)"
             ],
             [
              1,
              "rgb(250,234,220)"
             ]
            ],
            "type": "surface"
           }
          ],
          "table": [
           {
            "cells": {
             "fill": {
              "color": "rgb(231,231,240)"
             },
             "line": {
              "color": "white"
             }
            },
            "header": {
             "fill": {
              "color": "rgb(183,183,191)"
             },
             "line": {
              "color": "white"
             }
            },
            "type": "table"
           }
          ]
         },
         "layout": {
          "annotationdefaults": {
           "arrowcolor": "rgb(67,103,167)"
          },
          "autotypenumbers": "strict",
          "coloraxis": {
           "colorbar": {
            "outlinewidth": 0,
            "tickcolor": "rgb(36,36,36)",
            "ticklen": 8,
            "ticks": "outside",
            "tickwidth": 2
           }
          },
          "colorscale": {
           "sequential": [
            [
             0,
             "rgb(2,4,25)"
            ],
            [
             0.06274509803921569,
             "rgb(24,15,41)"
            ],
            [
             0.12549019607843137,
             "rgb(47,23,57)"
            ],
            [
             0.18823529411764706,
             "rgb(71,28,72)"
            ],
            [
             0.25098039215686274,
             "rgb(97,30,82)"
            ],
            [
             0.3137254901960784,
             "rgb(123,30,89)"
            ],
            [
             0.3764705882352941,
             "rgb(150,27,91)"
            ],
            [
             0.4392156862745098,
             "rgb(177,22,88)"
            ],
            [
             0.5019607843137255,
             "rgb(203,26,79)"
            ],
            [
             0.5647058823529412,
             "rgb(223,47,67)"
            ],
            [
             0.6274509803921569,
             "rgb(236,76,61)"
            ],
            [
             0.6901960784313725,
             "rgb(242,107,73)"
            ],
            [
             0.7529411764705882,
             "rgb(244,135,95)"
            ],
            [
             0.8156862745098039,
             "rgb(245,162,122)"
            ],
            [
             0.8784313725490196,
             "rgb(246,188,153)"
            ],
            [
             0.9411764705882353,
             "rgb(247,212,187)"
            ],
            [
             1,
             "rgb(250,234,220)"
            ]
           ],
           "sequentialminus": [
            [
             0,
             "rgb(2,4,25)"
            ],
            [
             0.06274509803921569,
             "rgb(24,15,41)"
            ],
            [
             0.12549019607843137,
             "rgb(47,23,57)"
            ],
            [
             0.18823529411764706,
             "rgb(71,28,72)"
            ],
            [
             0.25098039215686274,
             "rgb(97,30,82)"
            ],
            [
             0.3137254901960784,
             "rgb(123,30,89)"
            ],
            [
             0.3764705882352941,
             "rgb(150,27,91)"
            ],
            [
             0.4392156862745098,
             "rgb(177,22,88)"
            ],
            [
             0.5019607843137255,
             "rgb(203,26,79)"
            ],
            [
             0.5647058823529412,
             "rgb(223,47,67)"
            ],
            [
             0.6274509803921569,
             "rgb(236,76,61)"
            ],
            [
             0.6901960784313725,
             "rgb(242,107,73)"
            ],
            [
             0.7529411764705882,
             "rgb(244,135,95)"
            ],
            [
             0.8156862745098039,
             "rgb(245,162,122)"
            ],
            [
             0.8784313725490196,
             "rgb(246,188,153)"
            ],
            [
             0.9411764705882353,
             "rgb(247,212,187)"
            ],
            [
             1,
             "rgb(250,234,220)"
            ]
           ]
          },
          "colorway": [
           "rgb(76,114,176)",
           "rgb(221,132,82)",
           "rgb(85,168,104)",
           "rgb(196,78,82)",
           "rgb(129,114,179)",
           "rgb(147,120,96)",
           "rgb(218,139,195)",
           "rgb(140,140,140)",
           "rgb(204,185,116)",
           "rgb(100,181,205)"
          ],
          "font": {
           "color": "rgb(36,36,36)"
          },
          "geo": {
           "bgcolor": "white",
           "lakecolor": "white",
           "landcolor": "rgb(234,234,242)",
           "showlakes": true,
           "showland": true,
           "subunitcolor": "white"
          },
          "hoverlabel": {
           "align": "left"
          },
          "hovermode": "closest",
          "paper_bgcolor": "white",
          "plot_bgcolor": "rgb(234,234,242)",
          "polar": {
           "angularaxis": {
            "gridcolor": "white",
            "linecolor": "white",
            "showgrid": true,
            "ticks": ""
           },
           "bgcolor": "rgb(234,234,242)",
           "radialaxis": {
            "gridcolor": "white",
            "linecolor": "white",
            "showgrid": true,
            "ticks": ""
           }
          },
          "scene": {
           "xaxis": {
            "backgroundcolor": "rgb(234,234,242)",
            "gridcolor": "white",
            "gridwidth": 2,
            "linecolor": "white",
            "showbackground": true,
            "showgrid": true,
            "ticks": "",
            "zerolinecolor": "white"
           },
           "yaxis": {
            "backgroundcolor": "rgb(234,234,242)",
            "gridcolor": "white",
            "gridwidth": 2,
            "linecolor": "white",
            "showbackground": true,
            "showgrid": true,
            "ticks": "",
            "zerolinecolor": "white"
           },
           "zaxis": {
            "backgroundcolor": "rgb(234,234,242)",
            "gridcolor": "white",
            "gridwidth": 2,
            "linecolor": "white",
            "showbackground": true,
            "showgrid": true,
            "ticks": "",
            "zerolinecolor": "white"
           }
          },
          "shapedefaults": {
           "fillcolor": "rgb(67,103,167)",
           "line": {
            "width": 0
           },
           "opacity": 0.5
          },
          "ternary": {
           "aaxis": {
            "gridcolor": "white",
            "linecolor": "white",
            "showgrid": true,
            "ticks": ""
           },
           "baxis": {
            "gridcolor": "white",
            "linecolor": "white",
            "showgrid": true,
            "ticks": ""
           },
           "bgcolor": "rgb(234,234,242)",
           "caxis": {
            "gridcolor": "white",
            "linecolor": "white",
            "showgrid": true,
            "ticks": ""
           }
          },
          "xaxis": {
           "automargin": true,
           "gridcolor": "white",
           "linecolor": "white",
           "showgrid": true,
           "ticks": "",
           "title": {
            "standoff": 15
           },
           "zerolinecolor": "white"
          },
          "yaxis": {
           "automargin": true,
           "gridcolor": "white",
           "linecolor": "white",
           "showgrid": true,
           "ticks": "",
           "title": {
            "standoff": 15
           },
           "zerolinecolor": "white"
          }
         }
        },
        "title": {
         "text": "Trump Biden Spread"
        },
        "width": 1000,
        "xaxis": {
         "anchor": "y",
         "domain": [
          0,
          1
         ],
         "title": {
          "text": "End Date"
         }
        },
        "yaxis": {
         "anchor": "x",
         "domain": [
          0,
          1
         ],
         "title": {
          "text": "Difference"
         }
        }
       }
      }
     },
     "metadata": {},
     "output_type": "display_data"
    }
   ],
   "source": [
    "\n",
    "\n",
    "# Assuming df is your DataFrame with time series data\n",
    "# Make sure the DataFrame has a column with datetime values\n",
    "\n",
    "# Create a simple time series chart using plotly express\n",
    "fig = px.scatter(df, x='End Date', y='Difference', trendline= \"ols\", title='Trump Biden Spread',\n",
    "              labels={'value_column': 'Y-axis Label', 'datetime_column': 'X-axis Label'},\n",
    "              color = 'Type of Voter',\n",
    "                hover_data=['pollster', 'Sample Size'],\n",
    "              template='seaborn', width=1000, height=600\n",
    "              )\n",
    "fig.show()"
   ]
  },
  {
   "cell_type": "markdown",
   "metadata": {},
   "source": [
    "## LV vs. RVs Time Series Analysis\n",
    "\n",
    "Also adjust for who is taking the poll/bias. Plus recency weighted bias. \n",
    "Predict spread based on LV vs. RV, date, and polling company. Work with ARIMA model, with dummy variables for polling companies.\n",
    "Baseline prediction could be realclear spread at that time. And then we can compare whether the spread is better or worse than our prediction. \n",
    "\n",
    "Look for differences between Joe Biden Voters and Liberal Voters, as well as Trump Voters and Conservative voters. Has anything changed?"
   ]
  },
  {
   "cell_type": "markdown",
   "metadata": {},
   "source": [
    "Difference between overall favorability, and job approval.\n",
    "\n",
    "Compare likely to vote for, vs. past voting."
   ]
  },
  {
   "cell_type": "code",
   "execution_count": 6,
   "metadata": {},
   "outputs": [
    {
     "name": "stdout",
     "output_type": "stream",
     "text": [
      "Mean Squared Error: 9.029766610168478\n"
     ]
    },
    {
     "name": "stderr",
     "output_type": "stream",
     "text": [
      "/Users/robbiefeldstein/anaconda3/lib/python3.11/site-packages/statsmodels/tsa/base/tsa_model.py:473: ValueWarning:\n",
      "\n",
      "A date index has been provided, but it has no associated frequency information and so will be ignored when e.g. forecasting.\n",
      "\n",
      "/Users/robbiefeldstein/anaconda3/lib/python3.11/site-packages/statsmodels/tsa/base/tsa_model.py:473: ValueWarning:\n",
      "\n",
      "A date index has been provided, but it has no associated frequency information and so will be ignored when e.g. forecasting.\n",
      "\n",
      "/Users/robbiefeldstein/anaconda3/lib/python3.11/site-packages/statsmodels/tsa/base/tsa_model.py:473: ValueWarning:\n",
      "\n",
      "A date index has been provided, but it has no associated frequency information and so will be ignored when e.g. forecasting.\n",
      "\n",
      "/Users/robbiefeldstein/anaconda3/lib/python3.11/site-packages/statsmodels/tsa/base/tsa_model.py:836: ValueWarning:\n",
      "\n",
      "No supported index is available. Prediction results will be given with an integer index beginning at `start`.\n",
      "\n"
     ]
    },
    {
     "data": {
      "image/png": "[encoded data removed]",
      "text/plain": [
       "<Figure size 1200x600 with 1 Axes>"
      ]
     },
     "metadata": {},
     "output_type": "display_data"
    }
   ],
   "source": [
    "#Time Series Modeling (ARIMA)\n",
    "\n",
    "#Spread = Poll Company + Type of Voter + Date + Sample Size?\n",
    "\n",
    "from statsmodels.tsa.arima.model import ARIMA\n",
    "from sklearn.metrics import mean_squared_error\n",
    "\n",
    "ndf = df.copy()\n",
    "\n",
    "\n",
    "ndf.set_index('End Date', inplace=True)\n",
    "ndf.sort_index(inplace=True)\n",
    "\n",
    "# Train-Test Split\n",
    "train_size = int(len(ndf) * 0.8)\n",
    "train, test = ndf[:train_size], ndf[train_size:]\n",
    "\n",
    "# ARIMA Model\n",
    "order = (1, 0, 0)  # Set appropriate values for p, d, q\n",
    "model = ARIMA(train['Difference'], order=order)\n",
    "fit_model = model.fit()\n",
    "\n",
    "# Model Prediction\n",
    "predictions = fit_model.predict(start=len(train), end=len(train) + len(test) - 1, typ='levels')\n",
    "\n",
    "# Model Evaluation\n",
    "mse = mean_squared_error(test['Difference'], predictions)\n",
    "print(f'Mean Squared Error: {mse}')\n",
    "\n",
    "plt.figure(figsize=(12, 6))\n",
    "plt.plot(train.index, train['Difference'], label='Training Data')\n",
    "plt.plot(test.index, test['Difference'], label='Test Data')\n",
    "plt.plot(test.index, predictions, label='Predictions', linestyle='dashed')\n",
    "\n",
    "plt.title('ARIMA Model - Actual vs Predicted')\n",
    "plt.xlabel('End Date')\n",
    "plt.ylabel('Difference')\n",
    "plt.legend()\n",
    "plt.show()\n"
   ]
  },
  {
   "cell_type": "code",
   "execution_count": 7,
   "metadata": {},
   "outputs": [
    {
     "name": "stdout",
     "output_type": "stream",
     "text": [
      "Mean Squared Error: 5.164013205958607\n"
     ]
    }
   ],
   "source": [
    "#Need to figure out how to get the pollster in here\n",
    "\n",
    "from sklearn.model_selection import train_test_split\n",
    "from sklearn.linear_model import LinearRegression\n",
    "from sklearn.metrics import mean_squared_error\n",
    "from sklearn.preprocessing import OneHotEncoder\n",
    "from sklearn.compose import ColumnTransformer\n",
    "from sklearn.pipeline import Pipeline\n",
    "from sklearn.ensemble import GradientBoostingRegressor\n",
    "from sklearn.linear_model import SGDRegressor\n",
    "\n",
    "\n",
    "\n",
    "ndf = df.copy()\n",
    "ndf[\"Year\"] = ndf[\"End Date\"].dt.year\n",
    "ndf[\"Month\"] = ndf[\"End Date\"].dt.month\n",
    "ndf[\"Day\"] = ndf[\"End Date\"].dt.day\n",
    "\n",
    "# Feature selection\n",
    "features = ['Type of Voter', 'Sample Size', 'pollster', 'Year', 'Month', 'Day']\n",
    "X = ndf[features]\n",
    "y = ndf['Difference']\n",
    "\n",
    "# Split the data into training and testing sets\n",
    "X_train, X_test, y_train, y_test = train_test_split(X, y, test_size=0.2, random_state=42)\n",
    "\n",
    "# Use OneHotEncoder for categorical variables and keep numeric variables as is\n",
    "preprocessor = ColumnTransformer(\n",
    "    transformers=[\n",
    "        ('cat', OneHotEncoder(), ['Type of Voter']),\n",
    "        ('num', 'passthrough', ['Sample Size', 'Year', 'Month', 'Day'])\n",
    "    ])\n",
    "\n",
    "# Create a pipeline with preprocessing and regression model\n",
    "model = Pipeline(steps=[('preprocessor', preprocessor),\n",
    "                        ('regressor', GradientBoostingRegressor())])\n",
    "\n",
    "# Train the model\n",
    "model.fit(X_train, y_train)\n",
    "\n",
    "# Make predictions on the test set\n",
    "predictions = model.predict(X_test)\n",
    "\n",
    "# Evaluate the model\n",
    "mse = mean_squared_error(y_test, predictions)\n",
    "print(f'Mean Squared Error: {mse}')\n",
    "\n",
    "\n"
   ]
  },
  {
   "cell_type": "code",
   "execution_count": 8,
   "metadata": {},
   "outputs": [
    {
     "data": {
      "image/png": "[encoded data removed]",
      "text/plain": [
       "<Figure size 1200x600 with 1 Axes>"
      ]
     },
     "metadata": {},
     "output_type": "display_data"
    }
   ],
   "source": [
    "#plot the above model\n",
    "\n",
    "plt.figure(figsize=(12, 6))\n",
    "plt.scatter(X_test.index, y_test, label='Test Data')\n",
    "plt.scatter(X_test.index, predictions, label='Predictions', linestyle='dashed')\n",
    "\n",
    "plt.title('Linear Regression Model - Actual vs Predicted')\n",
    "\n",
    "plt.xlabel('End Date')\n",
    "\n",
    "plt.ylabel('Difference')\n",
    "\n",
    "plt.legend()\n",
    "plt.show()\n"
   ]
  },
  {
   "cell_type": "markdown",
   "metadata": {},
   "source": [
    "# RFK Junior Polls"
   ]
  },
  {
   "cell_type": "code",
   "execution_count": 9,
   "metadata": {},
   "outputs": [],
   "source": [
    "#Load in the Wikipedia table data\n",
    "\n",
    "url = \"https://en.wikipedia.org/wiki/Nationwide_opinion_polling_for_the_2024_United_States_presidential_election\" \n",
    "driver = webdriver.Chrome()\n",
    "\n",
    "driver.get(url)\n",
    "\n",
    "# Allow time for dynamic content to load (you may need to adjust the sleep duration)\n",
    "time.sleep(3)\n",
    "\n",
    "# Get the page source after dynamic content has loaded\n",
    "html_content = driver.page_source\n",
    "\n",
    "# Close the webdriver\n",
    "driver.quit()\n",
    "\n",
    "# Parse the HTML content with BeautifulSoup\n",
    "\n",
    "soup = BeautifulSoup(html_content, 'html5lib')\n",
    "\n",
    "# Now you can extract the table data using the same approach as before\n",
    "table_dat = soup.find_all('table')\n",
    "\n",
    "table = table_dat[10]\n"
   ]
  },
  {
   "cell_type": "code",
   "execution_count": 10,
   "metadata": {},
   "outputs": [
    {
     "data": {
      "text/html": [
       "<div>\n",
       "<style scoped>\n",
       "    .dataframe tbody tr th:only-of-type {\n",
       "        vertical-align: middle;\n",
       "    }\n",
       "\n",
       "    .dataframe tbody tr th {\n",
       "        vertical-align: top;\n",
       "    }\n",
       "\n",
       "    .dataframe thead th {\n",
       "        text-align: right;\n",
       "    }\n",
       "</style>\n",
       "<table border=\"1\" class=\"dataframe\">\n",
       "  <thead>\n",
       "    <tr style=\"text-align: right;\">\n",
       "      <th></th>\n",
       "      <th>Poll source</th>\n",
       "      <th>Date</th>\n",
       "      <th>Samplesize[b]</th>\n",
       "      <th>Marginof error</th>\n",
       "      <th>JoeBidenDemocratic</th>\n",
       "      <th>DonaldTrumpRepublican</th>\n",
       "      <th>Robert F.Kennedy Jr.Independent</th>\n",
       "      <th>Other/Undecided</th>\n",
       "    </tr>\n",
       "  </thead>\n",
       "  <tbody>\n",
       "    <tr>\n",
       "      <th>0</th>\n",
       "      <td>Reuters/Ipsos</td>\n",
       "      <td>January 3–9, 2024</td>\n",
       "      <td>4,677 (RV)</td>\n",
       "      <td>± 1.5%</td>\n",
       "      <td>29%</td>\n",
       "      <td>30%</td>\n",
       "      <td>18%</td>\n",
       "      <td>23%</td>\n",
       "    </tr>\n",
       "    <tr>\n",
       "      <th>1</th>\n",
       "      <td>Quinnipiac University</td>\n",
       "      <td>December 14–18, 2023</td>\n",
       "      <td>1,647 (RV)</td>\n",
       "      <td>± 2.4%</td>\n",
       "      <td>38%</td>\n",
       "      <td>36%</td>\n",
       "      <td>22%</td>\n",
       "      <td>4%</td>\n",
       "    </tr>\n",
       "    <tr>\n",
       "      <th>2</th>\n",
       "      <td>Rasmussen Reports</td>\n",
       "      <td>December 6–7 &amp; 10, 2023</td>\n",
       "      <td>892 (LV)</td>\n",
       "      <td>± 3.0%</td>\n",
       "      <td>32%</td>\n",
       "      <td>40%</td>\n",
       "      <td>16%</td>\n",
       "      <td>12%[j]</td>\n",
       "    </tr>\n",
       "    <tr>\n",
       "      <th>3</th>\n",
       "      <td>Cygnal (R)</td>\n",
       "      <td>December 5–7, 2023</td>\n",
       "      <td>2,000 (LV)</td>\n",
       "      <td>± 2.16%</td>\n",
       "      <td>42%</td>\n",
       "      <td>43%</td>\n",
       "      <td>9%</td>\n",
       "      <td>6%</td>\n",
       "    </tr>\n",
       "    <tr>\n",
       "      <th>4</th>\n",
       "      <td>Harvard/Harris</td>\n",
       "      <td>November 15–16, 2023</td>\n",
       "      <td>2,851 (RV)</td>\n",
       "      <td>–</td>\n",
       "      <td>36%</td>\n",
       "      <td>44%</td>\n",
       "      <td>21%</td>\n",
       "      <td>0%</td>\n",
       "    </tr>\n",
       "  </tbody>\n",
       "</table>\n",
       "</div>"
      ],
      "text/plain": [
       "             Poll source                     Date Samplesize[b]  \\\n",
       "0          Reuters/Ipsos        January 3–9, 2024    4,677 (RV)   \n",
       "1  Quinnipiac University     December 14–18, 2023    1,647 (RV)   \n",
       "2      Rasmussen Reports  December 6–7 & 10, 2023      892 (LV)   \n",
       "3             Cygnal (R)       December 5–7, 2023    2,000 (LV)   \n",
       "4         Harvard/Harris     November 15–16, 2023    2,851 (RV)   \n",
       "\n",
       "  Marginof error JoeBidenDemocratic DonaldTrumpRepublican  \\\n",
       "0         ± 1.5%                29%                   30%   \n",
       "1         ± 2.4%                38%                   36%   \n",
       "2         ± 3.0%                32%                   40%   \n",
       "3        ± 2.16%                42%                   43%   \n",
       "4              –                36%                   44%   \n",
       "\n",
       "  Robert F.Kennedy Jr.Independent Other/Undecided  \n",
       "0                             18%             23%  \n",
       "1                             22%              4%  \n",
       "2                             16%          12%[j]  \n",
       "3                              9%              6%  \n",
       "4                             21%              0%  "
      ]
     },
     "execution_count": 10,
     "metadata": {},
     "output_type": "execute_result"
    }
   ],
   "source": [
    "table_data = []\n",
    "for row in table.find_all('tr'):\n",
    "    row_data = [cell.text.strip() for cell in row.find_all(['td','th'])]\n",
    "    table_data.append(row_data)\n",
    "\n",
    "#Convert table data to a dataframe\n",
    "#We remove the first row since this is RCP summary data that we don't want to use\n",
    "    \n",
    "df = pd.DataFrame(table_data[1:], columns=table_data[0])\n",
    "df.head()\n"
   ]
  },
  {
   "cell_type": "code",
   "execution_count": 11,
   "metadata": {},
   "outputs": [
    {
     "data": {
      "text/html": [
       "<div>\n",
       "<style scoped>\n",
       "    .dataframe tbody tr th:only-of-type {\n",
       "        vertical-align: middle;\n",
       "    }\n",
       "\n",
       "    .dataframe tbody tr th {\n",
       "        vertical-align: top;\n",
       "    }\n",
       "\n",
       "    .dataframe thead th {\n",
       "        text-align: right;\n",
       "    }\n",
       "</style>\n",
       "<table border=\"1\" class=\"dataframe\">\n",
       "  <thead>\n",
       "    <tr style=\"text-align: right;\">\n",
       "      <th></th>\n",
       "      <th>Poll source</th>\n",
       "      <th>Date</th>\n",
       "      <th>Samplesize[b]</th>\n",
       "      <th>Marginof error</th>\n",
       "      <th>JoeBidenDemocratic</th>\n",
       "      <th>DonaldTrumpRepublican</th>\n",
       "      <th>Robert F.Kennedy Jr.Independent</th>\n",
       "      <th>Other/Undecided</th>\n",
       "      <th>Year</th>\n",
       "      <th>Month</th>\n",
       "      <th>Day</th>\n",
       "      <th>Spread</th>\n",
       "    </tr>\n",
       "    <tr>\n",
       "      <th>New Date</th>\n",
       "      <th></th>\n",
       "      <th></th>\n",
       "      <th></th>\n",
       "      <th></th>\n",
       "      <th></th>\n",
       "      <th></th>\n",
       "      <th></th>\n",
       "      <th></th>\n",
       "      <th></th>\n",
       "      <th></th>\n",
       "      <th></th>\n",
       "      <th></th>\n",
       "    </tr>\n",
       "  </thead>\n",
       "  <tbody>\n",
       "    <tr>\n",
       "      <th>2024-01-03</th>\n",
       "      <td>Reuters/Ipsos</td>\n",
       "      <td>January 3–9, 2024</td>\n",
       "      <td>4,677 (RV)</td>\n",
       "      <td>± 1.5%</td>\n",
       "      <td>0.29</td>\n",
       "      <td>0.30</td>\n",
       "      <td>0.18</td>\n",
       "      <td>23%</td>\n",
       "      <td>2024</td>\n",
       "      <td>January</td>\n",
       "      <td>3</td>\n",
       "      <td>0.01</td>\n",
       "    </tr>\n",
       "    <tr>\n",
       "      <th>2023-12-14</th>\n",
       "      <td>Quinnipiac University</td>\n",
       "      <td>December 14–18, 2023</td>\n",
       "      <td>1,647 (RV)</td>\n",
       "      <td>± 2.4%</td>\n",
       "      <td>0.38</td>\n",
       "      <td>0.36</td>\n",
       "      <td>0.22</td>\n",
       "      <td>4%</td>\n",
       "      <td>2023</td>\n",
       "      <td>December</td>\n",
       "      <td>14</td>\n",
       "      <td>-0.02</td>\n",
       "    </tr>\n",
       "    <tr>\n",
       "      <th>2023-12-06</th>\n",
       "      <td>Rasmussen Reports</td>\n",
       "      <td>December 6–7 &amp; 10, 2023</td>\n",
       "      <td>892 (LV)</td>\n",
       "      <td>± 3.0%</td>\n",
       "      <td>0.32</td>\n",
       "      <td>0.40</td>\n",
       "      <td>0.16</td>\n",
       "      <td>12%[j]</td>\n",
       "      <td>2023</td>\n",
       "      <td>December</td>\n",
       "      <td>6</td>\n",
       "      <td>0.08</td>\n",
       "    </tr>\n",
       "    <tr>\n",
       "      <th>2023-12-05</th>\n",
       "      <td>Cygnal (R)</td>\n",
       "      <td>December 5–7, 2023</td>\n",
       "      <td>2,000 (LV)</td>\n",
       "      <td>± 2.16%</td>\n",
       "      <td>0.42</td>\n",
       "      <td>0.43</td>\n",
       "      <td>0.09</td>\n",
       "      <td>6%</td>\n",
       "      <td>2023</td>\n",
       "      <td>December</td>\n",
       "      <td>5</td>\n",
       "      <td>0.01</td>\n",
       "    </tr>\n",
       "    <tr>\n",
       "      <th>2023-11-15</th>\n",
       "      <td>Harvard/Harris</td>\n",
       "      <td>November 15–16, 2023</td>\n",
       "      <td>2,851 (RV)</td>\n",
       "      <td>–</td>\n",
       "      <td>0.36</td>\n",
       "      <td>0.44</td>\n",
       "      <td>0.21</td>\n",
       "      <td>0%</td>\n",
       "      <td>2023</td>\n",
       "      <td>November</td>\n",
       "      <td>15</td>\n",
       "      <td>0.08</td>\n",
       "    </tr>\n",
       "  </tbody>\n",
       "</table>\n",
       "</div>"
      ],
      "text/plain": [
       "                      Poll source                     Date Samplesize[b]  \\\n",
       "New Date                                                                   \n",
       "2024-01-03          Reuters/Ipsos        January 3–9, 2024    4,677 (RV)   \n",
       "2023-12-14  Quinnipiac University     December 14–18, 2023    1,647 (RV)   \n",
       "2023-12-06      Rasmussen Reports  December 6–7 & 10, 2023      892 (LV)   \n",
       "2023-12-05             Cygnal (R)       December 5–7, 2023    2,000 (LV)   \n",
       "2023-11-15         Harvard/Harris     November 15–16, 2023    2,851 (RV)   \n",
       "\n",
       "           Marginof error  JoeBidenDemocratic  DonaldTrumpRepublican  \\\n",
       "New Date                                                               \n",
       "2024-01-03         ± 1.5%                0.29                   0.30   \n",
       "2023-12-14         ± 2.4%                0.38                   0.36   \n",
       "2023-12-06         ± 3.0%                0.32                   0.40   \n",
       "2023-12-05        ± 2.16%                0.42                   0.43   \n",
       "2023-11-15              –                0.36                   0.44   \n",
       "\n",
       "            Robert F.Kennedy Jr.Independent Other/Undecided  Year     Month  \\\n",
       "New Date                                                                      \n",
       "2024-01-03                             0.18             23%  2024   January   \n",
       "2023-12-14                             0.22              4%  2023  December   \n",
       "2023-12-06                             0.16          12%[j]  2023  December   \n",
       "2023-12-05                             0.09              6%  2023  December   \n",
       "2023-11-15                             0.21              0%  2023  November   \n",
       "\n",
       "           Day  Spread  \n",
       "New Date                \n",
       "2024-01-03   3    0.01  \n",
       "2023-12-14  14   -0.02  \n",
       "2023-12-06   6    0.08  \n",
       "2023-12-05   5    0.01  \n",
       "2023-11-15  15    0.08  "
      ]
     },
     "execution_count": 11,
     "metadata": {},
     "output_type": "execute_result"
    }
   ],
   "source": [
    "#Time Series Plot of Wikipedia Data\n",
    "\n",
    "df[\"Year\"] = df[\"Date\"].str.split(\" \").str[-1]\n",
    "df[\"Month\"] = df[\"Date\"].str.split(\" \").str[0]\n",
    "df[\"Day\"] = df[\"Date\"].str.split(\" \").str[1].str.split(\"–\").str[0]\n",
    "df[\"New Date\"] = df[\"Month\"] + \" \" + df[\"Day\"] + \", \" + df[\"Year\"]\n",
    "df[\"New Date\"] = pd.to_datetime(df[\"New Date\"],format=\"mixed\")\n",
    "df['JoeBidenDemocratic'] = df['JoeBidenDemocratic'].str.rstrip('%').astype('float') / 100\n",
    "df['DonaldTrumpRepublican'] = df['DonaldTrumpRepublican'].str.rstrip('%').astype('float') / 100\n",
    "df[\"Robert F.Kennedy Jr.Independent\"] = df[\"Robert F.Kennedy Jr.Independent\"].str.rstrip('%').astype('float') / 100\n",
    "df.set_index(\"New Date\", inplace=True)\n",
    "df.drop(\"2023-10-09\", inplace=True)\n",
    "df[\"Spread\"] = df[\"DonaldTrumpRepublican\"] - df[\"JoeBidenDemocratic\"]\n",
    "df.head()"
   ]
  },
  {
   "cell_type": "code",
   "execution_count": 12,
   "metadata": {},
   "outputs": [
    {
     "data": {
      "image/png": "[encoded data removed]",
      "text/plain": [
       "<Figure size 640x480 with 1 Axes>"
      ]
     },
     "metadata": {},
     "output_type": "display_data"
    }
   ],
   "source": [
    "df.plot()\n",
    "plt.title('Wikipedia Polling Data')\n",
    "plt.show()"
   ]
  },
  {
   "cell_type": "code",
   "execution_count": 21,
   "metadata": {},
   "outputs": [
    {
     "data": {
      "image/png": "[encoded data removed]",
      "text/plain": [
       "<Figure size 1200x600 with 1 Axes>"
      ]
     },
     "metadata": {},
     "output_type": "display_data"
    }
   ],
   "source": [
    "#Time Series Analysis of Wikipedia Data\n",
    "\n",
    "#Plot RFK Jr. Independent vs. Spread\n",
    "\n",
    "plt.figure(figsize=(12, 6))\n",
    "plt.scatter(df[\"Robert F.Kennedy Jr.Independent\"], df[\"Spread\"])\n",
    "#plt.scatter(df.index, df[\"Robert F.Kennedy Jr.Independent\"], label='RFK Jr. Independent', linestyle='dashed')\n",
    "\n",
    "#Add trendline\n",
    "z = np.polyfit(df[\"Robert F.Kennedy Jr.Independent\"], df[\"Spread\"], 1)\n",
    "p = np.poly1d(z)\n",
    "plt.plot(df[\"Robert F.Kennedy Jr.Independent\"],p(df[\"Robert F.Kennedy Jr.Independent\"]),\"r--\")\n",
    "\n",
    "\n",
    "plt.title('How does RFK Jr. Independent affect the Spread?')\n",
    "plt.xlabel('RFK Jr. Independent')\n",
    "plt.ylabel('Spread')\n",
    "plt.show()"
   ]
  },
  {
   "cell_type": "code",
   "execution_count": null,
   "metadata": {},
   "outputs": [],
   "source": []
  }
 ],
 "metadata": {
  "kernelspec": {
   "display_name": "base",
   "language": "python",
   "name": "python3"
  },
  "language_info": {
   "codemirror_mode": {
    "name": "ipython",
    "version": 3
   },
   "file_extension": ".py",
   "mimetype": "text/x-python",
   "name": "python",
   "nbconvert_exporter": "python",
   "pygments_lexer": "ipython3",
   "version": "3.11.5"
  },
  "orig_nbformat": 4
 },
 "nbformat": 4,
 "nbformat_minor": 2
}
