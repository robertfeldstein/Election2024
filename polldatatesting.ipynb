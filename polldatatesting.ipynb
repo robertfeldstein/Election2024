{
 "cells": [
  {
   "cell_type": "code",
   "execution_count": 1,
   "metadata": {},
   "outputs": [],
   "source": [
    "from selenium import webdriver\n",
    "from bs4 import BeautifulSoup\n",
    "import pandas as pd\n",
    "import time\n",
    "import numpy as np\n",
    "from datetime import datetime\n",
    "import matplotlib.pyplot as plt\n",
    "import seaborn as sns\n",
    "import warnings\n",
    "\n",
    "# Suppress a specific warning\n",
    "warnings.simplefilter(\"ignore\", category=FutureWarning)"
   ]
  },
  {
   "cell_type": "code",
   "execution_count": 2,
   "metadata": {},
   "outputs": [],
   "source": [
    "base_url = \"https://www.realclearpolling.com/polls/\"\n",
    "sample_url = \"president/republican-primary/2024/national\"\n",
    "sample_url = \"president/general/2024/trump-vs-biden\"\n",
    "url = base_url + sample_url"
   ]
  },
  {
   "cell_type": "code",
   "execution_count": 3,
   "metadata": {},
   "outputs": [],
   "source": [
    "# Create a webdriver instance and get the page source\n",
    "driver = webdriver.Chrome()\n",
    "driver.get(url)\n",
    "\n",
    "# Allow time for dynamic content to load (you may need to adjust the sleep duration)\n",
    "time.sleep(5)\n",
    "\n",
    "# Get the page source after dynamic content has loaded\n",
    "html_content = driver.page_source\n",
    "\n",
    "# Close the webdriver\n",
    "driver.quit()\n",
    "\n",
    "# Parse the HTML content with BeautifulSoup\n",
    "soup = BeautifulSoup(html_content, 'html5lib')\n",
    "\n",
    "# Now you can extract the table data using the same approach as before\n",
    "table = soup.find_all('table')\n",
    "\n",
    "if len(table)==2:\n",
    "    table = table[1]\n",
    "else:\n",
    "    table = table[0]\n",
    "\n",
    "table_data = []\n",
    "for row in table.find_all('tr'):\n",
    "    row_data = [cell.text.strip() for cell in row.find_all(['td','th'])]\n",
    "    table_data.append(row_data)"
   ]
  },
  {
   "cell_type": "code",
   "execution_count": 20,
   "metadata": {},
   "outputs": [
    {
     "data": {
      "text/html": [
       "<div>\n",
       "<style scoped>\n",
       "    .dataframe tbody tr th:only-of-type {\n",
       "        vertical-align: middle;\n",
       "    }\n",
       "\n",
       "    .dataframe tbody tr th {\n",
       "        vertical-align: top;\n",
       "    }\n",
       "\n",
       "    .dataframe thead th {\n",
       "        text-align: right;\n",
       "    }\n",
       "</style>\n",
       "<table border=\"1\" class=\"dataframe\">\n",
       "  <thead>\n",
       "    <tr style=\"text-align: right;\">\n",
       "      <th></th>\n",
       "      <th>pollster</th>\n",
       "      <th>date</th>\n",
       "      <th>sample</th>\n",
       "      <th>moe</th>\n",
       "      <th>Trump (R)</th>\n",
       "      <th>Biden (D)</th>\n",
       "      <th>spread</th>\n",
       "      <th>Difference</th>\n",
       "      <th>Type of Voter</th>\n",
       "      <th>Sample Size</th>\n",
       "      <th>End Date</th>\n",
       "      <th>Poll Month</th>\n",
       "      <th>Year</th>\n",
       "    </tr>\n",
       "  </thead>\n",
       "  <tbody>\n",
       "    <tr>\n",
       "      <th>0</th>\n",
       "      <td>Reuters/Ipsos</td>\n",
       "      <td>1/22 - 1/24</td>\n",
       "      <td>1028 RV</td>\n",
       "      <td>—</td>\n",
       "      <td>43</td>\n",
       "      <td>38</td>\n",
       "      <td>Trump+5</td>\n",
       "      <td>5.0</td>\n",
       "      <td>RV</td>\n",
       "      <td>1028</td>\n",
       "      <td>2024-01-24</td>\n",
       "      <td>1</td>\n",
       "      <td>2024</td>\n",
       "    </tr>\n",
       "    <tr>\n",
       "      <th>1</th>\n",
       "      <td>Economist/YouGov</td>\n",
       "      <td>1/21 - 1/23</td>\n",
       "      <td>1497 RV</td>\n",
       "      <td>2.8</td>\n",
       "      <td>44</td>\n",
       "      <td>43</td>\n",
       "      <td>Trump+1</td>\n",
       "      <td>1.0</td>\n",
       "      <td>RV</td>\n",
       "      <td>1497</td>\n",
       "      <td>2024-01-23</td>\n",
       "      <td>1</td>\n",
       "      <td>2024</td>\n",
       "    </tr>\n",
       "    <tr>\n",
       "      <th>2</th>\n",
       "      <td>The Messenger/HarrisX</td>\n",
       "      <td>1/17 - 1/21</td>\n",
       "      <td>3034 RV</td>\n",
       "      <td>1.8</td>\n",
       "      <td>53</td>\n",
       "      <td>47</td>\n",
       "      <td>Trump+6</td>\n",
       "      <td>6.0</td>\n",
       "      <td>RV</td>\n",
       "      <td>3034</td>\n",
       "      <td>2024-01-21</td>\n",
       "      <td>1</td>\n",
       "      <td>2024</td>\n",
       "    </tr>\n",
       "    <tr>\n",
       "      <th>3</th>\n",
       "      <td>Morning Consult</td>\n",
       "      <td>1/19 - 1/21</td>\n",
       "      <td>6417 RV</td>\n",
       "      <td>1.0</td>\n",
       "      <td>45</td>\n",
       "      <td>40</td>\n",
       "      <td>Trump+5</td>\n",
       "      <td>5.0</td>\n",
       "      <td>RV</td>\n",
       "      <td>6417</td>\n",
       "      <td>2024-01-21</td>\n",
       "      <td>1</td>\n",
       "      <td>2024</td>\n",
       "    </tr>\n",
       "    <tr>\n",
       "      <th>4</th>\n",
       "      <td>Harvard-Harris</td>\n",
       "      <td>1/17 - 1/18</td>\n",
       "      <td>2346 RV</td>\n",
       "      <td>—</td>\n",
       "      <td>53</td>\n",
       "      <td>47</td>\n",
       "      <td>Trump+6</td>\n",
       "      <td>6.0</td>\n",
       "      <td>RV</td>\n",
       "      <td>2346</td>\n",
       "      <td>2024-01-18</td>\n",
       "      <td>1</td>\n",
       "      <td>2024</td>\n",
       "    </tr>\n",
       "  </tbody>\n",
       "</table>\n",
       "</div>"
      ],
      "text/plain": [
       "                pollster         date   sample  moe Trump (R) Biden (D)  \\\n",
       "0          Reuters/Ipsos  1/22 - 1/24  1028 RV    —        43        38   \n",
       "1       Economist/YouGov  1/21 - 1/23  1497 RV  2.8        44        43   \n",
       "2  The Messenger/HarrisX  1/17 - 1/21  3034 RV  1.8        53        47   \n",
       "3        Morning Consult  1/19 - 1/21  6417 RV  1.0        45        40   \n",
       "4         Harvard-Harris  1/17 - 1/18  2346 RV    —        53        47   \n",
       "\n",
       "    spread  Difference Type of Voter Sample Size   End Date  Poll Month  Year  \n",
       "0  Trump+5         5.0            RV        1028 2024-01-24           1  2024  \n",
       "1  Trump+1         1.0            RV        1497 2024-01-23           1  2024  \n",
       "2  Trump+6         6.0            RV        3034 2024-01-21           1  2024  \n",
       "3  Trump+5         5.0            RV        6417 2024-01-21           1  2024  \n",
       "4  Trump+6         6.0            RV        2346 2024-01-18           1  2024  "
      ]
     },
     "execution_count": 20,
     "metadata": {},
     "output_type": "execute_result"
    }
   ],
   "source": [
    "#Convert table data to a dataframe\n",
    "#We remove the first row since this is RCP summary data that we don't want to use\n",
    "\n",
    "current_year = str(datetime.now().year)\n",
    "prev_year = str(datetime.now().year-1)\n",
    "\n",
    "\n",
    "df = pd.DataFrame(table_data[2:150], columns=table_data[0])\n",
    "df[\"Difference\"] = df[\"Trump (R)\"].astype(float) - df[\"Biden (D)\"].astype(float)\n",
    "df[\"Type of Voter\"] = df[\"sample\"].str.split(\" \").str[1]\n",
    "df[\"Sample Size\"] = df[\"sample\"].str.split(\" \").str[0]\n",
    "#We need to add the year to the date to make it a datetime object\n",
    "#We need to make sure the year we add is the year the poll was taken, not necessarily the current year\n",
    "df[\"End Date\"] = df[\"date\"].str.split(\"-\").str[1] \n",
    "df[\"Poll Month\"] = df[\"date\"].str.split(\"-\").str[1].str.split(\"/\").str[0]\n",
    "df[\"Poll Month\"] = df[\"Poll Month\"].astype(int)\n",
    "first_dec = df[df[\"Poll Month\"]==12].index[0]\n",
    "df[\"Year\"] = [current_year]*first_dec + [prev_year]*(len(df)-first_dec)\n",
    "df[\"End Date\"] = df[\"End Date\"] + \"/\" + df[\"Year\"]\n",
    "df[\"End Date\"] = np.array(pd.to_datetime(df[\"End Date\"], format=\"mixed\"))\n",
    "df = df[df[\"Type of Voter\"].isin([\"RV\", \"LV\"])]\n",
    "df.head()"
   ]
  },
  {
   "cell_type": "code",
   "execution_count": 13,
   "metadata": {},
   "outputs": [
    {
     "data": {
      "application/vnd.plotly.v1+json": {
       "config": {
        "plotlyServerURL": "https://plot.ly"
       },
       "data": [
        {
         "customdata": [
          [
           "Reuters/Ipsos",
           "1028"
          ],
          [
           "Economist/YouGov",
           "1497"
          ],
          [
           "The Messenger/HarrisX",
           "3034"
          ],
          [
           "Morning Consult",
           "6417"
          ],
          [
           "Harvard-Harris",
           "2346"
          ],
          [
           "The Messenger/HarrisX",
           "1045"
          ],
          [
           "Economist/YouGov",
           "1472"
          ],
          [
           "Morning Consult",
           "6606"
          ],
          [
           "Economist/YouGov",
           "1417"
          ],
          [
           "Reuters/Ipsos",
           "4677"
          ],
          [
           "Morning Consult",
           "6367"
          ],
          [
           "I&I/TIPP",
           "1247"
          ],
          [
           "Economist/YouGov",
           "1343"
          ],
          [
           "Morning Consult",
           "6816"
          ],
          [
           "Economist/YouGov",
           "1336"
          ],
          [
           "Morning Consult",
           "5618"
          ],
          [
           "Quinnipiac",
           "1647"
          ],
          [
           "Yahoo News",
           "1027"
          ],
          [
           "Harvard-Harris",
           "2034"
          ],
          [
           "FOX News",
           "1007"
          ],
          [
           "Economist/YouGov",
           "1332"
          ],
          [
           "Morning Consult",
           "5840"
          ],
          [
           "NPR/PBS/Marist",
           "1129"
          ],
          [
           "Emerson",
           "1000"
          ],
          [
           "Economist/YouGov",
           "1291"
          ],
          [
           "Wall Street Journal",
           "1500"
          ],
          [
           "The Messenger/HarrisX",
           "2018"
          ],
          [
           "Morning Consult",
           "5855"
          ],
          [
           "I&I/TIPP",
           "1301"
          ],
          [
           "The Messenger/HarrisX",
           "4003"
          ],
          [
           "Economist/YouGov",
           "1323"
          ],
          [
           "Morning Consult",
           "6527"
          ],
          [
           "Emerson",
           "1475"
          ],
          [
           "Morning Consult",
           "5855"
          ],
          [
           "The Messenger/HarrisX",
           "3017"
          ],
          [
           "Harvard-Harris",
           "2851"
          ],
          [
           "Economist/YouGov",
           "1272"
          ],
          [
           "NBC News",
           "1000"
          ],
          [
           "FOX News",
           "1001"
          ],
          [
           "Quinnipiac",
           "1574"
          ],
          [
           "Yahoo News",
           "1058"
          ],
          [
           "Morning Consult",
           "6130"
          ],
          [
           "Marquette",
           "856"
          ],
          [
           "Morning Consult",
           "5000"
          ],
          [
           "I&I/TIPP",
           "1242"
          ],
          [
           "The Messenger/HarrisX",
           "2021"
          ],
          [
           "CNN",
           "1271"
          ],
          [
           "Economist/YouGov",
           "1333"
          ],
          [
           "Quinnipiac",
           "1610"
          ],
          [
           "Morning Consult",
           "5000"
          ],
          [
           "Harvard-Harris",
           "2116"
          ],
          [
           "USA Today/Suffolk",
           "1000"
          ],
          [
           "Morning Consult",
           "5000"
          ],
          [
           "The Messenger/HarrisX",
           "3029"
          ],
          [
           "Emerson",
           "1578"
          ],
          [
           "Yahoo News",
           "1120"
          ],
          [
           "Economist/YouGov",
           "1296"
          ],
          [
           "Morning Consult",
           "5000"
          ],
          [
           "NPR/PBS/Marist",
           "1218"
          ],
          [
           "FOX News",
           "1007"
          ],
          [
           "Morning Consult",
           "5000"
          ],
          [
           "The Messenger/HarrisX",
           "2982"
          ],
          [
           "Morning Consult",
           "5000"
          ],
          [
           "The Messenger/HarrisX",
           "1615"
          ],
          [
           "I&I/TIPP",
           "1262"
          ],
          [
           "New York Post",
           "1169"
          ],
          [
           "NPR/PBS/Marist",
           "1137"
          ],
          [
           "Economist/YouGov",
           "1293"
          ],
          [
           "Morning Consult",
           "6000"
          ],
          [
           "Marquette",
           "781"
          ],
          [
           "ABC News/Wash Post",
           "890"
          ],
          [
           "NBC News",
           "1000"
          ],
          [
           "The Messenger/HarrisX",
           "3015"
          ],
          [
           "Emerson",
           "1125"
          ],
          [
           "Yahoo News",
           "1097"
          ],
          [
           "Morning Consult",
           "6000"
          ],
          [
           "Harvard-Harris",
           "2103"
          ],
          [
           "Economist/YouGov",
           "1334"
          ],
          [
           "FOX News",
           "1012"
          ],
          [
           "Quinnipiac",
           "1726"
          ],
          [
           "The Messenger/HarrisX",
           "3015"
          ],
          [
           "Morning Consult",
           "6000"
          ],
          [
           "CNN",
           "1259"
          ],
          [
           "Wall Street Journal",
           "1500"
          ],
          [
           "Morning Consult",
           "5000"
          ],
          [
           "Economist/YouGov",
           "1303"
          ],
          [
           "Morning Consult",
           "5000"
          ],
          [
           "Emerson",
           "1000"
          ],
          [
           "The Messenger/HarrisX",
           "2013"
          ],
          [
           "New York Post",
           "1551"
          ],
          [
           "Yahoo News",
           "1113"
          ],
          [
           "Morning Consult",
           "6000"
          ],
          [
           "Emerson",
           "1000"
          ],
          [
           "FOX News",
           "1002"
          ],
          [
           "Quinnipiac",
           "1632"
          ],
          [
           "Marist",
           "1100"
          ],
          [
           "Economist/YouGov",
           "1321"
          ],
          [
           "Morning Consult",
           "6000"
          ],
          [
           "Morning Consult",
           "6000"
          ],
          [
           "NY Times/Siena",
           "1329"
          ],
          [
           "Morning Consult",
           "6000"
          ],
          [
           "The Messenger/HarrisX",
           "922"
          ],
          [
           "Economist/YouGov",
           "1306"
          ],
          [
           "Morning Consult",
           "6000"
          ],
          [
           "Harvard-Harris",
           "2068"
          ],
          [
           "Quinnipiac",
           "1809"
          ],
          [
           "Yahoo News",
           "1098"
          ],
          [
           "Morning Consult",
           "6000"
          ],
          [
           "Marquette",
           "788"
          ],
          [
           "Morning Consult",
           "6000"
          ],
          [
           "Economist/YouGov",
           "1296"
          ],
          [
           "The Messenger/HarrisX",
           "915"
          ],
          [
           "Economist/YouGov",
           "1315"
          ],
          [
           "The Messenger/HarrisX",
           "2875"
          ],
          [
           "NBC News",
           "1000"
          ],
          [
           "Emerson",
           "1015"
          ],
          [
           "Yahoo News",
           "1091"
          ],
          [
           "The Messenger/HarrisX",
           "930"
          ],
          [
           "Harvard-Harris",
           "2090"
          ],
          [
           "Economist/YouGov",
           "1303"
          ],
          [
           "Quinnipiac",
           "1735"
          ],
          [
           "Economist/YouGov",
           "1313"
          ],
          [
           "Yahoo News**",
           "1015"
          ],
          [
           "Quinnipiac",
           "1616"
          ],
          [
           "Harvard-Harris",
           "2004"
          ],
          [
           "Economist/YouGov",
           "1302"
          ],
          [
           "Marquette",
           "833"
          ],
          [
           "Yahoo News**",
           "1060"
          ],
          [
           "ABC News/Wash Post",
           "900"
          ],
          [
           "Economist/YouGov",
           "1357"
          ],
          [
           "Emerson",
           "1000"
          ]
         ],
         "hovertemplate": "Type of Voter=RV<br>End Date=%{x}<br>Difference=%{y}<br>pollster=%{customdata[0]}<br>Sample Size=%{customdata[1]}<extra></extra>",
         "legendgroup": "RV",
         "marker": {
          "color": "rgb(76,114,176)",
          "symbol": "circle"
         },
         "mode": "markers",
         "name": "RV",
         "orientation": "v",
         "showlegend": true,
         "type": "scatter",
         "x": [
          "2024-01-24T00:00:00",
          "2024-01-23T00:00:00",
          "2024-01-21T00:00:00",
          "2024-01-21T00:00:00",
          "2024-01-18T00:00:00",
          "2024-01-17T00:00:00",
          "2024-01-16T00:00:00",
          "2024-01-15T00:00:00",
          "2024-01-09T00:00:00",
          "2024-01-09T00:00:00",
          "2024-01-07T00:00:00",
          "2024-01-05T00:00:00",
          "2024-01-02T00:00:00",
          "2024-01-01T00:00:00",
          "2023-12-18T00:00:00",
          "2023-12-17T00:00:00",
          "2023-12-18T00:00:00",
          "2023-12-18T00:00:00",
          "2023-12-14T00:00:00",
          "2023-12-13T00:00:00",
          "2023-12-12T00:00:00",
          "2023-12-10T00:00:00",
          "2023-12-07T00:00:00",
          "2023-12-06T00:00:00",
          "2023-12-05T00:00:00",
          "2023-12-04T00:00:00",
          "2023-12-01T00:00:00",
          "2023-12-03T00:00:00",
          "2023-12-01T00:00:00",
          "2023-11-28T00:00:00",
          "2023-11-27T00:00:00",
          "2023-11-26T00:00:00",
          "2023-11-20T00:00:00",
          "2023-11-19T00:00:00",
          "2023-11-19T00:00:00",
          "2023-11-16T00:00:00",
          "2023-11-14T00:00:00",
          "2023-11-14T00:00:00",
          "2023-11-13T00:00:00",
          "2023-11-13T00:00:00",
          "2023-11-13T00:00:00",
          "2023-11-12T00:00:00",
          "2023-11-07T00:00:00",
          "2023-11-05T00:00:00",
          "2023-11-03T00:00:00",
          "2023-11-01T00:00:00",
          "2023-11-02T00:00:00",
          "2023-10-31T00:00:00",
          "2023-10-30T00:00:00",
          "2023-10-29T00:00:00",
          "2023-10-19T00:00:00",
          "2023-10-20T00:00:00",
          "2023-10-22T00:00:00",
          "2023-10-23T00:00:00",
          "2023-10-17T00:00:00",
          "2023-10-16T00:00:00",
          "2023-10-17T00:00:00",
          "2023-10-15T00:00:00",
          "2023-10-11T00:00:00",
          "2023-10-09T00:00:00",
          "2023-10-08T00:00:00",
          "2023-10-07T00:00:00",
          "2023-10-01T00:00:00",
          "2023-09-29T00:00:00",
          "2023-09-29T00:00:00",
          "2023-09-28T00:00:00",
          "2023-09-28T00:00:00",
          "2023-09-26T00:00:00",
          "2023-09-24T00:00:00",
          "2023-09-25T00:00:00",
          "2023-09-20T00:00:00",
          "2023-09-19T00:00:00",
          "2023-09-19T00:00:00",
          "2023-09-18T00:00:00",
          "2023-09-18T00:00:00",
          "2023-09-17T00:00:00",
          "2023-09-14T00:00:00",
          "2023-09-12T00:00:00",
          "2023-09-12T00:00:00",
          "2023-09-11T00:00:00",
          "2023-09-11T00:00:00",
          "2023-09-10T00:00:00",
          "2023-08-31T00:00:00",
          "2023-08-30T00:00:00",
          "2023-09-04T00:00:00",
          "2023-08-29T00:00:00",
          "2023-08-27T00:00:00",
          "2023-08-26T00:00:00",
          "2023-08-26T00:00:00",
          "2023-08-24T00:00:00",
          "2023-08-21T00:00:00",
          "2023-08-20T00:00:00",
          "2023-08-17T00:00:00",
          "2023-08-14T00:00:00",
          "2023-08-14T00:00:00",
          "2023-08-14T00:00:00",
          "2023-08-15T00:00:00",
          "2023-08-13T00:00:00",
          "2023-08-06T00:00:00",
          "2023-07-27T00:00:00",
          "2023-07-30T00:00:00",
          "2023-07-24T00:00:00",
          "2023-07-25T00:00:00",
          "2023-07-23T00:00:00",
          "2023-07-20T00:00:00",
          "2023-07-17T00:00:00",
          "2023-07-17T00:00:00",
          "2023-07-16T00:00:00",
          "2023-07-12T00:00:00",
          "2023-07-09T00:00:00",
          "2023-07-11T00:00:00",
          "2023-07-06T00:00:00",
          "2023-06-27T00:00:00",
          "2023-06-23T00:00:00",
          "2023-06-20T00:00:00",
          "2023-06-20T00:00:00",
          "2023-06-20T00:00:00",
          "2023-06-16T00:00:00",
          "2023-06-15T00:00:00",
          "2023-06-13T00:00:00",
          "2023-06-12T00:00:00",
          "2023-05-31T00:00:00",
          "2023-05-30T00:00:00",
          "2023-05-22T00:00:00",
          "2023-05-18T00:00:00",
          "2023-05-16T00:00:00",
          "2023-05-18T00:00:00",
          "2023-05-08T00:00:00",
          "2023-05-03T00:00:00",
          "2023-05-02T00:00:00",
          "2023-04-25T00:00:00"
         ],
         "xaxis": "x",
         "y": [
          5,
          1,
          6,
          5,
          6,
          4,
          -1,
          2,
          0,
          0,
          -1,
          1,
          0,
          1,
          0,
          2,
          -1,
          0,
          4,
          4,
          0,
          2,
          -1,
          4,
          -1,
          4,
          6,
          0,
          2,
          4,
          -2,
          -1,
          4,
          3,
          6,
          6,
          1,
          2,
          4,
          2,
          2,
          1,
          4,
          2,
          -2,
          2,
          4,
          0,
          -1,
          0,
          4,
          0,
          0,
          4,
          2,
          -1,
          -1,
          -2,
          -3,
          -1,
          -1,
          4,
          0,
          3,
          0,
          3,
          -2,
          -5,
          -1,
          3,
          10,
          0,
          5,
          0,
          0,
          0,
          4,
          -1,
          2,
          -1,
          1,
          -2,
          1,
          0,
          -3,
          1,
          -1,
          2,
          -1,
          3,
          -6,
          -2,
          0,
          -3,
          -1,
          -1,
          -1,
          -2,
          -1,
          0,
          -3,
          4,
          -4,
          -2,
          5,
          -5,
          -4,
          -2,
          0,
          -1,
          0,
          0,
          4,
          2,
          -4,
          -1,
          -4,
          2,
          6,
          0,
          -4,
          -3,
          -7,
          -2,
          7,
          2,
          5,
          -2,
          6,
          0,
          -2
         ],
         "yaxis": "y"
        },
        {
         "hovertemplate": "<b>OLS trendline</b><br>Difference = 1.36599e-07 * End Date + -230.889<br>R<sup>2</sup>=0.080448<br><br>Type of Voter=RV<br>End Date=%{x}<br>Difference=%{y} <b>(trend)</b><extra></extra>",
         "legendgroup": "RV",
         "marker": {
          "color": "rgb(76,114,176)",
          "symbol": "circle"
         },
         "mode": "lines",
         "name": "RV",
         "showlegend": false,
         "type": "scatter",
         "x": [
          "2023-04-25T00:00:00",
          "2023-05-02T00:00:00",
          "2023-05-03T00:00:00",
          "2023-05-08T00:00:00",
          "2023-05-16T00:00:00",
          "2023-05-18T00:00:00",
          "2023-05-18T00:00:00",
          "2023-05-22T00:00:00",
          "2023-05-30T00:00:00",
          "2023-05-31T00:00:00",
          "2023-06-12T00:00:00",
          "2023-06-13T00:00:00",
          "2023-06-15T00:00:00",
          "2023-06-16T00:00:00",
          "2023-06-20T00:00:00",
          "2023-06-20T00:00:00",
          "2023-06-20T00:00:00",
          "2023-06-23T00:00:00",
          "2023-06-27T00:00:00",
          "2023-07-06T00:00:00",
          "2023-07-09T00:00:00",
          "2023-07-11T00:00:00",
          "2023-07-12T00:00:00",
          "2023-07-16T00:00:00",
          "2023-07-17T00:00:00",
          "2023-07-17T00:00:00",
          "2023-07-20T00:00:00",
          "2023-07-23T00:00:00",
          "2023-07-24T00:00:00",
          "2023-07-25T00:00:00",
          "2023-07-27T00:00:00",
          "2023-07-30T00:00:00",
          "2023-08-06T00:00:00",
          "2023-08-13T00:00:00",
          "2023-08-14T00:00:00",
          "2023-08-14T00:00:00",
          "2023-08-14T00:00:00",
          "2023-08-15T00:00:00",
          "2023-08-17T00:00:00",
          "2023-08-20T00:00:00",
          "2023-08-21T00:00:00",
          "2023-08-24T00:00:00",
          "2023-08-26T00:00:00",
          "2023-08-26T00:00:00",
          "2023-08-27T00:00:00",
          "2023-08-29T00:00:00",
          "2023-08-30T00:00:00",
          "2023-08-31T00:00:00",
          "2023-09-04T00:00:00",
          "2023-09-10T00:00:00",
          "2023-09-11T00:00:00",
          "2023-09-11T00:00:00",
          "2023-09-12T00:00:00",
          "2023-09-12T00:00:00",
          "2023-09-14T00:00:00",
          "2023-09-17T00:00:00",
          "2023-09-18T00:00:00",
          "2023-09-18T00:00:00",
          "2023-09-19T00:00:00",
          "2023-09-19T00:00:00",
          "2023-09-20T00:00:00",
          "2023-09-24T00:00:00",
          "2023-09-25T00:00:00",
          "2023-09-26T00:00:00",
          "2023-09-28T00:00:00",
          "2023-09-28T00:00:00",
          "2023-09-29T00:00:00",
          "2023-09-29T00:00:00",
          "2023-10-01T00:00:00",
          "2023-10-07T00:00:00",
          "2023-10-08T00:00:00",
          "2023-10-09T00:00:00",
          "2023-10-11T00:00:00",
          "2023-10-15T00:00:00",
          "2023-10-16T00:00:00",
          "2023-10-17T00:00:00",
          "2023-10-17T00:00:00",
          "2023-10-19T00:00:00",
          "2023-10-20T00:00:00",
          "2023-10-22T00:00:00",
          "2023-10-23T00:00:00",
          "2023-10-29T00:00:00",
          "2023-10-30T00:00:00",
          "2023-10-31T00:00:00",
          "2023-11-01T00:00:00",
          "2023-11-02T00:00:00",
          "2023-11-03T00:00:00",
          "2023-11-05T00:00:00",
          "2023-11-07T00:00:00",
          "2023-11-12T00:00:00",
          "2023-11-13T00:00:00",
          "2023-11-13T00:00:00",
          "2023-11-13T00:00:00",
          "2023-11-14T00:00:00",
          "2023-11-14T00:00:00",
          "2023-11-16T00:00:00",
          "2023-11-19T00:00:00",
          "2023-11-19T00:00:00",
          "2023-11-20T00:00:00",
          "2023-11-26T00:00:00",
          "2023-11-27T00:00:00",
          "2023-11-28T00:00:00",
          "2023-12-01T00:00:00",
          "2023-12-01T00:00:00",
          "2023-12-03T00:00:00",
          "2023-12-04T00:00:00",
          "2023-12-05T00:00:00",
          "2023-12-06T00:00:00",
          "2023-12-07T00:00:00",
          "2023-12-10T00:00:00",
          "2023-12-12T00:00:00",
          "2023-12-13T00:00:00",
          "2023-12-14T00:00:00",
          "2023-12-17T00:00:00",
          "2023-12-18T00:00:00",
          "2023-12-18T00:00:00",
          "2023-12-18T00:00:00",
          "2024-01-01T00:00:00",
          "2024-01-02T00:00:00",
          "2024-01-05T00:00:00",
          "2024-01-07T00:00:00",
          "2024-01-09T00:00:00",
          "2024-01-09T00:00:00",
          "2024-01-15T00:00:00",
          "2024-01-16T00:00:00",
          "2024-01-17T00:00:00",
          "2024-01-18T00:00:00",
          "2024-01-21T00:00:00",
          "2024-01-21T00:00:00",
          "2024-01-23T00:00:00",
          "2024-01-24T00:00:00"
         ],
         "xaxis": "x",
         "y": [
          -1.0765383665836612,
          -0.9939230511256442,
          -0.9821208632030702,
          -0.923109923590201,
          -0.8286924202096102,
          -0.8050880443644625,
          -0.8050880443644625,
          -0.7578792926741671,
          -0.6634617892935762,
          -0.6516596013710023,
          -0.5100333463001161,
          -0.4982311583775422,
          -0.47462678253239454,
          -0.46282459460982067,
          -0.41561584291952525,
          -0.41561584291952525,
          -0.41561584291952525,
          -0.3802092791518037,
          -0.33300052746150827,
          -0.22678083615834357,
          -0.19137427239062202,
          -0.1677698965454743,
          -0.15596770862290044,
          -0.10875895693260502,
          -0.09695676901003117,
          -0.09695676901003117,
          -0.061550205242309614,
          -0.026143641474588045,
          -0.014341453552014192,
          -0.0025392656294403364,
          0.021065110215707374,
          0.056471673983428936,
          0.13908698944144593,
          0.2217023048994629,
          0.23350449282203675,
          0.23350449282203675,
          0.23350449282203675,
          0.24530668074461062,
          0.26891105658975833,
          0.3043176203574799,
          0.31611980828005376,
          0.3515263720477753,
          0.375130747892923,
          0.375130747892923,
          0.38693293581549687,
          0.4105373116606446,
          0.4223394995832184,
          0.4341416875057923,
          0.4813504391960877,
          0.5521635667315309,
          0.5639657546541047,
          0.5639657546541047,
          0.5757679425766785,
          0.5757679425766785,
          0.5993723184218263,
          0.6347788821895478,
          0.6465810701121217,
          0.6465810701121217,
          0.6583832580346956,
          0.6583832580346956,
          0.6701854459572694,
          0.7173941976475648,
          0.7291963855701387,
          0.7409985734927125,
          0.7646029493378602,
          0.7646029493378602,
          0.776405137260434,
          0.776405137260434,
          0.8000095131055818,
          0.8708226406410249,
          0.8826248285635988,
          0.8944270164861726,
          0.9180313923313204,
          0.9652401440216157,
          0.9770423319441897,
          0.9888445198667635,
          0.9888445198667635,
          1.012448895711911,
          1.0242510836344851,
          1.0478554594796328,
          1.0596576474022066,
          1.1304707749376497,
          1.1422729628602235,
          1.1540751507827975,
          1.1658773387053714,
          1.1776795266279452,
          1.189481714550519,
          1.2130860903956666,
          1.2366904662408145,
          1.2957014058536838,
          1.3075035937762576,
          1.3075035937762576,
          1.3075035937762576,
          1.3193057816988314,
          1.3193057816988314,
          1.342910157543979,
          1.3783167213117007,
          1.3783167213117007,
          1.3901189092342745,
          1.4609320367697176,
          1.4727342246922914,
          1.4845364126148655,
          1.519942976382587,
          1.519942976382587,
          1.5435473522277348,
          1.5553495401503086,
          1.5671517280728824,
          1.5789539159954562,
          1.59075610391803,
          1.6261626676857517,
          1.6497670435308993,
          1.6615692314534731,
          1.6733714193760472,
          1.7087779831437686,
          1.7205801710663424,
          1.7205801710663424,
          1.7205801710663424,
          1.8858108019823765,
          1.8976129899049503,
          1.9330195536726718,
          1.9566239295178196,
          1.9802283053629672,
          1.9802283053629672,
          2.0510414328984106,
          2.0628436208209844,
          2.074645808743558,
          2.086447996666132,
          2.1218545604338535,
          2.1218545604338535,
          2.145458936279001,
          2.157261124201575
         ],
         "yaxis": "y"
        },
        {
         "customdata": [
          [
           "CBS News",
           "1906"
          ],
          [
           "Rasmussen Reports",
           "968"
          ],
          [
           "USA Today/Suffolk",
           "1000"
          ],
          [
           "NY Times/Siena",
           "1016"
          ],
          [
           "Rasmussen Reports",
           "892"
          ],
          [
           "Rasmussen Reports",
           "987"
          ],
          [
           "CBS News",
           "1759"
          ],
          [
           "Grinnell/Selzer",
           "784"
          ],
          [
           "Reuters/Ipsos",
           "672"
          ],
          [
           "SurveyUSA",
           "2330"
          ],
          [
           "CBS News",
           "2680"
          ],
          [
           "Rasmussen Reports",
           "979"
          ],
          [
           "InsiderAdvantage",
           "850"
          ],
          [
           "Rasmussen Reports",
           "986"
          ]
         ],
         "hovertemplate": "Type of Voter=LV<br>End Date=%{x}<br>Difference=%{y}<br>pollster=%{customdata[0]}<br>Sample Size=%{customdata[1]}<extra></extra>",
         "legendgroup": "LV",
         "marker": {
          "color": "rgb(221,132,82)",
          "symbol": "circle"
         },
         "mode": "markers",
         "name": "LV",
         "orientation": "v",
         "showlegend": true,
         "type": "scatter",
         "x": [
          "2024-01-12T00:00:00",
          "2024-01-09T00:00:00",
          "2023-12-29T00:00:00",
          "2023-12-14T00:00:00",
          "2023-12-07T00:00:00",
          "2023-11-12T00:00:00",
          "2023-11-02T00:00:00",
          "2023-10-15T00:00:00",
          "2023-10-04T00:00:00",
          "2023-10-03T00:00:00",
          "2023-09-15T00:00:00",
          "2023-09-13T00:00:00",
          "2023-08-01T00:00:00",
          "2023-06-14T00:00:00"
         ],
         "xaxis": "x",
         "y": [
          2,
          8,
          1,
          -2,
          10,
          -4,
          3,
          0,
          -1,
          0,
          1,
          -1,
          -1,
          6
         ],
         "yaxis": "y"
        },
        {
         "hovertemplate": "<b>OLS trendline</b><br>Difference = 1.0246e-07 * End Date + -172.417<br>R<sup>2</sup>=0.019365<br><br>Type of Voter=LV<br>End Date=%{x}<br>Difference=%{y} <b>(trend)</b><extra></extra>",
         "legendgroup": "LV",
         "marker": {
          "color": "rgb(221,132,82)",
          "symbol": "circle"
         },
         "mode": "lines",
         "name": "LV",
         "showlegend": false,
         "type": "scatter",
         "x": [
          "2023-06-14T00:00:00",
          "2023-08-01T00:00:00",
          "2023-09-13T00:00:00",
          "2023-09-15T00:00:00",
          "2023-10-03T00:00:00",
          "2023-10-04T00:00:00",
          "2023-10-15T00:00:00",
          "2023-11-02T00:00:00",
          "2023-11-12T00:00:00",
          "2023-12-07T00:00:00",
          "2023-12-14T00:00:00",
          "2023-12-29T00:00:00",
          "2024-01-09T00:00:00",
          "2024-01-12T00:00:00"
         ],
         "xaxis": "x",
         "y": [
          0.40289192783795835,
          0.8278143436890788,
          1.2084740078890408,
          1.2261791085495042,
          1.3855250144936744,
          1.394377564823906,
          1.4917556184564544,
          1.6511015244006246,
          1.7396270277029415,
          1.9609407859587333,
          2.022908638270355,
          2.1556968932238303,
          2.253074946856379,
          2.2796325978470735
         ],
         "yaxis": "y"
        }
       ],
       "layout": {
        "height": 600,
        "legend": {
         "title": {
          "text": "Type of Voter"
         },
         "tracegroupgap": 0
        },
        "template": {
         "data": {
          "bar": [
           {
            "error_x": {
             "color": "rgb(36,36,36)"
            },
            "error_y": {
             "color": "rgb(36,36,36)"
            },
            "marker": {
             "line": {
              "color": "rgb(234,234,242)",
              "width": 0.5
             },
             "pattern": {
              "fillmode": "overlay",
              "size": 10,
              "solidity": 0.2
             }
            },
            "type": "bar"
           }
          ],
          "barpolar": [
           {
            "marker": {
             "line": {
              "color": "rgb(234,234,242)",
              "width": 0.5
             },
             "pattern": {
              "fillmode": "overlay",
              "size": 10,
              "solidity": 0.2
             }
            },
            "type": "barpolar"
           }
          ],
          "carpet": [
           {
            "aaxis": {
             "endlinecolor": "rgb(36,36,36)",
             "gridcolor": "white",
             "linecolor": "white",
             "minorgridcolor": "white",
             "startlinecolor": "rgb(36,36,36)"
            },
            "baxis": {
             "endlinecolor": "rgb(36,36,36)",
             "gridcolor": "white",
             "linecolor": "white",
             "minorgridcolor": "white",
             "startlinecolor": "rgb(36,36,36)"
            },
            "type": "carpet"
           }
          ],
          "choropleth": [
           {
            "colorbar": {
             "outlinewidth": 0,
             "tickcolor": "rgb(36,36,36)",
             "ticklen": 8,
             "ticks": "outside",
             "tickwidth": 2
            },
            "type": "choropleth"
           }
          ],
          "contour": [
           {
            "colorbar": {
             "outlinewidth": 0,
             "tickcolor": "rgb(36,36,36)",
             "ticklen": 8,
             "ticks": "outside",
             "tickwidth": 2
            },
            "colorscale": [
             [
              0,
              "rgb(2,4,25)"
             ],
             [
              0.06274509803921569,
              "rgb(24,15,41)"
             ],
             [
              0.12549019607843137,
              "rgb(47,23,57)"
             ],
             [
              0.18823529411764706,
              "rgb(71,28,72)"
             ],
             [
              0.25098039215686274,
              "rgb(97,30,82)"
             ],
             [
              0.3137254901960784,
              "rgb(123,30,89)"
             ],
             [
              0.3764705882352941,
              "rgb(150,27,91)"
             ],
             [
              0.4392156862745098,
              "rgb(177,22,88)"
             ],
             [
              0.5019607843137255,
              "rgb(203,26,79)"
             ],
             [
              0.5647058823529412,
              "rgb(223,47,67)"
             ],
             [
              0.6274509803921569,
              "rgb(236,76,61)"
             ],
             [
              0.6901960784313725,
              "rgb(242,107,73)"
             ],
             [
              0.7529411764705882,
              "rgb(244,135,95)"
             ],
             [
              0.8156862745098039,
              "rgb(245,162,122)"
             ],
             [
              0.8784313725490196,
              "rgb(246,188,153)"
             ],
             [
              0.9411764705882353,
              "rgb(247,212,187)"
             ],
             [
              1,
              "rgb(250,234,220)"
             ]
            ],
            "type": "contour"
           }
          ],
          "contourcarpet": [
           {
            "colorbar": {
             "outlinewidth": 0,
             "tickcolor": "rgb(36,36,36)",
             "ticklen": 8,
             "ticks": "outside",
             "tickwidth": 2
            },
            "type": "contourcarpet"
           }
          ],
          "heatmap": [
           {
            "colorbar": {
             "outlinewidth": 0,
             "tickcolor": "rgb(36,36,36)",
             "ticklen": 8,
             "ticks": "outside",
             "tickwidth": 2
            },
            "colorscale": [
             [
              0,
              "rgb(2,4,25)"
             ],
             [
              0.06274509803921569,
              "rgb(24,15,41)"
             ],
             [
              0.12549019607843137,
              "rgb(47,23,57)"
             ],
             [
              0.18823529411764706,
              "rgb(71,28,72)"
             ],
             [
              0.25098039215686274,
              "rgb(97,30,82)"
             ],
             [
              0.3137254901960784,
              "rgb(123,30,89)"
             ],
             [
              0.3764705882352941,
              "rgb(150,27,91)"
             ],
             [
              0.4392156862745098,
              "rgb(177,22,88)"
             ],
             [
              0.5019607843137255,
              "rgb(203,26,79)"
             ],
             [
              0.5647058823529412,
              "rgb(223,47,67)"
             ],
             [
              0.6274509803921569,
              "rgb(236,76,61)"
             ],
             [
              0.6901960784313725,
              "rgb(242,107,73)"
             ],
             [
              0.7529411764705882,
              "rgb(244,135,95)"
             ],
             [
              0.8156862745098039,
              "rgb(245,162,122)"
             ],
             [
              0.8784313725490196,
              "rgb(246,188,153)"
             ],
             [
              0.9411764705882353,
              "rgb(247,212,187)"
             ],
             [
              1,
              "rgb(250,234,220)"
             ]
            ],
            "type": "heatmap"
           }
          ],
          "heatmapgl": [
           {
            "colorbar": {
             "outlinewidth": 0,
             "tickcolor": "rgb(36,36,36)",
             "ticklen": 8,
             "ticks": "outside",
             "tickwidth": 2
            },
            "colorscale": [
             [
              0,
              "rgb(2,4,25)"
             ],
             [
              0.06274509803921569,
              "rgb(24,15,41)"
             ],
             [
              0.12549019607843137,
              "rgb(47,23,57)"
             ],
             [
              0.18823529411764706,
              "rgb(71,28,72)"
             ],
             [
              0.25098039215686274,
              "rgb(97,30,82)"
             ],
             [
              0.3137254901960784,
              "rgb(123,30,89)"
             ],
             [
              0.3764705882352941,
              "rgb(150,27,91)"
             ],
             [
              0.4392156862745098,
              "rgb(177,22,88)"
             ],
             [
              0.5019607843137255,
              "rgb(203,26,79)"
             ],
             [
              0.5647058823529412,
              "rgb(223,47,67)"
             ],
             [
              0.6274509803921569,
              "rgb(236,76,61)"
             ],
             [
              0.6901960784313725,
              "rgb(242,107,73)"
             ],
             [
              0.7529411764705882,
              "rgb(244,135,95)"
             ],
             [
              0.8156862745098039,
              "rgb(245,162,122)"
             ],
             [
              0.8784313725490196,
              "rgb(246,188,153)"
             ],
             [
              0.9411764705882353,
              "rgb(247,212,187)"
             ],
             [
              1,
              "rgb(250,234,220)"
             ]
            ],
            "type": "heatmapgl"
           }
          ],
          "histogram": [
           {
            "marker": {
             "pattern": {
              "fillmode": "overlay",
              "size": 10,
              "solidity": 0.2
             }
            },
            "type": "histogram"
           }
          ],
          "histogram2d": [
           {
            "colorbar": {
             "outlinewidth": 0,
             "tickcolor": "rgb(36,36,36)",
             "ticklen": 8,
             "ticks": "outside",
             "tickwidth": 2
            },
            "colorscale": [
             [
              0,
              "rgb(2,4,25)"
             ],
             [
              0.06274509803921569,
              "rgb(24,15,41)"
             ],
             [
              0.12549019607843137,
              "rgb(47,23,57)"
             ],
             [
              0.18823529411764706,
              "rgb(71,28,72)"
             ],
             [
              0.25098039215686274,
              "rgb(97,30,82)"
             ],
             [
              0.3137254901960784,
              "rgb(123,30,89)"
             ],
             [
              0.3764705882352941,
              "rgb(150,27,91)"
             ],
             [
              0.4392156862745098,
              "rgb(177,22,88)"
             ],
             [
              0.5019607843137255,
              "rgb(203,26,79)"
             ],
             [
              0.5647058823529412,
              "rgb(223,47,67)"
             ],
             [
              0.6274509803921569,
              "rgb(236,76,61)"
             ],
             [
              0.6901960784313725,
              "rgb(242,107,73)"
             ],
             [
              0.7529411764705882,
              "rgb(244,135,95)"
             ],
             [
              0.8156862745098039,
              "rgb(245,162,122)"
             ],
             [
              0.8784313725490196,
              "rgb(246,188,153)"
             ],
             [
              0.9411764705882353,
              "rgb(247,212,187)"
             ],
             [
              1,
              "rgb(250,234,220)"
             ]
            ],
            "type": "histogram2d"
           }
          ],
          "histogram2dcontour": [
           {
            "colorbar": {
             "outlinewidth": 0,
             "tickcolor": "rgb(36,36,36)",
             "ticklen": 8,
             "ticks": "outside",
             "tickwidth": 2
            },
            "colorscale": [
             [
              0,
              "rgb(2,4,25)"
             ],
             [
              0.06274509803921569,
              "rgb(24,15,41)"
             ],
             [
              0.12549019607843137,
              "rgb(47,23,57)"
             ],
             [
              0.18823529411764706,
              "rgb(71,28,72)"
             ],
             [
              0.25098039215686274,
              "rgb(97,30,82)"
             ],
             [
              0.3137254901960784,
              "rgb(123,30,89)"
             ],
             [
              0.3764705882352941,
              "rgb(150,27,91)"
             ],
             [
              0.4392156862745098,
              "rgb(177,22,88)"
             ],
             [
              0.5019607843137255,
              "rgb(203,26,79)"
             ],
             [
              0.5647058823529412,
              "rgb(223,47,67)"
             ],
             [
              0.6274509803921569,
              "rgb(236,76,61)"
             ],
             [
              0.6901960784313725,
              "rgb(242,107,73)"
             ],
             [
              0.7529411764705882,
              "rgb(244,135,95)"
             ],
             [
              0.8156862745098039,
              "rgb(245,162,122)"
             ],
             [
              0.8784313725490196,
              "rgb(246,188,153)"
             ],
             [
              0.9411764705882353,
              "rgb(247,212,187)"
             ],
             [
              1,
              "rgb(250,234,220)"
             ]
            ],
            "type": "histogram2dcontour"
           }
          ],
          "mesh3d": [
           {
            "colorbar": {
             "outlinewidth": 0,
             "tickcolor": "rgb(36,36,36)",
             "ticklen": 8,
             "ticks": "outside",
             "tickwidth": 2
            },
            "type": "mesh3d"
           }
          ],
          "parcoords": [
           {
            "line": {
             "colorbar": {
              "outlinewidth": 0,
              "tickcolor": "rgb(36,36,36)",
              "ticklen": 8,
              "ticks": "outside",
              "tickwidth": 2
             }
            },
            "type": "parcoords"
           }
          ],
          "pie": [
           {
            "automargin": true,
            "type": "pie"
           }
          ],
          "scatter": [
           {
            "fillpattern": {
             "fillmode": "overlay",
             "size": 10,
             "solidity": 0.2
            },
            "type": "scatter"
           }
          ],
          "scatter3d": [
           {
            "line": {
             "colorbar": {
              "outlinewidth": 0,
              "tickcolor": "rgb(36,36,36)",
              "ticklen": 8,
              "ticks": "outside",
              "tickwidth": 2
             }
            },
            "marker": {
             "colorbar": {
              "outlinewidth": 0,
              "tickcolor": "rgb(36,36,36)",
              "ticklen": 8,
              "ticks": "outside",
              "tickwidth": 2
             }
            },
            "type": "scatter3d"
           }
          ],
          "scattercarpet": [
           {
            "marker": {
             "colorbar": {
              "outlinewidth": 0,
              "tickcolor": "rgb(36,36,36)",
              "ticklen": 8,
              "ticks": "outside",
              "tickwidth": 2
             }
            },
            "type": "scattercarpet"
           }
          ],
          "scattergeo": [
           {
            "marker": {
             "colorbar": {
              "outlinewidth": 0,
              "tickcolor": "rgb(36,36,36)",
              "ticklen": 8,
              "ticks": "outside",
              "tickwidth": 2
             }
            },
            "type": "scattergeo"
           }
          ],
          "scattergl": [
           {
            "marker": {
             "colorbar": {
              "outlinewidth": 0,
              "tickcolor": "rgb(36,36,36)",
              "ticklen": 8,
              "ticks": "outside",
              "tickwidth": 2
             }
            },
            "type": "scattergl"
           }
          ],
          "scattermapbox": [
           {
            "marker": {
             "colorbar": {
              "outlinewidth": 0,
              "tickcolor": "rgb(36,36,36)",
              "ticklen": 8,
              "ticks": "outside",
              "tickwidth": 2
             }
            },
            "type": "scattermapbox"
           }
          ],
          "scatterpolar": [
           {
            "marker": {
             "colorbar": {
              "outlinewidth": 0,
              "tickcolor": "rgb(36,36,36)",
              "ticklen": 8,
              "ticks": "outside",
              "tickwidth": 2
             }
            },
            "type": "scatterpolar"
           }
          ],
          "scatterpolargl": [
           {
            "marker": {
             "colorbar": {
              "outlinewidth": 0,
              "tickcolor": "rgb(36,36,36)",
              "ticklen": 8,
              "ticks": "outside",
              "tickwidth": 2
             }
            },
            "type": "scatterpolargl"
           }
          ],
          "scatterternary": [
           {
            "marker": {
             "colorbar": {
              "outlinewidth": 0,
              "tickcolor": "rgb(36,36,36)",
              "ticklen": 8,
              "ticks": "outside",
              "tickwidth": 2
             }
            },
            "type": "scatterternary"
           }
          ],
          "surface": [
           {
            "colorbar": {
             "outlinewidth": 0,
             "tickcolor": "rgb(36,36,36)",
             "ticklen": 8,
             "ticks": "outside",
             "tickwidth": 2
            },
            "colorscale": [
             [
              0,
              "rgb(2,4,25)"
             ],
             [
              0.06274509803921569,
              "rgb(24,15,41)"
             ],
             [
              0.12549019607843137,
              "rgb(47,23,57)"
             ],
             [
              0.18823529411764706,
              "rgb(71,28,72)"
             ],
             [
              0.25098039215686274,
              "rgb(97,30,82)"
             ],
             [
              0.3137254901960784,
              "rgb(123,30,89)"
             ],
             [
              0.3764705882352941,
              "rgb(150,27,91)"
             ],
             [
              0.4392156862745098,
              "rgb(177,22,88)"
             ],
             [
              0.5019607843137255,
              "rgb(203,26,79)"
             ],
             [
              0.5647058823529412,
              "rgb(223,47,67)"
             ],
             [
              0.6274509803921569,
              "rgb(236,76,61)"
             ],
             [
              0.6901960784313725,
              "rgb(242,107,73)"
             ],
             [
              0.7529411764705882,
              "rgb(244,135,95)"
             ],
             [
              0.8156862745098039,
              "rgb(245,162,122)"
             ],
             [
              0.8784313725490196,
              "rgb(246,188,153)"
             ],
             [
              0.9411764705882353,
              "rgb(247,212,187)"
             ],
             [
              1,
              "rgb(250,234,220)"
             ]
            ],
            "type": "surface"
           }
          ],
          "table": [
           {
            "cells": {
             "fill": {
              "color": "rgb(231,231,240)"
             },
             "line": {
              "color": "white"
             }
            },
            "header": {
             "fill": {
              "color": "rgb(183,183,191)"
             },
             "line": {
              "color": "white"
             }
            },
            "type": "table"
           }
          ]
         },
         "layout": {
          "annotationdefaults": {
           "arrowcolor": "rgb(67,103,167)"
          },
          "autotypenumbers": "strict",
          "coloraxis": {
           "colorbar": {
            "outlinewidth": 0,
            "tickcolor": "rgb(36,36,36)",
            "ticklen": 8,
            "ticks": "outside",
            "tickwidth": 2
           }
          },
          "colorscale": {
           "sequential": [
            [
             0,
             "rgb(2,4,25)"
            ],
            [
             0.06274509803921569,
             "rgb(24,15,41)"
            ],
            [
             0.12549019607843137,
             "rgb(47,23,57)"
            ],
            [
             0.18823529411764706,
             "rgb(71,28,72)"
            ],
            [
             0.25098039215686274,
             "rgb(97,30,82)"
            ],
            [
             0.3137254901960784,
             "rgb(123,30,89)"
            ],
            [
             0.3764705882352941,
             "rgb(150,27,91)"
            ],
            [
             0.4392156862745098,
             "rgb(177,22,88)"
            ],
            [
             0.5019607843137255,
             "rgb(203,26,79)"
            ],
            [
             0.5647058823529412,
             "rgb(223,47,67)"
            ],
            [
             0.6274509803921569,
             "rgb(236,76,61)"
            ],
            [
             0.6901960784313725,
             "rgb(242,107,73)"
            ],
            [
             0.7529411764705882,
             "rgb(244,135,95)"
            ],
            [
             0.8156862745098039,
             "rgb(245,162,122)"
            ],
            [
             0.8784313725490196,
             "rgb(246,188,153)"
            ],
            [
             0.9411764705882353,
             "rgb(247,212,187)"
            ],
            [
             1,
             "rgb(250,234,220)"
            ]
           ],
           "sequentialminus": [
            [
             0,
             "rgb(2,4,25)"
            ],
            [
             0.06274509803921569,
             "rgb(24,15,41)"
            ],
            [
             0.12549019607843137,
             "rgb(47,23,57)"
            ],
            [
             0.18823529411764706,
             "rgb(71,28,72)"
            ],
            [
             0.25098039215686274,
             "rgb(97,30,82)"
            ],
            [
             0.3137254901960784,
             "rgb(123,30,89)"
            ],
            [
             0.3764705882352941,
             "rgb(150,27,91)"
            ],
            [
             0.4392156862745098,
             "rgb(177,22,88)"
            ],
            [
             0.5019607843137255,
             "rgb(203,26,79)"
            ],
            [
             0.5647058823529412,
             "rgb(223,47,67)"
            ],
            [
             0.6274509803921569,
             "rgb(236,76,61)"
            ],
            [
             0.6901960784313725,
             "rgb(242,107,73)"
            ],
            [
             0.7529411764705882,
             "rgb(244,135,95)"
            ],
            [
             0.8156862745098039,
             "rgb(245,162,122)"
            ],
            [
             0.8784313725490196,
             "rgb(246,188,153)"
            ],
            [
             0.9411764705882353,
             "rgb(247,212,187)"
            ],
            [
             1,
             "rgb(250,234,220)"
            ]
           ]
          },
          "colorway": [
           "rgb(76,114,176)",
           "rgb(221,132,82)",
           "rgb(85,168,104)",
           "rgb(196,78,82)",
           "rgb(129,114,179)",
           "rgb(147,120,96)",
           "rgb(218,139,195)",
           "rgb(140,140,140)",
           "rgb(204,185,116)",
           "rgb(100,181,205)"
          ],
          "font": {
           "color": "rgb(36,36,36)"
          },
          "geo": {
           "bgcolor": "white",
           "lakecolor": "white",
           "landcolor": "rgb(234,234,242)",
           "showlakes": true,
           "showland": true,
           "subunitcolor": "white"
          },
          "hoverlabel": {
           "align": "left"
          },
          "hovermode": "closest",
          "paper_bgcolor": "white",
          "plot_bgcolor": "rgb(234,234,242)",
          "polar": {
           "angularaxis": {
            "gridcolor": "white",
            "linecolor": "white",
            "showgrid": true,
            "ticks": ""
           },
           "bgcolor": "rgb(234,234,242)",
           "radialaxis": {
            "gridcolor": "white",
            "linecolor": "white",
            "showgrid": true,
            "ticks": ""
           }
          },
          "scene": {
           "xaxis": {
            "backgroundcolor": "rgb(234,234,242)",
            "gridcolor": "white",
            "gridwidth": 2,
            "linecolor": "white",
            "showbackground": true,
            "showgrid": true,
            "ticks": "",
            "zerolinecolor": "white"
           },
           "yaxis": {
            "backgroundcolor": "rgb(234,234,242)",
            "gridcolor": "white",
            "gridwidth": 2,
            "linecolor": "white",
            "showbackground": true,
            "showgrid": true,
            "ticks": "",
            "zerolinecolor": "white"
           },
           "zaxis": {
            "backgroundcolor": "rgb(234,234,242)",
            "gridcolor": "white",
            "gridwidth": 2,
            "linecolor": "white",
            "showbackground": true,
            "showgrid": true,
            "ticks": "",
            "zerolinecolor": "white"
           }
          },
          "shapedefaults": {
           "fillcolor": "rgb(67,103,167)",
           "line": {
            "width": 0
           },
           "opacity": 0.5
          },
          "ternary": {
           "aaxis": {
            "gridcolor": "white",
            "linecolor": "white",
            "showgrid": true,
            "ticks": ""
           },
           "baxis": {
            "gridcolor": "white",
            "linecolor": "white",
            "showgrid": true,
            "ticks": ""
           },
           "bgcolor": "rgb(234,234,242)",
           "caxis": {
            "gridcolor": "white",
            "linecolor": "white",
            "showgrid": true,
            "ticks": ""
           }
          },
          "xaxis": {
           "automargin": true,
           "gridcolor": "white",
           "linecolor": "white",
           "showgrid": true,
           "ticks": "",
           "title": {
            "standoff": 15
           },
           "zerolinecolor": "white"
          },
          "yaxis": {
           "automargin": true,
           "gridcolor": "white",
           "linecolor": "white",
           "showgrid": true,
           "ticks": "",
           "title": {
            "standoff": 15
           },
           "zerolinecolor": "white"
          }
         }
        },
        "title": {
         "text": "Trump Biden Spread"
        },
        "width": 1000,
        "xaxis": {
         "anchor": "y",
         "domain": [
          0,
          1
         ],
         "title": {
          "text": "End Date"
         }
        },
        "yaxis": {
         "anchor": "x",
         "domain": [
          0,
          1
         ],
         "title": {
          "text": "Difference"
         }
        }
       }
      }
     },
     "metadata": {},
     "output_type": "display_data"
    }
   ],
   "source": [
    "import plotly.express as px\n",
    "import pandas as pd\n",
    "\n",
    "# Assuming df is your DataFrame with time series data\n",
    "# Make sure the DataFrame has a column with datetime values\n",
    "\n",
    "# Create a simple time series chart using plotly express\n",
    "fig = px.scatter(df, x='End Date', y='Difference', trendline= \"ols\", title='Trump Biden Spread',\n",
    "              labels={'value_column': 'Y-axis Label', 'datetime_column': 'X-axis Label'},\n",
    "              color = 'Type of Voter',\n",
    "                hover_data=['pollster', 'Sample Size'],\n",
    "              template='seaborn', width=1000, height=600\n",
    "              )\n",
    "fig.show()"
   ]
  },
  {
   "cell_type": "markdown",
   "metadata": {},
   "source": [
    "## LV vs. RVs Time Series Analysis\n",
    "\n",
    "Also adjust for who is taking the poll/bias. Plus recency weighted bias. \n",
    "Predict spread based on LV vs. RV, date, and polling company. Work with ARIMA model, with dummy variables for polling companies.\n",
    "Baseline prediction could be realclear spread at that time. And then we can compare whether the spread is better or worse than our prediction. \n",
    "\n",
    "Look for differences between Joe Biden Voters and Liberal Voters, as well as Trump Voters and Conservative voters. Has anything changed?"
   ]
  },
  {
   "cell_type": "markdown",
   "metadata": {},
   "source": [
    "Difference between overall favorability, and job approval.\n",
    "\n",
    "Compare likely to vote for, vs. past voting."
   ]
  },
  {
   "cell_type": "code",
   "execution_count": 18,
   "metadata": {},
   "outputs": [
    {
     "name": "stderr",
     "output_type": "stream",
     "text": [
      "/Users/robbiefeldstein/anaconda3/lib/python3.11/site-packages/statsmodels/tsa/base/tsa_model.py:473: ValueWarning:\n",
      "\n",
      "A date index has been provided, but it has no associated frequency information and so will be ignored when e.g. forecasting.\n",
      "\n",
      "/Users/robbiefeldstein/anaconda3/lib/python3.11/site-packages/statsmodels/tsa/base/tsa_model.py:473: ValueWarning:\n",
      "\n",
      "A date index has been provided, but it has no associated frequency information and so will be ignored when e.g. forecasting.\n",
      "\n",
      "/Users/robbiefeldstein/anaconda3/lib/python3.11/site-packages/statsmodels/tsa/base/tsa_model.py:473: ValueWarning:\n",
      "\n",
      "A date index has been provided, but it has no associated frequency information and so will be ignored when e.g. forecasting.\n",
      "\n",
      "/Users/robbiefeldstein/anaconda3/lib/python3.11/site-packages/statsmodels/tsa/statespace/sarimax.py:966: UserWarning:\n",
      "\n",
      "Non-stationary starting autoregressive parameters found. Using zeros as starting parameters.\n",
      "\n",
      "/Users/robbiefeldstein/anaconda3/lib/python3.11/site-packages/statsmodels/tsa/statespace/sarimax.py:978: UserWarning:\n",
      "\n",
      "Non-invertible starting MA parameters found. Using zeros as starting parameters.\n",
      "\n",
      "/Users/robbiefeldstein/anaconda3/lib/python3.11/site-packages/statsmodels/tsa/base/tsa_model.py:836: ValueWarning:\n",
      "\n",
      "No supported index is available. Prediction results will be given with an integer index beginning at `start`.\n",
      "\n"
     ]
    },
    {
     "name": "stdout",
     "output_type": "stream",
     "text": [
      "Mean Squared Error: 8.61002409288914\n"
     ]
    },
    {
     "data": {
      "image/png": "[encoded data removed]",
      "text/plain": [
       "<Figure size 1200x600 with 1 Axes>"
      ]
     },
     "metadata": {},
     "output_type": "display_data"
    }
   ],
   "source": [
    "#Time Series Modeling (ARIMA)\n",
    "\n",
    "#Spread = Poll Company + Type of Voter + Date + Sample Size?\n",
    "\n",
    "from statsmodels.tsa.arima.model import ARIMA\n",
    "from sklearn.metrics import mean_squared_error\n",
    "\n",
    "ndf = df.copy()\n",
    "\n",
    "\n",
    "ndf.set_index('End Date', inplace=True)\n",
    "ndf.sort_index(inplace=True)\n",
    "\n",
    "\n",
    "\n",
    "# Train-Test Split\n",
    "train_size = int(len(ndf) * 0.8)\n",
    "train, test = ndf[:train_size], ndf[train_size:]\n",
    "\n",
    "# ARIMA Model\n",
    "order = (3, 2, 2)  # Set appropriate values for p, d, q\n",
    "model = ARIMA(train['Difference'], order=order)\n",
    "fit_model = model.fit()\n",
    "\n",
    "# Model Prediction\n",
    "predictions = fit_model.predict(start=len(train), end=len(train) + len(test) - 1, typ='levels')\n",
    "\n",
    "# Model Evaluation\n",
    "mse = mean_squared_error(test['Difference'], predictions)\n",
    "print(f'Mean Squared Error: {mse}')\n",
    "\n",
    "plt.figure(figsize=(12, 6))\n",
    "plt.plot(train.index, train['Difference'], label='Training Data')\n",
    "plt.plot(test.index, test['Difference'], label='Test Data')\n",
    "plt.plot(test.index, predictions, label='Predictions', linestyle='dashed')\n",
    "\n",
    "plt.title('ARIMA Model - Actual vs Predicted')\n",
    "plt.xlabel('End Date')\n",
    "plt.ylabel('Difference')\n",
    "plt.legend()\n",
    "plt.show()\n"
   ]
  },
  {
   "cell_type": "code",
   "execution_count": 29,
   "metadata": {},
   "outputs": [
    {
     "name": "stdout",
     "output_type": "stream",
     "text": [
      "Mean Squared Error: 7.6425746141848645\n",
      "[ 0.7956054  -0.57183422  1.89592068  1.82451429  1.57637357 -0.08115537\n",
      " -0.59881673  0.41876129  0.83759458  1.03021975  2.07476556  1.13558885\n",
      " -0.23680826 -0.12218853  0.7661882   0.50959128  0.08637825 -0.31445976\n",
      "  0.31267755  0.39896491  0.47741359 -0.57338394  2.41736137  1.15873605\n",
      "  1.70138629  1.56192095  1.54831106  0.85855778  0.63004481]\n"
     ]
    }
   ],
   "source": [
    "#Need to figure out how to get the pollster in here\n",
    "\n",
    "from sklearn.model_selection import train_test_split\n",
    "from sklearn.linear_model import LinearRegression\n",
    "from sklearn.metrics import mean_squared_error\n",
    "from sklearn.preprocessing import OneHotEncoder\n",
    "from sklearn.compose import ColumnTransformer\n",
    "from sklearn.pipeline import Pipeline\n",
    "\n",
    "\n",
    "ndf = df.copy()\n",
    "ndf[\"Year\"] = ndf[\"End Date\"].dt.year\n",
    "ndf[\"Month\"] = ndf[\"End Date\"].dt.month\n",
    "ndf[\"Day\"] = ndf[\"End Date\"].dt.day\n",
    "\n",
    "# Feature selection\n",
    "features = ['Type of Voter', 'Sample Size', 'pollster', 'Year', 'Month', 'Day']\n",
    "X = ndf[features]\n",
    "y = ndf['Difference']\n",
    "\n",
    "# Split the data into training and testing sets\n",
    "X_train, X_test, y_train, y_test = train_test_split(X, y, test_size=0.2, random_state=42)\n",
    "\n",
    "# Use OneHotEncoder for categorical variables and keep numeric variables as is\n",
    "preprocessor = ColumnTransformer(\n",
    "    transformers=[\n",
    "        ('cat', OneHotEncoder(), ['Type of Voter']),\n",
    "        ('num', 'passthrough', ['Sample Size', 'Year', 'Month', 'Day'])\n",
    "    ])\n",
    "\n",
    "# Create a pipeline with preprocessing and regression model\n",
    "model = Pipeline(steps=[('preprocessor', preprocessor),\n",
    "                        ('regressor', LinearRegression())])\n",
    "\n",
    "# Train the model\n",
    "model.fit(X_train, y_train)\n",
    "\n",
    "# Make predictions on the test set\n",
    "predictions = model.predict(X_test)\n",
    "\n",
    "# Evaluate the model\n",
    "mse = mean_squared_error(y_test, predictions)\n",
    "print(f'Mean Squared Error: {mse}')\n",
    "\n",
    "\n"
   ]
  }
 ],
 "metadata": {
  "kernelspec": {
   "display_name": "base",
   "language": "python",
   "name": "python3"
  },
  "language_info": {
   "codemirror_mode": {
    "name": "ipython",
    "version": 3
   },
   "file_extension": ".py",
   "mimetype": "text/x-python",
   "name": "python",
   "nbconvert_exporter": "python",
   "pygments_lexer": "ipython3",
   "version": "3.11.5"
  },
  "orig_nbformat": 4
 },
 "nbformat": 4,
 "nbformat_minor": 2
}
