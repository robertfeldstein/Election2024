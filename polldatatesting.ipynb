{
 "cells": [
  {
   "cell_type": "code",
   "execution_count": 13,
   "metadata": {},
   "outputs": [],
   "source": [
    "from selenium import webdriver\n",
    "from bs4 import BeautifulSoup\n",
    "import pandas as pd\n",
    "import time\n",
    "import numpy as np\n",
    "from datetime import datetime\n",
    "import matplotlib.pyplot as plt\n",
    "import seaborn as sns\n",
    "import warnings\n",
    "\n",
    "# Suppress a specific warning\n",
    "warnings.simplefilter(\"ignore\", category=FutureWarning)"
   ]
  },
  {
   "cell_type": "code",
   "execution_count": 14,
   "metadata": {},
   "outputs": [],
   "source": [
    "base_url = \"https://www.realclearpolling.com/polls/\"\n",
    "sample_url = \"president/republican-primary/2024/national\"\n",
    "sample_url = \"president/general/2024/trump-vs-biden\"\n",
    "url = base_url + sample_url"
   ]
  },
  {
   "cell_type": "code",
   "execution_count": 15,
   "metadata": {},
   "outputs": [],
   "source": [
    "# Create a webdriver instance and get the page source\n",
    "driver = webdriver.Chrome()\n",
    "driver.get(url)\n",
    "\n",
    "# Allow time for dynamic content to load (you may need to adjust the sleep duration)\n",
    "time.sleep(3)\n",
    "\n",
    "# Get the page source after dynamic content has loaded\n",
    "html_content = driver.page_source\n",
    "\n",
    "# Close the webdriver\n",
    "driver.quit()\n",
    "\n",
    "# Parse the HTML content with BeautifulSoup\n",
    "soup = BeautifulSoup(html_content, 'html5lib')\n",
    "\n",
    "# Now you can extract the table data using the same approach as before\n",
    "table = soup.find_all('table')\n",
    "\n",
    "if len(table)==2:\n",
    "    table = table[1]\n",
    "else:\n",
    "    table = table[0]\n",
    "\n",
    "table_data = []\n",
    "for row in table.find_all('tr'):\n",
    "    row_data = [cell.text.strip() for cell in row.find_all(['td','th'])]\n",
    "    table_data.append(row_data)"
   ]
  },
  {
   "cell_type": "code",
   "execution_count": 16,
   "metadata": {},
   "outputs": [
    {
     "data": {
      "text/html": [
       "<div>\n",
       "<style scoped>\n",
       "    .dataframe tbody tr th:only-of-type {\n",
       "        vertical-align: middle;\n",
       "    }\n",
       "\n",
       "    .dataframe tbody tr th {\n",
       "        vertical-align: top;\n",
       "    }\n",
       "\n",
       "    .dataframe thead th {\n",
       "        text-align: right;\n",
       "    }\n",
       "</style>\n",
       "<table border=\"1\" class=\"dataframe\">\n",
       "  <thead>\n",
       "    <tr style=\"text-align: right;\">\n",
       "      <th></th>\n",
       "      <th>pollster</th>\n",
       "      <th>date</th>\n",
       "      <th>sample</th>\n",
       "      <th>moe</th>\n",
       "      <th>Trump (R)</th>\n",
       "      <th>Biden (D)</th>\n",
       "      <th>spread</th>\n",
       "      <th>Difference</th>\n",
       "      <th>Type of Voter</th>\n",
       "      <th>Sample Size</th>\n",
       "      <th>End Date</th>\n",
       "      <th>Poll Month</th>\n",
       "      <th>Year</th>\n",
       "    </tr>\n",
       "  </thead>\n",
       "  <tbody>\n",
       "    <tr>\n",
       "      <th>0</th>\n",
       "      <td>Emerson</td>\n",
       "      <td>1/26 - 1/29</td>\n",
       "      <td>1260 RV</td>\n",
       "      <td>2.7</td>\n",
       "      <td>46</td>\n",
       "      <td>45</td>\n",
       "      <td>Trump+1</td>\n",
       "      <td>1.0</td>\n",
       "      <td>RV</td>\n",
       "      <td>1260</td>\n",
       "      <td>2024-01-29</td>\n",
       "      <td>1</td>\n",
       "      <td>2024</td>\n",
       "    </tr>\n",
       "    <tr>\n",
       "      <th>1</th>\n",
       "      <td>Morning Consult</td>\n",
       "      <td>1/26 - 1/28</td>\n",
       "      <td>6487 RV</td>\n",
       "      <td>1.0</td>\n",
       "      <td>44</td>\n",
       "      <td>42</td>\n",
       "      <td>Trump+2</td>\n",
       "      <td>2.0</td>\n",
       "      <td>RV</td>\n",
       "      <td>6487</td>\n",
       "      <td>2024-01-28</td>\n",
       "      <td>1</td>\n",
       "      <td>2024</td>\n",
       "    </tr>\n",
       "    <tr>\n",
       "      <th>2</th>\n",
       "      <td>Reuters/Ipsos</td>\n",
       "      <td>1/22 - 1/24</td>\n",
       "      <td>1028 RV</td>\n",
       "      <td>—</td>\n",
       "      <td>43</td>\n",
       "      <td>38</td>\n",
       "      <td>Trump+5</td>\n",
       "      <td>5.0</td>\n",
       "      <td>RV</td>\n",
       "      <td>1028</td>\n",
       "      <td>2024-01-24</td>\n",
       "      <td>1</td>\n",
       "      <td>2024</td>\n",
       "    </tr>\n",
       "    <tr>\n",
       "      <th>3</th>\n",
       "      <td>Economist/YouGov</td>\n",
       "      <td>1/21 - 1/23</td>\n",
       "      <td>1497 RV</td>\n",
       "      <td>2.8</td>\n",
       "      <td>44</td>\n",
       "      <td>43</td>\n",
       "      <td>Trump+1</td>\n",
       "      <td>1.0</td>\n",
       "      <td>RV</td>\n",
       "      <td>1497</td>\n",
       "      <td>2024-01-23</td>\n",
       "      <td>1</td>\n",
       "      <td>2024</td>\n",
       "    </tr>\n",
       "    <tr>\n",
       "      <th>4</th>\n",
       "      <td>The Messenger/HarrisX</td>\n",
       "      <td>1/17 - 1/21</td>\n",
       "      <td>3034 RV</td>\n",
       "      <td>1.8</td>\n",
       "      <td>53</td>\n",
       "      <td>47</td>\n",
       "      <td>Trump+6</td>\n",
       "      <td>6.0</td>\n",
       "      <td>RV</td>\n",
       "      <td>3034</td>\n",
       "      <td>2024-01-21</td>\n",
       "      <td>1</td>\n",
       "      <td>2024</td>\n",
       "    </tr>\n",
       "  </tbody>\n",
       "</table>\n",
       "</div>"
      ],
      "text/plain": [
       "                pollster         date   sample  moe Trump (R) Biden (D)  \\\n",
       "0                Emerson  1/26 - 1/29  1260 RV  2.7        46        45   \n",
       "1        Morning Consult  1/26 - 1/28  6487 RV  1.0        44        42   \n",
       "2          Reuters/Ipsos  1/22 - 1/24  1028 RV    —        43        38   \n",
       "3       Economist/YouGov  1/21 - 1/23  1497 RV  2.8        44        43   \n",
       "4  The Messenger/HarrisX  1/17 - 1/21  3034 RV  1.8        53        47   \n",
       "\n",
       "    spread  Difference Type of Voter Sample Size   End Date  Poll Month  Year  \n",
       "0  Trump+1         1.0            RV        1260 2024-01-29           1  2024  \n",
       "1  Trump+2         2.0            RV        6487 2024-01-28           1  2024  \n",
       "2  Trump+5         5.0            RV        1028 2024-01-24           1  2024  \n",
       "3  Trump+1         1.0            RV        1497 2024-01-23           1  2024  \n",
       "4  Trump+6         6.0            RV        3034 2024-01-21           1  2024  "
      ]
     },
     "execution_count": 16,
     "metadata": {},
     "output_type": "execute_result"
    }
   ],
   "source": [
    "#Convert table data to a dataframe\n",
    "#We remove the first row since this is RCP summary data that we don't want to use\n",
    "\n",
    "current_year = str(datetime.now().year)\n",
    "prev_year = str(datetime.now().year-1)\n",
    "\n",
    "\n",
    "df = pd.DataFrame(table_data[2:150], columns=table_data[0])\n",
    "df[\"Difference\"] = df[\"Trump (R)\"].astype(float) - df[\"Biden (D)\"].astype(float)\n",
    "df[\"Type of Voter\"] = df[\"sample\"].str.split(\" \").str[1]\n",
    "df[\"Sample Size\"] = df[\"sample\"].str.split(\" \").str[0]\n",
    "#We need to add the year to the date to make it a datetime object\n",
    "#We need to make sure the year we add is the year the poll was taken, not necessarily the current year\n",
    "df[\"End Date\"] = df[\"date\"].str.split(\"-\").str[1] \n",
    "df[\"Poll Month\"] = df[\"date\"].str.split(\"-\").str[1].str.split(\"/\").str[0]\n",
    "df[\"Poll Month\"] = df[\"Poll Month\"].astype(int)\n",
    "first_dec = df[df[\"Poll Month\"]==12].index[0]\n",
    "df[\"Year\"] = [current_year]*first_dec + [prev_year]*(len(df)-first_dec)\n",
    "df[\"End Date\"] = df[\"End Date\"] + \"/\" + df[\"Year\"]\n",
    "df[\"End Date\"] = np.array(pd.to_datetime(df[\"End Date\"], format=\"mixed\"))\n",
    "df = df[df[\"Type of Voter\"].isin([\"RV\", \"LV\"])]\n",
    "df.head()"
   ]
  },
  {
   "cell_type": "code",
   "execution_count": 6,
   "metadata": {},
   "outputs": [
    {
     "data": {
      "application/vnd.plotly.v1+json": {
       "config": {
        "plotlyServerURL": "https://plot.ly"
       },
       "data": [
        {
         "customdata": [
          [
           "Emerson",
           "1260"
          ],
          [
           "Morning Consult",
           "6487"
          ],
          [
           "Reuters/Ipsos",
           "1028"
          ],
          [
           "Economist/YouGov",
           "1497"
          ],
          [
           "The Messenger/HarrisX",
           "3034"
          ],
          [
           "Morning Consult",
           "6417"
          ],
          [
           "Harvard-Harris",
           "2346"
          ],
          [
           "The Messenger/HarrisX",
           "1045"
          ],
          [
           "Economist/YouGov",
           "1472"
          ],
          [
           "Morning Consult",
           "6606"
          ],
          [
           "Economist/YouGov",
           "1417"
          ],
          [
           "Reuters/Ipsos",
           "4677"
          ],
          [
           "Morning Consult",
           "6367"
          ],
          [
           "I&I/TIPP",
           "1247"
          ],
          [
           "Economist/YouGov",
           "1343"
          ],
          [
           "Morning Consult",
           "6816"
          ],
          [
           "Economist/YouGov",
           "1336"
          ],
          [
           "Morning Consult",
           "5618"
          ],
          [
           "Quinnipiac",
           "1647"
          ],
          [
           "Yahoo News",
           "1027"
          ],
          [
           "Harvard-Harris",
           "2034"
          ],
          [
           "FOX News",
           "1007"
          ],
          [
           "Economist/YouGov",
           "1332"
          ],
          [
           "Morning Consult",
           "5840"
          ],
          [
           "NPR/PBS/Marist",
           "1129"
          ],
          [
           "Emerson",
           "1000"
          ],
          [
           "Economist/YouGov",
           "1291"
          ],
          [
           "Wall Street Journal",
           "1500"
          ],
          [
           "The Messenger/HarrisX",
           "2018"
          ],
          [
           "Morning Consult",
           "5855"
          ],
          [
           "I&I/TIPP",
           "1301"
          ],
          [
           "The Messenger/HarrisX",
           "4003"
          ],
          [
           "Economist/YouGov",
           "1323"
          ],
          [
           "Morning Consult",
           "6527"
          ],
          [
           "Emerson",
           "1475"
          ],
          [
           "Morning Consult",
           "5855"
          ],
          [
           "The Messenger/HarrisX",
           "3017"
          ],
          [
           "Harvard-Harris",
           "2851"
          ],
          [
           "Economist/YouGov",
           "1272"
          ],
          [
           "NBC News",
           "1000"
          ],
          [
           "FOX News",
           "1001"
          ],
          [
           "Quinnipiac",
           "1574"
          ],
          [
           "Yahoo News",
           "1058"
          ],
          [
           "Morning Consult",
           "6130"
          ],
          [
           "Marquette",
           "856"
          ],
          [
           "Morning Consult",
           "5000"
          ],
          [
           "I&I/TIPP",
           "1242"
          ],
          [
           "The Messenger/HarrisX",
           "2021"
          ],
          [
           "CNN",
           "1271"
          ],
          [
           "Economist/YouGov",
           "1333"
          ],
          [
           "Quinnipiac",
           "1610"
          ],
          [
           "Morning Consult",
           "5000"
          ],
          [
           "Harvard-Harris",
           "2116"
          ],
          [
           "USA Today/Suffolk",
           "1000"
          ],
          [
           "Morning Consult",
           "5000"
          ],
          [
           "The Messenger/HarrisX",
           "3029"
          ],
          [
           "Emerson",
           "1578"
          ],
          [
           "Yahoo News",
           "1120"
          ],
          [
           "Economist/YouGov",
           "1296"
          ],
          [
           "Morning Consult",
           "5000"
          ],
          [
           "NPR/PBS/Marist",
           "1218"
          ],
          [
           "FOX News",
           "1007"
          ],
          [
           "Morning Consult",
           "5000"
          ],
          [
           "The Messenger/HarrisX",
           "2982"
          ],
          [
           "Morning Consult",
           "5000"
          ],
          [
           "The Messenger/HarrisX",
           "1615"
          ],
          [
           "I&I/TIPP",
           "1262"
          ],
          [
           "New York Post",
           "1169"
          ],
          [
           "NPR/PBS/Marist",
           "1137"
          ],
          [
           "Economist/YouGov",
           "1293"
          ],
          [
           "Morning Consult",
           "6000"
          ],
          [
           "Marquette",
           "781"
          ],
          [
           "ABC News/Wash Post",
           "890"
          ],
          [
           "NBC News",
           "1000"
          ],
          [
           "The Messenger/HarrisX",
           "3015"
          ],
          [
           "Emerson",
           "1125"
          ],
          [
           "Yahoo News",
           "1097"
          ],
          [
           "Morning Consult",
           "6000"
          ],
          [
           "Harvard-Harris",
           "2103"
          ],
          [
           "Economist/YouGov",
           "1334"
          ],
          [
           "FOX News",
           "1012"
          ],
          [
           "Quinnipiac",
           "1726"
          ],
          [
           "The Messenger/HarrisX",
           "3015"
          ],
          [
           "Morning Consult",
           "6000"
          ],
          [
           "CNN",
           "1259"
          ],
          [
           "Wall Street Journal",
           "1500"
          ],
          [
           "Morning Consult",
           "5000"
          ],
          [
           "Economist/YouGov",
           "1303"
          ],
          [
           "Morning Consult",
           "5000"
          ],
          [
           "Emerson",
           "1000"
          ],
          [
           "The Messenger/HarrisX",
           "2013"
          ],
          [
           "New York Post",
           "1551"
          ],
          [
           "Yahoo News",
           "1113"
          ],
          [
           "Morning Consult",
           "6000"
          ],
          [
           "Emerson",
           "1000"
          ],
          [
           "FOX News",
           "1002"
          ],
          [
           "Quinnipiac",
           "1632"
          ],
          [
           "Marist",
           "1100"
          ],
          [
           "Economist/YouGov",
           "1321"
          ],
          [
           "Morning Consult",
           "6000"
          ],
          [
           "Morning Consult",
           "6000"
          ],
          [
           "NY Times/Siena",
           "1329"
          ],
          [
           "Morning Consult",
           "6000"
          ],
          [
           "The Messenger/HarrisX",
           "922"
          ],
          [
           "Economist/YouGov",
           "1306"
          ],
          [
           "Morning Consult",
           "6000"
          ],
          [
           "Harvard-Harris",
           "2068"
          ],
          [
           "Quinnipiac",
           "1809"
          ],
          [
           "Yahoo News",
           "1098"
          ],
          [
           "Morning Consult",
           "6000"
          ],
          [
           "Marquette",
           "788"
          ],
          [
           "Morning Consult",
           "6000"
          ],
          [
           "Economist/YouGov",
           "1296"
          ],
          [
           "The Messenger/HarrisX",
           "915"
          ],
          [
           "Economist/YouGov",
           "1315"
          ],
          [
           "The Messenger/HarrisX",
           "2875"
          ],
          [
           "NBC News",
           "1000"
          ],
          [
           "Emerson",
           "1015"
          ],
          [
           "Yahoo News",
           "1091"
          ],
          [
           "The Messenger/HarrisX",
           "930"
          ],
          [
           "Harvard-Harris",
           "2090"
          ],
          [
           "Economist/YouGov",
           "1303"
          ],
          [
           "Quinnipiac",
           "1735"
          ],
          [
           "Economist/YouGov",
           "1313"
          ],
          [
           "Yahoo News**",
           "1015"
          ],
          [
           "Quinnipiac",
           "1616"
          ],
          [
           "Harvard-Harris",
           "2004"
          ],
          [
           "Economist/YouGov",
           "1302"
          ],
          [
           "Marquette",
           "833"
          ],
          [
           "Yahoo News**",
           "1060"
          ],
          [
           "ABC News/Wash Post",
           "900"
          ]
         ],
         "hovertemplate": "Type of Voter=RV<br>End Date=%{x}<br>Difference=%{y}<br>pollster=%{customdata[0]}<br>Sample Size=%{customdata[1]}<extra></extra>",
         "legendgroup": "RV",
         "marker": {
          "color": "rgb(76,114,176)",
          "symbol": "circle"
         },
         "mode": "markers",
         "name": "RV",
         "orientation": "v",
         "showlegend": true,
         "type": "scatter",
         "x": [
          "2024-01-29T00:00:00",
          "2024-01-28T00:00:00",
          "2024-01-24T00:00:00",
          "2024-01-23T00:00:00",
          "2024-01-21T00:00:00",
          "2024-01-21T00:00:00",
          "2024-01-18T00:00:00",
          "2024-01-17T00:00:00",
          "2024-01-16T00:00:00",
          "2024-01-15T00:00:00",
          "2024-01-09T00:00:00",
          "2024-01-09T00:00:00",
          "2024-01-07T00:00:00",
          "2024-01-05T00:00:00",
          "2024-01-02T00:00:00",
          "2024-01-01T00:00:00",
          "2023-12-18T00:00:00",
          "2023-12-17T00:00:00",
          "2023-12-18T00:00:00",
          "2023-12-18T00:00:00",
          "2023-12-14T00:00:00",
          "2023-12-13T00:00:00",
          "2023-12-12T00:00:00",
          "2023-12-10T00:00:00",
          "2023-12-07T00:00:00",
          "2023-12-06T00:00:00",
          "2023-12-05T00:00:00",
          "2023-12-04T00:00:00",
          "2023-12-01T00:00:00",
          "2023-12-03T00:00:00",
          "2023-12-01T00:00:00",
          "2023-11-28T00:00:00",
          "2023-11-27T00:00:00",
          "2023-11-26T00:00:00",
          "2023-11-20T00:00:00",
          "2023-11-19T00:00:00",
          "2023-11-19T00:00:00",
          "2023-11-16T00:00:00",
          "2023-11-14T00:00:00",
          "2023-11-14T00:00:00",
          "2023-11-13T00:00:00",
          "2023-11-13T00:00:00",
          "2023-11-13T00:00:00",
          "2023-11-12T00:00:00",
          "2023-11-07T00:00:00",
          "2023-11-05T00:00:00",
          "2023-11-03T00:00:00",
          "2023-11-01T00:00:00",
          "2023-11-02T00:00:00",
          "2023-10-31T00:00:00",
          "2023-10-30T00:00:00",
          "2023-10-29T00:00:00",
          "2023-10-19T00:00:00",
          "2023-10-20T00:00:00",
          "2023-10-22T00:00:00",
          "2023-10-23T00:00:00",
          "2023-10-17T00:00:00",
          "2023-10-16T00:00:00",
          "2023-10-17T00:00:00",
          "2023-10-15T00:00:00",
          "2023-10-11T00:00:00",
          "2023-10-09T00:00:00",
          "2023-10-08T00:00:00",
          "2023-10-07T00:00:00",
          "2023-10-01T00:00:00",
          "2023-09-29T00:00:00",
          "2023-09-29T00:00:00",
          "2023-09-28T00:00:00",
          "2023-09-28T00:00:00",
          "2023-09-26T00:00:00",
          "2023-09-24T00:00:00",
          "2023-09-25T00:00:00",
          "2023-09-20T00:00:00",
          "2023-09-19T00:00:00",
          "2023-09-19T00:00:00",
          "2023-09-18T00:00:00",
          "2023-09-18T00:00:00",
          "2023-09-17T00:00:00",
          "2023-09-14T00:00:00",
          "2023-09-12T00:00:00",
          "2023-09-12T00:00:00",
          "2023-09-11T00:00:00",
          "2023-09-11T00:00:00",
          "2023-09-10T00:00:00",
          "2023-08-31T00:00:00",
          "2023-08-30T00:00:00",
          "2023-09-04T00:00:00",
          "2023-08-29T00:00:00",
          "2023-08-27T00:00:00",
          "2023-08-26T00:00:00",
          "2023-08-26T00:00:00",
          "2023-08-24T00:00:00",
          "2023-08-21T00:00:00",
          "2023-08-20T00:00:00",
          "2023-08-17T00:00:00",
          "2023-08-14T00:00:00",
          "2023-08-14T00:00:00",
          "2023-08-14T00:00:00",
          "2023-08-15T00:00:00",
          "2023-08-13T00:00:00",
          "2023-08-06T00:00:00",
          "2023-07-27T00:00:00",
          "2023-07-30T00:00:00",
          "2023-07-24T00:00:00",
          "2023-07-25T00:00:00",
          "2023-07-23T00:00:00",
          "2023-07-20T00:00:00",
          "2023-07-17T00:00:00",
          "2023-07-17T00:00:00",
          "2023-07-16T00:00:00",
          "2023-07-12T00:00:00",
          "2023-07-09T00:00:00",
          "2023-07-11T00:00:00",
          "2023-07-06T00:00:00",
          "2023-06-27T00:00:00",
          "2023-06-23T00:00:00",
          "2023-06-20T00:00:00",
          "2023-06-20T00:00:00",
          "2023-06-20T00:00:00",
          "2023-06-16T00:00:00",
          "2023-06-15T00:00:00",
          "2023-06-13T00:00:00",
          "2023-06-12T00:00:00",
          "2023-05-31T00:00:00",
          "2023-05-30T00:00:00",
          "2023-05-22T00:00:00",
          "2023-05-18T00:00:00",
          "2023-05-16T00:00:00",
          "2023-05-18T00:00:00",
          "2023-05-08T00:00:00",
          "2023-05-03T00:00:00"
         ],
         "xaxis": "x",
         "y": [
          1,
          2,
          5,
          1,
          6,
          5,
          6,
          4,
          -1,
          2,
          0,
          0,
          -1,
          1,
          0,
          1,
          0,
          2,
          -1,
          0,
          4,
          4,
          0,
          2,
          -1,
          4,
          -1,
          4,
          6,
          0,
          2,
          4,
          -2,
          -1,
          4,
          3,
          6,
          6,
          1,
          2,
          4,
          2,
          2,
          1,
          4,
          2,
          -2,
          2,
          4,
          0,
          -1,
          0,
          4,
          0,
          0,
          4,
          2,
          -1,
          -1,
          -2,
          -3,
          -1,
          -1,
          4,
          0,
          3,
          0,
          3,
          -2,
          -5,
          -1,
          3,
          10,
          0,
          5,
          0,
          0,
          0,
          4,
          -1,
          2,
          -1,
          1,
          -2,
          1,
          0,
          -3,
          1,
          -1,
          2,
          -1,
          3,
          -6,
          -2,
          0,
          -3,
          -1,
          -1,
          -1,
          -2,
          -1,
          0,
          -3,
          4,
          -4,
          -2,
          5,
          -5,
          -4,
          -2,
          0,
          -1,
          0,
          0,
          4,
          2,
          -4,
          -1,
          -4,
          2,
          6,
          0,
          -4,
          -3,
          -7,
          -2,
          7,
          2,
          5,
          -2,
          6
         ],
         "yaxis": "y"
        },
        {
         "hovertemplate": "<b>OLS trendline</b><br>Difference = 1.33618e-07 * End Date + -225.843<br>R<sup>2</sup>=0.075489<br><br>Type of Voter=RV<br>End Date=%{x}<br>Difference=%{y} <b>(trend)</b><extra></extra>",
         "legendgroup": "RV",
         "marker": {
          "color": "rgb(76,114,176)",
          "symbol": "circle"
         },
         "mode": "lines",
         "name": "RV",
         "showlegend": false,
         "type": "scatter",
         "x": [
          "2023-05-03T00:00:00",
          "2023-05-08T00:00:00",
          "2023-05-16T00:00:00",
          "2023-05-18T00:00:00",
          "2023-05-18T00:00:00",
          "2023-05-22T00:00:00",
          "2023-05-30T00:00:00",
          "2023-05-31T00:00:00",
          "2023-06-12T00:00:00",
          "2023-06-13T00:00:00",
          "2023-06-15T00:00:00",
          "2023-06-16T00:00:00",
          "2023-06-20T00:00:00",
          "2023-06-20T00:00:00",
          "2023-06-20T00:00:00",
          "2023-06-23T00:00:00",
          "2023-06-27T00:00:00",
          "2023-07-06T00:00:00",
          "2023-07-09T00:00:00",
          "2023-07-11T00:00:00",
          "2023-07-12T00:00:00",
          "2023-07-16T00:00:00",
          "2023-07-17T00:00:00",
          "2023-07-17T00:00:00",
          "2023-07-20T00:00:00",
          "2023-07-23T00:00:00",
          "2023-07-24T00:00:00",
          "2023-07-25T00:00:00",
          "2023-07-27T00:00:00",
          "2023-07-30T00:00:00",
          "2023-08-06T00:00:00",
          "2023-08-13T00:00:00",
          "2023-08-14T00:00:00",
          "2023-08-14T00:00:00",
          "2023-08-14T00:00:00",
          "2023-08-15T00:00:00",
          "2023-08-17T00:00:00",
          "2023-08-20T00:00:00",
          "2023-08-21T00:00:00",
          "2023-08-24T00:00:00",
          "2023-08-26T00:00:00",
          "2023-08-26T00:00:00",
          "2023-08-27T00:00:00",
          "2023-08-29T00:00:00",
          "2023-08-30T00:00:00",
          "2023-08-31T00:00:00",
          "2023-09-04T00:00:00",
          "2023-09-10T00:00:00",
          "2023-09-11T00:00:00",
          "2023-09-11T00:00:00",
          "2023-09-12T00:00:00",
          "2023-09-12T00:00:00",
          "2023-09-14T00:00:00",
          "2023-09-17T00:00:00",
          "2023-09-18T00:00:00",
          "2023-09-18T00:00:00",
          "2023-09-19T00:00:00",
          "2023-09-19T00:00:00",
          "2023-09-20T00:00:00",
          "2023-09-24T00:00:00",
          "2023-09-25T00:00:00",
          "2023-09-26T00:00:00",
          "2023-09-28T00:00:00",
          "2023-09-28T00:00:00",
          "2023-09-29T00:00:00",
          "2023-09-29T00:00:00",
          "2023-10-01T00:00:00",
          "2023-10-07T00:00:00",
          "2023-10-08T00:00:00",
          "2023-10-09T00:00:00",
          "2023-10-11T00:00:00",
          "2023-10-15T00:00:00",
          "2023-10-16T00:00:00",
          "2023-10-17T00:00:00",
          "2023-10-17T00:00:00",
          "2023-10-19T00:00:00",
          "2023-10-20T00:00:00",
          "2023-10-22T00:00:00",
          "2023-10-23T00:00:00",
          "2023-10-29T00:00:00",
          "2023-10-30T00:00:00",
          "2023-10-31T00:00:00",
          "2023-11-01T00:00:00",
          "2023-11-02T00:00:00",
          "2023-11-03T00:00:00",
          "2023-11-05T00:00:00",
          "2023-11-07T00:00:00",
          "2023-11-12T00:00:00",
          "2023-11-13T00:00:00",
          "2023-11-13T00:00:00",
          "2023-11-13T00:00:00",
          "2023-11-14T00:00:00",
          "2023-11-14T00:00:00",
          "2023-11-16T00:00:00",
          "2023-11-19T00:00:00",
          "2023-11-19T00:00:00",
          "2023-11-20T00:00:00",
          "2023-11-26T00:00:00",
          "2023-11-27T00:00:00",
          "2023-11-28T00:00:00",
          "2023-12-01T00:00:00",
          "2023-12-01T00:00:00",
          "2023-12-03T00:00:00",
          "2023-12-04T00:00:00",
          "2023-12-05T00:00:00",
          "2023-12-06T00:00:00",
          "2023-12-07T00:00:00",
          "2023-12-10T00:00:00",
          "2023-12-12T00:00:00",
          "2023-12-13T00:00:00",
          "2023-12-14T00:00:00",
          "2023-12-17T00:00:00",
          "2023-12-18T00:00:00",
          "2023-12-18T00:00:00",
          "2023-12-18T00:00:00",
          "2024-01-01T00:00:00",
          "2024-01-02T00:00:00",
          "2024-01-05T00:00:00",
          "2024-01-07T00:00:00",
          "2024-01-09T00:00:00",
          "2024-01-09T00:00:00",
          "2024-01-15T00:00:00",
          "2024-01-16T00:00:00",
          "2024-01-17T00:00:00",
          "2024-01-18T00:00:00",
          "2024-01-21T00:00:00",
          "2024-01-21T00:00:00",
          "2024-01-23T00:00:00",
          "2024-01-24T00:00:00",
          "2024-01-28T00:00:00",
          "2024-01-29T00:00:00"
         ],
         "xaxis": "x",
         "y": [
          -0.9548228545030736,
          -0.8970999785651242,
          -0.8047433770644052,
          -0.7816542266892256,
          -0.7816542266892256,
          -0.7354759259388661,
          -0.6431193244381471,
          -0.6315747492505572,
          -0.49303984699947884,
          -0.481495271811889,
          -0.4584061214367092,
          -0.4468615462491194,
          -0.4006832454987599,
          -0.4006832454987599,
          -0.4006832454987599,
          -0.36604951993599033,
          -0.31987121918563083,
          -0.21597004249732202,
          -0.1813363169345524,
          -0.15824716655937268,
          -0.14670259137178282,
          -0.10052429062142335,
          -0.08897971543383347,
          -0.08897971543383347,
          -0.054345989871063864,
          -0.019712264308294262,
          -0.008167689120704395,
          0.003376886066885473,
          0.02646603644206521,
          0.061099762004834815,
          0.1419117883179639,
          0.22272381463109298,
          0.23426838981868284,
          0.23426838981868284,
          0.23426838981868284,
          0.2458129650062727,
          0.2689021153814524,
          0.30353584094422204,
          0.3150804161318119,
          0.34971414169458154,
          0.37280329206976126,
          0.37280329206976126,
          0.3843478672573511,
          0.4074370176325309,
          0.4189815928201207,
          0.4305261680077106,
          0.47670446875807004,
          0.5459719198836093,
          0.5575164950711992,
          0.5575164950711992,
          0.569061070258789,
          0.569061070258789,
          0.5921502206339687,
          0.6267839461967384,
          0.6383285213843282,
          0.6383285213843282,
          0.649873096571918,
          0.649873096571918,
          0.6614176717595079,
          0.7075959725098674,
          0.7191405476974573,
          0.7306851228850472,
          0.753774273260227,
          0.753774273260227,
          0.7653188484478167,
          0.7653188484478167,
          0.7884079988229965,
          0.8576754499485357,
          0.8692200251361256,
          0.8807646003237154,
          0.9038537506988952,
          0.9500320514492546,
          0.9615766266368445,
          0.9731212018244344,
          0.9731212018244344,
          0.9962103521996141,
          1.007754927387204,
          1.0308440777623837,
          1.0423886529499735,
          1.1116561040755129,
          1.1232006792631026,
          1.1347452544506926,
          1.1462898296382824,
          1.1578344048258722,
          1.1693789800134622,
          1.192468130388642,
          1.2155572807638215,
          1.2732801567017709,
          1.2848247318893609,
          1.2848247318893609,
          1.2848247318893609,
          1.2963693070769506,
          1.2963693070769506,
          1.3194584574521304,
          1.3540921830149,
          1.3540921830149,
          1.36563675820249,
          1.434904209328029,
          1.4464487845156189,
          1.4579933597032089,
          1.4926270852659784,
          1.4926270852659784,
          1.5157162356411582,
          1.527260810828748,
          1.538805386016338,
          1.5503499612039278,
          1.5618945363915178,
          1.5965282619542873,
          1.619617412329467,
          1.6311619875170569,
          1.6427065627046467,
          1.6773402882674164,
          1.6888848634550062,
          1.6888848634550062,
          1.6888848634550062,
          1.8505089160812644,
          1.8620534912688542,
          1.8966872168316238,
          1.9197763672068036,
          1.9428655175819833,
          1.9428655175819833,
          2.0121329687075225,
          2.0236775438951122,
          2.0352221190827025,
          2.0467666942702922,
          2.0814004198330616,
          2.0814004198330616,
          2.1044895702082416,
          2.1160341453958313,
          2.162212446146191,
          2.1737570213337807
         ],
         "yaxis": "y"
        },
        {
         "customdata": [
          [
           "CBS News",
           "1906"
          ],
          [
           "Rasmussen Reports",
           "968"
          ],
          [
           "USA Today/Suffolk",
           "1000"
          ],
          [
           "NY Times/Siena",
           "1016"
          ],
          [
           "Rasmussen Reports",
           "892"
          ],
          [
           "Rasmussen Reports",
           "987"
          ],
          [
           "CBS News",
           "1759"
          ],
          [
           "Grinnell/Selzer",
           "784"
          ],
          [
           "Reuters/Ipsos",
           "672"
          ],
          [
           "SurveyUSA",
           "2330"
          ],
          [
           "CBS News",
           "2680"
          ],
          [
           "Rasmussen Reports",
           "979"
          ],
          [
           "InsiderAdvantage",
           "850"
          ],
          [
           "Rasmussen Reports",
           "986"
          ]
         ],
         "hovertemplate": "Type of Voter=LV<br>End Date=%{x}<br>Difference=%{y}<br>pollster=%{customdata[0]}<br>Sample Size=%{customdata[1]}<extra></extra>",
         "legendgroup": "LV",
         "marker": {
          "color": "rgb(221,132,82)",
          "symbol": "circle"
         },
         "mode": "markers",
         "name": "LV",
         "orientation": "v",
         "showlegend": true,
         "type": "scatter",
         "x": [
          "2024-01-12T00:00:00",
          "2024-01-09T00:00:00",
          "2023-12-29T00:00:00",
          "2023-12-14T00:00:00",
          "2023-12-07T00:00:00",
          "2023-11-12T00:00:00",
          "2023-11-02T00:00:00",
          "2023-10-15T00:00:00",
          "2023-10-04T00:00:00",
          "2023-10-03T00:00:00",
          "2023-09-15T00:00:00",
          "2023-09-13T00:00:00",
          "2023-08-01T00:00:00",
          "2023-06-14T00:00:00"
         ],
         "xaxis": "x",
         "y": [
          2,
          8,
          1,
          -2,
          10,
          -4,
          3,
          0,
          -1,
          0,
          1,
          -1,
          -1,
          6
         ],
         "yaxis": "y"
        },
        {
         "hovertemplate": "<b>OLS trendline</b><br>Difference = 1.0246e-07 * End Date + -172.417<br>R<sup>2</sup>=0.019365<br><br>Type of Voter=LV<br>End Date=%{x}<br>Difference=%{y} <b>(trend)</b><extra></extra>",
         "legendgroup": "LV",
         "marker": {
          "color": "rgb(221,132,82)",
          "symbol": "circle"
         },
         "mode": "lines",
         "name": "LV",
         "showlegend": false,
         "type": "scatter",
         "x": [
          "2023-06-14T00:00:00",
          "2023-08-01T00:00:00",
          "2023-09-13T00:00:00",
          "2023-09-15T00:00:00",
          "2023-10-03T00:00:00",
          "2023-10-04T00:00:00",
          "2023-10-15T00:00:00",
          "2023-11-02T00:00:00",
          "2023-11-12T00:00:00",
          "2023-12-07T00:00:00",
          "2023-12-14T00:00:00",
          "2023-12-29T00:00:00",
          "2024-01-09T00:00:00",
          "2024-01-12T00:00:00"
         ],
         "xaxis": "x",
         "y": [
          0.40289192783795835,
          0.8278143436890788,
          1.2084740078890408,
          1.2261791085495042,
          1.3855250144936744,
          1.394377564823906,
          1.4917556184564544,
          1.6511015244006246,
          1.7396270277029415,
          1.9609407859587333,
          2.022908638270355,
          2.1556968932238303,
          2.253074946856379,
          2.2796325978470735
         ],
         "yaxis": "y"
        }
       ],
       "layout": {
        "height": 600,
        "legend": {
         "title": {
          "text": "Type of Voter"
         },
         "tracegroupgap": 0
        },
        "template": {
         "data": {
          "bar": [
           {
            "error_x": {
             "color": "rgb(36,36,36)"
            },
            "error_y": {
             "color": "rgb(36,36,36)"
            },
            "marker": {
             "line": {
              "color": "rgb(234,234,242)",
              "width": 0.5
             },
             "pattern": {
              "fillmode": "overlay",
              "size": 10,
              "solidity": 0.2
             }
            },
            "type": "bar"
           }
          ],
          "barpolar": [
           {
            "marker": {
             "line": {
              "color": "rgb(234,234,242)",
              "width": 0.5
             },
             "pattern": {
              "fillmode": "overlay",
              "size": 10,
              "solidity": 0.2
             }
            },
            "type": "barpolar"
           }
          ],
          "carpet": [
           {
            "aaxis": {
             "endlinecolor": "rgb(36,36,36)",
             "gridcolor": "white",
             "linecolor": "white",
             "minorgridcolor": "white",
             "startlinecolor": "rgb(36,36,36)"
            },
            "baxis": {
             "endlinecolor": "rgb(36,36,36)",
             "gridcolor": "white",
             "linecolor": "white",
             "minorgridcolor": "white",
             "startlinecolor": "rgb(36,36,36)"
            },
            "type": "carpet"
           }
          ],
          "choropleth": [
           {
            "colorbar": {
             "outlinewidth": 0,
             "tickcolor": "rgb(36,36,36)",
             "ticklen": 8,
             "ticks": "outside",
             "tickwidth": 2
            },
            "type": "choropleth"
           }
          ],
          "contour": [
           {
            "colorbar": {
             "outlinewidth": 0,
             "tickcolor": "rgb(36,36,36)",
             "ticklen": 8,
             "ticks": "outside",
             "tickwidth": 2
            },
            "colorscale": [
             [
              0,
              "rgb(2,4,25)"
             ],
             [
              0.06274509803921569,
              "rgb(24,15,41)"
             ],
             [
              0.12549019607843137,
              "rgb(47,23,57)"
             ],
             [
              0.18823529411764706,
              "rgb(71,28,72)"
             ],
             [
              0.25098039215686274,
              "rgb(97,30,82)"
             ],
             [
              0.3137254901960784,
              "rgb(123,30,89)"
             ],
             [
              0.3764705882352941,
              "rgb(150,27,91)"
             ],
             [
              0.4392156862745098,
              "rgb(177,22,88)"
             ],
             [
              0.5019607843137255,
              "rgb(203,26,79)"
             ],
             [
              0.5647058823529412,
              "rgb(223,47,67)"
             ],
             [
              0.6274509803921569,
              "rgb(236,76,61)"
             ],
             [
              0.6901960784313725,
              "rgb(242,107,73)"
             ],
             [
              0.7529411764705882,
              "rgb(244,135,95)"
             ],
             [
              0.8156862745098039,
              "rgb(245,162,122)"
             ],
             [
              0.8784313725490196,
              "rgb(246,188,153)"
             ],
             [
              0.9411764705882353,
              "rgb(247,212,187)"
             ],
             [
              1,
              "rgb(250,234,220)"
             ]
            ],
            "type": "contour"
           }
          ],
          "contourcarpet": [
           {
            "colorbar": {
             "outlinewidth": 0,
             "tickcolor": "rgb(36,36,36)",
             "ticklen": 8,
             "ticks": "outside",
             "tickwidth": 2
            },
            "type": "contourcarpet"
           }
          ],
          "heatmap": [
           {
            "colorbar": {
             "outlinewidth": 0,
             "tickcolor": "rgb(36,36,36)",
             "ticklen": 8,
             "ticks": "outside",
             "tickwidth": 2
            },
            "colorscale": [
             [
              0,
              "rgb(2,4,25)"
             ],
             [
              0.06274509803921569,
              "rgb(24,15,41)"
             ],
             [
              0.12549019607843137,
              "rgb(47,23,57)"
             ],
             [
              0.18823529411764706,
              "rgb(71,28,72)"
             ],
             [
              0.25098039215686274,
              "rgb(97,30,82)"
             ],
             [
              0.3137254901960784,
              "rgb(123,30,89)"
             ],
             [
              0.3764705882352941,
              "rgb(150,27,91)"
             ],
             [
              0.4392156862745098,
              "rgb(177,22,88)"
             ],
             [
              0.5019607843137255,
              "rgb(203,26,79)"
             ],
             [
              0.5647058823529412,
              "rgb(223,47,67)"
             ],
             [
              0.6274509803921569,
              "rgb(236,76,61)"
             ],
             [
              0.6901960784313725,
              "rgb(242,107,73)"
             ],
             [
              0.7529411764705882,
              "rgb(244,135,95)"
             ],
             [
              0.8156862745098039,
              "rgb(245,162,122)"
             ],
             [
              0.8784313725490196,
              "rgb(246,188,153)"
             ],
             [
              0.9411764705882353,
              "rgb(247,212,187)"
             ],
             [
              1,
              "rgb(250,234,220)"
             ]
            ],
            "type": "heatmap"
           }
          ],
          "heatmapgl": [
           {
            "colorbar": {
             "outlinewidth": 0,
             "tickcolor": "rgb(36,36,36)",
             "ticklen": 8,
             "ticks": "outside",
             "tickwidth": 2
            },
            "colorscale": [
             [
              0,
              "rgb(2,4,25)"
             ],
             [
              0.06274509803921569,
              "rgb(24,15,41)"
             ],
             [
              0.12549019607843137,
              "rgb(47,23,57)"
             ],
             [
              0.18823529411764706,
              "rgb(71,28,72)"
             ],
             [
              0.25098039215686274,
              "rgb(97,30,82)"
             ],
             [
              0.3137254901960784,
              "rgb(123,30,89)"
             ],
             [
              0.3764705882352941,
              "rgb(150,27,91)"
             ],
             [
              0.4392156862745098,
              "rgb(177,22,88)"
             ],
             [
              0.5019607843137255,
              "rgb(203,26,79)"
             ],
             [
              0.5647058823529412,
              "rgb(223,47,67)"
             ],
             [
              0.6274509803921569,
              "rgb(236,76,61)"
             ],
             [
              0.6901960784313725,
              "rgb(242,107,73)"
             ],
             [
              0.7529411764705882,
              "rgb(244,135,95)"
             ],
             [
              0.8156862745098039,
              "rgb(245,162,122)"
             ],
             [
              0.8784313725490196,
              "rgb(246,188,153)"
             ],
             [
              0.9411764705882353,
              "rgb(247,212,187)"
             ],
             [
              1,
              "rgb(250,234,220)"
             ]
            ],
            "type": "heatmapgl"
           }
          ],
          "histogram": [
           {
            "marker": {
             "pattern": {
              "fillmode": "overlay",
              "size": 10,
              "solidity": 0.2
             }
            },
            "type": "histogram"
           }
          ],
          "histogram2d": [
           {
            "colorbar": {
             "outlinewidth": 0,
             "tickcolor": "rgb(36,36,36)",
             "ticklen": 8,
             "ticks": "outside",
             "tickwidth": 2
            },
            "colorscale": [
             [
              0,
              "rgb(2,4,25)"
             ],
             [
              0.06274509803921569,
              "rgb(24,15,41)"
             ],
             [
              0.12549019607843137,
              "rgb(47,23,57)"
             ],
             [
              0.18823529411764706,
              "rgb(71,28,72)"
             ],
             [
              0.25098039215686274,
              "rgb(97,30,82)"
             ],
             [
              0.3137254901960784,
              "rgb(123,30,89)"
             ],
             [
              0.3764705882352941,
              "rgb(150,27,91)"
             ],
             [
              0.4392156862745098,
              "rgb(177,22,88)"
             ],
             [
              0.5019607843137255,
              "rgb(203,26,79)"
             ],
             [
              0.5647058823529412,
              "rgb(223,47,67)"
             ],
             [
              0.6274509803921569,
              "rgb(236,76,61)"
             ],
             [
              0.6901960784313725,
              "rgb(242,107,73)"
             ],
             [
              0.7529411764705882,
              "rgb(244,135,95)"
             ],
             [
              0.8156862745098039,
              "rgb(245,162,122)"
             ],
             [
              0.8784313725490196,
              "rgb(246,188,153)"
             ],
             [
              0.9411764705882353,
              "rgb(247,212,187)"
             ],
             [
              1,
              "rgb(250,234,220)"
             ]
            ],
            "type": "histogram2d"
           }
          ],
          "histogram2dcontour": [
           {
            "colorbar": {
             "outlinewidth": 0,
             "tickcolor": "rgb(36,36,36)",
             "ticklen": 8,
             "ticks": "outside",
             "tickwidth": 2
            },
            "colorscale": [
             [
              0,
              "rgb(2,4,25)"
             ],
             [
              0.06274509803921569,
              "rgb(24,15,41)"
             ],
             [
              0.12549019607843137,
              "rgb(47,23,57)"
             ],
             [
              0.18823529411764706,
              "rgb(71,28,72)"
             ],
             [
              0.25098039215686274,
              "rgb(97,30,82)"
             ],
             [
              0.3137254901960784,
              "rgb(123,30,89)"
             ],
             [
              0.3764705882352941,
              "rgb(150,27,91)"
             ],
             [
              0.4392156862745098,
              "rgb(177,22,88)"
             ],
             [
              0.5019607843137255,
              "rgb(203,26,79)"
             ],
             [
              0.5647058823529412,
              "rgb(223,47,67)"
             ],
             [
              0.6274509803921569,
              "rgb(236,76,61)"
             ],
             [
              0.6901960784313725,
              "rgb(242,107,73)"
             ],
             [
              0.7529411764705882,
              "rgb(244,135,95)"
             ],
             [
              0.8156862745098039,
              "rgb(245,162,122)"
             ],
             [
              0.8784313725490196,
              "rgb(246,188,153)"
             ],
             [
              0.9411764705882353,
              "rgb(247,212,187)"
             ],
             [
              1,
              "rgb(250,234,220)"
             ]
            ],
            "type": "histogram2dcontour"
           }
          ],
          "mesh3d": [
           {
            "colorbar": {
             "outlinewidth": 0,
             "tickcolor": "rgb(36,36,36)",
             "ticklen": 8,
             "ticks": "outside",
             "tickwidth": 2
            },
            "type": "mesh3d"
           }
          ],
          "parcoords": [
           {
            "line": {
             "colorbar": {
              "outlinewidth": 0,
              "tickcolor": "rgb(36,36,36)",
              "ticklen": 8,
              "ticks": "outside",
              "tickwidth": 2
             }
            },
            "type": "parcoords"
           }
          ],
          "pie": [
           {
            "automargin": true,
            "type": "pie"
           }
          ],
          "scatter": [
           {
            "fillpattern": {
             "fillmode": "overlay",
             "size": 10,
             "solidity": 0.2
            },
            "type": "scatter"
           }
          ],
          "scatter3d": [
           {
            "line": {
             "colorbar": {
              "outlinewidth": 0,
              "tickcolor": "rgb(36,36,36)",
              "ticklen": 8,
              "ticks": "outside",
              "tickwidth": 2
             }
            },
            "marker": {
             "colorbar": {
              "outlinewidth": 0,
              "tickcolor": "rgb(36,36,36)",
              "ticklen": 8,
              "ticks": "outside",
              "tickwidth": 2
             }
            },
            "type": "scatter3d"
           }
          ],
          "scattercarpet": [
           {
            "marker": {
             "colorbar": {
              "outlinewidth": 0,
              "tickcolor": "rgb(36,36,36)",
              "ticklen": 8,
              "ticks": "outside",
              "tickwidth": 2
             }
            },
            "type": "scattercarpet"
           }
          ],
          "scattergeo": [
           {
            "marker": {
             "colorbar": {
              "outlinewidth": 0,
              "tickcolor": "rgb(36,36,36)",
              "ticklen": 8,
              "ticks": "outside",
              "tickwidth": 2
             }
            },
            "type": "scattergeo"
           }
          ],
          "scattergl": [
           {
            "marker": {
             "colorbar": {
              "outlinewidth": 0,
              "tickcolor": "rgb(36,36,36)",
              "ticklen": 8,
              "ticks": "outside",
              "tickwidth": 2
             }
            },
            "type": "scattergl"
           }
          ],
          "scattermapbox": [
           {
            "marker": {
             "colorbar": {
              "outlinewidth": 0,
              "tickcolor": "rgb(36,36,36)",
              "ticklen": 8,
              "ticks": "outside",
              "tickwidth": 2
             }
            },
            "type": "scattermapbox"
           }
          ],
          "scatterpolar": [
           {
            "marker": {
             "colorbar": {
              "outlinewidth": 0,
              "tickcolor": "rgb(36,36,36)",
              "ticklen": 8,
              "ticks": "outside",
              "tickwidth": 2
             }
            },
            "type": "scatterpolar"
           }
          ],
          "scatterpolargl": [
           {
            "marker": {
             "colorbar": {
              "outlinewidth": 0,
              "tickcolor": "rgb(36,36,36)",
              "ticklen": 8,
              "ticks": "outside",
              "tickwidth": 2
             }
            },
            "type": "scatterpolargl"
           }
          ],
          "scatterternary": [
           {
            "marker": {
             "colorbar": {
              "outlinewidth": 0,
              "tickcolor": "rgb(36,36,36)",
              "ticklen": 8,
              "ticks": "outside",
              "tickwidth": 2
             }
            },
            "type": "scatterternary"
           }
          ],
          "surface": [
           {
            "colorbar": {
             "outlinewidth": 0,
             "tickcolor": "rgb(36,36,36)",
             "ticklen": 8,
             "ticks": "outside",
             "tickwidth": 2
            },
            "colorscale": [
             [
              0,
              "rgb(2,4,25)"
             ],
             [
              0.06274509803921569,
              "rgb(24,15,41)"
             ],
             [
              0.12549019607843137,
              "rgb(47,23,57)"
             ],
             [
              0.18823529411764706,
              "rgb(71,28,72)"
             ],
             [
              0.25098039215686274,
              "rgb(97,30,82)"
             ],
             [
              0.3137254901960784,
              "rgb(123,30,89)"
             ],
             [
              0.3764705882352941,
              "rgb(150,27,91)"
             ],
             [
              0.4392156862745098,
              "rgb(177,22,88)"
             ],
             [
              0.5019607843137255,
              "rgb(203,26,79)"
             ],
             [
              0.5647058823529412,
              "rgb(223,47,67)"
             ],
             [
              0.6274509803921569,
              "rgb(236,76,61)"
             ],
             [
              0.6901960784313725,
              "rgb(242,107,73)"
             ],
             [
              0.7529411764705882,
              "rgb(244,135,95)"
             ],
             [
              0.8156862745098039,
              "rgb(245,162,122)"
             ],
             [
              0.8784313725490196,
              "rgb(246,188,153)"
             ],
             [
              0.9411764705882353,
              "rgb(247,212,187)"
             ],
             [
              1,
              "rgb(250,234,220)"
             ]
            ],
            "type": "surface"
           }
          ],
          "table": [
           {
            "cells": {
             "fill": {
              "color": "rgb(231,231,240)"
             },
             "line": {
              "color": "white"
             }
            },
            "header": {
             "fill": {
              "color": "rgb(183,183,191)"
             },
             "line": {
              "color": "white"
             }
            },
            "type": "table"
           }
          ]
         },
         "layout": {
          "annotationdefaults": {
           "arrowcolor": "rgb(67,103,167)"
          },
          "autotypenumbers": "strict",
          "coloraxis": {
           "colorbar": {
            "outlinewidth": 0,
            "tickcolor": "rgb(36,36,36)",
            "ticklen": 8,
            "ticks": "outside",
            "tickwidth": 2
           }
          },
          "colorscale": {
           "sequential": [
            [
             0,
             "rgb(2,4,25)"
            ],
            [
             0.06274509803921569,
             "rgb(24,15,41)"
            ],
            [
             0.12549019607843137,
             "rgb(47,23,57)"
            ],
            [
             0.18823529411764706,
             "rgb(71,28,72)"
            ],
            [
             0.25098039215686274,
             "rgb(97,30,82)"
            ],
            [
             0.3137254901960784,
             "rgb(123,30,89)"
            ],
            [
             0.3764705882352941,
             "rgb(150,27,91)"
            ],
            [
             0.4392156862745098,
             "rgb(177,22,88)"
            ],
            [
             0.5019607843137255,
             "rgb(203,26,79)"
            ],
            [
             0.5647058823529412,
             "rgb(223,47,67)"
            ],
            [
             0.6274509803921569,
             "rgb(236,76,61)"
            ],
            [
             0.6901960784313725,
             "rgb(242,107,73)"
            ],
            [
             0.7529411764705882,
             "rgb(244,135,95)"
            ],
            [
             0.8156862745098039,
             "rgb(245,162,122)"
            ],
            [
             0.8784313725490196,
             "rgb(246,188,153)"
            ],
            [
             0.9411764705882353,
             "rgb(247,212,187)"
            ],
            [
             1,
             "rgb(250,234,220)"
            ]
           ],
           "sequentialminus": [
            [
             0,
             "rgb(2,4,25)"
            ],
            [
             0.06274509803921569,
             "rgb(24,15,41)"
            ],
            [
             0.12549019607843137,
             "rgb(47,23,57)"
            ],
            [
             0.18823529411764706,
             "rgb(71,28,72)"
            ],
            [
             0.25098039215686274,
             "rgb(97,30,82)"
            ],
            [
             0.3137254901960784,
             "rgb(123,30,89)"
            ],
            [
             0.3764705882352941,
             "rgb(150,27,91)"
            ],
            [
             0.4392156862745098,
             "rgb(177,22,88)"
            ],
            [
             0.5019607843137255,
             "rgb(203,26,79)"
            ],
            [
             0.5647058823529412,
             "rgb(223,47,67)"
            ],
            [
             0.6274509803921569,
             "rgb(236,76,61)"
            ],
            [
             0.6901960784313725,
             "rgb(242,107,73)"
            ],
            [
             0.7529411764705882,
             "rgb(244,135,95)"
            ],
            [
             0.8156862745098039,
             "rgb(245,162,122)"
            ],
            [
             0.8784313725490196,
             "rgb(246,188,153)"
            ],
            [
             0.9411764705882353,
             "rgb(247,212,187)"
            ],
            [
             1,
             "rgb(250,234,220)"
            ]
           ]
          },
          "colorway": [
           "rgb(76,114,176)",
           "rgb(221,132,82)",
           "rgb(85,168,104)",
           "rgb(196,78,82)",
           "rgb(129,114,179)",
           "rgb(147,120,96)",
           "rgb(218,139,195)",
           "rgb(140,140,140)",
           "rgb(204,185,116)",
           "rgb(100,181,205)"
          ],
          "font": {
           "color": "rgb(36,36,36)"
          },
          "geo": {
           "bgcolor": "white",
           "lakecolor": "white",
           "landcolor": "rgb(234,234,242)",
           "showlakes": true,
           "showland": true,
           "subunitcolor": "white"
          },
          "hoverlabel": {
           "align": "left"
          },
          "hovermode": "closest",
          "paper_bgcolor": "white",
          "plot_bgcolor": "rgb(234,234,242)",
          "polar": {
           "angularaxis": {
            "gridcolor": "white",
            "linecolor": "white",
            "showgrid": true,
            "ticks": ""
           },
           "bgcolor": "rgb(234,234,242)",
           "radialaxis": {
            "gridcolor": "white",
            "linecolor": "white",
            "showgrid": true,
            "ticks": ""
           }
          },
          "scene": {
           "xaxis": {
            "backgroundcolor": "rgb(234,234,242)",
            "gridcolor": "white",
            "gridwidth": 2,
            "linecolor": "white",
            "showbackground": true,
            "showgrid": true,
            "ticks": "",
            "zerolinecolor": "white"
           },
           "yaxis": {
            "backgroundcolor": "rgb(234,234,242)",
            "gridcolor": "white",
            "gridwidth": 2,
            "linecolor": "white",
            "showbackground": true,
            "showgrid": true,
            "ticks": "",
            "zerolinecolor": "white"
           },
           "zaxis": {
            "backgroundcolor": "rgb(234,234,242)",
            "gridcolor": "white",
            "gridwidth": 2,
            "linecolor": "white",
            "showbackground": true,
            "showgrid": true,
            "ticks": "",
            "zerolinecolor": "white"
           }
          },
          "shapedefaults": {
           "fillcolor": "rgb(67,103,167)",
           "line": {
            "width": 0
           },
           "opacity": 0.5
          },
          "ternary": {
           "aaxis": {
            "gridcolor": "white",
            "linecolor": "white",
            "showgrid": true,
            "ticks": ""
           },
           "baxis": {
            "gridcolor": "white",
            "linecolor": "white",
            "showgrid": true,
            "ticks": ""
           },
           "bgcolor": "rgb(234,234,242)",
           "caxis": {
            "gridcolor": "white",
            "linecolor": "white",
            "showgrid": true,
            "ticks": ""
           }
          },
          "xaxis": {
           "automargin": true,
           "gridcolor": "white",
           "linecolor": "white",
           "showgrid": true,
           "ticks": "",
           "title": {
            "standoff": 15
           },
           "zerolinecolor": "white"
          },
          "yaxis": {
           "automargin": true,
           "gridcolor": "white",
           "linecolor": "white",
           "showgrid": true,
           "ticks": "",
           "title": {
            "standoff": 15
           },
           "zerolinecolor": "white"
          }
         }
        },
        "title": {
         "text": "Trump Biden Spread"
        },
        "width": 1000,
        "xaxis": {
         "anchor": "y",
         "domain": [
          0,
          1
         ],
         "title": {
          "text": "End Date"
         }
        },
        "yaxis": {
         "anchor": "x",
         "domain": [
          0,
          1
         ],
         "title": {
          "text": "Difference"
         }
        }
       }
      }
     },
     "metadata": {},
     "output_type": "display_data"
    }
   ],
   "source": [
    "import plotly.express as px\n",
    "import pandas as pd\n",
    "\n",
    "# Assuming df is your DataFrame with time series data\n",
    "# Make sure the DataFrame has a column with datetime values\n",
    "\n",
    "# Create a simple time series chart using plotly express\n",
    "fig = px.scatter(df, x='End Date', y='Difference', trendline= \"ols\", title='Trump Biden Spread',\n",
    "              labels={'value_column': 'Y-axis Label', 'datetime_column': 'X-axis Label'},\n",
    "              color = 'Type of Voter',\n",
    "                hover_data=['pollster', 'Sample Size'],\n",
    "              template='seaborn', width=1000, height=600\n",
    "              )\n",
    "fig.show()"
   ]
  },
  {
   "cell_type": "markdown",
   "metadata": {},
   "source": [
    "## LV vs. RVs Time Series Analysis\n",
    "\n",
    "Also adjust for who is taking the poll/bias. Plus recency weighted bias. \n",
    "Predict spread based on LV vs. RV, date, and polling company. Work with ARIMA model, with dummy variables for polling companies.\n",
    "Baseline prediction could be realclear spread at that time. And then we can compare whether the spread is better or worse than our prediction. \n",
    "\n",
    "Look for differences between Joe Biden Voters and Liberal Voters, as well as Trump Voters and Conservative voters. Has anything changed?"
   ]
  },
  {
   "cell_type": "markdown",
   "metadata": {},
   "source": [
    "Difference between overall favorability, and job approval.\n",
    "\n",
    "Compare likely to vote for, vs. past voting."
   ]
  },
  {
   "cell_type": "code",
   "execution_count": 7,
   "metadata": {},
   "outputs": [
    {
     "name": "stderr",
     "output_type": "stream",
     "text": [
      "/Users/robbiefeldstein/anaconda3/lib/python3.11/site-packages/statsmodels/tsa/base/tsa_model.py:473: ValueWarning:\n",
      "\n",
      "A date index has been provided, but it has no associated frequency information and so will be ignored when e.g. forecasting.\n",
      "\n",
      "/Users/robbiefeldstein/anaconda3/lib/python3.11/site-packages/statsmodels/tsa/base/tsa_model.py:473: ValueWarning:\n",
      "\n",
      "A date index has been provided, but it has no associated frequency information and so will be ignored when e.g. forecasting.\n",
      "\n",
      "/Users/robbiefeldstein/anaconda3/lib/python3.11/site-packages/statsmodels/tsa/base/tsa_model.py:473: ValueWarning:\n",
      "\n",
      "A date index has been provided, but it has no associated frequency information and so will be ignored when e.g. forecasting.\n",
      "\n",
      "/Users/robbiefeldstein/anaconda3/lib/python3.11/site-packages/statsmodels/tsa/statespace/sarimax.py:978: UserWarning:\n",
      "\n",
      "Non-invertible starting MA parameters found. Using zeros as starting parameters.\n",
      "\n",
      "/Users/robbiefeldstein/anaconda3/lib/python3.11/site-packages/statsmodels/tsa/base/tsa_model.py:836: ValueWarning:\n",
      "\n",
      "No supported index is available. Prediction results will be given with an integer index beginning at `start`.\n",
      "\n"
     ]
    },
    {
     "name": "stdout",
     "output_type": "stream",
     "text": [
      "Mean Squared Error: 8.095377079502214\n"
     ]
    },
    {
     "data": {
      "image/png": "[encoded data removed]",
      "text/plain": [
       "<Figure size 1200x600 with 1 Axes>"
      ]
     },
     "metadata": {},
     "output_type": "display_data"
    }
   ],
   "source": [
    "#Time Series Modeling (ARIMA)\n",
    "\n",
    "#Spread = Poll Company + Type of Voter + Date + Sample Size?\n",
    "\n",
    "from statsmodels.tsa.arima.model import ARIMA\n",
    "from sklearn.metrics import mean_squared_error\n",
    "\n",
    "ndf = df.copy()\n",
    "\n",
    "\n",
    "ndf.set_index('End Date', inplace=True)\n",
    "ndf.sort_index(inplace=True)\n",
    "\n",
    "# Train-Test Split\n",
    "train_size = int(len(ndf) * 0.8)\n",
    "train, test = ndf[:train_size], ndf[train_size:]\n",
    "\n",
    "# ARIMA Model\n",
    "order = (3, 2, 2)  # Set appropriate values for p, d, q\n",
    "model = ARIMA(train['Difference'], order=order)\n",
    "fit_model = model.fit()\n",
    "\n",
    "# Model Prediction\n",
    "predictions = fit_model.predict(start=len(train), end=len(train) + len(test) - 1, typ='levels')\n",
    "\n",
    "# Model Evaluation\n",
    "mse = mean_squared_error(test['Difference'], predictions)\n",
    "print(f'Mean Squared Error: {mse}')\n",
    "\n",
    "plt.figure(figsize=(12, 6))\n",
    "plt.plot(train.index, train['Difference'], label='Training Data')\n",
    "plt.plot(test.index, test['Difference'], label='Test Data')\n",
    "plt.plot(test.index, predictions, label='Predictions', linestyle='dashed')\n",
    "\n",
    "plt.title('ARIMA Model - Actual vs Predicted')\n",
    "plt.xlabel('End Date')\n",
    "plt.ylabel('Difference')\n",
    "plt.legend()\n",
    "plt.show()\n"
   ]
  },
  {
   "cell_type": "code",
   "execution_count": 8,
   "metadata": {},
   "outputs": [
    {
     "name": "stdout",
     "output_type": "stream",
     "text": [
      "Mean Squared Error: 7.512577725097109\n"
     ]
    }
   ],
   "source": [
    "#Need to figure out how to get the pollster in here\n",
    "\n",
    "from sklearn.model_selection import train_test_split\n",
    "from sklearn.linear_model import LinearRegression\n",
    "from sklearn.metrics import mean_squared_error\n",
    "from sklearn.preprocessing import OneHotEncoder\n",
    "from sklearn.compose import ColumnTransformer\n",
    "from sklearn.pipeline import Pipeline\n",
    "from sklearn.ensemble import GradientBoostingRegressor\n",
    "from sklearn.linear_model import SGDRegressor\n",
    "\n",
    "\n",
    "\n",
    "ndf = df.copy()\n",
    "ndf[\"Year\"] = ndf[\"End Date\"].dt.year\n",
    "ndf[\"Month\"] = ndf[\"End Date\"].dt.month\n",
    "ndf[\"Day\"] = ndf[\"End Date\"].dt.day\n",
    "\n",
    "# Feature selection\n",
    "features = ['Type of Voter', 'Sample Size', 'pollster', 'Year', 'Month', 'Day']\n",
    "X = ndf[features]\n",
    "y = ndf['Difference']\n",
    "\n",
    "# Split the data into training and testing sets\n",
    "X_train, X_test, y_train, y_test = train_test_split(X, y, test_size=0.2, random_state=42)\n",
    "\n",
    "# Use OneHotEncoder for categorical variables and keep numeric variables as is\n",
    "preprocessor = ColumnTransformer(\n",
    "    transformers=[\n",
    "        ('cat', OneHotEncoder(), ['Type of Voter']),\n",
    "        ('num', 'passthrough', ['Sample Size', 'Year', 'Month', 'Day'])\n",
    "    ])\n",
    "\n",
    "# Create a pipeline with preprocessing and regression model\n",
    "model = Pipeline(steps=[('preprocessor', preprocessor),\n",
    "                        ('regressor', GradientBoostingRegressor())])\n",
    "\n",
    "# Train the model\n",
    "model.fit(X_train, y_train)\n",
    "\n",
    "# Make predictions on the test set\n",
    "predictions = model.predict(X_test)\n",
    "\n",
    "# Evaluate the model\n",
    "mse = mean_squared_error(y_test, predictions)\n",
    "print(f'Mean Squared Error: {mse}')\n",
    "\n",
    "\n"
   ]
  },
  {
   "cell_type": "code",
   "execution_count": 12,
   "metadata": {},
   "outputs": [
    {
     "data": {
      "image/png": "[encoded data removed]",
      "text/plain": [
       "<Figure size 1200x600 with 1 Axes>"
      ]
     },
     "metadata": {},
     "output_type": "display_data"
    }
   ],
   "source": [
    "#plot the above model\n",
    "\n",
    "plt.figure(figsize=(12, 6))\n",
    "plt.scatter(X_test.index, y_test, label='Test Data')\n",
    "plt.scatter(X_test.index, predictions, label='Predictions', linestyle='dashed')\n",
    "\n",
    "plt.title('Linear Regression Model - Actual vs Predicted')\n",
    "\n",
    "plt.xlabel('End Date')\n",
    "\n",
    "plt.ylabel('Difference')\n",
    "\n",
    "plt.legend()\n",
    "plt.show()\n"
   ]
  },
  {
   "cell_type": "markdown",
   "metadata": {},
   "source": [
    "# RFK Junior Polls"
   ]
  },
  {
   "cell_type": "code",
   "execution_count": 27,
   "metadata": {},
   "outputs": [],
   "source": [
    "#Load in the Wikipedia table data\n",
    "\n",
    "url = \"https://en.wikipedia.org/wiki/Nationwide_opinion_polling_for_the_2024_United_States_presidential_election\" \n",
    "driver = webdriver.Chrome()\n",
    "\n",
    "driver.get(url)\n",
    "\n",
    "# Allow time for dynamic content to load (you may need to adjust the sleep duration)\n",
    "time.sleep(3)\n",
    "\n",
    "# Get the page source after dynamic content has loaded\n",
    "html_content = driver.page_source\n",
    "\n",
    "# Close the webdriver\n",
    "driver.quit()\n",
    "\n",
    "# Parse the HTML content with BeautifulSoup\n",
    "\n",
    "soup = BeautifulSoup(html_content, 'html5lib')\n",
    "\n",
    "# Now you can extract the table data using the same approach as before\n",
    "table = soup.find_all('table')\n",
    "\n",
    "table = table[10]\n"
   ]
  },
  {
   "cell_type": "code",
   "execution_count": 58,
   "metadata": {},
   "outputs": [
    {
     "data": {
      "text/html": [
       "<div>\n",
       "<style scoped>\n",
       "    .dataframe tbody tr th:only-of-type {\n",
       "        vertical-align: middle;\n",
       "    }\n",
       "\n",
       "    .dataframe tbody tr th {\n",
       "        vertical-align: top;\n",
       "    }\n",
       "\n",
       "    .dataframe thead th {\n",
       "        text-align: right;\n",
       "    }\n",
       "</style>\n",
       "<table border=\"1\" class=\"dataframe\">\n",
       "  <thead>\n",
       "    <tr style=\"text-align: right;\">\n",
       "      <th></th>\n",
       "      <th>Poll source</th>\n",
       "      <th>Date</th>\n",
       "      <th>Samplesize[b]</th>\n",
       "      <th>Marginof error</th>\n",
       "      <th>JoeBidenDemocratic</th>\n",
       "      <th>DonaldTrumpRepublican</th>\n",
       "      <th>Robert F.Kennedy Jr.Independent</th>\n",
       "      <th>Other/Undecided</th>\n",
       "    </tr>\n",
       "  </thead>\n",
       "  <tbody>\n",
       "    <tr>\n",
       "      <th>0</th>\n",
       "      <td>Reuters/Ipsos</td>\n",
       "      <td>January 3–9, 2024</td>\n",
       "      <td>4,677 (RV)</td>\n",
       "      <td>± 1.5%</td>\n",
       "      <td>29%</td>\n",
       "      <td>30%</td>\n",
       "      <td>18%</td>\n",
       "      <td>23%</td>\n",
       "    </tr>\n",
       "    <tr>\n",
       "      <th>1</th>\n",
       "      <td>Quinnipiac University</td>\n",
       "      <td>December 14–18, 2023</td>\n",
       "      <td>1,647 (RV)</td>\n",
       "      <td>± 2.4%</td>\n",
       "      <td>38%</td>\n",
       "      <td>36%</td>\n",
       "      <td>22%</td>\n",
       "      <td>4%</td>\n",
       "    </tr>\n",
       "    <tr>\n",
       "      <th>2</th>\n",
       "      <td>Rasmussen Reports</td>\n",
       "      <td>December 6–7 &amp; 10, 2023</td>\n",
       "      <td>892 (LV)</td>\n",
       "      <td>± 3.0%</td>\n",
       "      <td>32%</td>\n",
       "      <td>40%</td>\n",
       "      <td>16%</td>\n",
       "      <td>12%[j]</td>\n",
       "    </tr>\n",
       "    <tr>\n",
       "      <th>3</th>\n",
       "      <td>Cygnal (R)</td>\n",
       "      <td>December 5–7, 2023</td>\n",
       "      <td>2,000 (LV)</td>\n",
       "      <td>± 2.16%</td>\n",
       "      <td>42%</td>\n",
       "      <td>43%</td>\n",
       "      <td>9%</td>\n",
       "      <td>6%</td>\n",
       "    </tr>\n",
       "    <tr>\n",
       "      <th>4</th>\n",
       "      <td>Harvard/Harris</td>\n",
       "      <td>November 15–16, 2023</td>\n",
       "      <td>2,851 (RV)</td>\n",
       "      <td>–</td>\n",
       "      <td>36%</td>\n",
       "      <td>44%</td>\n",
       "      <td>21%</td>\n",
       "      <td>0%</td>\n",
       "    </tr>\n",
       "  </tbody>\n",
       "</table>\n",
       "</div>"
      ],
      "text/plain": [
       "             Poll source                     Date Samplesize[b]  \\\n",
       "0          Reuters/Ipsos        January 3–9, 2024    4,677 (RV)   \n",
       "1  Quinnipiac University     December 14–18, 2023    1,647 (RV)   \n",
       "2      Rasmussen Reports  December 6–7 & 10, 2023      892 (LV)   \n",
       "3             Cygnal (R)       December 5–7, 2023    2,000 (LV)   \n",
       "4         Harvard/Harris     November 15–16, 2023    2,851 (RV)   \n",
       "\n",
       "  Marginof error JoeBidenDemocratic DonaldTrumpRepublican  \\\n",
       "0         ± 1.5%                29%                   30%   \n",
       "1         ± 2.4%                38%                   36%   \n",
       "2         ± 3.0%                32%                   40%   \n",
       "3        ± 2.16%                42%                   43%   \n",
       "4              –                36%                   44%   \n",
       "\n",
       "  Robert F.Kennedy Jr.Independent Other/Undecided  \n",
       "0                             18%             23%  \n",
       "1                             22%              4%  \n",
       "2                             16%          12%[j]  \n",
       "3                              9%              6%  \n",
       "4                             21%              0%  "
      ]
     },
     "execution_count": 58,
     "metadata": {},
     "output_type": "execute_result"
    }
   ],
   "source": [
    "table_data = []\n",
    "for row in table.find_all('tr'):\n",
    "    row_data = [cell.text.strip() for cell in row.find_all(['td','th'])]\n",
    "    table_data.append(row_data)\n",
    "\n",
    "#Convert table data to a dataframe\n",
    "#We remove the first row since this is RCP summary data that we don't want to use\n",
    "    \n",
    "df = pd.DataFrame(table_data[1:], columns=table_data[0])\n",
    "df.head()\n"
   ]
  },
  {
   "cell_type": "code",
   "execution_count": 68,
   "metadata": {},
   "outputs": [
    {
     "data": {
      "text/html": [
       "<div>\n",
       "<style scoped>\n",
       "    .dataframe tbody tr th:only-of-type {\n",
       "        vertical-align: middle;\n",
       "    }\n",
       "\n",
       "    .dataframe tbody tr th {\n",
       "        vertical-align: top;\n",
       "    }\n",
       "\n",
       "    .dataframe thead th {\n",
       "        text-align: right;\n",
       "    }\n",
       "</style>\n",
       "<table border=\"1\" class=\"dataframe\">\n",
       "  <thead>\n",
       "    <tr style=\"text-align: right;\">\n",
       "      <th></th>\n",
       "      <th>Poll source</th>\n",
       "      <th>Date</th>\n",
       "      <th>Samplesize[b]</th>\n",
       "      <th>Marginof error</th>\n",
       "      <th>JoeBidenDemocratic</th>\n",
       "      <th>DonaldTrumpRepublican</th>\n",
       "      <th>Robert F.Kennedy Jr.Independent</th>\n",
       "      <th>Other/Undecided</th>\n",
       "      <th>Year</th>\n",
       "      <th>Month</th>\n",
       "      <th>Day</th>\n",
       "    </tr>\n",
       "    <tr>\n",
       "      <th>New Date</th>\n",
       "      <th></th>\n",
       "      <th></th>\n",
       "      <th></th>\n",
       "      <th></th>\n",
       "      <th></th>\n",
       "      <th></th>\n",
       "      <th></th>\n",
       "      <th></th>\n",
       "      <th></th>\n",
       "      <th></th>\n",
       "      <th></th>\n",
       "    </tr>\n",
       "  </thead>\n",
       "  <tbody>\n",
       "    <tr>\n",
       "      <th>2024-01-03</th>\n",
       "      <td>Reuters/Ipsos</td>\n",
       "      <td>January 3–9, 2024</td>\n",
       "      <td>4,677 (RV)</td>\n",
       "      <td>± 1.5%</td>\n",
       "      <td>0.290</td>\n",
       "      <td>0.300</td>\n",
       "      <td>0.180</td>\n",
       "      <td>23%</td>\n",
       "      <td>2024</td>\n",
       "      <td>January</td>\n",
       "      <td>3</td>\n",
       "    </tr>\n",
       "    <tr>\n",
       "      <th>2023-12-14</th>\n",
       "      <td>Quinnipiac University</td>\n",
       "      <td>December 14–18, 2023</td>\n",
       "      <td>1,647 (RV)</td>\n",
       "      <td>± 2.4%</td>\n",
       "      <td>0.380</td>\n",
       "      <td>0.360</td>\n",
       "      <td>0.220</td>\n",
       "      <td>4%</td>\n",
       "      <td>2023</td>\n",
       "      <td>December</td>\n",
       "      <td>14</td>\n",
       "    </tr>\n",
       "    <tr>\n",
       "      <th>2023-12-06</th>\n",
       "      <td>Rasmussen Reports</td>\n",
       "      <td>December 6–7 &amp; 10, 2023</td>\n",
       "      <td>892 (LV)</td>\n",
       "      <td>± 3.0%</td>\n",
       "      <td>0.320</td>\n",
       "      <td>0.400</td>\n",
       "      <td>0.160</td>\n",
       "      <td>12%[j]</td>\n",
       "      <td>2023</td>\n",
       "      <td>December</td>\n",
       "      <td>6</td>\n",
       "    </tr>\n",
       "    <tr>\n",
       "      <th>2023-12-05</th>\n",
       "      <td>Cygnal (R)</td>\n",
       "      <td>December 5–7, 2023</td>\n",
       "      <td>2,000 (LV)</td>\n",
       "      <td>± 2.16%</td>\n",
       "      <td>0.420</td>\n",
       "      <td>0.430</td>\n",
       "      <td>0.090</td>\n",
       "      <td>6%</td>\n",
       "      <td>2023</td>\n",
       "      <td>December</td>\n",
       "      <td>5</td>\n",
       "    </tr>\n",
       "    <tr>\n",
       "      <th>2023-11-15</th>\n",
       "      <td>Harvard/Harris</td>\n",
       "      <td>November 15–16, 2023</td>\n",
       "      <td>2,851 (RV)</td>\n",
       "      <td>–</td>\n",
       "      <td>0.360</td>\n",
       "      <td>0.440</td>\n",
       "      <td>0.210</td>\n",
       "      <td>0%</td>\n",
       "      <td>2023</td>\n",
       "      <td>November</td>\n",
       "      <td>15</td>\n",
       "    </tr>\n",
       "    <tr>\n",
       "      <th>2023-11-13</th>\n",
       "      <td>Reuters/Ipsos</td>\n",
       "      <td>November 13–14, 2023</td>\n",
       "      <td>1,006 (RV)</td>\n",
       "      <td>± 3.8%</td>\n",
       "      <td>0.300</td>\n",
       "      <td>0.320</td>\n",
       "      <td>0.200</td>\n",
       "      <td>18%</td>\n",
       "      <td>2023</td>\n",
       "      <td>November</td>\n",
       "      <td>13</td>\n",
       "    </tr>\n",
       "    <tr>\n",
       "      <th>2023-11-09</th>\n",
       "      <td>Quinnipiac University</td>\n",
       "      <td>November 9–13, 2023</td>\n",
       "      <td>1,574 (RV)</td>\n",
       "      <td>± 2.5%</td>\n",
       "      <td>0.370</td>\n",
       "      <td>0.380</td>\n",
       "      <td>0.210</td>\n",
       "      <td>4%</td>\n",
       "      <td>2023</td>\n",
       "      <td>November</td>\n",
       "      <td>9</td>\n",
       "    </tr>\n",
       "    <tr>\n",
       "      <th>2023-11-08</th>\n",
       "      <td>Rasmussen Reports</td>\n",
       "      <td>November 8–12, 2023</td>\n",
       "      <td>987 (LV)</td>\n",
       "      <td>± 3.0%</td>\n",
       "      <td>0.380</td>\n",
       "      <td>0.390</td>\n",
       "      <td>0.120</td>\n",
       "      <td>11%</td>\n",
       "      <td>2023</td>\n",
       "      <td>November</td>\n",
       "      <td>8</td>\n",
       "    </tr>\n",
       "    <tr>\n",
       "      <th>2023-10-22</th>\n",
       "      <td>Sienna College</td>\n",
       "      <td>October 22 – November 3, 2023</td>\n",
       "      <td>3,662 (RV)</td>\n",
       "      <td>± 1.8%</td>\n",
       "      <td>0.330</td>\n",
       "      <td>0.350</td>\n",
       "      <td>0.240</td>\n",
       "      <td>8%</td>\n",
       "      <td>2023</td>\n",
       "      <td>October</td>\n",
       "      <td>22</td>\n",
       "    </tr>\n",
       "    <tr>\n",
       "      <th>2023-10-30</th>\n",
       "      <td>Cygnal (R)</td>\n",
       "      <td>October 30 – November 1, 2023</td>\n",
       "      <td>2,000 (LV)</td>\n",
       "      <td>± 2.2%</td>\n",
       "      <td>0.404</td>\n",
       "      <td>0.394</td>\n",
       "      <td>0.119</td>\n",
       "      <td>8.2%</td>\n",
       "      <td>2023</td>\n",
       "      <td>October</td>\n",
       "      <td>30</td>\n",
       "    </tr>\n",
       "    <tr>\n",
       "      <th>2023-10-27</th>\n",
       "      <td>American Pulse Research &amp; Polling</td>\n",
       "      <td>October 27–30, 2023</td>\n",
       "      <td>568 (LV)</td>\n",
       "      <td>± 4.1%</td>\n",
       "      <td>0.389</td>\n",
       "      <td>0.393</td>\n",
       "      <td>0.113</td>\n",
       "      <td>10.5%</td>\n",
       "      <td>2023</td>\n",
       "      <td>October</td>\n",
       "      <td>27</td>\n",
       "    </tr>\n",
       "    <tr>\n",
       "      <th>2023-10-26</th>\n",
       "      <td>Quinnipiac University</td>\n",
       "      <td>October 26–30, 2023</td>\n",
       "      <td>1,610 (RV)</td>\n",
       "      <td>± 2.4%</td>\n",
       "      <td>0.390</td>\n",
       "      <td>0.360</td>\n",
       "      <td>0.220</td>\n",
       "      <td>3%</td>\n",
       "      <td>2023</td>\n",
       "      <td>October</td>\n",
       "      <td>26</td>\n",
       "    </tr>\n",
       "    <tr>\n",
       "      <th>2023-10-29</th>\n",
       "      <td>Redfield &amp; Wilton</td>\n",
       "      <td>October 29, 2023</td>\n",
       "      <td>1,500 (LV)</td>\n",
       "      <td>± 2.0%</td>\n",
       "      <td>0.380</td>\n",
       "      <td>0.400</td>\n",
       "      <td>0.100</td>\n",
       "      <td>12%</td>\n",
       "      <td>2023</td>\n",
       "      <td>October</td>\n",
       "      <td>29,</td>\n",
       "    </tr>\n",
       "    <tr>\n",
       "      <th>2023-10-17</th>\n",
       "      <td>Susquehanna</td>\n",
       "      <td>October 17–27, 2023</td>\n",
       "      <td>1,000 (LV)</td>\n",
       "      <td>± 3.2%</td>\n",
       "      <td>0.470</td>\n",
       "      <td>0.400</td>\n",
       "      <td>0.060</td>\n",
       "      <td>7%</td>\n",
       "      <td>2023</td>\n",
       "      <td>October</td>\n",
       "      <td>17</td>\n",
       "    </tr>\n",
       "    <tr>\n",
       "      <th>2023-10-23</th>\n",
       "      <td>McLaughlin and Associates</td>\n",
       "      <td>October 23–26, 2023</td>\n",
       "      <td>449 (LV)</td>\n",
       "      <td>± 3.1%</td>\n",
       "      <td>0.370</td>\n",
       "      <td>0.390</td>\n",
       "      <td>0.140</td>\n",
       "      <td>11%</td>\n",
       "      <td>2023</td>\n",
       "      <td>October</td>\n",
       "      <td>23</td>\n",
       "    </tr>\n",
       "    <tr>\n",
       "      <th>2023-10-17</th>\n",
       "      <td>USA Today/Suffolk University</td>\n",
       "      <td>October 17–20, 2023</td>\n",
       "      <td>1,000 (RV)</td>\n",
       "      <td>± 3.1%</td>\n",
       "      <td>0.380</td>\n",
       "      <td>0.370</td>\n",
       "      <td>0.140</td>\n",
       "      <td>11%</td>\n",
       "      <td>2023</td>\n",
       "      <td>October</td>\n",
       "      <td>17</td>\n",
       "    </tr>\n",
       "    <tr>\n",
       "      <th>2023-10-18</th>\n",
       "      <td>Harvard Harris</td>\n",
       "      <td>October 18–19, 2023</td>\n",
       "      <td>2,103 (RV)</td>\n",
       "      <td>± 2%</td>\n",
       "      <td>0.360</td>\n",
       "      <td>0.420</td>\n",
       "      <td>0.220</td>\n",
       "      <td>-</td>\n",
       "      <td>2023</td>\n",
       "      <td>October</td>\n",
       "      <td>18</td>\n",
       "    </tr>\n",
       "    <tr>\n",
       "      <th>2023-10-10</th>\n",
       "      <td>Yahoo News/YouGov</td>\n",
       "      <td>October 10–16, 2023</td>\n",
       "      <td>1,123 (RV)</td>\n",
       "      <td>± 2.7%</td>\n",
       "      <td>0.400</td>\n",
       "      <td>0.390</td>\n",
       "      <td>0.090</td>\n",
       "      <td>12%</td>\n",
       "      <td>2023</td>\n",
       "      <td>October</td>\n",
       "      <td>10</td>\n",
       "    </tr>\n",
       "    <tr>\n",
       "      <th>2023-10-11</th>\n",
       "      <td>NPR/PBS/Marist</td>\n",
       "      <td>October 11, 2023</td>\n",
       "      <td>1,218 (RV)</td>\n",
       "      <td>± 3.9%</td>\n",
       "      <td>0.440</td>\n",
       "      <td>0.370</td>\n",
       "      <td>0.160</td>\n",
       "      <td>3%</td>\n",
       "      <td>2023</td>\n",
       "      <td>October</td>\n",
       "      <td>11,</td>\n",
       "    </tr>\n",
       "    <tr>\n",
       "      <th>2023-10-09</th>\n",
       "      <td></td>\n",
       "      <td>October 9, 2023</td>\n",
       "      <td>Kennedy announces he will run as an independen...</td>\n",
       "      <td>None</td>\n",
       "      <td>NaN</td>\n",
       "      <td>NaN</td>\n",
       "      <td>NaN</td>\n",
       "      <td>None</td>\n",
       "      <td>2023</td>\n",
       "      <td>October</td>\n",
       "      <td>9,</td>\n",
       "    </tr>\n",
       "    <tr>\n",
       "      <th>2023-10-06</th>\n",
       "      <td>Fox News</td>\n",
       "      <td>October 6–9, 2023</td>\n",
       "      <td>1,007 (RV)</td>\n",
       "      <td>± 3.0%</td>\n",
       "      <td>0.410</td>\n",
       "      <td>0.410</td>\n",
       "      <td>0.160</td>\n",
       "      <td>2%</td>\n",
       "      <td>2023</td>\n",
       "      <td>October</td>\n",
       "      <td>6</td>\n",
       "    </tr>\n",
       "    <tr>\n",
       "      <th>2023-10-03</th>\n",
       "      <td>Cygnal (R)</td>\n",
       "      <td>October 3–5, 2023</td>\n",
       "      <td>2,000 (A)</td>\n",
       "      <td>± 2.16%</td>\n",
       "      <td>0.390</td>\n",
       "      <td>0.400</td>\n",
       "      <td>0.120</td>\n",
       "      <td>9%</td>\n",
       "      <td>2023</td>\n",
       "      <td>October</td>\n",
       "      <td>3</td>\n",
       "    </tr>\n",
       "    <tr>\n",
       "      <th>2023-10-03</th>\n",
       "      <td>Reuters/Ipsos</td>\n",
       "      <td>October 3–4, 2023</td>\n",
       "      <td>1,005 (A)</td>\n",
       "      <td>± 4.0%</td>\n",
       "      <td>0.310</td>\n",
       "      <td>0.330</td>\n",
       "      <td>0.140</td>\n",
       "      <td>22%</td>\n",
       "      <td>2023</td>\n",
       "      <td>October</td>\n",
       "      <td>3</td>\n",
       "    </tr>\n",
       "    <tr>\n",
       "      <th>2023-09-25</th>\n",
       "      <td>Echelon Insights</td>\n",
       "      <td>September 25–28, 2023</td>\n",
       "      <td>1,011 (LV)</td>\n",
       "      <td>± 4.0%</td>\n",
       "      <td>0.360</td>\n",
       "      <td>0.400</td>\n",
       "      <td>0.140</td>\n",
       "      <td>10%</td>\n",
       "      <td>2023</td>\n",
       "      <td>September</td>\n",
       "      <td>25</td>\n",
       "    </tr>\n",
       "    <tr>\n",
       "      <th>2023-09-24</th>\n",
       "      <td>American Values</td>\n",
       "      <td>September 24, 2023</td>\n",
       "      <td>1,008</td>\n",
       "      <td>±3.2%</td>\n",
       "      <td>0.380</td>\n",
       "      <td>0.380</td>\n",
       "      <td>0.190</td>\n",
       "      <td>5%</td>\n",
       "      <td>2023</td>\n",
       "      <td>September</td>\n",
       "      <td>24,</td>\n",
       "    </tr>\n",
       "  </tbody>\n",
       "</table>\n",
       "</div>"
      ],
      "text/plain": [
       "                                  Poll source                           Date  \\\n",
       "New Date                                                                       \n",
       "2024-01-03                      Reuters/Ipsos              January 3–9, 2024   \n",
       "2023-12-14              Quinnipiac University           December 14–18, 2023   \n",
       "2023-12-06                  Rasmussen Reports        December 6–7 & 10, 2023   \n",
       "2023-12-05                         Cygnal (R)             December 5–7, 2023   \n",
       "2023-11-15                     Harvard/Harris           November 15–16, 2023   \n",
       "2023-11-13                      Reuters/Ipsos           November 13–14, 2023   \n",
       "2023-11-09              Quinnipiac University            November 9–13, 2023   \n",
       "2023-11-08                  Rasmussen Reports            November 8–12, 2023   \n",
       "2023-10-22                     Sienna College  October 22 – November 3, 2023   \n",
       "2023-10-30                         Cygnal (R)  October 30 – November 1, 2023   \n",
       "2023-10-27  American Pulse Research & Polling            October 27–30, 2023   \n",
       "2023-10-26              Quinnipiac University            October 26–30, 2023   \n",
       "2023-10-29                  Redfield & Wilton               October 29, 2023   \n",
       "2023-10-17                        Susquehanna            October 17–27, 2023   \n",
       "2023-10-23          McLaughlin and Associates            October 23–26, 2023   \n",
       "2023-10-17       USA Today/Suffolk University            October 17–20, 2023   \n",
       "2023-10-18                     Harvard Harris            October 18–19, 2023   \n",
       "2023-10-10                  Yahoo News/YouGov            October 10–16, 2023   \n",
       "2023-10-11                     NPR/PBS/Marist               October 11, 2023   \n",
       "2023-10-09                                                   October 9, 2023   \n",
       "2023-10-06                           Fox News              October 6–9, 2023   \n",
       "2023-10-03                         Cygnal (R)              October 3–5, 2023   \n",
       "2023-10-03                      Reuters/Ipsos              October 3–4, 2023   \n",
       "2023-09-25                   Echelon Insights          September 25–28, 2023   \n",
       "2023-09-24                    American Values             September 24, 2023   \n",
       "\n",
       "                                                Samplesize[b] Marginof error  \\\n",
       "New Date                                                                       \n",
       "2024-01-03                                         4,677 (RV)         ± 1.5%   \n",
       "2023-12-14                                         1,647 (RV)         ± 2.4%   \n",
       "2023-12-06                                           892 (LV)         ± 3.0%   \n",
       "2023-12-05                                         2,000 (LV)        ± 2.16%   \n",
       "2023-11-15                                         2,851 (RV)              –   \n",
       "2023-11-13                                         1,006 (RV)         ± 3.8%   \n",
       "2023-11-09                                         1,574 (RV)         ± 2.5%   \n",
       "2023-11-08                                           987 (LV)         ± 3.0%   \n",
       "2023-10-22                                         3,662 (RV)         ± 1.8%   \n",
       "2023-10-30                                         2,000 (LV)         ± 2.2%   \n",
       "2023-10-27                                           568 (LV)         ± 4.1%   \n",
       "2023-10-26                                         1,610 (RV)         ± 2.4%   \n",
       "2023-10-29                                         1,500 (LV)         ± 2.0%   \n",
       "2023-10-17                                         1,000 (LV)         ± 3.2%   \n",
       "2023-10-23                                           449 (LV)         ± 3.1%   \n",
       "2023-10-17                                         1,000 (RV)         ± 3.1%   \n",
       "2023-10-18                                         2,103 (RV)           ± 2%   \n",
       "2023-10-10                                         1,123 (RV)         ± 2.7%   \n",
       "2023-10-11                                         1,218 (RV)         ± 3.9%   \n",
       "2023-10-09  Kennedy announces he will run as an independen...           None   \n",
       "2023-10-06                                         1,007 (RV)         ± 3.0%   \n",
       "2023-10-03                                          2,000 (A)        ± 2.16%   \n",
       "2023-10-03                                          1,005 (A)         ± 4.0%   \n",
       "2023-09-25                                         1,011 (LV)         ± 4.0%   \n",
       "2023-09-24                                              1,008          ±3.2%   \n",
       "\n",
       "            JoeBidenDemocratic  DonaldTrumpRepublican  \\\n",
       "New Date                                                \n",
       "2024-01-03               0.290                  0.300   \n",
       "2023-12-14               0.380                  0.360   \n",
       "2023-12-06               0.320                  0.400   \n",
       "2023-12-05               0.420                  0.430   \n",
       "2023-11-15               0.360                  0.440   \n",
       "2023-11-13               0.300                  0.320   \n",
       "2023-11-09               0.370                  0.380   \n",
       "2023-11-08               0.380                  0.390   \n",
       "2023-10-22               0.330                  0.350   \n",
       "2023-10-30               0.404                  0.394   \n",
       "2023-10-27               0.389                  0.393   \n",
       "2023-10-26               0.390                  0.360   \n",
       "2023-10-29               0.380                  0.400   \n",
       "2023-10-17               0.470                  0.400   \n",
       "2023-10-23               0.370                  0.390   \n",
       "2023-10-17               0.380                  0.370   \n",
       "2023-10-18               0.360                  0.420   \n",
       "2023-10-10               0.400                  0.390   \n",
       "2023-10-11               0.440                  0.370   \n",
       "2023-10-09                 NaN                    NaN   \n",
       "2023-10-06               0.410                  0.410   \n",
       "2023-10-03               0.390                  0.400   \n",
       "2023-10-03               0.310                  0.330   \n",
       "2023-09-25               0.360                  0.400   \n",
       "2023-09-24               0.380                  0.380   \n",
       "\n",
       "            Robert F.Kennedy Jr.Independent Other/Undecided  Year      Month  \\\n",
       "New Date                                                                       \n",
       "2024-01-03                            0.180             23%  2024    January   \n",
       "2023-12-14                            0.220              4%  2023   December   \n",
       "2023-12-06                            0.160          12%[j]  2023   December   \n",
       "2023-12-05                            0.090              6%  2023   December   \n",
       "2023-11-15                            0.210              0%  2023   November   \n",
       "2023-11-13                            0.200             18%  2023   November   \n",
       "2023-11-09                            0.210              4%  2023   November   \n",
       "2023-11-08                            0.120             11%  2023   November   \n",
       "2023-10-22                            0.240              8%  2023    October   \n",
       "2023-10-30                            0.119            8.2%  2023    October   \n",
       "2023-10-27                            0.113           10.5%  2023    October   \n",
       "2023-10-26                            0.220              3%  2023    October   \n",
       "2023-10-29                            0.100             12%  2023    October   \n",
       "2023-10-17                            0.060              7%  2023    October   \n",
       "2023-10-23                            0.140             11%  2023    October   \n",
       "2023-10-17                            0.140             11%  2023    October   \n",
       "2023-10-18                            0.220               -  2023    October   \n",
       "2023-10-10                            0.090             12%  2023    October   \n",
       "2023-10-11                            0.160              3%  2023    October   \n",
       "2023-10-09                              NaN            None  2023    October   \n",
       "2023-10-06                            0.160              2%  2023    October   \n",
       "2023-10-03                            0.120              9%  2023    October   \n",
       "2023-10-03                            0.140             22%  2023    October   \n",
       "2023-09-25                            0.140             10%  2023  September   \n",
       "2023-09-24                            0.190              5%  2023  September   \n",
       "\n",
       "            Day  \n",
       "New Date         \n",
       "2024-01-03    3  \n",
       "2023-12-14   14  \n",
       "2023-12-06    6  \n",
       "2023-12-05    5  \n",
       "2023-11-15   15  \n",
       "2023-11-13   13  \n",
       "2023-11-09    9  \n",
       "2023-11-08    8  \n",
       "2023-10-22   22  \n",
       "2023-10-30   30  \n",
       "2023-10-27   27  \n",
       "2023-10-26   26  \n",
       "2023-10-29  29,  \n",
       "2023-10-17   17  \n",
       "2023-10-23   23  \n",
       "2023-10-17   17  \n",
       "2023-10-18   18  \n",
       "2023-10-10   10  \n",
       "2023-10-11  11,  \n",
       "2023-10-09   9,  \n",
       "2023-10-06    6  \n",
       "2023-10-03    3  \n",
       "2023-10-03    3  \n",
       "2023-09-25   25  \n",
       "2023-09-24  24,  "
      ]
     },
     "execution_count": 68,
     "metadata": {},
     "output_type": "execute_result"
    }
   ],
   "source": [
    "#Time Series Plot of Wikipedia Data\n",
    "\n",
    "df[\"Year\"] = df[\"Date\"].str.split(\" \").str[-1]\n",
    "df[\"Month\"] = df[\"Date\"].str.split(\" \").str[0]\n",
    "df[\"Day\"] = df[\"Date\"].str.split(\" \").str[1].str.split(\"–\").str[0]\n",
    "df[\"New Date\"] = df[\"Month\"] + \" \" + df[\"Day\"] + \", \" + df[\"Year\"]\n",
    "df[\"New Date\"] = pd.to_datetime(df[\"New Date\"],format=\"mixed\")\n",
    "df['JoeBidenDemocratic'] = df['JoeBidenDemocratic'].str.rstrip('%').astype('float') / 100\n",
    "df['DonaldTrumpRepublican'] = df['DonaldTrumpRepublican'].str.rstrip('%').astype('float') / 100\n",
    "df[\"Robert F.Kennedy Jr.Independent\"] = df[\"Robert F.Kennedy Jr.Independent\"].str.rstrip('%').astype('float') / 100\n",
    "df.set_index(\"New Date\", inplace=True)\n",
    "\n",
    "df"
   ]
  },
  {
   "cell_type": "code",
   "execution_count": 71,
   "metadata": {},
   "outputs": [
    {
     "data": {
      "image/png": "[encoded data removed]",
      "text/plain": [
       "<Figure size 640x480 with 1 Axes>"
      ]
     },
     "metadata": {},
     "output_type": "display_data"
    }
   ],
   "source": [
    "df.plot()\n",
    "plt.title('Wikipedia Polling Data')\n",
    "plt.show()"
   ]
  },
  {
   "cell_type": "code",
   "execution_count": 78,
   "metadata": {},
   "outputs": [],
   "source": [
    "#Time Series Analysis of Wikipedia Data\n",
    "\n"
   ]
  }
 ],
 "metadata": {
  "kernelspec": {
   "display_name": "base",
   "language": "python",
   "name": "python3"
  },
  "language_info": {
   "codemirror_mode": {
    "name": "ipython",
    "version": 3
   },
   "file_extension": ".py",
   "mimetype": "text/x-python",
   "name": "python",
   "nbconvert_exporter": "python",
   "pygments_lexer": "ipython3",
   "version": "3.11.5"
  },
  "orig_nbformat": 4
 },
 "nbformat": 4,
 "nbformat_minor": 2
}
