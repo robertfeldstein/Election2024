{
 "cells": [
  {
   "cell_type": "code",
   "execution_count": 2,
   "metadata": {},
   "outputs": [],
   "source": [
    "import pandas as pd\n",
    "import numpy as np\n",
    "import matplotlib.pyplot as plt\n",
    "import plotly.express as px\n",
    "import warnings\n",
    "warnings.simplefilter(action='ignore', category=FutureWarning)\n",
    "import time"
   ]
  },
  {
   "cell_type": "markdown",
   "metadata": {},
   "source": [
    "## Swing States\n",
    "\n",
    "- Pennsylvania\n",
    "- Michigan\n",
    "- Wisconsin\n",
    "- Georgia\n",
    "- Arizona\n",
    "- North Carolina\n",
    "- Nevada"
   ]
  },
  {
   "cell_type": "code",
   "execution_count": 10,
   "metadata": {},
   "outputs": [
    {
     "data": {
      "text/html": [
       "<div>\n",
       "<style scoped>\n",
       "    .dataframe tbody tr th:only-of-type {\n",
       "        vertical-align: middle;\n",
       "    }\n",
       "\n",
       "    .dataframe tbody tr th {\n",
       "        vertical-align: top;\n",
       "    }\n",
       "\n",
       "    .dataframe thead th {\n",
       "        text-align: right;\n",
       "    }\n",
       "</style>\n",
       "<table border=\"1\" class=\"dataframe\">\n",
       "  <thead>\n",
       "    <tr style=\"text-align: right;\">\n",
       "      <th></th>\n",
       "      <th>poll_id</th>\n",
       "      <th>pollster_id</th>\n",
       "      <th>pollster</th>\n",
       "      <th>sponsor_ids</th>\n",
       "      <th>sponsors</th>\n",
       "      <th>display_name</th>\n",
       "      <th>pollster_rating_id</th>\n",
       "      <th>pollster_rating_name</th>\n",
       "      <th>fte_grade</th>\n",
       "      <th>methodology</th>\n",
       "      <th>transparency_score</th>\n",
       "      <th>state</th>\n",
       "      <th>start_date</th>\n",
       "      <th>end_date</th>\n",
       "      <th>sponsor_candidate_id</th>\n",
       "      <th>sponsor_candidate</th>\n",
       "      <th>sponsor_candidate_party</th>\n",
       "      <th>endorsed_candidate_id</th>\n",
       "      <th>endorsed_candidate_name</th>\n",
       "      <th>endorsed_candidate_party</th>\n",
       "      <th>question_id</th>\n",
       "      <th>sample_size</th>\n",
       "      <th>population</th>\n",
       "      <th>subpopulation</th>\n",
       "      <th>population_full</th>\n",
       "      <th>tracking</th>\n",
       "      <th>created_at</th>\n",
       "      <th>notes</th>\n",
       "      <th>url</th>\n",
       "      <th>source</th>\n",
       "      <th>internal</th>\n",
       "      <th>partisan</th>\n",
       "      <th>race_id</th>\n",
       "      <th>cycle</th>\n",
       "      <th>office_type</th>\n",
       "      <th>seat_number</th>\n",
       "      <th>seat_name</th>\n",
       "      <th>election_date</th>\n",
       "      <th>stage</th>\n",
       "      <th>nationwide_batch</th>\n",
       "      <th>ranked_choice_reallocated</th>\n",
       "      <th>ranked_choice_round</th>\n",
       "      <th>party</th>\n",
       "      <th>answer</th>\n",
       "      <th>candidate_id</th>\n",
       "      <th>candidate_name</th>\n",
       "      <th>pct</th>\n",
       "    </tr>\n",
       "  </thead>\n",
       "  <tbody>\n",
       "    <tr>\n",
       "      <th>0</th>\n",
       "      <td>85930</td>\n",
       "      <td>241</td>\n",
       "      <td>Ipsos</td>\n",
       "      <td>71</td>\n",
       "      <td>Reuters</td>\n",
       "      <td>Ipsos</td>\n",
       "      <td>154</td>\n",
       "      <td>Ipsos</td>\n",
       "      <td>B-</td>\n",
       "      <td>Probability Panel</td>\n",
       "      <td>9.5</td>\n",
       "      <td>NaN</td>\n",
       "      <td>2/9/24</td>\n",
       "      <td>2/12/24</td>\n",
       "      <td>NaN</td>\n",
       "      <td>NaN</td>\n",
       "      <td>NaN</td>\n",
       "      <td>NaN</td>\n",
       "      <td>NaN</td>\n",
       "      <td>NaN</td>\n",
       "      <td>192034</td>\n",
       "      <td>1237.0</td>\n",
       "      <td>a</td>\n",
       "      <td>NaN</td>\n",
       "      <td>a</td>\n",
       "      <td>NaN</td>\n",
       "      <td>2/13/24 11:33</td>\n",
       "      <td>NaN</td>\n",
       "      <td>https://www.reuters.com/world/us/biden-trump-r...</td>\n",
       "      <td>NaN</td>\n",
       "      <td>NaN</td>\n",
       "      <td>NaN</td>\n",
       "      <td>8914</td>\n",
       "      <td>2024</td>\n",
       "      <td>U.S. President</td>\n",
       "      <td>0</td>\n",
       "      <td>NaN</td>\n",
       "      <td>11/5/24</td>\n",
       "      <td>general</td>\n",
       "      <td>False</td>\n",
       "      <td>False</td>\n",
       "      <td>NaN</td>\n",
       "      <td>DEM</td>\n",
       "      <td>Biden</td>\n",
       "      <td>19368</td>\n",
       "      <td>Joe Biden</td>\n",
       "      <td>34.0</td>\n",
       "    </tr>\n",
       "    <tr>\n",
       "      <th>1</th>\n",
       "      <td>85930</td>\n",
       "      <td>241</td>\n",
       "      <td>Ipsos</td>\n",
       "      <td>71</td>\n",
       "      <td>Reuters</td>\n",
       "      <td>Ipsos</td>\n",
       "      <td>154</td>\n",
       "      <td>Ipsos</td>\n",
       "      <td>B-</td>\n",
       "      <td>Probability Panel</td>\n",
       "      <td>9.5</td>\n",
       "      <td>NaN</td>\n",
       "      <td>2/9/24</td>\n",
       "      <td>2/12/24</td>\n",
       "      <td>NaN</td>\n",
       "      <td>NaN</td>\n",
       "      <td>NaN</td>\n",
       "      <td>NaN</td>\n",
       "      <td>NaN</td>\n",
       "      <td>NaN</td>\n",
       "      <td>192034</td>\n",
       "      <td>1237.0</td>\n",
       "      <td>a</td>\n",
       "      <td>NaN</td>\n",
       "      <td>a</td>\n",
       "      <td>NaN</td>\n",
       "      <td>2/13/24 11:33</td>\n",
       "      <td>NaN</td>\n",
       "      <td>https://www.reuters.com/world/us/biden-trump-r...</td>\n",
       "      <td>NaN</td>\n",
       "      <td>NaN</td>\n",
       "      <td>NaN</td>\n",
       "      <td>8914</td>\n",
       "      <td>2024</td>\n",
       "      <td>U.S. President</td>\n",
       "      <td>0</td>\n",
       "      <td>NaN</td>\n",
       "      <td>11/5/24</td>\n",
       "      <td>general</td>\n",
       "      <td>False</td>\n",
       "      <td>False</td>\n",
       "      <td>NaN</td>\n",
       "      <td>REP</td>\n",
       "      <td>Trump</td>\n",
       "      <td>16651</td>\n",
       "      <td>Donald Trump</td>\n",
       "      <td>37.0</td>\n",
       "    </tr>\n",
       "    <tr>\n",
       "      <th>2</th>\n",
       "      <td>85921</td>\n",
       "      <td>1189</td>\n",
       "      <td>Morning Consult</td>\n",
       "      <td>NaN</td>\n",
       "      <td>NaN</td>\n",
       "      <td>Morning Consult</td>\n",
       "      <td>218</td>\n",
       "      <td>Morning Consult</td>\n",
       "      <td>B-</td>\n",
       "      <td>Online Panel</td>\n",
       "      <td>3.0</td>\n",
       "      <td>NaN</td>\n",
       "      <td>2/9/24</td>\n",
       "      <td>2/11/24</td>\n",
       "      <td>NaN</td>\n",
       "      <td>NaN</td>\n",
       "      <td>NaN</td>\n",
       "      <td>NaN</td>\n",
       "      <td>NaN</td>\n",
       "      <td>NaN</td>\n",
       "      <td>192016</td>\n",
       "      <td>6164.0</td>\n",
       "      <td>rv</td>\n",
       "      <td>NaN</td>\n",
       "      <td>rv</td>\n",
       "      <td>True</td>\n",
       "      <td>2/12/24 15:53</td>\n",
       "      <td>NaN</td>\n",
       "      <td>https://pro.morningconsult.com/trackers/2024-p...</td>\n",
       "      <td>NaN</td>\n",
       "      <td>NaN</td>\n",
       "      <td>NaN</td>\n",
       "      <td>8914</td>\n",
       "      <td>2024</td>\n",
       "      <td>U.S. President</td>\n",
       "      <td>0</td>\n",
       "      <td>NaN</td>\n",
       "      <td>11/5/24</td>\n",
       "      <td>general</td>\n",
       "      <td>False</td>\n",
       "      <td>False</td>\n",
       "      <td>NaN</td>\n",
       "      <td>DEM</td>\n",
       "      <td>Biden</td>\n",
       "      <td>19368</td>\n",
       "      <td>Joe Biden</td>\n",
       "      <td>42.0</td>\n",
       "    </tr>\n",
       "    <tr>\n",
       "      <th>3</th>\n",
       "      <td>85921</td>\n",
       "      <td>1189</td>\n",
       "      <td>Morning Consult</td>\n",
       "      <td>NaN</td>\n",
       "      <td>NaN</td>\n",
       "      <td>Morning Consult</td>\n",
       "      <td>218</td>\n",
       "      <td>Morning Consult</td>\n",
       "      <td>B-</td>\n",
       "      <td>Online Panel</td>\n",
       "      <td>3.0</td>\n",
       "      <td>NaN</td>\n",
       "      <td>2/9/24</td>\n",
       "      <td>2/11/24</td>\n",
       "      <td>NaN</td>\n",
       "      <td>NaN</td>\n",
       "      <td>NaN</td>\n",
       "      <td>NaN</td>\n",
       "      <td>NaN</td>\n",
       "      <td>NaN</td>\n",
       "      <td>192016</td>\n",
       "      <td>6164.0</td>\n",
       "      <td>rv</td>\n",
       "      <td>NaN</td>\n",
       "      <td>rv</td>\n",
       "      <td>True</td>\n",
       "      <td>2/12/24 15:53</td>\n",
       "      <td>NaN</td>\n",
       "      <td>https://pro.morningconsult.com/trackers/2024-p...</td>\n",
       "      <td>NaN</td>\n",
       "      <td>NaN</td>\n",
       "      <td>NaN</td>\n",
       "      <td>8914</td>\n",
       "      <td>2024</td>\n",
       "      <td>U.S. President</td>\n",
       "      <td>0</td>\n",
       "      <td>NaN</td>\n",
       "      <td>11/5/24</td>\n",
       "      <td>general</td>\n",
       "      <td>False</td>\n",
       "      <td>False</td>\n",
       "      <td>NaN</td>\n",
       "      <td>REP</td>\n",
       "      <td>Trump</td>\n",
       "      <td>16651</td>\n",
       "      <td>Donald Trump</td>\n",
       "      <td>43.0</td>\n",
       "    </tr>\n",
       "    <tr>\n",
       "      <th>4</th>\n",
       "      <td>85933</td>\n",
       "      <td>1754</td>\n",
       "      <td>Patriot Polling</td>\n",
       "      <td>NaN</td>\n",
       "      <td>NaN</td>\n",
       "      <td>Patriot Polling</td>\n",
       "      <td>732</td>\n",
       "      <td>Patriot Polling</td>\n",
       "      <td>B/C</td>\n",
       "      <td>IVR</td>\n",
       "      <td>5.0</td>\n",
       "      <td>NaN</td>\n",
       "      <td>2/10/24</td>\n",
       "      <td>2/10/24</td>\n",
       "      <td>NaN</td>\n",
       "      <td>NaN</td>\n",
       "      <td>NaN</td>\n",
       "      <td>NaN</td>\n",
       "      <td>NaN</td>\n",
       "      <td>NaN</td>\n",
       "      <td>192047</td>\n",
       "      <td>1018.0</td>\n",
       "      <td>rv</td>\n",
       "      <td>NaN</td>\n",
       "      <td>rv</td>\n",
       "      <td>NaN</td>\n",
       "      <td>2/13/24 13:06</td>\n",
       "      <td>NaN</td>\n",
       "      <td>https://patriotpolling.com/our-polls/f/preside...</td>\n",
       "      <td>NaN</td>\n",
       "      <td>NaN</td>\n",
       "      <td>NaN</td>\n",
       "      <td>8914</td>\n",
       "      <td>2024</td>\n",
       "      <td>U.S. President</td>\n",
       "      <td>0</td>\n",
       "      <td>NaN</td>\n",
       "      <td>11/5/24</td>\n",
       "      <td>general</td>\n",
       "      <td>False</td>\n",
       "      <td>False</td>\n",
       "      <td>NaN</td>\n",
       "      <td>DEM</td>\n",
       "      <td>Biden</td>\n",
       "      <td>19368</td>\n",
       "      <td>Joe Biden</td>\n",
       "      <td>45.8</td>\n",
       "    </tr>\n",
       "  </tbody>\n",
       "</table>\n",
       "</div>"
      ],
      "text/plain": [
       "   poll_id  pollster_id         pollster sponsor_ids sponsors  \\\n",
       "0    85930          241            Ipsos          71  Reuters   \n",
       "1    85930          241            Ipsos          71  Reuters   \n",
       "2    85921         1189  Morning Consult         NaN      NaN   \n",
       "3    85921         1189  Morning Consult         NaN      NaN   \n",
       "4    85933         1754  Patriot Polling         NaN      NaN   \n",
       "\n",
       "      display_name  pollster_rating_id pollster_rating_name fte_grade  \\\n",
       "0            Ipsos                 154                Ipsos        B-   \n",
       "1            Ipsos                 154                Ipsos        B-   \n",
       "2  Morning Consult                 218      Morning Consult        B-   \n",
       "3  Morning Consult                 218      Morning Consult        B-   \n",
       "4  Patriot Polling                 732      Patriot Polling       B/C   \n",
       "\n",
       "         methodology  transparency_score state start_date end_date  \\\n",
       "0  Probability Panel                 9.5   NaN     2/9/24  2/12/24   \n",
       "1  Probability Panel                 9.5   NaN     2/9/24  2/12/24   \n",
       "2       Online Panel                 3.0   NaN     2/9/24  2/11/24   \n",
       "3       Online Panel                 3.0   NaN     2/9/24  2/11/24   \n",
       "4                IVR                 5.0   NaN    2/10/24  2/10/24   \n",
       "\n",
       "   sponsor_candidate_id sponsor_candidate sponsor_candidate_party  \\\n",
       "0                   NaN               NaN                     NaN   \n",
       "1                   NaN               NaN                     NaN   \n",
       "2                   NaN               NaN                     NaN   \n",
       "3                   NaN               NaN                     NaN   \n",
       "4                   NaN               NaN                     NaN   \n",
       "\n",
       "   endorsed_candidate_id  endorsed_candidate_name  endorsed_candidate_party  \\\n",
       "0                    NaN                      NaN                       NaN   \n",
       "1                    NaN                      NaN                       NaN   \n",
       "2                    NaN                      NaN                       NaN   \n",
       "3                    NaN                      NaN                       NaN   \n",
       "4                    NaN                      NaN                       NaN   \n",
       "\n",
       "   question_id  sample_size population  subpopulation population_full  \\\n",
       "0       192034       1237.0          a            NaN               a   \n",
       "1       192034       1237.0          a            NaN               a   \n",
       "2       192016       6164.0         rv            NaN              rv   \n",
       "3       192016       6164.0         rv            NaN              rv   \n",
       "4       192047       1018.0         rv            NaN              rv   \n",
       "\n",
       "  tracking     created_at notes  \\\n",
       "0      NaN  2/13/24 11:33   NaN   \n",
       "1      NaN  2/13/24 11:33   NaN   \n",
       "2     True  2/12/24 15:53   NaN   \n",
       "3     True  2/12/24 15:53   NaN   \n",
       "4      NaN  2/13/24 13:06   NaN   \n",
       "\n",
       "                                                 url  source internal  \\\n",
       "0  https://www.reuters.com/world/us/biden-trump-r...     NaN      NaN   \n",
       "1  https://www.reuters.com/world/us/biden-trump-r...     NaN      NaN   \n",
       "2  https://pro.morningconsult.com/trackers/2024-p...     NaN      NaN   \n",
       "3  https://pro.morningconsult.com/trackers/2024-p...     NaN      NaN   \n",
       "4  https://patriotpolling.com/our-polls/f/preside...     NaN      NaN   \n",
       "\n",
       "  partisan  race_id  cycle     office_type  seat_number  seat_name  \\\n",
       "0      NaN     8914   2024  U.S. President            0        NaN   \n",
       "1      NaN     8914   2024  U.S. President            0        NaN   \n",
       "2      NaN     8914   2024  U.S. President            0        NaN   \n",
       "3      NaN     8914   2024  U.S. President            0        NaN   \n",
       "4      NaN     8914   2024  U.S. President            0        NaN   \n",
       "\n",
       "  election_date    stage  nationwide_batch  ranked_choice_reallocated  \\\n",
       "0       11/5/24  general             False                      False   \n",
       "1       11/5/24  general             False                      False   \n",
       "2       11/5/24  general             False                      False   \n",
       "3       11/5/24  general             False                      False   \n",
       "4       11/5/24  general             False                      False   \n",
       "\n",
       "   ranked_choice_round party answer  candidate_id candidate_name   pct  \n",
       "0                  NaN   DEM  Biden         19368      Joe Biden  34.0  \n",
       "1                  NaN   REP  Trump         16651   Donald Trump  37.0  \n",
       "2                  NaN   DEM  Biden         19368      Joe Biden  42.0  \n",
       "3                  NaN   REP  Trump         16651   Donald Trump  43.0  \n",
       "4                  NaN   DEM  Biden         19368      Joe Biden  45.8  "
      ]
     },
     "execution_count": 10,
     "metadata": {},
     "output_type": "execute_result"
    }
   ],
   "source": [
    "# Load the most recent 538 Data\n",
    "\n",
    "df = pd.read_csv(\"https://projects.fivethirtyeight.com/polls/data/president_polls.csv\")\n",
    "pd.set_option(\"display.max_columns\", None)\n",
    "df.head()\n",
    "\n"
   ]
  },
  {
   "cell_type": "code",
   "execution_count": 11,
   "metadata": {},
   "outputs": [
    {
     "data": {
      "text/html": [
       "<div>\n",
       "<style scoped>\n",
       "    .dataframe tbody tr th:only-of-type {\n",
       "        vertical-align: middle;\n",
       "    }\n",
       "\n",
       "    .dataframe tbody tr th {\n",
       "        vertical-align: top;\n",
       "    }\n",
       "\n",
       "    .dataframe thead th {\n",
       "        text-align: right;\n",
       "    }\n",
       "</style>\n",
       "<table border=\"1\" class=\"dataframe\">\n",
       "  <thead>\n",
       "    <tr style=\"text-align: right;\">\n",
       "      <th></th>\n",
       "      <th>poll_id</th>\n",
       "      <th>pollster_id</th>\n",
       "      <th>pollster</th>\n",
       "      <th>sponsor_ids</th>\n",
       "      <th>sponsors</th>\n",
       "      <th>display_name</th>\n",
       "      <th>pollster_rating_id</th>\n",
       "      <th>pollster_rating_name</th>\n",
       "      <th>fte_grade</th>\n",
       "      <th>methodology</th>\n",
       "      <th>transparency_score</th>\n",
       "      <th>state</th>\n",
       "      <th>start_date</th>\n",
       "      <th>end_date</th>\n",
       "      <th>sponsor_candidate_id</th>\n",
       "      <th>sponsor_candidate</th>\n",
       "      <th>sponsor_candidate_party</th>\n",
       "      <th>endorsed_candidate_id</th>\n",
       "      <th>endorsed_candidate_name</th>\n",
       "      <th>endorsed_candidate_party</th>\n",
       "      <th>question_id</th>\n",
       "      <th>sample_size</th>\n",
       "      <th>population</th>\n",
       "      <th>subpopulation</th>\n",
       "      <th>population_full</th>\n",
       "      <th>tracking</th>\n",
       "      <th>created_at</th>\n",
       "      <th>notes</th>\n",
       "      <th>url</th>\n",
       "      <th>source</th>\n",
       "      <th>internal</th>\n",
       "      <th>partisan</th>\n",
       "      <th>race_id</th>\n",
       "      <th>cycle</th>\n",
       "      <th>office_type</th>\n",
       "      <th>seat_number</th>\n",
       "      <th>seat_name</th>\n",
       "      <th>election_date</th>\n",
       "      <th>stage</th>\n",
       "      <th>nationwide_batch</th>\n",
       "      <th>ranked_choice_reallocated</th>\n",
       "      <th>ranked_choice_round</th>\n",
       "      <th>party</th>\n",
       "      <th>answer</th>\n",
       "      <th>candidate_id</th>\n",
       "      <th>candidate_name</th>\n",
       "      <th>pct</th>\n",
       "    </tr>\n",
       "  </thead>\n",
       "  <tbody>\n",
       "    <tr>\n",
       "      <th>12</th>\n",
       "      <td>85914</td>\n",
       "      <td>1015</td>\n",
       "      <td>Chism Strategies</td>\n",
       "      <td>NaN</td>\n",
       "      <td>NaN</td>\n",
       "      <td>Chism Strategies</td>\n",
       "      <td>470</td>\n",
       "      <td>Blueprint Polling</td>\n",
       "      <td>B/C</td>\n",
       "      <td>Text</td>\n",
       "      <td>1.0</td>\n",
       "      <td>Pennsylvania</td>\n",
       "      <td>2/6/24</td>\n",
       "      <td>2/8/24</td>\n",
       "      <td>NaN</td>\n",
       "      <td>NaN</td>\n",
       "      <td>NaN</td>\n",
       "      <td>NaN</td>\n",
       "      <td>NaN</td>\n",
       "      <td>NaN</td>\n",
       "      <td>191993</td>\n",
       "      <td>500.0</td>\n",
       "      <td>rv</td>\n",
       "      <td>NaN</td>\n",
       "      <td>rv</td>\n",
       "      <td>NaN</td>\n",
       "      <td>2/9/24 16:24</td>\n",
       "      <td>NaN</td>\n",
       "      <td>https://chismstrategies.com/would-a-taylor-swi...</td>\n",
       "      <td>NaN</td>\n",
       "      <td>NaN</td>\n",
       "      <td>NaN</td>\n",
       "      <td>8872</td>\n",
       "      <td>2024</td>\n",
       "      <td>U.S. President</td>\n",
       "      <td>0</td>\n",
       "      <td>NaN</td>\n",
       "      <td>11/5/24</td>\n",
       "      <td>general</td>\n",
       "      <td>False</td>\n",
       "      <td>False</td>\n",
       "      <td>NaN</td>\n",
       "      <td>DEM</td>\n",
       "      <td>Biden</td>\n",
       "      <td>19368</td>\n",
       "      <td>Joe Biden</td>\n",
       "      <td>32.0</td>\n",
       "    </tr>\n",
       "    <tr>\n",
       "      <th>13</th>\n",
       "      <td>85914</td>\n",
       "      <td>1015</td>\n",
       "      <td>Chism Strategies</td>\n",
       "      <td>NaN</td>\n",
       "      <td>NaN</td>\n",
       "      <td>Chism Strategies</td>\n",
       "      <td>470</td>\n",
       "      <td>Blueprint Polling</td>\n",
       "      <td>B/C</td>\n",
       "      <td>Text</td>\n",
       "      <td>1.0</td>\n",
       "      <td>Pennsylvania</td>\n",
       "      <td>2/6/24</td>\n",
       "      <td>2/8/24</td>\n",
       "      <td>NaN</td>\n",
       "      <td>NaN</td>\n",
       "      <td>NaN</td>\n",
       "      <td>NaN</td>\n",
       "      <td>NaN</td>\n",
       "      <td>NaN</td>\n",
       "      <td>191993</td>\n",
       "      <td>500.0</td>\n",
       "      <td>rv</td>\n",
       "      <td>NaN</td>\n",
       "      <td>rv</td>\n",
       "      <td>NaN</td>\n",
       "      <td>2/9/24 16:24</td>\n",
       "      <td>NaN</td>\n",
       "      <td>https://chismstrategies.com/would-a-taylor-swi...</td>\n",
       "      <td>NaN</td>\n",
       "      <td>NaN</td>\n",
       "      <td>NaN</td>\n",
       "      <td>8872</td>\n",
       "      <td>2024</td>\n",
       "      <td>U.S. President</td>\n",
       "      <td>0</td>\n",
       "      <td>NaN</td>\n",
       "      <td>11/5/24</td>\n",
       "      <td>general</td>\n",
       "      <td>False</td>\n",
       "      <td>False</td>\n",
       "      <td>NaN</td>\n",
       "      <td>REP</td>\n",
       "      <td>Trump</td>\n",
       "      <td>16651</td>\n",
       "      <td>Donald Trump</td>\n",
       "      <td>40.0</td>\n",
       "    </tr>\n",
       "    <tr>\n",
       "      <th>243</th>\n",
       "      <td>85797</td>\n",
       "      <td>1114</td>\n",
       "      <td>Franklin and Marshall College</td>\n",
       "      <td>NaN</td>\n",
       "      <td>NaN</td>\n",
       "      <td>Franklin &amp; Marshall College Center for Opinion...</td>\n",
       "      <td>106</td>\n",
       "      <td>Franklin &amp; Marshall College Center for Opinion...</td>\n",
       "      <td>B/C</td>\n",
       "      <td>Mail-to-Web/Mail-to-Phone</td>\n",
       "      <td>8.5</td>\n",
       "      <td>Pennsylvania</td>\n",
       "      <td>1/17/24</td>\n",
       "      <td>1/28/24</td>\n",
       "      <td>NaN</td>\n",
       "      <td>NaN</td>\n",
       "      <td>NaN</td>\n",
       "      <td>NaN</td>\n",
       "      <td>NaN</td>\n",
       "      <td>NaN</td>\n",
       "      <td>191558</td>\n",
       "      <td>507.0</td>\n",
       "      <td>rv</td>\n",
       "      <td>NaN</td>\n",
       "      <td>rv</td>\n",
       "      <td>NaN</td>\n",
       "      <td>2/1/24 12:25</td>\n",
       "      <td>NaN</td>\n",
       "      <td>https://www.fandmpoll.org/franklin-marshall-po...</td>\n",
       "      <td>NaN</td>\n",
       "      <td>NaN</td>\n",
       "      <td>NaN</td>\n",
       "      <td>8872</td>\n",
       "      <td>2024</td>\n",
       "      <td>U.S. President</td>\n",
       "      <td>0</td>\n",
       "      <td>NaN</td>\n",
       "      <td>11/5/24</td>\n",
       "      <td>general</td>\n",
       "      <td>False</td>\n",
       "      <td>False</td>\n",
       "      <td>NaN</td>\n",
       "      <td>DEM</td>\n",
       "      <td>Biden</td>\n",
       "      <td>19368</td>\n",
       "      <td>Joe Biden</td>\n",
       "      <td>43.0</td>\n",
       "    </tr>\n",
       "    <tr>\n",
       "      <th>244</th>\n",
       "      <td>85797</td>\n",
       "      <td>1114</td>\n",
       "      <td>Franklin and Marshall College</td>\n",
       "      <td>NaN</td>\n",
       "      <td>NaN</td>\n",
       "      <td>Franklin &amp; Marshall College Center for Opinion...</td>\n",
       "      <td>106</td>\n",
       "      <td>Franklin &amp; Marshall College Center for Opinion...</td>\n",
       "      <td>B/C</td>\n",
       "      <td>Mail-to-Web/Mail-to-Phone</td>\n",
       "      <td>8.5</td>\n",
       "      <td>Pennsylvania</td>\n",
       "      <td>1/17/24</td>\n",
       "      <td>1/28/24</td>\n",
       "      <td>NaN</td>\n",
       "      <td>NaN</td>\n",
       "      <td>NaN</td>\n",
       "      <td>NaN</td>\n",
       "      <td>NaN</td>\n",
       "      <td>NaN</td>\n",
       "      <td>191558</td>\n",
       "      <td>507.0</td>\n",
       "      <td>rv</td>\n",
       "      <td>NaN</td>\n",
       "      <td>rv</td>\n",
       "      <td>NaN</td>\n",
       "      <td>2/1/24 12:25</td>\n",
       "      <td>NaN</td>\n",
       "      <td>https://www.fandmpoll.org/franklin-marshall-po...</td>\n",
       "      <td>NaN</td>\n",
       "      <td>NaN</td>\n",
       "      <td>NaN</td>\n",
       "      <td>8872</td>\n",
       "      <td>2024</td>\n",
       "      <td>U.S. President</td>\n",
       "      <td>0</td>\n",
       "      <td>NaN</td>\n",
       "      <td>11/5/24</td>\n",
       "      <td>general</td>\n",
       "      <td>False</td>\n",
       "      <td>False</td>\n",
       "      <td>NaN</td>\n",
       "      <td>REP</td>\n",
       "      <td>Trump</td>\n",
       "      <td>16651</td>\n",
       "      <td>Donald Trump</td>\n",
       "      <td>42.0</td>\n",
       "    </tr>\n",
       "    <tr>\n",
       "      <th>245</th>\n",
       "      <td>85797</td>\n",
       "      <td>1114</td>\n",
       "      <td>Franklin and Marshall College</td>\n",
       "      <td>NaN</td>\n",
       "      <td>NaN</td>\n",
       "      <td>Franklin &amp; Marshall College Center for Opinion...</td>\n",
       "      <td>106</td>\n",
       "      <td>Franklin &amp; Marshall College Center for Opinion...</td>\n",
       "      <td>B/C</td>\n",
       "      <td>Mail-to-Web/Mail-to-Phone</td>\n",
       "      <td>8.5</td>\n",
       "      <td>Pennsylvania</td>\n",
       "      <td>1/17/24</td>\n",
       "      <td>1/28/24</td>\n",
       "      <td>NaN</td>\n",
       "      <td>NaN</td>\n",
       "      <td>NaN</td>\n",
       "      <td>NaN</td>\n",
       "      <td>NaN</td>\n",
       "      <td>NaN</td>\n",
       "      <td>191559</td>\n",
       "      <td>499.0</td>\n",
       "      <td>rv</td>\n",
       "      <td>NaN</td>\n",
       "      <td>rv</td>\n",
       "      <td>NaN</td>\n",
       "      <td>2/1/24 12:25</td>\n",
       "      <td>NaN</td>\n",
       "      <td>https://www.fandmpoll.org/franklin-marshall-po...</td>\n",
       "      <td>NaN</td>\n",
       "      <td>NaN</td>\n",
       "      <td>NaN</td>\n",
       "      <td>8872</td>\n",
       "      <td>2024</td>\n",
       "      <td>U.S. President</td>\n",
       "      <td>0</td>\n",
       "      <td>NaN</td>\n",
       "      <td>11/5/24</td>\n",
       "      <td>general</td>\n",
       "      <td>False</td>\n",
       "      <td>False</td>\n",
       "      <td>NaN</td>\n",
       "      <td>DEM</td>\n",
       "      <td>Biden</td>\n",
       "      <td>19368</td>\n",
       "      <td>Joe Biden</td>\n",
       "      <td>42.0</td>\n",
       "    </tr>\n",
       "  </tbody>\n",
       "</table>\n",
       "</div>"
      ],
      "text/plain": [
       "     poll_id  pollster_id                       pollster sponsor_ids sponsors  \\\n",
       "12     85914         1015               Chism Strategies         NaN      NaN   \n",
       "13     85914         1015               Chism Strategies         NaN      NaN   \n",
       "243    85797         1114  Franklin and Marshall College         NaN      NaN   \n",
       "244    85797         1114  Franklin and Marshall College         NaN      NaN   \n",
       "245    85797         1114  Franklin and Marshall College         NaN      NaN   \n",
       "\n",
       "                                          display_name  pollster_rating_id  \\\n",
       "12                                    Chism Strategies                 470   \n",
       "13                                    Chism Strategies                 470   \n",
       "243  Franklin & Marshall College Center for Opinion...                 106   \n",
       "244  Franklin & Marshall College Center for Opinion...                 106   \n",
       "245  Franklin & Marshall College Center for Opinion...                 106   \n",
       "\n",
       "                                  pollster_rating_name fte_grade  \\\n",
       "12                                   Blueprint Polling       B/C   \n",
       "13                                   Blueprint Polling       B/C   \n",
       "243  Franklin & Marshall College Center for Opinion...       B/C   \n",
       "244  Franklin & Marshall College Center for Opinion...       B/C   \n",
       "245  Franklin & Marshall College Center for Opinion...       B/C   \n",
       "\n",
       "                   methodology  transparency_score         state start_date  \\\n",
       "12                        Text                 1.0  Pennsylvania     2/6/24   \n",
       "13                        Text                 1.0  Pennsylvania     2/6/24   \n",
       "243  Mail-to-Web/Mail-to-Phone                 8.5  Pennsylvania    1/17/24   \n",
       "244  Mail-to-Web/Mail-to-Phone                 8.5  Pennsylvania    1/17/24   \n",
       "245  Mail-to-Web/Mail-to-Phone                 8.5  Pennsylvania    1/17/24   \n",
       "\n",
       "    end_date  sponsor_candidate_id sponsor_candidate sponsor_candidate_party  \\\n",
       "12    2/8/24                   NaN               NaN                     NaN   \n",
       "13    2/8/24                   NaN               NaN                     NaN   \n",
       "243  1/28/24                   NaN               NaN                     NaN   \n",
       "244  1/28/24                   NaN               NaN                     NaN   \n",
       "245  1/28/24                   NaN               NaN                     NaN   \n",
       "\n",
       "     endorsed_candidate_id  endorsed_candidate_name  endorsed_candidate_party  \\\n",
       "12                     NaN                      NaN                       NaN   \n",
       "13                     NaN                      NaN                       NaN   \n",
       "243                    NaN                      NaN                       NaN   \n",
       "244                    NaN                      NaN                       NaN   \n",
       "245                    NaN                      NaN                       NaN   \n",
       "\n",
       "     question_id  sample_size population  subpopulation population_full  \\\n",
       "12        191993        500.0         rv            NaN              rv   \n",
       "13        191993        500.0         rv            NaN              rv   \n",
       "243       191558        507.0         rv            NaN              rv   \n",
       "244       191558        507.0         rv            NaN              rv   \n",
       "245       191559        499.0         rv            NaN              rv   \n",
       "\n",
       "    tracking    created_at notes  \\\n",
       "12       NaN  2/9/24 16:24   NaN   \n",
       "13       NaN  2/9/24 16:24   NaN   \n",
       "243      NaN  2/1/24 12:25   NaN   \n",
       "244      NaN  2/1/24 12:25   NaN   \n",
       "245      NaN  2/1/24 12:25   NaN   \n",
       "\n",
       "                                                   url  source internal  \\\n",
       "12   https://chismstrategies.com/would-a-taylor-swi...     NaN      NaN   \n",
       "13   https://chismstrategies.com/would-a-taylor-swi...     NaN      NaN   \n",
       "243  https://www.fandmpoll.org/franklin-marshall-po...     NaN      NaN   \n",
       "244  https://www.fandmpoll.org/franklin-marshall-po...     NaN      NaN   \n",
       "245  https://www.fandmpoll.org/franklin-marshall-po...     NaN      NaN   \n",
       "\n",
       "    partisan  race_id  cycle     office_type  seat_number  seat_name  \\\n",
       "12       NaN     8872   2024  U.S. President            0        NaN   \n",
       "13       NaN     8872   2024  U.S. President            0        NaN   \n",
       "243      NaN     8872   2024  U.S. President            0        NaN   \n",
       "244      NaN     8872   2024  U.S. President            0        NaN   \n",
       "245      NaN     8872   2024  U.S. President            0        NaN   \n",
       "\n",
       "    election_date    stage  nationwide_batch  ranked_choice_reallocated  \\\n",
       "12        11/5/24  general             False                      False   \n",
       "13        11/5/24  general             False                      False   \n",
       "243       11/5/24  general             False                      False   \n",
       "244       11/5/24  general             False                      False   \n",
       "245       11/5/24  general             False                      False   \n",
       "\n",
       "     ranked_choice_round party answer  candidate_id candidate_name   pct  \n",
       "12                   NaN   DEM  Biden         19368      Joe Biden  32.0  \n",
       "13                   NaN   REP  Trump         16651   Donald Trump  40.0  \n",
       "243                  NaN   DEM  Biden         19368      Joe Biden  43.0  \n",
       "244                  NaN   REP  Trump         16651   Donald Trump  42.0  \n",
       "245                  NaN   DEM  Biden         19368      Joe Biden  42.0  "
      ]
     },
     "execution_count": 11,
     "metadata": {},
     "output_type": "execute_result"
    }
   ],
   "source": [
    "#Define a function to grab the data by state\n",
    "\n",
    "\n",
    "def get_state_data(state,df):\n",
    "    state_data = df[df['state'] == state]\n",
    "    return state_data.copy()\n",
    "\n",
    "pa = get_state_data('Pennsylvania',df)\n",
    "mi = get_state_data('Michigan',df)\n",
    "wi = get_state_data('Wisconsin',df)\n",
    "ga = get_state_data('Georgia',df)\n",
    "az = get_state_data('Arizona',df)\n",
    "nc = get_state_data('North Carolina',df)\n",
    "nv = get_state_data('Nevada',df)\n",
    "states = [pa,mi,wi,ga,az,nc,nv]\n",
    "\n",
    "pa.head()"
   ]
  },
  {
   "cell_type": "code",
   "execution_count": 12,
   "metadata": {},
   "outputs": [],
   "source": [
    "def get_candidate_data(candidate,df):\n",
    "    candidate_data = df[df['candidate_name'] == candidate]\n",
    "    return candidate_data.copy()\n",
    "\n",
    "biden_states = [get_candidate_data('Joe Biden',state) for state in states]\n",
    "trump_states = [get_candidate_data('Donald Trump',state) for state in states]\n",
    "kennedy_states = [get_candidate_data('Robert F. Kennedy',state) for state in states]\n",
    "\n",
    "biden_pa = biden_states[0]\n",
    "trump_pa = trump_states[0]\n",
    "kennedy_pa = kennedy_states[0]\n"
   ]
  },
  {
   "cell_type": "code",
   "execution_count": 13,
   "metadata": {},
   "outputs": [
    {
     "data": {
      "application/vnd.plotly.v1+json": {
       "config": {
        "plotlyServerURL": "https://plot.ly"
       },
       "data": [
        {
         "hoverinfo": "text+name",
         "hovertemplate": "start_date=%{x}<br>pct=%{y}<extra></extra>",
         "legendgroup": "",
         "marker": {
          "color": "#636efa",
          "symbol": "circle"
         },
         "mode": "lines+markers",
         "name": "",
         "orientation": "v",
         "showlegend": false,
         "type": "scatter",
         "x": [
          "2024-02-06T00:00:00",
          "2024-01-17T00:00:00",
          "2024-01-17T00:00:00",
          "2024-01-16T00:00:00",
          "2024-01-16T00:00:00",
          "2024-01-15T00:00:00",
          "2024-01-04T00:00:00",
          "2024-01-04T00:00:00",
          "2023-12-28T00:00:00",
          "2023-12-14T00:00:00",
          "2023-11-20T00:00:00",
          "2023-11-20T00:00:00",
          "2023-11-20T00:00:00",
          "2023-12-03T00:00:00",
          "2023-11-27T00:00:00",
          "2023-11-27T00:00:00",
          "2023-11-27T00:00:00",
          "2023-11-27T00:00:00",
          "2023-11-27T00:00:00",
          "2023-10-30T00:00:00",
          "2023-10-30T00:00:00",
          "2023-10-30T00:00:00",
          "2023-10-30T00:00:00",
          "2023-10-22T00:00:00",
          "2023-10-22T00:00:00",
          "2023-10-22T00:00:00",
          "2023-10-22T00:00:00",
          "2023-10-22T00:00:00",
          "2023-10-22T00:00:00",
          "2023-10-22T00:00:00",
          "2023-10-22T00:00:00",
          "2023-10-11T00:00:00",
          "2023-10-05T00:00:00",
          "2023-10-07T00:00:00",
          "2023-10-07T00:00:00",
          "2023-10-01T00:00:00",
          "2023-09-28T00:00:00",
          "2023-09-19T00:00:00",
          "2023-09-19T00:00:00",
          "2023-09-25T00:00:00",
          "2023-09-14T00:00:00",
          "2023-08-09T00:00:00",
          "2023-06-14T00:00:00",
          "2023-06-22T00:00:00",
          "2023-06-17T00:00:00",
          "2023-06-17T00:00:00",
          "2023-05-02T00:00:00",
          "2023-04-11T00:00:00",
          "2023-04-11T00:00:00",
          "2023-03-27T00:00:00",
          "2023-02-19T00:00:00",
          "2022-11-02T00:00:00",
          "2022-11-02T00:00:00",
          "2022-10-28T00:00:00",
          "2022-09-23T00:00:00",
          "2022-08-31T00:00:00",
          "2022-08-31T00:00:00",
          "2022-08-22T00:00:00",
          "2022-07-22T00:00:00",
          "2022-07-19T00:00:00",
          "2022-02-15T00:00:00",
          "2021-11-11T00:00:00"
         ],
         "xaxis": "x",
         "y": [
          32,
          43,
          42,
          40,
          45,
          46.8,
          49,
          41,
          39,
          45,
          42,
          41,
          33,
          40,
          38,
          44,
          37,
          37,
          36,
          44,
          38,
          43.2,
          45.2,
          44,
          44,
          43,
          43,
          38,
          39,
          35,
          36,
          44,
          45,
          43,
          39,
          36.4,
          45,
          44,
          47,
          48,
          47,
          42,
          50,
          46,
          45,
          48,
          48,
          42,
          46,
          36,
          48,
          48,
          46,
          44.2,
          44.9,
          48,
          46,
          41.7,
          41.7,
          42,
          45.1,
          45
         ],
         "yaxis": "y"
        },
        {
         "hoverinfo": "text+name",
         "mode": "lines+markers",
         "name": "Least Squares",
         "type": "scatter",
         "x": [
          "2024-02-06T00:00:00",
          "2024-01-17T00:00:00",
          "2024-01-17T00:00:00",
          "2024-01-16T00:00:00",
          "2024-01-16T00:00:00",
          "2024-01-15T00:00:00",
          "2024-01-04T00:00:00",
          "2024-01-04T00:00:00",
          "2023-12-28T00:00:00",
          "2023-12-14T00:00:00",
          "2023-11-20T00:00:00",
          "2023-11-20T00:00:00",
          "2023-11-20T00:00:00",
          "2023-12-03T00:00:00",
          "2023-11-27T00:00:00",
          "2023-11-27T00:00:00",
          "2023-11-27T00:00:00",
          "2023-11-27T00:00:00",
          "2023-11-27T00:00:00",
          "2023-10-30T00:00:00",
          "2023-10-30T00:00:00",
          "2023-10-30T00:00:00",
          "2023-10-30T00:00:00",
          "2023-10-22T00:00:00",
          "2023-10-22T00:00:00",
          "2023-10-22T00:00:00",
          "2023-10-22T00:00:00",
          "2023-10-22T00:00:00",
          "2023-10-22T00:00:00",
          "2023-10-22T00:00:00",
          "2023-10-22T00:00:00",
          "2023-10-11T00:00:00",
          "2023-10-05T00:00:00",
          "2023-10-07T00:00:00",
          "2023-10-07T00:00:00",
          "2023-10-01T00:00:00",
          "2023-09-28T00:00:00",
          "2023-09-19T00:00:00",
          "2023-09-19T00:00:00",
          "2023-09-25T00:00:00",
          "2023-09-14T00:00:00",
          "2023-08-09T00:00:00",
          "2023-06-14T00:00:00",
          "2023-06-22T00:00:00",
          "2023-06-17T00:00:00",
          "2023-06-17T00:00:00",
          "2023-05-02T00:00:00",
          "2023-04-11T00:00:00",
          "2023-04-11T00:00:00",
          "2023-03-27T00:00:00",
          "2023-02-19T00:00:00",
          "2022-11-02T00:00:00",
          "2022-11-02T00:00:00",
          "2022-10-28T00:00:00",
          "2022-09-23T00:00:00",
          "2022-08-31T00:00:00",
          "2022-08-31T00:00:00",
          "2022-08-22T00:00:00",
          "2022-07-22T00:00:00",
          "2022-07-19T00:00:00",
          "2022-02-15T00:00:00",
          "2021-11-11T00:00:00"
         ],
         "y": [
          40.42652028115379,
          40.662277265275975,
          40.66431845128569,
          40.75719241472776,
          40.762295379752054,
          40.77148071679577,
          40.91436373747589,
          40.9164049234856,
          41.01234066594225,
          41.09194692032117,
          41.17665613972438,
          41.17869732573409,
          41.18073851174381,
          41.26646832415187,
          41.33790983449193,
          41.343012799516224,
          41.473648704138036,
          41.476710483152615,
          41.47977226216719,
          41.78492957061971,
          41.78697075662943,
          41.823712104804315,
          41.82575329081403,
          41.95638919543585,
          41.95843038144556,
          41.964553939474705,
          41.966595125484424,
          41.96863631149414,
          41.97067749750386,
          41.97271868351357,
          41.97578046252814,
          42.17479609847545,
          42.36666758338874,
          42.41055308259763,
          42.41259426860734,
          42.45035620978709,
          42.507509418059136,
          42.55139491726803,
          42.55343610327774,
          42.56772440534575,
          42.73918403016189,
          43.00964117644924,
          43.41379600637298,
          43.434207866470146,
          43.502587597795625,
          43.504628783805344,
          43.91592776476309,
          44.13739644681726,
          44.13943763282698,
          44.17617898100187,
          44.47113035940581,
          45.085527348330295,
          45.08756853434001,
          45.11818632448575,
          45.26923408920472,
          45.389664063777964,
          45.39170524978768,
          45.4590643881083,
          45.57337080465239,
          45.58153554869126,
          45.914248868274946,
          46.042843586887045
         ]
        }
       ],
       "layout": {
        "annotations": [
         {
          "showarrow": false,
          "text": "50%",
          "x": 1,
          "xanchor": "right",
          "xref": "x domain",
          "y": 50,
          "yanchor": "bottom",
          "yref": "y"
         }
        ],
        "hovermode": "x unified",
        "legend": {
         "tracegroupgap": 0
        },
        "shapes": [
         {
          "line": {
           "color": "red",
           "dash": "dot"
          },
          "type": "line",
          "x0": 0,
          "x1": 1,
          "xref": "x domain",
          "y0": 50,
          "y1": 50,
          "yref": "y"
         }
        ],
        "template": {
         "data": {
          "bar": [
           {
            "error_x": {
             "color": "#2a3f5f"
            },
            "error_y": {
             "color": "#2a3f5f"
            },
            "marker": {
             "line": {
              "color": "#E5ECF6",
              "width": 0.5
             },
             "pattern": {
              "fillmode": "overlay",
              "size": 10,
              "solidity": 0.2
             }
            },
            "type": "bar"
           }
          ],
          "barpolar": [
           {
            "marker": {
             "line": {
              "color": "#E5ECF6",
              "width": 0.5
             },
             "pattern": {
              "fillmode": "overlay",
              "size": 10,
              "solidity": 0.2
             }
            },
            "type": "barpolar"
           }
          ],
          "carpet": [
           {
            "aaxis": {
             "endlinecolor": "#2a3f5f",
             "gridcolor": "white",
             "linecolor": "white",
             "minorgridcolor": "white",
             "startlinecolor": "#2a3f5f"
            },
            "baxis": {
             "endlinecolor": "#2a3f5f",
             "gridcolor": "white",
             "linecolor": "white",
             "minorgridcolor": "white",
             "startlinecolor": "#2a3f5f"
            },
            "type": "carpet"
           }
          ],
          "choropleth": [
           {
            "colorbar": {
             "outlinewidth": 0,
             "ticks": ""
            },
            "type": "choropleth"
           }
          ],
          "contour": [
           {
            "colorbar": {
             "outlinewidth": 0,
             "ticks": ""
            },
            "colorscale": [
             [
              0,
              "#0d0887"
             ],
             [
              0.1111111111111111,
              "#46039f"
             ],
             [
              0.2222222222222222,
              "#7201a8"
             ],
             [
              0.3333333333333333,
              "#9c179e"
             ],
             [
              0.4444444444444444,
              "#bd3786"
             ],
             [
              0.5555555555555556,
              "#d8576b"
             ],
             [
              0.6666666666666666,
              "#ed7953"
             ],
             [
              0.7777777777777778,
              "#fb9f3a"
             ],
             [
              0.8888888888888888,
              "#fdca26"
             ],
             [
              1,
              "#f0f921"
             ]
            ],
            "type": "contour"
           }
          ],
          "contourcarpet": [
           {
            "colorbar": {
             "outlinewidth": 0,
             "ticks": ""
            },
            "type": "contourcarpet"
           }
          ],
          "heatmap": [
           {
            "colorbar": {
             "outlinewidth": 0,
             "ticks": ""
            },
            "colorscale": [
             [
              0,
              "#0d0887"
             ],
             [
              0.1111111111111111,
              "#46039f"
             ],
             [
              0.2222222222222222,
              "#7201a8"
             ],
             [
              0.3333333333333333,
              "#9c179e"
             ],
             [
              0.4444444444444444,
              "#bd3786"
             ],
             [
              0.5555555555555556,
              "#d8576b"
             ],
             [
              0.6666666666666666,
              "#ed7953"
             ],
             [
              0.7777777777777778,
              "#fb9f3a"
             ],
             [
              0.8888888888888888,
              "#fdca26"
             ],
             [
              1,
              "#f0f921"
             ]
            ],
            "type": "heatmap"
           }
          ],
          "heatmapgl": [
           {
            "colorbar": {
             "outlinewidth": 0,
             "ticks": ""
            },
            "colorscale": [
             [
              0,
              "#0d0887"
             ],
             [
              0.1111111111111111,
              "#46039f"
             ],
             [
              0.2222222222222222,
              "#7201a8"
             ],
             [
              0.3333333333333333,
              "#9c179e"
             ],
             [
              0.4444444444444444,
              "#bd3786"
             ],
             [
              0.5555555555555556,
              "#d8576b"
             ],
             [
              0.6666666666666666,
              "#ed7953"
             ],
             [
              0.7777777777777778,
              "#fb9f3a"
             ],
             [
              0.8888888888888888,
              "#fdca26"
             ],
             [
              1,
              "#f0f921"
             ]
            ],
            "type": "heatmapgl"
           }
          ],
          "histogram": [
           {
            "marker": {
             "pattern": {
              "fillmode": "overlay",
              "size": 10,
              "solidity": 0.2
             }
            },
            "type": "histogram"
           }
          ],
          "histogram2d": [
           {
            "colorbar": {
             "outlinewidth": 0,
             "ticks": ""
            },
            "colorscale": [
             [
              0,
              "#0d0887"
             ],
             [
              0.1111111111111111,
              "#46039f"
             ],
             [
              0.2222222222222222,
              "#7201a8"
             ],
             [
              0.3333333333333333,
              "#9c179e"
             ],
             [
              0.4444444444444444,
              "#bd3786"
             ],
             [
              0.5555555555555556,
              "#d8576b"
             ],
             [
              0.6666666666666666,
              "#ed7953"
             ],
             [
              0.7777777777777778,
              "#fb9f3a"
             ],
             [
              0.8888888888888888,
              "#fdca26"
             ],
             [
              1,
              "#f0f921"
             ]
            ],
            "type": "histogram2d"
           }
          ],
          "histogram2dcontour": [
           {
            "colorbar": {
             "outlinewidth": 0,
             "ticks": ""
            },
            "colorscale": [
             [
              0,
              "#0d0887"
             ],
             [
              0.1111111111111111,
              "#46039f"
             ],
             [
              0.2222222222222222,
              "#7201a8"
             ],
             [
              0.3333333333333333,
              "#9c179e"
             ],
             [
              0.4444444444444444,
              "#bd3786"
             ],
             [
              0.5555555555555556,
              "#d8576b"
             ],
             [
              0.6666666666666666,
              "#ed7953"
             ],
             [
              0.7777777777777778,
              "#fb9f3a"
             ],
             [
              0.8888888888888888,
              "#fdca26"
             ],
             [
              1,
              "#f0f921"
             ]
            ],
            "type": "histogram2dcontour"
           }
          ],
          "mesh3d": [
           {
            "colorbar": {
             "outlinewidth": 0,
             "ticks": ""
            },
            "type": "mesh3d"
           }
          ],
          "parcoords": [
           {
            "line": {
             "colorbar": {
              "outlinewidth": 0,
              "ticks": ""
             }
            },
            "type": "parcoords"
           }
          ],
          "pie": [
           {
            "automargin": true,
            "type": "pie"
           }
          ],
          "scatter": [
           {
            "fillpattern": {
             "fillmode": "overlay",
             "size": 10,
             "solidity": 0.2
            },
            "type": "scatter"
           }
          ],
          "scatter3d": [
           {
            "line": {
             "colorbar": {
              "outlinewidth": 0,
              "ticks": ""
             }
            },
            "marker": {
             "colorbar": {
              "outlinewidth": 0,
              "ticks": ""
             }
            },
            "type": "scatter3d"
           }
          ],
          "scattercarpet": [
           {
            "marker": {
             "colorbar": {
              "outlinewidth": 0,
              "ticks": ""
             }
            },
            "type": "scattercarpet"
           }
          ],
          "scattergeo": [
           {
            "marker": {
             "colorbar": {
              "outlinewidth": 0,
              "ticks": ""
             }
            },
            "type": "scattergeo"
           }
          ],
          "scattergl": [
           {
            "marker": {
             "colorbar": {
              "outlinewidth": 0,
              "ticks": ""
             }
            },
            "type": "scattergl"
           }
          ],
          "scattermapbox": [
           {
            "marker": {
             "colorbar": {
              "outlinewidth": 0,
              "ticks": ""
             }
            },
            "type": "scattermapbox"
           }
          ],
          "scatterpolar": [
           {
            "marker": {
             "colorbar": {
              "outlinewidth": 0,
              "ticks": ""
             }
            },
            "type": "scatterpolar"
           }
          ],
          "scatterpolargl": [
           {
            "marker": {
             "colorbar": {
              "outlinewidth": 0,
              "ticks": ""
             }
            },
            "type": "scatterpolargl"
           }
          ],
          "scatterternary": [
           {
            "marker": {
             "colorbar": {
              "outlinewidth": 0,
              "ticks": ""
             }
            },
            "type": "scatterternary"
           }
          ],
          "surface": [
           {
            "colorbar": {
             "outlinewidth": 0,
             "ticks": ""
            },
            "colorscale": [
             [
              0,
              "#0d0887"
             ],
             [
              0.1111111111111111,
              "#46039f"
             ],
             [
              0.2222222222222222,
              "#7201a8"
             ],
             [
              0.3333333333333333,
              "#9c179e"
             ],
             [
              0.4444444444444444,
              "#bd3786"
             ],
             [
              0.5555555555555556,
              "#d8576b"
             ],
             [
              0.6666666666666666,
              "#ed7953"
             ],
             [
              0.7777777777777778,
              "#fb9f3a"
             ],
             [
              0.8888888888888888,
              "#fdca26"
             ],
             [
              1,
              "#f0f921"
             ]
            ],
            "type": "surface"
           }
          ],
          "table": [
           {
            "cells": {
             "fill": {
              "color": "#EBF0F8"
             },
             "line": {
              "color": "white"
             }
            },
            "header": {
             "fill": {
              "color": "#C8D4E3"
             },
             "line": {
              "color": "white"
             }
            },
            "type": "table"
           }
          ]
         },
         "layout": {
          "annotationdefaults": {
           "arrowcolor": "#2a3f5f",
           "arrowhead": 0,
           "arrowwidth": 1
          },
          "autotypenumbers": "strict",
          "coloraxis": {
           "colorbar": {
            "outlinewidth": 0,
            "ticks": ""
           }
          },
          "colorscale": {
           "diverging": [
            [
             0,
             "#8e0152"
            ],
            [
             0.1,
             "#c51b7d"
            ],
            [
             0.2,
             "#de77ae"
            ],
            [
             0.3,
             "#f1b6da"
            ],
            [
             0.4,
             "#fde0ef"
            ],
            [
             0.5,
             "#f7f7f7"
            ],
            [
             0.6,
             "#e6f5d0"
            ],
            [
             0.7,
             "#b8e186"
            ],
            [
             0.8,
             "#7fbc41"
            ],
            [
             0.9,
             "#4d9221"
            ],
            [
             1,
             "#276419"
            ]
           ],
           "sequential": [
            [
             0,
             "#0d0887"
            ],
            [
             0.1111111111111111,
             "#46039f"
            ],
            [
             0.2222222222222222,
             "#7201a8"
            ],
            [
             0.3333333333333333,
             "#9c179e"
            ],
            [
             0.4444444444444444,
             "#bd3786"
            ],
            [
             0.5555555555555556,
             "#d8576b"
            ],
            [
             0.6666666666666666,
             "#ed7953"
            ],
            [
             0.7777777777777778,
             "#fb9f3a"
            ],
            [
             0.8888888888888888,
             "#fdca26"
            ],
            [
             1,
             "#f0f921"
            ]
           ],
           "sequentialminus": [
            [
             0,
             "#0d0887"
            ],
            [
             0.1111111111111111,
             "#46039f"
            ],
            [
             0.2222222222222222,
             "#7201a8"
            ],
            [
             0.3333333333333333,
             "#9c179e"
            ],
            [
             0.4444444444444444,
             "#bd3786"
            ],
            [
             0.5555555555555556,
             "#d8576b"
            ],
            [
             0.6666666666666666,
             "#ed7953"
            ],
            [
             0.7777777777777778,
             "#fb9f3a"
            ],
            [
             0.8888888888888888,
             "#fdca26"
            ],
            [
             1,
             "#f0f921"
            ]
           ]
          },
          "colorway": [
           "#636efa",
           "#EF553B",
           "#00cc96",
           "#ab63fa",
           "#FFA15A",
           "#19d3f3",
           "#FF6692",
           "#B6E880",
           "#FF97FF",
           "#FECB52"
          ],
          "font": {
           "color": "#2a3f5f"
          },
          "geo": {
           "bgcolor": "white",
           "lakecolor": "white",
           "landcolor": "#E5ECF6",
           "showlakes": true,
           "showland": true,
           "subunitcolor": "white"
          },
          "hoverlabel": {
           "align": "left"
          },
          "hovermode": "closest",
          "mapbox": {
           "style": "light"
          },
          "paper_bgcolor": "white",
          "plot_bgcolor": "#E5ECF6",
          "polar": {
           "angularaxis": {
            "gridcolor": "white",
            "linecolor": "white",
            "ticks": ""
           },
           "bgcolor": "#E5ECF6",
           "radialaxis": {
            "gridcolor": "white",
            "linecolor": "white",
            "ticks": ""
           }
          },
          "scene": {
           "xaxis": {
            "backgroundcolor": "#E5ECF6",
            "gridcolor": "white",
            "gridwidth": 2,
            "linecolor": "white",
            "showbackground": true,
            "ticks": "",
            "zerolinecolor": "white"
           },
           "yaxis": {
            "backgroundcolor": "#E5ECF6",
            "gridcolor": "white",
            "gridwidth": 2,
            "linecolor": "white",
            "showbackground": true,
            "ticks": "",
            "zerolinecolor": "white"
           },
           "zaxis": {
            "backgroundcolor": "#E5ECF6",
            "gridcolor": "white",
            "gridwidth": 2,
            "linecolor": "white",
            "showbackground": true,
            "ticks": "",
            "zerolinecolor": "white"
           }
          },
          "shapedefaults": {
           "line": {
            "color": "#2a3f5f"
           }
          },
          "ternary": {
           "aaxis": {
            "gridcolor": "white",
            "linecolor": "white",
            "ticks": ""
           },
           "baxis": {
            "gridcolor": "white",
            "linecolor": "white",
            "ticks": ""
           },
           "bgcolor": "#E5ECF6",
           "caxis": {
            "gridcolor": "white",
            "linecolor": "white",
            "ticks": ""
           }
          },
          "title": {
           "x": 0.05
          },
          "xaxis": {
           "automargin": true,
           "gridcolor": "white",
           "linecolor": "white",
           "ticks": "",
           "title": {
            "standoff": 15
           },
           "zerolinecolor": "white",
           "zerolinewidth": 2
          },
          "yaxis": {
           "automargin": true,
           "gridcolor": "white",
           "linecolor": "white",
           "ticks": "",
           "title": {
            "standoff": 15
           },
           "zerolinecolor": "white",
           "zerolinewidth": 2
          }
         }
        },
        "title": {
         "text": "Joe Biden Polling in Pennsylvania"
        },
        "xaxis": {
         "anchor": "y",
         "domain": [
          0,
          1
         ],
         "title": {
          "text": "start_date"
         }
        },
        "yaxis": {
         "anchor": "x",
         "domain": [
          0,
          1
         ],
         "title": {
          "text": "pct"
         }
        }
       }
      }
     },
     "metadata": {},
     "output_type": "display_data"
    },
    {
     "data": {
      "application/vnd.plotly.v1+json": {
       "config": {
        "plotlyServerURL": "https://plot.ly"
       },
       "data": [
        {
         "hoverinfo": "text+name",
         "hovertemplate": "start_date=%{x}<br>pct=%{y}<extra></extra>",
         "legendgroup": "",
         "marker": {
          "color": "#636efa",
          "symbol": "circle"
         },
         "mode": "lines+markers",
         "name": "",
         "orientation": "v",
         "showlegend": false,
         "type": "scatter",
         "x": [
          "2024-02-06T00:00:00",
          "2024-01-17T00:00:00",
          "2024-01-17T00:00:00",
          "2024-01-16T00:00:00",
          "2024-01-16T00:00:00",
          "2024-01-15T00:00:00",
          "2024-01-04T00:00:00",
          "2024-01-04T00:00:00",
          "2023-12-28T00:00:00",
          "2023-12-14T00:00:00",
          "2023-11-20T00:00:00",
          "2023-11-20T00:00:00",
          "2023-12-03T00:00:00",
          "2023-11-27T00:00:00",
          "2023-11-27T00:00:00",
          "2023-11-27T00:00:00",
          "2023-10-30T00:00:00",
          "2023-10-30T00:00:00",
          "2023-10-30T00:00:00",
          "2023-10-30T00:00:00",
          "2023-10-22T00:00:00",
          "2023-10-22T00:00:00",
          "2023-10-22T00:00:00",
          "2023-10-22T00:00:00",
          "2023-10-22T00:00:00",
          "2023-10-22T00:00:00",
          "2023-10-11T00:00:00",
          "2023-10-05T00:00:00",
          "2023-10-07T00:00:00",
          "2023-10-07T00:00:00",
          "2023-10-01T00:00:00",
          "2023-09-28T00:00:00",
          "2023-09-19T00:00:00",
          "2023-09-25T00:00:00",
          "2023-09-14T00:00:00",
          "2023-08-09T00:00:00",
          "2023-06-14T00:00:00",
          "2023-06-22T00:00:00",
          "2023-06-17T00:00:00",
          "2023-04-11T00:00:00",
          "2023-03-27T00:00:00",
          "2023-02-19T00:00:00",
          "2022-11-02T00:00:00",
          "2022-11-02T00:00:00",
          "2022-10-28T00:00:00",
          "2022-09-23T00:00:00",
          "2022-08-31T00:00:00",
          "2022-08-22T00:00:00",
          "2022-07-22T00:00:00",
          "2022-07-19T00:00:00",
          "2022-02-15T00:00:00",
          "2021-11-11T00:00:00"
         ],
         "xaxis": "x",
         "y": [
          40,
          42,
          37,
          43,
          48,
          39.3,
          46,
          39,
          40,
          45,
          41,
          37,
          46,
          39,
          46,
          44,
          47,
          41,
          46.4,
          49.1,
          48,
          49,
          47,
          48,
          35,
          36,
          42,
          46,
          42,
          39,
          45.3,
          47,
          45,
          45,
          45,
          40,
          50,
          47,
          45,
          42,
          35,
          41,
          48,
          52,
          44.3,
          45.9,
          43,
          47.2,
          44.3,
          41,
          39.9,
          51
         ],
         "yaxis": "y"
        },
        {
         "hoverinfo": "text+name",
         "mode": "lines+markers",
         "name": "Least Squares",
         "type": "scatter",
         "x": [
          "2024-02-06T00:00:00",
          "2024-01-17T00:00:00",
          "2024-01-17T00:00:00",
          "2024-01-16T00:00:00",
          "2024-01-16T00:00:00",
          "2024-01-15T00:00:00",
          "2024-01-04T00:00:00",
          "2024-01-04T00:00:00",
          "2023-12-28T00:00:00",
          "2023-12-14T00:00:00",
          "2023-11-20T00:00:00",
          "2023-11-20T00:00:00",
          "2023-12-03T00:00:00",
          "2023-11-27T00:00:00",
          "2023-11-27T00:00:00",
          "2023-11-27T00:00:00",
          "2023-10-30T00:00:00",
          "2023-10-30T00:00:00",
          "2023-10-30T00:00:00",
          "2023-10-30T00:00:00",
          "2023-10-22T00:00:00",
          "2023-10-22T00:00:00",
          "2023-10-22T00:00:00",
          "2023-10-22T00:00:00",
          "2023-10-22T00:00:00",
          "2023-10-22T00:00:00",
          "2023-10-11T00:00:00",
          "2023-10-05T00:00:00",
          "2023-10-07T00:00:00",
          "2023-10-07T00:00:00",
          "2023-10-01T00:00:00",
          "2023-09-28T00:00:00",
          "2023-09-19T00:00:00",
          "2023-09-25T00:00:00",
          "2023-09-14T00:00:00",
          "2023-08-09T00:00:00",
          "2023-06-14T00:00:00",
          "2023-06-22T00:00:00",
          "2023-06-17T00:00:00",
          "2023-04-11T00:00:00",
          "2023-03-27T00:00:00",
          "2023-02-19T00:00:00",
          "2022-11-02T00:00:00",
          "2022-11-02T00:00:00",
          "2022-10-28T00:00:00",
          "2022-09-23T00:00:00",
          "2022-08-31T00:00:00",
          "2022-08-22T00:00:00",
          "2022-07-22T00:00:00",
          "2022-07-19T00:00:00",
          "2022-02-15T00:00:00",
          "2021-11-11T00:00:00"
         ],
         "y": [
          42.44092400658559,
          42.57320281725902,
          42.57434808834711,
          42.626457922854826,
          42.62932110057503,
          42.6344748204714,
          42.71464379663711,
          42.7157890677252,
          42.76961680886504,
          42.814282381300224,
          42.86181113145562,
          42.86524694471986,
          42.91220305933121,
          42.952287547414066,
          42.955150725134274,
          43.028448074771504,
          43.20310191570396,
          43.204247186792045,
          43.22486206637751,
          43.226007337465596,
          43.299304687102826,
          43.3004499581909,
          43.30159522927899,
          43.30274050036707,
          43.30846685580748,
          43.310184762439604,
          43.421848693527565,
          43.52950417580725,
          43.554127504201006,
          43.55527277528908,
          43.576460290418595,
          43.608527880884886,
          43.63429648036672,
          43.64231337798329,
          43.73851614938216,
          43.890264568552986,
          44.11702824399316,
          44.12848095487398,
          44.167992807412794,
          44.52417211580621,
          44.544786995391675,
          44.710278667619484,
          45.055005265132074,
          45.05615053622016,
          45.073329602541385,
          45.158079663059425,
          45.225650657256246,
          45.26458987425103,
          45.328725055183604,
          45.33330613953593,
          45.51998532689325,
          45.592137405442394
         ]
        }
       ],
       "layout": {
        "annotations": [
         {
          "showarrow": false,
          "text": "50%",
          "x": 1,
          "xanchor": "right",
          "xref": "x domain",
          "y": 50,
          "yanchor": "bottom",
          "yref": "y"
         }
        ],
        "hovermode": "x unified",
        "legend": {
         "tracegroupgap": 0
        },
        "shapes": [
         {
          "line": {
           "color": "red",
           "dash": "dot"
          },
          "type": "line",
          "x0": 0,
          "x1": 1,
          "xref": "x domain",
          "y0": 50,
          "y1": 50,
          "yref": "y"
         }
        ],
        "template": {
         "data": {
          "bar": [
           {
            "error_x": {
             "color": "#2a3f5f"
            },
            "error_y": {
             "color": "#2a3f5f"
            },
            "marker": {
             "line": {
              "color": "#E5ECF6",
              "width": 0.5
             },
             "pattern": {
              "fillmode": "overlay",
              "size": 10,
              "solidity": 0.2
             }
            },
            "type": "bar"
           }
          ],
          "barpolar": [
           {
            "marker": {
             "line": {
              "color": "#E5ECF6",
              "width": 0.5
             },
             "pattern": {
              "fillmode": "overlay",
              "size": 10,
              "solidity": 0.2
             }
            },
            "type": "barpolar"
           }
          ],
          "carpet": [
           {
            "aaxis": {
             "endlinecolor": "#2a3f5f",
             "gridcolor": "white",
             "linecolor": "white",
             "minorgridcolor": "white",
             "startlinecolor": "#2a3f5f"
            },
            "baxis": {
             "endlinecolor": "#2a3f5f",
             "gridcolor": "white",
             "linecolor": "white",
             "minorgridcolor": "white",
             "startlinecolor": "#2a3f5f"
            },
            "type": "carpet"
           }
          ],
          "choropleth": [
           {
            "colorbar": {
             "outlinewidth": 0,
             "ticks": ""
            },
            "type": "choropleth"
           }
          ],
          "contour": [
           {
            "colorbar": {
             "outlinewidth": 0,
             "ticks": ""
            },
            "colorscale": [
             [
              0,
              "#0d0887"
             ],
             [
              0.1111111111111111,
              "#46039f"
             ],
             [
              0.2222222222222222,
              "#7201a8"
             ],
             [
              0.3333333333333333,
              "#9c179e"
             ],
             [
              0.4444444444444444,
              "#bd3786"
             ],
             [
              0.5555555555555556,
              "#d8576b"
             ],
             [
              0.6666666666666666,
              "#ed7953"
             ],
             [
              0.7777777777777778,
              "#fb9f3a"
             ],
             [
              0.8888888888888888,
              "#fdca26"
             ],
             [
              1,
              "#f0f921"
             ]
            ],
            "type": "contour"
           }
          ],
          "contourcarpet": [
           {
            "colorbar": {
             "outlinewidth": 0,
             "ticks": ""
            },
            "type": "contourcarpet"
           }
          ],
          "heatmap": [
           {
            "colorbar": {
             "outlinewidth": 0,
             "ticks": ""
            },
            "colorscale": [
             [
              0,
              "#0d0887"
             ],
             [
              0.1111111111111111,
              "#46039f"
             ],
             [
              0.2222222222222222,
              "#7201a8"
             ],
             [
              0.3333333333333333,
              "#9c179e"
             ],
             [
              0.4444444444444444,
              "#bd3786"
             ],
             [
              0.5555555555555556,
              "#d8576b"
             ],
             [
              0.6666666666666666,
              "#ed7953"
             ],
             [
              0.7777777777777778,
              "#fb9f3a"
             ],
             [
              0.8888888888888888,
              "#fdca26"
             ],
             [
              1,
              "#f0f921"
             ]
            ],
            "type": "heatmap"
           }
          ],
          "heatmapgl": [
           {
            "colorbar": {
             "outlinewidth": 0,
             "ticks": ""
            },
            "colorscale": [
             [
              0,
              "#0d0887"
             ],
             [
              0.1111111111111111,
              "#46039f"
             ],
             [
              0.2222222222222222,
              "#7201a8"
             ],
             [
              0.3333333333333333,
              "#9c179e"
             ],
             [
              0.4444444444444444,
              "#bd3786"
             ],
             [
              0.5555555555555556,
              "#d8576b"
             ],
             [
              0.6666666666666666,
              "#ed7953"
             ],
             [
              0.7777777777777778,
              "#fb9f3a"
             ],
             [
              0.8888888888888888,
              "#fdca26"
             ],
             [
              1,
              "#f0f921"
             ]
            ],
            "type": "heatmapgl"
           }
          ],
          "histogram": [
           {
            "marker": {
             "pattern": {
              "fillmode": "overlay",
              "size": 10,
              "solidity": 0.2
             }
            },
            "type": "histogram"
           }
          ],
          "histogram2d": [
           {
            "colorbar": {
             "outlinewidth": 0,
             "ticks": ""
            },
            "colorscale": [
             [
              0,
              "#0d0887"
             ],
             [
              0.1111111111111111,
              "#46039f"
             ],
             [
              0.2222222222222222,
              "#7201a8"
             ],
             [
              0.3333333333333333,
              "#9c179e"
             ],
             [
              0.4444444444444444,
              "#bd3786"
             ],
             [
              0.5555555555555556,
              "#d8576b"
             ],
             [
              0.6666666666666666,
              "#ed7953"
             ],
             [
              0.7777777777777778,
              "#fb9f3a"
             ],
             [
              0.8888888888888888,
              "#fdca26"
             ],
             [
              1,
              "#f0f921"
             ]
            ],
            "type": "histogram2d"
           }
          ],
          "histogram2dcontour": [
           {
            "colorbar": {
             "outlinewidth": 0,
             "ticks": ""
            },
            "colorscale": [
             [
              0,
              "#0d0887"
             ],
             [
              0.1111111111111111,
              "#46039f"
             ],
             [
              0.2222222222222222,
              "#7201a8"
             ],
             [
              0.3333333333333333,
              "#9c179e"
             ],
             [
              0.4444444444444444,
              "#bd3786"
             ],
             [
              0.5555555555555556,
              "#d8576b"
             ],
             [
              0.6666666666666666,
              "#ed7953"
             ],
             [
              0.7777777777777778,
              "#fb9f3a"
             ],
             [
              0.8888888888888888,
              "#fdca26"
             ],
             [
              1,
              "#f0f921"
             ]
            ],
            "type": "histogram2dcontour"
           }
          ],
          "mesh3d": [
           {
            "colorbar": {
             "outlinewidth": 0,
             "ticks": ""
            },
            "type": "mesh3d"
           }
          ],
          "parcoords": [
           {
            "line": {
             "colorbar": {
              "outlinewidth": 0,
              "ticks": ""
             }
            },
            "type": "parcoords"
           }
          ],
          "pie": [
           {
            "automargin": true,
            "type": "pie"
           }
          ],
          "scatter": [
           {
            "fillpattern": {
             "fillmode": "overlay",
             "size": 10,
             "solidity": 0.2
            },
            "type": "scatter"
           }
          ],
          "scatter3d": [
           {
            "line": {
             "colorbar": {
              "outlinewidth": 0,
              "ticks": ""
             }
            },
            "marker": {
             "colorbar": {
              "outlinewidth": 0,
              "ticks": ""
             }
            },
            "type": "scatter3d"
           }
          ],
          "scattercarpet": [
           {
            "marker": {
             "colorbar": {
              "outlinewidth": 0,
              "ticks": ""
             }
            },
            "type": "scattercarpet"
           }
          ],
          "scattergeo": [
           {
            "marker": {
             "colorbar": {
              "outlinewidth": 0,
              "ticks": ""
             }
            },
            "type": "scattergeo"
           }
          ],
          "scattergl": [
           {
            "marker": {
             "colorbar": {
              "outlinewidth": 0,
              "ticks": ""
             }
            },
            "type": "scattergl"
           }
          ],
          "scattermapbox": [
           {
            "marker": {
             "colorbar": {
              "outlinewidth": 0,
              "ticks": ""
             }
            },
            "type": "scattermapbox"
           }
          ],
          "scatterpolar": [
           {
            "marker": {
             "colorbar": {
              "outlinewidth": 0,
              "ticks": ""
             }
            },
            "type": "scatterpolar"
           }
          ],
          "scatterpolargl": [
           {
            "marker": {
             "colorbar": {
              "outlinewidth": 0,
              "ticks": ""
             }
            },
            "type": "scatterpolargl"
           }
          ],
          "scatterternary": [
           {
            "marker": {
             "colorbar": {
              "outlinewidth": 0,
              "ticks": ""
             }
            },
            "type": "scatterternary"
           }
          ],
          "surface": [
           {
            "colorbar": {
             "outlinewidth": 0,
             "ticks": ""
            },
            "colorscale": [
             [
              0,
              "#0d0887"
             ],
             [
              0.1111111111111111,
              "#46039f"
             ],
             [
              0.2222222222222222,
              "#7201a8"
             ],
             [
              0.3333333333333333,
              "#9c179e"
             ],
             [
              0.4444444444444444,
              "#bd3786"
             ],
             [
              0.5555555555555556,
              "#d8576b"
             ],
             [
              0.6666666666666666,
              "#ed7953"
             ],
             [
              0.7777777777777778,
              "#fb9f3a"
             ],
             [
              0.8888888888888888,
              "#fdca26"
             ],
             [
              1,
              "#f0f921"
             ]
            ],
            "type": "surface"
           }
          ],
          "table": [
           {
            "cells": {
             "fill": {
              "color": "#EBF0F8"
             },
             "line": {
              "color": "white"
             }
            },
            "header": {
             "fill": {
              "color": "#C8D4E3"
             },
             "line": {
              "color": "white"
             }
            },
            "type": "table"
           }
          ]
         },
         "layout": {
          "annotationdefaults": {
           "arrowcolor": "#2a3f5f",
           "arrowhead": 0,
           "arrowwidth": 1
          },
          "autotypenumbers": "strict",
          "coloraxis": {
           "colorbar": {
            "outlinewidth": 0,
            "ticks": ""
           }
          },
          "colorscale": {
           "diverging": [
            [
             0,
             "#8e0152"
            ],
            [
             0.1,
             "#c51b7d"
            ],
            [
             0.2,
             "#de77ae"
            ],
            [
             0.3,
             "#f1b6da"
            ],
            [
             0.4,
             "#fde0ef"
            ],
            [
             0.5,
             "#f7f7f7"
            ],
            [
             0.6,
             "#e6f5d0"
            ],
            [
             0.7,
             "#b8e186"
            ],
            [
             0.8,
             "#7fbc41"
            ],
            [
             0.9,
             "#4d9221"
            ],
            [
             1,
             "#276419"
            ]
           ],
           "sequential": [
            [
             0,
             "#0d0887"
            ],
            [
             0.1111111111111111,
             "#46039f"
            ],
            [
             0.2222222222222222,
             "#7201a8"
            ],
            [
             0.3333333333333333,
             "#9c179e"
            ],
            [
             0.4444444444444444,
             "#bd3786"
            ],
            [
             0.5555555555555556,
             "#d8576b"
            ],
            [
             0.6666666666666666,
             "#ed7953"
            ],
            [
             0.7777777777777778,
             "#fb9f3a"
            ],
            [
             0.8888888888888888,
             "#fdca26"
            ],
            [
             1,
             "#f0f921"
            ]
           ],
           "sequentialminus": [
            [
             0,
             "#0d0887"
            ],
            [
             0.1111111111111111,
             "#46039f"
            ],
            [
             0.2222222222222222,
             "#7201a8"
            ],
            [
             0.3333333333333333,
             "#9c179e"
            ],
            [
             0.4444444444444444,
             "#bd3786"
            ],
            [
             0.5555555555555556,
             "#d8576b"
            ],
            [
             0.6666666666666666,
             "#ed7953"
            ],
            [
             0.7777777777777778,
             "#fb9f3a"
            ],
            [
             0.8888888888888888,
             "#fdca26"
            ],
            [
             1,
             "#f0f921"
            ]
           ]
          },
          "colorway": [
           "#636efa",
           "#EF553B",
           "#00cc96",
           "#ab63fa",
           "#FFA15A",
           "#19d3f3",
           "#FF6692",
           "#B6E880",
           "#FF97FF",
           "#FECB52"
          ],
          "font": {
           "color": "#2a3f5f"
          },
          "geo": {
           "bgcolor": "white",
           "lakecolor": "white",
           "landcolor": "#E5ECF6",
           "showlakes": true,
           "showland": true,
           "subunitcolor": "white"
          },
          "hoverlabel": {
           "align": "left"
          },
          "hovermode": "closest",
          "mapbox": {
           "style": "light"
          },
          "paper_bgcolor": "white",
          "plot_bgcolor": "#E5ECF6",
          "polar": {
           "angularaxis": {
            "gridcolor": "white",
            "linecolor": "white",
            "ticks": ""
           },
           "bgcolor": "#E5ECF6",
           "radialaxis": {
            "gridcolor": "white",
            "linecolor": "white",
            "ticks": ""
           }
          },
          "scene": {
           "xaxis": {
            "backgroundcolor": "#E5ECF6",
            "gridcolor": "white",
            "gridwidth": 2,
            "linecolor": "white",
            "showbackground": true,
            "ticks": "",
            "zerolinecolor": "white"
           },
           "yaxis": {
            "backgroundcolor": "#E5ECF6",
            "gridcolor": "white",
            "gridwidth": 2,
            "linecolor": "white",
            "showbackground": true,
            "ticks": "",
            "zerolinecolor": "white"
           },
           "zaxis": {
            "backgroundcolor": "#E5ECF6",
            "gridcolor": "white",
            "gridwidth": 2,
            "linecolor": "white",
            "showbackground": true,
            "ticks": "",
            "zerolinecolor": "white"
           }
          },
          "shapedefaults": {
           "line": {
            "color": "#2a3f5f"
           }
          },
          "ternary": {
           "aaxis": {
            "gridcolor": "white",
            "linecolor": "white",
            "ticks": ""
           },
           "baxis": {
            "gridcolor": "white",
            "linecolor": "white",
            "ticks": ""
           },
           "bgcolor": "#E5ECF6",
           "caxis": {
            "gridcolor": "white",
            "linecolor": "white",
            "ticks": ""
           }
          },
          "title": {
           "x": 0.05
          },
          "xaxis": {
           "automargin": true,
           "gridcolor": "white",
           "linecolor": "white",
           "ticks": "",
           "title": {
            "standoff": 15
           },
           "zerolinecolor": "white",
           "zerolinewidth": 2
          },
          "yaxis": {
           "automargin": true,
           "gridcolor": "white",
           "linecolor": "white",
           "ticks": "",
           "title": {
            "standoff": 15
           },
           "zerolinecolor": "white",
           "zerolinewidth": 2
          }
         }
        },
        "title": {
         "text": "Donald Trump Polling in Pennsylvania"
        },
        "xaxis": {
         "anchor": "y",
         "domain": [
          0,
          1
         ],
         "title": {
          "text": "start_date"
         }
        },
        "yaxis": {
         "anchor": "x",
         "domain": [
          0,
          1
         ],
         "title": {
          "text": "pct"
         }
        }
       }
      }
     },
     "metadata": {},
     "output_type": "display_data"
    },
    {
     "data": {
      "application/vnd.plotly.v1+json": {
       "config": {
        "plotlyServerURL": "https://plot.ly"
       },
       "data": [
        {
         "hoverinfo": "text+name",
         "hovertemplate": "start_date=%{x}<br>pct=%{y}<extra></extra>",
         "legendgroup": "",
         "marker": {
          "color": "#636efa",
          "symbol": "circle"
         },
         "mode": "lines+markers",
         "name": "",
         "orientation": "v",
         "showlegend": false,
         "type": "scatter",
         "x": [
          "2024-01-17T00:00:00",
          "2024-01-16T00:00:00",
          "2024-01-04T00:00:00",
          "2023-12-28T00:00:00",
          "2023-11-27T00:00:00",
          "2023-11-27T00:00:00",
          "2023-11-27T00:00:00",
          "2023-11-27T00:00:00",
          "2023-10-30T00:00:00",
          "2023-10-22T00:00:00",
          "2023-10-22T00:00:00",
          "2023-10-07T00:00:00",
          "2023-05-02T00:00:00"
         ],
         "xaxis": "x",
         "y": [
          8,
          7,
          11,
          6,
          9,
          7,
          13,
          18,
          8,
          23,
          21,
          9,
          42
         ],
         "yaxis": "y"
        },
        {
         "hoverinfo": "text+name",
         "mode": "lines+markers",
         "name": "Least Squares",
         "type": "scatter",
         "x": [
          "2024-01-17T00:00:00",
          "2024-01-16T00:00:00",
          "2024-01-04T00:00:00",
          "2023-12-28T00:00:00",
          "2023-11-27T00:00:00",
          "2023-11-27T00:00:00",
          "2023-11-27T00:00:00",
          "2023-11-27T00:00:00",
          "2023-10-30T00:00:00",
          "2023-10-22T00:00:00",
          "2023-10-22T00:00:00",
          "2023-10-07T00:00:00",
          "2023-05-02T00:00:00"
         ],
         "y": [
          4.638996038914753,
          5.539839420185707,
          7.084142359507343,
          8.01468387422679,
          11.172585397583212,
          12.48920264713307,
          12.518900780581564,
          12.548598914030055,
          15.52831163669552,
          17.32999839923743,
          17.359696532685923,
          21.59663023800426,
          36.17841376121432
         ]
        }
       ],
       "layout": {
        "annotations": [
         {
          "showarrow": false,
          "text": "50%",
          "x": 1,
          "xanchor": "right",
          "xref": "x domain",
          "y": 50,
          "yanchor": "bottom",
          "yref": "y"
         }
        ],
        "hovermode": "x unified",
        "legend": {
         "tracegroupgap": 0
        },
        "shapes": [
         {
          "line": {
           "color": "red",
           "dash": "dot"
          },
          "type": "line",
          "x0": 0,
          "x1": 1,
          "xref": "x domain",
          "y0": 50,
          "y1": 50,
          "yref": "y"
         }
        ],
        "template": {
         "data": {
          "bar": [
           {
            "error_x": {
             "color": "#2a3f5f"
            },
            "error_y": {
             "color": "#2a3f5f"
            },
            "marker": {
             "line": {
              "color": "#E5ECF6",
              "width": 0.5
             },
             "pattern": {
              "fillmode": "overlay",
              "size": 10,
              "solidity": 0.2
             }
            },
            "type": "bar"
           }
          ],
          "barpolar": [
           {
            "marker": {
             "line": {
              "color": "#E5ECF6",
              "width": 0.5
             },
             "pattern": {
              "fillmode": "overlay",
              "size": 10,
              "solidity": 0.2
             }
            },
            "type": "barpolar"
           }
          ],
          "carpet": [
           {
            "aaxis": {
             "endlinecolor": "#2a3f5f",
             "gridcolor": "white",
             "linecolor": "white",
             "minorgridcolor": "white",
             "startlinecolor": "#2a3f5f"
            },
            "baxis": {
             "endlinecolor": "#2a3f5f",
             "gridcolor": "white",
             "linecolor": "white",
             "minorgridcolor": "white",
             "startlinecolor": "#2a3f5f"
            },
            "type": "carpet"
           }
          ],
          "choropleth": [
           {
            "colorbar": {
             "outlinewidth": 0,
             "ticks": ""
            },
            "type": "choropleth"
           }
          ],
          "contour": [
           {
            "colorbar": {
             "outlinewidth": 0,
             "ticks": ""
            },
            "colorscale": [
             [
              0,
              "#0d0887"
             ],
             [
              0.1111111111111111,
              "#46039f"
             ],
             [
              0.2222222222222222,
              "#7201a8"
             ],
             [
              0.3333333333333333,
              "#9c179e"
             ],
             [
              0.4444444444444444,
              "#bd3786"
             ],
             [
              0.5555555555555556,
              "#d8576b"
             ],
             [
              0.6666666666666666,
              "#ed7953"
             ],
             [
              0.7777777777777778,
              "#fb9f3a"
             ],
             [
              0.8888888888888888,
              "#fdca26"
             ],
             [
              1,
              "#f0f921"
             ]
            ],
            "type": "contour"
           }
          ],
          "contourcarpet": [
           {
            "colorbar": {
             "outlinewidth": 0,
             "ticks": ""
            },
            "type": "contourcarpet"
           }
          ],
          "heatmap": [
           {
            "colorbar": {
             "outlinewidth": 0,
             "ticks": ""
            },
            "colorscale": [
             [
              0,
              "#0d0887"
             ],
             [
              0.1111111111111111,
              "#46039f"
             ],
             [
              0.2222222222222222,
              "#7201a8"
             ],
             [
              0.3333333333333333,
              "#9c179e"
             ],
             [
              0.4444444444444444,
              "#bd3786"
             ],
             [
              0.5555555555555556,
              "#d8576b"
             ],
             [
              0.6666666666666666,
              "#ed7953"
             ],
             [
              0.7777777777777778,
              "#fb9f3a"
             ],
             [
              0.8888888888888888,
              "#fdca26"
             ],
             [
              1,
              "#f0f921"
             ]
            ],
            "type": "heatmap"
           }
          ],
          "heatmapgl": [
           {
            "colorbar": {
             "outlinewidth": 0,
             "ticks": ""
            },
            "colorscale": [
             [
              0,
              "#0d0887"
             ],
             [
              0.1111111111111111,
              "#46039f"
             ],
             [
              0.2222222222222222,
              "#7201a8"
             ],
             [
              0.3333333333333333,
              "#9c179e"
             ],
             [
              0.4444444444444444,
              "#bd3786"
             ],
             [
              0.5555555555555556,
              "#d8576b"
             ],
             [
              0.6666666666666666,
              "#ed7953"
             ],
             [
              0.7777777777777778,
              "#fb9f3a"
             ],
             [
              0.8888888888888888,
              "#fdca26"
             ],
             [
              1,
              "#f0f921"
             ]
            ],
            "type": "heatmapgl"
           }
          ],
          "histogram": [
           {
            "marker": {
             "pattern": {
              "fillmode": "overlay",
              "size": 10,
              "solidity": 0.2
             }
            },
            "type": "histogram"
           }
          ],
          "histogram2d": [
           {
            "colorbar": {
             "outlinewidth": 0,
             "ticks": ""
            },
            "colorscale": [
             [
              0,
              "#0d0887"
             ],
             [
              0.1111111111111111,
              "#46039f"
             ],
             [
              0.2222222222222222,
              "#7201a8"
             ],
             [
              0.3333333333333333,
              "#9c179e"
             ],
             [
              0.4444444444444444,
              "#bd3786"
             ],
             [
              0.5555555555555556,
              "#d8576b"
             ],
             [
              0.6666666666666666,
              "#ed7953"
             ],
             [
              0.7777777777777778,
              "#fb9f3a"
             ],
             [
              0.8888888888888888,
              "#fdca26"
             ],
             [
              1,
              "#f0f921"
             ]
            ],
            "type": "histogram2d"
           }
          ],
          "histogram2dcontour": [
           {
            "colorbar": {
             "outlinewidth": 0,
             "ticks": ""
            },
            "colorscale": [
             [
              0,
              "#0d0887"
             ],
             [
              0.1111111111111111,
              "#46039f"
             ],
             [
              0.2222222222222222,
              "#7201a8"
             ],
             [
              0.3333333333333333,
              "#9c179e"
             ],
             [
              0.4444444444444444,
              "#bd3786"
             ],
             [
              0.5555555555555556,
              "#d8576b"
             ],
             [
              0.6666666666666666,
              "#ed7953"
             ],
             [
              0.7777777777777778,
              "#fb9f3a"
             ],
             [
              0.8888888888888888,
              "#fdca26"
             ],
             [
              1,
              "#f0f921"
             ]
            ],
            "type": "histogram2dcontour"
           }
          ],
          "mesh3d": [
           {
            "colorbar": {
             "outlinewidth": 0,
             "ticks": ""
            },
            "type": "mesh3d"
           }
          ],
          "parcoords": [
           {
            "line": {
             "colorbar": {
              "outlinewidth": 0,
              "ticks": ""
             }
            },
            "type": "parcoords"
           }
          ],
          "pie": [
           {
            "automargin": true,
            "type": "pie"
           }
          ],
          "scatter": [
           {
            "fillpattern": {
             "fillmode": "overlay",
             "size": 10,
             "solidity": 0.2
            },
            "type": "scatter"
           }
          ],
          "scatter3d": [
           {
            "line": {
             "colorbar": {
              "outlinewidth": 0,
              "ticks": ""
             }
            },
            "marker": {
             "colorbar": {
              "outlinewidth": 0,
              "ticks": ""
             }
            },
            "type": "scatter3d"
           }
          ],
          "scattercarpet": [
           {
            "marker": {
             "colorbar": {
              "outlinewidth": 0,
              "ticks": ""
             }
            },
            "type": "scattercarpet"
           }
          ],
          "scattergeo": [
           {
            "marker": {
             "colorbar": {
              "outlinewidth": 0,
              "ticks": ""
             }
            },
            "type": "scattergeo"
           }
          ],
          "scattergl": [
           {
            "marker": {
             "colorbar": {
              "outlinewidth": 0,
              "ticks": ""
             }
            },
            "type": "scattergl"
           }
          ],
          "scattermapbox": [
           {
            "marker": {
             "colorbar": {
              "outlinewidth": 0,
              "ticks": ""
             }
            },
            "type": "scattermapbox"
           }
          ],
          "scatterpolar": [
           {
            "marker": {
             "colorbar": {
              "outlinewidth": 0,
              "ticks": ""
             }
            },
            "type": "scatterpolar"
           }
          ],
          "scatterpolargl": [
           {
            "marker": {
             "colorbar": {
              "outlinewidth": 0,
              "ticks": ""
             }
            },
            "type": "scatterpolargl"
           }
          ],
          "scatterternary": [
           {
            "marker": {
             "colorbar": {
              "outlinewidth": 0,
              "ticks": ""
             }
            },
            "type": "scatterternary"
           }
          ],
          "surface": [
           {
            "colorbar": {
             "outlinewidth": 0,
             "ticks": ""
            },
            "colorscale": [
             [
              0,
              "#0d0887"
             ],
             [
              0.1111111111111111,
              "#46039f"
             ],
             [
              0.2222222222222222,
              "#7201a8"
             ],
             [
              0.3333333333333333,
              "#9c179e"
             ],
             [
              0.4444444444444444,
              "#bd3786"
             ],
             [
              0.5555555555555556,
              "#d8576b"
             ],
             [
              0.6666666666666666,
              "#ed7953"
             ],
             [
              0.7777777777777778,
              "#fb9f3a"
             ],
             [
              0.8888888888888888,
              "#fdca26"
             ],
             [
              1,
              "#f0f921"
             ]
            ],
            "type": "surface"
           }
          ],
          "table": [
           {
            "cells": {
             "fill": {
              "color": "#EBF0F8"
             },
             "line": {
              "color": "white"
             }
            },
            "header": {
             "fill": {
              "color": "#C8D4E3"
             },
             "line": {
              "color": "white"
             }
            },
            "type": "table"
           }
          ]
         },
         "layout": {
          "annotationdefaults": {
           "arrowcolor": "#2a3f5f",
           "arrowhead": 0,
           "arrowwidth": 1
          },
          "autotypenumbers": "strict",
          "coloraxis": {
           "colorbar": {
            "outlinewidth": 0,
            "ticks": ""
           }
          },
          "colorscale": {
           "diverging": [
            [
             0,
             "#8e0152"
            ],
            [
             0.1,
             "#c51b7d"
            ],
            [
             0.2,
             "#de77ae"
            ],
            [
             0.3,
             "#f1b6da"
            ],
            [
             0.4,
             "#fde0ef"
            ],
            [
             0.5,
             "#f7f7f7"
            ],
            [
             0.6,
             "#e6f5d0"
            ],
            [
             0.7,
             "#b8e186"
            ],
            [
             0.8,
             "#7fbc41"
            ],
            [
             0.9,
             "#4d9221"
            ],
            [
             1,
             "#276419"
            ]
           ],
           "sequential": [
            [
             0,
             "#0d0887"
            ],
            [
             0.1111111111111111,
             "#46039f"
            ],
            [
             0.2222222222222222,
             "#7201a8"
            ],
            [
             0.3333333333333333,
             "#9c179e"
            ],
            [
             0.4444444444444444,
             "#bd3786"
            ],
            [
             0.5555555555555556,
             "#d8576b"
            ],
            [
             0.6666666666666666,
             "#ed7953"
            ],
            [
             0.7777777777777778,
             "#fb9f3a"
            ],
            [
             0.8888888888888888,
             "#fdca26"
            ],
            [
             1,
             "#f0f921"
            ]
           ],
           "sequentialminus": [
            [
             0,
             "#0d0887"
            ],
            [
             0.1111111111111111,
             "#46039f"
            ],
            [
             0.2222222222222222,
             "#7201a8"
            ],
            [
             0.3333333333333333,
             "#9c179e"
            ],
            [
             0.4444444444444444,
             "#bd3786"
            ],
            [
             0.5555555555555556,
             "#d8576b"
            ],
            [
             0.6666666666666666,
             "#ed7953"
            ],
            [
             0.7777777777777778,
             "#fb9f3a"
            ],
            [
             0.8888888888888888,
             "#fdca26"
            ],
            [
             1,
             "#f0f921"
            ]
           ]
          },
          "colorway": [
           "#636efa",
           "#EF553B",
           "#00cc96",
           "#ab63fa",
           "#FFA15A",
           "#19d3f3",
           "#FF6692",
           "#B6E880",
           "#FF97FF",
           "#FECB52"
          ],
          "font": {
           "color": "#2a3f5f"
          },
          "geo": {
           "bgcolor": "white",
           "lakecolor": "white",
           "landcolor": "#E5ECF6",
           "showlakes": true,
           "showland": true,
           "subunitcolor": "white"
          },
          "hoverlabel": {
           "align": "left"
          },
          "hovermode": "closest",
          "mapbox": {
           "style": "light"
          },
          "paper_bgcolor": "white",
          "plot_bgcolor": "#E5ECF6",
          "polar": {
           "angularaxis": {
            "gridcolor": "white",
            "linecolor": "white",
            "ticks": ""
           },
           "bgcolor": "#E5ECF6",
           "radialaxis": {
            "gridcolor": "white",
            "linecolor": "white",
            "ticks": ""
           }
          },
          "scene": {
           "xaxis": {
            "backgroundcolor": "#E5ECF6",
            "gridcolor": "white",
            "gridwidth": 2,
            "linecolor": "white",
            "showbackground": true,
            "ticks": "",
            "zerolinecolor": "white"
           },
           "yaxis": {
            "backgroundcolor": "#E5ECF6",
            "gridcolor": "white",
            "gridwidth": 2,
            "linecolor": "white",
            "showbackground": true,
            "ticks": "",
            "zerolinecolor": "white"
           },
           "zaxis": {
            "backgroundcolor": "#E5ECF6",
            "gridcolor": "white",
            "gridwidth": 2,
            "linecolor": "white",
            "showbackground": true,
            "ticks": "",
            "zerolinecolor": "white"
           }
          },
          "shapedefaults": {
           "line": {
            "color": "#2a3f5f"
           }
          },
          "ternary": {
           "aaxis": {
            "gridcolor": "white",
            "linecolor": "white",
            "ticks": ""
           },
           "baxis": {
            "gridcolor": "white",
            "linecolor": "white",
            "ticks": ""
           },
           "bgcolor": "#E5ECF6",
           "caxis": {
            "gridcolor": "white",
            "linecolor": "white",
            "ticks": ""
           }
          },
          "title": {
           "x": 0.05
          },
          "xaxis": {
           "automargin": true,
           "gridcolor": "white",
           "linecolor": "white",
           "ticks": "",
           "title": {
            "standoff": 15
           },
           "zerolinecolor": "white",
           "zerolinewidth": 2
          },
          "yaxis": {
           "automargin": true,
           "gridcolor": "white",
           "linecolor": "white",
           "ticks": "",
           "title": {
            "standoff": 15
           },
           "zerolinecolor": "white",
           "zerolinewidth": 2
          }
         }
        },
        "title": {
         "text": "Robert F. Kennedy Polling in Pennsylvania"
        },
        "xaxis": {
         "anchor": "y",
         "domain": [
          0,
          1
         ],
         "title": {
          "text": "start_date"
         }
        },
        "yaxis": {
         "anchor": "x",
         "domain": [
          0,
          1
         ],
         "title": {
          "text": "pct"
         }
        }
       }
      }
     },
     "metadata": {},
     "output_type": "display_data"
    }
   ],
   "source": [
    "def time_series(df, name, state, x='start_date', y='pct'):\n",
    "    df = df.copy()\n",
    "    df[x] = pd.to_datetime(df[x],format='%m/%d/%y').to_numpy()\n",
    "    fig = px.scatter(df, x=x, y=y, title=f'{name} Polling in {state}')\n",
    "    #Add least squares line\n",
    "    m, b = np.polyfit(df.index, df[y], 1)\n",
    "    fig.add_scatter(x=df[x], y=m*df.index+b, mode='lines', name='Least Squares')\n",
    "    #Add traceline \n",
    "    fig.update_traces(hoverinfo='text+name', mode='lines+markers',)\n",
    "    fig.update_layout(hovermode=\"x unified\")\n",
    "    #Add horizontal line at 50%\n",
    "    fig.add_hline(y=50, line_dash=\"dot\", line_color=\"red\", annotation_text=\"50%\")\n",
    "    return fig.show()\n",
    "#Make time series plot for Biden in PA\n",
    "time_series(biden_pa, 'Joe Biden', 'Pennsylvania')\n",
    "time_series(trump_pa, 'Donald Trump', 'Pennsylvania')\n",
    "time_series(kennedy_pa, 'Robert F. Kennedy', 'Pennsylvania')"
   ]
  },
  {
   "cell_type": "code",
   "execution_count": 14,
   "metadata": {},
   "outputs": [],
   "source": [
    "#Make a biden time series plot for all states\n",
    "# for i in range(len(states)):\n",
    "#     time_series(biden_states[i], 'Joe Biden', states[i]['state'].iloc[0])\n",
    "\n",
    "# #Make a trump time series plot for all states\n",
    "# for i in range(len(states)):\n",
    "#     time_series(trump_states[i], 'Donald Trump', states[i]['state'].iloc[0])\n",
    "\n",
    "# #Make a kennedy time series plot for all states\n",
    "# for i in range(len(states)):\n",
    "#     time_series(kennedy_states[i], 'Robert F. Kennedy', states[i]['state'].iloc[0])"
   ]
  },
  {
   "cell_type": "code",
   "execution_count": 15,
   "metadata": {},
   "outputs": [
    {
     "data": {
      "application/vnd.plotly.v1+json": {
       "config": {
        "plotlyServerURL": "https://plot.ly"
       },
       "data": [
        {
         "hoverinfo": "text+name",
         "hovertemplate": "start_date=%{x}<br>pct=%{y}<extra></extra>",
         "legendgroup": "",
         "marker": {
          "color": "#636efa",
          "symbol": "circle"
         },
         "mode": "lines+markers",
         "name": "",
         "orientation": "v",
         "showlegend": false,
         "type": "scatter",
         "x": [
          "2024-01-16T00:00:00",
          "2024-01-16T00:00:00",
          "2024-01-04T00:00:00",
          "2024-01-02T00:00:00",
          "2024-01-02T00:00:00",
          "2024-01-02T00:00:00",
          "2024-01-02T00:00:00",
          "2023-12-28T00:00:00",
          "2023-11-29T00:00:00",
          "2023-11-29T00:00:00",
          "2023-11-29T00:00:00",
          "2023-11-29T00:00:00",
          "2023-11-27T00:00:00",
          "2023-11-27T00:00:00",
          "2023-11-27T00:00:00",
          "2023-11-27T00:00:00",
          "2023-11-27T00:00:00",
          "2023-11-10T00:00:00",
          "2023-11-10T00:00:00",
          "2023-10-30T00:00:00",
          "2023-10-30T00:00:00",
          "2023-10-30T00:00:00",
          "2023-10-30T00:00:00",
          "2023-10-22T00:00:00",
          "2023-10-22T00:00:00",
          "2023-10-22T00:00:00",
          "2023-10-22T00:00:00",
          "2023-10-22T00:00:00",
          "2023-10-22T00:00:00",
          "2023-10-22T00:00:00",
          "2023-10-22T00:00:00",
          "2023-10-05T00:00:00",
          "2023-10-07T00:00:00",
          "2023-10-07T00:00:00",
          "2023-10-02T00:00:00",
          "2023-10-01T00:00:00",
          "2023-09-26T00:00:00",
          "2023-09-07T00:00:00",
          "2023-09-07T00:00:00",
          "2023-08-06T00:00:00",
          "2023-08-01T00:00:00",
          "2023-08-01T00:00:00",
          "2023-07-11T00:00:00",
          "2023-07-11T00:00:00",
          "2023-07-08T00:00:00",
          "2023-07-08T00:00:00",
          "2023-06-14T00:00:00",
          "2023-06-08T00:00:00",
          "2023-06-08T00:00:00",
          "2023-04-17T00:00:00",
          "2023-04-17T00:00:00",
          "2022-12-06T00:00:00",
          "2022-11-30T00:00:00",
          "2022-10-28T00:00:00",
          "2022-10-12T00:00:00",
          "2022-09-15T00:00:00",
          "2022-08-15T00:00:00",
          "2022-02-01T00:00:00",
          "2021-11-11T00:00:00"
         ],
         "xaxis": "x",
         "y": [
          37,
          42,
          45,
          39,
          29,
          34,
          44,
          37,
          40,
          38,
          42,
          31,
          35,
          42,
          38,
          39,
          37,
          41,
          36,
          43,
          38,
          42.6,
          44.4,
          43,
          46,
          42,
          44,
          35,
          36,
          31,
          34,
          44,
          41,
          38,
          35.1,
          44.1,
          48,
          46,
          48,
          46,
          44.1,
          41.2,
          45,
          44,
          44,
          45,
          50,
          44,
          44,
          43,
          45,
          50,
          47,
          44.4,
          43.7,
          48,
          41.2,
          38.2,
          41
         ],
         "yaxis": "y"
        },
        {
         "hoverinfo": "text+name",
         "mode": "lines+markers",
         "name": "Least Squares",
         "type": "scatter",
         "x": [
          "2024-01-16T00:00:00",
          "2024-01-16T00:00:00",
          "2024-01-04T00:00:00",
          "2024-01-02T00:00:00",
          "2024-01-02T00:00:00",
          "2024-01-02T00:00:00",
          "2024-01-02T00:00:00",
          "2023-12-28T00:00:00",
          "2023-11-29T00:00:00",
          "2023-11-29T00:00:00",
          "2023-11-29T00:00:00",
          "2023-11-29T00:00:00",
          "2023-11-27T00:00:00",
          "2023-11-27T00:00:00",
          "2023-11-27T00:00:00",
          "2023-11-27T00:00:00",
          "2023-11-27T00:00:00",
          "2023-11-10T00:00:00",
          "2023-11-10T00:00:00",
          "2023-10-30T00:00:00",
          "2023-10-30T00:00:00",
          "2023-10-30T00:00:00",
          "2023-10-30T00:00:00",
          "2023-10-22T00:00:00",
          "2023-10-22T00:00:00",
          "2023-10-22T00:00:00",
          "2023-10-22T00:00:00",
          "2023-10-22T00:00:00",
          "2023-10-22T00:00:00",
          "2023-10-22T00:00:00",
          "2023-10-22T00:00:00",
          "2023-10-05T00:00:00",
          "2023-10-07T00:00:00",
          "2023-10-07T00:00:00",
          "2023-10-02T00:00:00",
          "2023-10-01T00:00:00",
          "2023-09-26T00:00:00",
          "2023-09-07T00:00:00",
          "2023-09-07T00:00:00",
          "2023-08-06T00:00:00",
          "2023-08-01T00:00:00",
          "2023-08-01T00:00:00",
          "2023-07-11T00:00:00",
          "2023-07-11T00:00:00",
          "2023-07-08T00:00:00",
          "2023-07-08T00:00:00",
          "2023-06-14T00:00:00",
          "2023-06-08T00:00:00",
          "2023-06-08T00:00:00",
          "2023-04-17T00:00:00",
          "2023-04-17T00:00:00",
          "2022-12-06T00:00:00",
          "2022-11-30T00:00:00",
          "2022-10-28T00:00:00",
          "2022-10-12T00:00:00",
          "2022-09-15T00:00:00",
          "2022-08-15T00:00:00",
          "2022-02-01T00:00:00",
          "2021-11-11T00:00:00"
         ],
         "y": [
          38.540918538084256,
          38.54880917555735,
          38.768168897309415,
          38.85970029199733,
          38.86285654698657,
          38.87705969443814,
          38.894419096878956,
          38.959122324158336,
          39.400998022651706,
          39.40415427764094,
          39.407310532630184,
          39.41046678761942,
          39.43887308252256,
          39.44676371999566,
          39.65349842179077,
          39.65823280427463,
          39.662967186758486,
          39.86496750606974,
          39.86812376105898,
          40.13482730764962,
          40.13798356263886,
          40.216889937369814,
          40.22004619235906,
          40.35892141188554,
          40.36207766687478,
          40.371546431842496,
          40.37470268683173,
          40.377858941820975,
          40.38101519681021,
          40.384171451799446,
          40.38890583428331,
          41.053297509517975,
          41.06907878446417,
          41.0722350394534,
          41.14798515919513,
          41.2363602988938,
          41.36734488094719,
          41.73662671468808,
          41.739782969677314,
          42.15956488324601,
          42.24951815043931,
          42.25267440542854,
          42.49097165711604,
          42.49412791210528,
          42.54778424692233,
          42.55094050191157,
          42.67245631899725,
          42.89181604074931,
          42.89497229573855,
          43.73137986788671,
          43.734536122875944,
          45.02386628597981,
          45.036491305936764,
          45.320554254968215,
          45.44049194455927,
          45.59199218404271,
          45.942336487848166,
          46.570431230706596,
          46.74402525511471
         ]
        }
       ],
       "layout": {
        "annotations": [
         {
          "showarrow": false,
          "text": "50%",
          "x": 1,
          "xanchor": "right",
          "xref": "x domain",
          "y": 50,
          "yanchor": "bottom",
          "yref": "y"
         }
        ],
        "hovermode": "x unified",
        "legend": {
         "tracegroupgap": 0
        },
        "shapes": [
         {
          "line": {
           "color": "red",
           "dash": "dot"
          },
          "type": "line",
          "x0": 0,
          "x1": 1,
          "xref": "x domain",
          "y0": 50,
          "y1": 50,
          "yref": "y"
         }
        ],
        "template": {
         "data": {
          "bar": [
           {
            "error_x": {
             "color": "#2a3f5f"
            },
            "error_y": {
             "color": "#2a3f5f"
            },
            "marker": {
             "line": {
              "color": "#E5ECF6",
              "width": 0.5
             },
             "pattern": {
              "fillmode": "overlay",
              "size": 10,
              "solidity": 0.2
             }
            },
            "type": "bar"
           }
          ],
          "barpolar": [
           {
            "marker": {
             "line": {
              "color": "#E5ECF6",
              "width": 0.5
             },
             "pattern": {
              "fillmode": "overlay",
              "size": 10,
              "solidity": 0.2
             }
            },
            "type": "barpolar"
           }
          ],
          "carpet": [
           {
            "aaxis": {
             "endlinecolor": "#2a3f5f",
             "gridcolor": "white",
             "linecolor": "white",
             "minorgridcolor": "white",
             "startlinecolor": "#2a3f5f"
            },
            "baxis": {
             "endlinecolor": "#2a3f5f",
             "gridcolor": "white",
             "linecolor": "white",
             "minorgridcolor": "white",
             "startlinecolor": "#2a3f5f"
            },
            "type": "carpet"
           }
          ],
          "choropleth": [
           {
            "colorbar": {
             "outlinewidth": 0,
             "ticks": ""
            },
            "type": "choropleth"
           }
          ],
          "contour": [
           {
            "colorbar": {
             "outlinewidth": 0,
             "ticks": ""
            },
            "colorscale": [
             [
              0,
              "#0d0887"
             ],
             [
              0.1111111111111111,
              "#46039f"
             ],
             [
              0.2222222222222222,
              "#7201a8"
             ],
             [
              0.3333333333333333,
              "#9c179e"
             ],
             [
              0.4444444444444444,
              "#bd3786"
             ],
             [
              0.5555555555555556,
              "#d8576b"
             ],
             [
              0.6666666666666666,
              "#ed7953"
             ],
             [
              0.7777777777777778,
              "#fb9f3a"
             ],
             [
              0.8888888888888888,
              "#fdca26"
             ],
             [
              1,
              "#f0f921"
             ]
            ],
            "type": "contour"
           }
          ],
          "contourcarpet": [
           {
            "colorbar": {
             "outlinewidth": 0,
             "ticks": ""
            },
            "type": "contourcarpet"
           }
          ],
          "heatmap": [
           {
            "colorbar": {
             "outlinewidth": 0,
             "ticks": ""
            },
            "colorscale": [
             [
              0,
              "#0d0887"
             ],
             [
              0.1111111111111111,
              "#46039f"
             ],
             [
              0.2222222222222222,
              "#7201a8"
             ],
             [
              0.3333333333333333,
              "#9c179e"
             ],
             [
              0.4444444444444444,
              "#bd3786"
             ],
             [
              0.5555555555555556,
              "#d8576b"
             ],
             [
              0.6666666666666666,
              "#ed7953"
             ],
             [
              0.7777777777777778,
              "#fb9f3a"
             ],
             [
              0.8888888888888888,
              "#fdca26"
             ],
             [
              1,
              "#f0f921"
             ]
            ],
            "type": "heatmap"
           }
          ],
          "heatmapgl": [
           {
            "colorbar": {
             "outlinewidth": 0,
             "ticks": ""
            },
            "colorscale": [
             [
              0,
              "#0d0887"
             ],
             [
              0.1111111111111111,
              "#46039f"
             ],
             [
              0.2222222222222222,
              "#7201a8"
             ],
             [
              0.3333333333333333,
              "#9c179e"
             ],
             [
              0.4444444444444444,
              "#bd3786"
             ],
             [
              0.5555555555555556,
              "#d8576b"
             ],
             [
              0.6666666666666666,
              "#ed7953"
             ],
             [
              0.7777777777777778,
              "#fb9f3a"
             ],
             [
              0.8888888888888888,
              "#fdca26"
             ],
             [
              1,
              "#f0f921"
             ]
            ],
            "type": "heatmapgl"
           }
          ],
          "histogram": [
           {
            "marker": {
             "pattern": {
              "fillmode": "overlay",
              "size": 10,
              "solidity": 0.2
             }
            },
            "type": "histogram"
           }
          ],
          "histogram2d": [
           {
            "colorbar": {
             "outlinewidth": 0,
             "ticks": ""
            },
            "colorscale": [
             [
              0,
              "#0d0887"
             ],
             [
              0.1111111111111111,
              "#46039f"
             ],
             [
              0.2222222222222222,
              "#7201a8"
             ],
             [
              0.3333333333333333,
              "#9c179e"
             ],
             [
              0.4444444444444444,
              "#bd3786"
             ],
             [
              0.5555555555555556,
              "#d8576b"
             ],
             [
              0.6666666666666666,
              "#ed7953"
             ],
             [
              0.7777777777777778,
              "#fb9f3a"
             ],
             [
              0.8888888888888888,
              "#fdca26"
             ],
             [
              1,
              "#f0f921"
             ]
            ],
            "type": "histogram2d"
           }
          ],
          "histogram2dcontour": [
           {
            "colorbar": {
             "outlinewidth": 0,
             "ticks": ""
            },
            "colorscale": [
             [
              0,
              "#0d0887"
             ],
             [
              0.1111111111111111,
              "#46039f"
             ],
             [
              0.2222222222222222,
              "#7201a8"
             ],
             [
              0.3333333333333333,
              "#9c179e"
             ],
             [
              0.4444444444444444,
              "#bd3786"
             ],
             [
              0.5555555555555556,
              "#d8576b"
             ],
             [
              0.6666666666666666,
              "#ed7953"
             ],
             [
              0.7777777777777778,
              "#fb9f3a"
             ],
             [
              0.8888888888888888,
              "#fdca26"
             ],
             [
              1,
              "#f0f921"
             ]
            ],
            "type": "histogram2dcontour"
           }
          ],
          "mesh3d": [
           {
            "colorbar": {
             "outlinewidth": 0,
             "ticks": ""
            },
            "type": "mesh3d"
           }
          ],
          "parcoords": [
           {
            "line": {
             "colorbar": {
              "outlinewidth": 0,
              "ticks": ""
             }
            },
            "type": "parcoords"
           }
          ],
          "pie": [
           {
            "automargin": true,
            "type": "pie"
           }
          ],
          "scatter": [
           {
            "fillpattern": {
             "fillmode": "overlay",
             "size": 10,
             "solidity": 0.2
            },
            "type": "scatter"
           }
          ],
          "scatter3d": [
           {
            "line": {
             "colorbar": {
              "outlinewidth": 0,
              "ticks": ""
             }
            },
            "marker": {
             "colorbar": {
              "outlinewidth": 0,
              "ticks": ""
             }
            },
            "type": "scatter3d"
           }
          ],
          "scattercarpet": [
           {
            "marker": {
             "colorbar": {
              "outlinewidth": 0,
              "ticks": ""
             }
            },
            "type": "scattercarpet"
           }
          ],
          "scattergeo": [
           {
            "marker": {
             "colorbar": {
              "outlinewidth": 0,
              "ticks": ""
             }
            },
            "type": "scattergeo"
           }
          ],
          "scattergl": [
           {
            "marker": {
             "colorbar": {
              "outlinewidth": 0,
              "ticks": ""
             }
            },
            "type": "scattergl"
           }
          ],
          "scattermapbox": [
           {
            "marker": {
             "colorbar": {
              "outlinewidth": 0,
              "ticks": ""
             }
            },
            "type": "scattermapbox"
           }
          ],
          "scatterpolar": [
           {
            "marker": {
             "colorbar": {
              "outlinewidth": 0,
              "ticks": ""
             }
            },
            "type": "scatterpolar"
           }
          ],
          "scatterpolargl": [
           {
            "marker": {
             "colorbar": {
              "outlinewidth": 0,
              "ticks": ""
             }
            },
            "type": "scatterpolargl"
           }
          ],
          "scatterternary": [
           {
            "marker": {
             "colorbar": {
              "outlinewidth": 0,
              "ticks": ""
             }
            },
            "type": "scatterternary"
           }
          ],
          "surface": [
           {
            "colorbar": {
             "outlinewidth": 0,
             "ticks": ""
            },
            "colorscale": [
             [
              0,
              "#0d0887"
             ],
             [
              0.1111111111111111,
              "#46039f"
             ],
             [
              0.2222222222222222,
              "#7201a8"
             ],
             [
              0.3333333333333333,
              "#9c179e"
             ],
             [
              0.4444444444444444,
              "#bd3786"
             ],
             [
              0.5555555555555556,
              "#d8576b"
             ],
             [
              0.6666666666666666,
              "#ed7953"
             ],
             [
              0.7777777777777778,
              "#fb9f3a"
             ],
             [
              0.8888888888888888,
              "#fdca26"
             ],
             [
              1,
              "#f0f921"
             ]
            ],
            "type": "surface"
           }
          ],
          "table": [
           {
            "cells": {
             "fill": {
              "color": "#EBF0F8"
             },
             "line": {
              "color": "white"
             }
            },
            "header": {
             "fill": {
              "color": "#C8D4E3"
             },
             "line": {
              "color": "white"
             }
            },
            "type": "table"
           }
          ]
         },
         "layout": {
          "annotationdefaults": {
           "arrowcolor": "#2a3f5f",
           "arrowhead": 0,
           "arrowwidth": 1
          },
          "autotypenumbers": "strict",
          "coloraxis": {
           "colorbar": {
            "outlinewidth": 0,
            "ticks": ""
           }
          },
          "colorscale": {
           "diverging": [
            [
             0,
             "#8e0152"
            ],
            [
             0.1,
             "#c51b7d"
            ],
            [
             0.2,
             "#de77ae"
            ],
            [
             0.3,
             "#f1b6da"
            ],
            [
             0.4,
             "#fde0ef"
            ],
            [
             0.5,
             "#f7f7f7"
            ],
            [
             0.6,
             "#e6f5d0"
            ],
            [
             0.7,
             "#b8e186"
            ],
            [
             0.8,
             "#7fbc41"
            ],
            [
             0.9,
             "#4d9221"
            ],
            [
             1,
             "#276419"
            ]
           ],
           "sequential": [
            [
             0,
             "#0d0887"
            ],
            [
             0.1111111111111111,
             "#46039f"
            ],
            [
             0.2222222222222222,
             "#7201a8"
            ],
            [
             0.3333333333333333,
             "#9c179e"
            ],
            [
             0.4444444444444444,
             "#bd3786"
            ],
            [
             0.5555555555555556,
             "#d8576b"
            ],
            [
             0.6666666666666666,
             "#ed7953"
            ],
            [
             0.7777777777777778,
             "#fb9f3a"
            ],
            [
             0.8888888888888888,
             "#fdca26"
            ],
            [
             1,
             "#f0f921"
            ]
           ],
           "sequentialminus": [
            [
             0,
             "#0d0887"
            ],
            [
             0.1111111111111111,
             "#46039f"
            ],
            [
             0.2222222222222222,
             "#7201a8"
            ],
            [
             0.3333333333333333,
             "#9c179e"
            ],
            [
             0.4444444444444444,
             "#bd3786"
            ],
            [
             0.5555555555555556,
             "#d8576b"
            ],
            [
             0.6666666666666666,
             "#ed7953"
            ],
            [
             0.7777777777777778,
             "#fb9f3a"
            ],
            [
             0.8888888888888888,
             "#fdca26"
            ],
            [
             1,
             "#f0f921"
            ]
           ]
          },
          "colorway": [
           "#636efa",
           "#EF553B",
           "#00cc96",
           "#ab63fa",
           "#FFA15A",
           "#19d3f3",
           "#FF6692",
           "#B6E880",
           "#FF97FF",
           "#FECB52"
          ],
          "font": {
           "color": "#2a3f5f"
          },
          "geo": {
           "bgcolor": "white",
           "lakecolor": "white",
           "landcolor": "#E5ECF6",
           "showlakes": true,
           "showland": true,
           "subunitcolor": "white"
          },
          "hoverlabel": {
           "align": "left"
          },
          "hovermode": "closest",
          "mapbox": {
           "style": "light"
          },
          "paper_bgcolor": "white",
          "plot_bgcolor": "#E5ECF6",
          "polar": {
           "angularaxis": {
            "gridcolor": "white",
            "linecolor": "white",
            "ticks": ""
           },
           "bgcolor": "#E5ECF6",
           "radialaxis": {
            "gridcolor": "white",
            "linecolor": "white",
            "ticks": ""
           }
          },
          "scene": {
           "xaxis": {
            "backgroundcolor": "#E5ECF6",
            "gridcolor": "white",
            "gridwidth": 2,
            "linecolor": "white",
            "showbackground": true,
            "ticks": "",
            "zerolinecolor": "white"
           },
           "yaxis": {
            "backgroundcolor": "#E5ECF6",
            "gridcolor": "white",
            "gridwidth": 2,
            "linecolor": "white",
            "showbackground": true,
            "ticks": "",
            "zerolinecolor": "white"
           },
           "zaxis": {
            "backgroundcolor": "#E5ECF6",
            "gridcolor": "white",
            "gridwidth": 2,
            "linecolor": "white",
            "showbackground": true,
            "ticks": "",
            "zerolinecolor": "white"
           }
          },
          "shapedefaults": {
           "line": {
            "color": "#2a3f5f"
           }
          },
          "ternary": {
           "aaxis": {
            "gridcolor": "white",
            "linecolor": "white",
            "ticks": ""
           },
           "baxis": {
            "gridcolor": "white",
            "linecolor": "white",
            "ticks": ""
           },
           "bgcolor": "#E5ECF6",
           "caxis": {
            "gridcolor": "white",
            "linecolor": "white",
            "ticks": ""
           }
          },
          "title": {
           "x": 0.05
          },
          "xaxis": {
           "automargin": true,
           "gridcolor": "white",
           "linecolor": "white",
           "ticks": "",
           "title": {
            "standoff": 15
           },
           "zerolinecolor": "white",
           "zerolinewidth": 2
          },
          "yaxis": {
           "automargin": true,
           "gridcolor": "white",
           "linecolor": "white",
           "ticks": "",
           "title": {
            "standoff": 15
           },
           "zerolinecolor": "white",
           "zerolinewidth": 2
          }
         }
        },
        "title": {
         "text": "Joe Biden Polling in Michigan"
        },
        "xaxis": {
         "anchor": "y",
         "domain": [
          0,
          1
         ],
         "title": {
          "text": "start_date"
         }
        },
        "yaxis": {
         "anchor": "x",
         "domain": [
          0,
          1
         ],
         "title": {
          "text": "pct"
         }
        }
       }
      }
     },
     "metadata": {},
     "output_type": "display_data"
    }
   ],
   "source": [
    "#Zoom in on Michigan for Biden\n",
    "time_series(biden_states[1], 'Joe Biden', states[1]['state'].iloc[0])"
   ]
  },
  {
   "cell_type": "markdown",
   "metadata": {},
   "source": [
    "## How has the war in Gaza impacted Joe Biden's polling for Michigan?\n",
    "\n",
    "- Michigan has a large Muslim population, which makes a significant proportion of Joe Biden's base."
   ]
  },
  {
   "cell_type": "markdown",
   "metadata": {},
   "source": [
    "## Did RFK Jr's Superbowl Ad Change anything?"
   ]
  },
  {
   "cell_type": "code",
   "execution_count": 5,
   "metadata": {},
   "outputs": [
    {
     "data": {
      "text/html": [
       "<div>\n",
       "<style scoped>\n",
       "    .dataframe tbody tr th:only-of-type {\n",
       "        vertical-align: middle;\n",
       "    }\n",
       "\n",
       "    .dataframe tbody tr th {\n",
       "        vertical-align: top;\n",
       "    }\n",
       "\n",
       "    .dataframe thead th {\n",
       "        text-align: right;\n",
       "    }\n",
       "</style>\n",
       "<table border=\"1\" class=\"dataframe\">\n",
       "  <thead>\n",
       "    <tr style=\"text-align: right;\">\n",
       "      <th></th>\n",
       "      <th>Robert F. Kennedy</th>\n",
       "      <th>Joe Biden</th>\n",
       "      <th>Donald Trump</th>\n",
       "      <th>isPartial</th>\n",
       "    </tr>\n",
       "    <tr>\n",
       "      <th>date</th>\n",
       "      <th></th>\n",
       "      <th></th>\n",
       "      <th></th>\n",
       "      <th></th>\n",
       "    </tr>\n",
       "  </thead>\n",
       "  <tbody>\n",
       "    <tr>\n",
       "      <th>2023-02-19</th>\n",
       "      <td>0</td>\n",
       "      <td>33</td>\n",
       "      <td>14</td>\n",
       "      <td>False</td>\n",
       "    </tr>\n",
       "    <tr>\n",
       "      <th>2023-02-26</th>\n",
       "      <td>0</td>\n",
       "      <td>16</td>\n",
       "      <td>12</td>\n",
       "      <td>False</td>\n",
       "    </tr>\n",
       "    <tr>\n",
       "      <th>2023-03-05</th>\n",
       "      <td>0</td>\n",
       "      <td>13</td>\n",
       "      <td>13</td>\n",
       "      <td>False</td>\n",
       "    </tr>\n",
       "    <tr>\n",
       "      <th>2023-03-12</th>\n",
       "      <td>0</td>\n",
       "      <td>16</td>\n",
       "      <td>20</td>\n",
       "      <td>False</td>\n",
       "    </tr>\n",
       "    <tr>\n",
       "      <th>2023-03-19</th>\n",
       "      <td>0</td>\n",
       "      <td>16</td>\n",
       "      <td>65</td>\n",
       "      <td>False</td>\n",
       "    </tr>\n",
       "  </tbody>\n",
       "</table>\n",
       "</div>"
      ],
      "text/plain": [
       "            Robert F. Kennedy  Joe Biden  Donald Trump  isPartial\n",
       "date                                                             \n",
       "2023-02-19                  0         33            14      False\n",
       "2023-02-26                  0         16            12      False\n",
       "2023-03-05                  0         13            13      False\n",
       "2023-03-12                  0         16            20      False\n",
       "2023-03-19                  0         16            65      False"
      ]
     },
     "execution_count": 5,
     "metadata": {},
     "output_type": "execute_result"
    }
   ],
   "source": [
    "#Look at google trends data\n",
    "\n",
    "from pytrends.request import TrendReq\n",
    "\n",
    "time.sleep(30)\n",
    "\n",
    "pytrends = TrendReq(hl='en-US', tz=360)\n",
    "\n",
    "kw_list = ['Robert F. Kennedy', 'Joe Biden', 'Donald Trump']\n",
    "\n",
    "pytrends.build_payload(kw_list, cat=0, timeframe='today 12-m', geo='', gprop='')\n",
    "\n",
    "interest_over_time_df = pytrends.interest_over_time()\n",
    "interest_over_time_df.head()"
   ]
  },
  {
   "cell_type": "code",
   "execution_count": 6,
   "metadata": {},
   "outputs": [
    {
     "data": {
      "text/plain": [
       "<Axes: xlabel='date'>"
      ]
     },
     "execution_count": 6,
     "metadata": {},
     "output_type": "execute_result"
    },
    {
     "data": {
      "image/png": "[encoded data removed]",
      "text/plain": [
       "<Figure size 640x480 with 1 Axes>"
      ]
     },
     "metadata": {},
     "output_type": "display_data"
    }
   ],
   "source": [
    "interest_over_time_df.plot()"
   ]
  },
  {
   "cell_type": "markdown",
   "metadata": {},
   "source": [
    "## How did the report on Biden's memory change anything?"
   ]
  },
  {
   "cell_type": "code",
   "execution_count": 18,
   "metadata": {},
   "outputs": [],
   "source": [
    "#Again we can look at google trends to see if there was an uptick in search for Joe Biden's age and the special counsel report\n",
    "\n",
    "\n",
    "time.sleep(60)\n",
    "\n",
    "pytrends = TrendReq(hl='en-US', tz=360)\n",
    "\n",
    "kw_list = ['Joe Biden age']\n",
    "\n",
    "pytrends.build_payload(kw_list, cat=0, timeframe='today 12-m', geo='', gprop='')\n",
    "\n",
    "biden_over_time_df = pytrends.interest_over_time()\n",
    "\n",
    "data  = pytrends.related_queries()\n",
    "\n",
    "\n"
   ]
  },
  {
   "cell_type": "code",
   "execution_count": 20,
   "metadata": {},
   "outputs": [
    {
     "data": {
      "text/plain": [
       "<Axes: xlabel='date'>"
      ]
     },
     "execution_count": 20,
     "metadata": {},
     "output_type": "execute_result"
    },
    {
     "data": {
      "image/png": "[encoded data removed]",
      "text/plain": [
       "<Figure size 640x480 with 1 Axes>"
      ]
     },
     "metadata": {},
     "output_type": "display_data"
    }
   ],
   "source": [
    "biden_over_time_df.plot()"
   ]
  },
  {
   "cell_type": "code",
   "execution_count": 19,
   "metadata": {},
   "outputs": [
    {
     "name": "stdout",
     "output_type": "stream",
     "text": [
      "                      query  value\n",
      "0                     trump    100\n",
      "1                 age trump     99\n",
      "2          age donald trump     52\n",
      "3              donald trump     52\n",
      "4          age of joe biden     51\n",
      "5           president biden     48\n",
      "6                 president     48\n",
      "7       president joe biden     47\n",
      "8   president joe biden age     47\n",
      "9     what age is joe biden     24\n",
      "10        how old joe biden     24\n",
      "11                    obama     20\n",
      "12                obama age     20\n",
      "13     how old is joe biden     19\n",
      "14         how old is biden     19\n",
      "15      joe biden net worth     14\n",
      "16           joe biden wife     13\n",
      "17       joe biden wife age     13\n",
      "18           joe biden 2024     13\n",
      "19               jill biden     12\n",
      "20           jill biden age     12\n",
      "21          president trump     12\n",
      "22             age of trump     11\n",
      "23         age de joe biden      9\n",
      "24             barack obama      9\n"
     ]
    },
    {
     "data": {
      "text/html": [
       "<div>\n",
       "<style scoped>\n",
       "    .dataframe tbody tr th:only-of-type {\n",
       "        vertical-align: middle;\n",
       "    }\n",
       "\n",
       "    .dataframe tbody tr th {\n",
       "        vertical-align: top;\n",
       "    }\n",
       "\n",
       "    .dataframe thead th {\n",
       "        text-align: right;\n",
       "    }\n",
       "</style>\n",
       "<table border=\"1\" class=\"dataframe\">\n",
       "  <thead>\n",
       "    <tr style=\"text-align: right;\">\n",
       "      <th></th>\n",
       "      <th>query</th>\n",
       "      <th>value</th>\n",
       "    </tr>\n",
       "  </thead>\n",
       "  <tbody>\n",
       "    <tr>\n",
       "      <th>0</th>\n",
       "      <td>robert kennedy jr</td>\n",
       "      <td>32100</td>\n",
       "    </tr>\n",
       "    <tr>\n",
       "      <th>1</th>\n",
       "      <td>ramaswamy</td>\n",
       "      <td>28850</td>\n",
       "    </tr>\n",
       "    <tr>\n",
       "      <th>2</th>\n",
       "      <td>vivek ramaswamy</td>\n",
       "      <td>28200</td>\n",
       "    </tr>\n",
       "    <tr>\n",
       "      <th>3</th>\n",
       "      <td>vivek ramaswamy age</td>\n",
       "      <td>27050</td>\n",
       "    </tr>\n",
       "    <tr>\n",
       "      <th>4</th>\n",
       "      <td>robert f kennedy jr</td>\n",
       "      <td>19150</td>\n",
       "    </tr>\n",
       "    <tr>\n",
       "      <th>5</th>\n",
       "      <td>rfk jr</td>\n",
       "      <td>15300</td>\n",
       "    </tr>\n",
       "    <tr>\n",
       "      <th>6</th>\n",
       "      <td>marianne williamson</td>\n",
       "      <td>13600</td>\n",
       "    </tr>\n",
       "    <tr>\n",
       "      <th>7</th>\n",
       "      <td>michael d higgins age</td>\n",
       "      <td>12250</td>\n",
       "    </tr>\n",
       "    <tr>\n",
       "      <th>8</th>\n",
       "      <td>michael d higgins</td>\n",
       "      <td>12200</td>\n",
       "    </tr>\n",
       "    <tr>\n",
       "      <th>9</th>\n",
       "      <td>democratic candidates 2024</td>\n",
       "      <td>11450</td>\n",
       "    </tr>\n",
       "    <tr>\n",
       "      <th>10</th>\n",
       "      <td>dean phillips</td>\n",
       "      <td>10850</td>\n",
       "    </tr>\n",
       "    <tr>\n",
       "      <th>11</th>\n",
       "      <td>chris christie</td>\n",
       "      <td>10150</td>\n",
       "    </tr>\n",
       "    <tr>\n",
       "      <th>12</th>\n",
       "      <td>willow project</td>\n",
       "      <td>9450</td>\n",
       "    </tr>\n",
       "    <tr>\n",
       "      <th>13</th>\n",
       "      <td>israel news</td>\n",
       "      <td>6500</td>\n",
       "    </tr>\n",
       "    <tr>\n",
       "      <th>14</th>\n",
       "      <td>john kerry</td>\n",
       "      <td>5650</td>\n",
       "    </tr>\n",
       "    <tr>\n",
       "      <th>15</th>\n",
       "      <td>cornel west</td>\n",
       "      <td>5500</td>\n",
       "    </tr>\n",
       "    <tr>\n",
       "      <th>16</th>\n",
       "      <td>gretchen whitmer</td>\n",
       "      <td>2100</td>\n",
       "    </tr>\n",
       "    <tr>\n",
       "      <th>17</th>\n",
       "      <td>nikki haley age</td>\n",
       "      <td>1800</td>\n",
       "    </tr>\n",
       "    <tr>\n",
       "      <th>18</th>\n",
       "      <td>nikki haley</td>\n",
       "      <td>1350</td>\n",
       "    </tr>\n",
       "    <tr>\n",
       "      <th>19</th>\n",
       "      <td>rfk jr age</td>\n",
       "      <td>800</td>\n",
       "    </tr>\n",
       "    <tr>\n",
       "      <th>20</th>\n",
       "      <td>joe biden net worth 2023</td>\n",
       "      <td>750</td>\n",
       "    </tr>\n",
       "    <tr>\n",
       "      <th>21</th>\n",
       "      <td>republican candidates</td>\n",
       "      <td>700</td>\n",
       "    </tr>\n",
       "    <tr>\n",
       "      <th>22</th>\n",
       "      <td>joe biden impeachment</td>\n",
       "      <td>350</td>\n",
       "    </tr>\n",
       "    <tr>\n",
       "      <th>23</th>\n",
       "      <td>ronald reagan age as president</td>\n",
       "      <td>350</td>\n",
       "    </tr>\n",
       "    <tr>\n",
       "      <th>24</th>\n",
       "      <td>mitch mcconnell age</td>\n",
       "      <td>300</td>\n",
       "    </tr>\n",
       "  </tbody>\n",
       "</table>\n",
       "</div>"
      ],
      "text/plain": [
       "                             query  value\n",
       "0                robert kennedy jr  32100\n",
       "1                        ramaswamy  28850\n",
       "2                  vivek ramaswamy  28200\n",
       "3              vivek ramaswamy age  27050\n",
       "4              robert f kennedy jr  19150\n",
       "5                           rfk jr  15300\n",
       "6              marianne williamson  13600\n",
       "7            michael d higgins age  12250\n",
       "8                michael d higgins  12200\n",
       "9       democratic candidates 2024  11450\n",
       "10                   dean phillips  10850\n",
       "11                  chris christie  10150\n",
       "12                  willow project   9450\n",
       "13                     israel news   6500\n",
       "14                      john kerry   5650\n",
       "15                     cornel west   5500\n",
       "16                gretchen whitmer   2100\n",
       "17                 nikki haley age   1800\n",
       "18                     nikki haley   1350\n",
       "19                      rfk jr age    800\n",
       "20        joe biden net worth 2023    750\n",
       "21           republican candidates    700\n",
       "22           joe biden impeachment    350\n",
       "23  ronald reagan age as president    350\n",
       "24             mitch mcconnell age    300"
      ]
     },
     "execution_count": 19,
     "metadata": {},
     "output_type": "execute_result"
    }
   ],
   "source": [
    "print(data[\"Joe Biden age\"][\"top\"])\n",
    "data[\"Joe Biden age\"][\"rising\"]"
   ]
  },
  {
   "cell_type": "code",
   "execution_count": null,
   "metadata": {},
   "outputs": [],
   "source": []
  }
 ],
 "metadata": {
  "kernelspec": {
   "display_name": "base",
   "language": "python",
   "name": "python3"
  },
  "language_info": {
   "codemirror_mode": {
    "name": "ipython",
    "version": 3
   },
   "file_extension": ".py",
   "mimetype": "text/x-python",
   "name": "python",
   "nbconvert_exporter": "python",
   "pygments_lexer": "ipython3",
   "version": "3.11.5"
  },
  "orig_nbformat": 4
 },
 "nbformat": 4,
 "nbformat_minor": 2
}
