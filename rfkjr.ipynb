{
 "cells": [
  {
   "cell_type": "code",
   "execution_count": 1,
   "metadata": {},
   "outputs": [],
   "source": [
    "from bs4 import BeautifulSoup\n",
    "import pandas as pd\n",
    "import numpy as np\n",
    "from datetime import datetime\n",
    "import matplotlib.pyplot as plt\n",
    "import seaborn as sns\n",
    "import plotly.express as px\n",
    "import urllib\n",
    "import warnings \n",
    "\n",
    "pd.options.display.max_columns = 999\n",
    "warnings.simplefilter(action='ignore', category=FutureWarning)"
   ]
  },
  {
   "cell_type": "code",
   "execution_count": 2,
   "metadata": {},
   "outputs": [],
   "source": [
    "#Load in the Wikipedia table data\n",
    "url = \"https://en.wikipedia.org/wiki/Nationwide_opinion_polling_for_the_2024_United_States_presidential_election\" \n",
    "\n",
    "html_content = urllib.request.urlopen(url).read()\n",
    "\n",
    "# Parse the HTML content with BeautifulSoup\n",
    "\n",
    "soup = BeautifulSoup(html_content, 'html5lib')\n",
    "table_dat = soup.find_all('table')\n"
   ]
  },
  {
   "cell_type": "code",
   "execution_count": 3,
   "metadata": {},
   "outputs": [
    {
     "data": {
      "text/html": [
       "<div>\n",
       "<style scoped>\n",
       "    .dataframe tbody tr th:only-of-type {\n",
       "        vertical-align: middle;\n",
       "    }\n",
       "\n",
       "    .dataframe tbody tr th {\n",
       "        vertical-align: top;\n",
       "    }\n",
       "\n",
       "    .dataframe thead th {\n",
       "        text-align: right;\n",
       "    }\n",
       "</style>\n",
       "<table border=\"1\" class=\"dataframe\">\n",
       "  <thead>\n",
       "    <tr style=\"text-align: right;\">\n",
       "      <th></th>\n",
       "      <th>Poll source</th>\n",
       "      <th>Date</th>\n",
       "      <th>Samplesize[b]</th>\n",
       "      <th>Marginof error</th>\n",
       "      <th>JoeBidenDemocratic</th>\n",
       "      <th>DonaldTrumpRepublican</th>\n",
       "      <th>Robert F.Kennedy Jr.Independent</th>\n",
       "      <th>Other/Undecided</th>\n",
       "      <th>Year</th>\n",
       "      <th>Month</th>\n",
       "      <th>Day</th>\n",
       "      <th>Spread</th>\n",
       "    </tr>\n",
       "    <tr>\n",
       "      <th>New Date</th>\n",
       "      <th></th>\n",
       "      <th></th>\n",
       "      <th></th>\n",
       "      <th></th>\n",
       "      <th></th>\n",
       "      <th></th>\n",
       "      <th></th>\n",
       "      <th></th>\n",
       "      <th></th>\n",
       "      <th></th>\n",
       "      <th></th>\n",
       "      <th></th>\n",
       "    </tr>\n",
       "  </thead>\n",
       "  <tbody>\n",
       "    <tr>\n",
       "      <th>2024-01-03</th>\n",
       "      <td>Reuters/Ipsos</td>\n",
       "      <td>January 3–9, 2024</td>\n",
       "      <td>4,677 (RV)</td>\n",
       "      <td>± 1.5%</td>\n",
       "      <td>0.29</td>\n",
       "      <td>0.30</td>\n",
       "      <td>0.18</td>\n",
       "      <td>0.23</td>\n",
       "      <td>2024</td>\n",
       "      <td>January</td>\n",
       "      <td>3</td>\n",
       "      <td>0.01</td>\n",
       "    </tr>\n",
       "    <tr>\n",
       "      <th>2023-12-14</th>\n",
       "      <td>Quinnipiac University</td>\n",
       "      <td>December 14–18, 2023</td>\n",
       "      <td>1,647 (RV)</td>\n",
       "      <td>± 2.4%</td>\n",
       "      <td>0.38</td>\n",
       "      <td>0.36</td>\n",
       "      <td>0.22</td>\n",
       "      <td>0.04</td>\n",
       "      <td>2023</td>\n",
       "      <td>December</td>\n",
       "      <td>14</td>\n",
       "      <td>-0.02</td>\n",
       "    </tr>\n",
       "    <tr>\n",
       "      <th>2023-12-06</th>\n",
       "      <td>Rasmussen Reports</td>\n",
       "      <td>December 6–7 &amp; 10, 2023</td>\n",
       "      <td>892 (LV)</td>\n",
       "      <td>± 3.0%</td>\n",
       "      <td>0.32</td>\n",
       "      <td>0.40</td>\n",
       "      <td>0.16</td>\n",
       "      <td>0.12</td>\n",
       "      <td>2023</td>\n",
       "      <td>December</td>\n",
       "      <td>6</td>\n",
       "      <td>0.08</td>\n",
       "    </tr>\n",
       "    <tr>\n",
       "      <th>2023-12-05</th>\n",
       "      <td>Cygnal (R)</td>\n",
       "      <td>December 5–7, 2023</td>\n",
       "      <td>2,000 (LV)</td>\n",
       "      <td>± 2.16%</td>\n",
       "      <td>0.42</td>\n",
       "      <td>0.43</td>\n",
       "      <td>0.09</td>\n",
       "      <td>0.06</td>\n",
       "      <td>2023</td>\n",
       "      <td>December</td>\n",
       "      <td>5</td>\n",
       "      <td>0.01</td>\n",
       "    </tr>\n",
       "    <tr>\n",
       "      <th>2023-11-15</th>\n",
       "      <td>Harvard/Harris</td>\n",
       "      <td>November 15–16, 2023</td>\n",
       "      <td>2,851 (RV)</td>\n",
       "      <td>–</td>\n",
       "      <td>0.36</td>\n",
       "      <td>0.44</td>\n",
       "      <td>0.21</td>\n",
       "      <td>-0.01</td>\n",
       "      <td>2023</td>\n",
       "      <td>November</td>\n",
       "      <td>15</td>\n",
       "      <td>0.08</td>\n",
       "    </tr>\n",
       "  </tbody>\n",
       "</table>\n",
       "</div>"
      ],
      "text/plain": [
       "                      Poll source                     Date Samplesize[b]  \\\n",
       "New Date                                                                   \n",
       "2024-01-03          Reuters/Ipsos        January 3–9, 2024    4,677 (RV)   \n",
       "2023-12-14  Quinnipiac University     December 14–18, 2023    1,647 (RV)   \n",
       "2023-12-06      Rasmussen Reports  December 6–7 & 10, 2023      892 (LV)   \n",
       "2023-12-05             Cygnal (R)       December 5–7, 2023    2,000 (LV)   \n",
       "2023-11-15         Harvard/Harris     November 15–16, 2023    2,851 (RV)   \n",
       "\n",
       "           Marginof error  JoeBidenDemocratic  DonaldTrumpRepublican  \\\n",
       "New Date                                                               \n",
       "2024-01-03         ± 1.5%                0.29                   0.30   \n",
       "2023-12-14         ± 2.4%                0.38                   0.36   \n",
       "2023-12-06         ± 3.0%                0.32                   0.40   \n",
       "2023-12-05        ± 2.16%                0.42                   0.43   \n",
       "2023-11-15              –                0.36                   0.44   \n",
       "\n",
       "            Robert F.Kennedy Jr.Independent  Other/Undecided  Year     Month  \\\n",
       "New Date                                                                       \n",
       "2024-01-03                             0.18             0.23  2024   January   \n",
       "2023-12-14                             0.22             0.04  2023  December   \n",
       "2023-12-06                             0.16             0.12  2023  December   \n",
       "2023-12-05                             0.09             0.06  2023  December   \n",
       "2023-11-15                             0.21            -0.01  2023  November   \n",
       "\n",
       "           Day  Spread  \n",
       "New Date                \n",
       "2024-01-03   3    0.01  \n",
       "2023-12-14  14   -0.02  \n",
       "2023-12-06   6    0.08  \n",
       "2023-12-05   5    0.01  \n",
       "2023-11-15  15    0.08  "
      ]
     },
     "execution_count": 3,
     "metadata": {},
     "output_type": "execute_result"
    }
   ],
   "source": [
    "rfk_table = table_dat[10]\n",
    "\n",
    "rfk_table_data = []\n",
    "for row in rfk_table.find_all('tr'):\n",
    "    row_data = [cell.text.strip() for cell in row.find_all(['td','th'])]\n",
    "    rfk_table_data.append(row_data)\n",
    "\n",
    "#Convert table data to a dataframe\n",
    "#We remove the first row since this is RCP summary data that we don't want to use\n",
    "    \n",
    "rfk = pd.DataFrame(rfk_table_data[1:], columns=rfk_table_data[0])\n",
    "\n",
    "rfk[\"Year\"] = rfk[\"Date\"].str.split(\" \").str[-1]\n",
    "rfk[\"Month\"] = rfk[\"Date\"].str.split(\" \").str[0]\n",
    "rfk[\"Day\"] = rfk[\"Date\"].str.split(\" \").str[1].str.split(\"–\").str[0]\n",
    "rfk[\"New Date\"] = rfk[\"Month\"] + \" \" + rfk[\"Day\"] + \", \" + rfk[\"Year\"]\n",
    "rfk[\"New Date\"] = pd.to_datetime(rfk[\"New Date\"],format=\"mixed\")\n",
    "rfk['JoeBidenDemocratic'] = rfk['JoeBidenDemocratic'].str.rstrip('%').astype('float') / 100\n",
    "rfk['DonaldTrumpRepublican'] = rfk['DonaldTrumpRepublican'].str.rstrip('%').astype('float') / 100\n",
    "rfk[\"Robert F.Kennedy Jr.Independent\"] = rfk[\"Robert F.Kennedy Jr.Independent\"].str.rstrip('%').astype('float') / 100\n",
    "rfk[\"Other/Undecided\"] = 1 - rfk[\"JoeBidenDemocratic\"] - rfk[\"DonaldTrumpRepublican\"] - rfk[\"Robert F.Kennedy Jr.Independent\"]\n",
    "rfk.set_index(\"New Date\", inplace=True)\n",
    "rfk.drop(\"2023-10-09\", inplace=True)\n",
    "rfk[\"Spread\"] = rfk[\"DonaldTrumpRepublican\"] - rfk[\"JoeBidenDemocratic\"]\n",
    "rfk.head()"
   ]
  },
  {
   "cell_type": "code",
   "execution_count": 4,
   "metadata": {},
   "outputs": [
    {
     "data": {
      "text/html": [
       "<div>\n",
       "<style scoped>\n",
       "    .dataframe tbody tr th:only-of-type {\n",
       "        vertical-align: middle;\n",
       "    }\n",
       "\n",
       "    .dataframe tbody tr th {\n",
       "        vertical-align: top;\n",
       "    }\n",
       "\n",
       "    .dataframe thead th {\n",
       "        text-align: right;\n",
       "    }\n",
       "</style>\n",
       "<table border=\"1\" class=\"dataframe\">\n",
       "  <thead>\n",
       "    <tr style=\"text-align: right;\">\n",
       "      <th></th>\n",
       "      <th>Poll source</th>\n",
       "      <th>Date</th>\n",
       "      <th>Samplesize[b]</th>\n",
       "      <th>Marginof error</th>\n",
       "      <th>JoeBidenDemocratic</th>\n",
       "      <th>DonaldTrumpRepublican</th>\n",
       "      <th>Other/Undecided</th>\n",
       "      <th>Year</th>\n",
       "      <th>Month</th>\n",
       "      <th>Day</th>\n",
       "      <th>Spread</th>\n",
       "      <th>New Date</th>\n",
       "    </tr>\n",
       "  </thead>\n",
       "  <tbody>\n",
       "    <tr>\n",
       "      <th>0</th>\n",
       "      <td>ActiVote</td>\n",
       "      <td>December 13–19, 2023</td>\n",
       "      <td>841 (LV)</td>\n",
       "      <td>± 3.4%</td>\n",
       "      <td>0.46</td>\n",
       "      <td>0.54</td>\n",
       "      <td>0.00</td>\n",
       "      <td>2023</td>\n",
       "      <td>December</td>\n",
       "      <td>13</td>\n",
       "      <td>0.08</td>\n",
       "      <td>2023-12-13</td>\n",
       "    </tr>\n",
       "    <tr>\n",
       "      <th>1</th>\n",
       "      <td>McLaughlin &amp; Associates</td>\n",
       "      <td>December 13–19, 2023</td>\n",
       "      <td>1,000 (LV)</td>\n",
       "      <td>–</td>\n",
       "      <td>0.44</td>\n",
       "      <td>0.47</td>\n",
       "      <td>0.09</td>\n",
       "      <td>2023</td>\n",
       "      <td>December</td>\n",
       "      <td>13</td>\n",
       "      <td>0.03</td>\n",
       "      <td>2023-12-13</td>\n",
       "    </tr>\n",
       "    <tr>\n",
       "      <th>2</th>\n",
       "      <td>The Economist/YouGov</td>\n",
       "      <td>December 16–18, 2023</td>\n",
       "      <td>1,336 (RV)</td>\n",
       "      <td>± 3.2%</td>\n",
       "      <td>0.43</td>\n",
       "      <td>0.43</td>\n",
       "      <td>0.14</td>\n",
       "      <td>2023</td>\n",
       "      <td>December</td>\n",
       "      <td>16</td>\n",
       "      <td>0.00</td>\n",
       "      <td>2023-12-16</td>\n",
       "    </tr>\n",
       "    <tr>\n",
       "      <th>3</th>\n",
       "      <td>YouGov/Yahoo News</td>\n",
       "      <td>December 14–18, 2023</td>\n",
       "      <td>1,027 (RV)</td>\n",
       "      <td>–</td>\n",
       "      <td>0.44</td>\n",
       "      <td>0.44</td>\n",
       "      <td>0.12</td>\n",
       "      <td>2023</td>\n",
       "      <td>December</td>\n",
       "      <td>14</td>\n",
       "      <td>0.00</td>\n",
       "      <td>2023-12-14</td>\n",
       "    </tr>\n",
       "    <tr>\n",
       "      <th>4</th>\n",
       "      <td>Quinnipiac University</td>\n",
       "      <td>December 14–18, 2023</td>\n",
       "      <td>1,647 (RV)</td>\n",
       "      <td>± 2.4%</td>\n",
       "      <td>0.47</td>\n",
       "      <td>0.46</td>\n",
       "      <td>0.07</td>\n",
       "      <td>2023</td>\n",
       "      <td>December</td>\n",
       "      <td>14</td>\n",
       "      <td>-0.01</td>\n",
       "      <td>2023-12-14</td>\n",
       "    </tr>\n",
       "  </tbody>\n",
       "</table>\n",
       "</div>"
      ],
      "text/plain": [
       "               Poll source                  Date Samplesize[b] Marginof error  \\\n",
       "0                 ActiVote  December 13–19, 2023      841 (LV)         ± 3.4%   \n",
       "1  McLaughlin & Associates  December 13–19, 2023    1,000 (LV)              –   \n",
       "2     The Economist/YouGov  December 16–18, 2023    1,336 (RV)         ± 3.2%   \n",
       "3        YouGov/Yahoo News  December 14–18, 2023    1,027 (RV)              –   \n",
       "4    Quinnipiac University  December 14–18, 2023    1,647 (RV)         ± 2.4%   \n",
       "\n",
       "   JoeBidenDemocratic  DonaldTrumpRepublican  Other/Undecided  Year     Month  \\\n",
       "0                0.46                   0.54             0.00  2023  December   \n",
       "1                0.44                   0.47             0.09  2023  December   \n",
       "2                0.43                   0.43             0.14  2023  December   \n",
       "3                0.44                   0.44             0.12  2023  December   \n",
       "4                0.47                   0.46             0.07  2023  December   \n",
       "\n",
       "  Day  Spread   New Date  \n",
       "0  13    0.08 2023-12-13  \n",
       "1  13    0.03 2023-12-13  \n",
       "2  16    0.00 2023-12-16  \n",
       "3  14    0.00 2023-12-14  \n",
       "4  14   -0.01 2023-12-14  "
      ]
     },
     "execution_count": 4,
     "metadata": {},
     "output_type": "execute_result"
    }
   ],
   "source": [
    "jbdt_table_2023 = table_dat[8]\n",
    "jbdt_table_2024 = table_dat[7]\n",
    "\n",
    "jbdt_table_2023_data = []\n",
    "for row in jbdt_table_2023.find_all('tr'):\n",
    "    row_data = [cell.text.strip() for cell in row.find_all(['td','th'])]\n",
    "    jbdt_table_2023_data.append(row_data)\n",
    "\n",
    "jbdt_table_2024_data = []\n",
    "for row in jbdt_table_2024.find_all('tr'):\n",
    "    row_data = [cell.text.strip() for cell in row.find_all(['td','th'])]\n",
    "    jbdt_table_2024_data.append(row_data)\n",
    "\n",
    "    \n",
    "jbdt_2023 = pd.DataFrame(jbdt_table_2023_data[1:], columns=jbdt_table_2023_data[0])\n",
    "jbdt_2024 = pd.DataFrame(jbdt_table_2024_data[1:], columns=jbdt_table_2024_data[0])\n",
    "jbdt = pd.concat([jbdt_2023, jbdt_2024])\n",
    "jbdt[\"Year\"] = jbdt[\"Date\"].str.split(\" \").str[-1]\n",
    "jbdt[\"Month\"] = jbdt[\"Date\"].str.split(\" \").str[0]\n",
    "jbdt[\"Day\"] = jbdt[\"Date\"].str.split(\" \").str[1].str.split(\"–\").str[0]\n",
    "jbdt['JoeBidenDemocratic'] = jbdt['JoeBidenDemocratic'].str[:2].astype('float') / 100\n",
    "jbdt['DonaldTrumpRepublican'] = jbdt['DonaldTrumpRepublican'].str[:2].astype('float') / 100\n",
    "jbdt[\"Spread\"] = jbdt[\"DonaldTrumpRepublican\"] - jbdt[\"JoeBidenDemocratic\"]\n",
    "jbdt[\"Other/Undecided\"] = 1 - jbdt[\"JoeBidenDemocratic\"] - jbdt[\"DonaldTrumpRepublican\"]\n",
    "jbdt[\"New Date\"] = jbdt[\"Month\"] + \" \" + jbdt[\"Day\"] + \", \" + jbdt[\"Year\"]\n",
    "jbdt[\"New Date\"] = pd.to_datetime(jbdt[\"New Date\"],format=\"mixed\")\n",
    "jbdt.head()"
   ]
  },
  {
   "cell_type": "code",
   "execution_count": 5,
   "metadata": {},
   "outputs": [
    {
     "data": {
      "text/html": [
       "<div>\n",
       "<style scoped>\n",
       "    .dataframe tbody tr th:only-of-type {\n",
       "        vertical-align: middle;\n",
       "    }\n",
       "\n",
       "    .dataframe tbody tr th {\n",
       "        vertical-align: top;\n",
       "    }\n",
       "\n",
       "    .dataframe thead th {\n",
       "        text-align: right;\n",
       "    }\n",
       "</style>\n",
       "<table border=\"1\" class=\"dataframe\">\n",
       "  <thead>\n",
       "    <tr style=\"text-align: right;\">\n",
       "      <th></th>\n",
       "      <th>New Date</th>\n",
       "      <th>Poll source</th>\n",
       "      <th>Date_RFK</th>\n",
       "      <th>Samplesize[b]_RFK</th>\n",
       "      <th>Marginof error_RFK</th>\n",
       "      <th>JoeBidenDemocratic_RFK</th>\n",
       "      <th>DonaldTrumpRepublican_RFK</th>\n",
       "      <th>Robert F.Kennedy Jr.Independent</th>\n",
       "      <th>Other/Undecided_RFK</th>\n",
       "      <th>Year_RFK</th>\n",
       "      <th>Month_RFK</th>\n",
       "      <th>Day_RFK</th>\n",
       "      <th>Spread_RFK</th>\n",
       "      <th>Date_JBDT</th>\n",
       "      <th>Samplesize[b]_JBDT</th>\n",
       "      <th>Marginof error_JBDT</th>\n",
       "      <th>JoeBidenDemocratic_JBDT</th>\n",
       "      <th>DonaldTrumpRepublican_JBDT</th>\n",
       "      <th>Other/Undecided_JBDT</th>\n",
       "      <th>Year_JBDT</th>\n",
       "      <th>Month_JBDT</th>\n",
       "      <th>Day_JBDT</th>\n",
       "      <th>Spread_JBDT</th>\n",
       "    </tr>\n",
       "  </thead>\n",
       "  <tbody>\n",
       "    <tr>\n",
       "      <th>0</th>\n",
       "      <td>2024-01-03</td>\n",
       "      <td>Reuters/Ipsos</td>\n",
       "      <td>January 3–9, 2024</td>\n",
       "      <td>4,677 (RV)</td>\n",
       "      <td>± 1.5%</td>\n",
       "      <td>0.29</td>\n",
       "      <td>0.30</td>\n",
       "      <td>0.18</td>\n",
       "      <td>0.23</td>\n",
       "      <td>2024</td>\n",
       "      <td>January</td>\n",
       "      <td>3</td>\n",
       "      <td>0.01</td>\n",
       "      <td>January 3–9, 2024</td>\n",
       "      <td>4,677 (A)</td>\n",
       "      <td>± 1.5%</td>\n",
       "      <td>0.48</td>\n",
       "      <td>0.48</td>\n",
       "      <td>0.04</td>\n",
       "      <td>2024</td>\n",
       "      <td>January</td>\n",
       "      <td>3</td>\n",
       "      <td>0.00</td>\n",
       "    </tr>\n",
       "    <tr>\n",
       "      <th>1</th>\n",
       "      <td>2023-12-14</td>\n",
       "      <td>Quinnipiac University</td>\n",
       "      <td>December 14–18, 2023</td>\n",
       "      <td>1,647 (RV)</td>\n",
       "      <td>± 2.4%</td>\n",
       "      <td>0.38</td>\n",
       "      <td>0.36</td>\n",
       "      <td>0.22</td>\n",
       "      <td>0.04</td>\n",
       "      <td>2023</td>\n",
       "      <td>December</td>\n",
       "      <td>14</td>\n",
       "      <td>-0.02</td>\n",
       "      <td>December 14–18, 2023</td>\n",
       "      <td>1,647 (RV)</td>\n",
       "      <td>± 2.4%</td>\n",
       "      <td>0.47</td>\n",
       "      <td>0.46</td>\n",
       "      <td>0.07</td>\n",
       "      <td>2023</td>\n",
       "      <td>December</td>\n",
       "      <td>14</td>\n",
       "      <td>-0.01</td>\n",
       "    </tr>\n",
       "    <tr>\n",
       "      <th>2</th>\n",
       "      <td>2023-12-06</td>\n",
       "      <td>Rasmussen Reports</td>\n",
       "      <td>December 6–7 &amp; 10, 2023</td>\n",
       "      <td>892 (LV)</td>\n",
       "      <td>± 3.0%</td>\n",
       "      <td>0.32</td>\n",
       "      <td>0.40</td>\n",
       "      <td>0.16</td>\n",
       "      <td>0.12</td>\n",
       "      <td>2023</td>\n",
       "      <td>December</td>\n",
       "      <td>6</td>\n",
       "      <td>0.08</td>\n",
       "      <td>December 6–10, 2023</td>\n",
       "      <td>892 (LV)</td>\n",
       "      <td>± 3.0%</td>\n",
       "      <td>0.38</td>\n",
       "      <td>0.48</td>\n",
       "      <td>0.14</td>\n",
       "      <td>2023</td>\n",
       "      <td>December</td>\n",
       "      <td>6</td>\n",
       "      <td>0.10</td>\n",
       "    </tr>\n",
       "    <tr>\n",
       "      <th>3</th>\n",
       "      <td>2023-12-05</td>\n",
       "      <td>Cygnal (R)</td>\n",
       "      <td>December 5–7, 2023</td>\n",
       "      <td>2,000 (LV)</td>\n",
       "      <td>± 2.16%</td>\n",
       "      <td>0.42</td>\n",
       "      <td>0.43</td>\n",
       "      <td>0.09</td>\n",
       "      <td>0.06</td>\n",
       "      <td>2023</td>\n",
       "      <td>December</td>\n",
       "      <td>5</td>\n",
       "      <td>0.01</td>\n",
       "      <td>December 5–7, 2023</td>\n",
       "      <td>2,000 (LV)</td>\n",
       "      <td>± 2.16%</td>\n",
       "      <td>0.47</td>\n",
       "      <td>0.46</td>\n",
       "      <td>0.07</td>\n",
       "      <td>2023</td>\n",
       "      <td>December</td>\n",
       "      <td>5</td>\n",
       "      <td>-0.01</td>\n",
       "    </tr>\n",
       "    <tr>\n",
       "      <th>4</th>\n",
       "      <td>2023-11-13</td>\n",
       "      <td>Reuters/Ipsos</td>\n",
       "      <td>November 13–14, 2023</td>\n",
       "      <td>1,006 (RV)</td>\n",
       "      <td>± 3.8%</td>\n",
       "      <td>0.30</td>\n",
       "      <td>0.32</td>\n",
       "      <td>0.20</td>\n",
       "      <td>0.18</td>\n",
       "      <td>2023</td>\n",
       "      <td>November</td>\n",
       "      <td>13</td>\n",
       "      <td>0.02</td>\n",
       "      <td>November 13–14, 2023</td>\n",
       "      <td>1,006 (A)</td>\n",
       "      <td>± 3.8%</td>\n",
       "      <td>0.33</td>\n",
       "      <td>0.35</td>\n",
       "      <td>0.32</td>\n",
       "      <td>2023</td>\n",
       "      <td>November</td>\n",
       "      <td>13</td>\n",
       "      <td>0.02</td>\n",
       "    </tr>\n",
       "  </tbody>\n",
       "</table>\n",
       "</div>"
      ],
      "text/plain": [
       "    New Date            Poll source                 Date_RFK  \\\n",
       "0 2024-01-03          Reuters/Ipsos        January 3–9, 2024   \n",
       "1 2023-12-14  Quinnipiac University     December 14–18, 2023   \n",
       "2 2023-12-06      Rasmussen Reports  December 6–7 & 10, 2023   \n",
       "3 2023-12-05             Cygnal (R)       December 5–7, 2023   \n",
       "4 2023-11-13          Reuters/Ipsos     November 13–14, 2023   \n",
       "\n",
       "  Samplesize[b]_RFK Marginof error_RFK  JoeBidenDemocratic_RFK  \\\n",
       "0        4,677 (RV)             ± 1.5%                    0.29   \n",
       "1        1,647 (RV)             ± 2.4%                    0.38   \n",
       "2          892 (LV)             ± 3.0%                    0.32   \n",
       "3        2,000 (LV)            ± 2.16%                    0.42   \n",
       "4        1,006 (RV)             ± 3.8%                    0.30   \n",
       "\n",
       "   DonaldTrumpRepublican_RFK  Robert F.Kennedy Jr.Independent  \\\n",
       "0                       0.30                             0.18   \n",
       "1                       0.36                             0.22   \n",
       "2                       0.40                             0.16   \n",
       "3                       0.43                             0.09   \n",
       "4                       0.32                             0.20   \n",
       "\n",
       "   Other/Undecided_RFK Year_RFK Month_RFK Day_RFK  Spread_RFK  \\\n",
       "0                 0.23     2024   January       3        0.01   \n",
       "1                 0.04     2023  December      14       -0.02   \n",
       "2                 0.12     2023  December       6        0.08   \n",
       "3                 0.06     2023  December       5        0.01   \n",
       "4                 0.18     2023  November      13        0.02   \n",
       "\n",
       "              Date_JBDT Samplesize[b]_JBDT Marginof error_JBDT  \\\n",
       "0     January 3–9, 2024          4,677 (A)              ± 1.5%   \n",
       "1  December 14–18, 2023         1,647 (RV)              ± 2.4%   \n",
       "2   December 6–10, 2023           892 (LV)              ± 3.0%   \n",
       "3    December 5–7, 2023         2,000 (LV)             ± 2.16%   \n",
       "4  November 13–14, 2023          1,006 (A)              ± 3.8%   \n",
       "\n",
       "   JoeBidenDemocratic_JBDT  DonaldTrumpRepublican_JBDT  Other/Undecided_JBDT  \\\n",
       "0                     0.48                        0.48                  0.04   \n",
       "1                     0.47                        0.46                  0.07   \n",
       "2                     0.38                        0.48                  0.14   \n",
       "3                     0.47                        0.46                  0.07   \n",
       "4                     0.33                        0.35                  0.32   \n",
       "\n",
       "  Year_JBDT Month_JBDT Day_JBDT  Spread_JBDT  \n",
       "0      2024    January        3         0.00  \n",
       "1      2023   December       14        -0.01  \n",
       "2      2023   December        6         0.10  \n",
       "3      2023   December        5        -0.01  \n",
       "4      2023   November       13         0.02  "
      ]
     },
     "execution_count": 5,
     "metadata": {},
     "output_type": "execute_result"
    }
   ],
   "source": [
    "# Merge the two dataframes on new data\n",
    "\n",
    "merged = pd.merge(rfk, jbdt, on=[\"New Date\", \"Poll source\"], suffixes=('_RFK', '_JBDT'))\n",
    "merged.head()"
   ]
  },
  {
   "cell_type": "code",
   "execution_count": 6,
   "metadata": {},
   "outputs": [
    {
     "data": {
      "image/png": "[encoded data removed]",
      "text/plain": [
       "<Figure size 1000x600 with 1 Axes>"
      ]
     },
     "metadata": {},
     "output_type": "display_data"
    }
   ],
   "source": [
    "#Scatterplot the two different spreads\n",
    "\n",
    "plt.figure(figsize=(10,6))\n",
    "plt.scatter(merged[\"Spread_JBDT\"],merged[\"Spread_RFK\"])\n",
    "# add trendline\n",
    "\n",
    "p = np.poly1d(np.polyfit(merged[\"Spread_JBDT\"], merged[\"Spread_RFK\"], 1))\n",
    "\n",
    "#plot polynomial line\n",
    "plt.plot(merged[\"Spread_JBDT\"], p(merged[\"Spread_JBDT\"]), color=\"red\")\n",
    "\n",
    "#plot y =x \n",
    "\n",
    "plt.plot(merged[\"Spread_JBDT\"], merged[\"Spread_JBDT\"], color=\"green\")\n",
    "\n",
    "plt.title(\"Spread Comparison\")\n",
    "plt.xlabel(\"JBDT Spread\")\n",
    "plt.ylabel(\"RFK Spread\")\n",
    "plt.show()"
   ]
  },
  {
   "cell_type": "code",
   "execution_count": 7,
   "metadata": {},
   "outputs": [
    {
     "data": {
      "application/vnd.plotly.v1+json": {
       "config": {
        "plotlyServerURL": "https://plot.ly"
       },
       "data": [
        {
         "hovertemplate": "Spread_RFK=%{x}<br>Spread_JBDT=%{y}<extra></extra>",
         "legendgroup": "",
         "marker": {
          "color": "#636efa",
          "symbol": "circle"
         },
         "mode": "markers",
         "name": "",
         "orientation": "v",
         "showlegend": false,
         "type": "scatter",
         "x": [
          0.010000000000000009,
          -0.020000000000000018,
          0.08000000000000002,
          0.010000000000000009,
          0.020000000000000018,
          0.010000000000000009,
          0.003999999999999948,
          -0.010000000000000009,
          0.06,
          0,
          0.040000000000000036
         ],
         "xaxis": "x",
         "y": [
          0,
          -0.009999999999999953,
          0.09999999999999998,
          -0.009999999999999953,
          0.019999999999999962,
          0.019999999999999962,
          0.010000000000000009,
          0,
          0.050000000000000044,
          -0.010000000000000009,
          0.030000000000000027
         ],
         "yaxis": "y"
        },
        {
         "hovertemplate": "<b>OLS trendline</b><br>Spread_JBDT = 1.02194 * Spread_RFK + -0.000770531<br>R<sup>2</sup>=0.860430<br><br>Spread_RFK=%{x}<br>Spread_JBDT=%{y} <b>(trend)</b><extra></extra>",
         "legendgroup": "",
         "marker": {
          "color": "#636efa",
          "symbol": "circle"
         },
         "mode": "lines",
         "name": "",
         "showlegend": false,
         "type": "scatter",
         "x": [
          -0.020000000000000018,
          -0.010000000000000009,
          0,
          0.003999999999999948,
          0.010000000000000009,
          0.010000000000000009,
          0.010000000000000009,
          0.020000000000000018,
          0.040000000000000036,
          0.06,
          0.08000000000000002
         ],
         "xaxis": "x",
         "y": [
          -0.02120933977455714,
          -0.010989935587761651,
          -0.0007705314009661598,
          0.00331723027375198,
          0.009448872785829331,
          0.009448872785829331,
          0.009448872785829331,
          0.019668276972624823,
          0.04010708534621581,
          0.06054589371980673,
          0.08098470209339771
         ],
         "yaxis": "y"
        }
       ],
       "layout": {
        "legend": {
         "tracegroupgap": 0
        },
        "template": {
         "data": {
          "bar": [
           {
            "error_x": {
             "color": "#2a3f5f"
            },
            "error_y": {
             "color": "#2a3f5f"
            },
            "marker": {
             "line": {
              "color": "#E5ECF6",
              "width": 0.5
             },
             "pattern": {
              "fillmode": "overlay",
              "size": 10,
              "solidity": 0.2
             }
            },
            "type": "bar"
           }
          ],
          "barpolar": [
           {
            "marker": {
             "line": {
              "color": "#E5ECF6",
              "width": 0.5
             },
             "pattern": {
              "fillmode": "overlay",
              "size": 10,
              "solidity": 0.2
             }
            },
            "type": "barpolar"
           }
          ],
          "carpet": [
           {
            "aaxis": {
             "endlinecolor": "#2a3f5f",
             "gridcolor": "white",
             "linecolor": "white",
             "minorgridcolor": "white",
             "startlinecolor": "#2a3f5f"
            },
            "baxis": {
             "endlinecolor": "#2a3f5f",
             "gridcolor": "white",
             "linecolor": "white",
             "minorgridcolor": "white",
             "startlinecolor": "#2a3f5f"
            },
            "type": "carpet"
           }
          ],
          "choropleth": [
           {
            "colorbar": {
             "outlinewidth": 0,
             "ticks": ""
            },
            "type": "choropleth"
           }
          ],
          "contour": [
           {
            "colorbar": {
             "outlinewidth": 0,
             "ticks": ""
            },
            "colorscale": [
             [
              0,
              "#0d0887"
             ],
             [
              0.1111111111111111,
              "#46039f"
             ],
             [
              0.2222222222222222,
              "#7201a8"
             ],
             [
              0.3333333333333333,
              "#9c179e"
             ],
             [
              0.4444444444444444,
              "#bd3786"
             ],
             [
              0.5555555555555556,
              "#d8576b"
             ],
             [
              0.6666666666666666,
              "#ed7953"
             ],
             [
              0.7777777777777778,
              "#fb9f3a"
             ],
             [
              0.8888888888888888,
              "#fdca26"
             ],
             [
              1,
              "#f0f921"
             ]
            ],
            "type": "contour"
           }
          ],
          "contourcarpet": [
           {
            "colorbar": {
             "outlinewidth": 0,
             "ticks": ""
            },
            "type": "contourcarpet"
           }
          ],
          "heatmap": [
           {
            "colorbar": {
             "outlinewidth": 0,
             "ticks": ""
            },
            "colorscale": [
             [
              0,
              "#0d0887"
             ],
             [
              0.1111111111111111,
              "#46039f"
             ],
             [
              0.2222222222222222,
              "#7201a8"
             ],
             [
              0.3333333333333333,
              "#9c179e"
             ],
             [
              0.4444444444444444,
              "#bd3786"
             ],
             [
              0.5555555555555556,
              "#d8576b"
             ],
             [
              0.6666666666666666,
              "#ed7953"
             ],
             [
              0.7777777777777778,
              "#fb9f3a"
             ],
             [
              0.8888888888888888,
              "#fdca26"
             ],
             [
              1,
              "#f0f921"
             ]
            ],
            "type": "heatmap"
           }
          ],
          "heatmapgl": [
           {
            "colorbar": {
             "outlinewidth": 0,
             "ticks": ""
            },
            "colorscale": [
             [
              0,
              "#0d0887"
             ],
             [
              0.1111111111111111,
              "#46039f"
             ],
             [
              0.2222222222222222,
              "#7201a8"
             ],
             [
              0.3333333333333333,
              "#9c179e"
             ],
             [
              0.4444444444444444,
              "#bd3786"
             ],
             [
              0.5555555555555556,
              "#d8576b"
             ],
             [
              0.6666666666666666,
              "#ed7953"
             ],
             [
              0.7777777777777778,
              "#fb9f3a"
             ],
             [
              0.8888888888888888,
              "#fdca26"
             ],
             [
              1,
              "#f0f921"
             ]
            ],
            "type": "heatmapgl"
           }
          ],
          "histogram": [
           {
            "marker": {
             "pattern": {
              "fillmode": "overlay",
              "size": 10,
              "solidity": 0.2
             }
            },
            "type": "histogram"
           }
          ],
          "histogram2d": [
           {
            "colorbar": {
             "outlinewidth": 0,
             "ticks": ""
            },
            "colorscale": [
             [
              0,
              "#0d0887"
             ],
             [
              0.1111111111111111,
              "#46039f"
             ],
             [
              0.2222222222222222,
              "#7201a8"
             ],
             [
              0.3333333333333333,
              "#9c179e"
             ],
             [
              0.4444444444444444,
              "#bd3786"
             ],
             [
              0.5555555555555556,
              "#d8576b"
             ],
             [
              0.6666666666666666,
              "#ed7953"
             ],
             [
              0.7777777777777778,
              "#fb9f3a"
             ],
             [
              0.8888888888888888,
              "#fdca26"
             ],
             [
              1,
              "#f0f921"
             ]
            ],
            "type": "histogram2d"
           }
          ],
          "histogram2dcontour": [
           {
            "colorbar": {
             "outlinewidth": 0,
             "ticks": ""
            },
            "colorscale": [
             [
              0,
              "#0d0887"
             ],
             [
              0.1111111111111111,
              "#46039f"
             ],
             [
              0.2222222222222222,
              "#7201a8"
             ],
             [
              0.3333333333333333,
              "#9c179e"
             ],
             [
              0.4444444444444444,
              "#bd3786"
             ],
             [
              0.5555555555555556,
              "#d8576b"
             ],
             [
              0.6666666666666666,
              "#ed7953"
             ],
             [
              0.7777777777777778,
              "#fb9f3a"
             ],
             [
              0.8888888888888888,
              "#fdca26"
             ],
             [
              1,
              "#f0f921"
             ]
            ],
            "type": "histogram2dcontour"
           }
          ],
          "mesh3d": [
           {
            "colorbar": {
             "outlinewidth": 0,
             "ticks": ""
            },
            "type": "mesh3d"
           }
          ],
          "parcoords": [
           {
            "line": {
             "colorbar": {
              "outlinewidth": 0,
              "ticks": ""
             }
            },
            "type": "parcoords"
           }
          ],
          "pie": [
           {
            "automargin": true,
            "type": "pie"
           }
          ],
          "scatter": [
           {
            "fillpattern": {
             "fillmode": "overlay",
             "size": 10,
             "solidity": 0.2
            },
            "type": "scatter"
           }
          ],
          "scatter3d": [
           {
            "line": {
             "colorbar": {
              "outlinewidth": 0,
              "ticks": ""
             }
            },
            "marker": {
             "colorbar": {
              "outlinewidth": 0,
              "ticks": ""
             }
            },
            "type": "scatter3d"
           }
          ],
          "scattercarpet": [
           {
            "marker": {
             "colorbar": {
              "outlinewidth": 0,
              "ticks": ""
             }
            },
            "type": "scattercarpet"
           }
          ],
          "scattergeo": [
           {
            "marker": {
             "colorbar": {
              "outlinewidth": 0,
              "ticks": ""
             }
            },
            "type": "scattergeo"
           }
          ],
          "scattergl": [
           {
            "marker": {
             "colorbar": {
              "outlinewidth": 0,
              "ticks": ""
             }
            },
            "type": "scattergl"
           }
          ],
          "scattermapbox": [
           {
            "marker": {
             "colorbar": {
              "outlinewidth": 0,
              "ticks": ""
             }
            },
            "type": "scattermapbox"
           }
          ],
          "scatterpolar": [
           {
            "marker": {
             "colorbar": {
              "outlinewidth": 0,
              "ticks": ""
             }
            },
            "type": "scatterpolar"
           }
          ],
          "scatterpolargl": [
           {
            "marker": {
             "colorbar": {
              "outlinewidth": 0,
              "ticks": ""
             }
            },
            "type": "scatterpolargl"
           }
          ],
          "scatterternary": [
           {
            "marker": {
             "colorbar": {
              "outlinewidth": 0,
              "ticks": ""
             }
            },
            "type": "scatterternary"
           }
          ],
          "surface": [
           {
            "colorbar": {
             "outlinewidth": 0,
             "ticks": ""
            },
            "colorscale": [
             [
              0,
              "#0d0887"
             ],
             [
              0.1111111111111111,
              "#46039f"
             ],
             [
              0.2222222222222222,
              "#7201a8"
             ],
             [
              0.3333333333333333,
              "#9c179e"
             ],
             [
              0.4444444444444444,
              "#bd3786"
             ],
             [
              0.5555555555555556,
              "#d8576b"
             ],
             [
              0.6666666666666666,
              "#ed7953"
             ],
             [
              0.7777777777777778,
              "#fb9f3a"
             ],
             [
              0.8888888888888888,
              "#fdca26"
             ],
             [
              1,
              "#f0f921"
             ]
            ],
            "type": "surface"
           }
          ],
          "table": [
           {
            "cells": {
             "fill": {
              "color": "#EBF0F8"
             },
             "line": {
              "color": "white"
             }
            },
            "header": {
             "fill": {
              "color": "#C8D4E3"
             },
             "line": {
              "color": "white"
             }
            },
            "type": "table"
           }
          ]
         },
         "layout": {
          "annotationdefaults": {
           "arrowcolor": "#2a3f5f",
           "arrowhead": 0,
           "arrowwidth": 1
          },
          "autotypenumbers": "strict",
          "coloraxis": {
           "colorbar": {
            "outlinewidth": 0,
            "ticks": ""
           }
          },
          "colorscale": {
           "diverging": [
            [
             0,
             "#8e0152"
            ],
            [
             0.1,
             "#c51b7d"
            ],
            [
             0.2,
             "#de77ae"
            ],
            [
             0.3,
             "#f1b6da"
            ],
            [
             0.4,
             "#fde0ef"
            ],
            [
             0.5,
             "#f7f7f7"
            ],
            [
             0.6,
             "#e6f5d0"
            ],
            [
             0.7,
             "#b8e186"
            ],
            [
             0.8,
             "#7fbc41"
            ],
            [
             0.9,
             "#4d9221"
            ],
            [
             1,
             "#276419"
            ]
           ],
           "sequential": [
            [
             0,
             "#0d0887"
            ],
            [
             0.1111111111111111,
             "#46039f"
            ],
            [
             0.2222222222222222,
             "#7201a8"
            ],
            [
             0.3333333333333333,
             "#9c179e"
            ],
            [
             0.4444444444444444,
             "#bd3786"
            ],
            [
             0.5555555555555556,
             "#d8576b"
            ],
            [
             0.6666666666666666,
             "#ed7953"
            ],
            [
             0.7777777777777778,
             "#fb9f3a"
            ],
            [
             0.8888888888888888,
             "#fdca26"
            ],
            [
             1,
             "#f0f921"
            ]
           ],
           "sequentialminus": [
            [
             0,
             "#0d0887"
            ],
            [
             0.1111111111111111,
             "#46039f"
            ],
            [
             0.2222222222222222,
             "#7201a8"
            ],
            [
             0.3333333333333333,
             "#9c179e"
            ],
            [
             0.4444444444444444,
             "#bd3786"
            ],
            [
             0.5555555555555556,
             "#d8576b"
            ],
            [
             0.6666666666666666,
             "#ed7953"
            ],
            [
             0.7777777777777778,
             "#fb9f3a"
            ],
            [
             0.8888888888888888,
             "#fdca26"
            ],
            [
             1,
             "#f0f921"
            ]
           ]
          },
          "colorway": [
           "#636efa",
           "#EF553B",
           "#00cc96",
           "#ab63fa",
           "#FFA15A",
           "#19d3f3",
           "#FF6692",
           "#B6E880",
           "#FF97FF",
           "#FECB52"
          ],
          "font": {
           "color": "#2a3f5f"
          },
          "geo": {
           "bgcolor": "white",
           "lakecolor": "white",
           "landcolor": "#E5ECF6",
           "showlakes": true,
           "showland": true,
           "subunitcolor": "white"
          },
          "hoverlabel": {
           "align": "left"
          },
          "hovermode": "closest",
          "mapbox": {
           "style": "light"
          },
          "paper_bgcolor": "white",
          "plot_bgcolor": "#E5ECF6",
          "polar": {
           "angularaxis": {
            "gridcolor": "white",
            "linecolor": "white",
            "ticks": ""
           },
           "bgcolor": "#E5ECF6",
           "radialaxis": {
            "gridcolor": "white",
            "linecolor": "white",
            "ticks": ""
           }
          },
          "scene": {
           "xaxis": {
            "backgroundcolor": "#E5ECF6",
            "gridcolor": "white",
            "gridwidth": 2,
            "linecolor": "white",
            "showbackground": true,
            "ticks": "",
            "zerolinecolor": "white"
           },
           "yaxis": {
            "backgroundcolor": "#E5ECF6",
            "gridcolor": "white",
            "gridwidth": 2,
            "linecolor": "white",
            "showbackground": true,
            "ticks": "",
            "zerolinecolor": "white"
           },
           "zaxis": {
            "backgroundcolor": "#E5ECF6",
            "gridcolor": "white",
            "gridwidth": 2,
            "linecolor": "white",
            "showbackground": true,
            "ticks": "",
            "zerolinecolor": "white"
           }
          },
          "shapedefaults": {
           "line": {
            "color": "#2a3f5f"
           }
          },
          "ternary": {
           "aaxis": {
            "gridcolor": "white",
            "linecolor": "white",
            "ticks": ""
           },
           "baxis": {
            "gridcolor": "white",
            "linecolor": "white",
            "ticks": ""
           },
           "bgcolor": "#E5ECF6",
           "caxis": {
            "gridcolor": "white",
            "linecolor": "white",
            "ticks": ""
           }
          },
          "title": {
           "x": 0.05
          },
          "xaxis": {
           "automargin": true,
           "gridcolor": "white",
           "linecolor": "white",
           "ticks": "",
           "title": {
            "standoff": 15
           },
           "zerolinecolor": "white",
           "zerolinewidth": 2
          },
          "yaxis": {
           "automargin": true,
           "gridcolor": "white",
           "linecolor": "white",
           "ticks": "",
           "title": {
            "standoff": 15
           },
           "zerolinecolor": "white",
           "zerolinewidth": 2
          }
         }
        },
        "title": {
         "text": "Spread Comparison"
        },
        "xaxis": {
         "anchor": "y",
         "domain": [
          0,
          1
         ],
         "title": {
          "text": "Spread_RFK"
         }
        },
        "yaxis": {
         "anchor": "x",
         "domain": [
          0,
          1
         ],
         "title": {
          "text": "Spread_JBDT"
         }
        }
       }
      }
     },
     "metadata": {},
     "output_type": "display_data"
    }
   ],
   "source": [
    "#Make the same plot as above but much better looking \n",
    "\n",
    "fig = px.scatter(merged, x=\"Spread_RFK\", y=\"Spread_JBDT\", trendline=\"ols\", title=\"Spread Comparison\")\n",
    "fig.show()\n"
   ]
  },
  {
   "cell_type": "markdown",
   "metadata": {},
   "source": [
    "## Interpreting the Spread Comparison\n",
    "\n",
    "We see that there is a linear relationship between how Joe Biden and Trump perform when RFK Jr is present on the ballot. This intuitively makes sense; if Trump is crushing Biden, he will still be performing well even if RFK Jr is present on the ballot. The reverse is also true.\n",
    "\n",
    "What is interesting is that the slope of this line is less than 1; it is much less than 1. This implies that regardless of who is winning the spread, the poll results are closer when RFK Jr is on the ballot. \n",
    "\n",
    "Why is this the case?"
   ]
  },
  {
   "cell_type": "code",
   "execution_count": 8,
   "metadata": {},
   "outputs": [
    {
     "data": {
      "image/png": "[encoded data removed]",
      "text/plain": [
       "<Figure size 1000x600 with 1 Axes>"
      ]
     },
     "metadata": {},
     "output_type": "display_data"
    }
   ],
   "source": [
    "#Just scatter the RFK percentage with the spread\n",
    "\n",
    "plt.figure(figsize=(10,6))\n",
    "plt.scatter(merged[\"Robert F.Kennedy Jr.Independent\"], merged[\"Spread_RFK\"])\n",
    "plt.title(\"Trump-Biden Spread vs. RFK Percentage\")\n",
    "# add trendline\n",
    "\n",
    "z = np.polyfit(merged[\"Robert F.Kennedy Jr.Independent\"], merged[\"Spread_RFK\"], 1)\n",
    "p = np.poly1d(z)\n",
    "plt.plot(merged[\"Robert F.Kennedy Jr.Independent\"],p(merged[\"Robert F.Kennedy Jr.Independent\"]), color=\"red\")\n",
    "\n",
    "plt.xlabel(\"RFK Percentage\")\n",
    "plt.ylabel(\"Spread\")\n",
    "plt.show()"
   ]
  },
  {
   "cell_type": "code",
   "execution_count": 9,
   "metadata": {},
   "outputs": [
    {
     "data": {
      "application/vnd.plotly.v1+json": {
       "config": {
        "plotlyServerURL": "https://plot.ly"
       },
       "data": [
        {
         "hovertemplate": "Robert F.Kennedy Jr.Independent=%{x}<br>Spread_RFK=%{y}<extra></extra>",
         "legendgroup": "",
         "marker": {
          "color": "#636efa",
          "symbol": "circle"
         },
         "mode": "markers",
         "name": "",
         "orientation": "v",
         "showlegend": false,
         "type": "scatter",
         "x": [
          0.18,
          0.22,
          0.16,
          0.09,
          0.2,
          0.21,
          0.113,
          0.14,
          0.22,
          0.16,
          0.14
         ],
         "xaxis": "x",
         "y": [
          0.010000000000000009,
          -0.020000000000000018,
          0.08000000000000002,
          0.010000000000000009,
          0.020000000000000018,
          0.010000000000000009,
          0.003999999999999948,
          -0.010000000000000009,
          0.06,
          0,
          0.040000000000000036
         ],
         "yaxis": "y"
        },
        {
         "hovertemplate": "<b>OLS trendline</b><br>Spread_RFK = 0.0553311 * Robert F.Kennedy Jr.Independent + 0.00932528<br>R<sup>2</sup>=0.006482<br><br>Robert F.Kennedy Jr.Independent=%{x}<br>Spread_RFK=%{y} <b>(trend)</b><extra></extra>",
         "legendgroup": "",
         "marker": {
          "color": "#636efa",
          "symbol": "circle"
         },
         "mode": "lines",
         "name": "",
         "showlegend": false,
         "type": "scatter",
         "x": [
          0.09,
          0.113,
          0.14,
          0.14,
          0.16,
          0.16,
          0.18,
          0.2,
          0.21,
          0.22,
          0.22
         ],
         "xaxis": "x",
         "y": [
          0.01430508152303086,
          0.015577696439606421,
          0.01707163568949947,
          0.01707163568949947,
          0.018178257356086913,
          0.018178257356086913,
          0.019284879022674357,
          0.0203915006892618,
          0.02094481152255552,
          0.021498122355849244,
          0.021498122355849244
         ],
         "yaxis": "y"
        }
       ],
       "layout": {
        "legend": {
         "tracegroupgap": 0
        },
        "template": {
         "data": {
          "bar": [
           {
            "error_x": {
             "color": "#2a3f5f"
            },
            "error_y": {
             "color": "#2a3f5f"
            },
            "marker": {
             "line": {
              "color": "#E5ECF6",
              "width": 0.5
             },
             "pattern": {
              "fillmode": "overlay",
              "size": 10,
              "solidity": 0.2
             }
            },
            "type": "bar"
           }
          ],
          "barpolar": [
           {
            "marker": {
             "line": {
              "color": "#E5ECF6",
              "width": 0.5
             },
             "pattern": {
              "fillmode": "overlay",
              "size": 10,
              "solidity": 0.2
             }
            },
            "type": "barpolar"
           }
          ],
          "carpet": [
           {
            "aaxis": {
             "endlinecolor": "#2a3f5f",
             "gridcolor": "white",
             "linecolor": "white",
             "minorgridcolor": "white",
             "startlinecolor": "#2a3f5f"
            },
            "baxis": {
             "endlinecolor": "#2a3f5f",
             "gridcolor": "white",
             "linecolor": "white",
             "minorgridcolor": "white",
             "startlinecolor": "#2a3f5f"
            },
            "type": "carpet"
           }
          ],
          "choropleth": [
           {
            "colorbar": {
             "outlinewidth": 0,
             "ticks": ""
            },
            "type": "choropleth"
           }
          ],
          "contour": [
           {
            "colorbar": {
             "outlinewidth": 0,
             "ticks": ""
            },
            "colorscale": [
             [
              0,
              "#0d0887"
             ],
             [
              0.1111111111111111,
              "#46039f"
             ],
             [
              0.2222222222222222,
              "#7201a8"
             ],
             [
              0.3333333333333333,
              "#9c179e"
             ],
             [
              0.4444444444444444,
              "#bd3786"
             ],
             [
              0.5555555555555556,
              "#d8576b"
             ],
             [
              0.6666666666666666,
              "#ed7953"
             ],
             [
              0.7777777777777778,
              "#fb9f3a"
             ],
             [
              0.8888888888888888,
              "#fdca26"
             ],
             [
              1,
              "#f0f921"
             ]
            ],
            "type": "contour"
           }
          ],
          "contourcarpet": [
           {
            "colorbar": {
             "outlinewidth": 0,
             "ticks": ""
            },
            "type": "contourcarpet"
           }
          ],
          "heatmap": [
           {
            "colorbar": {
             "outlinewidth": 0,
             "ticks": ""
            },
            "colorscale": [
             [
              0,
              "#0d0887"
             ],
             [
              0.1111111111111111,
              "#46039f"
             ],
             [
              0.2222222222222222,
              "#7201a8"
             ],
             [
              0.3333333333333333,
              "#9c179e"
             ],
             [
              0.4444444444444444,
              "#bd3786"
             ],
             [
              0.5555555555555556,
              "#d8576b"
             ],
             [
              0.6666666666666666,
              "#ed7953"
             ],
             [
              0.7777777777777778,
              "#fb9f3a"
             ],
             [
              0.8888888888888888,
              "#fdca26"
             ],
             [
              1,
              "#f0f921"
             ]
            ],
            "type": "heatmap"
           }
          ],
          "heatmapgl": [
           {
            "colorbar": {
             "outlinewidth": 0,
             "ticks": ""
            },
            "colorscale": [
             [
              0,
              "#0d0887"
             ],
             [
              0.1111111111111111,
              "#46039f"
             ],
             [
              0.2222222222222222,
              "#7201a8"
             ],
             [
              0.3333333333333333,
              "#9c179e"
             ],
             [
              0.4444444444444444,
              "#bd3786"
             ],
             [
              0.5555555555555556,
              "#d8576b"
             ],
             [
              0.6666666666666666,
              "#ed7953"
             ],
             [
              0.7777777777777778,
              "#fb9f3a"
             ],
             [
              0.8888888888888888,
              "#fdca26"
             ],
             [
              1,
              "#f0f921"
             ]
            ],
            "type": "heatmapgl"
           }
          ],
          "histogram": [
           {
            "marker": {
             "pattern": {
              "fillmode": "overlay",
              "size": 10,
              "solidity": 0.2
             }
            },
            "type": "histogram"
           }
          ],
          "histogram2d": [
           {
            "colorbar": {
             "outlinewidth": 0,
             "ticks": ""
            },
            "colorscale": [
             [
              0,
              "#0d0887"
             ],
             [
              0.1111111111111111,
              "#46039f"
             ],
             [
              0.2222222222222222,
              "#7201a8"
             ],
             [
              0.3333333333333333,
              "#9c179e"
             ],
             [
              0.4444444444444444,
              "#bd3786"
             ],
             [
              0.5555555555555556,
              "#d8576b"
             ],
             [
              0.6666666666666666,
              "#ed7953"
             ],
             [
              0.7777777777777778,
              "#fb9f3a"
             ],
             [
              0.8888888888888888,
              "#fdca26"
             ],
             [
              1,
              "#f0f921"
             ]
            ],
            "type": "histogram2d"
           }
          ],
          "histogram2dcontour": [
           {
            "colorbar": {
             "outlinewidth": 0,
             "ticks": ""
            },
            "colorscale": [
             [
              0,
              "#0d0887"
             ],
             [
              0.1111111111111111,
              "#46039f"
             ],
             [
              0.2222222222222222,
              "#7201a8"
             ],
             [
              0.3333333333333333,
              "#9c179e"
             ],
             [
              0.4444444444444444,
              "#bd3786"
             ],
             [
              0.5555555555555556,
              "#d8576b"
             ],
             [
              0.6666666666666666,
              "#ed7953"
             ],
             [
              0.7777777777777778,
              "#fb9f3a"
             ],
             [
              0.8888888888888888,
              "#fdca26"
             ],
             [
              1,
              "#f0f921"
             ]
            ],
            "type": "histogram2dcontour"
           }
          ],
          "mesh3d": [
           {
            "colorbar": {
             "outlinewidth": 0,
             "ticks": ""
            },
            "type": "mesh3d"
           }
          ],
          "parcoords": [
           {
            "line": {
             "colorbar": {
              "outlinewidth": 0,
              "ticks": ""
             }
            },
            "type": "parcoords"
           }
          ],
          "pie": [
           {
            "automargin": true,
            "type": "pie"
           }
          ],
          "scatter": [
           {
            "fillpattern": {
             "fillmode": "overlay",
             "size": 10,
             "solidity": 0.2
            },
            "type": "scatter"
           }
          ],
          "scatter3d": [
           {
            "line": {
             "colorbar": {
              "outlinewidth": 0,
              "ticks": ""
             }
            },
            "marker": {
             "colorbar": {
              "outlinewidth": 0,
              "ticks": ""
             }
            },
            "type": "scatter3d"
           }
          ],
          "scattercarpet": [
           {
            "marker": {
             "colorbar": {
              "outlinewidth": 0,
              "ticks": ""
             }
            },
            "type": "scattercarpet"
           }
          ],
          "scattergeo": [
           {
            "marker": {
             "colorbar": {
              "outlinewidth": 0,
              "ticks": ""
             }
            },
            "type": "scattergeo"
           }
          ],
          "scattergl": [
           {
            "marker": {
             "colorbar": {
              "outlinewidth": 0,
              "ticks": ""
             }
            },
            "type": "scattergl"
           }
          ],
          "scattermapbox": [
           {
            "marker": {
             "colorbar": {
              "outlinewidth": 0,
              "ticks": ""
             }
            },
            "type": "scattermapbox"
           }
          ],
          "scatterpolar": [
           {
            "marker": {
             "colorbar": {
              "outlinewidth": 0,
              "ticks": ""
             }
            },
            "type": "scatterpolar"
           }
          ],
          "scatterpolargl": [
           {
            "marker": {
             "colorbar": {
              "outlinewidth": 0,
              "ticks": ""
             }
            },
            "type": "scatterpolargl"
           }
          ],
          "scatterternary": [
           {
            "marker": {
             "colorbar": {
              "outlinewidth": 0,
              "ticks": ""
             }
            },
            "type": "scatterternary"
           }
          ],
          "surface": [
           {
            "colorbar": {
             "outlinewidth": 0,
             "ticks": ""
            },
            "colorscale": [
             [
              0,
              "#0d0887"
             ],
             [
              0.1111111111111111,
              "#46039f"
             ],
             [
              0.2222222222222222,
              "#7201a8"
             ],
             [
              0.3333333333333333,
              "#9c179e"
             ],
             [
              0.4444444444444444,
              "#bd3786"
             ],
             [
              0.5555555555555556,
              "#d8576b"
             ],
             [
              0.6666666666666666,
              "#ed7953"
             ],
             [
              0.7777777777777778,
              "#fb9f3a"
             ],
             [
              0.8888888888888888,
              "#fdca26"
             ],
             [
              1,
              "#f0f921"
             ]
            ],
            "type": "surface"
           }
          ],
          "table": [
           {
            "cells": {
             "fill": {
              "color": "#EBF0F8"
             },
             "line": {
              "color": "white"
             }
            },
            "header": {
             "fill": {
              "color": "#C8D4E3"
             },
             "line": {
              "color": "white"
             }
            },
            "type": "table"
           }
          ]
         },
         "layout": {
          "annotationdefaults": {
           "arrowcolor": "#2a3f5f",
           "arrowhead": 0,
           "arrowwidth": 1
          },
          "autotypenumbers": "strict",
          "coloraxis": {
           "colorbar": {
            "outlinewidth": 0,
            "ticks": ""
           }
          },
          "colorscale": {
           "diverging": [
            [
             0,
             "#8e0152"
            ],
            [
             0.1,
             "#c51b7d"
            ],
            [
             0.2,
             "#de77ae"
            ],
            [
             0.3,
             "#f1b6da"
            ],
            [
             0.4,
             "#fde0ef"
            ],
            [
             0.5,
             "#f7f7f7"
            ],
            [
             0.6,
             "#e6f5d0"
            ],
            [
             0.7,
             "#b8e186"
            ],
            [
             0.8,
             "#7fbc41"
            ],
            [
             0.9,
             "#4d9221"
            ],
            [
             1,
             "#276419"
            ]
           ],
           "sequential": [
            [
             0,
             "#0d0887"
            ],
            [
             0.1111111111111111,
             "#46039f"
            ],
            [
             0.2222222222222222,
             "#7201a8"
            ],
            [
             0.3333333333333333,
             "#9c179e"
            ],
            [
             0.4444444444444444,
             "#bd3786"
            ],
            [
             0.5555555555555556,
             "#d8576b"
            ],
            [
             0.6666666666666666,
             "#ed7953"
            ],
            [
             0.7777777777777778,
             "#fb9f3a"
            ],
            [
             0.8888888888888888,
             "#fdca26"
            ],
            [
             1,
             "#f0f921"
            ]
           ],
           "sequentialminus": [
            [
             0,
             "#0d0887"
            ],
            [
             0.1111111111111111,
             "#46039f"
            ],
            [
             0.2222222222222222,
             "#7201a8"
            ],
            [
             0.3333333333333333,
             "#9c179e"
            ],
            [
             0.4444444444444444,
             "#bd3786"
            ],
            [
             0.5555555555555556,
             "#d8576b"
            ],
            [
             0.6666666666666666,
             "#ed7953"
            ],
            [
             0.7777777777777778,
             "#fb9f3a"
            ],
            [
             0.8888888888888888,
             "#fdca26"
            ],
            [
             1,
             "#f0f921"
            ]
           ]
          },
          "colorway": [
           "#636efa",
           "#EF553B",
           "#00cc96",
           "#ab63fa",
           "#FFA15A",
           "#19d3f3",
           "#FF6692",
           "#B6E880",
           "#FF97FF",
           "#FECB52"
          ],
          "font": {
           "color": "#2a3f5f"
          },
          "geo": {
           "bgcolor": "white",
           "lakecolor": "white",
           "landcolor": "#E5ECF6",
           "showlakes": true,
           "showland": true,
           "subunitcolor": "white"
          },
          "hoverlabel": {
           "align": "left"
          },
          "hovermode": "closest",
          "mapbox": {
           "style": "light"
          },
          "paper_bgcolor": "white",
          "plot_bgcolor": "#E5ECF6",
          "polar": {
           "angularaxis": {
            "gridcolor": "white",
            "linecolor": "white",
            "ticks": ""
           },
           "bgcolor": "#E5ECF6",
           "radialaxis": {
            "gridcolor": "white",
            "linecolor": "white",
            "ticks": ""
           }
          },
          "scene": {
           "xaxis": {
            "backgroundcolor": "#E5ECF6",
            "gridcolor": "white",
            "gridwidth": 2,
            "linecolor": "white",
            "showbackground": true,
            "ticks": "",
            "zerolinecolor": "white"
           },
           "yaxis": {
            "backgroundcolor": "#E5ECF6",
            "gridcolor": "white",
            "gridwidth": 2,
            "linecolor": "white",
            "showbackground": true,
            "ticks": "",
            "zerolinecolor": "white"
           },
           "zaxis": {
            "backgroundcolor": "#E5ECF6",
            "gridcolor": "white",
            "gridwidth": 2,
            "linecolor": "white",
            "showbackground": true,
            "ticks": "",
            "zerolinecolor": "white"
           }
          },
          "shapedefaults": {
           "line": {
            "color": "#2a3f5f"
           }
          },
          "ternary": {
           "aaxis": {
            "gridcolor": "white",
            "linecolor": "white",
            "ticks": ""
           },
           "baxis": {
            "gridcolor": "white",
            "linecolor": "white",
            "ticks": ""
           },
           "bgcolor": "#E5ECF6",
           "caxis": {
            "gridcolor": "white",
            "linecolor": "white",
            "ticks": ""
           }
          },
          "title": {
           "x": 0.05
          },
          "xaxis": {
           "automargin": true,
           "gridcolor": "white",
           "linecolor": "white",
           "ticks": "",
           "title": {
            "standoff": 15
           },
           "zerolinecolor": "white",
           "zerolinewidth": 2
          },
          "yaxis": {
           "automargin": true,
           "gridcolor": "white",
           "linecolor": "white",
           "ticks": "",
           "title": {
            "standoff": 15
           },
           "zerolinecolor": "white",
           "zerolinewidth": 2
          }
         }
        },
        "title": {
         "text": "Trump-Biden Spread vs. RFK Percentage"
        },
        "xaxis": {
         "anchor": "y",
         "domain": [
          0,
          1
         ],
         "title": {
          "text": "RFK Percentage"
         }
        },
        "yaxis": {
         "anchor": "x",
         "domain": [
          0,
          1
         ],
         "title": {
          "text": "Trump-Biden Spread"
         }
        }
       }
      }
     },
     "metadata": {},
     "output_type": "display_data"
    }
   ],
   "source": [
    "# Make the same scatter plot but much better looking\n",
    "\n",
    "fig = px.scatter(merged, x=\"Robert F.Kennedy Jr.Independent\", y=\"Spread_RFK\", trendline=\"ols\", title=\"Trump-Biden Spread vs. RFK Percentage\")\n",
    "fig.update_layout(\n",
    "    title=\"Trump-Biden Spread vs. RFK Percentage\",\n",
    "    xaxis_title=\"RFK Percentage\",\n",
    "    yaxis_title=\"Trump-Biden Spread\",\n",
    ")\n",
    "fig.show()"
   ]
  },
  {
   "cell_type": "markdown",
   "metadata": {},
   "source": [
    "## Interpreting RFK's Performance Against The Spread\n",
    "\n",
    "As RFK does better, there is a slight correlation towards Trump. It is unclear if this is actually evidence that RFK jr improves Trump's winning odds, or more of a reflection that Biden is losing popularity in the polls. \n",
    "\n",
    "The slope of the line is only 0.22. Even when RFK JR is performing exceptionally well, neither candidate sees a strong gain. \n",
    "\n",
    "It has been reported that RFK JR pulls relatively equal from both parties, which this line somewhat substantiates. \n",
    "\n",
    "\n",
    "## How does RFK Pull Proportionally from Each Candidate?"
   ]
  },
  {
   "cell_type": "code",
   "execution_count": 10,
   "metadata": {},
   "outputs": [
    {
     "data": {
      "text/html": [
       "<div>\n",
       "<style scoped>\n",
       "    .dataframe tbody tr th:only-of-type {\n",
       "        vertical-align: middle;\n",
       "    }\n",
       "\n",
       "    .dataframe tbody tr th {\n",
       "        vertical-align: top;\n",
       "    }\n",
       "\n",
       "    .dataframe thead th {\n",
       "        text-align: right;\n",
       "    }\n",
       "</style>\n",
       "<table border=\"1\" class=\"dataframe\">\n",
       "  <thead>\n",
       "    <tr style=\"text-align: right;\">\n",
       "      <th></th>\n",
       "      <th>Poll source</th>\n",
       "      <th>Date</th>\n",
       "      <th>Samplesize[b]</th>\n",
       "      <th>Marginof error</th>\n",
       "      <th>JoeBidenDemocratic</th>\n",
       "      <th>DonaldTrumpRepublican</th>\n",
       "      <th>Robert F.Kennedy Jr.Independent</th>\n",
       "      <th>CornelWestIndependent</th>\n",
       "      <th>Other/Undecided</th>\n",
       "      <th>Year</th>\n",
       "      <th>Month</th>\n",
       "      <th>Day</th>\n",
       "      <th>Spread</th>\n",
       "    </tr>\n",
       "    <tr>\n",
       "      <th>New Date</th>\n",
       "      <th></th>\n",
       "      <th></th>\n",
       "      <th></th>\n",
       "      <th></th>\n",
       "      <th></th>\n",
       "      <th></th>\n",
       "      <th></th>\n",
       "      <th></th>\n",
       "      <th></th>\n",
       "      <th></th>\n",
       "      <th></th>\n",
       "      <th></th>\n",
       "      <th></th>\n",
       "    </tr>\n",
       "  </thead>\n",
       "  <tbody>\n",
       "    <tr>\n",
       "      <th>2023-11-29</th>\n",
       "      <td>SSRS/CNN</td>\n",
       "      <td>November 29 – December 6, 2023</td>\n",
       "      <td>1,197 (RV)</td>\n",
       "      <td>± 3.4%</td>\n",
       "      <td>0.310</td>\n",
       "      <td>0.390</td>\n",
       "      <td>0.200</td>\n",
       "      <td>0.060</td>\n",
       "      <td>4.000000e-02</td>\n",
       "      <td>2023</td>\n",
       "      <td>November</td>\n",
       "      <td>29</td>\n",
       "      <td>0.080</td>\n",
       "    </tr>\n",
       "    <tr>\n",
       "      <th>2023-11-22</th>\n",
       "      <td>HarrisX</td>\n",
       "      <td>November 22–28, 2023</td>\n",
       "      <td>4,003 (RV)</td>\n",
       "      <td>–</td>\n",
       "      <td>0.330</td>\n",
       "      <td>0.410</td>\n",
       "      <td>0.130</td>\n",
       "      <td>0.020</td>\n",
       "      <td>1.100000e-01</td>\n",
       "      <td>2023</td>\n",
       "      <td>November</td>\n",
       "      <td>22</td>\n",
       "      <td>0.080</td>\n",
       "    </tr>\n",
       "    <tr>\n",
       "      <th>2023-11-15</th>\n",
       "      <td>HarrisX/The Messenger</td>\n",
       "      <td>November 15–19, 2023</td>\n",
       "      <td>3,017 (LV)</td>\n",
       "      <td>± 1.8%</td>\n",
       "      <td>0.330</td>\n",
       "      <td>0.400</td>\n",
       "      <td>0.140</td>\n",
       "      <td>0.020</td>\n",
       "      <td>1.100000e-01</td>\n",
       "      <td>2023</td>\n",
       "      <td>November</td>\n",
       "      <td>15</td>\n",
       "      <td>0.070</td>\n",
       "    </tr>\n",
       "    <tr>\n",
       "      <th>2023-10-30</th>\n",
       "      <td>Big Village</td>\n",
       "      <td>October 30 – November 5, 2023</td>\n",
       "      <td>1,497 (LV)</td>\n",
       "      <td>± 2.2%</td>\n",
       "      <td>0.371</td>\n",
       "      <td>0.401</td>\n",
       "      <td>0.124</td>\n",
       "      <td>0.017</td>\n",
       "      <td>8.700000e-02</td>\n",
       "      <td>2023</td>\n",
       "      <td>October</td>\n",
       "      <td>30</td>\n",
       "      <td>0.030</td>\n",
       "    </tr>\n",
       "    <tr>\n",
       "      <th>2023-10-27</th>\n",
       "      <td>CNN/SSRS</td>\n",
       "      <td>October 27 – November 2, 2023</td>\n",
       "      <td>1,271 (RV)</td>\n",
       "      <td>± 3.1%</td>\n",
       "      <td>0.350</td>\n",
       "      <td>0.410</td>\n",
       "      <td>0.160</td>\n",
       "      <td>0.040</td>\n",
       "      <td>4.000000e-02</td>\n",
       "      <td>2023</td>\n",
       "      <td>October</td>\n",
       "      <td>27</td>\n",
       "      <td>0.060</td>\n",
       "    </tr>\n",
       "    <tr>\n",
       "      <th>2023-10-30</th>\n",
       "      <td>HarrisX/The Messenger</td>\n",
       "      <td>October 30 – November 1, 2023</td>\n",
       "      <td>2,021 (RV)</td>\n",
       "      <td>± 2.2%</td>\n",
       "      <td>0.360</td>\n",
       "      <td>0.410</td>\n",
       "      <td>0.110</td>\n",
       "      <td>0.020</td>\n",
       "      <td>1.000000e-01</td>\n",
       "      <td>2023</td>\n",
       "      <td>October</td>\n",
       "      <td>30</td>\n",
       "      <td>0.050</td>\n",
       "    </tr>\n",
       "    <tr>\n",
       "      <th>2023-10-26</th>\n",
       "      <td>Quinnipiac University</td>\n",
       "      <td>October 26–30, 2023</td>\n",
       "      <td>1,610 (RV)</td>\n",
       "      <td>± 2.4%</td>\n",
       "      <td>0.360</td>\n",
       "      <td>0.350</td>\n",
       "      <td>0.190</td>\n",
       "      <td>0.060</td>\n",
       "      <td>4.000000e-02</td>\n",
       "      <td>2023</td>\n",
       "      <td>October</td>\n",
       "      <td>26</td>\n",
       "      <td>-0.010</td>\n",
       "    </tr>\n",
       "    <tr>\n",
       "      <th>2023-10-23</th>\n",
       "      <td>McLaughlin and Associates (R)</td>\n",
       "      <td>October 23–26, 2023</td>\n",
       "      <td>449 (LV)</td>\n",
       "      <td>± 3.1%</td>\n",
       "      <td>0.350</td>\n",
       "      <td>0.380</td>\n",
       "      <td>0.120</td>\n",
       "      <td>0.020</td>\n",
       "      <td>1.300000e-01</td>\n",
       "      <td>2023</td>\n",
       "      <td>October</td>\n",
       "      <td>23</td>\n",
       "      <td>0.030</td>\n",
       "    </tr>\n",
       "    <tr>\n",
       "      <th>2023-10-16</th>\n",
       "      <td>Harris X/The Messenger</td>\n",
       "      <td>October 16–23, 2023</td>\n",
       "      <td>3,029 (RV)</td>\n",
       "      <td>± 1.8%</td>\n",
       "      <td>0.350</td>\n",
       "      <td>0.380</td>\n",
       "      <td>0.130</td>\n",
       "      <td>0.020</td>\n",
       "      <td>1.200000e-01</td>\n",
       "      <td>2023</td>\n",
       "      <td>October</td>\n",
       "      <td>16</td>\n",
       "      <td>0.030</td>\n",
       "    </tr>\n",
       "    <tr>\n",
       "      <th>2023-10-17</th>\n",
       "      <td>USA Today/Suffolk University</td>\n",
       "      <td>October 17–20, 2023</td>\n",
       "      <td>1,000 (RV)</td>\n",
       "      <td>±3.1%</td>\n",
       "      <td>0.370</td>\n",
       "      <td>0.370</td>\n",
       "      <td>0.130</td>\n",
       "      <td>0.040</td>\n",
       "      <td>9.000000e-02</td>\n",
       "      <td>2023</td>\n",
       "      <td>October</td>\n",
       "      <td>17</td>\n",
       "      <td>0.000</td>\n",
       "    </tr>\n",
       "    <tr>\n",
       "      <th>2023-10-18</th>\n",
       "      <td>Harvard/Harris X</td>\n",
       "      <td>October 18–19, 2023</td>\n",
       "      <td>2,116 (RV)</td>\n",
       "      <td>±2%</td>\n",
       "      <td>0.310</td>\n",
       "      <td>0.390</td>\n",
       "      <td>0.180</td>\n",
       "      <td>0.030</td>\n",
       "      <td>9.000000e-02</td>\n",
       "      <td>2023</td>\n",
       "      <td>October</td>\n",
       "      <td>18</td>\n",
       "      <td>0.080</td>\n",
       "    </tr>\n",
       "    <tr>\n",
       "      <th>2023-10-13</th>\n",
       "      <td>Zogby Analytics</td>\n",
       "      <td>October 13–15, 2023</td>\n",
       "      <td>869 (LV)</td>\n",
       "      <td>±3.3%</td>\n",
       "      <td>0.412</td>\n",
       "      <td>0.426</td>\n",
       "      <td>0.125</td>\n",
       "      <td>0.037</td>\n",
       "      <td>-2.775558e-17</td>\n",
       "      <td>2023</td>\n",
       "      <td>October</td>\n",
       "      <td>13</td>\n",
       "      <td>0.014</td>\n",
       "    </tr>\n",
       "  </tbody>\n",
       "</table>\n",
       "</div>"
      ],
      "text/plain": [
       "                              Poll source                            Date  \\\n",
       "New Date                                                                    \n",
       "2023-11-29                       SSRS/CNN  November 29 – December 6, 2023   \n",
       "2023-11-22                        HarrisX            November 22–28, 2023   \n",
       "2023-11-15          HarrisX/The Messenger            November 15–19, 2023   \n",
       "2023-10-30                    Big Village   October 30 – November 5, 2023   \n",
       "2023-10-27                       CNN/SSRS   October 27 – November 2, 2023   \n",
       "2023-10-30          HarrisX/The Messenger   October 30 – November 1, 2023   \n",
       "2023-10-26          Quinnipiac University             October 26–30, 2023   \n",
       "2023-10-23  McLaughlin and Associates (R)             October 23–26, 2023   \n",
       "2023-10-16         Harris X/The Messenger             October 16–23, 2023   \n",
       "2023-10-17   USA Today/Suffolk University             October 17–20, 2023   \n",
       "2023-10-18               Harvard/Harris X             October 18–19, 2023   \n",
       "2023-10-13                Zogby Analytics             October 13–15, 2023   \n",
       "\n",
       "           Samplesize[b] Marginof error  JoeBidenDemocratic  \\\n",
       "New Date                                                      \n",
       "2023-11-29    1,197 (RV)         ± 3.4%               0.310   \n",
       "2023-11-22    4,003 (RV)              –               0.330   \n",
       "2023-11-15    3,017 (LV)         ± 1.8%               0.330   \n",
       "2023-10-30    1,497 (LV)         ± 2.2%               0.371   \n",
       "2023-10-27    1,271 (RV)         ± 3.1%               0.350   \n",
       "2023-10-30    2,021 (RV)         ± 2.2%               0.360   \n",
       "2023-10-26    1,610 (RV)         ± 2.4%               0.360   \n",
       "2023-10-23      449 (LV)         ± 3.1%               0.350   \n",
       "2023-10-16    3,029 (RV)         ± 1.8%               0.350   \n",
       "2023-10-17    1,000 (RV)          ±3.1%               0.370   \n",
       "2023-10-18    2,116 (RV)            ±2%               0.310   \n",
       "2023-10-13      869 (LV)          ±3.3%               0.412   \n",
       "\n",
       "            DonaldTrumpRepublican  Robert F.Kennedy Jr.Independent  \\\n",
       "New Date                                                             \n",
       "2023-11-29                  0.390                            0.200   \n",
       "2023-11-22                  0.410                            0.130   \n",
       "2023-11-15                  0.400                            0.140   \n",
       "2023-10-30                  0.401                            0.124   \n",
       "2023-10-27                  0.410                            0.160   \n",
       "2023-10-30                  0.410                            0.110   \n",
       "2023-10-26                  0.350                            0.190   \n",
       "2023-10-23                  0.380                            0.120   \n",
       "2023-10-16                  0.380                            0.130   \n",
       "2023-10-17                  0.370                            0.130   \n",
       "2023-10-18                  0.390                            0.180   \n",
       "2023-10-13                  0.426                            0.125   \n",
       "\n",
       "            CornelWestIndependent  Other/Undecided  Year     Month Day  Spread  \n",
       "New Date                                                                        \n",
       "2023-11-29                  0.060     4.000000e-02  2023  November  29   0.080  \n",
       "2023-11-22                  0.020     1.100000e-01  2023  November  22   0.080  \n",
       "2023-11-15                  0.020     1.100000e-01  2023  November  15   0.070  \n",
       "2023-10-30                  0.017     8.700000e-02  2023   October  30   0.030  \n",
       "2023-10-27                  0.040     4.000000e-02  2023   October  27   0.060  \n",
       "2023-10-30                  0.020     1.000000e-01  2023   October  30   0.050  \n",
       "2023-10-26                  0.060     4.000000e-02  2023   October  26  -0.010  \n",
       "2023-10-23                  0.020     1.300000e-01  2023   October  23   0.030  \n",
       "2023-10-16                  0.020     1.200000e-01  2023   October  16   0.030  \n",
       "2023-10-17                  0.040     9.000000e-02  2023   October  17   0.000  \n",
       "2023-10-18                  0.030     9.000000e-02  2023   October  18   0.080  \n",
       "2023-10-13                  0.037    -2.775558e-17  2023   October  13   0.014  "
      ]
     },
     "execution_count": 10,
     "metadata": {},
     "output_type": "execute_result"
    }
   ],
   "source": [
    "#Investigate what's going on with undecided voters\n",
    "#How does the undecided percentage relate to the number of candidates on the ballot?\n",
    "\n",
    "cw_table = table_dat[12]\n",
    "\n",
    "cw_table_data = []\n",
    "for row in cw_table.find_all('tr'):\n",
    "    row_data = [cell.text.strip() for cell in row.find_all(['td','th'])]\n",
    "    cw_table_data.append(row_data)\n",
    "\n",
    "#Convert table data to a dataframe\n",
    "#We remove the first row since this is RCP summary data that we don't want to use\n",
    "    \n",
    "cw = pd.DataFrame(cw_table_data[1:], columns=cw_table_data[0])\n",
    "\n",
    "cw[\"Year\"] = cw[\"Date\"].str.split(\" \").str[-1]\n",
    "cw[\"Month\"] = cw[\"Date\"].str.split(\" \").str[0]\n",
    "cw[\"Day\"] = cw[\"Date\"].str.split(\" \").str[1].str.split(\"–\").str[0]\n",
    "cw[\"New Date\"] = cw[\"Month\"] + \" \" + cw[\"Day\"] + \", \" + cw[\"Year\"]\n",
    "cw[\"New Date\"] = pd.to_datetime(cw[\"New Date\"],format=\"mixed\")\n",
    "cw['JoeBidenDemocratic'] = cw['JoeBidenDemocratic'].str.rstrip('%').astype('float') / 100\n",
    "cw['DonaldTrumpRepublican'] = cw['DonaldTrumpRepublican'].str.rstrip('%').astype('float') / 100\n",
    "cw[\"Robert F.Kennedy Jr.Independent\"] = cw[\"Robert F.Kennedy Jr.Independent\"].str.rstrip('%').astype('float') / 100\n",
    "cw[\"CornelWestIndependent\"] = cw[\"CornelWestIndependent\"].str.rstrip('%').astype('float') / 100\n",
    "\n",
    "cw.set_index(\"New Date\", inplace=True)\n",
    "cw.drop([\"2023-10-05\",\"2023-10-09\"], inplace=True)\n",
    "cw[\"Other/Undecided\"] = np.float32(1 - cw[\"JoeBidenDemocratic\"] - cw[\"DonaldTrumpRepublican\"] - cw[\"Robert F.Kennedy Jr.Independent\"] - cw[\"CornelWestIndependent\"])\n",
    "cw[\"Spread\"] = cw[\"DonaldTrumpRepublican\"] - cw[\"JoeBidenDemocratic\"]\n",
    "cw"
   ]
  },
  {
   "cell_type": "code",
   "execution_count": 11,
   "metadata": {},
   "outputs": [
    {
     "name": "stdout",
     "output_type": "stream",
     "text": [
      "Average percentage of undecided voters for Joe Biden and Donald Trump:  0.11861111111111115\n",
      "Average percentage of undecided voters for Joe Biden, Donald Trump, Robert F. Kennedy Jr.:  0.08741666666666666\n",
      "Average percentage of undecided voters for Joe Biden, Donald Trump, RFK Jr, Cornel West :  0.07975\n"
     ]
    },
    {
     "data": {
      "image/png": "[encoded data removed]",
      "text/plain": [
       "<Figure size 640x480 with 1 Axes>"
      ]
     },
     "metadata": {},
     "output_type": "display_data"
    }
   ],
   "source": [
    "# Calculate the average percentage of undecided voters compared to the number of candidates on the ballot\n",
    "\n",
    "jbdt_avg = jbdt[\"Other/Undecided\"].mean()\n",
    "rfk_avg = rfk[\"Other/Undecided\"].mean()\n",
    "cw_avg = cw[\"Other/Undecided\"].mean()\n",
    "\n",
    "print(\"Average percentage of undecided voters for Joe Biden and Donald Trump: \", jbdt_avg)\n",
    "print(\"Average percentage of undecided voters for Joe Biden, Donald Trump, Robert F. Kennedy Jr.: \", rfk_avg)\n",
    "print(\"Average percentage of undecided voters for Joe Biden, Donald Trump, RFK Jr, Cornel West : \", cw_avg)\n",
    "\n",
    "#Plot the average percentage of undecided voters compared to the number of candidates on the ballot\n",
    "\n",
    "fig, ax = plt.subplots()\n",
    "ax.bar([\"Joe Biden and Donald Trump\", \"JB, DT, RFK\", \"All Four Candidates\"], [jbdt_avg, rfk_avg, cw_avg])\n",
    "ax.set_ylabel(\"Average Percentage of Undecided Voters\")\n",
    "ax.set_title(\"Average Percentage of Undecided Voters Compared to the Number of Candidates on the Ballot\")\n",
    "plt.show()\n",
    "\n",
    "\n"
   ]
  },
  {
   "cell_type": "code",
   "execution_count": 12,
   "metadata": {},
   "outputs": [
    {
     "data": {
      "image/png": "[encoded data removed]",
      "text/plain": [
       "<Figure size 1000x600 with 1 Axes>"
      ]
     },
     "metadata": {},
     "output_type": "display_data"
    }
   ],
   "source": [
    "#Remake the above plot by making a jitter plot of the undecided percentage for each poll\n",
    "\n",
    "import seaborn as sns\n",
    "import matplotlib.pyplot as plt\n",
    "import pandas as pd\n",
    "\n",
    "# Assuming df1, df2, and df3 are your three DataFrames\n",
    "# with an \"Other/Undecided\" column\n",
    "\n",
    "# Combine the datasets into a single DataFrame\n",
    "combined_df = pd.concat([jbdt[\"Other/Undecided\"].reset_index(drop=True),\n",
    "                        rfk[\"Other/Undecided\"].reset_index(drop=True),\n",
    "                        cw[\"Other/Undecided\"].reset_index(drop=True)],\n",
    "                       axis=1, keys=['JB,DT', 'JB,DT,RFK', 'JB,DT,RFK,CW'])\n",
    "\n",
    "# Melt the DataFrame for Seaborn's jitter plot\n",
    "melted_df = combined_df.melt(var_name='Dataset', value_name='Other/Undecided')\n",
    "\n",
    "# Create a jitter plot using Seaborn\n",
    "sns.set(style=\"whitegrid\")\n",
    "plt.figure(figsize=(10, 6))\n",
    "\n",
    "# Adjust the jitter to your preference\n",
    "sns.stripplot(x='Dataset', y='Other/Undecided', data=melted_df, jitter=True, palette=\"Set2\")\n",
    "\n",
    "# Add labels and title\n",
    "plt.xlabel('Dataset')\n",
    "plt.ylabel('Other/Undecided Values')\n",
    "plt.title('Jitter Plot of Other/Undecided Values across Datasets')\n",
    "\n",
    "# Show the plot\n",
    "plt.show()\n",
    "\n"
   ]
  },
  {
   "cell_type": "markdown",
   "metadata": {},
   "source": [
    "## Why are there less undecided voters when we add more candidates to the ballot?\n",
    "\n",
    "The initial argument could be that there do exist independent voters who truly will vote for anyone except for Trump and Biden. \n",
    "\n",
    "But I find it surprising that adding Cornel West lowers the undecided voter count, even by a percentage point. Is there really a percentage of voters who are so educated on Joe Biden, Donald Trump, and RFK Jr that adding a relatively unkown candidate would fit their needs? I am not too sure. \n",
    "\n"
   ]
  },
  {
   "cell_type": "markdown",
   "metadata": {},
   "source": [
    "# Next Steps\n",
    "\n",
    "- We still want to investigate key demographic trends.\n",
    "- We need to find a good dataset for Exit Polls from 2020. \n",
    "- Think of other questions to investigate??"
   ]
  },
  {
   "cell_type": "code",
   "execution_count": 13,
   "metadata": {},
   "outputs": [],
   "source": [
    "#Plot a categorical regression\n",
    "\n",
    "#Plot polling companies vs. spread\n",
    "\n",
    "#Demographics\n",
    "\n",
    "\n"
   ]
  },
  {
   "cell_type": "code",
   "execution_count": 14,
   "metadata": {},
   "outputs": [
    {
     "data": {
      "text/plain": [
       "<Figure size 1000x600 with 0 Axes>"
      ]
     },
     "metadata": {},
     "output_type": "display_data"
    },
    {
     "data": {
      "image/png": "[encoded data removed]",
      "text/plain": [
       "<Figure size 1200x600 with 1 Axes>"
      ]
     },
     "metadata": {},
     "output_type": "display_data"
    }
   ],
   "source": [
    "#Make categorical data plot of polling companies vs. spread\n",
    "\n",
    "plt.figure(figsize=(10,6))\n",
    "\n",
    "sns.catplot(x=\"Poll source\", y=\"Spread\", data=jbdt, kind=\"box\", height=6, aspect=2)\n",
    "plt.xticks(rotation=90)\n",
    "plt.title(\"Polling Companies vs. Spread\")\n",
    "plt.show()\n",
    "\n",
    "\n",
    "\n"
   ]
  },
  {
   "cell_type": "code",
   "execution_count": 15,
   "metadata": {},
   "outputs": [
    {
     "data": {
      "text/html": [
       "<table class=\"simpletable\">\n",
       "<caption>OLS Regression Results</caption>\n",
       "<tr>\n",
       "  <th>Dep. Variable:</th>            <td>y</td>        <th>  R-squared:         </th> <td>   0.719</td>\n",
       "</tr>\n",
       "<tr>\n",
       "  <th>Model:</th>                   <td>OLS</td>       <th>  Adj. R-squared:    </th> <td>   0.563</td>\n",
       "</tr>\n",
       "<tr>\n",
       "  <th>Method:</th>             <td>Least Squares</td>  <th>  F-statistic:       </th> <td>   4.608</td>\n",
       "</tr>\n",
       "<tr>\n",
       "  <th>Date:</th>             <td>Wed, 21 Feb 2024</td> <th>  Prob (F-statistic):</th> <td>5.85e-13</td>\n",
       "</tr>\n",
       "<tr>\n",
       "  <th>Time:</th>                 <td>14:07:31</td>     <th>  Log-Likelihood:    </th> <td>  465.94</td>\n",
       "</tr>\n",
       "<tr>\n",
       "  <th>No. Observations:</th>      <td>   180</td>      <th>  AIC:               </th> <td>  -801.9</td>\n",
       "</tr>\n",
       "<tr>\n",
       "  <th>Df Residuals:</th>          <td>   115</td>      <th>  BIC:               </th> <td>  -594.3</td>\n",
       "</tr>\n",
       "<tr>\n",
       "  <th>Df Model:</th>              <td>    64</td>      <th>                     </th>     <td> </td>   \n",
       "</tr>\n",
       "<tr>\n",
       "  <th>Covariance Type:</th>      <td>nonrobust</td>    <th>                     </th>     <td> </td>   \n",
       "</tr>\n",
       "</table>\n",
       "<table class=\"simpletable\">\n",
       "<tr>\n",
       "                              <td></td>                                <th>coef</th>     <th>std err</th>      <th>t</th>      <th>P>|t|</th>  <th>[0.025</th>    <th>0.975]</th>  \n",
       "</tr>\n",
       "<tr>\n",
       "  <th>const</th>                                                    <td>    0.0450</td> <td>    0.016</td> <td>    2.798</td> <td> 0.006</td> <td>    0.013</td> <td>    0.077</td>\n",
       "</tr>\n",
       "<tr>\n",
       "  <th>ActiVote</th>                                                 <td>    0.0350</td> <td>    0.028</td> <td>    1.257</td> <td> 0.211</td> <td>   -0.020</td> <td>    0.090</td>\n",
       "</tr>\n",
       "<tr>\n",
       "  <th>American Pulse Research & Polling</th>                        <td>   -0.0350</td> <td>    0.028</td> <td>   -1.257</td> <td> 0.211</td> <td>   -0.090</td> <td>    0.020</td>\n",
       "</tr>\n",
       "<tr>\n",
       "  <th>Beacon Research/Shaw & Company Research/Fox News</th>         <td>   -0.0050</td> <td>    0.023</td> <td>   -0.220</td> <td> 0.826</td> <td>   -0.050</td> <td>    0.040</td>\n",
       "</tr>\n",
       "<tr>\n",
       "  <th>Big Village</th>                                              <td>   -0.0450</td> <td>    0.028</td> <td>   -1.616</td> <td> 0.109</td> <td>   -0.100</td> <td>    0.010</td>\n",
       "</tr>\n",
       "<tr>\n",
       "  <th>CBS News</th>                                                 <td>   -0.0250</td> <td>    0.028</td> <td>   -0.898</td> <td> 0.371</td> <td>   -0.080</td> <td>    0.030</td>\n",
       "</tr>\n",
       "<tr>\n",
       "  <th>CBS News/YouGov</th>                                          <td>   -0.0150</td> <td>    0.028</td> <td>   -0.539</td> <td> 0.591</td> <td>   -0.070</td> <td>    0.040</td>\n",
       "</tr>\n",
       "<tr>\n",
       "  <th>CNN/SSRS</th>                                                 <td>   -0.0350</td> <td>    0.028</td> <td>   -1.257</td> <td> 0.211</td> <td>   -0.090</td> <td>    0.020</td>\n",
       "</tr>\n",
       "<tr>\n",
       "  <th>Civiqs</th>                                                   <td>   -0.0450</td> <td>    0.028</td> <td>   -1.616</td> <td> 0.109</td> <td>   -0.100</td> <td>    0.010</td>\n",
       "</tr>\n",
       "<tr>\n",
       "  <th>Clarity Campaign Labs</th>                                    <td>   -0.0450</td> <td>    0.028</td> <td>   -1.616</td> <td> 0.109</td> <td>   -0.100</td> <td>    0.010</td>\n",
       "</tr>\n",
       "<tr>\n",
       "  <th>Cygnal</th>                                                   <td>   -0.0650</td> <td>    0.020</td> <td>   -3.300</td> <td> 0.001</td> <td>   -0.104</td> <td>   -0.026</td>\n",
       "</tr>\n",
       "<tr>\n",
       "  <th>Cygnal (R)</th>                                               <td>   -0.0550</td> <td>    0.028</td> <td>   -1.975</td> <td> 0.051</td> <td>   -0.110</td> <td>    0.000</td>\n",
       "</tr>\n",
       "<tr>\n",
       "  <th>Echelon Insights</th>                                         <td>   -0.0564</td> <td>    0.018</td> <td>   -3.094</td> <td> 0.002</td> <td>   -0.093</td> <td>   -0.020</td>\n",
       "</tr>\n",
       "<tr>\n",
       "  <th>Emerson College</th>                                          <td>   -0.0272</td> <td>    0.018</td> <td>   -1.531</td> <td> 0.128</td> <td>   -0.062</td> <td>    0.008</td>\n",
       "</tr>\n",
       "<tr>\n",
       "  <th>Florida Atlantic University/Mainstreet Research</th>          <td>   -0.0150</td> <td>    0.028</td> <td>   -0.539</td> <td> 0.591</td> <td>   -0.070</td> <td>    0.040</td>\n",
       "</tr>\n",
       "<tr>\n",
       "  <th>Fox News</th>                                                 <td>   -0.0400</td> <td>    0.023</td> <td>   -1.759</td> <td> 0.081</td> <td>   -0.085</td> <td>    0.005</td>\n",
       "</tr>\n",
       "<tr>\n",
       "  <th>Grinnell College</th>                                         <td>   -0.0450</td> <td>    0.028</td> <td>   -1.616</td> <td> 0.109</td> <td>   -0.100</td> <td>    0.010</td>\n",
       "</tr>\n",
       "<tr>\n",
       "  <th>Harris X/The Messenger</th>                                   <td>    0.0250</td> <td>    0.028</td> <td>    0.898</td> <td> 0.371</td> <td>   -0.030</td> <td>    0.080</td>\n",
       "</tr>\n",
       "<tr>\n",
       "  <th>HarrisX</th>                                                  <td>   -0.0050</td> <td>    0.028</td> <td>   -0.180</td> <td> 0.858</td> <td>   -0.060</td> <td>    0.050</td>\n",
       "</tr>\n",
       "<tr>\n",
       "  <th>HarrisX/The Messenger</th>                                    <td>   -0.0317</td> <td>    0.021</td> <td>   -1.525</td> <td> 0.130</td> <td>   -0.073</td> <td>    0.009</td>\n",
       "</tr>\n",
       "<tr>\n",
       "  <th>Hart Research Associates/Public Opinion Strategies/CNBC</th>  <td>    0.0150</td> <td>    0.028</td> <td>    0.539</td> <td> 0.591</td> <td>   -0.040</td> <td>    0.070</td>\n",
       "</tr>\n",
       "<tr>\n",
       "  <th>Hart Research Associates/Public Opinions Strategies/CNBC</th> <td>   -0.0050</td> <td>    0.028</td> <td>   -0.180</td> <td> 0.858</td> <td>   -0.060</td> <td>    0.050</td>\n",
       "</tr>\n",
       "<tr>\n",
       "  <th>Harvard Harris</th>                                           <td>    0.0050</td> <td>    0.028</td> <td>    0.180</td> <td> 0.858</td> <td>   -0.050</td> <td>    0.060</td>\n",
       "</tr>\n",
       "<tr>\n",
       "  <th>Harvard-Harris</th>                                           <td>    0.0150</td> <td>    0.028</td> <td>    0.539</td> <td> 0.591</td> <td>   -0.040</td> <td>    0.070</td>\n",
       "</tr>\n",
       "<tr>\n",
       "  <th>Harvard/Harris</th>                                           <td>    0.0070</td> <td>    0.019</td> <td>    0.368</td> <td> 0.714</td> <td>   -0.031</td> <td>    0.045</td>\n",
       "</tr>\n",
       "<tr>\n",
       "  <th>Harvard/Harris[A]</th>                                        <td>   -0.0050</td> <td>    0.028</td> <td>   -0.180</td> <td> 0.858</td> <td>   -0.060</td> <td>    0.050</td>\n",
       "</tr>\n",
       "<tr>\n",
       "  <th>I&I/TIPP</th>                                                 <td>   -0.0500</td> <td>    0.023</td> <td>   -2.198</td> <td> 0.030</td> <td>   -0.095</td> <td>   -0.005</td>\n",
       "</tr>\n",
       "<tr>\n",
       "  <th>Ipsos/Reuters</th>                                            <td>   -0.0150</td> <td>    0.028</td> <td>   -0.539</td> <td> 0.591</td> <td>   -0.070</td> <td>    0.040</td>\n",
       "</tr>\n",
       "<tr>\n",
       "  <th>Leger</th>                                                    <td>   -0.0650</td> <td>    0.028</td> <td>   -2.334</td> <td> 0.021</td> <td>   -0.120</td> <td>   -0.010</td>\n",
       "</tr>\n",
       "<tr>\n",
       "  <th>Marist College</th>                                           <td>   -0.0550</td> <td>    0.028</td> <td>   -1.975</td> <td> 0.051</td> <td>   -0.110</td> <td>    0.000</td>\n",
       "</tr>\n",
       "<tr>\n",
       "  <th>Marist College/NPR/PBS NewsHour</th>                          <td>   -0.0550</td> <td>    0.028</td> <td>   -1.975</td> <td> 0.051</td> <td>   -0.110</td> <td>    0.000</td>\n",
       "</tr>\n",
       "<tr>\n",
       "  <th>Marquette University</th>                                     <td>   -0.0290</td> <td>    0.019</td> <td>   -1.524</td> <td> 0.130</td> <td>   -0.067</td> <td>    0.009</td>\n",
       "</tr>\n",
       "<tr>\n",
       "  <th>McLaughlin & Associates</th>                                  <td>   -0.0025</td> <td>    0.020</td> <td>   -0.127</td> <td> 0.899</td> <td>   -0.042</td> <td>    0.037</td>\n",
       "</tr>\n",
       "<tr>\n",
       "  <th>McLaughlin & Associates (R)[B]</th>                           <td>   -0.0050</td> <td>    0.028</td> <td>   -0.180</td> <td> 0.858</td> <td>   -0.060</td> <td>    0.050</td>\n",
       "</tr>\n",
       "<tr>\n",
       "  <th>Morning Consult</th>                                          <td>   -0.0591</td> <td>    0.017</td> <td>   -3.557</td> <td> 0.001</td> <td>   -0.092</td> <td>   -0.026</td>\n",
       "</tr>\n",
       "<tr>\n",
       "  <th>NBC News</th>                                                 <td>   -0.0517</td> <td>    0.021</td> <td>   -2.489</td> <td> 0.014</td> <td>   -0.093</td> <td>   -0.011</td>\n",
       "</tr>\n",
       "<tr>\n",
       "  <th>NPR/PBS</th>                                                  <td>   -0.0550</td> <td>    0.028</td> <td>   -1.975</td> <td> 0.051</td> <td>   -0.110</td> <td>    0.000</td>\n",
       "</tr>\n",
       "<tr>\n",
       "  <th>NPR/PBS/Marist College</th>                                   <td>   -0.0750</td> <td>    0.028</td> <td>   -2.693</td> <td> 0.008</td> <td>   -0.130</td> <td>   -0.020</td>\n",
       "</tr>\n",
       "<tr>\n",
       "  <th>New York Times/Siena College</th>                             <td>   -0.0450</td> <td>    0.023</td> <td>   -1.979</td> <td> 0.050</td> <td>   -0.090</td> <td> 5.05e-05</td>\n",
       "</tr>\n",
       "<tr>\n",
       "  <th>Noble Predictive Insights</th>                                <td>   -0.0050</td> <td>    0.028</td> <td>   -0.180</td> <td> 0.858</td> <td>   -0.060</td> <td>    0.050</td>\n",
       "</tr>\n",
       "<tr>\n",
       "  <th>Noble Predictive Insights/The Center Square</th>              <td>   -0.0750</td> <td>    0.028</td> <td>   -2.693</td> <td> 0.008</td> <td>   -0.130</td> <td>   -0.020</td>\n",
       "</tr>\n",
       "<tr>\n",
       "  <th>Premise</th>                                                  <td>   -0.0300</td> <td>    0.019</td> <td>   -1.616</td> <td> 0.109</td> <td>   -0.067</td> <td>    0.007</td>\n",
       "</tr>\n",
       "<tr>\n",
       "  <th>Public Policy Polling</th>                                    <td>   -0.0850</td> <td>    0.028</td> <td>   -3.052</td> <td> 0.003</td> <td>   -0.140</td> <td>   -0.030</td>\n",
       "</tr>\n",
       "<tr>\n",
       "  <th>Quinnipac University</th>                                     <td>   -0.0650</td> <td>    0.028</td> <td>   -2.334</td> <td> 0.021</td> <td>   -0.120</td> <td>   -0.010</td>\n",
       "</tr>\n",
       "<tr>\n",
       "  <th>Quinnipiac</th>                                               <td>   -0.0800</td> <td>    0.023</td> <td>   -3.517</td> <td> 0.001</td> <td>   -0.125</td> <td>   -0.035</td>\n",
       "</tr>\n",
       "<tr>\n",
       "  <th>Quinnipiac University</th>                                    <td>   -0.0679</td> <td>    0.018</td> <td>   -3.721</td> <td> 0.000</td> <td>   -0.104</td> <td>   -0.032</td>\n",
       "</tr>\n",
       "<tr>\n",
       "  <th>Rasmussen Reports</th>                                        <td>    0.0100</td> <td>    0.020</td> <td>    0.508</td> <td> 0.613</td> <td>   -0.029</td> <td>    0.049</td>\n",
       "</tr>\n",
       "<tr>\n",
       "  <th>Rasmussen Reports (R)</th>                                    <td>   -0.0850</td> <td>    0.028</td> <td>   -3.052</td> <td> 0.003</td> <td>   -0.140</td> <td>   -0.030</td>\n",
       "</tr>\n",
       "<tr>\n",
       "  <th>Redfield & Wilton Strategies</th>                             <td>   -0.0436</td> <td>    0.018</td> <td>   -2.389</td> <td> 0.019</td> <td>   -0.080</td> <td>   -0.007</td>\n",
       "</tr>\n",
       "<tr>\n",
       "  <th>Reuters/Ipsos</th>                                            <td>   -0.0283</td> <td>    0.021</td> <td>   -1.365</td> <td> 0.175</td> <td>   -0.069</td> <td>    0.013</td>\n",
       "</tr>\n",
       "<tr>\n",
       "  <th>SSRS/CNN</th>                                                 <td>    0.0250</td> <td>    0.023</td> <td>    1.099</td> <td> 0.274</td> <td>   -0.020</td> <td>    0.070</td>\n",
       "</tr>\n",
       "<tr>\n",
       "  <th>SurveyUSA</th>                                                <td>   -0.0200</td> <td>    0.023</td> <td>   -0.879</td> <td> 0.381</td> <td>   -0.065</td> <td>    0.025</td>\n",
       "</tr>\n",
       "<tr>\n",
       "  <th>Susquehanna</th>                                              <td>   -0.1750</td> <td>    0.028</td> <td>   -6.283</td> <td> 0.000</td> <td>   -0.230</td> <td>   -0.120</td>\n",
       "</tr>\n",
       "<tr>\n",
       "  <th>The Economist/YouGov</th>                                     <td>   -0.0500</td> <td>    0.019</td> <td>   -2.693</td> <td> 0.008</td> <td>   -0.087</td> <td>   -0.013</td>\n",
       "</tr>\n",
       "<tr>\n",
       "  <th>The Economist/YouGov Poll</th>                                <td>   -0.0500</td> <td>    0.023</td> <td>   -2.198</td> <td> 0.030</td> <td>   -0.095</td> <td>   -0.005</td>\n",
       "</tr>\n",
       "<tr>\n",
       "  <th>The Messenger/HarrisX</th>                                    <td>   -0.0050</td> <td>    0.028</td> <td>   -0.180</td> <td> 0.858</td> <td>   -0.060</td> <td>    0.050</td>\n",
       "</tr>\n",
       "<tr>\n",
       "  <th>USA Today/Suffolk University</th>                             <td>   -0.0450</td> <td>    0.028</td> <td>   -1.616</td> <td> 0.109</td> <td>   -0.100</td> <td>    0.010</td>\n",
       "</tr>\n",
       "<tr>\n",
       "  <th>WPA Intelligence</th>                                         <td>   -0.1200</td> <td>    0.023</td> <td>   -5.276</td> <td> 0.000</td> <td>   -0.165</td> <td>   -0.075</td>\n",
       "</tr>\n",
       "<tr>\n",
       "  <th>Wick Insights</th>                                            <td>   -0.0650</td> <td>    0.028</td> <td>   -2.334</td> <td> 0.021</td> <td>   -0.120</td> <td>   -0.010</td>\n",
       "</tr>\n",
       "<tr>\n",
       "  <th>Yahoo/YouGov</th>                                             <td>   -0.0550</td> <td>    0.028</td> <td>   -1.975</td> <td> 0.051</td> <td>   -0.110</td> <td>    0.000</td>\n",
       "</tr>\n",
       "<tr>\n",
       "  <th>YouGov</th>                                                   <td>   -0.0600</td> <td>    0.020</td> <td>   -3.046</td> <td> 0.003</td> <td>   -0.099</td> <td>   -0.021</td>\n",
       "</tr>\n",
       "<tr>\n",
       "  <th>YouGov/The Economist</th>                                     <td>   -0.0512</td> <td>    0.018</td> <td>   -2.850</td> <td> 0.005</td> <td>   -0.087</td> <td>   -0.016</td>\n",
       "</tr>\n",
       "<tr>\n",
       "  <th>YouGov/Yahoo News</th>                                        <td>   -0.0717</td> <td>    0.018</td> <td>   -4.031</td> <td> 0.000</td> <td>   -0.107</td> <td>   -0.036</td>\n",
       "</tr>\n",
       "<tr>\n",
       "  <th>YouGov/Yahoo! News</th>                                       <td>   -0.0250</td> <td>    0.028</td> <td>   -0.898</td> <td> 0.371</td> <td>   -0.080</td> <td>    0.030</td>\n",
       "</tr>\n",
       "<tr>\n",
       "  <th>YouGov/YahooNews</th>                                         <td>   -0.1050</td> <td>    0.028</td> <td>   -3.770</td> <td> 0.000</td> <td>   -0.160</td> <td>   -0.050</td>\n",
       "</tr>\n",
       "</table>\n",
       "<table class=\"simpletable\">\n",
       "<tr>\n",
       "  <th>Omnibus:</th>       <td>21.043</td> <th>  Durbin-Watson:     </th> <td>   2.082</td>\n",
       "</tr>\n",
       "<tr>\n",
       "  <th>Prob(Omnibus):</th> <td> 0.000</td> <th>  Jarque-Bera (JB):  </th> <td>  58.062</td>\n",
       "</tr>\n",
       "<tr>\n",
       "  <th>Skew:</th>          <td>-0.417</td> <th>  Prob(JB):          </th> <td>2.47e-13</td>\n",
       "</tr>\n",
       "<tr>\n",
       "  <th>Kurtosis:</th>      <td> 5.654</td> <th>  Cond. No.          </th> <td>    79.2</td>\n",
       "</tr>\n",
       "</table><br/><br/>Notes:<br/>[1] Standard Errors assume that the covariance matrix of the errors is correctly specified."
      ],
      "text/latex": [
       "\\begin{center}\n",
       "\\begin{tabular}{lclc}\n",
       "\\toprule\n",
       "\\textbf{Dep. Variable:}                                           &        y         & \\textbf{  R-squared:         } &     0.719   \\\\\n",
       "\\textbf{Model:}                                                   &       OLS        & \\textbf{  Adj. R-squared:    } &     0.563   \\\\\n",
       "\\textbf{Method:}                                                  &  Least Squares   & \\textbf{  F-statistic:       } &     4.608   \\\\\n",
       "\\textbf{Date:}                                                    & Wed, 21 Feb 2024 & \\textbf{  Prob (F-statistic):} &  5.85e-13   \\\\\n",
       "\\textbf{Time:}                                                    &     14:07:31     & \\textbf{  Log-Likelihood:    } &    465.94   \\\\\n",
       "\\textbf{No. Observations:}                                        &         180      & \\textbf{  AIC:               } &    -801.9   \\\\\n",
       "\\textbf{Df Residuals:}                                            &         115      & \\textbf{  BIC:               } &    -594.3   \\\\\n",
       "\\textbf{Df Model:}                                                &          64      & \\textbf{                     } &             \\\\\n",
       "\\textbf{Covariance Type:}                                         &    nonrobust     & \\textbf{                     } &             \\\\\n",
       "\\bottomrule\n",
       "\\end{tabular}\n",
       "\\begin{tabular}{lcccccc}\n",
       "                                                                  & \\textbf{coef} & \\textbf{std err} & \\textbf{t} & \\textbf{P$> |$t$|$} & \\textbf{[0.025} & \\textbf{0.975]}  \\\\\n",
       "\\midrule\n",
       "\\textbf{const}                                                    &       0.0450  &        0.016     &     2.798  &         0.006        &        0.013    &        0.077     \\\\\n",
       "\\textbf{ActiVote}                                                 &       0.0350  &        0.028     &     1.257  &         0.211        &       -0.020    &        0.090     \\\\\n",
       "\\textbf{American Pulse Research \\& Polling}                       &      -0.0350  &        0.028     &    -1.257  &         0.211        &       -0.090    &        0.020     \\\\\n",
       "\\textbf{Beacon Research/Shaw \\& Company Research/Fox News}        &      -0.0050  &        0.023     &    -0.220  &         0.826        &       -0.050    &        0.040     \\\\\n",
       "\\textbf{Big Village}                                              &      -0.0450  &        0.028     &    -1.616  &         0.109        &       -0.100    &        0.010     \\\\\n",
       "\\textbf{CBS News}                                                 &      -0.0250  &        0.028     &    -0.898  &         0.371        &       -0.080    &        0.030     \\\\\n",
       "\\textbf{CBS News/YouGov}                                          &      -0.0150  &        0.028     &    -0.539  &         0.591        &       -0.070    &        0.040     \\\\\n",
       "\\textbf{CNN/SSRS}                                                 &      -0.0350  &        0.028     &    -1.257  &         0.211        &       -0.090    &        0.020     \\\\\n",
       "\\textbf{Civiqs}                                                   &      -0.0450  &        0.028     &    -1.616  &         0.109        &       -0.100    &        0.010     \\\\\n",
       "\\textbf{Clarity Campaign Labs}                                    &      -0.0450  &        0.028     &    -1.616  &         0.109        &       -0.100    &        0.010     \\\\\n",
       "\\textbf{Cygnal}                                                   &      -0.0650  &        0.020     &    -3.300  &         0.001        &       -0.104    &       -0.026     \\\\\n",
       "\\textbf{Cygnal (R)}                                               &      -0.0550  &        0.028     &    -1.975  &         0.051        &       -0.110    &        0.000     \\\\\n",
       "\\textbf{Echelon Insights}                                         &      -0.0564  &        0.018     &    -3.094  &         0.002        &       -0.093    &       -0.020     \\\\\n",
       "\\textbf{Emerson College}                                          &      -0.0272  &        0.018     &    -1.531  &         0.128        &       -0.062    &        0.008     \\\\\n",
       "\\textbf{Florida Atlantic University/Mainstreet Research}          &      -0.0150  &        0.028     &    -0.539  &         0.591        &       -0.070    &        0.040     \\\\\n",
       "\\textbf{Fox News}                                                 &      -0.0400  &        0.023     &    -1.759  &         0.081        &       -0.085    &        0.005     \\\\\n",
       "\\textbf{Grinnell College}                                         &      -0.0450  &        0.028     &    -1.616  &         0.109        &       -0.100    &        0.010     \\\\\n",
       "\\textbf{Harris X/The Messenger}                                   &       0.0250  &        0.028     &     0.898  &         0.371        &       -0.030    &        0.080     \\\\\n",
       "\\textbf{HarrisX}                                                  &      -0.0050  &        0.028     &    -0.180  &         0.858        &       -0.060    &        0.050     \\\\\n",
       "\\textbf{HarrisX/The Messenger}                                    &      -0.0317  &        0.021     &    -1.525  &         0.130        &       -0.073    &        0.009     \\\\\n",
       "\\textbf{Hart Research Associates/Public Opinion Strategies/CNBC}  &       0.0150  &        0.028     &     0.539  &         0.591        &       -0.040    &        0.070     \\\\\n",
       "\\textbf{Hart Research Associates/Public Opinions Strategies/CNBC} &      -0.0050  &        0.028     &    -0.180  &         0.858        &       -0.060    &        0.050     \\\\\n",
       "\\textbf{Harvard Harris}                                           &       0.0050  &        0.028     &     0.180  &         0.858        &       -0.050    &        0.060     \\\\\n",
       "\\textbf{Harvard-Harris}                                           &       0.0150  &        0.028     &     0.539  &         0.591        &       -0.040    &        0.070     \\\\\n",
       "\\textbf{Harvard/Harris}                                           &       0.0070  &        0.019     &     0.368  &         0.714        &       -0.031    &        0.045     \\\\\n",
       "\\textbf{Harvard/Harris[A]}                                        &      -0.0050  &        0.028     &    -0.180  &         0.858        &       -0.060    &        0.050     \\\\\n",
       "\\textbf{I\\&I/TIPP}                                                &      -0.0500  &        0.023     &    -2.198  &         0.030        &       -0.095    &       -0.005     \\\\\n",
       "\\textbf{Ipsos/Reuters}                                            &      -0.0150  &        0.028     &    -0.539  &         0.591        &       -0.070    &        0.040     \\\\\n",
       "\\textbf{Leger}                                                    &      -0.0650  &        0.028     &    -2.334  &         0.021        &       -0.120    &       -0.010     \\\\\n",
       "\\textbf{Marist College}                                           &      -0.0550  &        0.028     &    -1.975  &         0.051        &       -0.110    &        0.000     \\\\\n",
       "\\textbf{Marist College/NPR/PBS NewsHour}                          &      -0.0550  &        0.028     &    -1.975  &         0.051        &       -0.110    &        0.000     \\\\\n",
       "\\textbf{Marquette University}                                     &      -0.0290  &        0.019     &    -1.524  &         0.130        &       -0.067    &        0.009     \\\\\n",
       "\\textbf{McLaughlin \\& Associates}                                 &      -0.0025  &        0.020     &    -0.127  &         0.899        &       -0.042    &        0.037     \\\\\n",
       "\\textbf{McLaughlin \\& Associates (R)[B]}                          &      -0.0050  &        0.028     &    -0.180  &         0.858        &       -0.060    &        0.050     \\\\\n",
       "\\textbf{Morning Consult}                                          &      -0.0591  &        0.017     &    -3.557  &         0.001        &       -0.092    &       -0.026     \\\\\n",
       "\\textbf{NBC News}                                                 &      -0.0517  &        0.021     &    -2.489  &         0.014        &       -0.093    &       -0.011     \\\\\n",
       "\\textbf{NPR/PBS}                                                  &      -0.0550  &        0.028     &    -1.975  &         0.051        &       -0.110    &        0.000     \\\\\n",
       "\\textbf{NPR/PBS/Marist College}                                   &      -0.0750  &        0.028     &    -2.693  &         0.008        &       -0.130    &       -0.020     \\\\\n",
       "\\textbf{New York Times/Siena College}                             &      -0.0450  &        0.023     &    -1.979  &         0.050        &       -0.090    &     5.05e-05     \\\\\n",
       "\\textbf{Noble Predictive Insights}                                &      -0.0050  &        0.028     &    -0.180  &         0.858        &       -0.060    &        0.050     \\\\\n",
       "\\textbf{Noble Predictive Insights/The Center Square}              &      -0.0750  &        0.028     &    -2.693  &         0.008        &       -0.130    &       -0.020     \\\\\n",
       "\\textbf{Premise}                                                  &      -0.0300  &        0.019     &    -1.616  &         0.109        &       -0.067    &        0.007     \\\\\n",
       "\\textbf{Public Policy Polling}                                    &      -0.0850  &        0.028     &    -3.052  &         0.003        &       -0.140    &       -0.030     \\\\\n",
       "\\textbf{Quinnipac University}                                     &      -0.0650  &        0.028     &    -2.334  &         0.021        &       -0.120    &       -0.010     \\\\\n",
       "\\textbf{Quinnipiac}                                               &      -0.0800  &        0.023     &    -3.517  &         0.001        &       -0.125    &       -0.035     \\\\\n",
       "\\textbf{Quinnipiac University}                                    &      -0.0679  &        0.018     &    -3.721  &         0.000        &       -0.104    &       -0.032     \\\\\n",
       "\\textbf{Rasmussen Reports}                                        &       0.0100  &        0.020     &     0.508  &         0.613        &       -0.029    &        0.049     \\\\\n",
       "\\textbf{Rasmussen Reports (R)}                                    &      -0.0850  &        0.028     &    -3.052  &         0.003        &       -0.140    &       -0.030     \\\\\n",
       "\\textbf{Redfield \\& Wilton Strategies}                            &      -0.0436  &        0.018     &    -2.389  &         0.019        &       -0.080    &       -0.007     \\\\\n",
       "\\textbf{Reuters/Ipsos}                                            &      -0.0283  &        0.021     &    -1.365  &         0.175        &       -0.069    &        0.013     \\\\\n",
       "\\textbf{SSRS/CNN}                                                 &       0.0250  &        0.023     &     1.099  &         0.274        &       -0.020    &        0.070     \\\\\n",
       "\\textbf{SurveyUSA}                                                &      -0.0200  &        0.023     &    -0.879  &         0.381        &       -0.065    &        0.025     \\\\\n",
       "\\textbf{Susquehanna}                                              &      -0.1750  &        0.028     &    -6.283  &         0.000        &       -0.230    &       -0.120     \\\\\n",
       "\\textbf{The Economist/YouGov}                                     &      -0.0500  &        0.019     &    -2.693  &         0.008        &       -0.087    &       -0.013     \\\\\n",
       "\\textbf{The Economist/YouGov Poll}                                &      -0.0500  &        0.023     &    -2.198  &         0.030        &       -0.095    &       -0.005     \\\\\n",
       "\\textbf{The Messenger/HarrisX}                                    &      -0.0050  &        0.028     &    -0.180  &         0.858        &       -0.060    &        0.050     \\\\\n",
       "\\textbf{USA Today/Suffolk University}                             &      -0.0450  &        0.028     &    -1.616  &         0.109        &       -0.100    &        0.010     \\\\\n",
       "\\textbf{WPA Intelligence}                                         &      -0.1200  &        0.023     &    -5.276  &         0.000        &       -0.165    &       -0.075     \\\\\n",
       "\\textbf{Wick Insights}                                            &      -0.0650  &        0.028     &    -2.334  &         0.021        &       -0.120    &       -0.010     \\\\\n",
       "\\textbf{Yahoo/YouGov}                                             &      -0.0550  &        0.028     &    -1.975  &         0.051        &       -0.110    &        0.000     \\\\\n",
       "\\textbf{YouGov}                                                   &      -0.0600  &        0.020     &    -3.046  &         0.003        &       -0.099    &       -0.021     \\\\\n",
       "\\textbf{YouGov/The Economist}                                     &      -0.0512  &        0.018     &    -2.850  &         0.005        &       -0.087    &       -0.016     \\\\\n",
       "\\textbf{YouGov/Yahoo News}                                        &      -0.0717  &        0.018     &    -4.031  &         0.000        &       -0.107    &       -0.036     \\\\\n",
       "\\textbf{YouGov/Yahoo! News}                                       &      -0.0250  &        0.028     &    -0.898  &         0.371        &       -0.080    &        0.030     \\\\\n",
       "\\textbf{YouGov/YahooNews}                                         &      -0.1050  &        0.028     &    -3.770  &         0.000        &       -0.160    &       -0.050     \\\\\n",
       "\\bottomrule\n",
       "\\end{tabular}\n",
       "\\begin{tabular}{lclc}\n",
       "\\textbf{Omnibus:}       & 21.043 & \\textbf{  Durbin-Watson:     } &    2.082  \\\\\n",
       "\\textbf{Prob(Omnibus):} &  0.000 & \\textbf{  Jarque-Bera (JB):  } &   58.062  \\\\\n",
       "\\textbf{Skew:}          & -0.417 & \\textbf{  Prob(JB):          } & 2.47e-13  \\\\\n",
       "\\textbf{Kurtosis:}      &  5.654 & \\textbf{  Cond. No.          } &     79.2  \\\\\n",
       "\\bottomrule\n",
       "\\end{tabular}\n",
       "%\\caption{OLS Regression Results}\n",
       "\\end{center}\n",
       "\n",
       "Notes: \\newline\n",
       " [1] Standard Errors assume that the covariance matrix of the errors is correctly specified."
      ],
      "text/plain": [
       "<class 'statsmodels.iolib.summary.Summary'>\n",
       "\"\"\"\n",
       "                            OLS Regression Results                            \n",
       "==============================================================================\n",
       "Dep. Variable:                      y   R-squared:                       0.719\n",
       "Model:                            OLS   Adj. R-squared:                  0.563\n",
       "Method:                 Least Squares   F-statistic:                     4.608\n",
       "Date:                Wed, 21 Feb 2024   Prob (F-statistic):           5.85e-13\n",
       "Time:                        14:07:31   Log-Likelihood:                 465.94\n",
       "No. Observations:                 180   AIC:                            -801.9\n",
       "Df Residuals:                     115   BIC:                            -594.3\n",
       "Df Model:                          64                                         \n",
       "Covariance Type:            nonrobust                                         \n",
       "============================================================================================================================\n",
       "                                                               coef    std err          t      P>|t|      [0.025      0.975]\n",
       "----------------------------------------------------------------------------------------------------------------------------\n",
       "const                                                        0.0450      0.016      2.798      0.006       0.013       0.077\n",
       "ActiVote                                                     0.0350      0.028      1.257      0.211      -0.020       0.090\n",
       "American Pulse Research & Polling                           -0.0350      0.028     -1.257      0.211      -0.090       0.020\n",
       "Beacon Research/Shaw & Company Research/Fox News            -0.0050      0.023     -0.220      0.826      -0.050       0.040\n",
       "Big Village                                                 -0.0450      0.028     -1.616      0.109      -0.100       0.010\n",
       "CBS News                                                    -0.0250      0.028     -0.898      0.371      -0.080       0.030\n",
       "CBS News/YouGov                                             -0.0150      0.028     -0.539      0.591      -0.070       0.040\n",
       "CNN/SSRS                                                    -0.0350      0.028     -1.257      0.211      -0.090       0.020\n",
       "Civiqs                                                      -0.0450      0.028     -1.616      0.109      -0.100       0.010\n",
       "Clarity Campaign Labs                                       -0.0450      0.028     -1.616      0.109      -0.100       0.010\n",
       "Cygnal                                                      -0.0650      0.020     -3.300      0.001      -0.104      -0.026\n",
       "Cygnal (R)                                                  -0.0550      0.028     -1.975      0.051      -0.110       0.000\n",
       "Echelon Insights                                            -0.0564      0.018     -3.094      0.002      -0.093      -0.020\n",
       "Emerson College                                             -0.0272      0.018     -1.531      0.128      -0.062       0.008\n",
       "Florida Atlantic University/Mainstreet Research             -0.0150      0.028     -0.539      0.591      -0.070       0.040\n",
       "Fox News                                                    -0.0400      0.023     -1.759      0.081      -0.085       0.005\n",
       "Grinnell College                                            -0.0450      0.028     -1.616      0.109      -0.100       0.010\n",
       "Harris X/The Messenger                                       0.0250      0.028      0.898      0.371      -0.030       0.080\n",
       "HarrisX                                                     -0.0050      0.028     -0.180      0.858      -0.060       0.050\n",
       "HarrisX/The Messenger                                       -0.0317      0.021     -1.525      0.130      -0.073       0.009\n",
       "Hart Research Associates/Public Opinion Strategies/CNBC      0.0150      0.028      0.539      0.591      -0.040       0.070\n",
       "Hart Research Associates/Public Opinions Strategies/CNBC    -0.0050      0.028     -0.180      0.858      -0.060       0.050\n",
       "Harvard Harris                                               0.0050      0.028      0.180      0.858      -0.050       0.060\n",
       "Harvard-Harris                                               0.0150      0.028      0.539      0.591      -0.040       0.070\n",
       "Harvard/Harris                                               0.0070      0.019      0.368      0.714      -0.031       0.045\n",
       "Harvard/Harris[A]                                           -0.0050      0.028     -0.180      0.858      -0.060       0.050\n",
       "I&I/TIPP                                                    -0.0500      0.023     -2.198      0.030      -0.095      -0.005\n",
       "Ipsos/Reuters                                               -0.0150      0.028     -0.539      0.591      -0.070       0.040\n",
       "Leger                                                       -0.0650      0.028     -2.334      0.021      -0.120      -0.010\n",
       "Marist College                                              -0.0550      0.028     -1.975      0.051      -0.110       0.000\n",
       "Marist College/NPR/PBS NewsHour                             -0.0550      0.028     -1.975      0.051      -0.110       0.000\n",
       "Marquette University                                        -0.0290      0.019     -1.524      0.130      -0.067       0.009\n",
       "McLaughlin & Associates                                     -0.0025      0.020     -0.127      0.899      -0.042       0.037\n",
       "McLaughlin & Associates (R)[B]                              -0.0050      0.028     -0.180      0.858      -0.060       0.050\n",
       "Morning Consult                                             -0.0591      0.017     -3.557      0.001      -0.092      -0.026\n",
       "NBC News                                                    -0.0517      0.021     -2.489      0.014      -0.093      -0.011\n",
       "NPR/PBS                                                     -0.0550      0.028     -1.975      0.051      -0.110       0.000\n",
       "NPR/PBS/Marist College                                      -0.0750      0.028     -2.693      0.008      -0.130      -0.020\n",
       "New York Times/Siena College                                -0.0450      0.023     -1.979      0.050      -0.090    5.05e-05\n",
       "Noble Predictive Insights                                   -0.0050      0.028     -0.180      0.858      -0.060       0.050\n",
       "Noble Predictive Insights/The Center Square                 -0.0750      0.028     -2.693      0.008      -0.130      -0.020\n",
       "Premise                                                     -0.0300      0.019     -1.616      0.109      -0.067       0.007\n",
       "Public Policy Polling                                       -0.0850      0.028     -3.052      0.003      -0.140      -0.030\n",
       "Quinnipac University                                        -0.0650      0.028     -2.334      0.021      -0.120      -0.010\n",
       "Quinnipiac                                                  -0.0800      0.023     -3.517      0.001      -0.125      -0.035\n",
       "Quinnipiac University                                       -0.0679      0.018     -3.721      0.000      -0.104      -0.032\n",
       "Rasmussen Reports                                            0.0100      0.020      0.508      0.613      -0.029       0.049\n",
       "Rasmussen Reports (R)                                       -0.0850      0.028     -3.052      0.003      -0.140      -0.030\n",
       "Redfield & Wilton Strategies                                -0.0436      0.018     -2.389      0.019      -0.080      -0.007\n",
       "Reuters/Ipsos                                               -0.0283      0.021     -1.365      0.175      -0.069       0.013\n",
       "SSRS/CNN                                                     0.0250      0.023      1.099      0.274      -0.020       0.070\n",
       "SurveyUSA                                                   -0.0200      0.023     -0.879      0.381      -0.065       0.025\n",
       "Susquehanna                                                 -0.1750      0.028     -6.283      0.000      -0.230      -0.120\n",
       "The Economist/YouGov                                        -0.0500      0.019     -2.693      0.008      -0.087      -0.013\n",
       "The Economist/YouGov Poll                                   -0.0500      0.023     -2.198      0.030      -0.095      -0.005\n",
       "The Messenger/HarrisX                                       -0.0050      0.028     -0.180      0.858      -0.060       0.050\n",
       "USA Today/Suffolk University                                -0.0450      0.028     -1.616      0.109      -0.100       0.010\n",
       "WPA Intelligence                                            -0.1200      0.023     -5.276      0.000      -0.165      -0.075\n",
       "Wick Insights                                               -0.0650      0.028     -2.334      0.021      -0.120      -0.010\n",
       "Yahoo/YouGov                                                -0.0550      0.028     -1.975      0.051      -0.110       0.000\n",
       "YouGov                                                      -0.0600      0.020     -3.046      0.003      -0.099      -0.021\n",
       "YouGov/The Economist                                        -0.0512      0.018     -2.850      0.005      -0.087      -0.016\n",
       "YouGov/Yahoo News                                           -0.0717      0.018     -4.031      0.000      -0.107      -0.036\n",
       "YouGov/Yahoo! News                                          -0.0250      0.028     -0.898      0.371      -0.080       0.030\n",
       "YouGov/YahooNews                                            -0.1050      0.028     -3.770      0.000      -0.160      -0.050\n",
       "==============================================================================\n",
       "Omnibus:                       21.043   Durbin-Watson:                   2.082\n",
       "Prob(Omnibus):                  0.000   Jarque-Bera (JB):               58.062\n",
       "Skew:                          -0.417   Prob(JB):                     2.47e-13\n",
       "Kurtosis:                       5.654   Cond. No.                         79.2\n",
       "==============================================================================\n",
       "\n",
       "Notes:\n",
       "[1] Standard Errors assume that the covariance matrix of the errors is correctly specified.\n",
       "\"\"\""
      ]
     },
     "execution_count": 15,
     "metadata": {},
     "output_type": "execute_result"
    }
   ],
   "source": [
    "import statsmodels.api as sm\n",
    "\n",
    "dummy_jbdt = pd.concat([jbdt, pd.get_dummies(jbdt[\"Poll source\"], drop_first=True,dtype=int)], axis=1)\n",
    "\n",
    "\n",
    "\n",
    "X = dummy_jbdt[pd.get_dummies(jbdt[\"Poll source\"], drop_first=True,dtype=int).columns]\n",
    "y = dummy_jbdt[\"Spread\"].to_list()\n",
    "\n",
    "#Add a column for time since Jan 1st 2023\n",
    "#X[\"Time\"] = (dummy_jbdt.index - pd.to_datetime(\"2023-01-01\")).days\n",
    "\n",
    "\n",
    "X = sm.add_constant(X)\n",
    "model = sm.OLS(y, X).fit()\n",
    "model.summary()\n",
    "\n"
   ]
  },
  {
   "cell_type": "code",
   "execution_count": 16,
   "metadata": {},
   "outputs": [
    {
     "data": {
      "text/html": [
       "<div>\n",
       "<style scoped>\n",
       "    .dataframe tbody tr th:only-of-type {\n",
       "        vertical-align: middle;\n",
       "    }\n",
       "\n",
       "    .dataframe tbody tr th {\n",
       "        vertical-align: top;\n",
       "    }\n",
       "\n",
       "    .dataframe thead th {\n",
       "        text-align: right;\n",
       "    }\n",
       "</style>\n",
       "<table border=\"1\" class=\"dataframe\">\n",
       "  <thead>\n",
       "    <tr style=\"text-align: right;\">\n",
       "      <th></th>\n",
       "      <th>Poll source</th>\n",
       "      <th>Date</th>\n",
       "      <th>Samplesize[b]</th>\n",
       "      <th>Marginof error</th>\n",
       "      <th>JoeBidenDemocratic</th>\n",
       "      <th>DonaldTrumpRepublican</th>\n",
       "      <th>Other/Undecided</th>\n",
       "      <th>Year</th>\n",
       "      <th>Month</th>\n",
       "      <th>Day</th>\n",
       "      <th>Spread</th>\n",
       "      <th>New Date</th>\n",
       "    </tr>\n",
       "  </thead>\n",
       "  <tbody>\n",
       "    <tr>\n",
       "      <th>0</th>\n",
       "      <td>ActiVote</td>\n",
       "      <td>December 13–19, 2023</td>\n",
       "      <td>841 (LV)</td>\n",
       "      <td>± 3.4%</td>\n",
       "      <td>0.46</td>\n",
       "      <td>0.54</td>\n",
       "      <td>0.00</td>\n",
       "      <td>2023</td>\n",
       "      <td>December</td>\n",
       "      <td>13</td>\n",
       "      <td>0.08</td>\n",
       "      <td>2023-12-13</td>\n",
       "    </tr>\n",
       "    <tr>\n",
       "      <th>1</th>\n",
       "      <td>McLaughlin &amp; Associates</td>\n",
       "      <td>December 13–19, 2023</td>\n",
       "      <td>1,000 (LV)</td>\n",
       "      <td>–</td>\n",
       "      <td>0.44</td>\n",
       "      <td>0.47</td>\n",
       "      <td>0.09</td>\n",
       "      <td>2023</td>\n",
       "      <td>December</td>\n",
       "      <td>13</td>\n",
       "      <td>0.03</td>\n",
       "      <td>2023-12-13</td>\n",
       "    </tr>\n",
       "    <tr>\n",
       "      <th>2</th>\n",
       "      <td>The Economist/YouGov</td>\n",
       "      <td>December 16–18, 2023</td>\n",
       "      <td>1,336 (RV)</td>\n",
       "      <td>± 3.2%</td>\n",
       "      <td>0.43</td>\n",
       "      <td>0.43</td>\n",
       "      <td>0.14</td>\n",
       "      <td>2023</td>\n",
       "      <td>December</td>\n",
       "      <td>16</td>\n",
       "      <td>0.00</td>\n",
       "      <td>2023-12-16</td>\n",
       "    </tr>\n",
       "    <tr>\n",
       "      <th>3</th>\n",
       "      <td>YouGov/Yahoo News</td>\n",
       "      <td>December 14–18, 2023</td>\n",
       "      <td>1,027 (RV)</td>\n",
       "      <td>–</td>\n",
       "      <td>0.44</td>\n",
       "      <td>0.44</td>\n",
       "      <td>0.12</td>\n",
       "      <td>2023</td>\n",
       "      <td>December</td>\n",
       "      <td>14</td>\n",
       "      <td>0.00</td>\n",
       "      <td>2023-12-14</td>\n",
       "    </tr>\n",
       "    <tr>\n",
       "      <th>4</th>\n",
       "      <td>Quinnipiac University</td>\n",
       "      <td>December 14–18, 2023</td>\n",
       "      <td>1,647 (RV)</td>\n",
       "      <td>± 2.4%</td>\n",
       "      <td>0.47</td>\n",
       "      <td>0.46</td>\n",
       "      <td>0.07</td>\n",
       "      <td>2023</td>\n",
       "      <td>December</td>\n",
       "      <td>14</td>\n",
       "      <td>-0.01</td>\n",
       "      <td>2023-12-14</td>\n",
       "    </tr>\n",
       "    <tr>\n",
       "      <th>...</th>\n",
       "      <td>...</td>\n",
       "      <td>...</td>\n",
       "      <td>...</td>\n",
       "      <td>...</td>\n",
       "      <td>...</td>\n",
       "      <td>...</td>\n",
       "      <td>...</td>\n",
       "      <td>...</td>\n",
       "      <td>...</td>\n",
       "      <td>...</td>\n",
       "      <td>...</td>\n",
       "      <td>...</td>\n",
       "    </tr>\n",
       "    <tr>\n",
       "      <th>16</th>\n",
       "      <td>Reuters/Ipsos</td>\n",
       "      <td>January 3–9, 2024</td>\n",
       "      <td>4,677 (A)</td>\n",
       "      <td>± 1.5%</td>\n",
       "      <td>0.48</td>\n",
       "      <td>0.48</td>\n",
       "      <td>0.04</td>\n",
       "      <td>2024</td>\n",
       "      <td>January</td>\n",
       "      <td>3</td>\n",
       "      <td>0.00</td>\n",
       "      <td>2024-01-03</td>\n",
       "    </tr>\n",
       "    <tr>\n",
       "      <th>17</th>\n",
       "      <td>Morning Consult</td>\n",
       "      <td>January 5–8, 2024</td>\n",
       "      <td>6,376 (RV)</td>\n",
       "      <td>–</td>\n",
       "      <td>0.43</td>\n",
       "      <td>0.42</td>\n",
       "      <td>0.15</td>\n",
       "      <td>2024</td>\n",
       "      <td>January</td>\n",
       "      <td>5</td>\n",
       "      <td>-0.01</td>\n",
       "      <td>2024-01-05</td>\n",
       "    </tr>\n",
       "    <tr>\n",
       "      <th>18</th>\n",
       "      <td>I&amp;I/TIPP</td>\n",
       "      <td>January 3–5, 2024</td>\n",
       "      <td>1,247 (RV)</td>\n",
       "      <td>± 2.8%</td>\n",
       "      <td>0.40</td>\n",
       "      <td>0.41</td>\n",
       "      <td>0.19</td>\n",
       "      <td>2024</td>\n",
       "      <td>January</td>\n",
       "      <td>3</td>\n",
       "      <td>0.01</td>\n",
       "      <td>2024-01-03</td>\n",
       "    </tr>\n",
       "    <tr>\n",
       "      <th>19</th>\n",
       "      <td>Noble Predictive Insights</td>\n",
       "      <td>January 2–4, 2024</td>\n",
       "      <td>2,573 (RV)</td>\n",
       "      <td>± 2.0%</td>\n",
       "      <td>0.40</td>\n",
       "      <td>0.44</td>\n",
       "      <td>0.16</td>\n",
       "      <td>2024</td>\n",
       "      <td>January</td>\n",
       "      <td>2</td>\n",
       "      <td>0.04</td>\n",
       "      <td>2024-01-02</td>\n",
       "    </tr>\n",
       "    <tr>\n",
       "      <th>20</th>\n",
       "      <td>The Economist/YouGov</td>\n",
       "      <td>December 29, 2023 – January 2, 2024</td>\n",
       "      <td>1,343 (RV)</td>\n",
       "      <td>± 3.2%</td>\n",
       "      <td>0.44</td>\n",
       "      <td>0.44</td>\n",
       "      <td>0.12</td>\n",
       "      <td>2024</td>\n",
       "      <td>December</td>\n",
       "      <td>29,</td>\n",
       "      <td>0.00</td>\n",
       "      <td>2024-12-29</td>\n",
       "    </tr>\n",
       "  </tbody>\n",
       "</table>\n",
       "<p>180 rows × 12 columns</p>\n",
       "</div>"
      ],
      "text/plain": [
       "                  Poll source                                 Date  \\\n",
       "0                    ActiVote                 December 13–19, 2023   \n",
       "1     McLaughlin & Associates                 December 13–19, 2023   \n",
       "2        The Economist/YouGov                 December 16–18, 2023   \n",
       "3           YouGov/Yahoo News                 December 14–18, 2023   \n",
       "4       Quinnipiac University                 December 14–18, 2023   \n",
       "..                        ...                                  ...   \n",
       "16              Reuters/Ipsos                    January 3–9, 2024   \n",
       "17            Morning Consult                    January 5–8, 2024   \n",
       "18                   I&I/TIPP                    January 3–5, 2024   \n",
       "19  Noble Predictive Insights                    January 2–4, 2024   \n",
       "20       The Economist/YouGov  December 29, 2023 – January 2, 2024   \n",
       "\n",
       "   Samplesize[b] Marginof error  JoeBidenDemocratic  DonaldTrumpRepublican  \\\n",
       "0       841 (LV)         ± 3.4%                0.46                   0.54   \n",
       "1     1,000 (LV)              –                0.44                   0.47   \n",
       "2     1,336 (RV)         ± 3.2%                0.43                   0.43   \n",
       "3     1,027 (RV)              –                0.44                   0.44   \n",
       "4     1,647 (RV)         ± 2.4%                0.47                   0.46   \n",
       "..           ...            ...                 ...                    ...   \n",
       "16     4,677 (A)         ± 1.5%                0.48                   0.48   \n",
       "17    6,376 (RV)              –                0.43                   0.42   \n",
       "18    1,247 (RV)         ± 2.8%                0.40                   0.41   \n",
       "19    2,573 (RV)         ± 2.0%                0.40                   0.44   \n",
       "20    1,343 (RV)         ± 3.2%                0.44                   0.44   \n",
       "\n",
       "    Other/Undecided  Year     Month  Day  Spread   New Date  \n",
       "0              0.00  2023  December   13    0.08 2023-12-13  \n",
       "1              0.09  2023  December   13    0.03 2023-12-13  \n",
       "2              0.14  2023  December   16    0.00 2023-12-16  \n",
       "3              0.12  2023  December   14    0.00 2023-12-14  \n",
       "4              0.07  2023  December   14   -0.01 2023-12-14  \n",
       "..              ...   ...       ...  ...     ...        ...  \n",
       "16             0.04  2024   January    3    0.00 2024-01-03  \n",
       "17             0.15  2024   January    5   -0.01 2024-01-05  \n",
       "18             0.19  2024   January    3    0.01 2024-01-03  \n",
       "19             0.16  2024   January    2    0.04 2024-01-02  \n",
       "20             0.12  2024  December  29,    0.00 2024-12-29  \n",
       "\n",
       "[180 rows x 12 columns]"
      ]
     },
     "execution_count": 16,
     "metadata": {},
     "output_type": "execute_result"
    }
   ],
   "source": [
    "jbdt"
   ]
  },
  {
   "cell_type": "markdown",
   "metadata": {},
   "source": [
    "## For Next Time\n",
    "\n",
    "- Add a date column for the regression.\n",
    "- Goal is to essentially have poll company + date = next_poll spread \n",
    "- Look at white papers to see schedule for date. \n",
    "- Fit the model everyday, generate a prediction for every poll, and see if it comes out the next day. \n",
    "- Real-time predictions with errors. \n",
    "- Just do Joe-Biden Trump, print out predictions for most common polls; maybe make a .txt file output and then compare. \n",
    "- Real Clear Polling for that as the data source \n",
    "- Sentiment Analysis + Trending search terms\n",
    "- Plot polling aggregation by day accounting for some sort of bias by the polling companies. \n",
    "- Use some sort of standard time series model using all of the polling data. \n",
    "- Gaussian process, GAM, splines, time series, polynomial regression, for a more flexible model. \n",
    "\n",
    "Poll_outcome = poll company + time_since +....?\n",
    "\n",
    "Keep thinking about google trends somehow"
   ]
  },
  {
   "cell_type": "markdown",
   "metadata": {},
   "source": []
  }
 ],
 "metadata": {
  "kernelspec": {
   "display_name": "base",
   "language": "python",
   "name": "python3"
  },
  "language_info": {
   "codemirror_mode": {
    "name": "ipython",
    "version": 3
   },
   "file_extension": ".py",
   "mimetype": "text/x-python",
   "name": "python",
   "nbconvert_exporter": "python",
   "pygments_lexer": "ipython3",
   "version": "3.11.5"
  },
  "orig_nbformat": 4
 },
 "nbformat": 4,
 "nbformat_minor": 2
}
